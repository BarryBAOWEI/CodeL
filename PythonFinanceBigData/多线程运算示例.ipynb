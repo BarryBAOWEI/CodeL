{
 "cells": [
  {
   "cell_type": "code",
   "execution_count": 33,
   "metadata": {},
   "outputs": [],
   "source": [
    "import pandas as pd\n",
    "import numpy as np\n",
    "import multiprocessing as mp\n",
    "import datetime\n",
    "from joblib import Parallel, delayed\n",
    "import statsmodels.api as sm"
   ]
  },
  {
   "cell_type": "code",
   "execution_count": 34,
   "metadata": {},
   "outputs": [],
   "source": [
    "AllData = pd.read_excel('C:/Users/Thinkpad/Desktop/MultiTestData.xlsx',index_col=0)\n",
    "AllDataReturn = AllData.pct_change().dropna()\n",
    "\n",
    "def ComputeCorr(df):\n",
    "    corrList = []\n",
    "    for col in [i for i in df.columns if i != '沪深300']:\n",
    "        corrList.append(np.corrcoef(df['沪深300'],df[col])[0,1])\n",
    "        corr = np.mean(corrList)\n",
    "    return corr\n",
    "\n",
    "def ComputeRsquare(df):\n",
    "    y = df['沪深300']\n",
    "    X = df[[i for i in df.columns if i != '沪深300']]\n",
    "    rsquared = sm.OLS(y,X).fit().rsquared\n",
    "    return rsquared"
   ]
  },
  {
   "cell_type": "code",
   "execution_count": 35,
   "metadata": {
    "scrolled": true
   },
   "outputs": [
    {
     "name": "stdout",
     "output_type": "stream",
     "text": [
      "0:00:22.307321\n"
     ]
    }
   ],
   "source": [
    "t1 = datetime.datetime.now()\n",
    "dateList = AllDataReturn.index.tolist()\n",
    "saveCorrList = []\n",
    "win = 252\n",
    "for dateCnt in range(len(dateList)):\n",
    "    date = dateList[dateCnt]\n",
    "    AllDataReturnSub = AllDataReturn[AllDataReturn.index<=date].copy()\n",
    "    if len(AllDataReturnSub)<win:\n",
    "        corr = np.nan\n",
    "    else:\n",
    "        AllDataReturnSub = AllDataReturnSub.iloc[-win:,:].copy()\n",
    "        corr = ComputeRsquare(AllDataReturnSub)\n",
    "    saveCorrList.append(corr)\n",
    "RollingCorr = pd.DataFrame(saveCorrList,columns=['RollingCorr'],index = dateList)\n",
    "print(datetime.datetime.now()-t1)"
   ]
  },
  {
   "cell_type": "code",
   "execution_count": null,
   "metadata": {},
   "outputs": [],
   "source": [
    "'''\n",
    "窗口滚动计算 - 并行计算框架\n",
    "'''"
   ]
  },
  {
   "cell_type": "code",
   "execution_count": 37,
   "metadata": {},
   "outputs": [
    {
     "name": "stdout",
     "output_type": "stream",
     "text": [
      "0:00:04.347367\n"
     ]
    }
   ],
   "source": [
    "# 首先生成一个用于循环计算的迭代器\n",
    "DfList = []\n",
    "dateList = AllDataReturn.index.tolist()\n",
    "for dateCnt in range(len(dateList)):\n",
    "    date = dateList[dateCnt]\n",
    "    AllDataReturnSub = AllDataReturn[AllDataReturn.index<=date].copy()\n",
    "    AllDataReturnSub = AllDataReturnSub.iloc[-win:,:].copy()\n",
    "    DfList.append(AllDataReturnSub)\n",
    "\n",
    "t1 = datetime.datetime.now()\n",
    "\n",
    "# 对迭代器中每个元素的处理函数，长度不及滚动窗口则返回np.nan，否则使用计算函数\n",
    "def ComputeCorr(df):\n",
    "    corrList = []\n",
    "    for col in [i for i in df.columns if i != '沪深300']:\n",
    "        corrList.append(np.corrcoef(df['沪深300'],df[col])[0,1])\n",
    "        corr = np.mean(corrList)\n",
    "    return corr\n",
    "def MultiTask(df):\n",
    "    df = df.copy()\n",
    "    if len(df)<252:\n",
    "        corr = np.nan\n",
    "    else:\n",
    "        corr = ComputeCorr(df)\n",
    "    return corr\n",
    "\n",
    "saveCorrList = Parallel(n_jobs=mp.cpu_count())(delayed(MultiTask)(group) for group in DfList)\n",
    "\n",
    "RollingCorr = pd.DataFrame(saveCorrList,columns=['RollingCorr'],index = dateList)\n",
    "print(datetime.datetime.now()-t1)"
   ]
  },
  {
   "cell_type": "code",
   "execution_count": null,
   "metadata": {},
   "outputs": [],
   "source": []
  }
 ],
 "metadata": {
  "kernelspec": {
   "display_name": "Python 3",
   "language": "python",
   "name": "python3"
  },
  "language_info": {
   "codemirror_mode": {
    "name": "ipython",
    "version": 3
   },
   "file_extension": ".py",
   "mimetype": "text/x-python",
   "name": "python",
   "nbconvert_exporter": "python",
   "pygments_lexer": "ipython3",
   "version": "3.7.3"
  }
 },
 "nbformat": 4,
 "nbformat_minor": 2
}
