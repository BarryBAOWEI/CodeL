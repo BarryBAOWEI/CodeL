{
 "cells": [
  {
   "cell_type": "markdown",
   "metadata": {},
   "source": [
    "# Web Integration"
   ]
  },
  {
   "cell_type": "markdown",
   "metadata": {},
   "source": [
    "## Web Basics"
   ]
  },
  {
   "cell_type": "markdown",
   "metadata": {},
   "source": [
    "### ftplib"
   ]
  },
  {
   "cell_type": "code",
   "execution_count": 1,
   "metadata": {
    "collapsed": false,
    "uuid": "ed06650f-c346-4211-a504-918431567c00"
   },
   "outputs": [],
   "source": [
    "import ftplib\n",
    "import numpy as np"
   ]
  },
  {
   "cell_type": "code",
   "execution_count": 2,
   "metadata": {
    "collapsed": false,
    "uuid": "f9533953-66c8-428e-8476-fb9b5320cbc3"
   },
   "outputs": [],
   "source": [
    "ftp = ftplib.FTP('quant-platform.com')"
   ]
  },
  {
   "cell_type": "code",
   "execution_count": 93,
   "metadata": {
    "collapsed": false,
    "uuid": "72343084-5e71-42bc-9649-acedaf9bf9b9"
   },
   "outputs": [],
   "source": [
    "#   Need User/Password\n",
    "#ftp.login(user='python', passwd='python')"
   ]
  },
  {
   "cell_type": "code",
   "execution_count": 5,
   "metadata": {
    "collapsed": false,
    "uuid": "bb8b9a5f-2482-4c21-bb52-c5f0c659121b"
   },
   "outputs": [],
   "source": [
    "np.save('./data/array', np.random.standard_normal((100, 100)))"
   ]
  },
  {
   "cell_type": "code",
   "execution_count": 6,
   "metadata": {
    "collapsed": false,
    "uuid": "1e23d513-1cbc-4dff-87c8-35bbefd552ea"
   },
   "outputs": [],
   "source": [
    "f = open('./data/array.npy', 'r')"
   ]
  },
  {
   "cell_type": "code",
   "execution_count": 94,
   "metadata": {
    "collapsed": false,
    "uuid": "d7723e2d-8a38-4e76-b18d-47e804bbb9e5"
   },
   "outputs": [],
   "source": [
    "#ftp.storbinary('STOR array.npy', f)"
   ]
  },
  {
   "cell_type": "code",
   "execution_count": 95,
   "metadata": {
    "collapsed": false,
    "uuid": "2827d953-cfad-44d3-a2bf-67cf5863a1f7"
   },
   "outputs": [],
   "source": [
    "#ftp.retrlines('LIST')"
   ]
  },
  {
   "cell_type": "code",
   "execution_count": 9,
   "metadata": {
    "collapsed": false,
    "uuid": "90b28799-36f2-4591-8767-d01b85322596"
   },
   "outputs": [],
   "source": [
    "f = open('./data/array_ftp.npy', 'wb').write"
   ]
  },
  {
   "cell_type": "code",
   "execution_count": 96,
   "metadata": {
    "collapsed": false,
    "uuid": "bda461e0-6d17-4011-8d12-cae2658b0938"
   },
   "outputs": [],
   "source": [
    "#ftp.retrbinary('RETR array.npy', f)"
   ]
  },
  {
   "cell_type": "code",
   "execution_count": 97,
   "metadata": {
    "collapsed": false,
    "uuid": "fd643a77-53a7-4b88-80a1-992d37141e1b"
   },
   "outputs": [],
   "source": [
    "#ftp.delete('array.npy')"
   ]
  },
  {
   "cell_type": "code",
   "execution_count": 98,
   "metadata": {
    "collapsed": false,
    "uuid": "b248ab34-3f84-434b-a4cf-75d3bef1f8fe"
   },
   "outputs": [],
   "source": [
    "#ftp.retrlines('LIST')"
   ]
  },
  {
   "cell_type": "code",
   "execution_count": 13,
   "metadata": {
    "collapsed": false,
    "uuid": "372f7d6f-928a-436c-bf64-13b0aa994620"
   },
   "outputs": [],
   "source": [
    "ftp.close()"
   ]
  },
  {
   "cell_type": "code",
   "execution_count": 14,
   "metadata": {
    "collapsed": false,
    "uuid": "a1d9022c-bd30-43e1-b3c7-95bfefe6f60e"
   },
   "outputs": [],
   "source": [
    "#!ls -n ./data"
   ]
  },
  {
   "cell_type": "code",
   "execution_count": 15,
   "metadata": {
    "collapsed": false,
    "uuid": "ed6eb7c9-0004-42a7-b0b3-0e1aa5f27ae1"
   },
   "outputs": [],
   "source": [
    "#!rm -f ./data/arr*\n",
    "  # clean-up directory"
   ]
  },
  {
   "cell_type": "code",
   "execution_count": 16,
   "metadata": {
    "collapsed": false,
    "uuid": "f51de772-ad07-4983-8914-d60383fc0393"
   },
   "outputs": [],
   "source": [
    "ftps = ftplib.FTP_TLS('quant-platform.com')"
   ]
  },
  {
   "cell_type": "code",
   "execution_count": 99,
   "metadata": {
    "collapsed": false,
    "uuid": "442158b0-2c8a-47f5-a60d-3019c687b196"
   },
   "outputs": [],
   "source": [
    "# Need User/Password\n",
    "#ftps.login(user='python', passwd='python')"
   ]
  },
  {
   "cell_type": "code",
   "execution_count": 17,
   "metadata": {
    "collapsed": false,
    "uuid": "a8ab8f48-5524-423c-936f-b045ac5dc3b0"
   },
   "outputs": [
    {
     "data": {
      "text/plain": [
       "'200 PROT now Private.'"
      ]
     },
     "execution_count": 17,
     "metadata": {},
     "output_type": "execute_result"
    }
   ],
   "source": [
    "ftps.prot_p()"
   ]
  },
  {
   "cell_type": "code",
   "execution_count": 18,
   "metadata": {
    "collapsed": false,
    "uuid": "80d163ef-151d-4536-8e16-7fc0774db409"
   },
   "outputs": [
    {
     "data": {
      "text/plain": [
       "'226 Directory send OK.'"
      ]
     },
     "execution_count": 18,
     "metadata": {},
     "output_type": "execute_result"
    }
   ],
   "source": [
    "ftps.retrlines('LIST')"
   ]
  },
  {
   "cell_type": "code",
   "execution_count": 19,
   "metadata": {
    "collapsed": false,
    "uuid": "6cb73378-f642-4627-89a9-f6f69f076d9a"
   },
   "outputs": [],
   "source": [
    "ftps.close()"
   ]
  },
  {
   "cell_type": "markdown",
   "metadata": {},
   "source": [
    "### httplib"
   ]
  },
  {
   "cell_type": "code",
   "execution_count": 100,
   "metadata": {
    "collapsed": false,
    "uuid": "0d79f4d1-5d93-4c9d-9d62-40dc4981a457"
   },
   "outputs": [],
   "source": [
    "import httplib"
   ]
  },
  {
   "cell_type": "code",
   "execution_count": 101,
   "metadata": {
    "collapsed": false,
    "uuid": "d665bdf3-fc62-46c0-8f7f-ff125f12ca51"
   },
   "outputs": [],
   "source": [
    "http = httplib.HTTPConnection('hilpisch.com')"
   ]
  },
  {
   "cell_type": "code",
   "execution_count": 102,
   "metadata": {
    "collapsed": false,
    "uuid": "9285e3ee-2035-4816-897f-4c9e2c7c8ef0"
   },
   "outputs": [],
   "source": [
    "http.request('GET', '/index.htm')"
   ]
  },
  {
   "cell_type": "code",
   "execution_count": 103,
   "metadata": {
    "collapsed": false,
    "uuid": "18a7deaf-ba30-440f-88e7-fd6c90245661"
   },
   "outputs": [],
   "source": [
    "resp = http.getresponse()"
   ]
  },
  {
   "cell_type": "code",
   "execution_count": 104,
   "metadata": {
    "collapsed": false,
    "uuid": "ca638e56-6667-4eea-af63-c2be54c86b9c"
   },
   "outputs": [
    {
     "data": {
      "text/plain": [
       "(200, 'OK')"
      ]
     },
     "execution_count": 104,
     "metadata": {},
     "output_type": "execute_result"
    }
   ],
   "source": [
    "resp.status, resp.reason"
   ]
  },
  {
   "cell_type": "code",
   "execution_count": 105,
   "metadata": {
    "collapsed": false,
    "uuid": "ea7a144c-81bc-4cab-9132-c70af19773d3"
   },
   "outputs": [
    {
     "data": {
      "text/plain": [
       "'<!doctype html>\\n<html lang=\"en\">\\n\\n\\t<head>\\n\\t\\t<meta charset=\"utf-8\">\\n\\n\\t\\t<title>Dr. Yves J. Hilpisch \\xe2\\x80'"
      ]
     },
     "execution_count": 105,
     "metadata": {},
     "output_type": "execute_result"
    }
   ],
   "source": [
    "content = resp.read()\n",
    "content[:100]\n",
    "  # first 100 characters of the file"
   ]
  },
  {
   "cell_type": "code",
   "execution_count": 106,
   "metadata": {
    "collapsed": false,
    "uuid": "f8ca3902-3e86-4398-8aa7-e301a0706871"
   },
   "outputs": [
    {
     "data": {
      "text/plain": [
       "2294"
      ]
     },
     "execution_count": 106,
     "metadata": {},
     "output_type": "execute_result"
    }
   ],
   "source": [
    "index = content.find(' E ')\n",
    "index"
   ]
  },
  {
   "cell_type": "code",
   "execution_count": 107,
   "metadata": {
    "collapsed": false,
    "uuid": "4cbca133-e69f-4f1f-8378-de0a212a6fdd"
   },
   "outputs": [
    {
     "data": {
      "text/plain": [
       "' E contact [at] dyjh [dot] de'"
      ]
     },
     "execution_count": 107,
     "metadata": {},
     "output_type": "execute_result"
    }
   ],
   "source": [
    "content[index:index + 29]"
   ]
  },
  {
   "cell_type": "code",
   "execution_count": 108,
   "metadata": {
    "collapsed": false,
    "uuid": "e1d9bb7e-2429-4a3b-8ad2-ce8e20f398d1"
   },
   "outputs": [],
   "source": [
    "http.close()"
   ]
  },
  {
   "cell_type": "markdown",
   "metadata": {},
   "source": [
    "### urllib"
   ]
  },
  {
   "cell_type": "code",
   "execution_count": 109,
   "metadata": {
    "collapsed": false,
    "uuid": "7a44c652-b62f-4974-b7be-c1c708c432d2"
   },
   "outputs": [],
   "source": [
    "import urllib"
   ]
  },
  {
   "cell_type": "code",
   "execution_count": 110,
   "metadata": {
    "collapsed": false,
    "uuid": "eeeecf85-e182-44d1-96ca-dfa7c7b770e0"
   },
   "outputs": [],
   "source": [
    "url = 'http://ichart.finance.yahoo.com/table.csv?g=d&ignore=.csv'\n",
    "url += '&s=YHOO&a=01&b=1&c=2014&d=02&e=6&f=2014'"
   ]
  },
  {
   "cell_type": "code",
   "execution_count": 111,
   "metadata": {
    "collapsed": false,
    "uuid": "d0222eb9-e696-477e-9647-adf7296153ac"
   },
   "outputs": [],
   "source": [
    "#connect = urllib.urlopen(url)"
   ]
  },
  {
   "cell_type": "code",
   "execution_count": 112,
   "metadata": {
    "collapsed": false,
    "uuid": "afb60cb7-6822-438a-81fd-43cdaca9290c"
   },
   "outputs": [
    {
     "data": {
      "text/html": [
       "<div>\n",
       "<table border=\"1\" class=\"dataframe\">\n",
       "  <thead>\n",
       "    <tr style=\"text-align: right;\">\n",
       "      <th></th>\n",
       "      <th>Date</th>\n",
       "      <th>Open</th>\n",
       "      <th>High</th>\n",
       "      <th>Low</th>\n",
       "      <th>Close</th>\n",
       "      <th>Volume</th>\n",
       "      <th>Adj Close</th>\n",
       "    </tr>\n",
       "  </thead>\n",
       "  <tbody>\n",
       "    <tr>\n",
       "      <th>0</th>\n",
       "      <td>25-Oct-17</td>\n",
       "      <td>78.58</td>\n",
       "      <td>79.10</td>\n",
       "      <td>78.01</td>\n",
       "      <td>78.63</td>\n",
       "      <td>20410808</td>\n",
       "      <td>78.63</td>\n",
       "    </tr>\n",
       "    <tr>\n",
       "      <th>1</th>\n",
       "      <td>24-Oct-17</td>\n",
       "      <td>78.90</td>\n",
       "      <td>79.20</td>\n",
       "      <td>78.46</td>\n",
       "      <td>78.86</td>\n",
       "      <td>17349600</td>\n",
       "      <td>78.86</td>\n",
       "    </tr>\n",
       "    <tr>\n",
       "      <th>2</th>\n",
       "      <td>23-Oct-17</td>\n",
       "      <td>78.99</td>\n",
       "      <td>79.34</td>\n",
       "      <td>78.76</td>\n",
       "      <td>78.83</td>\n",
       "      <td>20627200</td>\n",
       "      <td>78.83</td>\n",
       "    </tr>\n",
       "    <tr>\n",
       "      <th>3</th>\n",
       "      <td>20-Oct-17</td>\n",
       "      <td>78.32</td>\n",
       "      <td>78.97</td>\n",
       "      <td>78.22</td>\n",
       "      <td>78.81</td>\n",
       "      <td>22866400</td>\n",
       "      <td>78.81</td>\n",
       "    </tr>\n",
       "    <tr>\n",
       "      <th>4</th>\n",
       "      <td>19-Oct-17</td>\n",
       "      <td>77.57</td>\n",
       "      <td>77.93</td>\n",
       "      <td>77.35</td>\n",
       "      <td>77.91</td>\n",
       "      <td>15092800</td>\n",
       "      <td>77.91</td>\n",
       "    </tr>\n",
       "  </tbody>\n",
       "</table>\n",
       "</div>"
      ],
      "text/plain": [
       "        Date   Open   High    Low  Close    Volume  Adj Close\n",
       "0  25-Oct-17  78.58  79.10  78.01  78.63  20410808      78.63\n",
       "1  24-Oct-17  78.90  79.20  78.46  78.86  17349600      78.86\n",
       "2  23-Oct-17  78.99  79.34  78.76  78.83  20627200      78.83\n",
       "3  20-Oct-17  78.32  78.97  78.22  78.81  22866400      78.81\n",
       "4  19-Oct-17  77.57  77.93  77.35  77.91  15092800      77.91"
      ]
     },
     "execution_count": 112,
     "metadata": {},
     "output_type": "execute_result"
    }
   ],
   "source": [
    "#data = connect.read()\n",
    "data = pd.read_csv('data/msft.csv')\n",
    "data[:5]"
   ]
  },
  {
   "cell_type": "code",
   "execution_count": 113,
   "metadata": {
    "collapsed": false,
    "uuid": "b97fa159-af2c-4d4c-bd07-3b26e4942f86"
   },
   "outputs": [
    {
     "name": "stdout",
     "output_type": "stream",
     "text": [
      "          Date   Open   High    Low  Close    Volume  Adj Close\n",
      "0    25-Oct-17  78.58  79.10  78.01  78.63  20410808      78.63\n",
      "1    24-Oct-17  78.90  79.20  78.46  78.86  17349600      78.86\n",
      "2    23-Oct-17  78.99  79.34  78.76  78.83  20627200      78.83\n",
      "3    20-Oct-17  78.32  78.97  78.22  78.81  22866400      78.81\n",
      "4    19-Oct-17  77.57  77.93  77.35  77.91  15092800      77.91\n",
      "5    18-Oct-17  77.67  77.85  77.37  77.61  13300700      77.61\n",
      "6    17-Oct-17  77.47  77.62  77.25  77.59  16824000      77.59\n",
      "7    16-Oct-17  77.42  77.81  77.35  77.65  12380100      77.65\n",
      "8    13-Oct-17  77.59  77.87  77.29  77.49  15335700      77.49\n",
      "9    12-Oct-17  76.49  77.29  76.37  77.12  16876500      77.12\n",
      "10   11-Oct-17  76.36  76.46  75.95  76.42  15388900      76.42\n",
      "11   10-Oct-17  76.33  76.63  76.14  76.29  13944500      76.29\n",
      "12    9-Oct-17  75.97  76.55  75.86  76.29  11386500      76.29\n",
      "13    6-Oct-17  75.67  76.03  75.54  76.00  13959800      76.00\n",
      "14    5-Oct-17  75.22  76.12  74.96  75.97  21195300      75.97\n",
      "15    4-Oct-17  74.09  74.72  73.71  74.69  13317700      74.69\n",
      "16    3-Oct-17  74.67  74.88  74.19  74.26  12190400      74.26\n",
      "17    2-Oct-17  74.71  75.01  74.30  74.61  15304800      74.61\n",
      "18   29-Sep-17  73.94  74.54  73.88  74.49  17079100      74.49\n",
      "19   28-Sep-17  73.54  73.97  73.31  73.87  10883800      73.87\n",
      "20   27-Sep-17  73.55  74.17  73.17  73.85  19565100      73.85\n",
      "21   26-Sep-17  73.67  73.81  72.99  73.26  18019600      73.26\n",
      "22   25-Sep-17  74.09  74.25  72.92  73.26  24149200      73.26\n",
      "23   22-Sep-17  73.99  74.51  73.85  74.41  14111400      74.41\n",
      "24   21-Sep-17  75.11  75.24  74.11  74.21  19186100      74.21\n",
      "25   20-Sep-17  75.35  75.55  74.31  74.94  21587900      74.94\n",
      "26   19-Sep-17  75.21  75.71  75.01  75.44  16093300      75.44\n",
      "27   18-Sep-17  75.23  75.97  75.04  75.16  23307000      75.16\n",
      "28   15-Sep-17  74.83  75.39  74.07  75.31  38578400      75.31\n",
      "29   14-Sep-17  75.00  75.49  74.52  74.77  15733900      74.77\n",
      "..         ...    ...    ...    ...    ...       ...        ...\n",
      "222   7-Dec-16  60.01  61.38  59.80  61.37  30809000      60.33\n",
      "223   6-Dec-16  60.43  60.46  59.80  59.95  19907000      58.94\n",
      "224   5-Dec-16  59.70  60.59  59.56  60.22  23552700      59.20\n",
      "225   2-Dec-16  59.08  59.47  58.80  59.25  25515700      58.25\n",
      "226   1-Dec-16  60.11  60.15  58.94  59.20  34542100      58.20\n",
      "227  30-Nov-16  60.86  61.18  60.22  60.26  34655400      59.24\n",
      "228  29-Nov-16  60.65  61.41  60.52  61.09  22366700      60.06\n",
      "229  28-Nov-16  60.34  61.02  60.21  60.61  20732600      59.58\n",
      "230  25-Nov-16  60.30  60.53  60.13  60.53   8409600      59.51\n",
      "231  23-Nov-16  61.01  61.10  60.25  60.40  21847200      59.38\n",
      "232  22-Nov-16  60.98  61.26  60.81  61.12  23206700      60.09\n",
      "233  21-Nov-16  60.50  60.97  60.42  60.86  19652600      59.83\n",
      "234  18-Nov-16  60.78  61.14  60.30  60.35  27686300      59.33\n",
      "235  17-Nov-16  60.41  60.95  59.97  60.64  32132700      59.61\n",
      "236  16-Nov-16  58.94  59.66  58.81  59.65  26851400      58.64\n",
      "237  15-Nov-16  58.33  59.49  58.32  58.87  35904100      57.87\n",
      "238  14-Nov-16  59.02  59.08  57.28  58.12  40861900      56.75\n",
      "239  11-Nov-16  58.23  59.12  58.01  59.02  38767800      57.63\n",
      "240  10-Nov-16  60.48  60.49  57.63  58.70  57822400      57.32\n",
      "241   9-Nov-16  60.00  60.59  59.20  60.17  49632500      58.75\n",
      "242   8-Nov-16  60.55  60.78  60.15  60.47  22862000      59.05\n",
      "243   7-Nov-16  59.78  60.52  59.78  60.42  31664800      59.00\n",
      "244   4-Nov-16  58.65  59.28  58.52  58.71  28697000      57.33\n",
      "245   3-Nov-16  59.53  59.64  59.11  59.21  21600400      57.82\n",
      "246   2-Nov-16  59.82  59.93  59.30  59.43  22147000      58.03\n",
      "247   1-Nov-16  59.97  60.02  59.25  59.80  24533000      58.39\n",
      "248  31-Oct-16  60.16  60.42  59.92  59.92  26434700      58.51\n",
      "249  28-Oct-16  60.01  60.52  59.58  59.87  33574700      58.46\n",
      "250  27-Oct-16  60.61  60.83  60.09  60.10  28479900      58.69\n",
      "251  26-Oct-16  60.81  61.20  60.47  60.63  29911600      59.20\n",
      "\n",
      "[252 rows x 7 columns]\n"
     ]
    }
   ],
   "source": [
    "print data"
   ]
  },
  {
   "cell_type": "code",
   "execution_count": 32,
   "metadata": {
    "collapsed": false,
    "uuid": "18dc3eb4-eda6-42f2-b1f8-01454b6303f1"
   },
   "outputs": [],
   "source": [
    "url = 'http://ichart.finance.yahoo.com/table.csv?g=d&ignore=.csv'\n",
    "url += '&%s'  # for replacement with parameters\n",
    "url += '&d=06&e=30&f=2014'"
   ]
  },
  {
   "cell_type": "code",
   "execution_count": 33,
   "metadata": {
    "collapsed": false,
    "uuid": "92201ad4-66a0-4c39-b0e0-2ac94182dcc2"
   },
   "outputs": [],
   "source": [
    "params = urllib.urlencode({'s': 'MSFT', 'a': '05', 'b': 1, 'c': 2014})"
   ]
  },
  {
   "cell_type": "code",
   "execution_count": 34,
   "metadata": {
    "collapsed": false,
    "uuid": "fe19bda7-77d7-40a8-8b6a-a6fbadf29223"
   },
   "outputs": [
    {
     "data": {
      "text/plain": [
       "'a=05&s=MSFT&b=1&c=2014'"
      ]
     },
     "execution_count": 34,
     "metadata": {},
     "output_type": "execute_result"
    }
   ],
   "source": [
    "params"
   ]
  },
  {
   "cell_type": "code",
   "execution_count": 35,
   "metadata": {
    "collapsed": false,
    "uuid": "3013909d-ce21-4d68-a679-f2fd91f5e104"
   },
   "outputs": [
    {
     "data": {
      "text/plain": [
       "'http://ichart.finance.yahoo.com/table.csv?g=d&ignore=.csv&a=05&s=MSFT&b=1&c=2014&d=06&e=30&f=2014'"
      ]
     },
     "execution_count": 35,
     "metadata": {},
     "output_type": "execute_result"
    }
   ],
   "source": [
    "url % params"
   ]
  },
  {
   "cell_type": "code",
   "execution_count": 36,
   "metadata": {
    "collapsed": false,
    "uuid": "a291f6f5-cc24-47c1-a07b-d7cf5ffbfaf1"
   },
   "outputs": [],
   "source": [
    "#connect = urllib.urlopen(url % params)"
   ]
  },
  {
   "cell_type": "code",
   "execution_count": 37,
   "metadata": {
    "collapsed": false,
    "uuid": "fb09a069-94f6-4175-9515-7f2758b367af"
   },
   "outputs": [],
   "source": [
    "#data = connect.read()\n",
    "data = pd.read_csv('data/msft.csv')"
   ]
  },
  {
   "cell_type": "code",
   "execution_count": 38,
   "metadata": {
    "collapsed": false,
    "uuid": "5d288e85-ba12-4c37-adbc-42fd8d00b7d3"
   },
   "outputs": [
    {
     "name": "stdout",
     "output_type": "stream",
     "text": [
      "          Date   Open   High    Low  Close    Volume  Adj Close\n",
      "0    25-Oct-17  78.58  79.10  78.01  78.63  20410808      78.63\n",
      "1    24-Oct-17  78.90  79.20  78.46  78.86  17349600      78.86\n",
      "2    23-Oct-17  78.99  79.34  78.76  78.83  20627200      78.83\n",
      "3    20-Oct-17  78.32  78.97  78.22  78.81  22866400      78.81\n",
      "4    19-Oct-17  77.57  77.93  77.35  77.91  15092800      77.91\n",
      "5    18-Oct-17  77.67  77.85  77.37  77.61  13300700      77.61\n",
      "6    17-Oct-17  77.47  77.62  77.25  77.59  16824000      77.59\n",
      "7    16-Oct-17  77.42  77.81  77.35  77.65  12380100      77.65\n",
      "8    13-Oct-17  77.59  77.87  77.29  77.49  15335700      77.49\n",
      "9    12-Oct-17  76.49  77.29  76.37  77.12  16876500      77.12\n",
      "10   11-Oct-17  76.36  76.46  75.95  76.42  15388900      76.42\n",
      "11   10-Oct-17  76.33  76.63  76.14  76.29  13944500      76.29\n",
      "12    9-Oct-17  75.97  76.55  75.86  76.29  11386500      76.29\n",
      "13    6-Oct-17  75.67  76.03  75.54  76.00  13959800      76.00\n",
      "14    5-Oct-17  75.22  76.12  74.96  75.97  21195300      75.97\n",
      "15    4-Oct-17  74.09  74.72  73.71  74.69  13317700      74.69\n",
      "16    3-Oct-17  74.67  74.88  74.19  74.26  12190400      74.26\n",
      "17    2-Oct-17  74.71  75.01  74.30  74.61  15304800      74.61\n",
      "18   29-Sep-17  73.94  74.54  73.88  74.49  17079100      74.49\n",
      "19   28-Sep-17  73.54  73.97  73.31  73.87  10883800      73.87\n",
      "20   27-Sep-17  73.55  74.17  73.17  73.85  19565100      73.85\n",
      "21   26-Sep-17  73.67  73.81  72.99  73.26  18019600      73.26\n",
      "22   25-Sep-17  74.09  74.25  72.92  73.26  24149200      73.26\n",
      "23   22-Sep-17  73.99  74.51  73.85  74.41  14111400      74.41\n",
      "24   21-Sep-17  75.11  75.24  74.11  74.21  19186100      74.21\n",
      "25   20-Sep-17  75.35  75.55  74.31  74.94  21587900      74.94\n",
      "26   19-Sep-17  75.21  75.71  75.01  75.44  16093300      75.44\n",
      "27   18-Sep-17  75.23  75.97  75.04  75.16  23307000      75.16\n",
      "28   15-Sep-17  74.83  75.39  74.07  75.31  38578400      75.31\n",
      "29   14-Sep-17  75.00  75.49  74.52  74.77  15733900      74.77\n",
      "..         ...    ...    ...    ...    ...       ...        ...\n",
      "222   7-Dec-16  60.01  61.38  59.80  61.37  30809000      60.33\n",
      "223   6-Dec-16  60.43  60.46  59.80  59.95  19907000      58.94\n",
      "224   5-Dec-16  59.70  60.59  59.56  60.22  23552700      59.20\n",
      "225   2-Dec-16  59.08  59.47  58.80  59.25  25515700      58.25\n",
      "226   1-Dec-16  60.11  60.15  58.94  59.20  34542100      58.20\n",
      "227  30-Nov-16  60.86  61.18  60.22  60.26  34655400      59.24\n",
      "228  29-Nov-16  60.65  61.41  60.52  61.09  22366700      60.06\n",
      "229  28-Nov-16  60.34  61.02  60.21  60.61  20732600      59.58\n",
      "230  25-Nov-16  60.30  60.53  60.13  60.53   8409600      59.51\n",
      "231  23-Nov-16  61.01  61.10  60.25  60.40  21847200      59.38\n",
      "232  22-Nov-16  60.98  61.26  60.81  61.12  23206700      60.09\n",
      "233  21-Nov-16  60.50  60.97  60.42  60.86  19652600      59.83\n",
      "234  18-Nov-16  60.78  61.14  60.30  60.35  27686300      59.33\n",
      "235  17-Nov-16  60.41  60.95  59.97  60.64  32132700      59.61\n",
      "236  16-Nov-16  58.94  59.66  58.81  59.65  26851400      58.64\n",
      "237  15-Nov-16  58.33  59.49  58.32  58.87  35904100      57.87\n",
      "238  14-Nov-16  59.02  59.08  57.28  58.12  40861900      56.75\n",
      "239  11-Nov-16  58.23  59.12  58.01  59.02  38767800      57.63\n",
      "240  10-Nov-16  60.48  60.49  57.63  58.70  57822400      57.32\n",
      "241   9-Nov-16  60.00  60.59  59.20  60.17  49632500      58.75\n",
      "242   8-Nov-16  60.55  60.78  60.15  60.47  22862000      59.05\n",
      "243   7-Nov-16  59.78  60.52  59.78  60.42  31664800      59.00\n",
      "244   4-Nov-16  58.65  59.28  58.52  58.71  28697000      57.33\n",
      "245   3-Nov-16  59.53  59.64  59.11  59.21  21600400      57.82\n",
      "246   2-Nov-16  59.82  59.93  59.30  59.43  22147000      58.03\n",
      "247   1-Nov-16  59.97  60.02  59.25  59.80  24533000      58.39\n",
      "248  31-Oct-16  60.16  60.42  59.92  59.92  26434700      58.51\n",
      "249  28-Oct-16  60.01  60.52  59.58  59.87  33574700      58.46\n",
      "250  27-Oct-16  60.61  60.83  60.09  60.10  28479900      58.69\n",
      "251  26-Oct-16  60.81  61.20  60.47  60.63  29911600      59.20\n",
      "\n",
      "[252 rows x 7 columns]\n"
     ]
    }
   ],
   "source": [
    "print data"
   ]
  },
  {
   "cell_type": "code",
   "execution_count": 40,
   "metadata": {
    "collapsed": false,
    "uuid": "60b60a3a-2cce-4f97-aaa7-c042f2e60279"
   },
   "outputs": [],
   "source": [
    "#urllib.urlretrieve(url % params, './data/msft.csv')"
   ]
  },
  {
   "cell_type": "code",
   "execution_count": 41,
   "metadata": {
    "collapsed": false,
    "uuid": "acf4d984-2ff8-4258-9a6c-87a86ee2f116"
   },
   "outputs": [
    {
     "data": {
      "text/plain": [
       "['Date,Open,High,Low,Close,Volume,Adj Close\\n',\n",
       " '25-Oct-17,78.58,79.1,78.01,78.63,20410808,78.63\\n',\n",
       " '24-Oct-17,78.9,79.2,78.46,78.86,17349600,78.86\\n',\n",
       " '23-Oct-17,78.99,79.34,78.76,78.83,20627200,78.83\\n',\n",
       " '20-Oct-17,78.32,78.97,78.22,78.81,22866400,78.81\\n']"
      ]
     },
     "execution_count": 41,
     "metadata": {},
     "output_type": "execute_result"
    }
   ],
   "source": [
    "csv = open('./data/msft.csv', 'r')\n",
    "csv.readlines()[:5]"
   ]
  },
  {
   "cell_type": "code",
   "execution_count": 42,
   "metadata": {
    "collapsed": false,
    "uuid": "62d5e85b-1590-450c-9018-746e6872f1fa"
   },
   "outputs": [
    {
     "name": "stderr",
     "output_type": "stream",
     "text": [
      "'rm' 不是内部或外部命令，也不是可运行的程序\n",
      "或批处理文件。\n"
     ]
    }
   ],
   "source": [
    "!rm -f ./data/*"
   ]
  },
  {
   "cell_type": "markdown",
   "metadata": {},
   "source": [
    "## Web Plotting"
   ]
  },
  {
   "cell_type": "markdown",
   "metadata": {},
   "source": [
    "### Static Plots"
   ]
  },
  {
   "cell_type": "code",
   "execution_count": 43,
   "metadata": {
    "collapsed": false,
    "uuid": "bb617800-1dc9-4cb9-a7b7-2b8cd16cf0b2"
   },
   "outputs": [],
   "source": [
    "import numpy as np\n",
    "import pandas as pd\n",
    "%matplotlib inline"
   ]
  },
  {
   "cell_type": "code",
   "execution_count": 44,
   "metadata": {
    "collapsed": false,
    "uuid": "8e1e8943-d88d-4b61-bf19-15e55bebfb3a"
   },
   "outputs": [],
   "source": [
    "url = 'http://ichart.yahoo.com/table.csv?s=MSFT&a=0&b=1&c=2009'\n",
    "#data = pd.read_csv(url, parse_dates=['Date'])\n",
    "data = pd.read_csv('data/msft.csv')"
   ]
  },
  {
   "cell_type": "code",
   "execution_count": 45,
   "metadata": {
    "collapsed": false,
    "uuid": "ca6562c0-9932-4d5c-9811-4512e717fac3"
   },
   "outputs": [
    {
     "data": {
      "text/plain": [
       "<matplotlib.axes._subplots.AxesSubplot at 0xf49b588>"
      ]
     },
     "execution_count": 45,
     "metadata": {},
     "output_type": "execute_result"
    },
    {
     "data": {
      "image/png": "[encoded data removed]",
      "text/plain": [
       "<matplotlib.figure.Figure at 0xf49beb8>"
      ]
     },
     "metadata": {},
     "output_type": "display_data"
    }
   ],
   "source": [
    "import matplotlib.pyplot as plt\n",
    "fig, ax = plt.subplots()\n",
    "data.plot(x='Date', y='Close', grid=True, ax=ax)\n",
    "# tag: microsoft\n",
    "# title: Historical stock prices for Microsoft since January 2009 (+matplotlib+)"
   ]
  },
  {
   "cell_type": "markdown",
   "metadata": {},
   "source": [
    "### Interactive Plots"
   ]
  },
  {
   "cell_type": "markdown",
   "metadata": {},
   "source": [
    "**REMARK**: The original version used Bokeh for Web plotting. Plotly seems to be the more easy and intuitive way for generating interactive D3.js Web plots."
   ]
  },
  {
   "cell_type": "code",
   "execution_count": 46,
   "metadata": {
    "collapsed": false,
    "uuid": "be442f01-3953-4343-b58e-b192628af852"
   },
   "outputs": [],
   "source": [
    "#  conda install plotly\n",
    "#  conda install cufflinks\n",
    "import plotly.plotly as py\n",
    "#import cufflinks as cf\n",
    "py.sign_in('Python-Demo-Account', 'gwt101uhh0')"
   ]
  },
  {
   "cell_type": "code",
   "execution_count": 48,
   "metadata": {
    "collapsed": false,
    "uuid": "a83653f0-d602-4bdb-b2ae-6379c50e6f1c"
   },
   "outputs": [],
   "source": [
    "# transforming the above mpl figure\n",
    "# to interactive D3.js plot\n",
    "#py.iplot_mpl(fig)"
   ]
  },
  {
   "cell_type": "code",
   "execution_count": 50,
   "metadata": {
    "collapsed": false
   },
   "outputs": [],
   "source": [
    "# direct approach with Cufflinks\n",
    "#data.set_index('Date')['Close'].iplot(world_readable=True)"
   ]
  },
  {
   "cell_type": "markdown",
   "metadata": {},
   "source": [
    "### Real-Time Plots"
   ]
  },
  {
   "cell_type": "markdown",
   "metadata": {},
   "source": [
    "#### Real-Time FX Data"
   ]
  },
  {
   "cell_type": "code",
   "execution_count": 51,
   "metadata": {
    "collapsed": false,
    "uuid": "9adef26f-fc9c-42f2-b203-1387c6ff0b35"
   },
   "outputs": [],
   "source": [
    "import time\n",
    "import pandas as pd\n",
    "import datetime as dt\n",
    "import requests"
   ]
  },
  {
   "cell_type": "code",
   "execution_count": 52,
   "metadata": {
    "collapsed": false,
    "uuid": "f8cd1e89-f329-411e-9589-79f56fae6d90"
   },
   "outputs": [],
   "source": [
    "#url = 'http://api-sandbox.oanda.com/v1/prices?instruments=%s'\n",
    "#instrument = 'EUR_USD'\n",
    "#api = requests.get(url % instrument)\n",
    "\n",
    "  # real-time FX (dummy!) data from JSON API"
   ]
  },
  {
   "cell_type": "code",
   "execution_count": 64,
   "metadata": {
    "collapsed": false,
    "uuid": "592c5d7c-45be-4bfd-92a1-4b0f1a80c551"
   },
   "outputs": [],
   "source": [
    "#Need  Password and Authority\n",
    "url = 'http://api-sandbox.oanda.com/v1/prices?instruments=EUR_USD'\n",
    "#api = requests.get(url)"
   ]
  },
  {
   "cell_type": "code",
   "execution_count": 67,
   "metadata": {
    "collapsed": false,
    "uuid": "00638626-fea7-4e21-9f9f-0b9313000f19"
   },
   "outputs": [],
   "source": [
    "#data = api.json()\n",
    "#data"
   ]
  },
  {
   "cell_type": "code",
   "execution_count": 69,
   "metadata": {
    "collapsed": false,
    "uuid": "7c95e256-1a25-4ad0-972b-b66d05a2a6ca"
   },
   "outputs": [],
   "source": [
    "#data = data['prices'][0]\n",
    "#data"
   ]
  },
  {
   "cell_type": "code",
   "execution_count": 71,
   "metadata": {
    "collapsed": false,
    "uuid": "9d23fa5e-b572-4182-aca2-46f8db6f5615"
   },
   "outputs": [],
   "source": [
    "#ticks = pd.DataFrame({'bid': data['bid'],\n",
    "#                      'ask': data['ask'],\n",
    "#                      'instrument': data['instrument'],\n",
    "#                      'time': pd.Timestamp(data['time'])},\n",
    "#                      index=[pd.Timestamp(data['time']),])\n",
    "  # initialization of ticks DataFrame"
   ]
  },
  {
   "cell_type": "code",
   "execution_count": 56,
   "metadata": {
    "collapsed": false,
    "uuid": "012c3b07-bbab-4484-931f-68daef241186"
   },
   "outputs": [
    {
     "data": {
      "text/html": [
       "<div>\n",
       "<table border=\"1\" class=\"dataframe\">\n",
       "  <thead>\n",
       "    <tr style=\"text-align: right;\">\n",
       "      <th></th>\n",
       "      <th>ask</th>\n",
       "      <th>bid</th>\n",
       "      <th>instrument</th>\n",
       "    </tr>\n",
       "  </thead>\n",
       "  <tbody>\n",
       "    <tr>\n",
       "      <th>2015-08-08 09:57:19.523848+00:00</th>\n",
       "      <td>1.24073</td>\n",
       "      <td>1.24059</td>\n",
       "      <td>EUR_USD</td>\n",
       "    </tr>\n",
       "  </tbody>\n",
       "</table>\n",
       "</div>"
      ],
      "text/plain": [
       "                                      ask      bid instrument\n",
       "2015-08-08 09:57:19.523848+00:00  1.24073  1.24059    EUR_USD"
      ]
     },
     "execution_count": 56,
     "metadata": {},
     "output_type": "execute_result"
    }
   ],
   "source": [
    "ticks[['ask', 'bid', 'instrument']]"
   ]
  },
  {
   "cell_type": "markdown",
   "metadata": {},
   "source": [
    "#### Real-Time Stock Price Quotes"
   ]
  },
  {
   "cell_type": "code",
   "execution_count": 72,
   "metadata": {
    "collapsed": false,
    "uuid": "33bbf187-b9ea-4a56-8132-a5ba5fcfd310"
   },
   "outputs": [],
   "source": [
    "url1 = 'http://www.netfonds.no/quotes/posdump.php?'\n",
    "url2 = 'date=%s%s%s&paper=%s.N&csv_format=csv'\n",
    "url = url1 + url2"
   ]
  },
  {
   "cell_type": "code",
   "execution_count": 73,
   "metadata": {
    "collapsed": false,
    "uuid": "976c17f6-bc3f-4238-a121-5c8c483b685d"
   },
   "outputs": [],
   "source": [
    "# must be a business day\n",
    "today = dt.datetime.now()\n",
    "y = '%d' % today.year\n",
    "  # current year\n",
    "m = '%02d' % today.month\n",
    "  # current month, add leading zero if needed\n",
    "d = '%02d' % today.day\n",
    "  # current day, add leading zero if needed\n",
    "sym = 'NKE'\n",
    "  # Nike Inc. stocks"
   ]
  },
  {
   "cell_type": "code",
   "execution_count": 74,
   "metadata": {
    "collapsed": false,
    "uuid": "51351a83-4e9d-427a-ac87-183a59d1ae19"
   },
   "outputs": [
    {
     "data": {
      "text/plain": [
       "('2017', '10', '27', 'NKE')"
      ]
     },
     "execution_count": 74,
     "metadata": {},
     "output_type": "execute_result"
    }
   ],
   "source": [
    "y, m, d, sym"
   ]
  },
  {
   "cell_type": "code",
   "execution_count": 75,
   "metadata": {
    "collapsed": false,
    "uuid": "3e2596c2-2ea2-419c-9c0f-a525eef874d5"
   },
   "outputs": [
    {
     "data": {
      "text/plain": [
       "'http://www.netfonds.no/quotes/posdump.php?date=20171027&paper=NKE.N&csv_format=csv'"
      ]
     },
     "execution_count": 75,
     "metadata": {},
     "output_type": "execute_result"
    }
   ],
   "source": [
    "urlreq = url % (y, m, d, sym)\n",
    "urlreq"
   ]
  },
  {
   "cell_type": "code",
   "execution_count": 76,
   "metadata": {
    "collapsed": false,
    "uuid": "cd2c7a3b-9a59-4a62-994e-4470cfec9011"
   },
   "outputs": [],
   "source": [
    "data = pd.read_csv(urlreq, parse_dates=['time'])\n",
    "  # initialize DataFrame object"
   ]
  },
  {
   "cell_type": "code",
   "execution_count": 77,
   "metadata": {
    "collapsed": false
   },
   "outputs": [
    {
     "name": "stdout",
     "output_type": "stream",
     "text": [
      "<class 'pandas.core.frame.DataFrame'>\n",
      "RangeIndex: 57 entries, 0 to 56\n",
      "Data columns (total 7 columns):\n",
      "time                 57 non-null datetime64[ns]\n",
      "bid                  57 non-null float64\n",
      "bid_depth            57 non-null int64\n",
      "bid_depth_total      57 non-null int64\n",
      "offer                57 non-null float64\n",
      "offer_depth          57 non-null int64\n",
      "offer_depth_total    57 non-null int64\n",
      "dtypes: datetime64[ns](1), float64(2), int64(4)\n",
      "memory usage: 3.2 KB\n"
     ]
    }
   ],
   "source": [
    "data.info()"
   ]
  },
  {
   "cell_type": "markdown",
   "metadata": {},
   "source": [
    "## Rapid Web Applications"
   ]
  },
  {
   "cell_type": "markdown",
   "metadata": {},
   "source": [
    "### Traders' Chat Room"
   ]
  },
  {
   "cell_type": "markdown",
   "metadata": {},
   "source": [
    "### Data Modeling"
   ]
  },
  {
   "cell_type": "markdown",
   "metadata": {},
   "source": [
    "### The Python Code"
   ]
  },
  {
   "cell_type": "markdown",
   "metadata": {},
   "source": [
    "#### Imports and Database Preliminaries"
   ]
  },
  {
   "cell_type": "markdown",
   "metadata": {},
   "source": [
    "#### Core Functionality"
   ]
  },
  {
   "cell_type": "markdown",
   "metadata": {},
   "source": [
    "### Templating"
   ]
  },
  {
   "cell_type": "code",
   "execution_count": 78,
   "metadata": {
    "collapsed": false,
    "uuid": "1463132b-34c8-4238-8d3e-6ba5c7562194"
   },
   "outputs": [
    {
     "data": {
      "text/plain": [
       "'1, 2, 3'"
      ]
     },
     "execution_count": 78,
     "metadata": {},
     "output_type": "execute_result"
    }
   ],
   "source": [
    "'%d, %d, %d' % (1, 2, 3)"
   ]
  },
  {
   "cell_type": "code",
   "execution_count": 79,
   "metadata": {
    "collapsed": false,
    "uuid": "c5c11d6d-ad65-4ee7-9ebe-91dc1c3d2497"
   },
   "outputs": [
    {
     "data": {
      "text/plain": [
       "'1, 2, 3'"
      ]
     },
     "execution_count": 79,
     "metadata": {},
     "output_type": "execute_result"
    }
   ],
   "source": [
    "'{}, {}, {}'.format(1, 2, 3)"
   ]
  },
  {
   "cell_type": "code",
   "execution_count": 80,
   "metadata": {
    "collapsed": false,
    "uuid": "7ff70268-2c8f-45a5-a6b0-17bb9d77cc14"
   },
   "outputs": [
    {
     "data": {
      "text/plain": [
       "'1, 2, 3'"
      ]
     },
     "execution_count": 80,
     "metadata": {},
     "output_type": "execute_result"
    }
   ],
   "source": [
    "'{}, {}, {}'.format(*'123')"
   ]
  },
  {
   "cell_type": "code",
   "execution_count": 81,
   "metadata": {
    "collapsed": false,
    "uuid": "da70e7f6-9068-4039-bdfc-8bfe510a7ee6"
   },
   "outputs": [],
   "source": [
    "templ = '''<!doctype html>\n",
    "  Just print out <b>numbers</b> provided to the template.\n",
    "  <br><br>\n",
    "  {% for number in numbers %}\n",
    "    {{ number }}\n",
    "  {% endfor %}\n",
    "'''"
   ]
  },
  {
   "cell_type": "code",
   "execution_count": 82,
   "metadata": {
    "collapsed": false,
    "uuid": "6b66b22b-fb7f-4dc7-99f4-ed6550e9eb2f"
   },
   "outputs": [],
   "source": [
    "from jinja2 import Template"
   ]
  },
  {
   "cell_type": "code",
   "execution_count": 83,
   "metadata": {
    "collapsed": false,
    "uuid": "641a5ee8-9ef7-4e60-80cb-c73b1d81f182"
   },
   "outputs": [],
   "source": [
    "t = Template(templ)"
   ]
  },
  {
   "cell_type": "code",
   "execution_count": 84,
   "metadata": {
    "collapsed": false,
    "uuid": "ad91b975-9917-4d22-99db-635d745308a8"
   },
   "outputs": [],
   "source": [
    "html = t.render(numbers=range(5))"
   ]
  },
  {
   "cell_type": "code",
   "execution_count": 85,
   "metadata": {
    "collapsed": false,
    "uuid": "3ddf0465-00f2-4c70-8547-7460eba6f11d"
   },
   "outputs": [
    {
     "data": {
      "text/plain": [
       "u'<!doctype html>\\n  Just print out <b>numbers</b> provided to the template.\\n  <br><br>\\n  \\n    0\\n  \\n    1\\n  \\n    2\\n  \\n    3\\n  \\n    4\\n  '"
      ]
     },
     "execution_count": 85,
     "metadata": {},
     "output_type": "execute_result"
    }
   ],
   "source": [
    "html"
   ]
  },
  {
   "cell_type": "code",
   "execution_count": 86,
   "metadata": {
    "collapsed": false,
    "uuid": "d8d44498-a17f-41b3-9e91-6d09a288c5b8"
   },
   "outputs": [
    {
     "data": {
      "text/html": [
       "<!doctype html>\n",
       "  Just print out <b>numbers</b> provided to the template.\n",
       "  <br><br>\n",
       "  \n",
       "    0\n",
       "  \n",
       "    1\n",
       "  \n",
       "    2\n",
       "  \n",
       "    3\n",
       "  \n",
       "    4\n",
       "  "
      ],
      "text/plain": [
       "<IPython.core.display.HTML object>"
      ]
     },
     "execution_count": 86,
     "metadata": {},
     "output_type": "execute_result"
    }
   ],
   "source": [
    "from IPython.display import HTML\n",
    "HTML(html)"
   ]
  },
  {
   "cell_type": "markdown",
   "metadata": {},
   "source": [
    "### Styling"
   ]
  },
  {
   "cell_type": "code",
   "execution_count": 87,
   "metadata": {
    "collapsed": false,
    "uuid": "41649870-1061-444f-924c-733ecdef2ebb"
   },
   "outputs": [
    {
     "name": "stdout",
     "output_type": "stream",
     "text": [
      "../python/tradechat\n",
      "tables.sql\n",
      "tradechat.db\n",
      "tradechat.py\n",
      "../python/tradechat\\static\n",
      "style.css\n",
      "../python/tradechat\\templates\n",
      "layout.html\n",
      "login.html\n",
      "register.html\n",
      "show_entries.html\n"
     ]
    }
   ],
   "source": [
    "import os\n",
    "for path, dirs, files in os.walk('../python/tradechat'):\n",
    "  print path\n",
    "  for f in files:\n",
    "    print f"
   ]
  },
  {
   "cell_type": "markdown",
   "metadata": {},
   "source": [
    "## Web Services"
   ]
  },
  {
   "cell_type": "markdown",
   "metadata": {},
   "source": [
    "### The Financial Model"
   ]
  },
  {
   "cell_type": "markdown",
   "metadata": {},
   "source": [
    "### The Implementation"
   ]
  },
  {
   "cell_type": "code",
   "execution_count": 88,
   "metadata": {
    "collapsed": false,
    "uuid": "79f9048b-3427-4a79-9cbc-4bf414c0730c"
   },
   "outputs": [],
   "source": [
    "import sys\n",
    "sys.path.append(\"../python/volservice\")\n",
    "  # adjust if necessary to your path"
   ]
  },
  {
   "cell_type": "code",
   "execution_count": 89,
   "metadata": {
    "collapsed": false,
    "uuid": "baba8c94-1d56-42aa-a491-da6b7a9f649f"
   },
   "outputs": [],
   "source": [
    "from werkzeug.wrappers import Request, Response "
   ]
  },
  {
   "cell_type": "code",
   "execution_count": 90,
   "metadata": {
    "collapsed": false,
    "uuid": "5cbccdda-a5a3-4c7e-97ac-3df9b05c5efb"
   },
   "outputs": [],
   "source": [
    "from vol_pricing_service import get_option_value"
   ]
  },
  {
   "cell_type": "code",
   "execution_count": 91,
   "metadata": {
    "collapsed": false,
    "uuid": "b6bad926-3093-4f80-aedd-aef6e7950749"
   },
   "outputs": [],
   "source": [
    "def application(environ, start_response):\n",
    "    request = Request(environ)\n",
    "      # wrap environ in new object\n",
    "    text = get_option_value(request.args)\n",
    "      # provide all paramters of the call to function\n",
    "      # get back either error message or option value\n",
    "    response = Response(text, mimetype='text/html')\n",
    "      # generate response object based on the returned text\n",
    "    return response(environ, start_response)"
   ]
  },
  {
   "cell_type": "code",
   "execution_count": 92,
   "metadata": {
    "collapsed": false,
    "uuid": "a5708e66-1b39-4f82-b07f-44cb07c68280"
   },
   "outputs": [],
   "source": [
    "import numpy as np\n",
    "import urllib\n",
    "url = 'http://localhost:4000/'"
   ]
  },
  {
   "cell_type": "markdown",
   "metadata": {},
   "source": [
    "## Conclusions"
   ]
  },
  {
   "cell_type": "markdown",
   "metadata": {},
   "source": [
    "## Further Reading"
   ]
  }
 ],
 "metadata": {
  "anaconda-cloud": {},
  "kernelspec": {
   "display_name": "Python [Root]",
   "language": "python",
   "name": "Python [Root]"
  },
  "language_info": {
   "codemirror_mode": {
    "name": "ipython",
    "version": 2
   },
   "file_extension": ".py",
   "mimetype": "text/x-python",
   "name": "python",
   "nbconvert_exporter": "python",
   "pygments_lexer": "ipython2",
   "version": "2.7.12"
  }
 },
 "nbformat": 4,
 "nbformat_minor": 0
}
