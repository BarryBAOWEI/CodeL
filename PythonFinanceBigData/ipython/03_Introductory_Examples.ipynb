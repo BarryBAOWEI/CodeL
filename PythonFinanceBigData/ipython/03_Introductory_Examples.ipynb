{
 "cells": [
  {
   "cell_type": "markdown",
   "metadata": {},
   "source": [
    "# Introductory Examples"
   ]
  },
  {
   "cell_type": "code",
   "execution_count": 1,
   "metadata": {
    "collapsed": false
   },
   "outputs": [],
   "source": [
    "import warnings\n",
    "warnings.simplefilter('ignore')"
   ]
  },
  {
   "cell_type": "markdown",
   "metadata": {},
   "source": [
    "## Implied Volatilities"
   ]
  },
  {
   "cell_type": "code",
   "execution_count": 2,
   "metadata": {
    "collapsed": false,
    "uuid": "8e3ac03d-e5c1-4184-8494-5c02f5c1a897"
   },
   "outputs": [],
   "source": [
    "V0 = 17.6639"
   ]
  },
  {
   "cell_type": "code",
   "execution_count": 3,
   "metadata": {
    "collapsed": false,
    "uuid": "3d727b16-4ff1-49fb-a54a-6e96568f54b0"
   },
   "outputs": [],
   "source": [
    "r = 0.01"
   ]
  },
  {
   "cell_type": "code",
   "execution_count": 4,
   "metadata": {
    "collapsed": false,
    "uuid": "009042d8-f384-482c-8b4b-eeac6312315e"
   },
   "outputs": [],
   "source": [
    "import pandas as pd\n",
    "h5 = pd.HDFStore('./source/vstoxx_data_31032014.h5', 'r')\n",
    "futures_data = h5['futures_data']  # VSTOXX futures data\n",
    "options_data = h5['options_data']  # VSTOXX call option data\n",
    "h5.close()"
   ]
  },
  {
   "cell_type": "code",
   "execution_count": 5,
   "metadata": {
    "collapsed": false,
    "uuid": "8d5c855d-87d0-4108-93c7-57094610bd68"
   },
   "outputs": [
    {
     "data": {
      "text/html": [
       "<div>\n",
       "<table border=\"1\" class=\"dataframe\">\n",
       "  <thead>\n",
       "    <tr style=\"text-align: right;\">\n",
       "      <th></th>\n",
       "      <th>DATE</th>\n",
       "      <th>EXP_YEAR</th>\n",
       "      <th>EXP_MONTH</th>\n",
       "      <th>PRICE</th>\n",
       "      <th>MATURITY</th>\n",
       "      <th>TTM</th>\n",
       "    </tr>\n",
       "  </thead>\n",
       "  <tbody>\n",
       "    <tr>\n",
       "      <th>496</th>\n",
       "      <td>2014-03-31</td>\n",
       "      <td>2014</td>\n",
       "      <td>4</td>\n",
       "      <td>17.85</td>\n",
       "      <td>2014-04-18</td>\n",
       "      <td>0.049</td>\n",
       "    </tr>\n",
       "    <tr>\n",
       "      <th>497</th>\n",
       "      <td>2014-03-31</td>\n",
       "      <td>2014</td>\n",
       "      <td>5</td>\n",
       "      <td>19.55</td>\n",
       "      <td>2014-05-16</td>\n",
       "      <td>0.126</td>\n",
       "    </tr>\n",
       "    <tr>\n",
       "      <th>498</th>\n",
       "      <td>2014-03-31</td>\n",
       "      <td>2014</td>\n",
       "      <td>6</td>\n",
       "      <td>19.95</td>\n",
       "      <td>2014-06-20</td>\n",
       "      <td>0.222</td>\n",
       "    </tr>\n",
       "    <tr>\n",
       "      <th>499</th>\n",
       "      <td>2014-03-31</td>\n",
       "      <td>2014</td>\n",
       "      <td>7</td>\n",
       "      <td>20.40</td>\n",
       "      <td>2014-07-18</td>\n",
       "      <td>0.299</td>\n",
       "    </tr>\n",
       "    <tr>\n",
       "      <th>500</th>\n",
       "      <td>2014-03-31</td>\n",
       "      <td>2014</td>\n",
       "      <td>8</td>\n",
       "      <td>20.70</td>\n",
       "      <td>2014-08-15</td>\n",
       "      <td>0.375</td>\n",
       "    </tr>\n",
       "    <tr>\n",
       "      <th>501</th>\n",
       "      <td>2014-03-31</td>\n",
       "      <td>2014</td>\n",
       "      <td>9</td>\n",
       "      <td>20.95</td>\n",
       "      <td>2014-09-19</td>\n",
       "      <td>0.471</td>\n",
       "    </tr>\n",
       "    <tr>\n",
       "      <th>502</th>\n",
       "      <td>2014-03-31</td>\n",
       "      <td>2014</td>\n",
       "      <td>10</td>\n",
       "      <td>21.05</td>\n",
       "      <td>2014-10-17</td>\n",
       "      <td>0.548</td>\n",
       "    </tr>\n",
       "    <tr>\n",
       "      <th>503</th>\n",
       "      <td>2014-03-31</td>\n",
       "      <td>2014</td>\n",
       "      <td>11</td>\n",
       "      <td>21.25</td>\n",
       "      <td>2014-11-21</td>\n",
       "      <td>0.644</td>\n",
       "    </tr>\n",
       "  </tbody>\n",
       "</table>\n",
       "</div>"
      ],
      "text/plain": [
       "          DATE  EXP_YEAR  EXP_MONTH  PRICE   MATURITY    TTM\n",
       "496 2014-03-31      2014          4  17.85 2014-04-18  0.049\n",
       "497 2014-03-31      2014          5  19.55 2014-05-16  0.126\n",
       "498 2014-03-31      2014          6  19.95 2014-06-20  0.222\n",
       "499 2014-03-31      2014          7  20.40 2014-07-18  0.299\n",
       "500 2014-03-31      2014          8  20.70 2014-08-15  0.375\n",
       "501 2014-03-31      2014          9  20.95 2014-09-19  0.471\n",
       "502 2014-03-31      2014         10  21.05 2014-10-17  0.548\n",
       "503 2014-03-31      2014         11  21.25 2014-11-21  0.644"
      ]
     },
     "execution_count": 5,
     "metadata": {},
     "output_type": "execute_result"
    }
   ],
   "source": [
    "futures_data"
   ]
  },
  {
   "cell_type": "code",
   "execution_count": 6,
   "metadata": {
    "collapsed": false,
    "uuid": "48b29f70-8142-4960-8d4d-3a241685bc1d"
   },
   "outputs": [
    {
     "name": "stdout",
     "output_type": "stream",
     "text": [
      "<class 'pandas.core.frame.DataFrame'>\n",
      "Int64Index: 395 entries, 46170 to 46564\n",
      "Data columns (total 8 columns):\n",
      "DATE         395 non-null datetime64[ns]\n",
      "EXP_YEAR     395 non-null int64\n",
      "EXP_MONTH    395 non-null int64\n",
      "TYPE         395 non-null object\n",
      "STRIKE       395 non-null float64\n",
      "PRICE        395 non-null float64\n",
      "MATURITY     395 non-null datetime64[ns]\n",
      "TTM          395 non-null float64\n",
      "dtypes: datetime64[ns](2), float64(3), int64(2), object(1)\n",
      "memory usage: 27.8+ KB\n"
     ]
    }
   ],
   "source": [
    "options_data.info()"
   ]
  },
  {
   "cell_type": "code",
   "execution_count": 7,
   "metadata": {
    "collapsed": false,
    "uuid": "dead6085-55a7-46c1-9396-3ec0e247b8f4"
   },
   "outputs": [
    {
     "data": {
      "text/html": [
       "<div>\n",
       "<table border=\"1\" class=\"dataframe\">\n",
       "  <thead>\n",
       "    <tr style=\"text-align: right;\">\n",
       "      <th></th>\n",
       "      <th>DATE</th>\n",
       "      <th>MATURITY</th>\n",
       "      <th>TTM</th>\n",
       "      <th>STRIKE</th>\n",
       "      <th>PRICE</th>\n",
       "    </tr>\n",
       "  </thead>\n",
       "  <tbody>\n",
       "    <tr>\n",
       "      <th>46170</th>\n",
       "      <td>2014-03-31</td>\n",
       "      <td>2014-04-18</td>\n",
       "      <td>0.049</td>\n",
       "      <td>1.0</td>\n",
       "      <td>16.85</td>\n",
       "    </tr>\n",
       "    <tr>\n",
       "      <th>46171</th>\n",
       "      <td>2014-03-31</td>\n",
       "      <td>2014-04-18</td>\n",
       "      <td>0.049</td>\n",
       "      <td>2.0</td>\n",
       "      <td>15.85</td>\n",
       "    </tr>\n",
       "    <tr>\n",
       "      <th>46172</th>\n",
       "      <td>2014-03-31</td>\n",
       "      <td>2014-04-18</td>\n",
       "      <td>0.049</td>\n",
       "      <td>3.0</td>\n",
       "      <td>14.85</td>\n",
       "    </tr>\n",
       "    <tr>\n",
       "      <th>46173</th>\n",
       "      <td>2014-03-31</td>\n",
       "      <td>2014-04-18</td>\n",
       "      <td>0.049</td>\n",
       "      <td>4.0</td>\n",
       "      <td>13.85</td>\n",
       "    </tr>\n",
       "    <tr>\n",
       "      <th>46174</th>\n",
       "      <td>2014-03-31</td>\n",
       "      <td>2014-04-18</td>\n",
       "      <td>0.049</td>\n",
       "      <td>5.0</td>\n",
       "      <td>12.85</td>\n",
       "    </tr>\n",
       "  </tbody>\n",
       "</table>\n",
       "</div>"
      ],
      "text/plain": [
       "            DATE   MATURITY    TTM  STRIKE  PRICE\n",
       "46170 2014-03-31 2014-04-18  0.049     1.0  16.85\n",
       "46171 2014-03-31 2014-04-18  0.049     2.0  15.85\n",
       "46172 2014-03-31 2014-04-18  0.049     3.0  14.85\n",
       "46173 2014-03-31 2014-04-18  0.049     4.0  13.85\n",
       "46174 2014-03-31 2014-04-18  0.049     5.0  12.85"
      ]
     },
     "execution_count": 7,
     "metadata": {},
     "output_type": "execute_result"
    }
   ],
   "source": [
    "options_data[['DATE', 'MATURITY', 'TTM', 'STRIKE', 'PRICE']].head()"
   ]
  },
  {
   "cell_type": "code",
   "execution_count": 8,
   "metadata": {
    "collapsed": false,
    "uuid": "808a0269-42d5-43ed-b753-28abb46820de"
   },
   "outputs": [],
   "source": [
    "options_data['IMP_VOL'] = 0.0\n",
    "  # new column for implied volatilities"
   ]
  },
  {
   "cell_type": "code",
   "execution_count": 9,
   "metadata": {
    "collapsed": false,
    "uuid": "233c9f45-d3c4-48f4-8422-7e77c490d232"
   },
   "outputs": [],
   "source": [
    "from bsm_functions import *"
   ]
  },
  {
   "cell_type": "code",
   "execution_count": 10,
   "metadata": {
    "collapsed": false,
    "uuid": "8da4e671-cbbc-44fd-8050-c8fe300a4501"
   },
   "outputs": [],
   "source": [
    "tol = 0.5  # tolerance level for moneyness\n",
    "for option in options_data.index:\n",
    "    # iterating over all option quotes\n",
    "    forward = futures_data[futures_data['MATURITY'] == \\\n",
    "                options_data.loc[option]['MATURITY']]['PRICE'].values[0]\n",
    "      # picking the right futures value\n",
    "    if (forward * (1 - tol) < options_data.loc[option]['STRIKE']\n",
    "                             < forward * (1 + tol)):\n",
    "        # only for options with moneyness within tolerance\n",
    "        imp_vol = bsm_call_imp_vol(\n",
    "                V0,  # VSTOXX value \n",
    "                options_data.loc[option]['STRIKE'],\n",
    "                options_data.loc[option]['TTM'],\n",
    "                r,   # short rate\n",
    "                options_data.loc[option]['PRICE'],\n",
    "                sigma_est=2.,  # estimate for implied volatility\n",
    "                it=100)\n",
    "        options_data['IMP_VOL'].loc[option] = imp_vol"
   ]
  },
  {
   "cell_type": "code",
   "execution_count": 11,
   "metadata": {
    "collapsed": false,
    "uuid": "94491814-c0c6-4565-b1f7-cedb1af12c48"
   },
   "outputs": [
    {
     "data": {
      "text/plain": [
       "496   2014-04-18\n",
       "497   2014-05-16\n",
       "498   2014-06-20\n",
       "499   2014-07-18\n",
       "500   2014-08-15\n",
       "501   2014-09-19\n",
       "502   2014-10-17\n",
       "503   2014-11-21\n",
       "Name: MATURITY, dtype: datetime64[ns]"
      ]
     },
     "execution_count": 11,
     "metadata": {},
     "output_type": "execute_result"
    }
   ],
   "source": [
    "futures_data['MATURITY']\n",
    "  # select the column with name MATURITY"
   ]
  },
  {
   "cell_type": "code",
   "execution_count": 12,
   "metadata": {
    "collapsed": false,
    "uuid": "cbb44f1e-2ab5-4d8f-976a-2d36515eef12"
   },
   "outputs": [
    {
     "data": {
      "text/plain": [
       "DATE         2014-03-31 00:00:00\n",
       "EXP_YEAR                    2014\n",
       "EXP_MONTH                      4\n",
       "TYPE                           C\n",
       "STRIKE                         1\n",
       "PRICE                      16.85\n",
       "MATURITY     2014-04-18 00:00:00\n",
       "TTM                        0.049\n",
       "IMP_VOL                        0\n",
       "Name: 46170, dtype: object"
      ]
     },
     "execution_count": 12,
     "metadata": {},
     "output_type": "execute_result"
    }
   ],
   "source": [
    "options_data.loc[46170]\n",
    "  # select data row for index 46170"
   ]
  },
  {
   "cell_type": "code",
   "execution_count": 13,
   "metadata": {
    "collapsed": false,
    "uuid": "e267720a-901b-42fd-86eb-f31c29ebc166"
   },
   "outputs": [
    {
     "data": {
      "text/plain": [
       "1.0"
      ]
     },
     "execution_count": 13,
     "metadata": {},
     "output_type": "execute_result"
    }
   ],
   "source": [
    "options_data.loc[46170]['STRIKE']\n",
    "  # select only the value in column STRIKE\n",
    "  # for index 46170 "
   ]
  },
  {
   "cell_type": "code",
   "execution_count": 14,
   "metadata": {
    "collapsed": false,
    "uuid": "03092953-5496-4500-9cf5-e3cbcf46d396"
   },
   "outputs": [],
   "source": [
    "plot_data = options_data[options_data['IMP_VOL'] > 0]"
   ]
  },
  {
   "cell_type": "code",
   "execution_count": 15,
   "metadata": {
    "collapsed": false,
    "uuid": "738b9618-b3a9-434f-a685-441a0c837b76"
   },
   "outputs": [
    {
     "data": {
      "text/plain": [
       "[Timestamp('2014-04-18 00:00:00'),\n",
       " Timestamp('2014-05-16 00:00:00'),\n",
       " Timestamp('2014-06-20 00:00:00'),\n",
       " Timestamp('2014-07-18 00:00:00'),\n",
       " Timestamp('2014-08-15 00:00:00'),\n",
       " Timestamp('2014-09-19 00:00:00'),\n",
       " Timestamp('2014-10-17 00:00:00'),\n",
       " Timestamp('2014-11-21 00:00:00')]"
      ]
     },
     "execution_count": 15,
     "metadata": {},
     "output_type": "execute_result"
    }
   ],
   "source": [
    "maturities = sorted(set(options_data['MATURITY']))\n",
    "maturities"
   ]
  },
  {
   "cell_type": "code",
   "execution_count": 16,
   "metadata": {
    "collapsed": false,
    "uuid": "8886807a-ca71-48d0-b5ef-ab7cb9470548"
   },
   "outputs": [
    {
     "data": {
      "image/png": "[encoded data removed]",
      "text/plain": [
       "<matplotlib.figure.Figure at 0x96c5fd0>"
      ]
     },
     "metadata": {},
     "output_type": "display_data"
    }
   ],
   "source": [
    "import matplotlib.pyplot as plt\n",
    "%matplotlib inline\n",
    "plt.figure(figsize=(8, 6))\n",
    "for maturity in maturities:\n",
    "    data = plot_data[options_data.MATURITY == maturity]\n",
    "      # select data for this maturity\n",
    "    plt.plot(data['STRIKE'], data['IMP_VOL'],\n",
    "             label=maturity.date(), lw=1.5)\n",
    "    plt.plot(data['STRIKE'], data['IMP_VOL'], 'r.')\n",
    "plt.grid(True) \n",
    "plt.xlabel('strike')\n",
    "plt.ylabel('implied volatility of volatility')\n",
    "plt.legend()\n",
    "plt.show()\n",
    "# tag: vs_imp_vol\n",
    "# title: Implied volatilities (of volatility) for European call options on the VSTOXX on 31. March 2014"
   ]
  },
  {
   "cell_type": "code",
   "execution_count": 17,
   "metadata": {
    "collapsed": false,
    "uuid": "34582055-b4b2-49ea-8678-e44288f7de88"
   },
   "outputs": [
    {
     "data": {
      "text/plain": [
       "<pandas.core.groupby.DataFrameGroupBy object at 0x0000000008AAD048>"
      ]
     },
     "execution_count": 17,
     "metadata": {},
     "output_type": "execute_result"
    }
   ],
   "source": [
    "keep = ['PRICE', 'IMP_VOL']\n",
    "group_data = plot_data.groupby(['MATURITY', 'STRIKE'])[keep]\n",
    "group_data"
   ]
  },
  {
   "cell_type": "code",
   "execution_count": 18,
   "metadata": {
    "collapsed": false,
    "uuid": "1b5253de-0b31-4af0-8155-b2c405363a0d"
   },
   "outputs": [
    {
     "data": {
      "text/html": [
       "<div>\n",
       "<table border=\"1\" class=\"dataframe\">\n",
       "  <thead>\n",
       "    <tr style=\"text-align: right;\">\n",
       "      <th></th>\n",
       "      <th></th>\n",
       "      <th>PRICE</th>\n",
       "      <th>IMP_VOL</th>\n",
       "    </tr>\n",
       "    <tr>\n",
       "      <th>MATURITY</th>\n",
       "      <th>STRIKE</th>\n",
       "      <th></th>\n",
       "      <th></th>\n",
       "    </tr>\n",
       "  </thead>\n",
       "  <tbody>\n",
       "    <tr>\n",
       "      <th rowspan=\"5\" valign=\"top\">2014-04-18</th>\n",
       "      <th>9.0</th>\n",
       "      <td>8.85</td>\n",
       "      <td>2.083388</td>\n",
       "    </tr>\n",
       "    <tr>\n",
       "      <th>10.0</th>\n",
       "      <td>7.85</td>\n",
       "      <td>1.804193</td>\n",
       "    </tr>\n",
       "    <tr>\n",
       "      <th>11.0</th>\n",
       "      <td>6.85</td>\n",
       "      <td>1.550283</td>\n",
       "    </tr>\n",
       "    <tr>\n",
       "      <th>12.0</th>\n",
       "      <td>5.85</td>\n",
       "      <td>1.316103</td>\n",
       "    </tr>\n",
       "    <tr>\n",
       "      <th>13.0</th>\n",
       "      <td>4.85</td>\n",
       "      <td>1.097184</td>\n",
       "    </tr>\n",
       "  </tbody>\n",
       "</table>\n",
       "</div>"
      ],
      "text/plain": [
       "                   PRICE   IMP_VOL\n",
       "MATURITY   STRIKE                 \n",
       "2014-04-18 9.0      8.85  2.083388\n",
       "           10.0     7.85  1.804193\n",
       "           11.0     6.85  1.550283\n",
       "           12.0     5.85  1.316103\n",
       "           13.0     4.85  1.097184"
      ]
     },
     "execution_count": 18,
     "metadata": {},
     "output_type": "execute_result"
    }
   ],
   "source": [
    "group_data = group_data.sum()\n",
    "group_data.head()"
   ]
  },
  {
   "cell_type": "code",
   "execution_count": 19,
   "metadata": {
    "collapsed": false,
    "uuid": "390e4908-23ed-4419-a62d-b25ed3cf2d15"
   },
   "outputs": [
    {
     "data": {
      "text/plain": [
       "FrozenList([[2014-04-18 00:00:00, 2014-05-16 00:00:00, 2014-06-20 00:00:00, 2014-07-18 00:00:00, 2014-08-15 00:00:00, 2014-09-19 00:00:00, 2014-10-17 00:00:00, 2014-11-21 00:00:00], [9.0, 10.0, 11.0, 12.0, 13.0, 14.0, 15.0, 16.0, 17.0, 18.0, 19.0, 20.0, 21.0, 22.0, 23.0, 24.0, 25.0, 26.0, 27.0, 28.0, 29.0, 30.0]])"
      ]
     },
     "execution_count": 19,
     "metadata": {},
     "output_type": "execute_result"
    }
   ],
   "source": [
    "group_data.index.levels"
   ]
  },
  {
   "cell_type": "markdown",
   "metadata": {},
   "source": [
    "## Monte Carlo Simulation"
   ]
  },
  {
   "cell_type": "code",
   "execution_count": 20,
   "metadata": {
    "collapsed": false,
    "uuid": "13a3c945-2ae9-4583-b21f-cb6d4e4729b8"
   },
   "outputs": [
    {
     "data": {
      "text/plain": [
       "8.0213522351431763"
      ]
     },
     "execution_count": 20,
     "metadata": {},
     "output_type": "execute_result"
    }
   ],
   "source": [
    "from bsm_functions import bsm_call_value\n",
    "S0 = 100.\n",
    "K = 105.\n",
    "T = 1.0\n",
    "r = 0.05\n",
    "sigma = 0.2\n",
    "bsm_call_value(S0, K, T, r, sigma)"
   ]
  },
  {
   "cell_type": "markdown",
   "metadata": {},
   "source": [
    "### Pure Python"
   ]
  },
  {
   "cell_type": "code",
   "execution_count": 21,
   "metadata": {
    "collapsed": false,
    "uuid": "aebfedcc-472c-4225-82eb-6405ecf7eaa9"
   },
   "outputs": [
    {
     "name": "stdout",
     "output_type": "stream",
     "text": [
      "European Option Value   7.241\n",
      "Duration in Seconds     0.023\n"
     ]
    }
   ],
   "source": [
    "%run mcs_pure_python.py"
   ]
  },
  {
   "cell_type": "code",
   "execution_count": 22,
   "metadata": {
    "collapsed": false,
    "uuid": "d038ec31-373b-4979-aa49-a47ff96fc234"
   },
   "outputs": [
    {
     "data": {
      "text/plain": [
       "7.241"
      ]
     },
     "execution_count": 22,
     "metadata": {},
     "output_type": "execute_result"
    }
   ],
   "source": [
    "sum_val = 0.0\n",
    "for path in S:\n",
    "    # C-like iteration for comparison\n",
    "    sum_val += max(path[-1] - K, 0)\n",
    "C0 = exp(-r * T) * sum_val / I\n",
    "round(C0, 3)"
   ]
  },
  {
   "cell_type": "markdown",
   "metadata": {},
   "source": [
    "### Vectorization with NumPy"
   ]
  },
  {
   "cell_type": "code",
   "execution_count": 23,
   "metadata": {
    "collapsed": false,
    "uuid": "2f695395-b7b7-4d0c-bab3-659fcd4da5d0"
   },
   "outputs": [
    {
     "name": "stdout",
     "output_type": "stream",
     "text": [
      "[1, 2, 3, 4, 5]\n"
     ]
    }
   ],
   "source": [
    "v = range(1, 6)\n",
    "print v"
   ]
  },
  {
   "cell_type": "code",
   "execution_count": 24,
   "metadata": {
    "collapsed": false,
    "uuid": "548c6e07-9435-421c-9408-d63252608f74"
   },
   "outputs": [
    {
     "data": {
      "text/plain": [
       "[1, 2, 3, 4, 5, 1, 2, 3, 4, 5]"
      ]
     },
     "execution_count": 24,
     "metadata": {},
     "output_type": "execute_result"
    }
   ],
   "source": [
    "2 * v"
   ]
  },
  {
   "cell_type": "code",
   "execution_count": 25,
   "metadata": {
    "collapsed": false,
    "uuid": "0a831df5-d2c3-46af-8399-ad2b4b411001"
   },
   "outputs": [
    {
     "data": {
      "text/plain": [
       "array([1, 2, 3, 4, 5])"
      ]
     },
     "execution_count": 25,
     "metadata": {},
     "output_type": "execute_result"
    }
   ],
   "source": [
    "import numpy as np\n",
    "v = np.arange(1, 6)\n",
    "v"
   ]
  },
  {
   "cell_type": "code",
   "execution_count": 26,
   "metadata": {
    "collapsed": false,
    "uuid": "4c5153ff-983f-4ee1-95d6-0dae809da4bf"
   },
   "outputs": [
    {
     "data": {
      "text/plain": [
       "array([ 2,  4,  6,  8, 10])"
      ]
     },
     "execution_count": 26,
     "metadata": {},
     "output_type": "execute_result"
    }
   ],
   "source": [
    "2 * v"
   ]
  },
  {
   "cell_type": "code",
   "execution_count": 27,
   "metadata": {
    "collapsed": false,
    "uuid": "0fca4476-2003-4733-a6e1-f405997e1b1a"
   },
   "outputs": [
    {
     "name": "stdout",
     "output_type": "stream",
     "text": [
      "European Option Value   8.037\n",
      "Duration in Seconds     0.871\n"
     ]
    }
   ],
   "source": [
    "%run mcs_vector_numpy.py"
   ]
  },
  {
   "cell_type": "code",
   "execution_count": 28,
   "metadata": {
    "collapsed": false,
    "uuid": "6d10a22b-fed3-4627-a2bc-6f958824ca2f"
   },
   "outputs": [
    {
     "data": {
      "text/plain": [
       "0.03"
      ]
     },
     "execution_count": 28,
     "metadata": {},
     "output_type": "execute_result"
    }
   ],
   "source": [
    "round(tpy / tnp1, 2)"
   ]
  },
  {
   "cell_type": "markdown",
   "metadata": {},
   "source": [
    "### Full Vectorization with Log Euler Scheme"
   ]
  },
  {
   "cell_type": "code",
   "execution_count": 29,
   "metadata": {
    "collapsed": false,
    "uuid": "02a121e5-75ff-4ad1-9812-ec0e69d3ebaa"
   },
   "outputs": [
    {
     "name": "stdout",
     "output_type": "stream",
     "text": [
      "European Option Value   8.166\n",
      "Duration in Seconds     1.106\n"
     ]
    }
   ],
   "source": [
    "%run mcs_full_vector_numpy.py"
   ]
  },
  {
   "cell_type": "markdown",
   "metadata": {},
   "source": [
    "### Graphical Analysis"
   ]
  },
  {
   "cell_type": "code",
   "execution_count": 30,
   "metadata": {
    "collapsed": false,
    "uuid": "f880bd6e-72fa-4906-b2a7-24f3c7419338"
   },
   "outputs": [
    {
     "data": {
      "text/plain": [
       "<matplotlib.text.Text at 0xd368940>"
      ]
     },
     "execution_count": 30,
     "metadata": {},
     "output_type": "execute_result"
    },
    {
     "data": {
      "image/png": "[encoded data removed]",
      "text/plain": [
       "<matplotlib.figure.Figure at 0x96a00f0>"
      ]
     },
     "metadata": {},
     "output_type": "display_data"
    }
   ],
   "source": [
    "import matplotlib.pyplot as plt\n",
    "plt.plot(S[:, :10])\n",
    "plt.grid(True)\n",
    "plt.xlabel('time step')\n",
    "plt.ylabel('index level')\n",
    "# tag: index_paths\n",
    "# title: The first 10 simulated index level paths"
   ]
  },
  {
   "cell_type": "code",
   "execution_count": 31,
   "metadata": {
    "collapsed": false,
    "uuid": "997e2c48-f4e4-49c2-be9b-ce2ed0a2166f"
   },
   "outputs": [
    {
     "data": {
      "text/plain": [
       "<matplotlib.text.Text at 0xd48aef0>"
      ]
     },
     "execution_count": 31,
     "metadata": {},
     "output_type": "execute_result"
    },
    {
     "data": {
      "image/png": "[encoded data removed]",
      "text/plain": [
       "<matplotlib.figure.Figure at 0xd169160>"
      ]
     },
     "metadata": {},
     "output_type": "display_data"
    }
   ],
   "source": [
    "plt.hist(S[-1], bins=50)\n",
    "plt.grid(True)\n",
    "plt.xlabel('index level')\n",
    "plt.ylabel('frequency')\n",
    "# tag: index_histo\n",
    "# title: Histogram of all simulated end of period index level values"
   ]
  },
  {
   "cell_type": "code",
   "execution_count": 32,
   "metadata": {
    "collapsed": false,
    "uuid": "bc4f9174-c92c-4abf-9d31-da3e7d0baec5"
   },
   "outputs": [
    {
     "data": {
      "text/plain": [
       "(0, 50000)"
      ]
     },
     "execution_count": 32,
     "metadata": {},
     "output_type": "execute_result"
    },
    {
     "data": {
      "image/png": "[encoded data removed]",
      "text/plain": [
       "<matplotlib.figure.Figure at 0x908cf98>"
      ]
     },
     "metadata": {},
     "output_type": "display_data"
    }
   ],
   "source": [
    "plt.hist(np.maximum(S[-1] - K, 0), bins=50)\n",
    "plt.grid(True)\n",
    "plt.xlabel('option inner value')\n",
    "plt.ylabel('frequency')\n",
    "plt.ylim(0, 50000)\n",
    "# tag: option_iv_hist\n",
    "# title: Histogram of all simulated end of period option inner values"
   ]
  },
  {
   "cell_type": "code",
   "execution_count": 33,
   "metadata": {
    "collapsed": false,
    "uuid": "d5aed456-001a-423c-9366-df294f1c3f0b"
   },
   "outputs": [
    {
     "data": {
      "text/plain": [
       "133533"
      ]
     },
     "execution_count": 33,
     "metadata": {},
     "output_type": "execute_result"
    }
   ],
   "source": [
    "sum(S[-1] < K)"
   ]
  },
  {
   "cell_type": "markdown",
   "metadata": {},
   "source": [
    "## Technical Analysis"
   ]
  },
  {
   "cell_type": "code",
   "execution_count": 34,
   "metadata": {
    "collapsed": false,
    "uuid": "dcba1a61-94e3-47dd-ab54-2c688e740741"
   },
   "outputs": [],
   "source": [
    "import numpy as np\n",
    "import pandas as pd\n",
    "import pandas.io.data as web\n",
    "import pandas as pd\n"
   ]
  },
  {
   "cell_type": "code",
   "execution_count": 35,
   "metadata": {
    "collapsed": false,
    "uuid": "3b6ce702-6a8c-400c-a6fc-d382f316dd9c"
   },
   "outputs": [
    {
     "data": {
      "text/plain": [
       "DatetimeIndex(['2016-01-01', '2016-01-02', '2016-01-03', '2016-01-04',\n",
       "               '2016-01-05', '2016-01-06', '2016-01-07', '2016-01-08',\n",
       "               '2016-01-09', '2016-01-10',\n",
       "               ...\n",
       "               '2016-08-30', '2016-08-31', '2016-09-01', '2016-09-02',\n",
       "               '2016-09-03', '2016-09-04', '2016-09-05', '2016-09-06',\n",
       "               '2016-09-07', '2016-09-08'],\n",
       "              dtype='datetime64[ns]', length=252, freq='D')"
      ]
     },
     "execution_count": 35,
     "metadata": {},
     "output_type": "execute_result"
    }
   ],
   "source": [
    "#sp500 = web.DataReader('^GSPC', data_source='yahoo',start='1/1/2000', end='4/14/2014')\n",
    "#sp500.info()\n",
    "dates = pd.date_range('20160101',periods=252)\n",
    "dates"
   ]
  },
  {
   "cell_type": "code",
   "execution_count": 36,
   "metadata": {
    "collapsed": false
   },
   "outputs": [],
   "source": [
    "gspc = pd.read_csv('data/gspc31.csv',header=None)\n",
    "#gspc.tail()\n",
    "#gspc"
   ]
  },
  {
   "cell_type": "code",
   "execution_count": 37,
   "metadata": {
    "collapsed": false
   },
   "outputs": [],
   "source": [
    "import numpy  \n",
    "my_matrix = gspc.as_matrix(columns=None)\n",
    "#my_matrix"
   ]
  },
  {
   "cell_type": "code",
   "execution_count": 38,
   "metadata": {
    "collapsed": false
   },
   "outputs": [],
   "source": [
    "#sp500 = pd.DataFrame(gspc,index=dates,columns=['Open','High','Low','Close','Volume','Adj Close'])\n",
    "sp500 = pd.DataFrame(my_matrix,index=dates,columns=['Open','High','Low','Close','Volume','Adj Close'])"
   ]
  },
  {
   "cell_type": "code",
   "execution_count": 39,
   "metadata": {
    "collapsed": false
   },
   "outputs": [
    {
     "name": "stdout",
     "output_type": "stream",
     "text": [
      "<class 'pandas.core.frame.DataFrame'>\n",
      "DatetimeIndex: 252 entries, 2016-01-01 to 2016-09-08\n",
      "Freq: D\n",
      "Data columns (total 6 columns):\n",
      "Open         252 non-null float64\n",
      "High         252 non-null float64\n",
      "Low          252 non-null float64\n",
      "Close        252 non-null float64\n",
      "Volume       252 non-null float64\n",
      "Adj Close    252 non-null float64\n",
      "dtypes: float64(6)\n",
      "memory usage: 13.8 KB\n"
     ]
    }
   ],
   "source": [
    "sp500.info()"
   ]
  },
  {
   "cell_type": "code",
   "execution_count": 40,
   "metadata": {
    "collapsed": false
   },
   "outputs": [
    {
     "data": {
      "text/html": [
       "<div>\n",
       "<table border=\"1\" class=\"dataframe\">\n",
       "  <thead>\n",
       "    <tr style=\"text-align: right;\">\n",
       "      <th></th>\n",
       "      <th>Open</th>\n",
       "      <th>High</th>\n",
       "      <th>Low</th>\n",
       "      <th>Close</th>\n",
       "      <th>Volume</th>\n",
       "      <th>Adj Close</th>\n",
       "    </tr>\n",
       "  </thead>\n",
       "  <tbody>\n",
       "    <tr>\n",
       "      <th>2016-09-04</th>\n",
       "      <td>2129.78</td>\n",
       "      <td>2133.25</td>\n",
       "      <td>2125.53</td>\n",
       "      <td>2126.15</td>\n",
       "      <td>3.922400e+09</td>\n",
       "      <td>2126.15</td>\n",
       "    </tr>\n",
       "    <tr>\n",
       "      <th>2016-09-05</th>\n",
       "      <td>2132.23</td>\n",
       "      <td>2140.72</td>\n",
       "      <td>2119.36</td>\n",
       "      <td>2126.41</td>\n",
       "      <td>4.019510e+09</td>\n",
       "      <td>2126.41</td>\n",
       "    </tr>\n",
       "    <tr>\n",
       "      <th>2016-09-06</th>\n",
       "      <td>2144.06</td>\n",
       "      <td>2147.13</td>\n",
       "      <td>2132.52</td>\n",
       "      <td>2133.04</td>\n",
       "      <td>4.204830e+09</td>\n",
       "      <td>2133.04</td>\n",
       "    </tr>\n",
       "    <tr>\n",
       "      <th>2016-09-07</th>\n",
       "      <td>2136.97</td>\n",
       "      <td>2145.73</td>\n",
       "      <td>2131.59</td>\n",
       "      <td>2139.43</td>\n",
       "      <td>3.775200e+09</td>\n",
       "      <td>2139.43</td>\n",
       "    </tr>\n",
       "    <tr>\n",
       "      <th>2016-09-08</th>\n",
       "      <td>2149.72</td>\n",
       "      <td>2151.44</td>\n",
       "      <td>2141.93</td>\n",
       "      <td>2143.16</td>\n",
       "      <td>3.751340e+09</td>\n",
       "      <td>2143.16</td>\n",
       "    </tr>\n",
       "  </tbody>\n",
       "</table>\n",
       "</div>"
      ],
      "text/plain": [
       "               Open     High      Low    Close        Volume  Adj Close\n",
       "2016-09-04  2129.78  2133.25  2125.53  2126.15  3.922400e+09    2126.15\n",
       "2016-09-05  2132.23  2140.72  2119.36  2126.41  4.019510e+09    2126.41\n",
       "2016-09-06  2144.06  2147.13  2132.52  2133.04  4.204830e+09    2133.04\n",
       "2016-09-07  2136.97  2145.73  2131.59  2139.43  3.775200e+09    2139.43\n",
       "2016-09-08  2149.72  2151.44  2141.93  2143.16  3.751340e+09    2143.16"
      ]
     },
     "execution_count": 40,
     "metadata": {},
     "output_type": "execute_result"
    }
   ],
   "source": [
    "#sp500[:5]\n",
    "sp500.tail()\n",
    "#sp500"
   ]
  },
  {
   "cell_type": "code",
   "execution_count": 41,
   "metadata": {
    "collapsed": false,
    "uuid": "444a17d9-8fd1-436d-825a-3001cb080b7c"
   },
   "outputs": [
    {
     "data": {
      "text/plain": [
       "<matplotlib.axes._subplots.AxesSubplot at 0x9661ac8>"
      ]
     },
     "execution_count": 41,
     "metadata": {},
     "output_type": "execute_result"
    },
    {
     "data": {
      "image/png": "[encoded data removed]",
      "text/plain": [
       "<matplotlib.figure.Figure at 0xd685240>"
      ]
     },
     "metadata": {},
     "output_type": "display_data"
    }
   ],
   "source": [
    "sp500['Close'] = sp500['Close'].astype('float64')\n",
    "\n",
    "sp500['Close'].plot(grid=True, figsize=(8, 5))\n",
    "# tag: sp500\n",
    "# title: Historical levels of the S&P 500 index"
   ]
  },
  {
   "cell_type": "code",
   "execution_count": 42,
   "metadata": {
    "collapsed": false,
    "uuid": "d134fa6d-4db4-40f3-b1ce-952ef2346e18"
   },
   "outputs": [],
   "source": [
    "sp500['12d'] = np.round(pd.rolling_mean(sp500['Close'], window=12), 2)\n",
    "sp500['52d'] = np.round(pd.rolling_mean(sp500['Close'], window=52), 2)"
   ]
  },
  {
   "cell_type": "code",
   "execution_count": 43,
   "metadata": {
    "collapsed": false,
    "uuid": "8af03824-0abb-4747-9f8f-d517d48bd673"
   },
   "outputs": [
    {
     "data": {
      "text/html": [
       "<div>\n",
       "<table border=\"1\" class=\"dataframe\">\n",
       "  <thead>\n",
       "    <tr style=\"text-align: right;\">\n",
       "      <th></th>\n",
       "      <th>Close</th>\n",
       "      <th>12d</th>\n",
       "      <th>52d</th>\n",
       "    </tr>\n",
       "  </thead>\n",
       "  <tbody>\n",
       "    <tr>\n",
       "      <th>2016-09-04</th>\n",
       "      <td>2126.15</td>\n",
       "      <td>2135.04</td>\n",
       "      <td>2215.44</td>\n",
       "    </tr>\n",
       "    <tr>\n",
       "      <th>2016-09-05</th>\n",
       "      <td>2126.41</td>\n",
       "      <td>2130.54</td>\n",
       "      <td>2212.59</td>\n",
       "    </tr>\n",
       "    <tr>\n",
       "      <th>2016-09-06</th>\n",
       "      <td>2133.04</td>\n",
       "      <td>2127.95</td>\n",
       "      <td>2209.95</td>\n",
       "    </tr>\n",
       "    <tr>\n",
       "      <th>2016-09-07</th>\n",
       "      <td>2139.43</td>\n",
       "      <td>2125.86</td>\n",
       "      <td>2207.33</td>\n",
       "    </tr>\n",
       "    <tr>\n",
       "      <th>2016-09-08</th>\n",
       "      <td>2143.16</td>\n",
       "      <td>2123.84</td>\n",
       "      <td>2204.91</td>\n",
       "    </tr>\n",
       "  </tbody>\n",
       "</table>\n",
       "</div>"
      ],
      "text/plain": [
       "              Close      12d      52d\n",
       "2016-09-04  2126.15  2135.04  2215.44\n",
       "2016-09-05  2126.41  2130.54  2212.59\n",
       "2016-09-06  2133.04  2127.95  2209.95\n",
       "2016-09-07  2139.43  2125.86  2207.33\n",
       "2016-09-08  2143.16  2123.84  2204.91"
      ]
     },
     "execution_count": 43,
     "metadata": {},
     "output_type": "execute_result"
    }
   ],
   "source": [
    "sp500[['Close', '12d', '52d']].tail()"
   ]
  },
  {
   "cell_type": "code",
   "execution_count": 44,
   "metadata": {
    "collapsed": false,
    "uuid": "4dc6ac7e-6fac-4994-811b-35789c551de7"
   },
   "outputs": [
    {
     "data": {
      "text/plain": [
       "<matplotlib.axes._subplots.AxesSubplot at 0xdd2cba8>"
      ]
     },
     "execution_count": 44,
     "metadata": {},
     "output_type": "execute_result"
    },
    {
     "data": {
      "image/png": "[encoded data removed]",
      "text/plain": [
       "<matplotlib.figure.Figure at 0xc87e5c0>"
      ]
     },
     "metadata": {},
     "output_type": "display_data"
    }
   ],
   "source": [
    "sp500[['Close', '12d', '52d']].plot(grid=True, figsize=(8, 5))\n",
    "# tag: sp500_trend\n",
    "# title: The S&P 500 index with 42d and 52d trend lines"
   ]
  },
  {
   "cell_type": "code",
   "execution_count": 45,
   "metadata": {
    "collapsed": false,
    "uuid": "ccc2b0e9-5ab7-49c1-8054-3a1e1b23ab92"
   },
   "outputs": [
    {
     "data": {
      "text/plain": [
       "2016-09-04    80.40\n",
       "2016-09-05    82.05\n",
       "2016-09-06    82.00\n",
       "2016-09-07    81.47\n",
       "2016-09-08    81.07\n",
       "Freq: D, Name: 12-52, dtype: float64"
      ]
     },
     "execution_count": 45,
     "metadata": {},
     "output_type": "execute_result"
    }
   ],
   "source": [
    "sp500['12-52'] = sp500['52d'] - sp500['12d']\n",
    "sp500['12-52'].tail()\n"
   ]
  },
  {
   "cell_type": "code",
   "execution_count": 46,
   "metadata": {
    "collapsed": false,
    "uuid": "e127f7c9-8e7f-4038-b490-502e6bf436f7"
   },
   "outputs": [
    {
     "data": {
      "text/plain": [
       "2016-01-01   NaN\n",
       "2016-01-02   NaN\n",
       "2016-01-03   NaN\n",
       "2016-01-04   NaN\n",
       "2016-01-05   NaN\n",
       "Freq: D, Name: 12-52, dtype: float64"
      ]
     },
     "execution_count": 46,
     "metadata": {},
     "output_type": "execute_result"
    }
   ],
   "source": [
    "sp500['12-52'].head()"
   ]
  },
  {
   "cell_type": "code",
   "execution_count": 47,
   "metadata": {
    "collapsed": false,
    "uuid": "d1125e1b-3cd0-4274-aee7-9b1136db8c02"
   },
   "outputs": [
    {
     "data": {
      "text/plain": [
       "1    134\n",
       "0    118\n",
       "Name: Regime, dtype: int64"
      ]
     },
     "execution_count": 47,
     "metadata": {},
     "output_type": "execute_result"
    }
   ],
   "source": [
    "#SD = 50\n",
    "SD = 20\n",
    "sp500['Regime'] = np.where(sp500['12-52'] > SD, 1, 0)\n",
    "sp500['Regime'] = np.where(sp500['12-52'] < -SD, -1, sp500['Regime'])\n",
    "sp500['Regime'].value_counts()"
   ]
  },
  {
   "cell_type": "code",
   "execution_count": 48,
   "metadata": {
    "collapsed": false,
    "uuid": "ffec4dc1-ebb4-43e1-962d-1fbc465afee1"
   },
   "outputs": [
    {
     "data": {
      "text/plain": [
       "(-1.1, 1.1)"
      ]
     },
     "execution_count": 48,
     "metadata": {},
     "output_type": "execute_result"
    },
    {
     "data": {
      "image/png": "[encoded data removed]",
      "text/plain": [
       "<matplotlib.figure.Figure at 0xd7a0dd8>"
      ]
     },
     "metadata": {},
     "output_type": "display_data"
    }
   ],
   "source": [
    "sp500['Regime'].plot(lw=1.5, grid=True)\n",
    "plt.ylim([-1.1, 1.1])\n",
    "# tag: sp500_signal\n",
    "# title: Signal regimes over time"
   ]
  },
  {
   "cell_type": "code",
   "execution_count": 49,
   "metadata": {
    "collapsed": false,
    "uuid": "0e51676f-7b84-441d-8191-08799247774c"
   },
   "outputs": [],
   "source": [
    "sp500['Market'] = np.log(sp500['Close'] / sp500['Close'].shift(1))"
   ]
  },
  {
   "cell_type": "code",
   "execution_count": 50,
   "metadata": {
    "collapsed": false,
    "uuid": "25f3c42a-ec95-46e3-a194-4e29f0c830af"
   },
   "outputs": [],
   "source": [
    "sp500['Strategy'] = sp500['Regime'].shift(1) * sp500['Market']"
   ]
  },
  {
   "cell_type": "code",
   "execution_count": 51,
   "metadata": {
    "collapsed": false,
    "uuid": "ce759e67-918d-432c-a411-b22c6777dac5"
   },
   "outputs": [
    {
     "data": {
      "text/plain": [
       "<matplotlib.axes._subplots.AxesSubplot at 0xf5350b8>"
      ]
     },
     "execution_count": 51,
     "metadata": {},
     "output_type": "execute_result"
    },
    {
     "data": {
      "image/png": "[encoded data removed]",
      "text/plain": [
       "<matplotlib.figure.Figure at 0xe0990f0>"
      ]
     },
     "metadata": {},
     "output_type": "display_data"
    }
   ],
   "source": [
    "sp500[['Market', 'Strategy']].cumsum().apply(np.exp).plot(grid=True,\n",
    "                                                    figsize=(8, 5))\n",
    "# tag: sp500_wealth\n",
    "# title: The S&P 500 index vs. investor's wealth"
   ]
  },
  {
   "cell_type": "markdown",
   "metadata": {},
   "source": [
    "## Conclusions"
   ]
  },
  {
   "cell_type": "markdown",
   "metadata": {},
   "source": [
    "## Further Reading"
   ]
  },
  {
   "cell_type": "code",
   "execution_count": null,
   "metadata": {
    "collapsed": true
   },
   "outputs": [],
   "source": []
  },
  {
   "cell_type": "code",
   "execution_count": null,
   "metadata": {
    "collapsed": true
   },
   "outputs": [],
   "source": []
  },
  {
   "cell_type": "code",
   "execution_count": null,
   "metadata": {
    "collapsed": true
   },
   "outputs": [],
   "source": []
  }
 ],
 "metadata": {
  "anaconda-cloud": {},
  "kernelspec": {
   "display_name": "Python [Root]",
   "language": "python",
   "name": "Python [Root]"
  },
  "language_info": {
   "codemirror_mode": {
    "name": "ipython",
    "version": 2
   },
   "file_extension": ".py",
   "mimetype": "text/x-python",
   "name": "python",
   "nbconvert_exporter": "python",
   "pygments_lexer": "ipython2",
   "version": "2.7.12"
  }
 },
 "nbformat": 4,
 "nbformat_minor": 0
}
