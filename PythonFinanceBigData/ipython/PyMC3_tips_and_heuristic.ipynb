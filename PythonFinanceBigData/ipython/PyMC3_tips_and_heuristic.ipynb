{
 "cells": [
  {
   "cell_type": "code",
   "execution_count": 1,
   "metadata": {
    "collapsed": false
   },
   "outputs": [
    {
     "name": "stdout",
     "output_type": "stream",
     "text": [
      "Populating the interactive namespace from numpy and matplotlib\n"
     ]
    }
   ],
   "source": [
    "%pylab inline\n",
    "\n",
    "import numpy as np\n",
    "import scipy.stats as stats\n",
    "import pymc3 as pm\n",
    "from theano import shared\n",
    "import theano\n",
    "import theano.tensor as tt\n",
    "floatX = \"float32\"\n",
    "\n",
    "%config InlineBackend.figure_format = 'retina'\n",
    "plt.style.use('ggplot')"
   ]
  },
  {
   "cell_type": "markdown",
   "metadata": {},
   "source": [
    "# PyMC3 Modeling tips and heuristic\n",
    "A walkthrough of implementing a Conditional Autoregressive (CAR) model in `PyMC3`, with `WinBugs`/`PyMC2` and `STAN` code as references.\n",
    "\n",
    "* Notebook Written by [Junpeng Lao](https://www.github.com/junpenglao/), inspired by `PyMC3` [issue#2022](https://github.com/pymc-devs/pymc3/issues/2022), [issue#2066](https://github.com/pymc-devs/pymc3/issues/2066) and [comments](https://github.com/pymc-devs/pymc3/issues/2066#issuecomment-296397012). I would like to thank [@denadai2](https://github.com/denadai2), [@aseyboldt](https://github.com/aseyboldt), and [@twiecki](https://github.com/twiecki) for the helpful discussion."
   ]
  },
  {
   "cell_type": "markdown",
   "metadata": {},
   "source": [
    "As a probabilistic language, there are some fundamental differences between `PyMC3` and other alternatives such as `WinBugs`, `JAGS`, and `STAN`. In this notebook, I will summarise some heuristics and intuition I got over the past two years using `PyMC3`. I will outline some thinking in how I approach a modelling problem using `PyMC3`, and how thinking in linear algebra solves most of the programming problems. I hope this notebook will shed some light onto the design and features of `PyMC3`, and similar languages that are built on linear algebra packages with a static world view (e.g., Edward, which is based on Tensorflow).  \n",
    "\n",
    "\n",
    "For more resources comparing between PyMC3 codes and other probabilistic languages:\n",
    "* [PyMC3 port of \"Doing Bayesian Data Analysis\" - PyMC3 vs WinBugs/JAGS/STAN](https://github.com/aloctavodia/Doing_bayesian_data_analysis)\n",
    "* [PyMC3 port of \"Bayesian Cognitive Modeling\" - PyMC3 vs WinBugs/JAGS/STAN](https://github.com/junpenglao/Bayesian-Cognitive-Modeling-in-Pymc3)\n",
    "* [[WIP] PyMC3 port of \"Statistical Rethinking\" - PyMC3 vs STAN](https://github.com/aloctavodia/Statistical-Rethinking-with-Python-and-PyMC3)"
   ]
  },
  {
   "cell_type": "markdown",
   "metadata": {},
   "source": [
    "## Background information\n",
    "Suppose we want to implement a [Conditional Autoregressive (CAR) model](http://www.statsref.com/HTML/index.html?car_models.html) with examples in [WinBugs/PyMC2](http://glau.ca/?p=340) and [STAN](http://mc-stan.org/documentation/case-studies/mbjoseph-CARStan.html).  \n",
    "For the sake of brevity, I will not go into the details of the CAR model. The essential idea is autocorrelation, which is informally \"correlation with itself\". In a CAR model, the probability of values estimated at any given location $y_i$ are conditional on some neighboring values $y_j, _{j \\neq i}$ (in another word, correlated/covariated with these values):  \n",
    "\n",
    "$$y_i \\mid y_j, j \\neq i \\sim \\mathcal{N}(\\alpha \\sum_{j = 1}^n b_{ij} y_j, \\sigma_i^{2})$$\n",
    "\n",
    "where $\\sigma_i^{2}$ is a spatially varying covariance parameter, and $b_{ii} = 0$. \n",
    "\n",
    "Here we will demonstrate the implementation of a CAR model using a canonical example: the lip cancer risk data in Scotland between 1975 and 1980. The original data is from (Kemp et al. 1985). This dataset includes observed lip cancer case counts at 56 spatial units in Scotland, with the expected number of cases as intercept, and an area-specific continuous variable coded for the proportion of the population employed in agriculture, fishing, or forestry (AFF). We want to model how lip cancer rates (`O` below) relate to AFF (`aff` below), as exposure to sunlight is a risk factor.\n",
    "\n",
    "$$O_i \\sim \\mathcal{Poisson}(\\text{exp}(\\beta_0 + \\beta_1*aff + \\phi_i + \\log(\\text{E}_i)))$$\n",
    "$$\\phi_i \\mid \\phi_j, j \\neq i \\sim \\mathcal{N}(\\alpha \\sum_{j = 1}^n b_{ij} \\phi_j, \\sigma_i^{2})$$\n",
    "\n",
    "Setting up the data:"
   ]
  },
  {
   "cell_type": "code",
   "execution_count": 2,
   "metadata": {
    "collapsed": true
   },
   "outputs": [],
   "source": [
    "county = np.array([\"skye_lochalsh\", \"banff_buchan\", \"caithness,berwickshire\", \"ross_cromarty\", \n",
    "                   \"orkney\", \"moray\", \"shetland\", \"lochaber\", \"gordon\", \"western_isles\", \n",
    "                   \"sutherland\", \"nairn\", \"wigtown\", \"NE.fife\", \"kincardine\", \"badenoch\", \n",
    "                   \"ettrick\", \"inverness\", \"roxburgh\", \"angus\", \"aberdeen\", \"argyll_bute\", \n",
    "                   \"clydesdale\", \"kirkcaldy\", \"dunfermline\", \"nithsdale\", \"east_lothian\", \n",
    "                   \"perth_kinross\", \"west_lothian\", \"cumnock_doon\", \"stewartry\", \"midlothian\", \n",
    "                   \"stirling\", \"kyle_carrick\", \"inverclyde\", \"cunninghame\", \"monklands\", \n",
    "                   \"dumbarton\", \"clydebank\", \"renfrew\", \"falkirk\", \"clackmannan\", \"motherwell\", \n",
    "                   \"edinburgh\", \"kilmarnock\", \"east_kilbride\", \"hamilton\", \"glasgow\", \"dundee\", \n",
    "                   \"cumbernauld\", \"bearsden\", \"eastwood\", \"strathkelvin\", \"tweeddale\", \n",
    "                   \"annandale\"])\n",
    "\n",
    "# observed \n",
    "O = np.array([9, 39, 11, 9, 15, 8, 26, 7, 6, 20, 13, 5, 3, 8, 17, 9, 2, 7, 9, 7, 16, \n",
    "              31, 11, 7, 19, 15, 7, 10, 16, 11, 5, 3, 7, 8, 11, 9, 11, 8, 6, 4, 10, \n",
    "              8, 2, 6, 19, 3, 2, 3, 28, 6, 1, 1, 1, 1, 0, 0])\n",
    "N = len(O)\n",
    "\n",
    "# expected (E) rates, based on the age of the local population\n",
    "E = np.array([1.4, 8.7, 3.0, 2.5, 4.3, 2.4, 8.1, 2.3, 2.0, 6.6, 4.4, 1.8, 1.1, 3.3, \n",
    "              7.8, 4.6, 1.1, 4.2, 5.5, 4.4, 10.5, 22.7, 8.8, 5.6, 15.5, 12.5, 6.0, \n",
    "              9.0, 14.4, 10.2, 4.8, 2.9, 7.0, 8.5, 12.3, 10.1, 12.7, 9.4, 7.2, 5.3, \n",
    "              18.8, 15.8, 4.3, 14.6, 50.7, 8.2, 5.6, 9.3, 88.7, 19.6, 3.4, 3.6, 5.7, \n",
    "              7.0, 4.2, 1.8])\n",
    "logE = np.log(E)\n",
    "\n",
    "# proportion of the population engaged in agriculture, forestry, or fishing (AFF)\n",
    "aff = np.array([16, 16, 10, 24, 10, 24, 10, 7, 7, 16, 7, 16, 10, 24, 7, 16, 10, 7, \n",
    "                7, 10, 7, 16, 10, 7, 1, 1, 7, 7, 10, 10, 7, 24, 10, 7, 7, 0, 10, 1, \n",
    "                16, 0, 1, 16, 16, 0, 1, 7, 1, 1, 0, 1, 1, 0, 1, 1, 16, 10])/10.\n",
    "\n",
    "# Spatial adjacency information\n",
    "adj = np.array([[5, 9, 11,19],\n",
    "                [7, 10],\n",
    "                [6, 12],\n",
    "                [18,20,28],\n",
    "                [1, 11,12,13,19],\n",
    "                [3, 8],\n",
    "                [2, 10,13,16,17],\n",
    "                [6],\n",
    "                [1, 11,17,19,23,29],\n",
    "                [2, 7, 16,22],\n",
    "                [1, 5, 9, 12],\n",
    "                [3, 5, 11],\n",
    "                [5, 7, 17,19],\n",
    "                [31,32,35],\n",
    "                [25,29,50],\n",
    "                [7, 10,17,21,22,29],\n",
    "                [7, 9, 13,16,19,29],\n",
    "                [4,20, 28,33,55,56],\n",
    "                [1, 5, 9, 13,17],\n",
    "                [4, 18,55],\n",
    "                [16,29,50],\n",
    "                [10,16],\n",
    "                [9, 29,34,36,37,39],\n",
    "                [27,30,31,44,47,48,55,56],\n",
    "                [15,26,29],\n",
    "                [25,29,42,43],\n",
    "                [24,31,32,55],\n",
    "                [4, 18,33,45],\n",
    "                [9, 15,16,17,21,23,25,26,34,43,50],\n",
    "                [24,38,42,44,45,56],\n",
    "                [14,24,27,32,35,46,47],\n",
    "                [14,27,31,35],\n",
    "                [18,28,45,56],\n",
    "                [23,29,39,40,42,43,51,52,54],\n",
    "                [14,31,32,37,46],\n",
    "                [23,37,39,41],\n",
    "                [23,35,36,41,46],\n",
    "                [30,42,44,49,51,54],\n",
    "                [23,34,36,40,41],\n",
    "                [34,39,41,49,52],\n",
    "                [36,37,39,40,46,49,53],\n",
    "                [26,30,34,38,43,51],\n",
    "                [26,29,34,42],\n",
    "                [24,30,38,48,49],\n",
    "                [28,30,33,56],\n",
    "                [31,35,37,41,47,53],\n",
    "                [24,31,46,48,49,53],\n",
    "                [24,44,47,49],\n",
    "                [38,40,41,44,47,48,52,53,54],\n",
    "                [15,21,29],\n",
    "                [34,38,42,54],\n",
    "                [34,40,49,54],\n",
    "                [41,46,47,49],\n",
    "                [34,38,49,51,52],\n",
    "                [18,20,24,27,56],\n",
    "                [18,24,30,33,45,55]])\n",
    "\n",
    "# Change to Python indexing (i.e. -1)\n",
    "for i in range(len(adj)):\n",
    "    for j in range(len(adj[i])):\n",
    "        adj[i][j] = adj[i][j]-1\n",
    "\n",
    "# spatial weight\n",
    "weights = np.array([[1,1,1,1],\n",
    "                    [1,1],\n",
    "                    [1,1],\n",
    "                    [1,1,1],\n",
    "                    [1,1,1,1,1],\n",
    "                    [1,1],\n",
    "                    [1,1,1,1,1],\n",
    "                    [1],\n",
    "                    [1,1,1,1,1,1],\n",
    "                    [1,1,1,1],\n",
    "                    [1,1,1,1],\n",
    "                    [1,1,1],\n",
    "                    [1,1,1,1],\n",
    "                    [1,1,1],\n",
    "                    [1,1,1],\n",
    "                    [1,1,1,1,1,1],\n",
    "                    [1,1,1,1,1,1],\n",
    "                    [1,1,1,1,1,1],\n",
    "                    [1,1,1,1,1],\n",
    "                    [1,1,1],\n",
    "                    [1,1,1],\n",
    "                    [1,1],\n",
    "                    [1,1,1,1,1,1],\n",
    "                    [1,1,1,1,1,1,1,1],\n",
    "                    [1,1,1],\n",
    "                    [1,1,1,1],\n",
    "                    [1,1,1,1],\n",
    "                    [1,1,1,1],\n",
    "                    [1,1,1,1,1,1,1,1,1,1,1],\n",
    "                    [1,1,1,1,1,1],\n",
    "                    [1,1,1,1,1,1,1],\n",
    "                    [1,1,1,1],\n",
    "                    [1,1,1,1],\n",
    "                    [1,1,1,1,1,1,1,1,1],\n",
    "                    [1,1,1,1,1],\n",
    "                    [1,1,1,1],\n",
    "                    [1,1,1,1,1],\n",
    "                    [1,1,1,1,1,1],\n",
    "                    [1,1,1,1,1],\n",
    "                    [1,1,1,1,1],\n",
    "                    [1,1,1,1,1,1,1],\n",
    "                    [1,1,1,1,1,1],\n",
    "                    [1,1,1,1],\n",
    "                    [1,1,1,1,1],\n",
    "                    [1,1,1,1],\n",
    "                    [1,1,1,1,1,1],\n",
    "                    [1,1,1,1,1,1],\n",
    "                    [1,1,1,1],\n",
    "                    [1,1,1,1,1,1,1,1,1],\n",
    "                    [1,1,1],\n",
    "                    [1,1,1,1],\n",
    "                    [1,1,1,1],\n",
    "                    [1,1,1,1],\n",
    "                    [1,1,1,1,1],\n",
    "                    [1,1,1,1,1],\n",
    "                    [1,1,1,1,1,1]])\n",
    "\n",
    "Wplus = np.asarray([sum(w) for w in weights])"
   ]
  },
  {
   "cell_type": "markdown",
   "metadata": {},
   "source": [
    "## A WinBugs/PyMC2 implementation\n",
    "\n",
    "The classical `WinBugs` implementation (more information [here](http://glau.ca/?p=340)):\n",
    "\n",
    "```\n",
    "model\n",
    "{\n",
    "   for (i in 1 : regions) {\n",
    "      O[i] ~ dpois(mu[i])\n",
    "      log(mu[i]) <- log(E[i]) + beta0 + beta1*aff[i]/10 + phi[i] + theta[i]\n",
    "      theta[i] ~ dnorm(0.0,tau.h)\n",
    "   }\n",
    "   phi[1:regions] ~ car.normal(adj[], weights[], Wplus[], tau.c)\n",
    "\n",
    "   beta0 ~ dnorm(0.0, 1.0E-5)  # vague prior on grand intercept\n",
    "   beta1 ~ dnorm(0.0, 1.0E-5)  # vague prior on covariate effect\n",
    "\n",
    "   tau.h ~ dgamma(3.2761, 1.81)    \n",
    "   tau.c ~ dgamma(1.0, 1.0)  \n",
    "\n",
    "   sd.h <- sd(theta[]) # marginal SD of heterogeneity effects\n",
    "   sd.c <- sd(phi[])   # marginal SD of clustering (spatial) effects\n",
    "\n",
    "   alpha <- sd.c / (sd.h + sd.c)\n",
    "}\n",
    "```\n",
    "\n",
    "The main challenge to porting this model to `PyMC3` is the `car.normal` function in `WinBugs`. It is a likelihood function that conditions each realization on some neigbour realization (a smoothed property). In `PyMC2`, it could be implemented as a [custom likelihood function (a `@stochastic` node) `mu_phi`](http://glau.ca/?p=340):  \n",
    "\n",
    "```python\n",
    "@stochastic\n",
    "def mu_phi(tau=tau_c, value=np.zeros(N)):\n",
    "    # Calculate mu based on average of neighbours \n",
    "    mu = np.array([ sum(weights[i]*value[adj[i]])/Wplus[i] for i in xrange(N)])\n",
    "    # Scale precision to the number of neighbours\n",
    "    taux = tau*Wplus\n",
    "    return normal_like(value,mu,taux)\n",
    "```\n",
    "\n",
    "We can just define `mu_phi` similarly and wrap it in a `pymc3.DensityDist`, however, doing so usually results in a very slow model (both in compling and sampling). In general, porting pymc2 code into pymc3 (or even generally porting `WinBugs`, `JAGS`, or `STAN` code into `PyMC3`) that use a `for` loops tend to perform poorly in `theano`, the backend of `PyMC3`.  \n",
    "\n",
    "The underlying mechanism in `PyMC3` is very different compared to `PyMC2`, using `for` loops to generate RV or stacking multiple RV with arguments such as `[pm.Binomial('obs%'%i, p[i], n) for i in range(K)]` generate unnecessary large number of nodes in `theano` graph, which then slows down compilation appreciably.  \n",
    "\n",
    "The easiest way is to move the loop out of `pm.Model`. And usually is not difficult to do. For example, in `Stan` you can have a `transformed data{}` block; in `PyMC3` you just need to compute it before defining your Model.\n",
    "\n",
    "If it is absolutely necessary to use a `for` loop, you can use a theano loop (i.e., `theano.scan`), which you can find some introduction on the [theano website](http://deeplearning.net/software/theano/tutorial/loop.html) and see a usecase in PyMC3 [timeseries distribution](https://github.com/pymc-devs/pymc3/blob/master/pymc3/distributions/timeseries.py#L125-L130)."
   ]
  },
  {
   "cell_type": "markdown",
   "metadata": {},
   "source": [
    "## PyMC3 implementation using `theano.scan`\n",
    "\n",
    "So lets try to implement the CAR model using `theano.scan`. First we create a `theano` function with `theano.scan` and check if it really works by comparing its result to the for-loop."
   ]
  },
  {
   "cell_type": "code",
   "execution_count": 3,
   "metadata": {
    "collapsed": false,
    "scrolled": false
   },
   "outputs": [
    {
     "name": "stdout",
     "output_type": "stream",
     "text": [
      "[-0.05432695  0.36027763  0.22250836  0.28449303  0.11345899  0.25377088\n",
      "  0.00803018 -0.16674711  0.34145765  0.05675997 -0.02620647  0.7409471\n",
      "  0.38225915 -0.37497185 -0.21873646  0.06670644 -0.31507673 -0.20731855\n",
      "  0.02017988 -0.12209353 -0.70607997 -0.15604399 -0.11645485  0.22156828\n",
      "  0.47742131  0.30605455  0.05654835 -0.20790594  0.59949078 -0.57855619\n",
      "  0.4849673   0.39046961 -0.13084244  0.05134793  0.2469651   0.40017687\n",
      " -0.35549127 -0.1341201  -0.38691995 -0.21292558 -0.03744501  0.16346697\n",
      " -0.06235911 -0.33001795  0.0021065  -0.39404245  0.11859553  0.03129595\n",
      " -0.57334152  0.18844841 -0.74344014 -0.44908207 -0.51575536 -0.44697157\n",
      "  0.4899049   0.11226361]\n",
      "[-0.05432695  0.36027763  0.22250836  0.28449303  0.11345899  0.25377088\n",
      "  0.00803018 -0.16674711  0.34145765  0.05675997 -0.02620647  0.7409471\n",
      "  0.38225915 -0.37497185 -0.21873646  0.06670644 -0.31507673 -0.20731855\n",
      "  0.02017988 -0.12209353 -0.70607997 -0.15604399 -0.11645485  0.22156828\n",
      "  0.47742131  0.30605455  0.05654835 -0.20790594  0.59949078 -0.57855619\n",
      "  0.4849673   0.39046961 -0.13084244  0.05134793  0.2469651   0.40017687\n",
      " -0.35549127 -0.1341201  -0.38691995 -0.21292558 -0.03744501  0.16346697\n",
      " -0.06235911 -0.33001795  0.0021065  -0.39404245  0.11859553  0.03129595\n",
      " -0.57334152  0.18844841 -0.74344014 -0.44908207 -0.51575536 -0.44697157\n",
      "  0.4899049   0.11226361]\n"
     ]
    }
   ],
   "source": [
    "value = np.asarray(np.random.randn(N,), dtype=theano.config.floatX)\n",
    "\n",
    "maxwz = max([sum(w) for w in weights])\n",
    "N = len(weights)\n",
    "wmat = np.zeros((N, maxwz))\n",
    "amat = np.zeros((N, maxwz), dtype='int32')\n",
    "for i, w in enumerate(weights):\n",
    "    wmat[i, np.arange(len(w))] = w\n",
    "    amat[i, np.arange(len(w))] = adj[i]\n",
    "\n",
    "# defining the tensor variables\n",
    "x = tt.vector(\"x\")\n",
    "x.tag.test_value = value\n",
    "w = tt.matrix(\"w\")\n",
    "# provide Theano with a default test-value\n",
    "w.tag.test_value = wmat\n",
    "a = tt.matrix(\"a\", dtype='int32')\n",
    "a.tag.test_value = amat\n",
    "\n",
    "\n",
    "def get_mu(w, a):\n",
    "    a1 = tt.cast(a, 'int32')\n",
    "    return tt.sum(w*x[a1])/tt.sum(w)\n",
    "\n",
    "results, _ = theano.scan(fn=get_mu, sequences=[w, a])\n",
    "compute_elementwise = theano.function(inputs=[x, w, a], outputs=results)\n",
    "\n",
    "print(compute_elementwise(value, wmat, amat))\n",
    "\n",
    "\n",
    "def mu_phi(value):\n",
    "    N = len(weights)\n",
    "    # Calculate mu based on average of neighbours\n",
    "    mu = np.array([np.sum(weights[i]*value[adj[i]])/Wplus[i] for i in range(N)])\n",
    "    return mu\n",
    "\n",
    "print(mu_phi(value))"
   ]
  },
  {
   "cell_type": "markdown",
   "metadata": {},
   "source": [
    "Since it produces the same result as the orignial for-loop, we will wrap it as a new distribution with a log-likelihood function in `PyMC3`."
   ]
  },
  {
   "cell_type": "code",
   "execution_count": 4,
   "metadata": {
    "collapsed": true
   },
   "outputs": [],
   "source": [
    "from theano import scan\n",
    "floatX = \"float32\"\n",
    "\n",
    "from pymc3.distributions import continuous\n",
    "from pymc3.distributions import distribution"
   ]
  },
  {
   "cell_type": "code",
   "execution_count": 5,
   "metadata": {
    "collapsed": true
   },
   "outputs": [],
   "source": [
    "class CAR(distribution.Continuous):\n",
    "    \"\"\"\n",
    "    Conditional Autoregressive (CAR) distribution\n",
    "\n",
    "    Parameters\n",
    "    ----------\n",
    "    a : list of adjacency information\n",
    "    w : list of weight information\n",
    "    tau : precision at each location\n",
    "    \"\"\"\n",
    "    def __init__(self, w, a, tau, *args, **kwargs):\n",
    "        super(CAR, self).__init__(*args, **kwargs)\n",
    "        self.a = a = tt.as_tensor_variable(a)\n",
    "        self.w = w = tt.as_tensor_variable(w)\n",
    "        self.tau = tau*tt.sum(w, axis=1)\n",
    "        self.mode = 0.\n",
    "\n",
    "    def get_mu(self, x):\n",
    "\n",
    "        def weigth_mu(w, a):\n",
    "            a1 = tt.cast(a, 'int32')\n",
    "            return tt.sum(w*x[a1])/tt.sum(w)\n",
    "\n",
    "        mu_w, _ = scan(fn=weigth_mu,\n",
    "                       sequences=[self.w, self.a])\n",
    "\n",
    "        return mu_w\n",
    "\n",
    "    def logp(self, x):\n",
    "        mu_w = self.get_mu(x)\n",
    "        tau = self.tau\n",
    "        return tt.sum(continuous.Normal.dist(mu=mu_w, tau=tau).logp(x))"
   ]
  },
  {
   "cell_type": "markdown",
   "metadata": {},
   "source": [
    "We then use it in our `PyMC3` version of the CAR model:"
   ]
  },
  {
   "cell_type": "code",
   "execution_count": null,
   "metadata": {
    "collapsed": false
   },
   "outputs": [],
   "source": [
    "with pm.Model() as model1:\n",
    "    # Vague prior on intercept\n",
    "    beta0 = pm.Normal('beta0', mu=0.0, tau=1.0e-5)\n",
    "    # Vague prior on covariate effect\n",
    "    beta1 = pm.Normal('beta1', mu=0.0, tau=1.0e-5)\n",
    "\n",
    "    # Random effects (hierarchial) prior\n",
    "    tau_h = pm.Gamma('tau_h', alpha=3.2761, beta=1.81)\n",
    "    # Spatial clustering prior\n",
    "    tau_c = pm.Gamma('tau_c', alpha=1.0, beta=1.0)\n",
    "\n",
    "    # Regional random effects\n",
    "    theta = pm.Normal('theta', mu=0.0, tau=tau_h, shape=N)\n",
    "    mu_phi = CAR('mu_phi', w=wmat, a=amat, tau=tau_c, shape=N)\n",
    "\n",
    "    # Zero-centre phi\n",
    "    phi = pm.Deterministic('phi', mu_phi-tt.mean(mu_phi))\n",
    "\n",
    "    # Mean model\n",
    "    mu = pm.Deterministic('mu', tt.exp(logE + beta0 + beta1*aff + theta + phi))\n",
    "\n",
    "    # Likelihood\n",
    "    Yi = pm.Poisson('Yi', mu=mu, observed=O)\n",
    "\n",
    "    # Marginal SD of heterogeniety effects\n",
    "    sd_h = pm.Deterministic('sd_h', tt.std(theta))\n",
    "    # Marginal SD of clustering (spatial) effects\n",
    "    sd_c = pm.Deterministic('sd_c', tt.std(phi))\n",
    "    # Proportion sptial variance\n",
    "    alpha = pm.Deterministic('alpha', sd_c/(sd_h+sd_c))\n",
    "\n",
    "    trace1 = pm.sample(3e3, njobs=2, tune=1000, nuts_kwargs={'max_treedepth': 15})"
   ]
  },
  {
   "cell_type": "code",
   "execution_count": null,
   "metadata": {
    "collapsed": false
   },
   "outputs": [],
   "source": [
    "pm.traceplot(trace1, varnames=['alpha', 'sd_h', 'sd_c']);"
   ]
  },
  {
   "cell_type": "code",
   "execution_count": null,
   "metadata": {
    "collapsed": false,
    "scrolled": true
   },
   "outputs": [],
   "source": [
    "pm.plot_posterior(trace1, varnames=['alpha']);"
   ]
  },
  {
   "cell_type": "markdown",
   "metadata": {},
   "source": [
    "`theano.scan` is much faster than using a python for loop, but it is still quite slow. One approach for improving it is to use linear algebra. That is, we should try to find a way to use matrix multiplication instead of looping (if you have experience in using MATLAB, it is the same philosophy). In our case, we can totally do that.  \n",
    "\n",
    "For a similar problem, you can also have a look of [my port of Lee and Wagenmakers' book](https://github.com/junpenglao/Bayesian-Cognitive-Modeling-in-Pymc3). For example, in Chapter 19, the STAN code use [a for loop to generate the likelihood function](https://github.com/stan-dev/example-models/blob/master/Bayesian_Cognitive_Modeling/CaseStudies/NumberConcepts/NumberConcept_1_Stan.R#L28-L59), and I [generate the matrix outside and use matrix multiplication etc](http://nbviewer.jupyter.org/github/junpenglao/Bayesian-Cognitive-Modeling-in-Pymc3/blob/master/CaseStudies/NumberConceptDevelopment.ipynb#19.1-Knower-level-model-for-Give-N) to archive the same purpose.  "
   ]
  },
  {
   "cell_type": "markdown",
   "metadata": {},
   "source": [
    "## PyMC3 implementation using matrix \"trick\"\n",
    "\n",
    "Again, we try on some simulation data to make sure the implementation is correct."
   ]
  },
  {
   "cell_type": "code",
   "execution_count": null,
   "metadata": {
    "collapsed": false
   },
   "outputs": [],
   "source": [
    "maxwz = max([sum(w) for w in weights])\n",
    "N = len(weights)\n",
    "wmat2 = np.zeros((N, N))\n",
    "amat2 = np.zeros((N, N), dtype='int32')\n",
    "for i, a in enumerate(adj):\n",
    "    amat2[i, a] = 1\n",
    "    wmat2[i, a] = weights[i]\n",
    "\n",
    "value = np.asarray(np.random.randn(N,), dtype=theano.config.floatX)\n",
    "\n",
    "print(np.sum(value*amat2, axis=1)/np.sum(wmat2, axis=1))\n",
    "\n",
    "\n",
    "def mu_phi(value):\n",
    "    N = len(weights)\n",
    "    # Calculate mu based on average of neighbours\n",
    "    mu = np.array([np.sum(weights[i]*value[adj[i]])/Wplus[i] for i in range(N)])\n",
    "    return mu\n",
    "\n",
    "print(mu_phi(value))"
   ]
  },
  {
   "cell_type": "markdown",
   "metadata": {},
   "source": [
    "Now create a new CAR distribution with the matrix multiplication instead of `theano.scan` to get the `mu`"
   ]
  },
  {
   "cell_type": "code",
   "execution_count": null,
   "metadata": {
    "collapsed": true
   },
   "outputs": [],
   "source": [
    "class CAR2(distribution.Continuous):\n",
    "    \"\"\"\n",
    "    Conditional Autoregressive (CAR) distribution\n",
    "\n",
    "    Parameters\n",
    "    ----------\n",
    "    a : adjacency matrix\n",
    "    w : weight matrix\n",
    "    tau : precision at each location\n",
    "    \"\"\"\n",
    "\n",
    "    def __init__(self, w, a, tau, *args, **kwargs):\n",
    "        super(CAR2, self).__init__(*args, **kwargs)\n",
    "        self.a = a = tt.as_tensor_variable(a)\n",
    "        self.w = w = tt.as_tensor_variable(w)\n",
    "        self.tau = tau*tt.sum(w, axis=1)\n",
    "        self.mode = 0.\n",
    "\n",
    "    def logp(self, x):\n",
    "        tau = self.tau\n",
    "        w = self.w\n",
    "        a = self.a\n",
    "\n",
    "        mu_w = tt.sum(x*a, axis=1)/tt.sum(w, axis=1)\n",
    "        return tt.sum(continuous.Normal.dist(mu=mu_w, tau=tau).logp(x))"
   ]
  },
  {
   "cell_type": "code",
   "execution_count": null,
   "metadata": {
    "collapsed": false
   },
   "outputs": [],
   "source": [
    "with pm.Model() as model2:\n",
    "    # Vague prior on intercept\n",
    "    beta0 = pm.Normal('beta0', mu=0.0, tau=1.0e-5)\n",
    "    # Vague prior on covariate effect\n",
    "    beta1 = pm.Normal('beta1', mu=0.0, tau=1.0e-5)\n",
    "\n",
    "    # Random effects (hierarchial) prior\n",
    "    tau_h = pm.Gamma('tau_h', alpha=3.2761, beta=1.81)\n",
    "    # Spatial clustering prior\n",
    "    tau_c = pm.Gamma('tau_c', alpha=1.0, beta=1.0)\n",
    "\n",
    "    # Regional random effects\n",
    "    theta = pm.Normal('theta', mu=0.0, tau=tau_h, shape=N)\n",
    "    mu_phi = CAR2('mu_phi', w=wmat2, a=amat2, tau=tau_c, shape=N)\n",
    "\n",
    "    # Zero-centre phi\n",
    "    phi = pm.Deterministic('phi', mu_phi-tt.mean(mu_phi))\n",
    "\n",
    "    # Mean model\n",
    "    mu = pm.Deterministic('mu', tt.exp(logE + beta0 + beta1*aff + theta + phi))\n",
    "\n",
    "    # Likelihood\n",
    "    Yi = pm.Poisson('Yi', mu=mu, observed=O)\n",
    "\n",
    "    # Marginal SD of heterogeniety effects\n",
    "    sd_h = pm.Deterministic('sd_h', tt.std(theta))\n",
    "    # Marginal SD of clustering (spatial) effects\n",
    "    sd_c = pm.Deterministic('sd_c', tt.std(phi))\n",
    "    # Proportion sptial variance\n",
    "    alpha = pm.Deterministic('alpha', sd_c/(sd_h+sd_c))\n",
    "\n",
    "    trace2 = pm.sample(3e3, njobs=2, tune=1000, nuts_kwargs={'max_treedepth': 15})"
   ]
  },
  {
   "cell_type": "markdown",
   "metadata": {},
   "source": [
    "**As you can see, it is appreciably faster using matrix multiplication.**"
   ]
  },
  {
   "cell_type": "code",
   "execution_count": null,
   "metadata": {
    "collapsed": false
   },
   "outputs": [],
   "source": [
    "pm.traceplot(trace2, varnames=['alpha', 'sd_h', 'sd_c']);"
   ]
  },
  {
   "cell_type": "code",
   "execution_count": null,
   "metadata": {
    "collapsed": false
   },
   "outputs": [],
   "source": [
    "pm.plot_posterior(trace2, varnames=['alpha']);"
   ]
  },
  {
   "cell_type": "markdown",
   "metadata": {
    "collapsed": true
   },
   "source": [
    "## PyMC3 implementation using Matrix multiplication\n",
    "\n",
    "There are almost always multiple ways to formulate a particular model. Some approaches work better than the others under different contexts (size of your dataset, properties of the sampler, etc). \n",
    "\n",
    "In this case, we can expressed the CAR prior as:  \n",
    "\n",
    "$$\\phi \\sim \\mathcal{N}(0, [D_\\tau (I - \\alpha B)]^{-1}).$$\n",
    "\n",
    "You can find more details in the original [Stan case study](http://mc-stan.org/documentation/case-studies/mbjoseph-CARStan.html). You might come across similar constructs in Gaussian Process, which result in a zero-mean Gaussian distribution conditioned on a covariance function.\n",
    "\n",
    "In the `Stan` Code, matrix D is generated in the model using a `transformed data{}` block:\n",
    "```Stan\n",
    "transformed data{\n",
    "  vector[n] zeros;\n",
    "  matrix<lower = 0>[n, n] D;\n",
    "  {\n",
    "    vector[n] W_rowsums;\n",
    "    for (i in 1:n) {\n",
    "      W_rowsums[i] = sum(W[i, ]);\n",
    "    }\n",
    "    D = diag_matrix(W_rowsums);\n",
    "  }\n",
    "  zeros = rep_vector(0, n);\n",
    "}\n",
    "```\n",
    "We can generate the same matrix quite easily:"
   ]
  },
  {
   "cell_type": "code",
   "execution_count": null,
   "metadata": {
    "collapsed": true
   },
   "outputs": [],
   "source": [
    "X = np.hstack((np.ones((N, 1)), stats.zscore(aff, ddof=1)[:, None]))\n",
    "W = wmat2\n",
    "D = np.diag(W.sum(axis=1))\n",
    "log_offset = logE[:, None]"
   ]
  },
  {
   "cell_type": "markdown",
   "metadata": {},
   "source": [
    "Then in the `Stan` model:\n",
    "```stan\n",
    "model {\n",
    "  phi ~ multi_normal_prec(zeros, tau * (D - alpha * W));\n",
    "  ...\n",
    "} \n",
    "```\n",
    "since the precision matrix just generated by some matrix multiplication, we can do just that in `PyMC3`:"
   ]
  },
  {
   "cell_type": "code",
   "execution_count": null,
   "metadata": {
    "collapsed": false
   },
   "outputs": [],
   "source": [
    "with pm.Model() as model3:\n",
    "    # Vague prior on intercept and effect\n",
    "    beta = pm.Normal('beta', mu=0.0, tau=1.0, shape=(2, 1))\n",
    "\n",
    "    # Priors for spatial random effects\n",
    "    tau = pm.Gamma('tau', alpha=2., beta=2.)\n",
    "    alpha = pm.Uniform('alpha', lower=0, upper=1)\n",
    "    phi = pm.MvNormal('phi', mu=0, tau=tau*(D - alpha*W), shape=(1, N))\n",
    "\n",
    "    # Mean model\n",
    "    mu = pm.Deterministic('mu', tt.exp(tt.dot(X, beta) + phi.T + log_offset))\n",
    "\n",
    "    # Likelihood\n",
    "    Yi = pm.Poisson('Yi', mu=mu.ravel(), observed=O)\n",
    "\n",
    "    trace3 = pm.sample(3e3, njobs=2, tune=1000)"
   ]
  },
  {
   "cell_type": "code",
   "execution_count": null,
   "metadata": {
    "collapsed": false
   },
   "outputs": [],
   "source": [
    "pm.traceplot(trace3, varnames=['alpha', 'beta', 'tau']);"
   ]
  },
  {
   "cell_type": "code",
   "execution_count": null,
   "metadata": {
    "collapsed": false
   },
   "outputs": [],
   "source": [
    "pm.plot_posterior(trace3, varnames=['alpha']);"
   ]
  },
  {
   "cell_type": "markdown",
   "metadata": {},
   "source": [
    "Notice that since the model parameterization is different than in the `WinBugs` model, the `alpha` can't be interpreted in the same way."
   ]
  },
  {
   "cell_type": "markdown",
   "metadata": {
    "collapsed": true
   },
   "source": [
    "## PyMC3 implementation using Sparse Matrix\n",
    "\n",
    "Note that in the node $\\phi \\sim \\mathcal{N}(0, [D_\\tau (I - \\alpha B)]^{-1})$, we are computing the log-likelihood for a multivariate Gaussian distribution, which might not scale well in high-dimensions. We can take advantage of the fact that the covariance matrix here $[D_\\tau (I - \\alpha B)]^{-1}$ is **sparse**, and there are faster ways to compute its log-likelihood. \n",
    "\n",
    "For example, a more efficient sparse representation of the CAR in `STAN`:\n",
    "```stan\n",
    "functions {\n",
    "  /**\n",
    "  * Return the log probability of a proper conditional autoregressive (CAR) prior \n",
    "  * with a sparse representation for the adjacency matrix\n",
    "  *\n",
    "  * @param phi Vector containing the parameters with a CAR prior\n",
    "  * @param tau Precision parameter for the CAR prior (real)\n",
    "  * @param alpha Dependence (usually spatial) parameter for the CAR prior (real)\n",
    "  * @param W_sparse Sparse representation of adjacency matrix (int array)\n",
    "  * @param n Length of phi (int)\n",
    "  * @param W_n Number of adjacent pairs (int)\n",
    "  * @param D_sparse Number of neighbors for each location (vector)\n",
    "  * @param lambda Eigenvalues of D^{-1/2}*W*D^{-1/2} (vector)\n",
    "  *\n",
    "  * @return Log probability density of CAR prior up to additive constant\n",
    "  */\n",
    "  real sparse_car_lpdf(vector phi, real tau, real alpha, \n",
    "    int[,] W_sparse, vector D_sparse, vector lambda, int n, int W_n) {\n",
    "      row_vector[n] phit_D; // phi' * D\n",
    "      row_vector[n] phit_W; // phi' * W\n",
    "      vector[n] ldet_terms;\n",
    "    \n",
    "      phit_D = (phi .* D_sparse)';\n",
    "      phit_W = rep_row_vector(0, n);\n",
    "      for (i in 1:W_n) {\n",
    "        phit_W[W_sparse[i, 1]] = phit_W[W_sparse[i, 1]] + phi[W_sparse[i, 2]];\n",
    "        phit_W[W_sparse[i, 2]] = phit_W[W_sparse[i, 2]] + phi[W_sparse[i, 1]];\n",
    "      }\n",
    "    \n",
    "      for (i in 1:n) ldet_terms[i] = log1m(alpha * lambda[i]);\n",
    "      return 0.5 * (n * log(tau)\n",
    "                    + sum(ldet_terms)\n",
    "                    - tau * (phit_D * phi - alpha * (phit_W * phi)));\n",
    "  }\n",
    "}\n",
    "```\n",
    "with the data transformed in the model:\n",
    "```stan\n",
    "transformed data {\n",
    "  int W_sparse[W_n, 2];   // adjacency pairs\n",
    "  vector[n] D_sparse;     // diagonal of D (number of neigbors for each site)\n",
    "  vector[n] lambda;       // eigenvalues of invsqrtD * W * invsqrtD\n",
    "  \n",
    "  { // generate sparse representation for W\n",
    "  int counter;\n",
    "  counter = 1;\n",
    "  // loop over upper triangular part of W to identify neighbor pairs\n",
    "    for (i in 1:(n - 1)) {\n",
    "      for (j in (i + 1):n) {\n",
    "        if (W[i, j] == 1) {\n",
    "          W_sparse[counter, 1] = i;\n",
    "          W_sparse[counter, 2] = j;\n",
    "          counter = counter + 1;\n",
    "        }\n",
    "      }\n",
    "    }\n",
    "  }\n",
    "  for (i in 1:n) D_sparse[i] = sum(W[i]);\n",
    "  {\n",
    "    vector[n] invsqrtD;  \n",
    "    for (i in 1:n) {\n",
    "      invsqrtD[i] = 1 / sqrt(D_sparse[i]);\n",
    "    }\n",
    "    lambda = eigenvalues_sym(quad_form(W, diag_matrix(invsqrtD)));\n",
    "  }\n",
    "}\n",
    "```\n",
    "and the likelihood:\n",
    "```stan\n",
    "model {\n",
    "  phi ~ sparse_car(tau, alpha, W_sparse, D_sparse, lambda, n, W_n);\n",
    "}\n",
    "```"
   ]
  },
  {
   "cell_type": "markdown",
   "metadata": {},
   "source": [
    "This is quite a lot of code to digest, so my general approach is to compare the intermediate steps (whenever possible) with `Stan`. In this case, I will try to compute `tau, alpha, W_sparse, D_sparse, lambda, n, W_n` outside of the `Stan` model in `R` and compare with my own implementation.  \n",
    "\n",
    "Below is a Sparse CAR implementation in `PyMC3` ([see also here](https://github.com/pymc-devs/pymc3/issues/2066#issuecomment-296397012)). Again, we try to avoid using any looping, as in `STAN`."
   ]
  },
  {
   "cell_type": "code",
   "execution_count": null,
   "metadata": {
    "collapsed": true
   },
   "outputs": [],
   "source": [
    "import scipy\n",
    "\n",
    "class Sparse_CAR(distribution.Continuous):\n",
    "    \"\"\"\n",
    "    Sparse Conditional Autoregressive (CAR) distribution\n",
    "\n",
    "    Parameters\n",
    "    ----------\n",
    "    alpha : spatial smoothing term\n",
    "    W : adjacency matrix\n",
    "    tau : precision at each location\n",
    "    \"\"\"\n",
    "\n",
    "    def __init__(self, alpha, W, tau, *args, **kwargs):\n",
    "        self.alpha = alpha = tt.as_tensor_variable(alpha)\n",
    "        self.tau = tau = tt.as_tensor_variable(tau)\n",
    "        D = W.sum(axis=0)\n",
    "        n, m = W.shape\n",
    "        self.n = n\n",
    "        self.median = self.mode = self.mean = 0\n",
    "        super(Sparse_CAR, self).__init__(*args, **kwargs)\n",
    "\n",
    "        # eigenvalues of D^−1/2 * W * D^−1/2\n",
    "        Dinv_sqrt = np.diag(1 / np.sqrt(D))\n",
    "        DWD = np.matmul(np.matmul(Dinv_sqrt, W), Dinv_sqrt)\n",
    "        self.lam = scipy.linalg.eigvalsh(DWD)\n",
    "\n",
    "        # sparse representation of W\n",
    "        w_sparse = scipy.sparse.csr_matrix(W)\n",
    "        self.W = theano.sparse.as_sparse_variable(w_sparse)\n",
    "        self.D = tt.as_tensor_variable(D)\n",
    "\n",
    "        # Presicion Matrix (inverse of Covariance matrix)\n",
    "        # d_sparse = scipy.sparse.csr_matrix(np.diag(D))\n",
    "        # self.D = theano.sparse.as_sparse_variable(d_sparse)\n",
    "        # self.Phi = self.tau * (self.D - self.alpha*self.W)\n",
    "\n",
    "    def logp(self, x):\n",
    "        logtau = self.n * tt.log(tau)\n",
    "        logdet = tt.log(1 - self.alpha * self.lam).sum()\n",
    "\n",
    "        # tau * ((phi .* D_sparse)' * phi - alpha * (phit_W * phi))\n",
    "        Wx = theano.sparse.dot(self.W, x)\n",
    "        tau_dot_x = self.D * x.T - self.alpha * Wx.ravel()\n",
    "        logquad = self.tau * tt.dot(x.ravel(), tau_dot_x.ravel())\n",
    "\n",
    "        # logquad = tt.dot(x.T, theano.sparse.dot(self.Phi, x)).sum()\n",
    "        return 0.5*(logtau + logdet - logquad)"
   ]
  },
  {
   "cell_type": "code",
   "execution_count": null,
   "metadata": {
    "collapsed": false,
    "scrolled": true
   },
   "outputs": [],
   "source": [
    "with pm.Model() as model4:\n",
    "    # Vague prior on intercept and effect\n",
    "    beta = pm.Normal('beta', mu=0.0, tau=1.0, shape=(2, 1))\n",
    "\n",
    "    # Priors for spatial random effects\n",
    "    tau = pm.Gamma('tau', alpha=2., beta=2.)\n",
    "    alpha = pm.Uniform('alpha', lower=0, upper=1)\n",
    "    phi = Sparse_CAR('phi', alpha, W, tau, shape=(N, 1))\n",
    "\n",
    "    # Mean model\n",
    "    mu = pm.Deterministic('mu', tt.exp(tt.dot(X, beta) + phi + log_offset))\n",
    "\n",
    "    # Likelihood\n",
    "    Yi = pm.Poisson('Yi', mu=mu.ravel(), observed=O)\n",
    "\n",
    "    trace4 = pm.sample(3e3, njobs=2, tune=1000)"
   ]
  },
  {
   "cell_type": "code",
   "execution_count": null,
   "metadata": {
    "collapsed": false
   },
   "outputs": [],
   "source": [
    "pm.traceplot(trace4, varnames=['alpha', 'beta', 'tau']);"
   ]
  },
  {
   "cell_type": "code",
   "execution_count": null,
   "metadata": {
    "collapsed": false
   },
   "outputs": [],
   "source": [
    "pm.plot_posterior(trace4, varnames=['alpha']);"
   ]
  },
  {
   "cell_type": "markdown",
   "metadata": {},
   "source": [
    "As you can see above, the sparse representation returns the same estimates, while being much faster than any other implementation. "
   ]
  },
  {
   "cell_type": "markdown",
   "metadata": {},
   "source": [
    "## A few other warnings\n",
    "In `Stan`, there is an option to write a `generated quantities` block for sample generation. Doing the similar in pymc3, however, is not recommended.  \n",
    "\n",
    "Consider the following simple sample:\n",
    "```python\n",
    "# Data\n",
    "x = np.array([1.1, 1.9, 2.3, 1.8])\n",
    "n = len(x)\n",
    "\n",
    "with pm.Model() as model1:\n",
    "    # prior\n",
    "    mu = pm.Normal('mu', mu=0, tau=.001)\n",
    "    sigma = pm.Uniform('sigma', lower=0, upper=10)\n",
    "    # observed\n",
    "    xi = pm.Normal('xi', mu=mu, tau=1/(sigma**2), observed=x)\n",
    "    # generation \n",
    "    p = pm.Deterministic('p', pm.math.sigmoid(mu))\n",
    "    count = pm.Binomial('count', n=10, p=p, shape=10)\n",
    "```\n",
    "where we intended to use \n",
    "```python\n",
    "count = pm.Binomial('count', n=10, p=p, shape=10)```\n",
    "to generate posterior prediction. However, if the new RV added to the model is a discrete variable it can cause weird turbulence to the trace. You can see [issue #1990](https://github.com/pymc-devs/pymc3/issues/1990) for related discussion."
   ]
  },
  {
   "cell_type": "markdown",
   "metadata": {},
   "source": [
    "## Final remarks\n",
    "\n",
    "In this notebook, most of the parameter conventions (e.g., using `tau` when defining a Normal distribution) and choice of priors are strictly matched with the original code in `Winbugs` or `Stan`. However, it is important to note that merely porting the code from one probabilistic programming language to the another is not necessarily the best practice. The aim is not just to run the code in `PyMC3`, but to make sure the model is appropriate so that it returns correct estimates, and runs efficiently (fast sampling). \n",
    "\n",
    "For example, as [@aseyboldt](https://github.com/aseyboldt) pointed out [here](https://github.com/pymc-devs/pymc3/pull/2080#issuecomment-297456574) and [here](https://github.com/pymc-devs/pymc3/issues/1924#issue-215496293), non-centered parametrizations are often a better choice than the centered parametrizations. In our case here, `phi` is following a zero-mean Normal distribution, thus it can be left out in the beginning and used to scale the values afterwards. Often, doing this can avoid correlations in the posterior (it will be slower in some cases, however).  \n",
    "\n",
    "Another thing to keep in mind is that models can be sensitive to choices of prior distributions; for example, you can have a hard time using Normal variables with a large sd as prior. Gelman often recommends Cauchy or StudentT (*i.e.*, weakly-informative priors). More information on prior choice can be found on the [Stan wiki](https://github.com/stan-dev/stan/wiki/Prior-Choice-Recommendations).  \n",
    "\n",
    "There are always ways to improve  code. Since our computational graph with `pm.Model()` consist of `theano` objects, we can always do `print(VAR_TO_CHECK.tag.test_value)` right after the declaration or computation to check the shape. \n",
    "For example, in our last example, as suggested by [@aseyboldt](https://github.com/pymc-devs/pymc3/pull/2080#issuecomment-297456574) there seem to be a lot of correlation in the posterior. That probably slows down NUTS quite a bit. As a debugging tool and guide for reparametrization you can look at the singular value decomposition of the standardized samples from the trace – basically the eigenvalues of the correlation matrix. If the problem is high dimensional you can use stuff from `scipy.sparse.linalg` to only compute the largest singular value: \n",
    "\n",
    "```python\n",
    "from scipy import linalg, sparse\n",
    "\n",
    "vals = np.array([model.dict_to_array(v) for v in trace[1000:]]).T\n",
    "vals[:] -= vals.mean(axis=1)[:, None]\n",
    "vals[:] /= vals.std(axis=1)[:, None]\n",
    "\n",
    "U, S, Vh = sparse.linalg.svds(vals, k=20)\n",
    "```\n",
    "\n",
    "Then look at `plt.plot(S)` to see if any principal components are obvious, and check which variables are contributing by looking at the singular vectors: `plt.plot(U[:, -1] ** 2)`. You can get the indices by looking at `model.bijection.ordering.vmap`.\n",
    "\n",
    "Another great way to check the correlations in the posterior is to do a pairplot of the posterior (if your model doesn't contain too many parameters). You can see quite clearly if and where the the posterior parameters are correlated."
   ]
  },
  {
   "cell_type": "code",
   "execution_count": null,
   "metadata": {
    "collapsed": false
   },
   "outputs": [],
   "source": [
    "import seaborn as sns\n",
    "tracedf1 = pm.trace_to_dataframe(trace1, varnames=['beta0', 'beta1', 'tau_h', 'tau_c'])\n",
    "sns.pairplot(tracedf1);"
   ]
  },
  {
   "cell_type": "code",
   "execution_count": null,
   "metadata": {
    "collapsed": false
   },
   "outputs": [],
   "source": [
    "tracedf2 = pm.trace_to_dataframe(trace2, varnames=['beta0', 'beta1', 'tau_h', 'tau_c'])\n",
    "sns.pairplot(tracedf2);"
   ]
  },
  {
   "cell_type": "code",
   "execution_count": null,
   "metadata": {
    "collapsed": false
   },
   "outputs": [],
   "source": [
    "tracedf3 = pm.trace_to_dataframe(trace3, varnames=['beta', 'tau', 'alpha'])\n",
    "sns.pairplot(tracedf3);"
   ]
  },
  {
   "cell_type": "code",
   "execution_count": null,
   "metadata": {
    "collapsed": false
   },
   "outputs": [],
   "source": [
    "tracedf4 = pm.trace_to_dataframe(trace4, varnames=['beta', 'tau', 'alpha'])\n",
    "sns.pairplot(tracedf4);"
   ]
  },
  {
   "cell_type": "code",
   "execution_count": null,
   "metadata": {
    "collapsed": true
   },
   "outputs": [],
   "source": []
  }
 ],
 "metadata": {
  "kernelspec": {
   "display_name": "Python [Root]",
   "language": "python",
   "name": "Python [Root]"
  },
  "language_info": {
   "codemirror_mode": {
    "name": "ipython",
    "version": 2
   },
   "file_extension": ".py",
   "mimetype": "text/x-python",
   "name": "python",
   "nbconvert_exporter": "python",
   "pygments_lexer": "ipython2",
   "version": "2.7.12"
  }
 },
 "nbformat": 4,
 "nbformat_minor": 2
}
