{
 "cells": [
  {
   "cell_type": "code",
   "execution_count": 1,
   "metadata": {
    "collapsed": false
   },
   "outputs": [],
   "source": [
    "#http://blog.csdn.net/longerzone/article/details/37574367\n",
    "#python常用的时间模块之datetime \n",
    "\n",
    "#使用apihelper 查看datetime 模块，我们可以看到简单的几项：\n",
    "#date       ---  日期对象，结构为date(year, month, day)\n",
    "#time       ---  时间值对象，结构为 time([hour[, minute[, second[, microsecond[, tzinfo]]]]])。时间对象所有的参数都是可选的。tzinfo 可以是None 或者是tzinfo子类的一个实例。 \n",
    "#datetime   ---  日期和时间管理对象，结构为 datetime(year, month, day[, hour[, minute[, second[, microsecond[,tzinfo]]]]])。 其中year, month 以及day 参数是必需的。而tzinfo 可以是None 或者是tzinfo子类的一个实例。\n",
    "#timedelta  ---  两个datetime 值的差。用作datetime 对象之间的计算以及比较。\n",
    "#tzinfo     ---  时区信息对象的抽象基类。\n",
    "import datetime"
   ]
  },
  {
   "cell_type": "code",
   "execution_count": 2,
   "metadata": {
    "collapsed": false
   },
   "outputs": [
    {
     "data": {
      "text/plain": [
       "datetime.date(1991, 1, 1)"
      ]
     },
     "execution_count": 2,
     "metadata": {},
     "output_type": "execute_result"
    }
   ],
   "source": [
    "#可以看到datetime 模块下面还有好几个具体的类，下面分别从这几个类来分析datetime 模块：\n",
    "#1. date\n",
    "\n",
    "#1.1 date 类简介以及简单使用\n",
    "\n",
    "#date 是一个日期对象类，它有year,month和day三个属性。使用today()方法很容易创建一个表示当前日期的日期对象。当然，我们也可以手动指定年月日，从而直接使用datetime.date(year, month, day) 来创建一个日期对象，如：\n",
    "da = datetime.date(1991, 1, 1)\n",
    "da"
   ]
  },
  {
   "cell_type": "code",
   "execution_count": 3,
   "metadata": {
    "collapsed": false
   },
   "outputs": [
    {
     "data": {
      "text/plain": [
       "1991"
      ]
     },
     "execution_count": 3,
     "metadata": {},
     "output_type": "execute_result"
    }
   ],
   "source": [
    "da.year                    # 还可以通过指定具体项获取对应值"
   ]
  },
  {
   "cell_type": "code",
   "execution_count": 4,
   "metadata": {
    "collapsed": false
   },
   "outputs": [
    {
     "name": "stdout",
     "output_type": "stream",
     "text": [
      "1 day, 0:00:00\n",
      "0001-01-01\n",
      "9999-12-31\n"
     ]
    }
   ],
   "source": [
    "#再来看看date 类的相关信息：\n",
    "print datetime.date.resolution        # 日期对象的分辨率是一天\n",
    "print datetime.date.min                # 日期对象最小值是1-1-1，下面会提到 toordinal 函数，它的返回值就是从这天计算的\n",
    "print datetime.date.max                # 最大值"
   ]
  },
  {
   "cell_type": "code",
   "execution_count": 5,
   "metadata": {
    "collapsed": false
   },
   "outputs": [
    {
     "name": "stdout",
     "output_type": "stream",
     "text": [
      "17467 days, 0:00:00\n"
     ]
    },
    {
     "data": {
      "text/plain": [
       "False"
      ]
     },
     "execution_count": 5,
     "metadata": {},
     "output_type": "execute_result"
    }
   ],
   "source": [
    "#date 对象之间是可以计算的，算算你到这个世界多久了？\n",
    "bron_day = datetime.date(1970, 1, 1)    # 指定生日\n",
    "today = datetime.date.today()            # 获取今天的date 信息\n",
    "print today-bron_day                    \n",
    "today < bron_day                        "
   ]
  },
  {
   "cell_type": "code",
   "execution_count": 6,
   "metadata": {
    "collapsed": false
   },
   "outputs": [
    {
     "data": {
      "text/plain": [
       "datetime.date(2017, 10, 28)"
      ]
     },
     "execution_count": 6,
     "metadata": {},
     "output_type": "execute_result"
    }
   ],
   "source": [
    "#1.2 date 类提供的方法\n",
    "\n",
    "# (1)today  以当前时间获取一个日期对象\n",
    "today = datetime.date.today()\n",
    "today"
   ]
  },
  {
   "cell_type": "code",
   "execution_count": 7,
   "metadata": {
    "collapsed": false
   },
   "outputs": [
    {
     "data": {
      "text/plain": [
       "'Sat Oct 28 00:00:00 2017'"
      ]
     },
     "execution_count": 7,
     "metadata": {},
     "output_type": "execute_result"
    }
   ],
   "source": [
    "#(2)ctime 将一个日期对象转化为ctime() 形式的字符串\n",
    "datetime.date.ctime(today)"
   ]
  },
  {
   "cell_type": "code",
   "execution_count": 8,
   "metadata": {
    "collapsed": false
   },
   "outputs": [
    {
     "name": "stdout",
     "output_type": "stream",
     "text": [
      "2008-10-01\n",
      "2001-01-01\n",
      "2009-10-13\n"
     ]
    }
   ],
   "source": [
    "#(3) replace 对于日期对象，支持使用replace 方法直接修改具体项：\n",
    "da = datetime.date(2008, 10, 1)\n",
    "print da\n",
    "\n",
    "print da.replace(2001, 1, 1)        # 不指定，可全部进行修改\n",
    "\n",
    "print da.replace(year=2009, day=13)    # 符合python 的参数习惯，可以指定修改某一参数"
   ]
  },
  {
   "cell_type": "code",
   "execution_count": 9,
   "metadata": {
    "collapsed": false
   },
   "outputs": [
    {
     "data": {
      "text/plain": [
       "'2017-10-28'"
      ]
     },
     "execution_count": 9,
     "metadata": {},
     "output_type": "execute_result"
    }
   ],
   "source": [
    "#(4)isoformat 以ISO 8601 格式(\"YYYY-MM-DD\")返回一个日期对象：\n",
    "datetime.date.isoformat(today)"
   ]
  },
  {
   "cell_type": "code",
   "execution_count": 10,
   "metadata": {
    "collapsed": false
   },
   "outputs": [
    {
     "data": {
      "text/plain": [
       "'Sat Oct 28 00:00:00 2017'"
      ]
     },
     "execution_count": 10,
     "metadata": {},
     "output_type": "execute_result"
    }
   ],
   "source": [
    "#(5) weekday 和 isoweekday\n",
    "#weekday   -- 返回日期对象是周几。注意：返回值从0～6 ，也就是说Monday == 0 ... Sunday == 6。\n",
    "#isoweekday --返回日期对象是周几，但是isoweekday 返回值与weekday的返回值不一样，其返回值范围为1～7：Monday == 1 ... Sunday == 7。\n",
    "datetime.date.ctime(today)"
   ]
  },
  {
   "cell_type": "code",
   "execution_count": 11,
   "metadata": {
    "collapsed": false
   },
   "outputs": [
    {
     "data": {
      "text/plain": [
       "5"
      ]
     },
     "execution_count": 11,
     "metadata": {},
     "output_type": "execute_result"
    }
   ],
   "source": [
    "today.weekday()     # 使用weekday 获取的返回值是2，因为它从0开始计数，周三对应2。"
   ]
  },
  {
   "cell_type": "code",
   "execution_count": 12,
   "metadata": {
    "collapsed": false
   },
   "outputs": [
    {
     "data": {
      "text/plain": [
       "6"
      ]
     },
     "execution_count": 12,
     "metadata": {},
     "output_type": "execute_result"
    }
   ],
   "source": [
    "today.isoweekday()   # 使用isoweekday 获取的是3，符合日常使用习惯。"
   ]
  },
  {
   "cell_type": "code",
   "execution_count": 13,
   "metadata": {
    "collapsed": false
   },
   "outputs": [
    {
     "data": {
      "text/plain": [
       "(2017, 43, 6)"
      ]
     },
     "execution_count": 13,
     "metadata": {},
     "output_type": "execute_result"
    }
   ],
   "source": [
    "#(6)isocalendar 返回一个3元元组，值分别表示（年，第几周，周几）\n",
    "today.isocalendar()"
   ]
  },
  {
   "cell_type": "code",
   "execution_count": 14,
   "metadata": {
    "collapsed": false
   },
   "outputs": [
    {
     "data": {
      "text/plain": [
       "'2017-10-28 00:00:00'"
      ]
     },
     "execution_count": 14,
     "metadata": {},
     "output_type": "execute_result"
    }
   ],
   "source": [
    "#strftime 与time.strftime 类似，用于将时间对像进行格式化转化：\n",
    "today.strftime('%Y-%m-%d %H:%M:%S')  # 默认使用 today = datetime.date.today() 获取今天日期对象，只获取了日期信息，而对应的时间默认使用了 00:00:00，后面我们会介绍使用 datetime 对象将日期对象和时间对像结合！"
   ]
  },
  {
   "cell_type": "code",
   "execution_count": 15,
   "metadata": {
    "collapsed": false
   },
   "outputs": [
    {
     "data": {
      "text/plain": [
       "time.struct_time(tm_year=2017, tm_mon=10, tm_mday=28, tm_hour=0, tm_min=0, tm_sec=0, tm_wday=5, tm_yday=301, tm_isdst=-1)"
      ]
     },
     "execution_count": 15,
     "metadata": {},
     "output_type": "execute_result"
    }
   ],
   "source": [
    "#下面介绍的对象中都会涉及到 strftime 或 strptime, 其实用法都和 time 模块中介绍的一样\n",
    "\n",
    "#(8)timetuple 以时间结构体 struct_time 形式返回时间信息，与time.localtime()兼容：\n",
    "today.timetuple()\n"
   ]
  },
  {
   "cell_type": "code",
   "execution_count": 16,
   "metadata": {
    "collapsed": false
   },
   "outputs": [
    {
     "data": {
      "text/plain": [
       "1509174999.785"
      ]
     },
     "execution_count": 16,
     "metadata": {},
     "output_type": "execute_result"
    }
   ],
   "source": [
    "#(9)fromtimestamp  此函数能够解析time.time()返回的浮点值，返回一个datetime.date 日期值，格式为\"datetime.date(2014, 7, 8)\", 所以我们可以通过datetime.date.fromtimestamp(time.time()).year 来获取年（月，日亦可！）\n",
    "import time\n",
    "time.time()"
   ]
  },
  {
   "cell_type": "code",
   "execution_count": 17,
   "metadata": {
    "collapsed": false
   },
   "outputs": [
    {
     "data": {
      "text/plain": [
       "datetime.date(2014, 7, 9)"
      ]
     },
     "execution_count": 17,
     "metadata": {},
     "output_type": "execute_result"
    }
   ],
   "source": [
    "datetime.date.fromtimestamp(1404876430)"
   ]
  },
  {
   "cell_type": "code",
   "execution_count": 18,
   "metadata": {
    "collapsed": false
   },
   "outputs": [
    {
     "data": {
      "text/plain": [
       "datetime.date(2014, 7, 9)"
      ]
     },
     "execution_count": 18,
     "metadata": {},
     "output_type": "execute_result"
    }
   ],
   "source": [
    "datetime.date.fromtimestamp(1404876430.0)"
   ]
  },
  {
   "cell_type": "code",
   "execution_count": 19,
   "metadata": {
    "collapsed": false
   },
   "outputs": [
    {
     "data": {
      "text/plain": [
       "2014"
      ]
     },
     "execution_count": 19,
     "metadata": {},
     "output_type": "execute_result"
    }
   ],
   "source": [
    "datetime.date.fromtimestamp(1404876430.0).year"
   ]
  },
  {
   "cell_type": "code",
   "execution_count": 20,
   "metadata": {
    "collapsed": false
   },
   "outputs": [
    {
     "data": {
      "text/plain": [
       "736630"
      ]
     },
     "execution_count": 20,
     "metadata": {},
     "output_type": "execute_result"
    }
   ],
   "source": [
    "#(10)toordinal 和fromordinal\n",
    "#toordinal -- 返回日期对象位于公历的序数，也就是说返回值是“ 时间对象是从1年1月1日起的第几天”（返回值是一个整数）。\n",
    "#fromordinal -- 上面的toordinal 会将一个日期对象经过计算，返回这个日期是1年1月1日开始的第几天。而fromordinal 功能刚好与toordinal相反，它可以计算出一个给定的整形数对应的日期对象。\n",
    "today.toordinal()"
   ]
  },
  {
   "cell_type": "code",
   "execution_count": 21,
   "metadata": {
    "collapsed": false
   },
   "outputs": [
    {
     "data": {
      "text/plain": [
       "datetime.date(2014, 7, 9)"
      ]
     },
     "execution_count": 21,
     "metadata": {},
     "output_type": "execute_result"
    }
   ],
   "source": [
    "datetime.date.fromordinal(735423)"
   ]
  },
  {
   "cell_type": "code",
   "execution_count": 22,
   "metadata": {
    "collapsed": false
   },
   "outputs": [
    {
     "name": "stdout",
     "output_type": "stream",
     "text": [
      "00:00:00\n",
      "23:59:59.999999\n",
      "0:00:00.000001\n"
     ]
    }
   ],
   "source": [
    "#2. time\n",
    "\n",
    "#2.1 time 类简介以及简单使用\n",
    "\n",
    "#datetime 的 time类用来表示时间信息，如上面介绍的date 类，我们可以使用time([hour[, minute[, second[, microsecond[, tzinfo]]]]]) 来初始化时间对象。\n",
    "#我们再来看看time 类的相关信息：\n",
    "print datetime.time.min            # 合法时间范围为00:00:00 ～ 23:59:59.999999\n",
    "\n",
    "print datetime.time.max\n",
    "\n",
    "print datetime.time.resolution    # 分辨率限制为微秒级"
   ]
  },
  {
   "cell_type": "code",
   "execution_count": 23,
   "metadata": {
    "collapsed": false
   },
   "outputs": [
    {
     "data": {
      "text/plain": [
       "11"
      ]
     },
     "execution_count": 23,
     "metadata": {},
     "output_type": "execute_result"
    }
   ],
   "source": [
    "#我们也可以直接指定项获取其内容：\n",
    "ti = datetime.time(11, 36, 0)\n",
    "ti.hour"
   ]
  },
  {
   "cell_type": "code",
   "execution_count": 24,
   "metadata": {
    "collapsed": false
   },
   "outputs": [
    {
     "data": {
      "text/plain": [
       "'11:36:00'"
      ]
     },
     "execution_count": 24,
     "metadata": {},
     "output_type": "execute_result"
    }
   ],
   "source": [
    "#2.2 time 类提供的方法\n",
    "\n",
    "# (1) isoformat  以 ISO 8601 格式(HH:MM:SS[.mmmmmm][+HH:MM].)返回时间值：\n",
    "ti.isoformat()"
   ]
  },
  {
   "cell_type": "code",
   "execution_count": 25,
   "metadata": {
    "collapsed": false
   },
   "outputs": [
    {
     "data": {
      "text/plain": [
       "datetime.time(12, 10, 20)"
      ]
     },
     "execution_count": 25,
     "metadata": {},
     "output_type": "execute_result"
    }
   ],
   "source": [
    "# (3)replace 与上面的日期类中的replace 方法类似，用于替换日期对象中的值：\n",
    "ti = datetime.time(15, 10, 20)\n",
    "ti.replace(hour = 12)"
   ]
  },
  {
   "cell_type": "code",
   "execution_count": 26,
   "metadata": {
    "collapsed": false
   },
   "outputs": [
    {
     "data": {
      "text/plain": [
       "'1900-01-01 15:10:20'"
      ]
     },
     "execution_count": 26,
     "metadata": {},
     "output_type": "execute_result"
    }
   ],
   "source": [
    "#(3)strftime   如同上面的strftime 方法，以自定义的格式打印信息：\n",
    "ti.strftime('%Y-%m-%d %H:%M:%S')\n",
    "\n",
    "\n",
    "#其他还有三个方法： dst, tzname, utcoffset ,一般应该用不上，这里就不介绍了！"
   ]
  },
  {
   "cell_type": "code",
   "execution_count": 27,
   "metadata": {
    "collapsed": false
   },
   "outputs": [
    {
     "name": "stdout",
     "output_type": "stream",
     "text": [
      "0:00:00.000001\n",
      "0001-01-01 00:00:00\n",
      "9999-12-31 23:59:59.999999\n"
     ]
    }
   ],
   "source": [
    "#3. datetime\n",
    "\n",
    "#3.1 datetime 类简介以及简单使用\n",
    "\n",
    "#使用datetime 类可以存储由日期和时间分量构成的值。\n",
    "\n",
    "#我们先看看预定给datetime 类的一些细节： \n",
    "print datetime.datetime.resolution        # 同time， datetime 的精度为一微秒\n",
    "\n",
    "print datetime.datetime.min                # datetime 最小值为0001年1月1日的0时0分0秒，这也是公历的起始\n",
    "\n",
    "print datetime.datetime.max                # 最大值"
   ]
  },
  {
   "cell_type": "code",
   "execution_count": 28,
   "metadata": {
    "collapsed": false
   },
   "outputs": [
    {
     "name": "stdout",
     "output_type": "stream",
     "text": [
      "10:50:00\n",
      "10\n"
     ]
    }
   ],
   "source": [
    "#同上面date/time， datetime 也可以直接手动定义：\" datetime(year, month, day[, hour[, minute[, second[, microsecond[,tzinfo]]]]])\" 其中year, month 以及day 参数是必需的。\n",
    "datetime.datetime(2008, 11, 20, 10, 50)\n",
    "\n",
    "print datetime.datetime(2008, 11, 20, 10, 50).time()    # 可以直接使用time 和date 获取datetime 的时间和日期信息。\n",
    "\n",
    "print datetime.datetime(2008, 11, 20, 10, 50).time().hour    # 想要获取时间/日期信息下面的时分秒/年月日就要在使用time/date 之后再使用需要的项来获取。\n"
   ]
  },
  {
   "cell_type": "code",
   "execution_count": 29,
   "metadata": {
    "collapsed": false
   },
   "outputs": [
    {
     "data": {
      "text/plain": [
       "datetime.datetime(2017, 10, 28, 15, 16, 42, 851000)"
      ]
     },
     "execution_count": 29,
     "metadata": {},
     "output_type": "execute_result"
    }
   ],
   "source": [
    "#对于datetime 的十几种方法，我们按照官方手册将其分为“类方法”和“实例方法”两个方面来讲解：\n",
    "#3.2 类方法：\n",
    "\n",
    "#类方法可以理解成通过 datetime.datetime.**() 调用的方法，\n",
    "#如：now = datetime.datetime.now()\n",
    "\n",
    "#(1) today, now 和 utcnow\n",
    "\n",
    "#today      -- today 方法可以获取当前日期和时间(没有时区信息)，等于datetime.datetime.fromtimestamp(time.time())。\n",
    "#now([tz])  -- 返回当前日期和时间，如果没有使用tz 作为参数，其结果与today方法一样；如果有时区信息，则返回的时区对应的时间(注：这里要求的tz 是tzinfo 类的一个实例而不是一个字符串)。\n",
    "#utcnow     -- 方法与now 类似，只不过提供的是UTC 时间。（UTC，Coordinated Universal Time ，世界标准时间, now 得到的时间是根据UTC时间加上时区的）\n",
    "datetime.datetime.now()"
   ]
  },
  {
   "cell_type": "code",
   "execution_count": 30,
   "metadata": {
    "collapsed": false
   },
   "outputs": [
    {
     "data": {
      "text/plain": [
       "datetime.datetime(2017, 10, 28, 15, 16, 43, 52000)"
      ]
     },
     "execution_count": 30,
     "metadata": {},
     "output_type": "execute_result"
    }
   ],
   "source": [
    "datetime.datetime.today()        # today 和now 获取的时间一致"
   ]
  },
  {
   "cell_type": "code",
   "execution_count": 31,
   "metadata": {
    "collapsed": false
   },
   "outputs": [
    {
     "data": {
      "text/plain": [
       "datetime.datetime(2017, 10, 28, 7, 16, 43, 347000)"
      ]
     },
     "execution_count": 31,
     "metadata": {},
     "output_type": "execute_result"
    }
   ],
   "source": [
    "datetime.datetime.utcnow()        # UTC 时间当前为12点，而我们北京时间处于东8区，加8个小时，刚好等于now/today显示的20点"
   ]
  },
  {
   "cell_type": "code",
   "execution_count": 32,
   "metadata": {
    "collapsed": false
   },
   "outputs": [
    {
     "data": {
      "text/plain": [
       "datetime.datetime(2017, 10, 28, 7, 16, 43, 528000)"
      ]
     },
     "execution_count": 32,
     "metadata": {},
     "output_type": "execute_result"
    }
   ],
   "source": [
    "#(2) fromtimestamp 和 utcfromtimestamp\n",
    "\n",
    "#fromtimestamp(timestamp[, tz])  -- fromtimestamp 根据POSIX 的时间戳（比如time.time()）返回一个时间信息。与now 比较接近，如果没有携带'tz'参数，它会将时间戳转化为本地时间和日期；如果有时区信息'tz'，返回的是该时区的时间信息。\n",
    "#utcfromtimestamp(timestamp)     -- 将时间戳转化为UTC 时间\n",
    "datetime.datetime.utcfromtimestamp(time.time())"
   ]
  },
  {
   "cell_type": "code",
   "execution_count": 33,
   "metadata": {
    "collapsed": false
   },
   "outputs": [
    {
     "data": {
      "text/plain": [
       "datetime.datetime(2017, 10, 28, 15, 16, 43, 778000)"
      ]
     },
     "execution_count": 33,
     "metadata": {},
     "output_type": "execute_result"
    }
   ],
   "source": [
    "datetime.datetime.fromtimestamp(time.time())        # 本地时间，CST 比UTC时间多8小时"
   ]
  },
  {
   "cell_type": "code",
   "execution_count": 34,
   "metadata": {
    "collapsed": false
   },
   "outputs": [
    {
     "data": {
      "text/plain": [
       "datetime.datetime(2017, 10, 28, 15, 16, 43, 958000)"
      ]
     },
     "execution_count": 34,
     "metadata": {},
     "output_type": "execute_result"
    }
   ],
   "source": [
    "datetime.datetime.today()                            # 上面介绍today 时说了，today()的返回值与fromtimestamp(time.time())一样"
   ]
  },
  {
   "cell_type": "code",
   "execution_count": 35,
   "metadata": {
    "collapsed": false
   },
   "outputs": [
    {
     "data": {
      "text/plain": [
       "datetime.datetime(2017, 10, 28, 15, 16, 44, 138000)"
      ]
     },
     "execution_count": 35,
     "metadata": {},
     "output_type": "execute_result"
    }
   ],
   "source": [
    "# (3)fromordinal- 与下面要介绍的实例方法toordinal 相反，实例方法toordinal会将一个datetime 对象返回值为自公历1年1月1日起的第几天，而fromordinal 将一个天数（整形）计算出来对应的哪年哪月哪日。\n",
    "now = datetime.datetime.now()\n",
    "now"
   ]
  },
  {
   "cell_type": "code",
   "execution_count": 36,
   "metadata": {
    "collapsed": false
   },
   "outputs": [
    {
     "data": {
      "text/plain": [
       "736630"
      ]
     },
     "execution_count": 36,
     "metadata": {},
     "output_type": "execute_result"
    }
   ],
   "source": [
    "datetime.datetime.toordinal(now)"
   ]
  },
  {
   "cell_type": "code",
   "execution_count": 37,
   "metadata": {
    "collapsed": false
   },
   "outputs": [
    {
     "data": {
      "text/plain": [
       "datetime.datetime(2014, 7, 8, 0, 0)"
      ]
     },
     "execution_count": 37,
     "metadata": {},
     "output_type": "execute_result"
    }
   ],
   "source": [
    "datetime.datetime.fromordinal(735422)        # 因为toordinal 计算的只是第几天，未涉及到具体时间，所以fromordinal 转化后的时间为0:0:0"
   ]
  },
  {
   "cell_type": "code",
   "execution_count": 38,
   "metadata": {
    "collapsed": false
   },
   "outputs": [
    {
     "data": {
      "text/plain": [
       "'2017-10-28 00:00:00'"
      ]
     },
     "execution_count": 38,
     "metadata": {},
     "output_type": "execute_result"
    }
   ],
   "source": [
    "#(4) combine\n",
    "\n",
    "#conbine 方法可以将一个date 实例和一个time 实例结合创建一个datetime 实例。\n",
    "today = datetime.date.today()\n",
    "today.strftime('%Y-%m-%d %H:%M:%S')  # 使用 date.today() 只会接收今天的日期，不会接收时间信息，时间默认使用 00:00:00"
   ]
  },
  {
   "cell_type": "code",
   "execution_count": 39,
   "metadata": {
    "collapsed": false
   },
   "outputs": [
    {
     "data": {
      "text/plain": [
       "'1900-01-01 12:30:00'"
      ]
     },
     "execution_count": 39,
     "metadata": {},
     "output_type": "execute_result"
    }
   ],
   "source": [
    "now = datetime.time(12, 30, 00)\n",
    "now.strftime('%Y-%m-%d %H:%M:%S')   # 使用time 设置时间后，日期默认使用 1900-01-01"
   ]
  },
  {
   "cell_type": "code",
   "execution_count": 40,
   "metadata": {
    "collapsed": false
   },
   "outputs": [
    {
     "name": "stdout",
     "output_type": "stream",
     "text": [
      "2017-10-28 12:30:00\n"
     ]
    }
   ],
   "source": [
    "print datetime.datetime.combine(today, now)    # 使用datetime 的combine 方法可以将上面的日期实例和时间实例集合为一个datetime 实例。"
   ]
  },
  {
   "cell_type": "code",
   "execution_count": 41,
   "metadata": {
    "collapsed": false
   },
   "outputs": [
    {
     "data": {
      "text/plain": [
       "'2017-10-28 15:16:45'"
      ]
     },
     "execution_count": 41,
     "metadata": {},
     "output_type": "execute_result"
    }
   ],
   "source": [
    "# (5)strptime\n",
    "\n",
    "#同前面介绍time 中的strptime一样，strptime 可以将一个格式化打印的字符串整合成为原来的datetime 对象。\n",
    "now = datetime.datetime.now()\n",
    "now\n",
    "\n",
    "now.strftime('%Y-%m-%d %H:%M:%S')        # 下面将要介绍的一个实例方法，其实和time.strftime 类似\n",
    "     # 此时是一个格式化打印的字符串\\"
   ]
  },
  {
   "cell_type": "code",
   "execution_count": 42,
   "metadata": {
    "collapsed": false
   },
   "outputs": [
    {
     "data": {
      "text/plain": [
       "datetime.datetime(2017, 10, 28, 15, 16, 45)"
      ]
     },
     "execution_count": 42,
     "metadata": {},
     "output_type": "execute_result"
    }
   ],
   "source": [
    "datetime.datetime.strptime(now.strftime('%Y-%m-%d %H:%M:%S'), '%Y-%m-%d %H:%M:%S')\n",
    "     # 使用strptime 将字符串还原为 datetime 对象"
   ]
  },
  {
   "cell_type": "code",
   "execution_count": 43,
   "metadata": {
    "collapsed": false
   },
   "outputs": [
    {
     "data": {
      "text/plain": [
       "datetime.date(2017, 10, 28)"
      ]
     },
     "execution_count": 43,
     "metadata": {},
     "output_type": "execute_result"
    }
   ],
   "source": [
    "#3.3 实例方法：\n",
    "\n",
    "#实例方法可以理解成datetime 实例/对象调用的方法，如：\n",
    "now = datetime.datetime.now()\n",
    "#now.***();        ### 其中*** 对应的就是实例方法 \n",
    "#其实也可以使用datetime.datetime.***(now)来调用。举个例子：\n",
    "now.date()    # date 就是下面要讲的实例方法之一"
   ]
  },
  {
   "cell_type": "code",
   "execution_count": 44,
   "metadata": {
    "collapsed": false
   },
   "outputs": [
    {
     "data": {
      "text/plain": [
       "datetime.date(2017, 10, 28)"
      ]
     },
     "execution_count": 44,
     "metadata": {},
     "output_type": "execute_result"
    }
   ],
   "source": [
    "datetime.datetime.date(now)    # 实例方法也可以通过类似于类方法那么调用，只不过需要实例/对象作为参数"
   ]
  },
  {
   "cell_type": "code",
   "execution_count": 45,
   "metadata": {
    "collapsed": false
   },
   "outputs": [
    {
     "data": {
      "text/plain": [
       "datetime.date(2017, 10, 28)"
      ]
     },
     "execution_count": 45,
     "metadata": {},
     "output_type": "execute_result"
    }
   ],
   "source": [
    "#既然放在实例方法一节，下面例子中都使用 now.***() 方式调用。\n",
    "#(1)date   返回datetime.datetime对象的日期值\n",
    "now = datetime.datetime.now()\n",
    "now.date()"
   ]
  },
  {
   "cell_type": "code",
   "execution_count": 46,
   "metadata": {
    "collapsed": false
   },
   "outputs": [
    {
     "data": {
      "text/plain": [
       "datetime.time(15, 16, 46, 775000)"
      ]
     },
     "execution_count": 46,
     "metadata": {},
     "output_type": "execute_result"
    }
   ],
   "source": [
    "#(2) time 和 timetz\n",
    "#time       --将一个datetime.datetime 对象的时间值返回\n",
    "#timetz     -- 使用相同的时间和时区返回time 对象\n",
    "now.time()"
   ]
  },
  {
   "cell_type": "code",
   "execution_count": 47,
   "metadata": {
    "collapsed": false
   },
   "outputs": [
    {
     "data": {
      "text/plain": [
       "datetime.time(15, 16, 46, 775000)"
      ]
     },
     "execution_count": 47,
     "metadata": {},
     "output_type": "execute_result"
    }
   ],
   "source": [
    "now.timetz()"
   ]
  },
  {
   "cell_type": "code",
   "execution_count": 48,
   "metadata": {
    "collapsed": false
   },
   "outputs": [
    {
     "data": {
      "text/plain": [
       "datetime.datetime(2017, 10, 28, 7, 16, 47, 501000)"
      ]
     },
     "execution_count": 48,
     "metadata": {},
     "output_type": "execute_result"
    }
   ],
   "source": [
    "#(3) replace   \n",
    "\n",
    "#可以指定修改域对datetime 实例进行修改：\n",
    "utcnow = datetime.datetime.utcnow()\n",
    "utcnow"
   ]
  },
  {
   "cell_type": "code",
   "execution_count": 49,
   "metadata": {
    "collapsed": false
   },
   "outputs": [
    {
     "data": {
      "text/plain": [
       "datetime.datetime(2017, 10, 28, 1, 16, 47, 501000)"
      ]
     },
     "execution_count": 49,
     "metadata": {},
     "output_type": "execute_result"
    }
   ],
   "source": [
    "utcnow.replace(hour = 1)"
   ]
  },
  {
   "cell_type": "code",
   "execution_count": 50,
   "metadata": {
    "collapsed": false
   },
   "outputs": [
    {
     "data": {
      "text/plain": [
       "time.struct_time(tm_year=2017, tm_mon=10, tm_mday=28, tm_hour=15, tm_min=16, tm_sec=46, tm_wday=5, tm_yday=301, tm_isdst=-1)"
      ]
     },
     "execution_count": 50,
     "metadata": {},
     "output_type": "execute_result"
    }
   ],
   "source": [
    "#(4) timetuple 和 utctimetuple\n",
    "\n",
    "#timetuple  --将一个datetime.datetime 对象解析成一个struc_time结构体返回。（与time.localtime()的返回值类型一样）\n",
    "#utctimetuple  -- 与上面timetuple类似，返回UTC时间的解析结构体\n",
    "now.timetuple()"
   ]
  },
  {
   "cell_type": "code",
   "execution_count": 51,
   "metadata": {
    "collapsed": false
   },
   "outputs": [
    {
     "data": {
      "text/plain": [
       "time.struct_time(tm_year=2017, tm_mon=10, tm_mday=28, tm_hour=15, tm_min=16, tm_sec=46, tm_wday=5, tm_yday=301, tm_isdst=0)"
      ]
     },
     "execution_count": 51,
     "metadata": {},
     "output_type": "execute_result"
    }
   ],
   "source": [
    "now.utctimetuple()"
   ]
  },
  {
   "cell_type": "code",
   "execution_count": 52,
   "metadata": {
    "collapsed": false
   },
   "outputs": [
    {
     "data": {
      "text/plain": [
       "time.struct_time(tm_year=2017, tm_mon=10, tm_mday=28, tm_hour=15, tm_min=16, tm_sec=48, tm_wday=5, tm_yday=301, tm_isdst=0)"
      ]
     },
     "execution_count": 52,
     "metadata": {},
     "output_type": "execute_result"
    }
   ],
   "source": [
    "import time\n",
    "time.localtime(time.time())            # 使用time.localtime 解析time()的浮点数得到的结果同timetuple 一样，都是struct_time 结构的时间"
   ]
  },
  {
   "cell_type": "code",
   "execution_count": 53,
   "metadata": {
    "collapsed": false
   },
   "outputs": [
    {
     "data": {
      "text/plain": [
       "736630"
      ]
     },
     "execution_count": 53,
     "metadata": {},
     "output_type": "execute_result"
    }
   ],
   "source": [
    "#(5) toordinal     \n",
    "#返回一个整数，代表datetime.datetime 对象是从第1年第1月第1天算起的第几天。\n",
    "today.toordinal()"
   ]
  },
  {
   "cell_type": "code",
   "execution_count": 54,
   "metadata": {
    "collapsed": false
   },
   "outputs": [
    {
     "data": {
      "text/plain": [
       "'Sat Oct 28 15:16:46 2017'"
      ]
     },
     "execution_count": 54,
     "metadata": {},
     "output_type": "execute_result"
    }
   ],
   "source": [
    "#(6) weekday 和 isoweekday\n",
    "\n",
    "#weekday    -- 返回datetime对象是周几，但是对应的值从0～6： Monday == 0 ... Sunday == 6\n",
    "#isoweekday -- 返回datetime对象是周几，对应的值从1～7： Monday == 1 ... Sunday == 7\n",
    "now.ctime()                # 以ctime() 字符串形式打印datetime 对象的时间日期信息。下面会提到\n"
   ]
  },
  {
   "cell_type": "code",
   "execution_count": 55,
   "metadata": {
    "collapsed": false
   },
   "outputs": [
    {
     "data": {
      "text/plain": [
       "5"
      ]
     },
     "execution_count": 55,
     "metadata": {},
     "output_type": "execute_result"
    }
   ],
   "source": [
    "now.weekday()                 # 周三使用weekday 返回2"
   ]
  },
  {
   "cell_type": "code",
   "execution_count": 56,
   "metadata": {
    "collapsed": false
   },
   "outputs": [
    {
     "data": {
      "text/plain": [
       "6"
      ]
     },
     "execution_count": 56,
     "metadata": {},
     "output_type": "execute_result"
    }
   ],
   "source": [
    "now.isoweekday()               # isoweekday 返回3"
   ]
  },
  {
   "cell_type": "code",
   "execution_count": 57,
   "metadata": {
    "collapsed": false
   },
   "outputs": [
    {
     "data": {
      "text/plain": [
       "(2017, 43, 6)"
      ]
     },
     "execution_count": 57,
     "metadata": {},
     "output_type": "execute_result"
    }
   ],
   "source": [
    "#(7) isocalendar\n",
    "\n",
    "#返回一个三值的元组，格式为(年，第几周，周几)\n",
    "now.isocalendar()\n"
   ]
  },
  {
   "cell_type": "code",
   "execution_count": 58,
   "metadata": {
    "collapsed": false
   },
   "outputs": [
    {
     "data": {
      "text/plain": [
       "'2017-10-28T15:16:46.775000'"
      ]
     },
     "execution_count": 58,
     "metadata": {},
     "output_type": "execute_result"
    }
   ],
   "source": [
    "#(8) isoformat\n",
    "\n",
    "#以ISO 8601 格式（YYYY-MM-DDTHH:MM:SS[.mmmmmm][+HH:MM]）打印datetime.datetime对象。默认使用的间隔符是'T'.\n",
    "datetime.datetime.isoformat(now)\n"
   ]
  },
  {
   "cell_type": "code",
   "execution_count": 59,
   "metadata": {
    "collapsed": true
   },
   "outputs": [],
   "source": [
    "#(9) ctime\n",
    "\n",
    "#ctime      -- 将datetime.datetime 对象解析成time.ctime 的字符串"
   ]
  },
  {
   "cell_type": "code",
   "execution_count": 60,
   "metadata": {
    "collapsed": false
   },
   "outputs": [
    {
     "data": {
      "text/plain": [
       "'2017-10-28 15:16:46'"
      ]
     },
     "execution_count": 60,
     "metadata": {},
     "output_type": "execute_result"
    }
   ],
   "source": [
    "#(10) strftime\n",
    "\n",
    "#strftime   -- 同其他类一样，datetime 可以通过strftime 进行格式化打印成你想要的格式。（默认是用的是ISO-8601 格式：YYYY-MM-DDTHH:MM:SS.mmmmmm）\n",
    "now.strftime('%Y-%m-%d %H:%M:%S')"
   ]
  },
  {
   "cell_type": "code",
   "execution_count": 61,
   "metadata": {
    "collapsed": true
   },
   "outputs": [],
   "source": [
    "#(11) 其他\n",
    "\n",
    "#上面还未涉及到这几个函数astimezone, utcoffset, dst, tzname，都是与时区相关，一般涉及不到，此处不追逐。\n"
   ]
  },
  {
   "cell_type": "code",
   "execution_count": 62,
   "metadata": {
    "collapsed": false
   },
   "outputs": [
    {
     "name": "stdout",
     "output_type": "stream",
     "text": [
      "999999999 days, 23:59:59.999999\n",
      "-999999999 days, 0:00:00\n",
      "0:00:00.000001\n"
     ]
    }
   ],
   "source": [
    "#4. timedelta\n",
    "\n",
    "#4.1 timedelta 类简介以及简单使用\n",
    "\n",
    "#datetime 对象之间可以使用算术运算，或者结合一个datetime 和一个timedelta ，可以用来计算过去或将来的一些日期。两个日期相减可以生成一个timedelta， 还可以对某个日期与一个timedelta 计算来得出另一个日期。所以可以理解成两个datetime 的中间变量，可以用于计算和比较。\n",
    "#来看看timedelta 的精度以及范围：\n",
    "print datetime.timedelta.max\n",
    "\n",
    "print datetime.timedelta.min\n",
    "\n",
    "print datetime.timedelta.resolution        # 精度为1微秒"
   ]
  },
  {
   "cell_type": "code",
   "execution_count": 63,
   "metadata": {
    "collapsed": false
   },
   "outputs": [
    {
     "name": "stdout",
     "output_type": "stream",
     "text": [
      "0:00:00.000001 -- datetime.timedelta(0, 0, 1)\n",
      "0:00:00.001000 -- datetime.timedelta(0, 0, 1000)\n",
      "0:00:01 -- datetime.timedelta(0, 1)\n",
      "0:01:00 -- datetime.timedelta(0, 60)\n",
      "1:00:00 -- datetime.timedelta(0, 3600)\n",
      "1 day, 0:00:00 -- datetime.timedelta(1)\n",
      "7 days, 0:00:00 -- datetime.timedelta(7)\n"
     ]
    }
   ],
   "source": [
    "#timedelta 的内部值按日、秒和毫秒存储：\n",
    "td = datetime.timedelta(microseconds = 1); print \"%s -- %r\" %(td, td)\n",
    "\n",
    "td = datetime.timedelta(milliseconds = 1); print \"%s -- %r\" %(td, td)\n",
    "\n",
    "td = datetime.timedelta(seconds = 1); print \"%s -- %r\" %(td, td)\n",
    "\n",
    "td = datetime.timedelta(minutes = 1); print \"%s -- %r\" %(td, td)\n",
    "\n",
    "td = datetime.timedelta(hours = 1); print \"%s -- %r\" %(td, td)\n",
    "\n",
    "td = datetime.timedelta(days = 1); print \"%s -- %r\" %(td, td)\n",
    "\n",
    "td = datetime.timedelta(weeks = 1); print \"%s -- %r\" %(td, td)"
   ]
  },
  {
   "cell_type": "code",
   "execution_count": 64,
   "metadata": {
    "collapsed": false
   },
   "outputs": [
    {
     "name": "stdout",
     "output_type": "stream",
     "text": [
      "3600.0\n"
     ]
    }
   ],
   "source": [
    "#4.2 timedelta 类提供的方法\n",
    "\n",
    "#因为timedelta 只是一个用于计算的中间量，所以并没有提供很多方法，用apihelper 可以看到只提供一个方法total_seconds 用以返回一个timedelta 完整时间段的所有秒数:\n",
    "td = datetime.timedelta(hours = 1); print td.total_seconds()\n"
   ]
  },
  {
   "cell_type": "code",
   "execution_count": 65,
   "metadata": {
    "collapsed": false
   },
   "outputs": [
    {
     "data": {
      "text/plain": [
       "datetime.timedelta(1)"
      ]
     },
     "execution_count": 65,
     "metadata": {},
     "output_type": "execute_result"
    }
   ],
   "source": [
    "#4.3 使用timedelta 计算\n",
    "\n",
    "one_day = datetime.timedelta(days = 1);   # one_day 是一个定义为1天的timedelta 实例\n",
    "one_day"
   ]
  },
  {
   "cell_type": "code",
   "execution_count": 66,
   "metadata": {
    "collapsed": true
   },
   "outputs": [],
   "source": [
    "today = datetime.date.today()                   # today 是date 实例\n",
    "tomorrow = today + one_day              # 直接使用timedelta 实例与datetime 的date 实例进行计算\n",
    "yestoday = today - one_day"
   ]
  },
  {
   "cell_type": "code",
   "execution_count": 67,
   "metadata": {
    "collapsed": false
   },
   "outputs": [
    {
     "data": {
      "text/plain": [
       "datetime.date(2017, 10, 28)"
      ]
     },
     "execution_count": 67,
     "metadata": {},
     "output_type": "execute_result"
    }
   ],
   "source": [
    "today"
   ]
  },
  {
   "cell_type": "code",
   "execution_count": 68,
   "metadata": {
    "collapsed": false
   },
   "outputs": [
    {
     "data": {
      "text/plain": [
       "datetime.date(2017, 10, 29)"
      ]
     },
     "execution_count": 68,
     "metadata": {},
     "output_type": "execute_result"
    }
   ],
   "source": [
    "tomorrow"
   ]
  },
  {
   "cell_type": "code",
   "execution_count": 69,
   "metadata": {
    "collapsed": false
   },
   "outputs": [
    {
     "data": {
      "text/plain": [
       "datetime.date(2017, 10, 27)"
      ]
     },
     "execution_count": 69,
     "metadata": {},
     "output_type": "execute_result"
    }
   ],
   "source": [
    "yestoday"
   ]
  },
  {
   "cell_type": "code",
   "execution_count": 70,
   "metadata": {
    "collapsed": false
   },
   "outputs": [
    {
     "data": {
      "text/plain": [
       "datetime.timedelta(2)"
      ]
     },
     "execution_count": 70,
     "metadata": {},
     "output_type": "execute_result"
    }
   ],
   "source": [
    "tomorrow - yestoday            # 两个date 实例也可以计算"
   ]
  },
  {
   "cell_type": "code",
   "execution_count": 71,
   "metadata": {
    "collapsed": false
   },
   "outputs": [
    {
     "name": "stdout",
     "output_type": "stream",
     "text": [
      "2 days, 0:00:00\n"
     ]
    }
   ],
   "source": [
    "print tomorrow - yestoday"
   ]
  },
  {
   "cell_type": "code",
   "execution_count": 72,
   "metadata": {
    "collapsed": false
   },
   "outputs": [
    {
     "data": {
      "text/plain": [
       "False"
      ]
     },
     "execution_count": 72,
     "metadata": {},
     "output_type": "execute_result"
    }
   ],
   "source": [
    "#4.4 使用timedelta 比较\n",
    "\n",
    "today > yestoday               # date 实例可以直接比较\n",
    "\n",
    "tomorrow == yestoday"
   ]
  },
  {
   "cell_type": "code",
   "execution_count": 73,
   "metadata": {
    "collapsed": false
   },
   "outputs": [],
   "source": [
    "#写到这，感觉该有的都有了，而且本文中有大量的例子，其实如果你不练习，还是难以记住这么多知识点，只要亲自写代码试验了，这些还是很好记很好理解的。比如说你可以做一个小闹钟提示什么的。\n"
   ]
  },
  {
   "cell_type": "code",
   "execution_count": 74,
   "metadata": {
    "collapsed": false
   },
   "outputs": [],
   "source": [
    " #######"
   ]
  },
  {
   "cell_type": "code",
   "execution_count": 75,
   "metadata": {
    "collapsed": false
   },
   "outputs": [
    {
     "data": {
      "text/plain": [
       "'Sat Oct 28 15:16:54 2017'"
      ]
     },
     "execution_count": 75,
     "metadata": {},
     "output_type": "execute_result"
    }
   ],
   "source": [
    "# http://blog.csdn.net/longerzone/article/details/37574053\n",
    "#Python  time - 时钟时间模块。我们使用apihelper.info（可以参考系列前面文章《Python 学习笔记 9 -- Python强大的自省简析》）查看time 类，可以得知time 模块主要有以下方法：\n",
    "\n",
    "#1. time\n",
    "\n",
    "#核心函数，返回值是以浮点数计的自纪元开始以来的秒数，用于比较或者计算还是比较方便。\n",
    "\n",
    "#2. ctime\n",
    "\n",
    "#如果你想打印日期或者时间信息，使用 ctime 要比time 更加方便：\n",
    "time.ctime()"
   ]
  },
  {
   "cell_type": "code",
   "execution_count": 76,
   "metadata": {
    "collapsed": false
   },
   "outputs": [
    {
     "name": "stdout",
     "output_type": "stream",
     "text": [
      "Now time is   : Sat Oct 28 15:16:54 2017\n",
      "15 secs later : Sat Oct 28 15:17:09 2017\n"
     ]
    }
   ],
   "source": [
    " #我们可以看到 ctime 返回的是可读的可直接用于记录时间的字符串形式时间信息。\n",
    "\n",
    "#我们还可以使用 ctime 来格式化打印一个由 time 计算的时间值：\n",
    "print \"Now time is   :\",time.ctime() ;  later = time.time()+15 ;  print \"15 secs later :\", time.ctime(later)\n"
   ]
  },
  {
   "cell_type": "code",
   "execution_count": 77,
   "metadata": {
    "collapsed": false
   },
   "outputs": [
    {
     "name": "stdout",
     "output_type": "stream",
     "text": [
      "15432103500 2.33307436208e-06\n",
      "15432098 0.00180206663727\n",
      "1881664346183521084032 0.00241333212013\n",
      "1881664346183521084032 0.00279968923449\n"
     ]
    }
   ],
   "source": [
    "#3. clock \n",
    "\n",
    "#处理器时钟，可以用来计算程序使用的实际时间，评估性能。\n",
    "print 123456789*123456789/987654, time.clock()      \n",
    "\n",
    "print 123456789*123456789/987654321, time.clock()\n",
    "\n",
    "print (123456789*123456789+ 1234567890/987654321)*123456, time.clock()\n",
    "\n",
    "print (123456789*123456789+ 1234567890/987654321)*123456, time.clock()     # 与上面同样复杂的运算，放在主频比较低的树莓派上运行，cpu 耗时要长很多\n"
   ]
  },
  {
   "cell_type": "code",
   "execution_count": 78,
   "metadata": {
    "collapsed": false
   },
   "outputs": [
    {
     "data": {
      "text/plain": [
       "time.struct_time(tm_year=2017, tm_mon=10, tm_mday=28, tm_hour=7, tm_min=16, tm_sec=55, tm_wday=5, tm_yday=301, tm_isdst=0)"
      ]
     },
     "execution_count": 78,
     "metadata": {},
     "output_type": "execute_result"
    }
   ],
   "source": [
    "#4. gmtime, localtime 和tzset\n",
    "\n",
    "#先统一介绍一下这几个函数（后面结合实例会了解的更加清楚）：\n",
    "#time.gmtime([secs])  --参数为一个以秒表示的时间值，gmtime 函数将参数转化并返回一个 struct_time 结构（见本文最后一节）的时间信息，且gmtime转化得到的时间是UTC 时间（世界统一时间）。如果没有使用一个秒数作为参数，将会默认使用并转化当前时间(即time.time()), 所以直接使用 time.gmtime() 会得到当前UTC 时间，效果同 time.gmtime(time.time())。\n",
    "#time.localtime([secs])  -- 函数使用以及作用都与gmtime 类似，但是转化的结果是本地时间。也就是说它转化的结果是符合当前设置的时区信息的本地时间。同样，如果没有参数，默认转化的也是当前时间(即time.time())，所以直接使用 time.localtime() 会得到当前的本地时间，效果同 time.localtime(time.time())。\n",
    "#time.tzset()  -- 设置时区从而改变了上面两个函数的时间转化的规则。\n",
    "\n",
    "#而对于 时区的选择，我们可以查看参考Linux 的 \"/usr/share/zoneinfo/\" 目录：\n",
    "#$ ls /usr/share/zoneinfo/\n",
    "#Africa      Australia  Cuba     Etc      GMT0       Iceland      Japan      MST      Poland      right      UCT        zone.tab\n",
    "\n",
    "#UTC 指的是Coordinated Universal Time－ 世界协调时间（又称世界标准时间、世界统一时间），是经过平均太阳时(以格林威治时间GMT为准)、地轴运动修正后的新时标以及以「秒」为单位的国际原子时所综合精算而成的时间，计算过程相当严谨精密。\n",
    "#中国一般使用CST 时间，解释为“China Standard Time UT+8:00” ，即标准的UTC 时间加8！\n",
    "\n",
    "#对于时区的设置以及localtime 显示的信息：\n",
    "time.gmtime()       # 直接使用，默认转化当前时间time.time()并返回 struct_time 结构的 UTC 时间"
   ]
  },
  {
   "cell_type": "code",
   "execution_count": 79,
   "metadata": {
    "collapsed": false
   },
   "outputs": [
    {
     "data": {
      "text/plain": [
       "time.struct_time(tm_year=2017, tm_mon=10, tm_mday=28, tm_hour=15, tm_min=16, tm_sec=55, tm_wday=5, tm_yday=301, tm_isdst=0)"
      ]
     },
     "execution_count": 79,
     "metadata": {},
     "output_type": "execute_result"
    }
   ],
   "source": [
    "time.localtime()    # 返回当前的本地时间"
   ]
  },
  {
   "cell_type": "code",
   "execution_count": 80,
   "metadata": {
    "collapsed": false
   },
   "outputs": [],
   "source": [
    "import os\n",
    "os.environ['TZ'] =  'Brazil/East'    #设置巴西时间"
   ]
  },
  {
   "cell_type": "code",
   "execution_count": 81,
   "metadata": {
    "collapsed": false
   },
   "outputs": [],
   "source": [
    "#time.tzset()        # 设置时区\n",
    "    #windows 下没有提供time.tzset()"
   ]
  },
  {
   "cell_type": "code",
   "execution_count": 82,
   "metadata": {
    "collapsed": false
   },
   "outputs": [
    {
     "data": {
      "text/plain": [
       "time.struct_time(tm_year=2017, tm_mon=10, tm_mday=28, tm_hour=7, tm_min=16, tm_sec=55, tm_wday=5, tm_yday=301, tm_isdst=0)"
      ]
     },
     "execution_count": 82,
     "metadata": {},
     "output_type": "execute_result"
    }
   ],
   "source": [
    "time.gmtime()       # 我们可以看到设置时区后对UTC 时间并无干扰"
   ]
  },
  {
   "cell_type": "code",
   "execution_count": 83,
   "metadata": {
    "collapsed": false
   },
   "outputs": [
    {
     "data": {
      "text/plain": [
       "time.struct_time(tm_year=2017, tm_mon=10, tm_mday=28, tm_hour=15, tm_min=16, tm_sec=56, tm_wday=5, tm_yday=301, tm_isdst=0)"
      ]
     },
     "execution_count": 83,
     "metadata": {},
     "output_type": "execute_result"
    }
   ],
   "source": [
    "time.localtime()    # 本地时间已经显示的不同了，因为当前输出的是巴西时间"
   ]
  },
  {
   "cell_type": "code",
   "execution_count": 84,
   "metadata": {
    "collapsed": false
   },
   "outputs": [],
   "source": [
    "os.environ['TZ'] =  'Asia/Shanghai'     #重新设置时区为上海（好像没有北京时间，安装Linux 时小伙伴应该都注意过这个问题。），回到北京时间"
   ]
  },
  {
   "cell_type": "code",
   "execution_count": 85,
   "metadata": {
    "collapsed": false
   },
   "outputs": [],
   "source": [
    "#time.tzset()"
   ]
  },
  {
   "cell_type": "code",
   "execution_count": 86,
   "metadata": {
    "collapsed": false
   },
   "outputs": [
    {
     "data": {
      "text/plain": [
       "['Africa/Abidjan', 'Africa/Accra', 'Africa/Addis_Ababa', 'Africa/Algiers', 'Africa/Asmara', 'Africa/Asmera', 'Africa/Bamako', 'Africa/Bangui', 'Africa/Banjul', 'Africa/Bissau', 'Africa/Blantyre', 'Africa/Brazzaville', 'Africa/Bujumbura', 'Africa/Cairo', 'Africa/Casablanca', 'Africa/Ceuta', 'Africa/Conakry', 'Africa/Dakar', 'Africa/Dar_es_Salaam', 'Africa/Djibouti', 'Africa/Douala', 'Africa/El_Aaiun', 'Africa/Freetown', 'Africa/Gaborone', 'Africa/Harare', 'Africa/Johannesburg', 'Africa/Juba', 'Africa/Kampala', 'Africa/Khartoum', 'Africa/Kigali', 'Africa/Kinshasa', 'Africa/Lagos', 'Africa/Libreville', 'Africa/Lome', 'Africa/Luanda', 'Africa/Lubumbashi', 'Africa/Lusaka', 'Africa/Malabo', 'Africa/Maputo', 'Africa/Maseru', 'Africa/Mbabane', 'Africa/Mogadishu', 'Africa/Monrovia', 'Africa/Nairobi', 'Africa/Ndjamena', 'Africa/Niamey', 'Africa/Nouakchott', 'Africa/Ouagadougou', 'Africa/Porto-Novo', 'Africa/Sao_Tome', 'Africa/Timbuktu', 'Africa/Tripoli', 'Africa/Tunis', 'Africa/Windhoek', 'America/Adak', 'America/Anchorage', 'America/Anguilla', 'America/Antigua', 'America/Araguaina', 'America/Argentina/Buenos_Aires', 'America/Argentina/Catamarca', 'America/Argentina/ComodRivadavia', 'America/Argentina/Cordoba', 'America/Argentina/Jujuy', 'America/Argentina/La_Rioja', 'America/Argentina/Mendoza', 'America/Argentina/Rio_Gallegos', 'America/Argentina/Salta', 'America/Argentina/San_Juan', 'America/Argentina/San_Luis', 'America/Argentina/Tucuman', 'America/Argentina/Ushuaia', 'America/Aruba', 'America/Asuncion', 'America/Atikokan', 'America/Atka', 'America/Bahia', 'America/Bahia_Banderas', 'America/Barbados', 'America/Belem', 'America/Belize', 'America/Blanc-Sablon', 'America/Boa_Vista', 'America/Bogota', 'America/Boise', 'America/Buenos_Aires', 'America/Cambridge_Bay', 'America/Campo_Grande', 'America/Cancun', 'America/Caracas', 'America/Catamarca', 'America/Cayenne', 'America/Cayman', 'America/Chicago', 'America/Chihuahua', 'America/Coral_Harbour', 'America/Cordoba', 'America/Costa_Rica', 'America/Creston', 'America/Cuiaba', 'America/Curacao', 'America/Danmarkshavn', 'America/Dawson', 'America/Dawson_Creek', 'America/Denver', 'America/Detroit', 'America/Dominica', 'America/Edmonton', 'America/Eirunepe', 'America/El_Salvador', 'America/Ensenada', 'America/Fort_Nelson', 'America/Fort_Wayne', 'America/Fortaleza', 'America/Glace_Bay', 'America/Godthab', 'America/Goose_Bay', 'America/Grand_Turk', 'America/Grenada', 'America/Guadeloupe', 'America/Guatemala', 'America/Guayaquil', 'America/Guyana', 'America/Halifax', 'America/Havana', 'America/Hermosillo', 'America/Indiana/Indianapolis', 'America/Indiana/Knox', 'America/Indiana/Marengo', 'America/Indiana/Petersburg', 'America/Indiana/Tell_City', 'America/Indiana/Vevay', 'America/Indiana/Vincennes', 'America/Indiana/Winamac', 'America/Indianapolis', 'America/Inuvik', 'America/Iqaluit', 'America/Jamaica', 'America/Jujuy', 'America/Juneau', 'America/Kentucky/Louisville', 'America/Kentucky/Monticello', 'America/Knox_IN', 'America/Kralendijk', 'America/La_Paz', 'America/Lima', 'America/Los_Angeles', 'America/Louisville', 'America/Lower_Princes', 'America/Maceio', 'America/Managua', 'America/Manaus', 'America/Marigot', 'America/Martinique', 'America/Matamoros', 'America/Mazatlan', 'America/Mendoza', 'America/Menominee', 'America/Merida', 'America/Metlakatla', 'America/Mexico_City', 'America/Miquelon', 'America/Moncton', 'America/Monterrey', 'America/Montevideo', 'America/Montreal', 'America/Montserrat', 'America/Nassau', 'America/New_York', 'America/Nipigon', 'America/Nome', 'America/Noronha', 'America/North_Dakota/Beulah', 'America/North_Dakota/Center', 'America/North_Dakota/New_Salem', 'America/Ojinaga', 'America/Panama', 'America/Pangnirtung', 'America/Paramaribo', 'America/Phoenix', 'America/Port-au-Prince', 'America/Port_of_Spain', 'America/Porto_Acre', 'America/Porto_Velho', 'America/Puerto_Rico', 'America/Punta_Arenas', 'America/Rainy_River', 'America/Rankin_Inlet', 'America/Recife', 'America/Regina', 'America/Resolute', 'America/Rio_Branco', 'America/Rosario', 'America/Santa_Isabel', 'America/Santarem', 'America/Santiago', 'America/Santo_Domingo', 'America/Sao_Paulo', 'America/Scoresbysund', 'America/Shiprock', 'America/Sitka', 'America/St_Barthelemy', 'America/St_Johns', 'America/St_Kitts', 'America/St_Lucia', 'America/St_Thomas', 'America/St_Vincent', 'America/Swift_Current', 'America/Tegucigalpa', 'America/Thule', 'America/Thunder_Bay', 'America/Tijuana', 'America/Toronto', 'America/Tortola', 'America/Vancouver', 'America/Virgin', 'America/Whitehorse', 'America/Winnipeg', 'America/Yakutat', 'America/Yellowknife', 'Antarctica/Casey', 'Antarctica/Davis', 'Antarctica/DumontDUrville', 'Antarctica/Macquarie', 'Antarctica/Mawson', 'Antarctica/McMurdo', 'Antarctica/Palmer', 'Antarctica/Rothera', 'Antarctica/South_Pole', 'Antarctica/Syowa', 'Antarctica/Troll', 'Antarctica/Vostok', 'Arctic/Longyearbyen', 'Asia/Aden', 'Asia/Almaty', 'Asia/Amman', 'Asia/Anadyr', 'Asia/Aqtau', 'Asia/Aqtobe', 'Asia/Ashgabat', 'Asia/Ashkhabad', 'Asia/Atyrau', 'Asia/Baghdad', 'Asia/Bahrain', 'Asia/Baku', 'Asia/Bangkok', 'Asia/Barnaul', 'Asia/Beirut', 'Asia/Bishkek', 'Asia/Brunei', 'Asia/Calcutta', 'Asia/Chita', 'Asia/Choibalsan', 'Asia/Chongqing', 'Asia/Chungking', 'Asia/Colombo', 'Asia/Dacca', 'Asia/Damascus', 'Asia/Dhaka', 'Asia/Dili', 'Asia/Dubai', 'Asia/Dushanbe', 'Asia/Famagusta', 'Asia/Gaza', 'Asia/Harbin', 'Asia/Hebron', 'Asia/Ho_Chi_Minh', 'Asia/Hong_Kong', 'Asia/Hovd', 'Asia/Irkutsk', 'Asia/Istanbul', 'Asia/Jakarta', 'Asia/Jayapura', 'Asia/Jerusalem', 'Asia/Kabul', 'Asia/Kamchatka', 'Asia/Karachi', 'Asia/Kashgar', 'Asia/Kathmandu', 'Asia/Katmandu', 'Asia/Khandyga', 'Asia/Kolkata', 'Asia/Krasnoyarsk', 'Asia/Kuala_Lumpur', 'Asia/Kuching', 'Asia/Kuwait', 'Asia/Macao', 'Asia/Macau', 'Asia/Magadan', 'Asia/Makassar', 'Asia/Manila', 'Asia/Muscat', 'Asia/Nicosia', 'Asia/Novokuznetsk', 'Asia/Novosibirsk', 'Asia/Omsk', 'Asia/Oral', 'Asia/Phnom_Penh', 'Asia/Pontianak', 'Asia/Pyongyang', 'Asia/Qatar', 'Asia/Qyzylorda', 'Asia/Rangoon', 'Asia/Riyadh', 'Asia/Saigon', 'Asia/Sakhalin', 'Asia/Samarkand', 'Asia/Seoul', 'Asia/Shanghai', 'Asia/Singapore', 'Asia/Srednekolymsk', 'Asia/Taipei', 'Asia/Tashkent', 'Asia/Tbilisi', 'Asia/Tehran', 'Asia/Tel_Aviv', 'Asia/Thimbu', 'Asia/Thimphu', 'Asia/Tokyo', 'Asia/Tomsk', 'Asia/Ujung_Pandang', 'Asia/Ulaanbaatar', 'Asia/Ulan_Bator', 'Asia/Urumqi', 'Asia/Ust-Nera', 'Asia/Vientiane', 'Asia/Vladivostok', 'Asia/Yakutsk', 'Asia/Yangon', 'Asia/Yekaterinburg', 'Asia/Yerevan', 'Atlantic/Azores', 'Atlantic/Bermuda', 'Atlantic/Canary', 'Atlantic/Cape_Verde', 'Atlantic/Faeroe', 'Atlantic/Faroe', 'Atlantic/Jan_Mayen', 'Atlantic/Madeira', 'Atlantic/Reykjavik', 'Atlantic/South_Georgia', 'Atlantic/St_Helena', 'Atlantic/Stanley', 'Australia/ACT', 'Australia/Adelaide', 'Australia/Brisbane', 'Australia/Broken_Hill', 'Australia/Canberra', 'Australia/Currie', 'Australia/Darwin', 'Australia/Eucla', 'Australia/Hobart', 'Australia/LHI', 'Australia/Lindeman', 'Australia/Lord_Howe', 'Australia/Melbourne', 'Australia/NSW', 'Australia/North', 'Australia/Perth', 'Australia/Queensland', 'Australia/South', 'Australia/Sydney', 'Australia/Tasmania', 'Australia/Victoria', 'Australia/West', 'Australia/Yancowinna', 'Brazil/Acre', 'Brazil/DeNoronha', 'Brazil/East', 'Brazil/West', 'CET', 'CST6CDT', 'Canada/Atlantic', 'Canada/Central', 'Canada/East-Saskatchewan', 'Canada/Eastern', 'Canada/Mountain', 'Canada/Newfoundland', 'Canada/Pacific', 'Canada/Saskatchewan', 'Canada/Yukon', 'Chile/Continental', 'Chile/EasterIsland', 'Cuba', 'EET', 'EST', 'EST5EDT', 'Egypt', 'Eire', 'Etc/GMT', 'Etc/GMT+0', 'Etc/GMT+1', 'Etc/GMT+10', 'Etc/GMT+11', 'Etc/GMT+12', 'Etc/GMT+2', 'Etc/GMT+3', 'Etc/GMT+4', 'Etc/GMT+5', 'Etc/GMT+6', 'Etc/GMT+7', 'Etc/GMT+8', 'Etc/GMT+9', 'Etc/GMT-0', 'Etc/GMT-1', 'Etc/GMT-10', 'Etc/GMT-11', 'Etc/GMT-12', 'Etc/GMT-13', 'Etc/GMT-14', 'Etc/GMT-2', 'Etc/GMT-3', 'Etc/GMT-4', 'Etc/GMT-5', 'Etc/GMT-6', 'Etc/GMT-7', 'Etc/GMT-8', 'Etc/GMT-9', 'Etc/GMT0', 'Etc/Greenwich', 'Etc/UCT', 'Etc/UTC', 'Etc/Universal', 'Etc/Zulu', 'Europe/Amsterdam', 'Europe/Andorra', 'Europe/Astrakhan', 'Europe/Athens', 'Europe/Belfast', 'Europe/Belgrade', 'Europe/Berlin', 'Europe/Bratislava', 'Europe/Brussels', 'Europe/Bucharest', 'Europe/Budapest', 'Europe/Busingen', 'Europe/Chisinau', 'Europe/Copenhagen', 'Europe/Dublin', 'Europe/Gibraltar', 'Europe/Guernsey', 'Europe/Helsinki', 'Europe/Isle_of_Man', 'Europe/Istanbul', 'Europe/Jersey', 'Europe/Kaliningrad', 'Europe/Kiev', 'Europe/Kirov', 'Europe/Lisbon', 'Europe/Ljubljana', 'Europe/London', 'Europe/Luxembourg', 'Europe/Madrid', 'Europe/Malta', 'Europe/Mariehamn', 'Europe/Minsk', 'Europe/Monaco', 'Europe/Moscow', 'Europe/Nicosia', 'Europe/Oslo', 'Europe/Paris', 'Europe/Podgorica', 'Europe/Prague', 'Europe/Riga', 'Europe/Rome', 'Europe/Samara', 'Europe/San_Marino', 'Europe/Sarajevo', 'Europe/Saratov', 'Europe/Simferopol', 'Europe/Skopje', 'Europe/Sofia', 'Europe/Stockholm', 'Europe/Tallinn', 'Europe/Tirane', 'Europe/Tiraspol', 'Europe/Ulyanovsk', 'Europe/Uzhgorod', 'Europe/Vaduz', 'Europe/Vatican', 'Europe/Vienna', 'Europe/Vilnius', 'Europe/Volgograd', 'Europe/Warsaw', 'Europe/Zagreb', 'Europe/Zaporozhye', 'Europe/Zurich', 'GB', 'GB-Eire', 'GMT', 'GMT+0', 'GMT-0', 'GMT0', 'Greenwich', 'HST', 'Hongkong', 'Iceland', 'Indian/Antananarivo', 'Indian/Chagos', 'Indian/Christmas', 'Indian/Cocos', 'Indian/Comoro', 'Indian/Kerguelen', 'Indian/Mahe', 'Indian/Maldives', 'Indian/Mauritius', 'Indian/Mayotte', 'Indian/Reunion', 'Iran', 'Israel', 'Jamaica', 'Japan', 'Kwajalein', 'Libya', 'MET', 'MST', 'MST7MDT', 'Mexico/BajaNorte', 'Mexico/BajaSur', 'Mexico/General', 'NZ', 'NZ-CHAT', 'Navajo', 'PRC', 'PST8PDT', 'Pacific/Apia', 'Pacific/Auckland', 'Pacific/Bougainville', 'Pacific/Chatham', 'Pacific/Chuuk', 'Pacific/Easter', 'Pacific/Efate', 'Pacific/Enderbury', 'Pacific/Fakaofo', 'Pacific/Fiji', 'Pacific/Funafuti', 'Pacific/Galapagos', 'Pacific/Gambier', 'Pacific/Guadalcanal', 'Pacific/Guam', 'Pacific/Honolulu', 'Pacific/Johnston', 'Pacific/Kiritimati', 'Pacific/Kosrae', 'Pacific/Kwajalein', 'Pacific/Majuro', 'Pacific/Marquesas', 'Pacific/Midway', 'Pacific/Nauru', 'Pacific/Niue', 'Pacific/Norfolk', 'Pacific/Noumea', 'Pacific/Pago_Pago', 'Pacific/Palau', 'Pacific/Pitcairn', 'Pacific/Pohnpei', 'Pacific/Ponape', 'Pacific/Port_Moresby', 'Pacific/Rarotonga', 'Pacific/Saipan', 'Pacific/Samoa', 'Pacific/Tahiti', 'Pacific/Tarawa', 'Pacific/Tongatapu', 'Pacific/Truk', 'Pacific/Wake', 'Pacific/Wallis', 'Pacific/Yap', 'Poland', 'Portugal', 'ROC', 'ROK', 'Singapore', 'Turkey', 'UCT', 'US/Alaska', 'US/Aleutian', 'US/Arizona', 'US/Central', 'US/East-Indiana', 'US/Eastern', 'US/Hawaii', 'US/Indiana-Starke', 'US/Michigan', 'US/Mountain', 'US/Pacific', 'US/Pacific-New', 'US/Samoa', 'UTC', 'Universal', 'W-SU', 'WET', 'Zulu']"
      ]
     },
     "execution_count": 86,
     "metadata": {},
     "output_type": "execute_result"
    }
   ],
   "source": [
    "#time.tzname    # 中国的时区名为 CST，理解为“China Standard Time UT+8:00”\n",
    "import pytz\n",
    "pytz.all_timezones"
   ]
  },
  {
   "cell_type": "code",
   "execution_count": 87,
   "metadata": {
    "collapsed": false
   },
   "outputs": [
    {
     "data": {
      "text/plain": [
       "<DstTzInfo 'Asia/Shanghai' LMT+8:06:00 STD>"
      ]
     },
     "execution_count": 87,
     "metadata": {},
     "output_type": "execute_result"
    }
   ],
   "source": [
    "pytz.timezone('Asia/Shanghai')"
   ]
  },
  {
   "cell_type": "code",
   "execution_count": 88,
   "metadata": {
    "collapsed": false
   },
   "outputs": [
    {
     "data": {
      "text/plain": [
       "time.struct_time(tm_year=2017, tm_mon=10, tm_mday=28, tm_hour=7, tm_min=16, tm_sec=57, tm_wday=5, tm_yday=301, tm_isdst=0)"
      ]
     },
     "execution_count": 88,
     "metadata": {},
     "output_type": "execute_result"
    }
   ],
   "source": [
    "time.gmtime()"
   ]
  },
  {
   "cell_type": "code",
   "execution_count": 89,
   "metadata": {
    "collapsed": false
   },
   "outputs": [
    {
     "data": {
      "text/plain": [
       "time.struct_time(tm_year=2017, tm_mon=10, tm_mday=28, tm_hour=15, tm_min=16, tm_sec=57, tm_wday=5, tm_yday=301, tm_isdst=0)"
      ]
     },
     "execution_count": 89,
     "metadata": {},
     "output_type": "execute_result"
    }
   ],
   "source": [
    "time.localtime()"
   ]
  },
  {
   "cell_type": "code",
   "execution_count": 90,
   "metadata": {
    "collapsed": false
   },
   "outputs": [
    {
     "name": "stdout",
     "output_type": "stream",
     "text": [
      "2017-10-28\n"
     ]
    }
   ],
   "source": [
    "#5. strptime 和 strftime\n",
    "\n",
    "#这两个函数用来解析和格式化输出时间。用作字符串格式的时间与 struct_time 结构的时间之间的转化。\n",
    "\n",
    "#对于上面的localtime ，我们可以看到输出结果是一个 struct_time 结构体并以元组格式打印，我们可以使用\" time.localtime().tm_year \" 这样单独取其中一项。\n",
    "#所以我们打印日期时可以这样：\n",
    "print \"%s-%s-%s\" % (time.localtime().tm_year, time.localtime().tm_mon, time.localtime().tm_mday)\n"
   ]
  },
  {
   "cell_type": "code",
   "execution_count": 91,
   "metadata": {
    "collapsed": false
   },
   "outputs": [
    {
     "data": {
      "text/plain": [
       "time.struct_time(tm_year=2017, tm_mon=10, tm_mday=28, tm_hour=15, tm_min=16, tm_sec=58, tm_wday=5, tm_yday=301, tm_isdst=0)"
      ]
     },
     "execution_count": 91,
     "metadata": {},
     "output_type": "execute_result"
    }
   ],
   "source": [
    "#而ctime 输出的结果是字符串形式， 对于这种的我们可以使用这两个函数来解析/格式化:\n",
    "\n",
    "#strftime 用于将元组转化为字符串, 它将指定的struct_time(默认为当前时间)，根据指定的格式化字符串输出。\n",
    "time.localtime()    # 我们可以知道，localtime 打印的结果是元组形式的时间结构体\n"
   ]
  },
  {
   "cell_type": "code",
   "execution_count": 92,
   "metadata": {
    "collapsed": false
   },
   "outputs": [
    {
     "data": {
      "text/plain": [
       "'2017-10-28 15:16:58'"
      ]
     },
     "execution_count": 92,
     "metadata": {},
     "output_type": "execute_result"
    }
   ],
   "source": [
    "time.strftime('%Y-%m-%d %H:%M:%S', time.localtime())    # 使用格式化打印，我们可以看到比上面使用元组项要方便很多\n"
   ]
  },
  {
   "cell_type": "code",
   "execution_count": 93,
   "metadata": {
    "collapsed": false
   },
   "outputs": [
    {
     "data": {
      "text/plain": [
       "'Sat Oct 28 15:16:58 2017'"
      ]
     },
     "execution_count": 93,
     "metadata": {},
     "output_type": "execute_result"
    }
   ],
   "source": [
    "#strptime 用于将字符串格式的格式化为元组：\n",
    "time.ctime()"
   ]
  },
  {
   "cell_type": "code",
   "execution_count": 94,
   "metadata": {
    "collapsed": false
   },
   "outputs": [
    {
     "data": {
      "text/plain": [
       "time.struct_time(tm_year=2017, tm_mon=10, tm_mday=28, tm_hour=15, tm_min=16, tm_sec=58, tm_wday=5, tm_yday=301, tm_isdst=-1)"
      ]
     },
     "execution_count": 94,
     "metadata": {},
     "output_type": "execute_result"
    }
   ],
   "source": [
    "time.strptime(time.ctime())\n"
   ]
  },
  {
   "cell_type": "code",
   "execution_count": 95,
   "metadata": {
    "collapsed": false
   },
   "outputs": [
    {
     "data": {
      "text/plain": [
       "'2017-10-28 15:16:59'"
      ]
     },
     "execution_count": 95,
     "metadata": {},
     "output_type": "execute_result"
    }
   ],
   "source": [
    "time.strftime( '%Y-%m-%d %H:%M:%S', time.strptime(time.ctime()))        # 格式化之后我们再使用strftime 格式化打印成我们想要的格式就很方便了！！！\n",
    "#time.strftime 的使用格式为：strftime(format[, tuple])\n",
    "#里面有很多参数，可以让你能够更随意的输出自己想要的东西：\n",
    "#%y 两位数的年份表示（00-99）\n",
    "#%Y 四位数的年份表示（000-9999）\n",
    "#%m 月份（01-12）\n",
    "#%d 月内中的一天（0-31）\n",
    "#%H 24小时制小时数（0-23）\n",
    "#%I 12小时制小时数（01-12）\n",
    "#%M 分钟数（00=59）\n",
    "#%S 秒（00-59）"
   ]
  },
  {
   "cell_type": "code",
   "execution_count": 96,
   "metadata": {
    "collapsed": true
   },
   "outputs": [],
   "source": [
    "#6. sleep\n",
    "\n",
    "#休眠函数， 任何语言中基本上都会有休眠函数，而python 中对应的就是 time.sleep(n)。携带的参数指定挂起执行程序的秒数。\n",
    "#为了更精确休眠的时间参数可以是一个浮点数。实际的挂起时间可能小于请求的数，因为捕获其他信号会终止休眠并执行信号对应的捕获程序。挂起时间也有可能比要求的更长，因为可能会调度系统中的其他活动。\n"
   ]
  },
  {
   "cell_type": "code",
   "execution_count": 97,
   "metadata": {
    "collapsed": false
   },
   "outputs": [
    {
     "data": {
      "text/plain": [
       "1509175019.561"
      ]
     },
     "execution_count": 97,
     "metadata": {},
     "output_type": "execute_result"
    }
   ],
   "source": [
    "#7. mktime\n",
    "\n",
    "#这是 localtime 的逆函数。它的参数是 struct_time 结构或者完整的9 元素的元组（如果使用元组，需要dst 标识，如果不知可以使用-1）。为了兼容time(),它会返回一个浮点数。如果参数不能被表示为一个有效的时间，会引发OverflowError 或者 ValueError错误。\n",
    "t = time.time()\n",
    "t"
   ]
  },
  {
   "cell_type": "code",
   "execution_count": 98,
   "metadata": {
    "collapsed": false
   },
   "outputs": [
    {
     "data": {
      "text/plain": [
       "time.struct_time(tm_year=2017, tm_mon=10, tm_mday=28, tm_hour=15, tm_min=16, tm_sec=59, tm_wday=5, tm_yday=301, tm_isdst=0)"
      ]
     },
     "execution_count": 98,
     "metadata": {},
     "output_type": "execute_result"
    }
   ],
   "source": [
    "time.localtime(t)   # 上面已说过，使用time.localtime 可以将time() 生成的浮点数转化为 struct_time 结构\n"
   ]
  },
  {
   "cell_type": "code",
   "execution_count": 99,
   "metadata": {
    "collapsed": false
   },
   "outputs": [
    {
     "data": {
      "text/plain": [
       "1509175019.0"
      ]
     },
     "execution_count": 99,
     "metadata": {},
     "output_type": "execute_result"
    }
   ],
   "source": [
    "time.mktime(time.localtime(t))      # 我们可以看到time.mktime 将 struct_time 结构再次还原为浮点数，其中因为 struct_time 结构中最小值为 tm_sec，也就是说最小时间精度为秒。所以使用 mktime 得到的浮点数中，秒以下的数（毫秒，微秒）被抹去。\n"
   ]
  },
  {
   "cell_type": "code",
   "execution_count": 100,
   "metadata": {
    "collapsed": false
   },
   "outputs": [
    {
     "data": {
      "text/plain": [
       "1404867269.0"
      ]
     },
     "execution_count": 100,
     "metadata": {},
     "output_type": "execute_result"
    }
   ],
   "source": [
    "time.mktime( (2014, 7, 9, 8, 54, 29, 2, 190, -1) )    # 使用上面结构体中的数（dst使用-1表示未知）组成的9元素的元组，mktime 能够还原出同样的值"
   ]
  },
  {
   "cell_type": "code",
   "execution_count": 101,
   "metadata": {
    "collapsed": false
   },
   "outputs": [
    {
     "data": {
      "text/plain": [
       "time.struct_time(tm_year=2017, tm_mon=10, tm_mday=28, tm_hour=15, tm_min=17, tm_sec=1, tm_wday=5, tm_yday=301, tm_isdst=0)"
      ]
     },
     "execution_count": 101,
     "metadata": {},
     "output_type": "execute_result"
    }
   ],
   "source": [
    "#8. struct_time 结构\n",
    "\n",
    "#最后介绍一下 time.struct_time 类：\n",
    "#time 的gmtime(), localtime(), 以及 strptime()方法获取的时间值类型是一个struct_time 类。它是一个命名的元组对象：元素可以通过index获取，或者是通过属性名称：\n",
    "time.localtime()\n"
   ]
  },
  {
   "cell_type": "code",
   "execution_count": 102,
   "metadata": {
    "collapsed": false
   },
   "outputs": [
    {
     "data": {
      "text/plain": [
       "10"
      ]
     },
     "execution_count": 102,
     "metadata": {},
     "output_type": "execute_result"
    }
   ],
   "source": [
    "time.localtime()[1]"
   ]
  },
  {
   "cell_type": "code",
   "execution_count": 103,
   "metadata": {
    "collapsed": false
   },
   "outputs": [
    {
     "data": {
      "text/plain": [
       "10"
      ]
     },
     "execution_count": 103,
     "metadata": {},
     "output_type": "execute_result"
    }
   ],
   "source": [
    "time.localtime().tm_mon"
   ]
  },
  {
   "cell_type": "code",
   "execution_count": 104,
   "metadata": {
    "collapsed": true
   },
   "outputs": [],
   "source": [
    "#目前这个结构中有以下元素：\n",
    "\n",
    "#time.struct_time 结构\n",
    "#tm_year\t(for example, 1993)\n",
    "#1\ttm_mon\trange [1, 12]\n",
    "#2\ttm_mday\trange [1, 31]\n",
    "#3\ttm_hour\trange [0, 23]\n",
    "#4\ttm_min\trange [0, 59]\n",
    "#5\ttm_sec\trange [0, 61]\n",
    "#6\ttm_wday\trange [0, 6], Monday is 0\n",
    "#7\ttm_yday\trange [1, 366]\n",
    "#8\ttm_isdst\t0, 1 or -1; see below\n"
   ]
  },
  {
   "cell_type": "code",
   "execution_count": 105,
   "metadata": {
    "collapsed": false
   },
   "outputs": [
    {
     "data": {
      "text/plain": [
       "['2017-6-26', '2017-6-27']"
      ]
     },
     "execution_count": 105,
     "metadata": {},
     "output_type": "execute_result"
    }
   ],
   "source": [
    "#http://blog.csdn.net/ly_ysys629/article/details/73822716\n",
    "#pandas时间序列基础以及时间、日期处理\n",
    "# pandas处理成组日期\n",
    "\n",
    "#pandas通常用于处理成组日期，不管这些日期是DataFrame的轴索引还是列，to_datetime方法可以解析多种不同的日期表示形式。\n",
    "date = ['2017-6-26','2017-6-27']\n",
    "date"
   ]
  },
  {
   "cell_type": "code",
   "execution_count": 106,
   "metadata": {
    "collapsed": false
   },
   "outputs": [
    {
     "data": {
      "text/plain": [
       "DatetimeIndex(['2017-06-26', '2017-06-27'], dtype='datetime64[ns]', freq=None)"
      ]
     },
     "execution_count": 106,
     "metadata": {},
     "output_type": "execute_result"
    }
   ],
   "source": [
    "import pandas as pd\n",
    "pd.to_datetime(date)"
   ]
  },
  {
   "cell_type": "code",
   "execution_count": 107,
   "metadata": {
    "collapsed": false
   },
   "outputs": [],
   "source": [
    "#datetime 格式定义\n",
    "#同上\n",
    "\n",
    "#pandas最基本的时间序列类型就是以时间戳（时间点）（通常以python字符串或datetime对象表示）为索引的Series：\n",
    "\n",
    "dates = ['2017-06-20','2017-06-21',\\\n",
    "         '2017-06-22','2017-06-23','2017-06-24','2017-06-25','2017-06-26','2017-06-27']\n"
   ]
  },
  {
   "cell_type": "code",
   "execution_count": 108,
   "metadata": {
    "collapsed": false
   },
   "outputs": [
    {
     "data": {
      "text/plain": [
       "2017-06-20    0.436801\n",
       "2017-06-21   -0.020528\n",
       "2017-06-22   -0.479386\n",
       "2017-06-23    0.797774\n",
       "2017-06-24    0.921192\n",
       "2017-06-25   -0.228229\n",
       "2017-06-26    0.262841\n",
       "2017-06-27    0.549272\n",
       "dtype: float64"
      ]
     },
     "execution_count": 108,
     "metadata": {},
     "output_type": "execute_result"
    }
   ],
   "source": [
    "import numpy as np\n",
    "ts = pd.Series(np.random.randn(8),index = pd.to_datetime(dates))\n",
    "\n",
    "ts"
   ]
  },
  {
   "cell_type": "code",
   "execution_count": 109,
   "metadata": {
    "collapsed": false
   },
   "outputs": [
    {
     "data": {
      "text/plain": [
       "DatetimeIndex(['2017-06-20', '2017-06-21', '2017-06-22', '2017-06-23',\n",
       "               '2017-06-24', '2017-06-25', '2017-06-26', '2017-06-27'],\n",
       "              dtype='datetime64[ns]', freq=None)"
      ]
     },
     "execution_count": 109,
     "metadata": {},
     "output_type": "execute_result"
    }
   ],
   "source": [
    "ts.index"
   ]
  },
  {
   "cell_type": "code",
   "execution_count": 110,
   "metadata": {
    "collapsed": false
   },
   "outputs": [
    {
     "data": {
      "text/plain": [
       "2017-06-20    0.436801\n",
       "2017-06-22   -0.479386\n",
       "2017-06-24    0.921192\n",
       "2017-06-26    0.262841\n",
       "dtype: float64"
      ]
     },
     "execution_count": 110,
     "metadata": {},
     "output_type": "execute_result"
    }
   ],
   "source": [
    "#pandas不同索引的时间序列之间的算术运算会自动按日期对齐\n",
    "\n",
    "ts[::2]#从前往后每隔两个取数据"
   ]
  },
  {
   "cell_type": "code",
   "execution_count": 111,
   "metadata": {
    "collapsed": false
   },
   "outputs": [
    {
     "data": {
      "text/plain": [
       "2017-06-27    0.549272\n",
       "2017-06-25   -0.228229\n",
       "2017-06-23    0.797774\n",
       "2017-06-21   -0.020528\n",
       "dtype: float64"
      ]
     },
     "execution_count": 111,
     "metadata": {},
     "output_type": "execute_result"
    }
   ],
   "source": [
    "ts[::-2]#从后往前逆序每隔两个取数据"
   ]
  },
  {
   "cell_type": "code",
   "execution_count": 112,
   "metadata": {
    "collapsed": false
   },
   "outputs": [
    {
     "data": {
      "text/plain": [
       "2017-06-20    0.873603\n",
       "2017-06-21         NaN\n",
       "2017-06-22   -0.958772\n",
       "2017-06-23         NaN\n",
       "2017-06-24    1.842383\n",
       "2017-06-25         NaN\n",
       "2017-06-26    0.525683\n",
       "2017-06-27         NaN\n",
       "dtype: float64"
      ]
     },
     "execution_count": 112,
     "metadata": {},
     "output_type": "execute_result"
    }
   ],
   "source": [
    "\n",
    "ts + ts[::2]#自动数据对齐"
   ]
  },
  {
   "cell_type": "code",
   "execution_count": 113,
   "metadata": {
    "collapsed": false
   },
   "outputs": [
    {
     "data": {
      "text/plain": [
       "2017-06-20    0.436801\n",
       "2017-06-21   -0.020528\n",
       "2017-06-22   -0.479386\n",
       "2017-06-23    0.797774\n",
       "2017-06-24    0.921192\n",
       "2017-06-25   -0.228229\n",
       "2017-06-26    0.262841\n",
       "2017-06-27    0.549272\n",
       "dtype: float64"
      ]
     },
     "execution_count": 113,
     "metadata": {},
     "output_type": "execute_result"
    }
   ],
   "source": [
    "\n",
    "#索引为日期的Series和DataFrame数据的索引、选取以及子集构造\n",
    "\n",
    "#方法： \n",
    "#1）.index[number_int]\n",
    "\n",
    "#2)[一个可以被解析为日期的字符串]\n",
    "\n",
    "#3）对于，较长的时间序列，只需传入‘年’或‘年月’可返回对应的数据切片\n",
    "\n",
    "#4）通过时间范围进行切片索引\n",
    "ts\n"
   ]
  },
  {
   "cell_type": "code",
   "execution_count": 114,
   "metadata": {
    "collapsed": false
   },
   "outputs": [
    {
     "data": {
      "text/plain": [
       "-0.4793859397211484"
      ]
     },
     "execution_count": 114,
     "metadata": {},
     "output_type": "execute_result"
    }
   ],
   "source": [
    "ts[ts.index[2]]"
   ]
  },
  {
   "cell_type": "code",
   "execution_count": 115,
   "metadata": {
    "collapsed": false
   },
   "outputs": [
    {
     "data": {
      "text/plain": [
       "-0.020528129970193768"
      ]
     },
     "execution_count": 115,
     "metadata": {},
     "output_type": "execute_result"
    }
   ],
   "source": [
    "ts['2017-06-21']#传入可以被解析成日期的字符串"
   ]
  },
  {
   "cell_type": "code",
   "execution_count": 116,
   "metadata": {
    "collapsed": false
   },
   "outputs": [
    {
     "data": {
      "text/plain": [
       "-0.020528129970193768"
      ]
     },
     "execution_count": 116,
     "metadata": {},
     "output_type": "execute_result"
    }
   ],
   "source": [
    "ts['21/06/2017']\n"
   ]
  },
  {
   "cell_type": "code",
   "execution_count": 117,
   "metadata": {
    "collapsed": false
   },
   "outputs": [
    {
     "data": {
      "text/plain": [
       "-0.020528129970193768"
      ]
     },
     "execution_count": 117,
     "metadata": {},
     "output_type": "execute_result"
    }
   ],
   "source": [
    "ts['20170621']"
   ]
  },
  {
   "cell_type": "code",
   "execution_count": 118,
   "metadata": {
    "collapsed": false
   },
   "outputs": [
    {
     "data": {
      "text/plain": [
       "2017-06-20    0.436801\n",
       "2017-06-21   -0.020528\n",
       "2017-06-22   -0.479386\n",
       "2017-06-23    0.797774\n",
       "2017-06-24    0.921192\n",
       "2017-06-25   -0.228229\n",
       "2017-06-26    0.262841\n",
       "2017-06-27    0.549272\n",
       "dtype: float64"
      ]
     },
     "execution_count": 118,
     "metadata": {},
     "output_type": "execute_result"
    }
   ],
   "source": [
    "ts['2017-06']#传入年或年月"
   ]
  },
  {
   "cell_type": "code",
   "execution_count": 119,
   "metadata": {
    "collapsed": false
   },
   "outputs": [
    {
     "data": {
      "text/plain": [
       "2017-06-20    0.436801\n",
       "2017-06-21   -0.020528\n",
       "2017-06-22   -0.479386\n",
       "2017-06-23    0.797774\n",
       "dtype: float64"
      ]
     },
     "execution_count": 119,
     "metadata": {},
     "output_type": "execute_result"
    }
   ],
   "source": [
    "\n",
    "ts['2017-06-20':'2017-06-23']#时间范围进行切片"
   ]
  },
  {
   "cell_type": "code",
   "execution_count": 120,
   "metadata": {
    "collapsed": false
   },
   "outputs": [
    {
     "data": {
      "text/plain": [
       "DatetimeIndex(['2017-06-01', '2017-06-02', '2017-06-02', '2017-06-02',\n",
       "               '2017-06-03'],\n",
       "              dtype='datetime64[ns]', freq=None)"
      ]
     },
     "execution_count": 120,
     "metadata": {},
     "output_type": "execute_result"
    }
   ],
   "source": [
    "#带有重复索引的时间序列\n",
    "#1）.index.is_unique检查索引日期是否是唯一的\n",
    "\n",
    "#2）对非唯一时间戳的数据进行聚合，通过groupby，并传入level = 0（索引的唯一一层）\n",
    "\n",
    "dates = pd.DatetimeIndex(['2017/06/01','2017/06/02','2017/06/02','2017/06/02','2017/06/03'])\n",
    "dates"
   ]
  },
  {
   "cell_type": "code",
   "execution_count": 121,
   "metadata": {
    "collapsed": false
   },
   "outputs": [
    {
     "data": {
      "text/plain": [
       "2017-06-01    0\n",
       "2017-06-02    1\n",
       "2017-06-02    2\n",
       "2017-06-02    3\n",
       "2017-06-03    4\n",
       "dtype: int32"
      ]
     },
     "execution_count": 121,
     "metadata": {},
     "output_type": "execute_result"
    }
   ],
   "source": [
    "dup_ts = pd.Series(np.arange(5),index = dates)\n",
    "dup_ts"
   ]
  },
  {
   "cell_type": "code",
   "execution_count": 122,
   "metadata": {
    "collapsed": false
   },
   "outputs": [
    {
     "data": {
      "text/plain": [
       "False"
      ]
     },
     "execution_count": 122,
     "metadata": {},
     "output_type": "execute_result"
    }
   ],
   "source": [
    "dup_ts.index.is_unique"
   ]
  },
  {
   "cell_type": "code",
   "execution_count": 123,
   "metadata": {
    "collapsed": false
   },
   "outputs": [
    {
     "data": {
      "text/plain": [
       "2017-06-02    1\n",
       "2017-06-02    2\n",
       "2017-06-02    3\n",
       "dtype: int32"
      ]
     },
     "execution_count": 123,
     "metadata": {},
     "output_type": "execute_result"
    }
   ],
   "source": [
    "dup_ts['2017-06-02']"
   ]
  },
  {
   "cell_type": "code",
   "execution_count": 124,
   "metadata": {
    "collapsed": false
   },
   "outputs": [
    {
     "data": {
      "text/plain": [
       "2017-06-01    0\n",
       "2017-06-02    2\n",
       "2017-06-03    4\n",
       "dtype: int32"
      ]
     },
     "execution_count": 124,
     "metadata": {},
     "output_type": "execute_result"
    }
   ],
   "source": [
    "grouped = dup_ts.groupby(level=0).mean()\n",
    "grouped"
   ]
  },
  {
   "cell_type": "code",
   "execution_count": 125,
   "metadata": {
    "collapsed": false
   },
   "outputs": [
    {
     "data": {
      "text/html": [
       "<div>\n",
       "<table border=\"1\" class=\"dataframe\">\n",
       "  <thead>\n",
       "    <tr style=\"text-align: right;\">\n",
       "      <th></th>\n",
       "      <th>0</th>\n",
       "      <th>1</th>\n",
       "    </tr>\n",
       "  </thead>\n",
       "  <tbody>\n",
       "    <tr>\n",
       "      <th>2017-06-01</th>\n",
       "      <td>0</td>\n",
       "      <td>1</td>\n",
       "    </tr>\n",
       "    <tr>\n",
       "      <th>2017-06-02</th>\n",
       "      <td>2</td>\n",
       "      <td>3</td>\n",
       "    </tr>\n",
       "    <tr>\n",
       "      <th>2017-06-02</th>\n",
       "      <td>4</td>\n",
       "      <td>5</td>\n",
       "    </tr>\n",
       "    <tr>\n",
       "      <th>2017-06-02</th>\n",
       "      <td>6</td>\n",
       "      <td>7</td>\n",
       "    </tr>\n",
       "    <tr>\n",
       "      <th>2017-06-03</th>\n",
       "      <td>8</td>\n",
       "      <td>9</td>\n",
       "    </tr>\n",
       "  </tbody>\n",
       "</table>\n",
       "</div>"
      ],
      "text/plain": [
       "            0  1\n",
       "2017-06-01  0  1\n",
       "2017-06-02  2  3\n",
       "2017-06-02  4  5\n",
       "2017-06-02  6  7\n",
       "2017-06-03  8  9"
      ]
     },
     "execution_count": 125,
     "metadata": {},
     "output_type": "execute_result"
    }
   ],
   "source": [
    "dup_df = pd.DataFrame(np.arange(10).reshape((5,2)),index = dates )\n",
    "dup_df"
   ]
  },
  {
   "cell_type": "code",
   "execution_count": 126,
   "metadata": {
    "collapsed": false
   },
   "outputs": [
    {
     "data": {
      "text/html": [
       "<div>\n",
       "<table border=\"1\" class=\"dataframe\">\n",
       "  <thead>\n",
       "    <tr style=\"text-align: right;\">\n",
       "      <th></th>\n",
       "      <th>0</th>\n",
       "      <th>1</th>\n",
       "    </tr>\n",
       "  </thead>\n",
       "  <tbody>\n",
       "    <tr>\n",
       "      <th>2017-06-01</th>\n",
       "      <td>0</td>\n",
       "      <td>1</td>\n",
       "    </tr>\n",
       "    <tr>\n",
       "      <th>2017-06-02</th>\n",
       "      <td>4</td>\n",
       "      <td>5</td>\n",
       "    </tr>\n",
       "    <tr>\n",
       "      <th>2017-06-03</th>\n",
       "      <td>8</td>\n",
       "      <td>9</td>\n",
       "    </tr>\n",
       "  </tbody>\n",
       "</table>\n",
       "</div>"
      ],
      "text/plain": [
       "            0  1\n",
       "2017-06-01  0  1\n",
       "2017-06-02  4  5\n",
       "2017-06-03  8  9"
      ]
     },
     "execution_count": 126,
     "metadata": {},
     "output_type": "execute_result"
    }
   ],
   "source": [
    "grouped_df = dup_df.groupby(level=0).mean()##针对DataFrame\n",
    "grouped_df"
   ]
  },
  {
   "cell_type": "code",
   "execution_count": 127,
   "metadata": {
    "collapsed": true
   },
   "outputs": [],
   "source": [
    "#OKOKOK"
   ]
  },
  {
   "cell_type": "code",
   "execution_count": 128,
   "metadata": {
    "collapsed": false
   },
   "outputs": [
    {
     "data": {
      "text/plain": [
       "DatetimeIndex(['2011-01-01 00:00:00', '2011-01-01 01:00:00',\n",
       "               '2011-01-01 02:00:00', '2011-01-01 03:00:00',\n",
       "               '2011-01-01 04:00:00', '2011-01-01 05:00:00',\n",
       "               '2011-01-01 06:00:00', '2011-01-01 07:00:00',\n",
       "               '2011-01-01 08:00:00', '2011-01-01 09:00:00',\n",
       "               '2011-01-01 10:00:00', '2011-01-01 11:00:00',\n",
       "               '2011-01-01 12:00:00', '2011-01-01 13:00:00',\n",
       "               '2011-01-01 14:00:00', '2011-01-01 15:00:00',\n",
       "               '2011-01-01 16:00:00', '2011-01-01 17:00:00',\n",
       "               '2011-01-01 18:00:00', '2011-01-01 19:00:00',\n",
       "               '2011-01-01 20:00:00', '2011-01-01 21:00:00',\n",
       "               '2011-01-01 22:00:00', '2011-01-01 23:00:00',\n",
       "               '2011-01-02 00:00:00', '2011-01-02 01:00:00',\n",
       "               '2011-01-02 02:00:00', '2011-01-02 03:00:00',\n",
       "               '2011-01-02 04:00:00', '2011-01-02 05:00:00',\n",
       "               '2011-01-02 06:00:00', '2011-01-02 07:00:00',\n",
       "               '2011-01-02 08:00:00', '2011-01-02 09:00:00',\n",
       "               '2011-01-02 10:00:00', '2011-01-02 11:00:00',\n",
       "               '2011-01-02 12:00:00', '2011-01-02 13:00:00',\n",
       "               '2011-01-02 14:00:00', '2011-01-02 15:00:00',\n",
       "               '2011-01-02 16:00:00', '2011-01-02 17:00:00',\n",
       "               '2011-01-02 18:00:00', '2011-01-02 19:00:00',\n",
       "               '2011-01-02 20:00:00', '2011-01-02 21:00:00',\n",
       "               '2011-01-02 22:00:00', '2011-01-02 23:00:00',\n",
       "               '2011-01-03 00:00:00', '2011-01-03 01:00:00',\n",
       "               '2011-01-03 02:00:00', '2011-01-03 03:00:00',\n",
       "               '2011-01-03 04:00:00', '2011-01-03 05:00:00',\n",
       "               '2011-01-03 06:00:00', '2011-01-03 07:00:00',\n",
       "               '2011-01-03 08:00:00', '2011-01-03 09:00:00',\n",
       "               '2011-01-03 10:00:00', '2011-01-03 11:00:00',\n",
       "               '2011-01-03 12:00:00', '2011-01-03 13:00:00',\n",
       "               '2011-01-03 14:00:00', '2011-01-03 15:00:00',\n",
       "               '2011-01-03 16:00:00', '2011-01-03 17:00:00',\n",
       "               '2011-01-03 18:00:00', '2011-01-03 19:00:00',\n",
       "               '2011-01-03 20:00:00', '2011-01-03 21:00:00',\n",
       "               '2011-01-03 22:00:00', '2011-01-03 23:00:00'],\n",
       "              dtype='datetime64[ns]', freq='H')"
      ]
     },
     "execution_count": 128,
     "metadata": {},
     "output_type": "execute_result"
    }
   ],
   "source": [
    "#Pandas中时间和日期处理\n",
    "\n",
    "#1、生成一个时间段\n",
    "\n",
    "import pandas as pd\n",
    "\n",
    "import numpy as np\n",
    "#1)生成一个时间区间段，间隔为小时\n",
    "\n",
    "rng = pd.date_range('1/1/2011', periods=72, freq='H')\n",
    "rng"
   ]
  },
  {
   "cell_type": "code",
   "execution_count": 129,
   "metadata": {
    "collapsed": false
   },
   "outputs": [
    {
     "data": {
      "text/plain": [
       "2011-01-01 00:00:00    1.683006\n",
       "2011-01-01 01:00:00   -2.350866\n",
       "2011-01-01 02:00:00   -1.206166\n",
       "2011-01-01 03:00:00    0.023905\n",
       "2011-01-01 04:00:00    1.131553\n",
       "2011-01-01 05:00:00    0.191603\n",
       "2011-01-01 06:00:00   -0.856856\n",
       "2011-01-01 07:00:00    0.420575\n",
       "2011-01-01 08:00:00   -0.403894\n",
       "2011-01-01 09:00:00   -1.201315\n",
       "2011-01-01 10:00:00    0.471506\n",
       "2011-01-01 11:00:00   -0.547937\n",
       "2011-01-01 12:00:00    0.238918\n",
       "2011-01-01 13:00:00   -1.382105\n",
       "2011-01-01 14:00:00    0.479111\n",
       "2011-01-01 15:00:00   -1.096255\n",
       "2011-01-01 16:00:00    0.134788\n",
       "2011-01-01 17:00:00   -0.155106\n",
       "2011-01-01 18:00:00    0.561231\n",
       "2011-01-01 19:00:00   -1.165022\n",
       "2011-01-01 20:00:00    0.250452\n",
       "2011-01-01 21:00:00   -0.087279\n",
       "2011-01-01 22:00:00    0.969783\n",
       "2011-01-01 23:00:00    0.363295\n",
       "2011-01-02 00:00:00    1.115196\n",
       "2011-01-02 01:00:00    1.313867\n",
       "2011-01-02 02:00:00   -1.391342\n",
       "2011-01-02 03:00:00   -0.128699\n",
       "2011-01-02 04:00:00   -2.398593\n",
       "2011-01-02 05:00:00   -0.925118\n",
       "                         ...   \n",
       "2011-01-02 18:00:00   -0.537025\n",
       "2011-01-02 19:00:00   -0.379195\n",
       "2011-01-02 20:00:00   -0.164559\n",
       "2011-01-02 21:00:00    0.255290\n",
       "2011-01-02 22:00:00   -0.645003\n",
       "2011-01-02 23:00:00   -0.973539\n",
       "2011-01-03 00:00:00   -0.099102\n",
       "2011-01-03 01:00:00   -1.383898\n",
       "2011-01-03 02:00:00   -1.023164\n",
       "2011-01-03 03:00:00   -0.562486\n",
       "2011-01-03 04:00:00    0.183692\n",
       "2011-01-03 05:00:00    0.353128\n",
       "2011-01-03 06:00:00    0.119160\n",
       "2011-01-03 07:00:00    0.216424\n",
       "2011-01-03 08:00:00   -1.878820\n",
       "2011-01-03 09:00:00    0.664990\n",
       "2011-01-03 10:00:00    1.576736\n",
       "2011-01-03 11:00:00   -1.576846\n",
       "2011-01-03 12:00:00   -1.577185\n",
       "2011-01-03 13:00:00   -0.887737\n",
       "2011-01-03 14:00:00    1.897059\n",
       "2011-01-03 15:00:00   -0.973781\n",
       "2011-01-03 16:00:00   -1.355980\n",
       "2011-01-03 17:00:00    1.055723\n",
       "2011-01-03 18:00:00    0.468825\n",
       "2011-01-03 19:00:00    0.871000\n",
       "2011-01-03 20:00:00   -0.525306\n",
       "2011-01-03 21:00:00   -1.153593\n",
       "2011-01-03 22:00:00    1.895940\n",
       "2011-01-03 23:00:00   -0.146329\n",
       "Freq: H, dtype: float64"
      ]
     },
     "execution_count": 129,
     "metadata": {},
     "output_type": "execute_result"
    }
   ],
   "source": [
    "#2)生成一个Series，并制定索引为时间段\n",
    "ts = pd.Series(np.random.randn(len(rng)), index=rng)\n",
    "\n",
    "ts"
   ]
  },
  {
   "cell_type": "code",
   "execution_count": 130,
   "metadata": {
    "collapsed": false
   },
   "outputs": [
    {
     "data": {
      "text/plain": [
       "2011-01-01 00:00:00    1.683006\n",
       "2011-01-01 00:45:00    1.683006\n",
       "2011-01-01 01:30:00   -2.350866\n",
       "2011-01-01 02:15:00   -1.206166\n",
       "2011-01-01 03:00:00    0.023905\n",
       "2011-01-01 03:45:00    0.023905\n",
       "2011-01-01 04:30:00    1.131553\n",
       "2011-01-01 05:15:00    0.191603\n",
       "2011-01-01 06:00:00   -0.856856\n",
       "2011-01-01 06:45:00   -0.856856\n",
       "2011-01-01 07:30:00    0.420575\n",
       "2011-01-01 08:15:00   -0.403894\n",
       "2011-01-01 09:00:00   -1.201315\n",
       "2011-01-01 09:45:00   -1.201315\n",
       "2011-01-01 10:30:00    0.471506\n",
       "2011-01-01 11:15:00   -0.547937\n",
       "2011-01-01 12:00:00    0.238918\n",
       "2011-01-01 12:45:00    0.238918\n",
       "2011-01-01 13:30:00   -1.382105\n",
       "2011-01-01 14:15:00    0.479111\n",
       "2011-01-01 15:00:00   -1.096255\n",
       "2011-01-01 15:45:00   -1.096255\n",
       "2011-01-01 16:30:00    0.134788\n",
       "2011-01-01 17:15:00   -0.155106\n",
       "2011-01-01 18:00:00    0.561231\n",
       "2011-01-01 18:45:00    0.561231\n",
       "2011-01-01 19:30:00   -1.165022\n",
       "2011-01-01 20:15:00    0.250452\n",
       "2011-01-01 21:00:00   -0.087279\n",
       "2011-01-01 21:45:00   -0.087279\n",
       "                         ...   \n",
       "2011-01-03 00:45:00   -0.099102\n",
       "2011-01-03 01:30:00   -1.383898\n",
       "2011-01-03 02:15:00   -1.023164\n",
       "2011-01-03 03:00:00   -0.562486\n",
       "2011-01-03 03:45:00   -0.562486\n",
       "2011-01-03 04:30:00    0.183692\n",
       "2011-01-03 05:15:00    0.353128\n",
       "2011-01-03 06:00:00    0.119160\n",
       "2011-01-03 06:45:00    0.119160\n",
       "2011-01-03 07:30:00    0.216424\n",
       "2011-01-03 08:15:00   -1.878820\n",
       "2011-01-03 09:00:00    0.664990\n",
       "2011-01-03 09:45:00    0.664990\n",
       "2011-01-03 10:30:00    1.576736\n",
       "2011-01-03 11:15:00   -1.576846\n",
       "2011-01-03 12:00:00   -1.577185\n",
       "2011-01-03 12:45:00   -1.577185\n",
       "2011-01-03 13:30:00   -0.887737\n",
       "2011-01-03 14:15:00    1.897059\n",
       "2011-01-03 15:00:00   -0.973781\n",
       "2011-01-03 15:45:00   -0.973781\n",
       "2011-01-03 16:30:00   -1.355980\n",
       "2011-01-03 17:15:00    1.055723\n",
       "2011-01-03 18:00:00    0.468825\n",
       "2011-01-03 18:45:00    0.468825\n",
       "2011-01-03 19:30:00    0.871000\n",
       "2011-01-03 20:15:00   -0.525306\n",
       "2011-01-03 21:00:00   -1.153593\n",
       "2011-01-03 21:45:00   -1.153593\n",
       "2011-01-03 22:30:00    1.895940\n",
       "Freq: 45T, dtype: float64"
      ]
     },
     "execution_count": 130,
     "metadata": {},
     "output_type": "execute_result"
    }
   ],
   "source": [
    "#3)改变时间间隔\n",
    "\n",
    "converted = ts.asfreq('45Min', method='pad')\n",
    "\n",
    "converted\n"
   ]
  },
  {
   "cell_type": "code",
   "execution_count": 131,
   "metadata": {
    "collapsed": false
   },
   "outputs": [
    {
     "data": {
      "text/plain": [
       "Timestamp('2017-06-19 09:13:45')"
      ]
     },
     "execution_count": 131,
     "metadata": {},
     "output_type": "execute_result"
    }
   ],
   "source": [
    "#2、转换为日期格式\n",
    "#2.1 数字生成日期格式\n",
    "pd.Timestamp(\"2017-6-19 9:13:45\")"
   ]
  },
  {
   "cell_type": "code",
   "execution_count": 132,
   "metadata": {
    "collapsed": false
   },
   "outputs": [
    {
     "data": {
      "text/plain": [
       "Timestamp('2012-05-01 00:00:00')"
      ]
     },
     "execution_count": 132,
     "metadata": {},
     "output_type": "execute_result"
    }
   ],
   "source": [
    "#2.2 字符生成日期格式\n",
    "pd.Timestamp('2012-05-01')"
   ]
  },
  {
   "cell_type": "code",
   "execution_count": 133,
   "metadata": {
    "collapsed": false
   },
   "outputs": [
    {
     "data": {
      "text/plain": [
       "Period('2011-01', 'M')"
      ]
     },
     "execution_count": 133,
     "metadata": {},
     "output_type": "execute_result"
    }
   ],
   "source": [
    "#2.3 只有年月\n",
    "pd.Period('2011-01')\n"
   ]
  },
  {
   "cell_type": "code",
   "execution_count": 134,
   "metadata": {
    "collapsed": false
   },
   "outputs": [
    {
     "data": {
      "text/plain": [
       "Period('2012-05-01', 'D')"
      ]
     },
     "execution_count": 134,
     "metadata": {},
     "output_type": "execute_result"
    }
   ],
   "source": [
    "pd.Period('2012-05', freq='D')"
   ]
  },
  {
   "cell_type": "code",
   "execution_count": 135,
   "metadata": {
    "collapsed": false
   },
   "outputs": [
    {
     "data": {
      "text/plain": [
       "0   2009-07-31\n",
       "1   2010-01-10\n",
       "2          NaT\n",
       "dtype: datetime64[ns]"
      ]
     },
     "execution_count": 135,
     "metadata": {},
     "output_type": "execute_result"
    }
   ],
   "source": [
    "#2.4 转化为日期格式\n",
    "pd.to_datetime(pd.Series(['Jul 31, 2009', '2010-01-10', None]))\n"
   ]
  },
  {
   "cell_type": "code",
   "execution_count": 136,
   "metadata": {
    "collapsed": false
   },
   "outputs": [
    {
     "data": {
      "text/plain": [
       "DatetimeIndex(['2005-11-23', '2010-12-31'], dtype='datetime64[ns]', freq=None)"
      ]
     },
     "execution_count": 136,
     "metadata": {},
     "output_type": "execute_result"
    }
   ],
   "source": [
    "pd.to_datetime(['2005/11/23', '2010.12.31'])"
   ]
  },
  {
   "cell_type": "code",
   "execution_count": 137,
   "metadata": {
    "collapsed": false
   },
   "outputs": [
    {
     "data": {
      "text/plain": [
       "['2005-11-23', '2005-11-24', '2005-11-25']"
      ]
     },
     "execution_count": 137,
     "metadata": {},
     "output_type": "execute_result"
    }
   ],
   "source": [
    "#3、生成一个时间段\n",
    "#3.1 生成索引的方法\n",
    "\n",
    "dates = ['2005-11-23','2005-11-24', '2005-11-25']\n",
    "dates"
   ]
  },
  {
   "cell_type": "code",
   "execution_count": 138,
   "metadata": {
    "collapsed": false
   },
   "outputs": [
    {
     "data": {
      "text/plain": [
       "DatetimeIndex(['2005-11-23', '2005-11-24', '2005-11-25'], dtype='datetime64[ns]', freq=None)"
      ]
     },
     "execution_count": 138,
     "metadata": {},
     "output_type": "execute_result"
    }
   ],
   "source": [
    "#Note the frequency information\n",
    "index = pd.DatetimeIndex(dates)\n",
    "index"
   ]
  },
  {
   "cell_type": "code",
   "execution_count": 139,
   "metadata": {
    "collapsed": false
   },
   "outputs": [
    {
     "data": {
      "text/plain": [
       "Index([u'2005-11-23', u'2005-11-24', u'2005-11-25'], dtype='object')"
      ]
     },
     "execution_count": 139,
     "metadata": {},
     "output_type": "execute_result"
    }
   ],
   "source": [
    "#Automatically converted to DatetimeIndex\n",
    "index = pd.Index(dates)\n",
    "index"
   ]
  },
  {
   "cell_type": "code",
   "execution_count": 140,
   "metadata": {
    "collapsed": false
   },
   "outputs": [
    {
     "data": {
      "text/plain": [
       "DatetimeIndex(['2000-01-31', '2000-02-29', '2000-03-31', '2000-04-30',\n",
       "               '2000-05-31', '2000-06-30', '2000-07-31', '2000-08-31',\n",
       "               '2000-09-30', '2000-10-31',\n",
       "               ...\n",
       "               '2082-07-31', '2082-08-31', '2082-09-30', '2082-10-31',\n",
       "               '2082-11-30', '2082-12-31', '2083-01-31', '2083-02-28',\n",
       "               '2083-03-31', '2083-04-30'],\n",
       "              dtype='datetime64[ns]', length=1000, freq='M')"
      ]
     },
     "execution_count": 140,
     "metadata": {},
     "output_type": "execute_result"
    }
   ],
   "source": [
    "#date_range日历，bdate_range工作日\n",
    "index = pd.date_range('2000-1-1', periods=1000, freq='M')\n",
    "index"
   ]
  },
  {
   "cell_type": "code",
   "execution_count": 141,
   "metadata": {
    "collapsed": false
   },
   "outputs": [
    {
     "data": {
      "text/plain": [
       "DatetimeIndex(['2012-01-02', '2012-01-03', '2012-01-04', '2012-01-05',\n",
       "               '2012-01-06', '2012-01-09', '2012-01-10', '2012-01-11',\n",
       "               '2012-01-12', '2012-01-13',\n",
       "               ...\n",
       "               '2012-12-03', '2012-12-04', '2012-12-05', '2012-12-06',\n",
       "               '2012-12-07', '2012-12-10', '2012-12-11', '2012-12-12',\n",
       "               '2012-12-13', '2012-12-14'],\n",
       "              dtype='datetime64[ns]', length=250, freq='B')"
      ]
     },
     "execution_count": 141,
     "metadata": {},
     "output_type": "execute_result"
    }
   ],
   "source": [
    "index = pd.bdate_range('2012-1-1', periods=250)\n",
    "index"
   ]
  },
  {
   "cell_type": "code",
   "execution_count": 142,
   "metadata": {
    "collapsed": false
   },
   "outputs": [
    {
     "data": {
      "text/plain": [
       "DatetimeIndex(['2011-01-01', '2011-01-02', '2011-01-03', '2011-01-04',\n",
       "               '2011-01-05', '2011-01-06', '2011-01-07', '2011-01-08',\n",
       "               '2011-01-09', '2011-01-10',\n",
       "               ...\n",
       "               '2011-12-23', '2011-12-24', '2011-12-25', '2011-12-26',\n",
       "               '2011-12-27', '2011-12-28', '2011-12-29', '2011-12-30',\n",
       "               '2011-12-31', '2012-01-01'],\n",
       "              dtype='datetime64[ns]', length=366, freq='D')"
      ]
     },
     "execution_count": 142,
     "metadata": {},
     "output_type": "execute_result"
    }
   ],
   "source": [
    "start ='2011-01-01'\n",
    "end = '2012-01-01'\n",
    "rng = pd.date_range(start, end)\n",
    "rng"
   ]
  },
  {
   "cell_type": "code",
   "execution_count": 143,
   "metadata": {
    "collapsed": false
   },
   "outputs": [
    {
     "data": {
      "text/plain": [
       "DatetimeIndex(['2011-01-03', '2011-01-04', '2011-01-05', '2011-01-06',\n",
       "               '2011-01-07', '2011-01-10', '2011-01-11', '2011-01-12',\n",
       "               '2011-01-13', '2011-01-14',\n",
       "               ...\n",
       "               '2011-12-19', '2011-12-20', '2011-12-21', '2011-12-22',\n",
       "               '2011-12-23', '2011-12-26', '2011-12-27', '2011-12-28',\n",
       "               '2011-12-29', '2011-12-30'],\n",
       "              dtype='datetime64[ns]', length=260, freq='B')"
      ]
     },
     "execution_count": 143,
     "metadata": {},
     "output_type": "execute_result"
    }
   ],
   "source": [
    "rng = pd.bdate_range(start, end)\n",
    "rng"
   ]
  },
  {
   "cell_type": "code",
   "execution_count": 144,
   "metadata": {
    "collapsed": false
   },
   "outputs": [
    {
     "data": {
      "text/plain": [
       "DatetimeIndex(['2011-01-31', '2011-02-28', '2011-03-31', '2011-04-29',\n",
       "               '2011-05-31', '2011-06-30', '2011-07-29', '2011-08-31',\n",
       "               '2011-09-30', '2011-10-31', '2011-11-30', '2011-12-30'],\n",
       "              dtype='datetime64[ns]', freq='BM')"
      ]
     },
     "execution_count": 144,
     "metadata": {},
     "output_type": "execute_result"
    }
   ],
   "source": [
    "#3.2 每个月末，每隔一周\n",
    "pd.date_range(start, end, freq='BM')\n"
   ]
  },
  {
   "cell_type": "code",
   "execution_count": 145,
   "metadata": {
    "collapsed": false
   },
   "outputs": [
    {
     "data": {
      "text/plain": [
       "DatetimeIndex(['2011-01-02', '2011-01-09', '2011-01-16', '2011-01-23',\n",
       "               '2011-01-30', '2011-02-06', '2011-02-13', '2011-02-20',\n",
       "               '2011-02-27', '2011-03-06', '2011-03-13', '2011-03-20',\n",
       "               '2011-03-27', '2011-04-03', '2011-04-10', '2011-04-17',\n",
       "               '2011-04-24', '2011-05-01', '2011-05-08', '2011-05-15',\n",
       "               '2011-05-22', '2011-05-29', '2011-06-05', '2011-06-12',\n",
       "               '2011-06-19', '2011-06-26', '2011-07-03', '2011-07-10',\n",
       "               '2011-07-17', '2011-07-24', '2011-07-31', '2011-08-07',\n",
       "               '2011-08-14', '2011-08-21', '2011-08-28', '2011-09-04',\n",
       "               '2011-09-11', '2011-09-18', '2011-09-25', '2011-10-02',\n",
       "               '2011-10-09', '2011-10-16', '2011-10-23', '2011-10-30',\n",
       "               '2011-11-06', '2011-11-13', '2011-11-20', '2011-11-27',\n",
       "               '2011-12-04', '2011-12-11', '2011-12-18', '2011-12-25',\n",
       "               '2012-01-01'],\n",
       "              dtype='datetime64[ns]', freq='W-SUN')"
      ]
     },
     "execution_count": 145,
     "metadata": {},
     "output_type": "execute_result"
    }
   ],
   "source": [
    "pd.date_range(start, end, freq='W')"
   ]
  },
  {
   "cell_type": "code",
   "execution_count": 146,
   "metadata": {
    "collapsed": false
   },
   "outputs": [
    {
     "data": {
      "text/plain": [
       "DatetimeIndex(['2011-12-05', '2011-12-06', '2011-12-07', '2011-12-08',\n",
       "               '2011-12-09', '2011-12-12', '2011-12-13', '2011-12-14',\n",
       "               '2011-12-15', '2011-12-16', '2011-12-19', '2011-12-20',\n",
       "               '2011-12-21', '2011-12-22', '2011-12-23', '2011-12-26',\n",
       "               '2011-12-27', '2011-12-28', '2011-12-29', '2011-12-30'],\n",
       "              dtype='datetime64[ns]', freq='B')"
      ]
     },
     "execution_count": 146,
     "metadata": {},
     "output_type": "execute_result"
    }
   ],
   "source": [
    "#3.3 从End往前数20个工作日，从start往后数20个工作日\n",
    "pd.bdate_range(end=end, periods=20)"
   ]
  },
  {
   "cell_type": "code",
   "execution_count": 147,
   "metadata": {
    "collapsed": false
   },
   "outputs": [
    {
     "data": {
      "text/plain": [
       "DatetimeIndex(['2011-01-03', '2011-01-04', '2011-01-05', '2011-01-06',\n",
       "               '2011-01-07', '2011-01-10', '2011-01-11', '2011-01-12',\n",
       "               '2011-01-13', '2011-01-14', '2011-01-17', '2011-01-18',\n",
       "               '2011-01-19', '2011-01-20', '2011-01-21', '2011-01-24',\n",
       "               '2011-01-25', '2011-01-26', '2011-01-27', '2011-01-28'],\n",
       "              dtype='datetime64[ns]', freq='B')"
      ]
     },
     "execution_count": 147,
     "metadata": {},
     "output_type": "execute_result"
    }
   ],
   "source": [
    "pd.bdate_range(start=start, periods=20)"
   ]
  },
  {
   "cell_type": "code",
   "execution_count": 148,
   "metadata": {
    "collapsed": false
   },
   "outputs": [
    {
     "data": {
      "text/plain": [
       "DatetimeIndex(['2011-01-31', '2011-02-28', '2011-03-31', '2011-04-29',\n",
       "               '2011-05-31', '2011-06-30', '2011-07-29', '2011-08-31',\n",
       "               '2011-09-30', '2011-10-31', '2011-11-30', '2011-12-30'],\n",
       "              dtype='datetime64[ns]', freq='BM')"
      ]
     },
     "execution_count": 148,
     "metadata": {},
     "output_type": "execute_result"
    }
   ],
   "source": [
    "#4、根据部分索引选择，切片\n",
    "rng = pd.date_range(start, end, freq='BM')\n",
    "rng"
   ]
  },
  {
   "cell_type": "code",
   "execution_count": 149,
   "metadata": {
    "collapsed": false
   },
   "outputs": [
    {
     "data": {
      "text/plain": [
       "2011-01-31   -1.270872\n",
       "2011-02-28    1.020153\n",
       "2011-03-31   -1.428006\n",
       "2011-04-29    0.757391\n",
       "2011-05-31   -1.016762\n",
       "2011-06-30    1.460621\n",
       "2011-07-29    1.765794\n",
       "2011-08-31    0.695912\n",
       "2011-09-30   -0.333553\n",
       "2011-10-31    0.561946\n",
       "2011-11-30    1.141824\n",
       "2011-12-30   -0.899257\n",
       "Freq: BM, dtype: float64"
      ]
     },
     "execution_count": 149,
     "metadata": {},
     "output_type": "execute_result"
    }
   ],
   "source": [
    "ts = pd.Series(np.random.randn(len(rng)), index=rng)\n",
    "ts"
   ]
  },
  {
   "cell_type": "code",
   "execution_count": 150,
   "metadata": {
    "collapsed": false
   },
   "outputs": [
    {
     "data": {
      "text/plain": [
       "DatetimeIndex(['2011-01-31', '2011-02-28', '2011-03-31', '2011-04-29',\n",
       "               '2011-05-31', '2011-06-30', '2011-07-29', '2011-08-31',\n",
       "               '2011-09-30', '2011-10-31', '2011-11-30', '2011-12-30'],\n",
       "              dtype='datetime64[ns]', freq='BM')"
      ]
     },
     "execution_count": 150,
     "metadata": {},
     "output_type": "execute_result"
    }
   ],
   "source": [
    "ts.index"
   ]
  },
  {
   "cell_type": "code",
   "execution_count": 151,
   "metadata": {
    "collapsed": false
   },
   "outputs": [
    {
     "data": {
      "text/plain": [
       "DatetimeIndex(['2011-01-31', '2011-02-28', '2011-03-31', '2011-04-29',\n",
       "               '2011-05-31'],\n",
       "              dtype='datetime64[ns]', freq='BM')"
      ]
     },
     "execution_count": 151,
     "metadata": {},
     "output_type": "execute_result"
    }
   ],
   "source": [
    "ts[:5].index"
   ]
  },
  {
   "cell_type": "code",
   "execution_count": 152,
   "metadata": {
    "collapsed": false
   },
   "outputs": [
    {
     "data": {
      "text/plain": [
       "DatetimeIndex(['2011-01-31', '2011-03-31', '2011-05-31', '2011-07-29',\n",
       "               '2011-09-30', '2011-11-30'],\n",
       "              dtype='datetime64[ns]', freq='2BM')"
      ]
     },
     "execution_count": 152,
     "metadata": {},
     "output_type": "execute_result"
    }
   ],
   "source": [
    "ts[::2].index"
   ]
  },
  {
   "cell_type": "code",
   "execution_count": 153,
   "metadata": {
    "collapsed": false
   },
   "outputs": [
    {
     "data": {
      "text/plain": [
       "-1.2708724191546077"
      ]
     },
     "execution_count": 153,
     "metadata": {},
     "output_type": "execute_result"
    }
   ],
   "source": [
    "ts['1/31/2011']"
   ]
  },
  {
   "cell_type": "code",
   "execution_count": 154,
   "metadata": {
    "collapsed": false
   },
   "outputs": [
    {
     "data": {
      "text/plain": [
       "2011-12-30   -0.899257\n",
       "Freq: BM, dtype: float64"
      ]
     },
     "execution_count": 154,
     "metadata": {},
     "output_type": "execute_result"
    }
   ],
   "source": [
    "ts[pd.datetime(2011, 12, 25):]"
   ]
  },
  {
   "cell_type": "code",
   "execution_count": 155,
   "metadata": {
    "collapsed": false
   },
   "outputs": [
    {
     "data": {
      "text/plain": [
       "2011-10-31    0.561946\n",
       "2011-11-30    1.141824\n",
       "2011-12-30   -0.899257\n",
       "Freq: BM, dtype: float64"
      ]
     },
     "execution_count": 155,
     "metadata": {},
     "output_type": "execute_result"
    }
   ],
   "source": [
    "ts['10/31/2011':'12/31/2011']"
   ]
  },
  {
   "cell_type": "code",
   "execution_count": 156,
   "metadata": {
    "collapsed": false
   },
   "outputs": [
    {
     "data": {
      "text/plain": [
       "2011-01-31   -1.270872\n",
       "2011-02-28    1.020153\n",
       "2011-03-31   -1.428006\n",
       "2011-04-29    0.757391\n",
       "2011-05-31   -1.016762\n",
       "2011-06-30    1.460621\n",
       "2011-07-29    1.765794\n",
       "2011-08-31    0.695912\n",
       "2011-09-30   -0.333553\n",
       "2011-10-31    0.561946\n",
       "2011-11-30    1.141824\n",
       "2011-12-30   -0.899257\n",
       "Freq: BM, dtype: float64"
      ]
     },
     "execution_count": 156,
     "metadata": {},
     "output_type": "execute_result"
    }
   ],
   "source": [
    "ts['2011']"
   ]
  },
  {
   "cell_type": "code",
   "execution_count": 157,
   "metadata": {
    "collapsed": false
   },
   "outputs": [
    {
     "data": {
      "text/plain": [
       "2011-06-30    1.460621\n",
       "Freq: BM, dtype: float64"
      ]
     },
     "execution_count": 157,
     "metadata": {},
     "output_type": "execute_result"
    }
   ],
   "source": [
    "ts['2011-6']"
   ]
  },
  {
   "cell_type": "code",
   "execution_count": 158,
   "metadata": {
    "collapsed": false
   },
   "outputs": [
    {
     "data": {
      "text/html": [
       "<div>\n",
       "<table border=\"1\" class=\"dataframe\">\n",
       "  <thead>\n",
       "    <tr style=\"text-align: right;\">\n",
       "      <th></th>\n",
       "      <th>A</th>\n",
       "    </tr>\n",
       "  </thead>\n",
       "  <tbody>\n",
       "    <tr>\n",
       "      <th>2013-01-01 00:00:00</th>\n",
       "      <td>0.079441</td>\n",
       "    </tr>\n",
       "    <tr>\n",
       "      <th>2013-01-01 00:01:00</th>\n",
       "      <td>0.721777</td>\n",
       "    </tr>\n",
       "    <tr>\n",
       "      <th>2013-01-01 00:02:00</th>\n",
       "      <td>-1.689105</td>\n",
       "    </tr>\n",
       "    <tr>\n",
       "      <th>2013-01-01 00:03:00</th>\n",
       "      <td>-0.654599</td>\n",
       "    </tr>\n",
       "    <tr>\n",
       "      <th>2013-01-01 00:04:00</th>\n",
       "      <td>1.565731</td>\n",
       "    </tr>\n",
       "    <tr>\n",
       "      <th>2013-01-01 00:05:00</th>\n",
       "      <td>0.057849</td>\n",
       "    </tr>\n",
       "    <tr>\n",
       "      <th>2013-01-01 00:06:00</th>\n",
       "      <td>-1.251077</td>\n",
       "    </tr>\n",
       "    <tr>\n",
       "      <th>2013-01-01 00:07:00</th>\n",
       "      <td>-1.847490</td>\n",
       "    </tr>\n",
       "    <tr>\n",
       "      <th>2013-01-01 00:08:00</th>\n",
       "      <td>-0.482529</td>\n",
       "    </tr>\n",
       "    <tr>\n",
       "      <th>2013-01-01 00:09:00</th>\n",
       "      <td>0.887641</td>\n",
       "    </tr>\n",
       "    <tr>\n",
       "      <th>2013-01-01 00:10:00</th>\n",
       "      <td>0.842893</td>\n",
       "    </tr>\n",
       "    <tr>\n",
       "      <th>2013-01-01 00:11:00</th>\n",
       "      <td>1.486522</td>\n",
       "    </tr>\n",
       "    <tr>\n",
       "      <th>2013-01-01 00:12:00</th>\n",
       "      <td>0.534232</td>\n",
       "    </tr>\n",
       "    <tr>\n",
       "      <th>2013-01-01 00:13:00</th>\n",
       "      <td>0.136311</td>\n",
       "    </tr>\n",
       "    <tr>\n",
       "      <th>2013-01-01 00:14:00</th>\n",
       "      <td>0.880986</td>\n",
       "    </tr>\n",
       "    <tr>\n",
       "      <th>2013-01-01 00:15:00</th>\n",
       "      <td>0.573338</td>\n",
       "    </tr>\n",
       "    <tr>\n",
       "      <th>2013-01-01 00:16:00</th>\n",
       "      <td>0.393284</td>\n",
       "    </tr>\n",
       "    <tr>\n",
       "      <th>2013-01-01 00:17:00</th>\n",
       "      <td>0.306055</td>\n",
       "    </tr>\n",
       "    <tr>\n",
       "      <th>2013-01-01 00:18:00</th>\n",
       "      <td>-1.418666</td>\n",
       "    </tr>\n",
       "    <tr>\n",
       "      <th>2013-01-01 00:19:00</th>\n",
       "      <td>-1.167417</td>\n",
       "    </tr>\n",
       "    <tr>\n",
       "      <th>2013-01-01 00:20:00</th>\n",
       "      <td>1.512655</td>\n",
       "    </tr>\n",
       "    <tr>\n",
       "      <th>2013-01-01 00:21:00</th>\n",
       "      <td>-0.276900</td>\n",
       "    </tr>\n",
       "    <tr>\n",
       "      <th>2013-01-01 00:22:00</th>\n",
       "      <td>0.435589</td>\n",
       "    </tr>\n",
       "    <tr>\n",
       "      <th>2013-01-01 00:23:00</th>\n",
       "      <td>-1.116349</td>\n",
       "    </tr>\n",
       "    <tr>\n",
       "      <th>2013-01-01 00:24:00</th>\n",
       "      <td>1.318419</td>\n",
       "    </tr>\n",
       "    <tr>\n",
       "      <th>2013-01-01 00:25:00</th>\n",
       "      <td>-0.050920</td>\n",
       "    </tr>\n",
       "    <tr>\n",
       "      <th>2013-01-01 00:26:00</th>\n",
       "      <td>0.139904</td>\n",
       "    </tr>\n",
       "    <tr>\n",
       "      <th>2013-01-01 00:27:00</th>\n",
       "      <td>-0.409798</td>\n",
       "    </tr>\n",
       "    <tr>\n",
       "      <th>2013-01-01 00:28:00</th>\n",
       "      <td>-0.810062</td>\n",
       "    </tr>\n",
       "    <tr>\n",
       "      <th>2013-01-01 00:29:00</th>\n",
       "      <td>-1.397648</td>\n",
       "    </tr>\n",
       "    <tr>\n",
       "      <th>...</th>\n",
       "      <td>...</td>\n",
       "    </tr>\n",
       "    <tr>\n",
       "      <th>2013-03-11 10:10:00</th>\n",
       "      <td>-1.383900</td>\n",
       "    </tr>\n",
       "    <tr>\n",
       "      <th>2013-03-11 10:11:00</th>\n",
       "      <td>-1.024184</td>\n",
       "    </tr>\n",
       "    <tr>\n",
       "      <th>2013-03-11 10:12:00</th>\n",
       "      <td>0.982055</td>\n",
       "    </tr>\n",
       "    <tr>\n",
       "      <th>2013-03-11 10:13:00</th>\n",
       "      <td>-0.279727</td>\n",
       "    </tr>\n",
       "    <tr>\n",
       "      <th>2013-03-11 10:14:00</th>\n",
       "      <td>-0.689735</td>\n",
       "    </tr>\n",
       "    <tr>\n",
       "      <th>2013-03-11 10:15:00</th>\n",
       "      <td>-0.112314</td>\n",
       "    </tr>\n",
       "    <tr>\n",
       "      <th>2013-03-11 10:16:00</th>\n",
       "      <td>-0.954163</td>\n",
       "    </tr>\n",
       "    <tr>\n",
       "      <th>2013-03-11 10:17:00</th>\n",
       "      <td>-1.710287</td>\n",
       "    </tr>\n",
       "    <tr>\n",
       "      <th>2013-03-11 10:18:00</th>\n",
       "      <td>0.410929</td>\n",
       "    </tr>\n",
       "    <tr>\n",
       "      <th>2013-03-11 10:19:00</th>\n",
       "      <td>-2.350308</td>\n",
       "    </tr>\n",
       "    <tr>\n",
       "      <th>2013-03-11 10:20:00</th>\n",
       "      <td>-0.201576</td>\n",
       "    </tr>\n",
       "    <tr>\n",
       "      <th>2013-03-11 10:21:00</th>\n",
       "      <td>0.723358</td>\n",
       "    </tr>\n",
       "    <tr>\n",
       "      <th>2013-03-11 10:22:00</th>\n",
       "      <td>-0.615182</td>\n",
       "    </tr>\n",
       "    <tr>\n",
       "      <th>2013-03-11 10:23:00</th>\n",
       "      <td>-1.965437</td>\n",
       "    </tr>\n",
       "    <tr>\n",
       "      <th>2013-03-11 10:24:00</th>\n",
       "      <td>-0.063219</td>\n",
       "    </tr>\n",
       "    <tr>\n",
       "      <th>2013-03-11 10:25:00</th>\n",
       "      <td>1.273639</td>\n",
       "    </tr>\n",
       "    <tr>\n",
       "      <th>2013-03-11 10:26:00</th>\n",
       "      <td>-0.244623</td>\n",
       "    </tr>\n",
       "    <tr>\n",
       "      <th>2013-03-11 10:27:00</th>\n",
       "      <td>-0.541226</td>\n",
       "    </tr>\n",
       "    <tr>\n",
       "      <th>2013-03-11 10:28:00</th>\n",
       "      <td>0.175972</td>\n",
       "    </tr>\n",
       "    <tr>\n",
       "      <th>2013-03-11 10:29:00</th>\n",
       "      <td>-0.441980</td>\n",
       "    </tr>\n",
       "    <tr>\n",
       "      <th>2013-03-11 10:30:00</th>\n",
       "      <td>-0.779306</td>\n",
       "    </tr>\n",
       "    <tr>\n",
       "      <th>2013-03-11 10:31:00</th>\n",
       "      <td>1.037795</td>\n",
       "    </tr>\n",
       "    <tr>\n",
       "      <th>2013-03-11 10:32:00</th>\n",
       "      <td>-1.070747</td>\n",
       "    </tr>\n",
       "    <tr>\n",
       "      <th>2013-03-11 10:33:00</th>\n",
       "      <td>-0.955436</td>\n",
       "    </tr>\n",
       "    <tr>\n",
       "      <th>2013-03-11 10:34:00</th>\n",
       "      <td>1.504113</td>\n",
       "    </tr>\n",
       "    <tr>\n",
       "      <th>2013-03-11 10:35:00</th>\n",
       "      <td>1.437831</td>\n",
       "    </tr>\n",
       "    <tr>\n",
       "      <th>2013-03-11 10:36:00</th>\n",
       "      <td>2.012241</td>\n",
       "    </tr>\n",
       "    <tr>\n",
       "      <th>2013-03-11 10:37:00</th>\n",
       "      <td>0.710248</td>\n",
       "    </tr>\n",
       "    <tr>\n",
       "      <th>2013-03-11 10:38:00</th>\n",
       "      <td>-1.752257</td>\n",
       "    </tr>\n",
       "    <tr>\n",
       "      <th>2013-03-11 10:39:00</th>\n",
       "      <td>-0.423995</td>\n",
       "    </tr>\n",
       "  </tbody>\n",
       "</table>\n",
       "<p>100000 rows × 1 columns</p>\n",
       "</div>"
      ],
      "text/plain": [
       "                            A\n",
       "2013-01-01 00:00:00  0.079441\n",
       "2013-01-01 00:01:00  0.721777\n",
       "2013-01-01 00:02:00 -1.689105\n",
       "2013-01-01 00:03:00 -0.654599\n",
       "2013-01-01 00:04:00  1.565731\n",
       "2013-01-01 00:05:00  0.057849\n",
       "2013-01-01 00:06:00 -1.251077\n",
       "2013-01-01 00:07:00 -1.847490\n",
       "2013-01-01 00:08:00 -0.482529\n",
       "2013-01-01 00:09:00  0.887641\n",
       "2013-01-01 00:10:00  0.842893\n",
       "2013-01-01 00:11:00  1.486522\n",
       "2013-01-01 00:12:00  0.534232\n",
       "2013-01-01 00:13:00  0.136311\n",
       "2013-01-01 00:14:00  0.880986\n",
       "2013-01-01 00:15:00  0.573338\n",
       "2013-01-01 00:16:00  0.393284\n",
       "2013-01-01 00:17:00  0.306055\n",
       "2013-01-01 00:18:00 -1.418666\n",
       "2013-01-01 00:19:00 -1.167417\n",
       "2013-01-01 00:20:00  1.512655\n",
       "2013-01-01 00:21:00 -0.276900\n",
       "2013-01-01 00:22:00  0.435589\n",
       "2013-01-01 00:23:00 -1.116349\n",
       "2013-01-01 00:24:00  1.318419\n",
       "2013-01-01 00:25:00 -0.050920\n",
       "2013-01-01 00:26:00  0.139904\n",
       "2013-01-01 00:27:00 -0.409798\n",
       "2013-01-01 00:28:00 -0.810062\n",
       "2013-01-01 00:29:00 -1.397648\n",
       "...                       ...\n",
       "2013-03-11 10:10:00 -1.383900\n",
       "2013-03-11 10:11:00 -1.024184\n",
       "2013-03-11 10:12:00  0.982055\n",
       "2013-03-11 10:13:00 -0.279727\n",
       "2013-03-11 10:14:00 -0.689735\n",
       "2013-03-11 10:15:00 -0.112314\n",
       "2013-03-11 10:16:00 -0.954163\n",
       "2013-03-11 10:17:00 -1.710287\n",
       "2013-03-11 10:18:00  0.410929\n",
       "2013-03-11 10:19:00 -2.350308\n",
       "2013-03-11 10:20:00 -0.201576\n",
       "2013-03-11 10:21:00  0.723358\n",
       "2013-03-11 10:22:00 -0.615182\n",
       "2013-03-11 10:23:00 -1.965437\n",
       "2013-03-11 10:24:00 -0.063219\n",
       "2013-03-11 10:25:00  1.273639\n",
       "2013-03-11 10:26:00 -0.244623\n",
       "2013-03-11 10:27:00 -0.541226\n",
       "2013-03-11 10:28:00  0.175972\n",
       "2013-03-11 10:29:00 -0.441980\n",
       "2013-03-11 10:30:00 -0.779306\n",
       "2013-03-11 10:31:00  1.037795\n",
       "2013-03-11 10:32:00 -1.070747\n",
       "2013-03-11 10:33:00 -0.955436\n",
       "2013-03-11 10:34:00  1.504113\n",
       "2013-03-11 10:35:00  1.437831\n",
       "2013-03-11 10:36:00  2.012241\n",
       "2013-03-11 10:37:00  0.710248\n",
       "2013-03-11 10:38:00 -1.752257\n",
       "2013-03-11 10:39:00 -0.423995\n",
       "\n",
       "[100000 rows x 1 columns]"
      ]
     },
     "execution_count": 158,
     "metadata": {},
     "output_type": "execute_result"
    }
   ],
   "source": [
    "#DataFrame中指定了时间索引，可以根据时间索引提取子集\n",
    "dft = pd.DataFrame(np.random.randn(100000,1),columns=['A'],index=pd.date_range('20130101',periods=100000,freq='T'))\n",
    "dft"
   ]
  },
  {
   "cell_type": "code",
   "execution_count": 159,
   "metadata": {
    "collapsed": false
   },
   "outputs": [
    {
     "data": {
      "text/html": [
       "<div>\n",
       "<table border=\"1\" class=\"dataframe\">\n",
       "  <thead>\n",
       "    <tr style=\"text-align: right;\">\n",
       "      <th></th>\n",
       "      <th>A</th>\n",
       "    </tr>\n",
       "  </thead>\n",
       "  <tbody>\n",
       "    <tr>\n",
       "      <th>2013-01-01 00:00:00</th>\n",
       "      <td>0.079441</td>\n",
       "    </tr>\n",
       "    <tr>\n",
       "      <th>2013-01-01 00:01:00</th>\n",
       "      <td>0.721777</td>\n",
       "    </tr>\n",
       "    <tr>\n",
       "      <th>2013-01-01 00:02:00</th>\n",
       "      <td>-1.689105</td>\n",
       "    </tr>\n",
       "    <tr>\n",
       "      <th>2013-01-01 00:03:00</th>\n",
       "      <td>-0.654599</td>\n",
       "    </tr>\n",
       "    <tr>\n",
       "      <th>2013-01-01 00:04:00</th>\n",
       "      <td>1.565731</td>\n",
       "    </tr>\n",
       "    <tr>\n",
       "      <th>2013-01-01 00:05:00</th>\n",
       "      <td>0.057849</td>\n",
       "    </tr>\n",
       "    <tr>\n",
       "      <th>2013-01-01 00:06:00</th>\n",
       "      <td>-1.251077</td>\n",
       "    </tr>\n",
       "    <tr>\n",
       "      <th>2013-01-01 00:07:00</th>\n",
       "      <td>-1.847490</td>\n",
       "    </tr>\n",
       "    <tr>\n",
       "      <th>2013-01-01 00:08:00</th>\n",
       "      <td>-0.482529</td>\n",
       "    </tr>\n",
       "    <tr>\n",
       "      <th>2013-01-01 00:09:00</th>\n",
       "      <td>0.887641</td>\n",
       "    </tr>\n",
       "    <tr>\n",
       "      <th>2013-01-01 00:10:00</th>\n",
       "      <td>0.842893</td>\n",
       "    </tr>\n",
       "    <tr>\n",
       "      <th>2013-01-01 00:11:00</th>\n",
       "      <td>1.486522</td>\n",
       "    </tr>\n",
       "    <tr>\n",
       "      <th>2013-01-01 00:12:00</th>\n",
       "      <td>0.534232</td>\n",
       "    </tr>\n",
       "    <tr>\n",
       "      <th>2013-01-01 00:13:00</th>\n",
       "      <td>0.136311</td>\n",
       "    </tr>\n",
       "    <tr>\n",
       "      <th>2013-01-01 00:14:00</th>\n",
       "      <td>0.880986</td>\n",
       "    </tr>\n",
       "    <tr>\n",
       "      <th>2013-01-01 00:15:00</th>\n",
       "      <td>0.573338</td>\n",
       "    </tr>\n",
       "    <tr>\n",
       "      <th>2013-01-01 00:16:00</th>\n",
       "      <td>0.393284</td>\n",
       "    </tr>\n",
       "    <tr>\n",
       "      <th>2013-01-01 00:17:00</th>\n",
       "      <td>0.306055</td>\n",
       "    </tr>\n",
       "    <tr>\n",
       "      <th>2013-01-01 00:18:00</th>\n",
       "      <td>-1.418666</td>\n",
       "    </tr>\n",
       "    <tr>\n",
       "      <th>2013-01-01 00:19:00</th>\n",
       "      <td>-1.167417</td>\n",
       "    </tr>\n",
       "    <tr>\n",
       "      <th>2013-01-01 00:20:00</th>\n",
       "      <td>1.512655</td>\n",
       "    </tr>\n",
       "    <tr>\n",
       "      <th>2013-01-01 00:21:00</th>\n",
       "      <td>-0.276900</td>\n",
       "    </tr>\n",
       "    <tr>\n",
       "      <th>2013-01-01 00:22:00</th>\n",
       "      <td>0.435589</td>\n",
       "    </tr>\n",
       "    <tr>\n",
       "      <th>2013-01-01 00:23:00</th>\n",
       "      <td>-1.116349</td>\n",
       "    </tr>\n",
       "    <tr>\n",
       "      <th>2013-01-01 00:24:00</th>\n",
       "      <td>1.318419</td>\n",
       "    </tr>\n",
       "    <tr>\n",
       "      <th>2013-01-01 00:25:00</th>\n",
       "      <td>-0.050920</td>\n",
       "    </tr>\n",
       "    <tr>\n",
       "      <th>2013-01-01 00:26:00</th>\n",
       "      <td>0.139904</td>\n",
       "    </tr>\n",
       "    <tr>\n",
       "      <th>2013-01-01 00:27:00</th>\n",
       "      <td>-0.409798</td>\n",
       "    </tr>\n",
       "    <tr>\n",
       "      <th>2013-01-01 00:28:00</th>\n",
       "      <td>-0.810062</td>\n",
       "    </tr>\n",
       "    <tr>\n",
       "      <th>2013-01-01 00:29:00</th>\n",
       "      <td>-1.397648</td>\n",
       "    </tr>\n",
       "    <tr>\n",
       "      <th>...</th>\n",
       "      <td>...</td>\n",
       "    </tr>\n",
       "    <tr>\n",
       "      <th>2013-03-11 10:10:00</th>\n",
       "      <td>-1.383900</td>\n",
       "    </tr>\n",
       "    <tr>\n",
       "      <th>2013-03-11 10:11:00</th>\n",
       "      <td>-1.024184</td>\n",
       "    </tr>\n",
       "    <tr>\n",
       "      <th>2013-03-11 10:12:00</th>\n",
       "      <td>0.982055</td>\n",
       "    </tr>\n",
       "    <tr>\n",
       "      <th>2013-03-11 10:13:00</th>\n",
       "      <td>-0.279727</td>\n",
       "    </tr>\n",
       "    <tr>\n",
       "      <th>2013-03-11 10:14:00</th>\n",
       "      <td>-0.689735</td>\n",
       "    </tr>\n",
       "    <tr>\n",
       "      <th>2013-03-11 10:15:00</th>\n",
       "      <td>-0.112314</td>\n",
       "    </tr>\n",
       "    <tr>\n",
       "      <th>2013-03-11 10:16:00</th>\n",
       "      <td>-0.954163</td>\n",
       "    </tr>\n",
       "    <tr>\n",
       "      <th>2013-03-11 10:17:00</th>\n",
       "      <td>-1.710287</td>\n",
       "    </tr>\n",
       "    <tr>\n",
       "      <th>2013-03-11 10:18:00</th>\n",
       "      <td>0.410929</td>\n",
       "    </tr>\n",
       "    <tr>\n",
       "      <th>2013-03-11 10:19:00</th>\n",
       "      <td>-2.350308</td>\n",
       "    </tr>\n",
       "    <tr>\n",
       "      <th>2013-03-11 10:20:00</th>\n",
       "      <td>-0.201576</td>\n",
       "    </tr>\n",
       "    <tr>\n",
       "      <th>2013-03-11 10:21:00</th>\n",
       "      <td>0.723358</td>\n",
       "    </tr>\n",
       "    <tr>\n",
       "      <th>2013-03-11 10:22:00</th>\n",
       "      <td>-0.615182</td>\n",
       "    </tr>\n",
       "    <tr>\n",
       "      <th>2013-03-11 10:23:00</th>\n",
       "      <td>-1.965437</td>\n",
       "    </tr>\n",
       "    <tr>\n",
       "      <th>2013-03-11 10:24:00</th>\n",
       "      <td>-0.063219</td>\n",
       "    </tr>\n",
       "    <tr>\n",
       "      <th>2013-03-11 10:25:00</th>\n",
       "      <td>1.273639</td>\n",
       "    </tr>\n",
       "    <tr>\n",
       "      <th>2013-03-11 10:26:00</th>\n",
       "      <td>-0.244623</td>\n",
       "    </tr>\n",
       "    <tr>\n",
       "      <th>2013-03-11 10:27:00</th>\n",
       "      <td>-0.541226</td>\n",
       "    </tr>\n",
       "    <tr>\n",
       "      <th>2013-03-11 10:28:00</th>\n",
       "      <td>0.175972</td>\n",
       "    </tr>\n",
       "    <tr>\n",
       "      <th>2013-03-11 10:29:00</th>\n",
       "      <td>-0.441980</td>\n",
       "    </tr>\n",
       "    <tr>\n",
       "      <th>2013-03-11 10:30:00</th>\n",
       "      <td>-0.779306</td>\n",
       "    </tr>\n",
       "    <tr>\n",
       "      <th>2013-03-11 10:31:00</th>\n",
       "      <td>1.037795</td>\n",
       "    </tr>\n",
       "    <tr>\n",
       "      <th>2013-03-11 10:32:00</th>\n",
       "      <td>-1.070747</td>\n",
       "    </tr>\n",
       "    <tr>\n",
       "      <th>2013-03-11 10:33:00</th>\n",
       "      <td>-0.955436</td>\n",
       "    </tr>\n",
       "    <tr>\n",
       "      <th>2013-03-11 10:34:00</th>\n",
       "      <td>1.504113</td>\n",
       "    </tr>\n",
       "    <tr>\n",
       "      <th>2013-03-11 10:35:00</th>\n",
       "      <td>1.437831</td>\n",
       "    </tr>\n",
       "    <tr>\n",
       "      <th>2013-03-11 10:36:00</th>\n",
       "      <td>2.012241</td>\n",
       "    </tr>\n",
       "    <tr>\n",
       "      <th>2013-03-11 10:37:00</th>\n",
       "      <td>0.710248</td>\n",
       "    </tr>\n",
       "    <tr>\n",
       "      <th>2013-03-11 10:38:00</th>\n",
       "      <td>-1.752257</td>\n",
       "    </tr>\n",
       "    <tr>\n",
       "      <th>2013-03-11 10:39:00</th>\n",
       "      <td>-0.423995</td>\n",
       "    </tr>\n",
       "  </tbody>\n",
       "</table>\n",
       "<p>100000 rows × 1 columns</p>\n",
       "</div>"
      ],
      "text/plain": [
       "                            A\n",
       "2013-01-01 00:00:00  0.079441\n",
       "2013-01-01 00:01:00  0.721777\n",
       "2013-01-01 00:02:00 -1.689105\n",
       "2013-01-01 00:03:00 -0.654599\n",
       "2013-01-01 00:04:00  1.565731\n",
       "2013-01-01 00:05:00  0.057849\n",
       "2013-01-01 00:06:00 -1.251077\n",
       "2013-01-01 00:07:00 -1.847490\n",
       "2013-01-01 00:08:00 -0.482529\n",
       "2013-01-01 00:09:00  0.887641\n",
       "2013-01-01 00:10:00  0.842893\n",
       "2013-01-01 00:11:00  1.486522\n",
       "2013-01-01 00:12:00  0.534232\n",
       "2013-01-01 00:13:00  0.136311\n",
       "2013-01-01 00:14:00  0.880986\n",
       "2013-01-01 00:15:00  0.573338\n",
       "2013-01-01 00:16:00  0.393284\n",
       "2013-01-01 00:17:00  0.306055\n",
       "2013-01-01 00:18:00 -1.418666\n",
       "2013-01-01 00:19:00 -1.167417\n",
       "2013-01-01 00:20:00  1.512655\n",
       "2013-01-01 00:21:00 -0.276900\n",
       "2013-01-01 00:22:00  0.435589\n",
       "2013-01-01 00:23:00 -1.116349\n",
       "2013-01-01 00:24:00  1.318419\n",
       "2013-01-01 00:25:00 -0.050920\n",
       "2013-01-01 00:26:00  0.139904\n",
       "2013-01-01 00:27:00 -0.409798\n",
       "2013-01-01 00:28:00 -0.810062\n",
       "2013-01-01 00:29:00 -1.397648\n",
       "...                       ...\n",
       "2013-03-11 10:10:00 -1.383900\n",
       "2013-03-11 10:11:00 -1.024184\n",
       "2013-03-11 10:12:00  0.982055\n",
       "2013-03-11 10:13:00 -0.279727\n",
       "2013-03-11 10:14:00 -0.689735\n",
       "2013-03-11 10:15:00 -0.112314\n",
       "2013-03-11 10:16:00 -0.954163\n",
       "2013-03-11 10:17:00 -1.710287\n",
       "2013-03-11 10:18:00  0.410929\n",
       "2013-03-11 10:19:00 -2.350308\n",
       "2013-03-11 10:20:00 -0.201576\n",
       "2013-03-11 10:21:00  0.723358\n",
       "2013-03-11 10:22:00 -0.615182\n",
       "2013-03-11 10:23:00 -1.965437\n",
       "2013-03-11 10:24:00 -0.063219\n",
       "2013-03-11 10:25:00  1.273639\n",
       "2013-03-11 10:26:00 -0.244623\n",
       "2013-03-11 10:27:00 -0.541226\n",
       "2013-03-11 10:28:00  0.175972\n",
       "2013-03-11 10:29:00 -0.441980\n",
       "2013-03-11 10:30:00 -0.779306\n",
       "2013-03-11 10:31:00  1.037795\n",
       "2013-03-11 10:32:00 -1.070747\n",
       "2013-03-11 10:33:00 -0.955436\n",
       "2013-03-11 10:34:00  1.504113\n",
       "2013-03-11 10:35:00  1.437831\n",
       "2013-03-11 10:36:00  2.012241\n",
       "2013-03-11 10:37:00  0.710248\n",
       "2013-03-11 10:38:00 -1.752257\n",
       "2013-03-11 10:39:00 -0.423995\n",
       "\n",
       "[100000 rows x 1 columns]"
      ]
     },
     "execution_count": 159,
     "metadata": {},
     "output_type": "execute_result"
    }
   ],
   "source": [
    "dft['2013']"
   ]
  },
  {
   "cell_type": "code",
   "execution_count": 160,
   "metadata": {
    "collapsed": false
   },
   "outputs": [
    {
     "data": {
      "text/html": [
       "<div>\n",
       "<table border=\"1\" class=\"dataframe\">\n",
       "  <thead>\n",
       "    <tr style=\"text-align: right;\">\n",
       "      <th></th>\n",
       "      <th>A</th>\n",
       "    </tr>\n",
       "  </thead>\n",
       "  <tbody>\n",
       "    <tr>\n",
       "      <th>2013-01-01 00:00:00</th>\n",
       "      <td>0.079441</td>\n",
       "    </tr>\n",
       "    <tr>\n",
       "      <th>2013-01-01 00:01:00</th>\n",
       "      <td>0.721777</td>\n",
       "    </tr>\n",
       "    <tr>\n",
       "      <th>2013-01-01 00:02:00</th>\n",
       "      <td>-1.689105</td>\n",
       "    </tr>\n",
       "    <tr>\n",
       "      <th>2013-01-01 00:03:00</th>\n",
       "      <td>-0.654599</td>\n",
       "    </tr>\n",
       "    <tr>\n",
       "      <th>2013-01-01 00:04:00</th>\n",
       "      <td>1.565731</td>\n",
       "    </tr>\n",
       "    <tr>\n",
       "      <th>2013-01-01 00:05:00</th>\n",
       "      <td>0.057849</td>\n",
       "    </tr>\n",
       "    <tr>\n",
       "      <th>2013-01-01 00:06:00</th>\n",
       "      <td>-1.251077</td>\n",
       "    </tr>\n",
       "    <tr>\n",
       "      <th>2013-01-01 00:07:00</th>\n",
       "      <td>-1.847490</td>\n",
       "    </tr>\n",
       "    <tr>\n",
       "      <th>2013-01-01 00:08:00</th>\n",
       "      <td>-0.482529</td>\n",
       "    </tr>\n",
       "    <tr>\n",
       "      <th>2013-01-01 00:09:00</th>\n",
       "      <td>0.887641</td>\n",
       "    </tr>\n",
       "    <tr>\n",
       "      <th>2013-01-01 00:10:00</th>\n",
       "      <td>0.842893</td>\n",
       "    </tr>\n",
       "    <tr>\n",
       "      <th>2013-01-01 00:11:00</th>\n",
       "      <td>1.486522</td>\n",
       "    </tr>\n",
       "    <tr>\n",
       "      <th>2013-01-01 00:12:00</th>\n",
       "      <td>0.534232</td>\n",
       "    </tr>\n",
       "    <tr>\n",
       "      <th>2013-01-01 00:13:00</th>\n",
       "      <td>0.136311</td>\n",
       "    </tr>\n",
       "    <tr>\n",
       "      <th>2013-01-01 00:14:00</th>\n",
       "      <td>0.880986</td>\n",
       "    </tr>\n",
       "    <tr>\n",
       "      <th>2013-01-01 00:15:00</th>\n",
       "      <td>0.573338</td>\n",
       "    </tr>\n",
       "    <tr>\n",
       "      <th>2013-01-01 00:16:00</th>\n",
       "      <td>0.393284</td>\n",
       "    </tr>\n",
       "    <tr>\n",
       "      <th>2013-01-01 00:17:00</th>\n",
       "      <td>0.306055</td>\n",
       "    </tr>\n",
       "    <tr>\n",
       "      <th>2013-01-01 00:18:00</th>\n",
       "      <td>-1.418666</td>\n",
       "    </tr>\n",
       "    <tr>\n",
       "      <th>2013-01-01 00:19:00</th>\n",
       "      <td>-1.167417</td>\n",
       "    </tr>\n",
       "    <tr>\n",
       "      <th>2013-01-01 00:20:00</th>\n",
       "      <td>1.512655</td>\n",
       "    </tr>\n",
       "    <tr>\n",
       "      <th>2013-01-01 00:21:00</th>\n",
       "      <td>-0.276900</td>\n",
       "    </tr>\n",
       "    <tr>\n",
       "      <th>2013-01-01 00:22:00</th>\n",
       "      <td>0.435589</td>\n",
       "    </tr>\n",
       "    <tr>\n",
       "      <th>2013-01-01 00:23:00</th>\n",
       "      <td>-1.116349</td>\n",
       "    </tr>\n",
       "    <tr>\n",
       "      <th>2013-01-01 00:24:00</th>\n",
       "      <td>1.318419</td>\n",
       "    </tr>\n",
       "    <tr>\n",
       "      <th>2013-01-01 00:25:00</th>\n",
       "      <td>-0.050920</td>\n",
       "    </tr>\n",
       "    <tr>\n",
       "      <th>2013-01-01 00:26:00</th>\n",
       "      <td>0.139904</td>\n",
       "    </tr>\n",
       "    <tr>\n",
       "      <th>2013-01-01 00:27:00</th>\n",
       "      <td>-0.409798</td>\n",
       "    </tr>\n",
       "    <tr>\n",
       "      <th>2013-01-01 00:28:00</th>\n",
       "      <td>-0.810062</td>\n",
       "    </tr>\n",
       "    <tr>\n",
       "      <th>2013-01-01 00:29:00</th>\n",
       "      <td>-1.397648</td>\n",
       "    </tr>\n",
       "    <tr>\n",
       "      <th>...</th>\n",
       "      <td>...</td>\n",
       "    </tr>\n",
       "    <tr>\n",
       "      <th>2013-02-28 23:30:00</th>\n",
       "      <td>-0.128644</td>\n",
       "    </tr>\n",
       "    <tr>\n",
       "      <th>2013-02-28 23:31:00</th>\n",
       "      <td>-0.724006</td>\n",
       "    </tr>\n",
       "    <tr>\n",
       "      <th>2013-02-28 23:32:00</th>\n",
       "      <td>-0.694269</td>\n",
       "    </tr>\n",
       "    <tr>\n",
       "      <th>2013-02-28 23:33:00</th>\n",
       "      <td>0.520213</td>\n",
       "    </tr>\n",
       "    <tr>\n",
       "      <th>2013-02-28 23:34:00</th>\n",
       "      <td>0.005793</td>\n",
       "    </tr>\n",
       "    <tr>\n",
       "      <th>2013-02-28 23:35:00</th>\n",
       "      <td>-1.365843</td>\n",
       "    </tr>\n",
       "    <tr>\n",
       "      <th>2013-02-28 23:36:00</th>\n",
       "      <td>0.049867</td>\n",
       "    </tr>\n",
       "    <tr>\n",
       "      <th>2013-02-28 23:37:00</th>\n",
       "      <td>0.375399</td>\n",
       "    </tr>\n",
       "    <tr>\n",
       "      <th>2013-02-28 23:38:00</th>\n",
       "      <td>-0.650476</td>\n",
       "    </tr>\n",
       "    <tr>\n",
       "      <th>2013-02-28 23:39:00</th>\n",
       "      <td>-0.578359</td>\n",
       "    </tr>\n",
       "    <tr>\n",
       "      <th>2013-02-28 23:40:00</th>\n",
       "      <td>-0.216857</td>\n",
       "    </tr>\n",
       "    <tr>\n",
       "      <th>2013-02-28 23:41:00</th>\n",
       "      <td>-1.338647</td>\n",
       "    </tr>\n",
       "    <tr>\n",
       "      <th>2013-02-28 23:42:00</th>\n",
       "      <td>1.742277</td>\n",
       "    </tr>\n",
       "    <tr>\n",
       "      <th>2013-02-28 23:43:00</th>\n",
       "      <td>0.004390</td>\n",
       "    </tr>\n",
       "    <tr>\n",
       "      <th>2013-02-28 23:44:00</th>\n",
       "      <td>0.725836</td>\n",
       "    </tr>\n",
       "    <tr>\n",
       "      <th>2013-02-28 23:45:00</th>\n",
       "      <td>-0.193839</td>\n",
       "    </tr>\n",
       "    <tr>\n",
       "      <th>2013-02-28 23:46:00</th>\n",
       "      <td>-0.088499</td>\n",
       "    </tr>\n",
       "    <tr>\n",
       "      <th>2013-02-28 23:47:00</th>\n",
       "      <td>-0.609277</td>\n",
       "    </tr>\n",
       "    <tr>\n",
       "      <th>2013-02-28 23:48:00</th>\n",
       "      <td>0.695415</td>\n",
       "    </tr>\n",
       "    <tr>\n",
       "      <th>2013-02-28 23:49:00</th>\n",
       "      <td>-0.107384</td>\n",
       "    </tr>\n",
       "    <tr>\n",
       "      <th>2013-02-28 23:50:00</th>\n",
       "      <td>0.603872</td>\n",
       "    </tr>\n",
       "    <tr>\n",
       "      <th>2013-02-28 23:51:00</th>\n",
       "      <td>-0.134093</td>\n",
       "    </tr>\n",
       "    <tr>\n",
       "      <th>2013-02-28 23:52:00</th>\n",
       "      <td>0.108129</td>\n",
       "    </tr>\n",
       "    <tr>\n",
       "      <th>2013-02-28 23:53:00</th>\n",
       "      <td>-0.160846</td>\n",
       "    </tr>\n",
       "    <tr>\n",
       "      <th>2013-02-28 23:54:00</th>\n",
       "      <td>-0.090811</td>\n",
       "    </tr>\n",
       "    <tr>\n",
       "      <th>2013-02-28 23:55:00</th>\n",
       "      <td>-0.389301</td>\n",
       "    </tr>\n",
       "    <tr>\n",
       "      <th>2013-02-28 23:56:00</th>\n",
       "      <td>-0.677055</td>\n",
       "    </tr>\n",
       "    <tr>\n",
       "      <th>2013-02-28 23:57:00</th>\n",
       "      <td>-1.164147</td>\n",
       "    </tr>\n",
       "    <tr>\n",
       "      <th>2013-02-28 23:58:00</th>\n",
       "      <td>0.564582</td>\n",
       "    </tr>\n",
       "    <tr>\n",
       "      <th>2013-02-28 23:59:00</th>\n",
       "      <td>0.391412</td>\n",
       "    </tr>\n",
       "  </tbody>\n",
       "</table>\n",
       "<p>84960 rows × 1 columns</p>\n",
       "</div>"
      ],
      "text/plain": [
       "                            A\n",
       "2013-01-01 00:00:00  0.079441\n",
       "2013-01-01 00:01:00  0.721777\n",
       "2013-01-01 00:02:00 -1.689105\n",
       "2013-01-01 00:03:00 -0.654599\n",
       "2013-01-01 00:04:00  1.565731\n",
       "2013-01-01 00:05:00  0.057849\n",
       "2013-01-01 00:06:00 -1.251077\n",
       "2013-01-01 00:07:00 -1.847490\n",
       "2013-01-01 00:08:00 -0.482529\n",
       "2013-01-01 00:09:00  0.887641\n",
       "2013-01-01 00:10:00  0.842893\n",
       "2013-01-01 00:11:00  1.486522\n",
       "2013-01-01 00:12:00  0.534232\n",
       "2013-01-01 00:13:00  0.136311\n",
       "2013-01-01 00:14:00  0.880986\n",
       "2013-01-01 00:15:00  0.573338\n",
       "2013-01-01 00:16:00  0.393284\n",
       "2013-01-01 00:17:00  0.306055\n",
       "2013-01-01 00:18:00 -1.418666\n",
       "2013-01-01 00:19:00 -1.167417\n",
       "2013-01-01 00:20:00  1.512655\n",
       "2013-01-01 00:21:00 -0.276900\n",
       "2013-01-01 00:22:00  0.435589\n",
       "2013-01-01 00:23:00 -1.116349\n",
       "2013-01-01 00:24:00  1.318419\n",
       "2013-01-01 00:25:00 -0.050920\n",
       "2013-01-01 00:26:00  0.139904\n",
       "2013-01-01 00:27:00 -0.409798\n",
       "2013-01-01 00:28:00 -0.810062\n",
       "2013-01-01 00:29:00 -1.397648\n",
       "...                       ...\n",
       "2013-02-28 23:30:00 -0.128644\n",
       "2013-02-28 23:31:00 -0.724006\n",
       "2013-02-28 23:32:00 -0.694269\n",
       "2013-02-28 23:33:00  0.520213\n",
       "2013-02-28 23:34:00  0.005793\n",
       "2013-02-28 23:35:00 -1.365843\n",
       "2013-02-28 23:36:00  0.049867\n",
       "2013-02-28 23:37:00  0.375399\n",
       "2013-02-28 23:38:00 -0.650476\n",
       "2013-02-28 23:39:00 -0.578359\n",
       "2013-02-28 23:40:00 -0.216857\n",
       "2013-02-28 23:41:00 -1.338647\n",
       "2013-02-28 23:42:00  1.742277\n",
       "2013-02-28 23:43:00  0.004390\n",
       "2013-02-28 23:44:00  0.725836\n",
       "2013-02-28 23:45:00 -0.193839\n",
       "2013-02-28 23:46:00 -0.088499\n",
       "2013-02-28 23:47:00 -0.609277\n",
       "2013-02-28 23:48:00  0.695415\n",
       "2013-02-28 23:49:00 -0.107384\n",
       "2013-02-28 23:50:00  0.603872\n",
       "2013-02-28 23:51:00 -0.134093\n",
       "2013-02-28 23:52:00  0.108129\n",
       "2013-02-28 23:53:00 -0.160846\n",
       "2013-02-28 23:54:00 -0.090811\n",
       "2013-02-28 23:55:00 -0.389301\n",
       "2013-02-28 23:56:00 -0.677055\n",
       "2013-02-28 23:57:00 -1.164147\n",
       "2013-02-28 23:58:00  0.564582\n",
       "2013-02-28 23:59:00  0.391412\n",
       "\n",
       "[84960 rows x 1 columns]"
      ]
     },
     "execution_count": 160,
     "metadata": {},
     "output_type": "execute_result"
    }
   ],
   "source": [
    "dft['2013-1':'2013-2']"
   ]
  },
  {
   "cell_type": "code",
   "execution_count": 161,
   "metadata": {
    "collapsed": false
   },
   "outputs": [
    {
     "data": {
      "text/html": [
       "<div>\n",
       "<table border=\"1\" class=\"dataframe\">\n",
       "  <thead>\n",
       "    <tr style=\"text-align: right;\">\n",
       "      <th></th>\n",
       "      <th>A</th>\n",
       "    </tr>\n",
       "  </thead>\n",
       "  <tbody>\n",
       "    <tr>\n",
       "      <th>2013-01-01 00:00:00</th>\n",
       "      <td>0.079441</td>\n",
       "    </tr>\n",
       "    <tr>\n",
       "      <th>2013-01-01 00:01:00</th>\n",
       "      <td>0.721777</td>\n",
       "    </tr>\n",
       "    <tr>\n",
       "      <th>2013-01-01 00:02:00</th>\n",
       "      <td>-1.689105</td>\n",
       "    </tr>\n",
       "    <tr>\n",
       "      <th>2013-01-01 00:03:00</th>\n",
       "      <td>-0.654599</td>\n",
       "    </tr>\n",
       "    <tr>\n",
       "      <th>2013-01-01 00:04:00</th>\n",
       "      <td>1.565731</td>\n",
       "    </tr>\n",
       "    <tr>\n",
       "      <th>2013-01-01 00:05:00</th>\n",
       "      <td>0.057849</td>\n",
       "    </tr>\n",
       "    <tr>\n",
       "      <th>2013-01-01 00:06:00</th>\n",
       "      <td>-1.251077</td>\n",
       "    </tr>\n",
       "    <tr>\n",
       "      <th>2013-01-01 00:07:00</th>\n",
       "      <td>-1.847490</td>\n",
       "    </tr>\n",
       "    <tr>\n",
       "      <th>2013-01-01 00:08:00</th>\n",
       "      <td>-0.482529</td>\n",
       "    </tr>\n",
       "    <tr>\n",
       "      <th>2013-01-01 00:09:00</th>\n",
       "      <td>0.887641</td>\n",
       "    </tr>\n",
       "    <tr>\n",
       "      <th>2013-01-01 00:10:00</th>\n",
       "      <td>0.842893</td>\n",
       "    </tr>\n",
       "    <tr>\n",
       "      <th>2013-01-01 00:11:00</th>\n",
       "      <td>1.486522</td>\n",
       "    </tr>\n",
       "    <tr>\n",
       "      <th>2013-01-01 00:12:00</th>\n",
       "      <td>0.534232</td>\n",
       "    </tr>\n",
       "    <tr>\n",
       "      <th>2013-01-01 00:13:00</th>\n",
       "      <td>0.136311</td>\n",
       "    </tr>\n",
       "    <tr>\n",
       "      <th>2013-01-01 00:14:00</th>\n",
       "      <td>0.880986</td>\n",
       "    </tr>\n",
       "    <tr>\n",
       "      <th>2013-01-01 00:15:00</th>\n",
       "      <td>0.573338</td>\n",
       "    </tr>\n",
       "    <tr>\n",
       "      <th>2013-01-01 00:16:00</th>\n",
       "      <td>0.393284</td>\n",
       "    </tr>\n",
       "    <tr>\n",
       "      <th>2013-01-01 00:17:00</th>\n",
       "      <td>0.306055</td>\n",
       "    </tr>\n",
       "    <tr>\n",
       "      <th>2013-01-01 00:18:00</th>\n",
       "      <td>-1.418666</td>\n",
       "    </tr>\n",
       "    <tr>\n",
       "      <th>2013-01-01 00:19:00</th>\n",
       "      <td>-1.167417</td>\n",
       "    </tr>\n",
       "    <tr>\n",
       "      <th>2013-01-01 00:20:00</th>\n",
       "      <td>1.512655</td>\n",
       "    </tr>\n",
       "    <tr>\n",
       "      <th>2013-01-01 00:21:00</th>\n",
       "      <td>-0.276900</td>\n",
       "    </tr>\n",
       "    <tr>\n",
       "      <th>2013-01-01 00:22:00</th>\n",
       "      <td>0.435589</td>\n",
       "    </tr>\n",
       "    <tr>\n",
       "      <th>2013-01-01 00:23:00</th>\n",
       "      <td>-1.116349</td>\n",
       "    </tr>\n",
       "    <tr>\n",
       "      <th>2013-01-01 00:24:00</th>\n",
       "      <td>1.318419</td>\n",
       "    </tr>\n",
       "    <tr>\n",
       "      <th>2013-01-01 00:25:00</th>\n",
       "      <td>-0.050920</td>\n",
       "    </tr>\n",
       "    <tr>\n",
       "      <th>2013-01-01 00:26:00</th>\n",
       "      <td>0.139904</td>\n",
       "    </tr>\n",
       "    <tr>\n",
       "      <th>2013-01-01 00:27:00</th>\n",
       "      <td>-0.409798</td>\n",
       "    </tr>\n",
       "    <tr>\n",
       "      <th>2013-01-01 00:28:00</th>\n",
       "      <td>-0.810062</td>\n",
       "    </tr>\n",
       "    <tr>\n",
       "      <th>2013-01-01 00:29:00</th>\n",
       "      <td>-1.397648</td>\n",
       "    </tr>\n",
       "    <tr>\n",
       "      <th>...</th>\n",
       "      <td>...</td>\n",
       "    </tr>\n",
       "    <tr>\n",
       "      <th>2013-02-28 23:30:00</th>\n",
       "      <td>-0.128644</td>\n",
       "    </tr>\n",
       "    <tr>\n",
       "      <th>2013-02-28 23:31:00</th>\n",
       "      <td>-0.724006</td>\n",
       "    </tr>\n",
       "    <tr>\n",
       "      <th>2013-02-28 23:32:00</th>\n",
       "      <td>-0.694269</td>\n",
       "    </tr>\n",
       "    <tr>\n",
       "      <th>2013-02-28 23:33:00</th>\n",
       "      <td>0.520213</td>\n",
       "    </tr>\n",
       "    <tr>\n",
       "      <th>2013-02-28 23:34:00</th>\n",
       "      <td>0.005793</td>\n",
       "    </tr>\n",
       "    <tr>\n",
       "      <th>2013-02-28 23:35:00</th>\n",
       "      <td>-1.365843</td>\n",
       "    </tr>\n",
       "    <tr>\n",
       "      <th>2013-02-28 23:36:00</th>\n",
       "      <td>0.049867</td>\n",
       "    </tr>\n",
       "    <tr>\n",
       "      <th>2013-02-28 23:37:00</th>\n",
       "      <td>0.375399</td>\n",
       "    </tr>\n",
       "    <tr>\n",
       "      <th>2013-02-28 23:38:00</th>\n",
       "      <td>-0.650476</td>\n",
       "    </tr>\n",
       "    <tr>\n",
       "      <th>2013-02-28 23:39:00</th>\n",
       "      <td>-0.578359</td>\n",
       "    </tr>\n",
       "    <tr>\n",
       "      <th>2013-02-28 23:40:00</th>\n",
       "      <td>-0.216857</td>\n",
       "    </tr>\n",
       "    <tr>\n",
       "      <th>2013-02-28 23:41:00</th>\n",
       "      <td>-1.338647</td>\n",
       "    </tr>\n",
       "    <tr>\n",
       "      <th>2013-02-28 23:42:00</th>\n",
       "      <td>1.742277</td>\n",
       "    </tr>\n",
       "    <tr>\n",
       "      <th>2013-02-28 23:43:00</th>\n",
       "      <td>0.004390</td>\n",
       "    </tr>\n",
       "    <tr>\n",
       "      <th>2013-02-28 23:44:00</th>\n",
       "      <td>0.725836</td>\n",
       "    </tr>\n",
       "    <tr>\n",
       "      <th>2013-02-28 23:45:00</th>\n",
       "      <td>-0.193839</td>\n",
       "    </tr>\n",
       "    <tr>\n",
       "      <th>2013-02-28 23:46:00</th>\n",
       "      <td>-0.088499</td>\n",
       "    </tr>\n",
       "    <tr>\n",
       "      <th>2013-02-28 23:47:00</th>\n",
       "      <td>-0.609277</td>\n",
       "    </tr>\n",
       "    <tr>\n",
       "      <th>2013-02-28 23:48:00</th>\n",
       "      <td>0.695415</td>\n",
       "    </tr>\n",
       "    <tr>\n",
       "      <th>2013-02-28 23:49:00</th>\n",
       "      <td>-0.107384</td>\n",
       "    </tr>\n",
       "    <tr>\n",
       "      <th>2013-02-28 23:50:00</th>\n",
       "      <td>0.603872</td>\n",
       "    </tr>\n",
       "    <tr>\n",
       "      <th>2013-02-28 23:51:00</th>\n",
       "      <td>-0.134093</td>\n",
       "    </tr>\n",
       "    <tr>\n",
       "      <th>2013-02-28 23:52:00</th>\n",
       "      <td>0.108129</td>\n",
       "    </tr>\n",
       "    <tr>\n",
       "      <th>2013-02-28 23:53:00</th>\n",
       "      <td>-0.160846</td>\n",
       "    </tr>\n",
       "    <tr>\n",
       "      <th>2013-02-28 23:54:00</th>\n",
       "      <td>-0.090811</td>\n",
       "    </tr>\n",
       "    <tr>\n",
       "      <th>2013-02-28 23:55:00</th>\n",
       "      <td>-0.389301</td>\n",
       "    </tr>\n",
       "    <tr>\n",
       "      <th>2013-02-28 23:56:00</th>\n",
       "      <td>-0.677055</td>\n",
       "    </tr>\n",
       "    <tr>\n",
       "      <th>2013-02-28 23:57:00</th>\n",
       "      <td>-1.164147</td>\n",
       "    </tr>\n",
       "    <tr>\n",
       "      <th>2013-02-28 23:58:00</th>\n",
       "      <td>0.564582</td>\n",
       "    </tr>\n",
       "    <tr>\n",
       "      <th>2013-02-28 23:59:00</th>\n",
       "      <td>0.391412</td>\n",
       "    </tr>\n",
       "  </tbody>\n",
       "</table>\n",
       "<p>84960 rows × 1 columns</p>\n",
       "</div>"
      ],
      "text/plain": [
       "                            A\n",
       "2013-01-01 00:00:00  0.079441\n",
       "2013-01-01 00:01:00  0.721777\n",
       "2013-01-01 00:02:00 -1.689105\n",
       "2013-01-01 00:03:00 -0.654599\n",
       "2013-01-01 00:04:00  1.565731\n",
       "2013-01-01 00:05:00  0.057849\n",
       "2013-01-01 00:06:00 -1.251077\n",
       "2013-01-01 00:07:00 -1.847490\n",
       "2013-01-01 00:08:00 -0.482529\n",
       "2013-01-01 00:09:00  0.887641\n",
       "2013-01-01 00:10:00  0.842893\n",
       "2013-01-01 00:11:00  1.486522\n",
       "2013-01-01 00:12:00  0.534232\n",
       "2013-01-01 00:13:00  0.136311\n",
       "2013-01-01 00:14:00  0.880986\n",
       "2013-01-01 00:15:00  0.573338\n",
       "2013-01-01 00:16:00  0.393284\n",
       "2013-01-01 00:17:00  0.306055\n",
       "2013-01-01 00:18:00 -1.418666\n",
       "2013-01-01 00:19:00 -1.167417\n",
       "2013-01-01 00:20:00  1.512655\n",
       "2013-01-01 00:21:00 -0.276900\n",
       "2013-01-01 00:22:00  0.435589\n",
       "2013-01-01 00:23:00 -1.116349\n",
       "2013-01-01 00:24:00  1.318419\n",
       "2013-01-01 00:25:00 -0.050920\n",
       "2013-01-01 00:26:00  0.139904\n",
       "2013-01-01 00:27:00 -0.409798\n",
       "2013-01-01 00:28:00 -0.810062\n",
       "2013-01-01 00:29:00 -1.397648\n",
       "...                       ...\n",
       "2013-02-28 23:30:00 -0.128644\n",
       "2013-02-28 23:31:00 -0.724006\n",
       "2013-02-28 23:32:00 -0.694269\n",
       "2013-02-28 23:33:00  0.520213\n",
       "2013-02-28 23:34:00  0.005793\n",
       "2013-02-28 23:35:00 -1.365843\n",
       "2013-02-28 23:36:00  0.049867\n",
       "2013-02-28 23:37:00  0.375399\n",
       "2013-02-28 23:38:00 -0.650476\n",
       "2013-02-28 23:39:00 -0.578359\n",
       "2013-02-28 23:40:00 -0.216857\n",
       "2013-02-28 23:41:00 -1.338647\n",
       "2013-02-28 23:42:00  1.742277\n",
       "2013-02-28 23:43:00  0.004390\n",
       "2013-02-28 23:44:00  0.725836\n",
       "2013-02-28 23:45:00 -0.193839\n",
       "2013-02-28 23:46:00 -0.088499\n",
       "2013-02-28 23:47:00 -0.609277\n",
       "2013-02-28 23:48:00  0.695415\n",
       "2013-02-28 23:49:00 -0.107384\n",
       "2013-02-28 23:50:00  0.603872\n",
       "2013-02-28 23:51:00 -0.134093\n",
       "2013-02-28 23:52:00  0.108129\n",
       "2013-02-28 23:53:00 -0.160846\n",
       "2013-02-28 23:54:00 -0.090811\n",
       "2013-02-28 23:55:00 -0.389301\n",
       "2013-02-28 23:56:00 -0.677055\n",
       "2013-02-28 23:57:00 -1.164147\n",
       "2013-02-28 23:58:00  0.564582\n",
       "2013-02-28 23:59:00  0.391412\n",
       "\n",
       "[84960 rows x 1 columns]"
      ]
     },
     "execution_count": 161,
     "metadata": {},
     "output_type": "execute_result"
    }
   ],
   "source": [
    "dft['2013-1':'2013-2-28']"
   ]
  },
  {
   "cell_type": "code",
   "execution_count": 162,
   "metadata": {
    "collapsed": false
   },
   "outputs": [
    {
     "data": {
      "text/html": [
       "<div>\n",
       "<table border=\"1\" class=\"dataframe\">\n",
       "  <thead>\n",
       "    <tr style=\"text-align: right;\">\n",
       "      <th></th>\n",
       "      <th>A</th>\n",
       "    </tr>\n",
       "  </thead>\n",
       "  <tbody>\n",
       "    <tr>\n",
       "      <th>2013-01-01 00:00:00</th>\n",
       "      <td>0.079441</td>\n",
       "    </tr>\n",
       "    <tr>\n",
       "      <th>2013-01-01 00:01:00</th>\n",
       "      <td>0.721777</td>\n",
       "    </tr>\n",
       "    <tr>\n",
       "      <th>2013-01-01 00:02:00</th>\n",
       "      <td>-1.689105</td>\n",
       "    </tr>\n",
       "    <tr>\n",
       "      <th>2013-01-01 00:03:00</th>\n",
       "      <td>-0.654599</td>\n",
       "    </tr>\n",
       "    <tr>\n",
       "      <th>2013-01-01 00:04:00</th>\n",
       "      <td>1.565731</td>\n",
       "    </tr>\n",
       "    <tr>\n",
       "      <th>2013-01-01 00:05:00</th>\n",
       "      <td>0.057849</td>\n",
       "    </tr>\n",
       "    <tr>\n",
       "      <th>2013-01-01 00:06:00</th>\n",
       "      <td>-1.251077</td>\n",
       "    </tr>\n",
       "    <tr>\n",
       "      <th>2013-01-01 00:07:00</th>\n",
       "      <td>-1.847490</td>\n",
       "    </tr>\n",
       "    <tr>\n",
       "      <th>2013-01-01 00:08:00</th>\n",
       "      <td>-0.482529</td>\n",
       "    </tr>\n",
       "    <tr>\n",
       "      <th>2013-01-01 00:09:00</th>\n",
       "      <td>0.887641</td>\n",
       "    </tr>\n",
       "    <tr>\n",
       "      <th>2013-01-01 00:10:00</th>\n",
       "      <td>0.842893</td>\n",
       "    </tr>\n",
       "    <tr>\n",
       "      <th>2013-01-01 00:11:00</th>\n",
       "      <td>1.486522</td>\n",
       "    </tr>\n",
       "    <tr>\n",
       "      <th>2013-01-01 00:12:00</th>\n",
       "      <td>0.534232</td>\n",
       "    </tr>\n",
       "    <tr>\n",
       "      <th>2013-01-01 00:13:00</th>\n",
       "      <td>0.136311</td>\n",
       "    </tr>\n",
       "    <tr>\n",
       "      <th>2013-01-01 00:14:00</th>\n",
       "      <td>0.880986</td>\n",
       "    </tr>\n",
       "    <tr>\n",
       "      <th>2013-01-01 00:15:00</th>\n",
       "      <td>0.573338</td>\n",
       "    </tr>\n",
       "    <tr>\n",
       "      <th>2013-01-01 00:16:00</th>\n",
       "      <td>0.393284</td>\n",
       "    </tr>\n",
       "    <tr>\n",
       "      <th>2013-01-01 00:17:00</th>\n",
       "      <td>0.306055</td>\n",
       "    </tr>\n",
       "    <tr>\n",
       "      <th>2013-01-01 00:18:00</th>\n",
       "      <td>-1.418666</td>\n",
       "    </tr>\n",
       "    <tr>\n",
       "      <th>2013-01-01 00:19:00</th>\n",
       "      <td>-1.167417</td>\n",
       "    </tr>\n",
       "    <tr>\n",
       "      <th>2013-01-01 00:20:00</th>\n",
       "      <td>1.512655</td>\n",
       "    </tr>\n",
       "    <tr>\n",
       "      <th>2013-01-01 00:21:00</th>\n",
       "      <td>-0.276900</td>\n",
       "    </tr>\n",
       "    <tr>\n",
       "      <th>2013-01-01 00:22:00</th>\n",
       "      <td>0.435589</td>\n",
       "    </tr>\n",
       "    <tr>\n",
       "      <th>2013-01-01 00:23:00</th>\n",
       "      <td>-1.116349</td>\n",
       "    </tr>\n",
       "    <tr>\n",
       "      <th>2013-01-01 00:24:00</th>\n",
       "      <td>1.318419</td>\n",
       "    </tr>\n",
       "    <tr>\n",
       "      <th>2013-01-01 00:25:00</th>\n",
       "      <td>-0.050920</td>\n",
       "    </tr>\n",
       "    <tr>\n",
       "      <th>2013-01-01 00:26:00</th>\n",
       "      <td>0.139904</td>\n",
       "    </tr>\n",
       "    <tr>\n",
       "      <th>2013-01-01 00:27:00</th>\n",
       "      <td>-0.409798</td>\n",
       "    </tr>\n",
       "    <tr>\n",
       "      <th>2013-01-01 00:28:00</th>\n",
       "      <td>-0.810062</td>\n",
       "    </tr>\n",
       "    <tr>\n",
       "      <th>2013-01-01 00:29:00</th>\n",
       "      <td>-1.397648</td>\n",
       "    </tr>\n",
       "    <tr>\n",
       "      <th>...</th>\n",
       "      <td>...</td>\n",
       "    </tr>\n",
       "    <tr>\n",
       "      <th>2013-02-27 23:31:00</th>\n",
       "      <td>2.412168</td>\n",
       "    </tr>\n",
       "    <tr>\n",
       "      <th>2013-02-27 23:32:00</th>\n",
       "      <td>-0.891404</td>\n",
       "    </tr>\n",
       "    <tr>\n",
       "      <th>2013-02-27 23:33:00</th>\n",
       "      <td>0.577728</td>\n",
       "    </tr>\n",
       "    <tr>\n",
       "      <th>2013-02-27 23:34:00</th>\n",
       "      <td>0.134287</td>\n",
       "    </tr>\n",
       "    <tr>\n",
       "      <th>2013-02-27 23:35:00</th>\n",
       "      <td>0.982891</td>\n",
       "    </tr>\n",
       "    <tr>\n",
       "      <th>2013-02-27 23:36:00</th>\n",
       "      <td>-0.431334</td>\n",
       "    </tr>\n",
       "    <tr>\n",
       "      <th>2013-02-27 23:37:00</th>\n",
       "      <td>-0.494643</td>\n",
       "    </tr>\n",
       "    <tr>\n",
       "      <th>2013-02-27 23:38:00</th>\n",
       "      <td>0.581927</td>\n",
       "    </tr>\n",
       "    <tr>\n",
       "      <th>2013-02-27 23:39:00</th>\n",
       "      <td>1.681518</td>\n",
       "    </tr>\n",
       "    <tr>\n",
       "      <th>2013-02-27 23:40:00</th>\n",
       "      <td>-1.864365</td>\n",
       "    </tr>\n",
       "    <tr>\n",
       "      <th>2013-02-27 23:41:00</th>\n",
       "      <td>-0.766711</td>\n",
       "    </tr>\n",
       "    <tr>\n",
       "      <th>2013-02-27 23:42:00</th>\n",
       "      <td>-0.690231</td>\n",
       "    </tr>\n",
       "    <tr>\n",
       "      <th>2013-02-27 23:43:00</th>\n",
       "      <td>-0.500341</td>\n",
       "    </tr>\n",
       "    <tr>\n",
       "      <th>2013-02-27 23:44:00</th>\n",
       "      <td>-0.490097</td>\n",
       "    </tr>\n",
       "    <tr>\n",
       "      <th>2013-02-27 23:45:00</th>\n",
       "      <td>0.722404</td>\n",
       "    </tr>\n",
       "    <tr>\n",
       "      <th>2013-02-27 23:46:00</th>\n",
       "      <td>1.590524</td>\n",
       "    </tr>\n",
       "    <tr>\n",
       "      <th>2013-02-27 23:47:00</th>\n",
       "      <td>0.419746</td>\n",
       "    </tr>\n",
       "    <tr>\n",
       "      <th>2013-02-27 23:48:00</th>\n",
       "      <td>-1.315715</td>\n",
       "    </tr>\n",
       "    <tr>\n",
       "      <th>2013-02-27 23:49:00</th>\n",
       "      <td>0.258727</td>\n",
       "    </tr>\n",
       "    <tr>\n",
       "      <th>2013-02-27 23:50:00</th>\n",
       "      <td>0.411348</td>\n",
       "    </tr>\n",
       "    <tr>\n",
       "      <th>2013-02-27 23:51:00</th>\n",
       "      <td>1.052283</td>\n",
       "    </tr>\n",
       "    <tr>\n",
       "      <th>2013-02-27 23:52:00</th>\n",
       "      <td>-0.760497</td>\n",
       "    </tr>\n",
       "    <tr>\n",
       "      <th>2013-02-27 23:53:00</th>\n",
       "      <td>1.650354</td>\n",
       "    </tr>\n",
       "    <tr>\n",
       "      <th>2013-02-27 23:54:00</th>\n",
       "      <td>-1.593207</td>\n",
       "    </tr>\n",
       "    <tr>\n",
       "      <th>2013-02-27 23:55:00</th>\n",
       "      <td>-1.942639</td>\n",
       "    </tr>\n",
       "    <tr>\n",
       "      <th>2013-02-27 23:56:00</th>\n",
       "      <td>1.150584</td>\n",
       "    </tr>\n",
       "    <tr>\n",
       "      <th>2013-02-27 23:57:00</th>\n",
       "      <td>-1.892486</td>\n",
       "    </tr>\n",
       "    <tr>\n",
       "      <th>2013-02-27 23:58:00</th>\n",
       "      <td>-0.384465</td>\n",
       "    </tr>\n",
       "    <tr>\n",
       "      <th>2013-02-27 23:59:00</th>\n",
       "      <td>0.114008</td>\n",
       "    </tr>\n",
       "    <tr>\n",
       "      <th>2013-02-28 00:00:00</th>\n",
       "      <td>-1.762852</td>\n",
       "    </tr>\n",
       "  </tbody>\n",
       "</table>\n",
       "<p>83521 rows × 1 columns</p>\n",
       "</div>"
      ],
      "text/plain": [
       "                            A\n",
       "2013-01-01 00:00:00  0.079441\n",
       "2013-01-01 00:01:00  0.721777\n",
       "2013-01-01 00:02:00 -1.689105\n",
       "2013-01-01 00:03:00 -0.654599\n",
       "2013-01-01 00:04:00  1.565731\n",
       "2013-01-01 00:05:00  0.057849\n",
       "2013-01-01 00:06:00 -1.251077\n",
       "2013-01-01 00:07:00 -1.847490\n",
       "2013-01-01 00:08:00 -0.482529\n",
       "2013-01-01 00:09:00  0.887641\n",
       "2013-01-01 00:10:00  0.842893\n",
       "2013-01-01 00:11:00  1.486522\n",
       "2013-01-01 00:12:00  0.534232\n",
       "2013-01-01 00:13:00  0.136311\n",
       "2013-01-01 00:14:00  0.880986\n",
       "2013-01-01 00:15:00  0.573338\n",
       "2013-01-01 00:16:00  0.393284\n",
       "2013-01-01 00:17:00  0.306055\n",
       "2013-01-01 00:18:00 -1.418666\n",
       "2013-01-01 00:19:00 -1.167417\n",
       "2013-01-01 00:20:00  1.512655\n",
       "2013-01-01 00:21:00 -0.276900\n",
       "2013-01-01 00:22:00  0.435589\n",
       "2013-01-01 00:23:00 -1.116349\n",
       "2013-01-01 00:24:00  1.318419\n",
       "2013-01-01 00:25:00 -0.050920\n",
       "2013-01-01 00:26:00  0.139904\n",
       "2013-01-01 00:27:00 -0.409798\n",
       "2013-01-01 00:28:00 -0.810062\n",
       "2013-01-01 00:29:00 -1.397648\n",
       "...                       ...\n",
       "2013-02-27 23:31:00  2.412168\n",
       "2013-02-27 23:32:00 -0.891404\n",
       "2013-02-27 23:33:00  0.577728\n",
       "2013-02-27 23:34:00  0.134287\n",
       "2013-02-27 23:35:00  0.982891\n",
       "2013-02-27 23:36:00 -0.431334\n",
       "2013-02-27 23:37:00 -0.494643\n",
       "2013-02-27 23:38:00  0.581927\n",
       "2013-02-27 23:39:00  1.681518\n",
       "2013-02-27 23:40:00 -1.864365\n",
       "2013-02-27 23:41:00 -0.766711\n",
       "2013-02-27 23:42:00 -0.690231\n",
       "2013-02-27 23:43:00 -0.500341\n",
       "2013-02-27 23:44:00 -0.490097\n",
       "2013-02-27 23:45:00  0.722404\n",
       "2013-02-27 23:46:00  1.590524\n",
       "2013-02-27 23:47:00  0.419746\n",
       "2013-02-27 23:48:00 -1.315715\n",
       "2013-02-27 23:49:00  0.258727\n",
       "2013-02-27 23:50:00  0.411348\n",
       "2013-02-27 23:51:00  1.052283\n",
       "2013-02-27 23:52:00 -0.760497\n",
       "2013-02-27 23:53:00  1.650354\n",
       "2013-02-27 23:54:00 -1.593207\n",
       "2013-02-27 23:55:00 -1.942639\n",
       "2013-02-27 23:56:00  1.150584\n",
       "2013-02-27 23:57:00 -1.892486\n",
       "2013-02-27 23:58:00 -0.384465\n",
       "2013-02-27 23:59:00  0.114008\n",
       "2013-02-28 00:00:00 -1.762852\n",
       "\n",
       "[83521 rows x 1 columns]"
      ]
     },
     "execution_count": 162,
     "metadata": {},
     "output_type": "execute_result"
    }
   ],
   "source": [
    "dft['2013-1':'2013-2-28 00:00:00']"
   ]
  },
  {
   "cell_type": "code",
   "execution_count": 163,
   "metadata": {
    "collapsed": false
   },
   "outputs": [
    {
     "data": {
      "text/html": [
       "<div>\n",
       "<table border=\"1\" class=\"dataframe\">\n",
       "  <thead>\n",
       "    <tr style=\"text-align: right;\">\n",
       "      <th></th>\n",
       "      <th>A</th>\n",
       "    </tr>\n",
       "  </thead>\n",
       "  <tbody>\n",
       "    <tr>\n",
       "      <th>2013-01-15 00:00:00</th>\n",
       "      <td>2.401853</td>\n",
       "    </tr>\n",
       "    <tr>\n",
       "      <th>2013-01-15 00:01:00</th>\n",
       "      <td>1.258319</td>\n",
       "    </tr>\n",
       "    <tr>\n",
       "      <th>2013-01-15 00:02:00</th>\n",
       "      <td>-1.609550</td>\n",
       "    </tr>\n",
       "    <tr>\n",
       "      <th>2013-01-15 00:03:00</th>\n",
       "      <td>-0.796193</td>\n",
       "    </tr>\n",
       "    <tr>\n",
       "      <th>2013-01-15 00:04:00</th>\n",
       "      <td>0.165148</td>\n",
       "    </tr>\n",
       "    <tr>\n",
       "      <th>2013-01-15 00:05:00</th>\n",
       "      <td>-0.164467</td>\n",
       "    </tr>\n",
       "    <tr>\n",
       "      <th>2013-01-15 00:06:00</th>\n",
       "      <td>0.291226</td>\n",
       "    </tr>\n",
       "    <tr>\n",
       "      <th>2013-01-15 00:07:00</th>\n",
       "      <td>1.254545</td>\n",
       "    </tr>\n",
       "    <tr>\n",
       "      <th>2013-01-15 00:08:00</th>\n",
       "      <td>-0.870891</td>\n",
       "    </tr>\n",
       "    <tr>\n",
       "      <th>2013-01-15 00:09:00</th>\n",
       "      <td>-1.015590</td>\n",
       "    </tr>\n",
       "    <tr>\n",
       "      <th>2013-01-15 00:10:00</th>\n",
       "      <td>0.540074</td>\n",
       "    </tr>\n",
       "    <tr>\n",
       "      <th>2013-01-15 00:11:00</th>\n",
       "      <td>1.709872</td>\n",
       "    </tr>\n",
       "    <tr>\n",
       "      <th>2013-01-15 00:12:00</th>\n",
       "      <td>-2.096910</td>\n",
       "    </tr>\n",
       "    <tr>\n",
       "      <th>2013-01-15 00:13:00</th>\n",
       "      <td>-0.448315</td>\n",
       "    </tr>\n",
       "    <tr>\n",
       "      <th>2013-01-15 00:14:00</th>\n",
       "      <td>0.215880</td>\n",
       "    </tr>\n",
       "    <tr>\n",
       "      <th>2013-01-15 00:15:00</th>\n",
       "      <td>-0.895106</td>\n",
       "    </tr>\n",
       "    <tr>\n",
       "      <th>2013-01-15 00:16:00</th>\n",
       "      <td>0.624003</td>\n",
       "    </tr>\n",
       "    <tr>\n",
       "      <th>2013-01-15 00:17:00</th>\n",
       "      <td>-0.714755</td>\n",
       "    </tr>\n",
       "    <tr>\n",
       "      <th>2013-01-15 00:18:00</th>\n",
       "      <td>1.192028</td>\n",
       "    </tr>\n",
       "    <tr>\n",
       "      <th>2013-01-15 00:19:00</th>\n",
       "      <td>0.562731</td>\n",
       "    </tr>\n",
       "    <tr>\n",
       "      <th>2013-01-15 00:20:00</th>\n",
       "      <td>0.062772</td>\n",
       "    </tr>\n",
       "    <tr>\n",
       "      <th>2013-01-15 00:21:00</th>\n",
       "      <td>0.740178</td>\n",
       "    </tr>\n",
       "    <tr>\n",
       "      <th>2013-01-15 00:22:00</th>\n",
       "      <td>-0.809754</td>\n",
       "    </tr>\n",
       "    <tr>\n",
       "      <th>2013-01-15 00:23:00</th>\n",
       "      <td>0.563011</td>\n",
       "    </tr>\n",
       "    <tr>\n",
       "      <th>2013-01-15 00:24:00</th>\n",
       "      <td>1.441658</td>\n",
       "    </tr>\n",
       "    <tr>\n",
       "      <th>2013-01-15 00:25:00</th>\n",
       "      <td>1.422975</td>\n",
       "    </tr>\n",
       "    <tr>\n",
       "      <th>2013-01-15 00:26:00</th>\n",
       "      <td>0.536919</td>\n",
       "    </tr>\n",
       "    <tr>\n",
       "      <th>2013-01-15 00:27:00</th>\n",
       "      <td>0.356849</td>\n",
       "    </tr>\n",
       "    <tr>\n",
       "      <th>2013-01-15 00:28:00</th>\n",
       "      <td>0.610214</td>\n",
       "    </tr>\n",
       "    <tr>\n",
       "      <th>2013-01-15 00:29:00</th>\n",
       "      <td>-0.706222</td>\n",
       "    </tr>\n",
       "    <tr>\n",
       "      <th>...</th>\n",
       "      <td>...</td>\n",
       "    </tr>\n",
       "    <tr>\n",
       "      <th>2013-01-15 12:01:00</th>\n",
       "      <td>0.068028</td>\n",
       "    </tr>\n",
       "    <tr>\n",
       "      <th>2013-01-15 12:02:00</th>\n",
       "      <td>1.911774</td>\n",
       "    </tr>\n",
       "    <tr>\n",
       "      <th>2013-01-15 12:03:00</th>\n",
       "      <td>-0.248778</td>\n",
       "    </tr>\n",
       "    <tr>\n",
       "      <th>2013-01-15 12:04:00</th>\n",
       "      <td>0.051260</td>\n",
       "    </tr>\n",
       "    <tr>\n",
       "      <th>2013-01-15 12:05:00</th>\n",
       "      <td>-0.542874</td>\n",
       "    </tr>\n",
       "    <tr>\n",
       "      <th>2013-01-15 12:06:00</th>\n",
       "      <td>0.136434</td>\n",
       "    </tr>\n",
       "    <tr>\n",
       "      <th>2013-01-15 12:07:00</th>\n",
       "      <td>0.422568</td>\n",
       "    </tr>\n",
       "    <tr>\n",
       "      <th>2013-01-15 12:08:00</th>\n",
       "      <td>0.592020</td>\n",
       "    </tr>\n",
       "    <tr>\n",
       "      <th>2013-01-15 12:09:00</th>\n",
       "      <td>1.220691</td>\n",
       "    </tr>\n",
       "    <tr>\n",
       "      <th>2013-01-15 12:10:00</th>\n",
       "      <td>3.598068</td>\n",
       "    </tr>\n",
       "    <tr>\n",
       "      <th>2013-01-15 12:11:00</th>\n",
       "      <td>0.849319</td>\n",
       "    </tr>\n",
       "    <tr>\n",
       "      <th>2013-01-15 12:12:00</th>\n",
       "      <td>-0.167612</td>\n",
       "    </tr>\n",
       "    <tr>\n",
       "      <th>2013-01-15 12:13:00</th>\n",
       "      <td>-0.252375</td>\n",
       "    </tr>\n",
       "    <tr>\n",
       "      <th>2013-01-15 12:14:00</th>\n",
       "      <td>-0.355260</td>\n",
       "    </tr>\n",
       "    <tr>\n",
       "      <th>2013-01-15 12:15:00</th>\n",
       "      <td>0.096315</td>\n",
       "    </tr>\n",
       "    <tr>\n",
       "      <th>2013-01-15 12:16:00</th>\n",
       "      <td>-0.941936</td>\n",
       "    </tr>\n",
       "    <tr>\n",
       "      <th>2013-01-15 12:17:00</th>\n",
       "      <td>-0.364838</td>\n",
       "    </tr>\n",
       "    <tr>\n",
       "      <th>2013-01-15 12:18:00</th>\n",
       "      <td>0.089245</td>\n",
       "    </tr>\n",
       "    <tr>\n",
       "      <th>2013-01-15 12:19:00</th>\n",
       "      <td>0.975129</td>\n",
       "    </tr>\n",
       "    <tr>\n",
       "      <th>2013-01-15 12:20:00</th>\n",
       "      <td>-0.109775</td>\n",
       "    </tr>\n",
       "    <tr>\n",
       "      <th>2013-01-15 12:21:00</th>\n",
       "      <td>0.445010</td>\n",
       "    </tr>\n",
       "    <tr>\n",
       "      <th>2013-01-15 12:22:00</th>\n",
       "      <td>0.718130</td>\n",
       "    </tr>\n",
       "    <tr>\n",
       "      <th>2013-01-15 12:23:00</th>\n",
       "      <td>-0.315317</td>\n",
       "    </tr>\n",
       "    <tr>\n",
       "      <th>2013-01-15 12:24:00</th>\n",
       "      <td>0.596127</td>\n",
       "    </tr>\n",
       "    <tr>\n",
       "      <th>2013-01-15 12:25:00</th>\n",
       "      <td>0.298900</td>\n",
       "    </tr>\n",
       "    <tr>\n",
       "      <th>2013-01-15 12:26:00</th>\n",
       "      <td>0.642918</td>\n",
       "    </tr>\n",
       "    <tr>\n",
       "      <th>2013-01-15 12:27:00</th>\n",
       "      <td>-0.363162</td>\n",
       "    </tr>\n",
       "    <tr>\n",
       "      <th>2013-01-15 12:28:00</th>\n",
       "      <td>0.039654</td>\n",
       "    </tr>\n",
       "    <tr>\n",
       "      <th>2013-01-15 12:29:00</th>\n",
       "      <td>-2.213174</td>\n",
       "    </tr>\n",
       "    <tr>\n",
       "      <th>2013-01-15 12:30:00</th>\n",
       "      <td>-0.519678</td>\n",
       "    </tr>\n",
       "  </tbody>\n",
       "</table>\n",
       "<p>751 rows × 1 columns</p>\n",
       "</div>"
      ],
      "text/plain": [
       "                            A\n",
       "2013-01-15 00:00:00  2.401853\n",
       "2013-01-15 00:01:00  1.258319\n",
       "2013-01-15 00:02:00 -1.609550\n",
       "2013-01-15 00:03:00 -0.796193\n",
       "2013-01-15 00:04:00  0.165148\n",
       "2013-01-15 00:05:00 -0.164467\n",
       "2013-01-15 00:06:00  0.291226\n",
       "2013-01-15 00:07:00  1.254545\n",
       "2013-01-15 00:08:00 -0.870891\n",
       "2013-01-15 00:09:00 -1.015590\n",
       "2013-01-15 00:10:00  0.540074\n",
       "2013-01-15 00:11:00  1.709872\n",
       "2013-01-15 00:12:00 -2.096910\n",
       "2013-01-15 00:13:00 -0.448315\n",
       "2013-01-15 00:14:00  0.215880\n",
       "2013-01-15 00:15:00 -0.895106\n",
       "2013-01-15 00:16:00  0.624003\n",
       "2013-01-15 00:17:00 -0.714755\n",
       "2013-01-15 00:18:00  1.192028\n",
       "2013-01-15 00:19:00  0.562731\n",
       "2013-01-15 00:20:00  0.062772\n",
       "2013-01-15 00:21:00  0.740178\n",
       "2013-01-15 00:22:00 -0.809754\n",
       "2013-01-15 00:23:00  0.563011\n",
       "2013-01-15 00:24:00  1.441658\n",
       "2013-01-15 00:25:00  1.422975\n",
       "2013-01-15 00:26:00  0.536919\n",
       "2013-01-15 00:27:00  0.356849\n",
       "2013-01-15 00:28:00  0.610214\n",
       "2013-01-15 00:29:00 -0.706222\n",
       "...                       ...\n",
       "2013-01-15 12:01:00  0.068028\n",
       "2013-01-15 12:02:00  1.911774\n",
       "2013-01-15 12:03:00 -0.248778\n",
       "2013-01-15 12:04:00  0.051260\n",
       "2013-01-15 12:05:00 -0.542874\n",
       "2013-01-15 12:06:00  0.136434\n",
       "2013-01-15 12:07:00  0.422568\n",
       "2013-01-15 12:08:00  0.592020\n",
       "2013-01-15 12:09:00  1.220691\n",
       "2013-01-15 12:10:00  3.598068\n",
       "2013-01-15 12:11:00  0.849319\n",
       "2013-01-15 12:12:00 -0.167612\n",
       "2013-01-15 12:13:00 -0.252375\n",
       "2013-01-15 12:14:00 -0.355260\n",
       "2013-01-15 12:15:00  0.096315\n",
       "2013-01-15 12:16:00 -0.941936\n",
       "2013-01-15 12:17:00 -0.364838\n",
       "2013-01-15 12:18:00  0.089245\n",
       "2013-01-15 12:19:00  0.975129\n",
       "2013-01-15 12:20:00 -0.109775\n",
       "2013-01-15 12:21:00  0.445010\n",
       "2013-01-15 12:22:00  0.718130\n",
       "2013-01-15 12:23:00 -0.315317\n",
       "2013-01-15 12:24:00  0.596127\n",
       "2013-01-15 12:25:00  0.298900\n",
       "2013-01-15 12:26:00  0.642918\n",
       "2013-01-15 12:27:00 -0.363162\n",
       "2013-01-15 12:28:00  0.039654\n",
       "2013-01-15 12:29:00 -2.213174\n",
       "2013-01-15 12:30:00 -0.519678\n",
       "\n",
       "[751 rows x 1 columns]"
      ]
     },
     "execution_count": 163,
     "metadata": {},
     "output_type": "execute_result"
    }
   ],
   "source": [
    "dft['2013-1-15':'2013-1-15 12:30:00']"
   ]
  },
  {
   "cell_type": "code",
   "execution_count": 164,
   "metadata": {
    "collapsed": false
   },
   "outputs": [
    {
     "data": {
      "text/plain": [
       "A   -0.519678\n",
       "Name: 2013-01-15 12:30:00, dtype: float64"
      ]
     },
     "execution_count": 164,
     "metadata": {},
     "output_type": "execute_result"
    }
   ],
   "source": [
    "dft.loc['2013-1-15 12:30:00']"
   ]
  },
  {
   "cell_type": "code",
   "execution_count": 165,
   "metadata": {
    "collapsed": true
   },
   "outputs": [],
   "source": [
    "#5、常用时间\n",
    "#类别 解释\n",
    "#year 年 month 月 day 日  hour 时 minute 分钟 second 秒 microsecond 微秒 nanosecond 纳秒\n",
    "#date 返回日期  time 返回时间  dayofyear 年序日  weekofyear 年序周  week 周  dayofweek 周中的第几天，Monday=0, Sunday=6\n",
    "#weekday 周中的第几天，Monday=0, Sunday=6  weekday_name 周中的星期几，ex: Friday  quarter 季度\n",
    "#days_in_month 一个月中有多少天  is_month_start 是否月初第一天  is_month_end 是否月末最后一天\n",
    "#is_quarter_start 是否季度的最开始  is_quarter_end 是否季度的最后一个  is_year_start 是否年初第一天  is_year_end 是否年末第一天\n",
    "\n",
    "#6、某一时间点，往前往后加一段时间\n",
    "#类别 解释\n",
    "#BDay 工作日  CDay 自定义日期   Week 周  WeekOfMonth 月中的第几周  LastWeekOfMonth 月中的最后一周  MonthEnd 日历上月末\n",
    "#MonthBegin 日历上月初  BMonthEnd 工作月初  BMonthBegin 月开始营业  CBMonthEnd 自定义月末  CBMonthBegin 自定义月初\n",
    "#QuarterEnd 日历季末  QuarterBegin 日历季初  BQuarterEnd 工作季末  BQuarterBegin 工作季初  FY5253Quarter retail (aka 52-53 week) quarter\n",
    "#YearEnd 日历年末  YearBegin 日历年初  BYearEnd 工作年末  BYearBegin 工作年初  FY5253 retail (aka 52-53 week) year\n",
    "#BusinessHour 工作小时  CustomBusinessHour 自定义小时  Hour 小时  Minute 分钟  Second 秒\n"
   ]
  },
  {
   "cell_type": "code",
   "execution_count": 166,
   "metadata": {
    "collapsed": true
   },
   "outputs": [],
   "source": [
    "d = pd.datetime(2008, 8, 18, 9, 0)"
   ]
  },
  {
   "cell_type": "code",
   "execution_count": 167,
   "metadata": {
    "collapsed": false
   },
   "outputs": [
    {
     "data": {
      "text/plain": [
       "Timestamp('2008-12-23 09:00:00')"
      ]
     },
     "execution_count": 167,
     "metadata": {},
     "output_type": "execute_result"
    }
   ],
   "source": [
    "from pandas.tseries.offsets import *\n",
    "d + DateOffset(months=4, days=5)"
   ]
  },
  {
   "cell_type": "code",
   "execution_count": 168,
   "metadata": {
    "collapsed": false
   },
   "outputs": [
    {
     "data": {
      "text/plain": [
       "Timestamp('2008-08-11 09:00:00')"
      ]
     },
     "execution_count": 168,
     "metadata": {},
     "output_type": "execute_result"
    }
   ],
   "source": [
    "d - 5 * BDay()"
   ]
  },
  {
   "cell_type": "code",
   "execution_count": 169,
   "metadata": {
    "collapsed": false
   },
   "outputs": [
    {
     "data": {
      "text/plain": [
       "Timestamp('2008-08-29 09:00:00')"
      ]
     },
     "execution_count": 169,
     "metadata": {},
     "output_type": "execute_result"
    }
   ],
   "source": [
    "#月末\n",
    "d + BMonthEnd()\n"
   ]
  },
  {
   "cell_type": "code",
   "execution_count": 170,
   "metadata": {
    "collapsed": false
   },
   "outputs": [
    {
     "data": {
      "text/plain": [
       "datetime.datetime(2008, 8, 18, 9, 0)"
      ]
     },
     "execution_count": 170,
     "metadata": {},
     "output_type": "execute_result"
    }
   ],
   "source": [
    "d"
   ]
  },
  {
   "cell_type": "code",
   "execution_count": 171,
   "metadata": {
    "collapsed": false
   },
   "outputs": [
    {
     "data": {
      "text/plain": [
       "<BusinessMonthEnd>"
      ]
     },
     "execution_count": 171,
     "metadata": {},
     "output_type": "execute_result"
    }
   ],
   "source": [
    "#往前数月末\n",
    "offset = BMonthEnd()\n",
    "offset"
   ]
  },
  {
   "cell_type": "code",
   "execution_count": 172,
   "metadata": {
    "collapsed": false
   },
   "outputs": [
    {
     "data": {
      "text/plain": [
       "<BusinessMonthEnd>"
      ]
     },
     "execution_count": 172,
     "metadata": {},
     "output_type": "execute_result"
    }
   ],
   "source": [
    "offset.rollforward(d)\n",
    "offset"
   ]
  },
  {
   "cell_type": "code",
   "execution_count": 173,
   "metadata": {
    "collapsed": false
   },
   "outputs": [
    {
     "data": {
      "text/plain": [
       "<BusinessMonthEnd>"
      ]
     },
     "execution_count": 173,
     "metadata": {},
     "output_type": "execute_result"
    }
   ],
   "source": [
    "#往后数月末\n",
    "offset.rollback(d)\n",
    "offset"
   ]
  },
  {
   "cell_type": "code",
   "execution_count": 174,
   "metadata": {
    "collapsed": false
   },
   "outputs": [
    {
     "data": {
      "text/plain": [
       "<Day>"
      ]
     },
     "execution_count": 174,
     "metadata": {},
     "output_type": "execute_result"
    }
   ],
   "source": [
    "#时间方面的\n",
    "day = Day()\n",
    "day"
   ]
  },
  {
   "cell_type": "code",
   "execution_count": 175,
   "metadata": {
    "collapsed": false
   },
   "outputs": [
    {
     "data": {
      "text/plain": [
       "Timestamp('2014-01-02 09:00:00')"
      ]
     },
     "execution_count": 175,
     "metadata": {},
     "output_type": "execute_result"
    }
   ],
   "source": [
    "day.apply(pd.Timestamp('2014-01-01 09:00'))"
   ]
  },
  {
   "cell_type": "code",
   "execution_count": 176,
   "metadata": {
    "collapsed": false
   },
   "outputs": [
    {
     "data": {
      "text/plain": [
       "Timestamp('2014-01-02 00:00:00')"
      ]
     },
     "execution_count": 176,
     "metadata": {},
     "output_type": "execute_result"
    }
   ],
   "source": [
    "day = Day(normalize=True)\n",
    "day.apply(pd.Timestamp('2014-01-01 09:00'))\n"
   ]
  },
  {
   "cell_type": "code",
   "execution_count": 177,
   "metadata": {
    "collapsed": true
   },
   "outputs": [],
   "source": [
    "hour = Hour()"
   ]
  },
  {
   "cell_type": "code",
   "execution_count": 178,
   "metadata": {
    "collapsed": false
   },
   "outputs": [
    {
     "data": {
      "text/plain": [
       "Timestamp('2014-01-01 23:00:00')"
      ]
     },
     "execution_count": 178,
     "metadata": {},
     "output_type": "execute_result"
    }
   ],
   "source": [
    "hour.apply(pd.Timestamp('2014-01-01 22:00'))"
   ]
  },
  {
   "cell_type": "code",
   "execution_count": 179,
   "metadata": {
    "collapsed": true
   },
   "outputs": [],
   "source": [
    "hour = Hour(normalize=True)\n"
   ]
  },
  {
   "cell_type": "code",
   "execution_count": 180,
   "metadata": {
    "collapsed": false
   },
   "outputs": [
    {
     "data": {
      "text/plain": [
       "Timestamp('2014-01-01 00:00:00')"
      ]
     },
     "execution_count": 180,
     "metadata": {},
     "output_type": "execute_result"
    }
   ],
   "source": [
    "hour.apply(pd.Timestamp('2014-01-01 22:00'))"
   ]
  },
  {
   "cell_type": "code",
   "execution_count": 181,
   "metadata": {
    "collapsed": false
   },
   "outputs": [
    {
     "data": {
      "text/plain": [
       "Timestamp('2014-01-02 00:00:00')"
      ]
     },
     "execution_count": 181,
     "metadata": {},
     "output_type": "execute_result"
    }
   ],
   "source": [
    "hour.apply(pd.Timestamp('2014-01-01 23:00'))"
   ]
  },
  {
   "cell_type": "code",
   "execution_count": 182,
   "metadata": {
    "collapsed": false
   },
   "outputs": [
    {
     "data": {
      "text/plain": [
       "datetime.datetime(2008, 8, 18, 9, 0)"
      ]
     },
     "execution_count": 182,
     "metadata": {},
     "output_type": "execute_result"
    }
   ],
   "source": [
    "#周相关的\n",
    "d"
   ]
  },
  {
   "cell_type": "code",
   "execution_count": 183,
   "metadata": {
    "collapsed": false
   },
   "outputs": [
    {
     "data": {
      "text/plain": [
       "Timestamp('2008-08-25 09:00:00')"
      ]
     },
     "execution_count": 183,
     "metadata": {},
     "output_type": "execute_result"
    }
   ],
   "source": [
    "d + Week()"
   ]
  },
  {
   "cell_type": "code",
   "execution_count": 184,
   "metadata": {
    "collapsed": false
   },
   "outputs": [
    {
     "data": {
      "text/plain": [
       "Timestamp('2008-08-22 09:00:00')"
      ]
     },
     "execution_count": 184,
     "metadata": {},
     "output_type": "execute_result"
    }
   ],
   "source": [
    "d + Week(weekday=4)"
   ]
  },
  {
   "cell_type": "code",
   "execution_count": 185,
   "metadata": {
    "collapsed": false
   },
   "outputs": [
    {
     "data": {
      "text/plain": [
       "4"
      ]
     },
     "execution_count": 185,
     "metadata": {},
     "output_type": "execute_result"
    }
   ],
   "source": [
    "(d + Week(weekday=4)).weekday()"
   ]
  },
  {
   "cell_type": "code",
   "execution_count": 186,
   "metadata": {
    "collapsed": false
   },
   "outputs": [
    {
     "data": {
      "text/plain": [
       "Timestamp('2008-08-11 09:00:00')"
      ]
     },
     "execution_count": 186,
     "metadata": {},
     "output_type": "execute_result"
    }
   ],
   "source": [
    "d - Week()"
   ]
  },
  {
   "cell_type": "code",
   "execution_count": 187,
   "metadata": {
    "collapsed": false
   },
   "outputs": [
    {
     "data": {
      "text/plain": [
       "2011-01-31         NaN\n",
       "2011-02-28   -1.270872\n",
       "2011-03-31    1.020153\n",
       "2011-04-29   -1.428006\n",
       "2011-05-31    0.757391\n",
       "Freq: BM, dtype: float64"
      ]
     },
     "execution_count": 187,
     "metadata": {},
     "output_type": "execute_result"
    }
   ],
   "source": [
    "#7、时间序列相关的时间处理\n",
    "\n",
    "ts = ts[:5]\n",
    "\n",
    "ts.shift(1)\n"
   ]
  },
  {
   "cell_type": "code",
   "execution_count": 188,
   "metadata": {
    "collapsed": false
   },
   "outputs": [
    {
     "data": {
      "text/plain": [
       "2011-02-07   -1.270872\n",
       "2011-03-07    1.020153\n",
       "2011-04-07   -1.428006\n",
       "2011-05-06    0.757391\n",
       "2011-06-07   -1.016762\n",
       "dtype: float64"
      ]
     },
     "execution_count": 188,
     "metadata": {},
     "output_type": "execute_result"
    }
   ],
   "source": [
    "from pandas import datetools\n",
    "ts.shift(5, freq=datetools.bday)"
   ]
  },
  {
   "cell_type": "code",
   "execution_count": 189,
   "metadata": {
    "collapsed": false
   },
   "outputs": [
    {
     "data": {
      "text/plain": [
       "2011-06-30   -1.270872\n",
       "2011-07-29    1.020153\n",
       "2011-08-31   -1.428006\n",
       "2011-09-30    0.757391\n",
       "2011-10-31   -1.016762\n",
       "Freq: BM, dtype: float64"
      ]
     },
     "execution_count": 189,
     "metadata": {},
     "output_type": "execute_result"
    }
   ],
   "source": [
    "ts.shift(5, freq='BM')"
   ]
  },
  {
   "cell_type": "code",
   "execution_count": 190,
   "metadata": {
    "collapsed": false
   },
   "outputs": [
    {
     "data": {
      "text/plain": [
       "2011-02-05   -1.270872\n",
       "2011-03-05    1.020153\n",
       "2011-04-05   -1.428006\n",
       "2011-05-04    0.757391\n",
       "2011-06-05   -1.016762\n",
       "dtype: float64"
      ]
     },
     "execution_count": 190,
     "metadata": {},
     "output_type": "execute_result"
    }
   ],
   "source": [
    "ts.tshift(5, freq='D')"
   ]
  },
  {
   "cell_type": "code",
   "execution_count": 191,
   "metadata": {
    "collapsed": true
   },
   "outputs": [],
   "source": [
    "#END"
   ]
  },
  {
   "cell_type": "code",
   "execution_count": null,
   "metadata": {
    "collapsed": true
   },
   "outputs": [],
   "source": []
  },
  {
   "cell_type": "code",
   "execution_count": null,
   "metadata": {
    "collapsed": true
   },
   "outputs": [],
   "source": []
  }
 ],
 "metadata": {
  "anaconda-cloud": {},
  "kernelspec": {
   "display_name": "Python [Root]",
   "language": "python",
   "name": "Python [Root]"
  },
  "language_info": {
   "codemirror_mode": {
    "name": "ipython",
    "version": 2
   },
   "file_extension": ".py",
   "mimetype": "text/x-python",
   "name": "python",
   "nbconvert_exporter": "python",
   "pygments_lexer": "ipython2",
   "version": "2.7.12"
  }
 },
 "nbformat": 4,
 "nbformat_minor": 2
}
