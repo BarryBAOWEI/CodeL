{
 "cells": [
  {
   "cell_type": "code",
   "execution_count": 10,
   "metadata": {
    "collapsed": false
   },
   "outputs": [],
   "source": [
    "#创建dataframe\n",
    "import pandas as pd\n",
    "import numpy as np\n",
    "obj_dict={'a':[1,2],'b':[2,3],'c':[3,4],'d':[4,5]}\n",
    "obj_array=np.array([[1,2,3,4],[3,4,5,6]])\n",
    "obj_series_1=pd.Series([11,12,13,14])\n",
    "obj_series_2=pd.Series([21,22,23,24])"
   ]
  },
  {
   "cell_type": "code",
   "execution_count": 11,
   "metadata": {
    "collapsed": true
   },
   "outputs": [],
   "source": [
    "obj_dataframe_dict=pd.DataFrame(obj_dict)#通过字典创建dataframe\n",
    "obj_dataframe_array=pd.DataFrame(obj_array,index=['one','two'])#通过矩阵创建dataframe\n",
    "obj_dataframe_series=pd.DataFrame([obj_series_1,obj_series_2])#通过series创建dataframe\n",
    "\n",
    "obj_dataframe_dataframe=pd.DataFrame(obj_dataframe_series,index=[0,1,'one'],columns=[0,1,2,'a'])#通过其他dataframe创建dataframe\n"
   ]
  },
  {
   "cell_type": "code",
   "execution_count": 12,
   "metadata": {
    "collapsed": false
   },
   "outputs": [
    {
     "name": "stdout",
     "output_type": "stream",
     "text": [
      "#通过字典创建dataframe\n",
      "   a  b  c  d\n",
      "0  1  2  3  4\n",
      "1  2  3  4  5\n"
     ]
    }
   ],
   "source": [
    "print \"#通过字典创建dataframe\"\n",
    "print obj_dataframe_dict"
   ]
  },
  {
   "cell_type": "code",
   "execution_count": 13,
   "metadata": {
    "collapsed": false
   },
   "outputs": [
    {
     "name": "stdout",
     "output_type": "stream",
     "text": [
      "#通过矩阵创建dataframe\n",
      "     0  1  2  3\n",
      "one  1  2  3  4\n",
      "two  3  4  5  6\n"
     ]
    }
   ],
   "source": [
    "print \"#通过矩阵创建dataframe\"\n",
    "print obj_dataframe_array"
   ]
  },
  {
   "cell_type": "code",
   "execution_count": 14,
   "metadata": {
    "collapsed": false
   },
   "outputs": [
    {
     "name": "stdout",
     "output_type": "stream",
     "text": [
      "#通过series创建dataframe\n",
      "    0   1   2   3\n",
      "0  11  12  13  14\n",
      "1  21  22  23  24\n"
     ]
    }
   ],
   "source": [
    "print \"#通过series创建dataframe\"\n",
    "print obj_dataframe_series"
   ]
  },
  {
   "cell_type": "code",
   "execution_count": 15,
   "metadata": {
    "collapsed": false
   },
   "outputs": [
    {
     "name": "stdout",
     "output_type": "stream",
     "text": [
      "#通过其他dataframe创建dataframe\n",
      "        0     1     2   a\n",
      "0    11.0  12.0  13.0 NaN\n",
      "1    21.0  22.0  23.0 NaN\n",
      "one   NaN   NaN   NaN NaN\n"
     ]
    }
   ],
   "source": [
    "\n",
    "print \"#通过其他dataframe创建dataframe\"\n",
    "print obj_dataframe_dataframe"
   ]
  },
  {
   "cell_type": "code",
   "execution_count": 16,
   "metadata": {
    "collapsed": false
   },
   "outputs": [
    {
     "name": "stdout",
     "output_type": "stream",
     "text": [
      "0    float64\n",
      "1    float64\n",
      "2    float64\n",
      "a    float64\n",
      "dtype: object\n"
     ]
    }
   ],
   "source": [
    "#dataframe属性\n",
    "print obj_dataframe_dataframe.dtypes"
   ]
  },
  {
   "cell_type": "code",
   "execution_count": 18,
   "metadata": {
    "collapsed": false
   },
   "outputs": [
    {
     "name": "stdout",
     "output_type": "stream",
     "text": [
      "[[ 11.  12.  13.  nan]\n",
      " [ 21.  22.  23.  nan]\n",
      " [ nan  nan  nan  nan]]\n"
     ]
    }
   ],
   "source": [
    "print obj_dataframe_dataframe.values"
   ]
  },
  {
   "cell_type": "code",
   "execution_count": 19,
   "metadata": {
    "collapsed": false
   },
   "outputs": [
    {
     "name": "stdout",
     "output_type": "stream",
     "text": [
      "Index([0, 1, 2, u'a'], dtype='object')\n"
     ]
    }
   ],
   "source": [
    "print obj_dataframe_dataframe.columns"
   ]
  },
  {
   "cell_type": "code",
   "execution_count": 20,
   "metadata": {
    "collapsed": false
   },
   "outputs": [
    {
     "name": "stdout",
     "output_type": "stream",
     "text": [
      "Index([0, 1, u'one'], dtype='object')\n"
     ]
    }
   ],
   "source": [
    "print obj_dataframe_dataframe.index"
   ]
  },
  {
   "cell_type": "code",
   "execution_count": 6,
   "metadata": {
    "collapsed": false
   },
   "outputs": [],
   "source": [
    "import pandas as pd  \n",
    "import numpy as np  \n",
    "df = pd.DataFrame(np.random.randn(3,4) ,columns=list('abcd'))  "
   ]
  },
  {
   "cell_type": "code",
   "execution_count": 7,
   "metadata": {
    "collapsed": false
   },
   "outputs": [
    {
     "name": "stdout",
     "output_type": "stream",
     "text": [
      "          a         b         c         d\n",
      "0  1.615262 -1.034500 -0.864813 -0.080294\n",
      "1  0.931587  0.890096 -0.165275 -0.319187\n",
      "2  1.009552 -0.235107  0.420049  1.704400\n"
     ]
    }
   ],
   "source": [
    "print df  \n"
   ]
  },
  {
   "cell_type": "code",
   "execution_count": 8,
   "metadata": {
    "collapsed": false
   },
   "outputs": [
    {
     "name": "stdout",
     "output_type": "stream",
     "text": [
      "[[ 1.61526189 -1.0344998  -0.86481341 -0.08029427]\n",
      " [ 0.93158714  0.89009648 -0.1652748  -0.31918749]\n",
      " [ 1.00955223 -0.2351073   0.42004935  1.70440016]]\n"
     ]
    }
   ],
   "source": [
    "print df.values  "
   ]
  },
  {
   "cell_type": "code",
   "execution_count": 9,
   "metadata": {
    "collapsed": false
   },
   "outputs": [
    {
     "name": "stdout",
     "output_type": "stream",
     "text": [
      "[[ 1.61526189 -1.0344998  -0.86481341 -0.08029427]\n",
      " [ 0.93158714  0.89009648 -0.1652748  -0.31918749]\n",
      " [ 1.00955223 -0.2351073   0.42004935  1.70440016]]\n"
     ]
    }
   ],
   "source": [
    "print df.as_matrix(columns=None)  "
   ]
  },
  {
   "cell_type": "code",
   "execution_count": 3,
   "metadata": {
    "collapsed": false
   },
   "outputs": [
    {
     "data": {
      "text/plain": [
       "array([0, 1, 2, 3, 4, 5, 6, 7, 8, 9])"
      ]
     },
     "execution_count": 3,
     "metadata": {},
     "output_type": "execute_result"
    }
   ],
   "source": [
    "import numpy as np\n",
    "a = np.arange(10)\n",
    "a"
   ]
  },
  {
   "cell_type": "code",
   "execution_count": 4,
   "metadata": {
    "collapsed": false
   },
   "outputs": [
    {
     "data": {
      "text/plain": [
       "array([0, 1])"
      ]
     },
     "execution_count": 4,
     "metadata": {},
     "output_type": "execute_result"
    }
   ],
   "source": [
    "a[:2]"
   ]
  },
  {
   "cell_type": "code",
   "execution_count": 5,
   "metadata": {
    "collapsed": true
   },
   "outputs": [],
   "source": [
    "a = [(735355.0,\n",
    "  9611.7900000000009,\n",
    "  9556.0200000000004,\n",
    "  9627.3799999999992,\n",
    "  9533.2999999999993,\n",
    "  88062300.0),\n",
    " (735358.0,\n",
    "  9536.3799999999992,\n",
    "  9529.5,\n",
    "  9548.1700000000001,\n",
    "  9407.0900000000001,\n",
    "  61911600.0)]"
   ]
  },
  {
   "cell_type": "code",
   "execution_count": 6,
   "metadata": {
    "collapsed": false
   },
   "outputs": [
    {
     "data": {
      "text/plain": [
       "[(735355.0, 9611.79, 9556.02, 9627.38, 9533.3, 88062300.0),\n",
       " (735358.0, 9536.38, 9529.5, 9548.17, 9407.09, 61911600.0)]"
      ]
     },
     "execution_count": 6,
     "metadata": {},
     "output_type": "execute_result"
    }
   ],
   "source": [
    "a\n"
   ]
  },
  {
   "cell_type": "code",
   "execution_count": 7,
   "metadata": {
    "collapsed": false
   },
   "outputs": [
    {
     "data": {
      "text/plain": [
       "[(735355.0, 9611.79, 9556.02, 9627.38, 9533.3, 88062300.0),\n",
       " (735358.0, 9536.38, 9529.5, 9548.17, 9407.09, 61911600.0)]"
      ]
     },
     "execution_count": 7,
     "metadata": {},
     "output_type": "execute_result"
    }
   ],
   "source": [
    "a[:2]"
   ]
  },
  {
   "cell_type": "code",
   "execution_count": 2,
   "metadata": {
    "collapsed": false
   },
   "outputs": [
    {
     "data": {
      "text/html": [
       "<div>\n",
       "<table border=\"1\" class=\"dataframe\">\n",
       "  <thead>\n",
       "    <tr style=\"text-align: right;\">\n",
       "      <th></th>\n",
       "      <th>0</th>\n",
       "      <th>1</th>\n",
       "      <th>2</th>\n",
       "    </tr>\n",
       "  </thead>\n",
       "  <tbody>\n",
       "    <tr>\n",
       "      <th>0</th>\n",
       "      <td>1</td>\n",
       "      <td>2</td>\n",
       "      <td>3</td>\n",
       "    </tr>\n",
       "    <tr>\n",
       "      <th>1</th>\n",
       "      <td>4</td>\n",
       "      <td>5</td>\n",
       "      <td>6</td>\n",
       "    </tr>\n",
       "  </tbody>\n",
       "</table>\n",
       "</div>"
      ],
      "text/plain": [
       "   0  1  2\n",
       "0  1  2  3\n",
       "1  4  5  6"
      ]
     },
     "execution_count": 2,
     "metadata": {},
     "output_type": "execute_result"
    }
   ],
   "source": [
    "import pandas as pd\n",
    "data=pd.DataFrame([[1,2,3],[4,5,6]])\n",
    "data"
   ]
  },
  {
   "cell_type": "code",
   "execution_count": 3,
   "metadata": {
    "collapsed": false
   },
   "outputs": [
    {
     "name": "stdout",
     "output_type": "stream",
     "text": [
      "   0  1  2\n",
      "1  4  5  6\n"
     ]
    }
   ],
   "source": [
    "print data.drop(0)"
   ]
  },
  {
   "cell_type": "code",
   "execution_count": 7,
   "metadata": {
    "collapsed": false
   },
   "outputs": [
    {
     "data": {
      "text/html": [
       "<div>\n",
       "<table border=\"1\" class=\"dataframe\">\n",
       "  <thead>\n",
       "    <tr style=\"text-align: right;\">\n",
       "      <th></th>\n",
       "      <th>p1</th>\n",
       "      <th>p2</th>\n",
       "    </tr>\n",
       "  </thead>\n",
       "  <tbody>\n",
       "    <tr>\n",
       "      <th>0</th>\n",
       "      <td>NaN</td>\n",
       "      <td>NaN</td>\n",
       "    </tr>\n",
       "    <tr>\n",
       "      <th>1</th>\n",
       "      <td>SD</td>\n",
       "      <td>SX</td>\n",
       "    </tr>\n",
       "    <tr>\n",
       "      <th>2</th>\n",
       "      <td>HN</td>\n",
       "      <td>HB</td>\n",
       "    </tr>\n",
       "    <tr>\n",
       "      <th>3</th>\n",
       "      <td>HEN</td>\n",
       "      <td>HEN</td>\n",
       "    </tr>\n",
       "    <tr>\n",
       "      <th>4</th>\n",
       "      <td>SH</td>\n",
       "      <td>TJ</td>\n",
       "    </tr>\n",
       "  </tbody>\n",
       "</table>\n",
       "</div>"
      ],
      "text/plain": [
       "    p1   p2\n",
       "0  NaN  NaN\n",
       "1   SD   SX\n",
       "2   HN   HB\n",
       "3  HEN  HEN\n",
       "4   SH   TJ"
      ]
     },
     "execution_count": 7,
     "metadata": {},
     "output_type": "execute_result"
    }
   ],
   "source": [
    "df = pd.DataFrame([['NaN', 'NaN'], \n",
    "                   ['SD', 'SX'],\n",
    "                   ['HN', 'HB'], \n",
    "                   ['HEN', 'HEN'], \n",
    "                   ['SH', 'TJ']], columns=['p1', 'p2'])\n",
    "df"
   ]
  },
  {
   "cell_type": "code",
   "execution_count": 11,
   "metadata": {
    "collapsed": false
   },
   "outputs": [
    {
     "data": {
      "text/html": [
       "<div>\n",
       "<table border=\"1\" class=\"dataframe\">\n",
       "  <thead>\n",
       "    <tr style=\"text-align: right;\">\n",
       "      <th></th>\n",
       "      <th>p1</th>\n",
       "      <th>p2</th>\n",
       "    </tr>\n",
       "  </thead>\n",
       "  <tbody>\n",
       "    <tr>\n",
       "      <th>1</th>\n",
       "      <td>SD</td>\n",
       "      <td>SX</td>\n",
       "    </tr>\n",
       "    <tr>\n",
       "      <th>2</th>\n",
       "      <td>HN</td>\n",
       "      <td>HB</td>\n",
       "    </tr>\n",
       "    <tr>\n",
       "      <th>3</th>\n",
       "      <td>HEN</td>\n",
       "      <td>HEN</td>\n",
       "    </tr>\n",
       "    <tr>\n",
       "      <th>4</th>\n",
       "      <td>SH</td>\n",
       "      <td>TJ</td>\n",
       "    </tr>\n",
       "  </tbody>\n",
       "</table>\n",
       "</div>"
      ],
      "text/plain": [
       "    p1   p2\n",
       "1   SD   SX\n",
       "2   HN   HB\n",
       "3  HEN  HEN\n",
       "4   SH   TJ"
      ]
     },
     "execution_count": 11,
     "metadata": {},
     "output_type": "execute_result"
    }
   ],
   "source": [
    "ex_list = list(df.p1)\n",
    "ex_list.remove('NaN')\n",
    "ex_list\n",
    "df[df.p1.isin(ex_list)]"
   ]
  },
  {
   "cell_type": "code",
   "execution_count": 10,
   "metadata": {
    "collapsed": false
   },
   "outputs": [
    {
     "data": {
      "text/html": [
       "<div>\n",
       "<table border=\"1\" class=\"dataframe\">\n",
       "  <thead>\n",
       "    <tr style=\"text-align: right;\">\n",
       "      <th></th>\n",
       "      <th>p1</th>\n",
       "      <th>p2</th>\n",
       "    </tr>\n",
       "  </thead>\n",
       "  <tbody>\n",
       "    <tr>\n",
       "      <th>1</th>\n",
       "      <td>SD</td>\n",
       "      <td>SX</td>\n",
       "    </tr>\n",
       "    <tr>\n",
       "      <th>2</th>\n",
       "      <td>HN</td>\n",
       "      <td>HB</td>\n",
       "    </tr>\n",
       "    <tr>\n",
       "      <th>3</th>\n",
       "      <td>HEN</td>\n",
       "      <td>HEN</td>\n",
       "    </tr>\n",
       "    <tr>\n",
       "      <th>4</th>\n",
       "      <td>SH</td>\n",
       "      <td>TJ</td>\n",
       "    </tr>\n",
       "  </tbody>\n",
       "</table>\n",
       "</div>"
      ],
      "text/plain": [
       "    p1   p2\n",
       "1   SD   SX\n",
       "2   HN   HB\n",
       "3  HEN  HEN\n",
       "4   SH   TJ"
      ]
     },
     "execution_count": 10,
     "metadata": {},
     "output_type": "execute_result"
    }
   ],
   "source": []
  },
  {
   "cell_type": "code",
   "execution_count": null,
   "metadata": {
    "collapsed": true
   },
   "outputs": [],
   "source": []
  }
 ],
 "metadata": {
  "anaconda-cloud": {},
  "kernelspec": {
   "display_name": "Python [Root]",
   "language": "python",
   "name": "Python [Root]"
  },
  "language_info": {
   "codemirror_mode": {
    "name": "ipython",
    "version": 2
   },
   "file_extension": ".py",
   "mimetype": "text/x-python",
   "name": "python",
   "nbconvert_exporter": "python",
   "pygments_lexer": "ipython2",
   "version": "2.7.12"
  }
 },
 "nbformat": 4,
 "nbformat_minor": 0
}
