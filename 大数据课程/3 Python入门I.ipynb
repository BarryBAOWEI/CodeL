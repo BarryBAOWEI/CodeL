{
 "cells": [
  {
   "cell_type": "code",
   "execution_count": 4,
   "metadata": {
    "render": true
   },
   "outputs": [
    {
     "data": {
      "text/html": [
       "<h1, align=center> &nbsp;&nbsp;&nbsp;&nbsp;&nbsp;&nbsp;&nbsp;数据科学引论 - Python之道 </h1>\n",
       "<h1, align=center> &nbsp;&nbsp;&nbsp;&nbsp;&nbsp;&nbsp;&nbsp;&nbsp;第3课 Python入门 I </h1>\n"
      ],
      "text/plain": [
       "<IPython.core.display.HTML object>"
      ]
     },
     "metadata": {},
     "output_type": "display_data"
    }
   ],
   "source": [
    "<h1, align=center> &nbsp;&nbsp;&nbsp;&nbsp;&nbsp;&nbsp;&nbsp;数据科学引论 - Python之道 </h1>\n",
    "<h1, align=center> &nbsp;&nbsp;&nbsp;&nbsp;&nbsp;&nbsp;&nbsp;&nbsp;第3课 Python入门 I </h1>"
   ]
  },
  {
   "cell_type": "markdown",
   "metadata": {},
   "source": [
    "<hr>"
   ]
  },
  {
   "cell_type": "code",
   "execution_count": 6,
   "metadata": {},
   "outputs": [
    {
     "data": {
      "text/html": [
       "## 目录\n",
       "<div>\n",
       "[**快速入门**](#快速入门)   \n",
       "[**Python介绍**](#Python介绍)   \n",
       "[**样例数据集**](#样例数据集)   \n",
       "[**Python中的简单数学操作**](#Python中的简单数学操作)  \n",
       "[**Python中的变量**](#Python中的变量)  \n",
       "[**Python列表(list)**](#Python列表(list))  \n",
       "[**元组(Tuple)**](#元组(Tuple)  \n",
       "[**字典(Dictionary)**](#字典(Dictionary)\n",
       "</div>\n",
       "<hr>\n"
      ],
      "text/plain": [
       "<IPython.core.display.HTML object>"
      ]
     },
     "metadata": {},
     "output_type": "display_data"
    }
   ],
   "source": [
    "# 目录\n",
    "<div >\n",
    "[**快速入门**](  # 快速入门)\n",
    "[**Python介绍**](  # Python介绍)\n",
    "[**样例数据集**](  # 样例数据集)\n",
    "[**Python中的简单数学操作**](  # Python中的简单数学操作)\n",
    "[**Python中的变量**](  # Python中的变量)\n",
    "[**Python列表(list)**](  # Python列表(list))\n",
    "[**元组(Tuple)**](  # 元组(Tuple)\n",
    "[**字典(Dictionary)**](  # 字典(Dictionary)\n",
    "< /div >\n",
    "< hr >"
   ]
  },
  {
   "cell_type": "markdown",
   "metadata": {},
   "source": [
    "<hr>"
   ]
  },
  {
   "cell_type": "markdown",
   "metadata": {},
   "source": [
    "<a id=\"Getting-Started\"></a>\n",
    "<h1 align=center>快速入门</h1>"
   ]
  },
  {
   "cell_type": "markdown",
   "metadata": {},
   "source": [
    "#### 想要运行一个代码段（cell），可以使用以下快捷键\n",
    "- *Ctrl+Enter* \n",
    "- *Shift+Enter*"
   ]
  },
  {
   "cell_type": "markdown",
   "metadata": {},
   "source": [
    "### <span style=\"color: red\">轮到你了:</span> "
   ]
  },
  {
   "cell_type": "code",
   "execution_count": null,
   "metadata": {},
   "outputs": [],
   "source": [
    "## RUN THIS CELL:\n",
    "1+1\n"
   ]
  },
  {
   "cell_type": "markdown",
   "metadata": {},
   "source": [
    "<br>\n",
    "<hr>"
   ]
  },
  {
   "cell_type": "markdown",
   "metadata": {},
   "source": [
    "<a id=\"Intro-to-Python\"></a>\n",
    "<h1 align=\"center\">Python介绍</h1>\n",
    "\n",
    "### 为什么使用Python?\n",
    "- 与网页应用和数据库集成性好\n",
    "- 拥有优秀的数据处理包的支持，比如numpy/scipy（科学计算）、pandas（数据处理）、matplotlib（图像处理）、scikit-learn（机器学习）\n",
    "\n"
   ]
  },
  {
   "cell_type": "code",
   "execution_count": null,
   "metadata": {},
   "outputs": [],
   "source": [
    "# python2环境下执行：print \"Welcome to Python Bootcamp!\"\n",
    "print(\"Welcome to Python Bootcamp!\")"
   ]
  },
  {
   "cell_type": "markdown",
   "metadata": {},
   "source": [
    "给变量赋值:\n",
    "- 变量不需要声明，python会自动声明\n",
    "- 等于符号（=）用于赋值"
   ]
  },
  {
   "cell_type": "code",
   "execution_count": null,
   "metadata": {},
   "outputs": [],
   "source": [
    "a = 1\n",
    "b = 2\n",
    "a  # this is a comment"
   ]
  },
  {
   "cell_type": "markdown",
   "metadata": {},
   "source": [
    "你可以删除一个对象，但是之后再使用这个变量的时候就会报错"
   ]
  },
  {
   "cell_type": "code",
   "execution_count": null,
   "metadata": {},
   "outputs": [],
   "source": [
    "del b\n",
    "b"
   ]
  },
  {
   "cell_type": "markdown",
   "metadata": {},
   "source": [
    "### <span style=\"color: red\">轮到你了:</span> \n",
    "把'Hello World!'赋值给一个字符串变量并且输出"
   ]
  },
  {
   "cell_type": "code",
   "execution_count": null,
   "metadata": {},
   "outputs": [],
   "source": [
    "# Your Code Here\n"
   ]
  },
  {
   "cell_type": "markdown",
   "metadata": {},
   "source": [
    "<hr>"
   ]
  },
  {
   "cell_type": "markdown",
   "metadata": {},
   "source": [
    "<h1 align=center><font size = 5>样例数据集</font></h1> "
   ]
  },
  {
   "cell_type": "markdown",
   "metadata": {},
   "source": [
    "让我们通过一个样例数据集（movie dataset）来开始学习python语言"
   ]
  },
  {
   "cell_type": "markdown",
   "metadata": {},
   "source": [
    "你应该听哪张专辑？\n",
    "\n",
    "假设你的朋友告诉了你他们最喜欢的专辑，你对此做了一些研究，然后把它们放入了一张表格。现在，你可以开始挖掘这个数据集，然后提出一些关于专辑和作曲者之间的问题。比如，你可以查看哪些风格的专辑评分较高，或者专辑销量随年份变化的情况。"
   ]
  },
  {
   "cell_type": "markdown",
   "metadata": {},
   "source": [
    "**Movies dataset**\n",
    "\n",
    "数据表格含有如下属性：\n",
    "\n",
    "- **artist** - 艺术家的名字\n",
    "- **album** - 专辑名\n",
    "- **released_year** - 发售年份\n",
    "- **length_min_sec** - 专辑长度\n",
    "- **genre** - 风格\n",
    "- **music_recording_sales_millions** - 音乐唱片销量 (单位为百万) 数据来源 [SONG://DATABASE](http://www.song-database.com/)\n",
    "- **claimed_sales_millions** - 声称的销售 (单位为百万) 数据来源 [SONG://DATABASE](http://www.song-database.com/)\n",
    "- **date_released** - 发售日期\n",
    "- **soundtrack** - 是否是电影原声 (Y) or (N)\n",
    "- **rating_of_friends** - 来自朋友的评分 1 to 10\n",
    "<br>\n"
   ]
  },
  {
   "cell_type": "markdown",
   "metadata": {},
   "source": [
    "<font size=\"1\">\n",
    "<table font-size:xx-small style=\"width:25%\">\n",
    "  <tr>\n",
    "    <th>Artist</th>\n",
    "    <th>Album</th> \n",
    "    <th>Released</th>\n",
    "    <th>Length</th>\n",
    "    <th>Genre</th> \n",
    "    <th>Music recording sales (millions)</th>\n",
    "    <th>Claimed sales (millions)</th>\n",
    "    <th>Released</th>\n",
    "    <th>Soundtrack</th>\n",
    "    <th>Rating (friends)</th>\n",
    "  </tr>\n",
    "  <tr>\n",
    "    <td>Michael Jackson</td>\n",
    "    <td>Thriller</td> \n",
    "    <td>1982</td>\n",
    "    <td>00:42:19</td>\n",
    "    <td>Pop, rock, R&B</td>\n",
    "    <td>46</td>\n",
    "    <td>65</td>\n",
    "    <td>30-Nov-82</td>\n",
    "    <td></td>\n",
    "    <td>10.0</td>\n",
    "  </tr>\n",
    "  <tr>\n",
    "    <td>AC/DC</td>\n",
    "    <td>Back in Black</td> \n",
    "    <td>1980</td>\n",
    "    <td>00:42:11</td>\n",
    "    <td>Hard rock</td>\n",
    "    <td>26.1</td>\n",
    "    <td>50</td>\n",
    "    <td>25-Jul-80</td>\n",
    "    <td></td>\n",
    "    <td>8.5</td>\n",
    "  </tr>\n",
    "    <tr>\n",
    "    <td>Pink Floyd</td>\n",
    "    <td>The Dark Side of the Moon</td> \n",
    "    <td>1973</td>\n",
    "    <td>00:42:49</td>\n",
    "    <td>Progressive rock</td>\n",
    "    <td>24.2</td>\n",
    "    <td>45</td>\n",
    "    <td>01-Mar-73</td>\n",
    "    <td></td>\n",
    "    <td>9.5</td>\n",
    "  </tr>\n",
    "    <tr>\n",
    "    <td>Whitney Houston</td>\n",
    "    <td>The Bodyguard</td> \n",
    "    <td>1992</td>\n",
    "    <td>00:57:44</td>\n",
    "    <td>Soundtrack/R&B, soul, pop</td>\n",
    "    <td>26.1</td>\n",
    "    <td>50</td>\n",
    "    <td>25-Jul-80</td>\n",
    "    <td>Y</td>\n",
    "    <td>7.0</td>\n",
    "  </tr>\n",
    "    <tr>\n",
    "    <td>Meat Loaf</td>\n",
    "    <td>Bat Out of Hell</td> \n",
    "    <td>1977</td>\n",
    "    <td>00:46:33</td>\n",
    "    <td>Hard rock, progressive rock</td>\n",
    "    <td>20.6</td>\n",
    "    <td>43</td>\n",
    "    <td>21-Oct-77</td>\n",
    "    <td></td>\n",
    "    <td>7.0</td>\n",
    "  </tr>\n",
    "    <tr>\n",
    "    <td>Eagles</td>\n",
    "    <td>Their Greatest Hits (1971-1975)</td> \n",
    "    <td>1976</td>\n",
    "    <td>00:43:08</td>\n",
    "    <td>Rock, soft rock, folk rock</td>\n",
    "    <td>32.2</td>\n",
    "    <td>42</td>\n",
    "    <td>17-Feb-76</td>\n",
    "    <td></td>\n",
    "    <td>9.5</td>\n",
    "  </tr>\n",
    "    <tr>\n",
    "    <td>Bee Gees</td>\n",
    "    <td>Saturday Night Fever</td> \n",
    "    <td>1977</td>\n",
    "    <td>1:15:54</td>\n",
    "    <td>Disco</td>\n",
    "    <td>20.6</td>\n",
    "    <td>40</td>\n",
    "    <td>15-Nov-77</td>\n",
    "    <td>Y</td>\n",
    "    <td>9.0</td>\n",
    "  </tr>\n",
    "    <tr>\n",
    "    <td>Fleetwood Mac</td>\n",
    "    <td>Rumours</td> \n",
    "    <td>1977</td>\n",
    "    <td>00:40:01</td>\n",
    "    <td>Soft rock</td>\n",
    "    <td>27.9</td>\n",
    "    <td>40</td>\n",
    "    <td>04-Feb-77</td>\n",
    "    <td></td>\n",
    "    <td>9.5</td>\n",
    "  </tr>\n",
    "</table></font>\n",
    "    "
   ]
  },
  {
   "cell_type": "markdown",
   "metadata": {},
   "source": [
    "### 我们可以使用python对这个数据集做一些挖掘\n",
    "我们先从一些基础的开始！"
   ]
  },
  {
   "cell_type": "markdown",
   "metadata": {},
   "source": [
    "<hr>"
   ]
  },
  {
   "cell_type": "markdown",
   "metadata": {},
   "source": [
    "<a id=\"Simple-Math\"></a>\n",
    "<h2 align=center>Python中的简单数学操作</h2>"
   ]
  },
  {
   "cell_type": "markdown",
   "metadata": {},
   "source": [
    "假设你想听 *Thriller*, *Saturday Night Fever*, *Rumours* . 那么你能在2个小时内听完这三个专辑么？  现在让我们使用一些python中基础的数学操作。  "
   ]
  },
  {
   "cell_type": "markdown",
   "metadata": {},
   "source": [
    "这三个专辑的时长如下\n",
    "- **Thriller**: 42 min 19 sec\n",
    "- **Saturday Night Fever**: 1 hour 15 min 54 sec\n",
    "- **Rumours**: 40 min 1 sec"
   ]
  },
  {
   "cell_type": "markdown",
   "metadata": {},
   "source": [
    "<div class=\"alert alert-success alertsuccess\" style=\"margin-top: 20px\">\n",
    "**[tip]** 想要运行以下灰色的代码，点击选中，然后键盘按shift + enter.\n",
    "</div>"
   ]
  },
  {
   "cell_type": "code",
   "execution_count": null,
   "metadata": {},
   "outputs": [],
   "source": [
    "43 + 60 + 16 + 41"
   ]
  },
  {
   "cell_type": "markdown",
   "metadata": {},
   "source": [
    "太棒了！现在你通过运算得到了总时间为160分钟。"
   ]
  },
  {
   "cell_type": "markdown",
   "metadata": {},
   "source": [
    "**那么160分钟是几个小时呢**"
   ]
  },
  {
   "cell_type": "code",
   "execution_count": null,
   "metadata": {},
   "outputs": [],
   "source": [
    "160.0 / 60.0"
   ]
  },
  {
   "cell_type": "code",
   "execution_count": 2,
   "metadata": {},
   "outputs": [
    {
     "data": {
      "text/plain": [
       "2"
      ]
     },
     "execution_count": 2,
     "metadata": {},
     "output_type": "execute_result"
    }
   ],
   "source": [
    "160//60"
   ]
  },
  {
   "cell_type": "markdown",
   "metadata": {},
   "source": [
    "我们发现时间超过了2小时，那就意味着你不可能在两个小时内听完三个专辑。"
   ]
  },
  {
   "cell_type": "markdown",
   "metadata": {},
   "source": [
    "<div class=\"alert alert-success alertsuccess\" style=\"margin-top: 20px\">\n",
    "<h4> [tip] Python中的简单数学操作 </h4>\n",
    "<p></p>\n",
    "你可以做如下数学运算：\n",
    "<li> 加法: **2 + 2** </li>\n",
    "<li> 减法: **5 - 2** </li>\n",
    "<li> 乘法: **3 \\* 2** </li>\n",
    "<li> 除法: **4 / 2** </li>\n",
    "<li> 幂: **4 \\*\\* 2** </li>\n",
    "</div>"
   ]
  },
  {
   "cell_type": "markdown",
   "metadata": {},
   "source": [
    "<a id=\"Variables-in-Python\"></a>\n",
    "<h2 align=center>Python中的变量</h2>"
   ]
  },
  {
   "cell_type": "markdown",
   "metadata": {},
   "source": [
    "我们还可以把结果存储到变量中，这样我们就可以在之后继续使用。比如："
   ]
  },
  {
   "cell_type": "code",
   "execution_count": null,
   "metadata": {
    "collapsed": true
   },
   "outputs": [],
   "source": [
    "x = 43 + 60 + 16 + 41"
   ]
  },
  {
   "cell_type": "markdown",
   "metadata": {},
   "source": [
    "如果想要再次使用x的值，我们可以执行这个变量"
   ]
  },
  {
   "cell_type": "code",
   "execution_count": null,
   "metadata": {},
   "outputs": [],
   "source": [
    "x"
   ]
  },
  {
   "cell_type": "markdown",
   "metadata": {},
   "source": [
    "你可以把一些运算的结果放入变量"
   ]
  },
  {
   "cell_type": "code",
   "execution_count": null,
   "metadata": {},
   "outputs": [],
   "source": [
    "total_hr = (43 + 60 + 16 + 41) / 60  # get total hours in a single expression\n",
    "total_hr"
   ]
  },
  {
   "cell_type": "markdown",
   "metadata": {},
   "source": [
    "<hr></hr>\n",
    "<div class=\"alert alert-success alertsuccess\" style=\"margin-top: 20px\">\n",
    "<h4> [tip] #注释</h4>  \n",
    "\n",
    "不知道你是否注意到了上述注释（# get total hours in a single expression）。注释起到了描述代码的作用，你可以输入#符号，在它的后面输入注释。注释不会被当成代码，是不会被执行的。\n",
    "<p></p>\n",
    "</div>\n",
    "<hr></hr>"
   ]
  },
  {
   "cell_type": "markdown",
   "metadata": {},
   "source": [
    "<hr></hr>\n",
    "<div class=\"alert alert-success alertsuccess\" style=\"margin-top: 0px\">\n",
    "<h4> [tip] Python变量 </h4>\n",
    "<p></p>\n",
    "变量可以存储数值并可以重复使用，变量还具有下面这些属性\n",
    "<li>变量可以存储一段代码的输出结果</li>\n",
    "<li>变量赋值可以使用等号（=），比如( **x = 1**) </li>\n",
    "<p></p>\n",
    "</div>\n",
    "<hr></hr>"
   ]
  },
  {
   "cell_type": "markdown",
   "metadata": {},
   "source": [
    "__Python有5种标准类型: __\n",
    "- 数值Numbers (整型int,长整型long,浮点数float,复数complex)\n",
    "- 字符串String (字符的连续集合)\n",
    "- 列表List\n",
    "- 元组Tuple\n",
    "- 字典Dictionary"
   ]
  },
  {
   "cell_type": "markdown",
   "metadata": {},
   "source": [
    "Python并非只能处理各类数字，它还可以处理字符串。字符串的例子如下:"
   ]
  },
  {
   "cell_type": "code",
   "execution_count": null,
   "metadata": {},
   "outputs": [],
   "source": [
    "album = \"Thriller\"\n",
    "album"
   ]
  },
  {
   "cell_type": "markdown",
   "metadata": {},
   "source": [
    "Python中用一对双引号(\")或者单引号(')括住的就是字符串。"
   ]
  },
  {
   "cell_type": "markdown",
   "metadata": {},
   "source": [
    "Python中还有逻辑变量，值为True或False，表示真或假，可以用来检查或比较某些域的内容。"
   ]
  },
  {
   "cell_type": "code",
   "execution_count": null,
   "metadata": {},
   "outputs": [],
   "source": [
    "Logical_var = True\n",
    "Logical_var"
   ]
  },
  {
   "cell_type": "markdown",
   "metadata": {},
   "source": [
    "<hr></hr>\n",
    "<div class=\"alert alert-success alertsuccess\" style=\"margin-top: 20px\">\n",
    "<h4> [tip] Python中的真与假 </h4>  \n",
    "\n",
    "Python只把 `True` and `False` 识别为表示真或假的值，这意味着其他的写法都是不合法的，比如 *TRUE* 和 *true*都是不会被Python识别为逻辑值。\n",
    "\n",
    "<p></p>\n",
    "</div>\n",
    "\n",
    "<hr></hr>"
   ]
  },
  {
   "cell_type": "markdown",
   "metadata": {},
   "source": [
    "<hr></hr>\n",
    "<div class=\"alert alert-success alertsuccess\" style=\"margin-top: 20px\">\n",
    "<h4> [tip] 数据类型意味着什么？ </h4>  \n",
    "\n",
    "在包括Python在内的各种编程语言中，都会提到所支持的数据类型，那么，数据类型意味着什么呢？\n",
    "数据类型说明了变量在内存中的表示形式，以及对该变量所能执行的操作。对Python而言，其解释器会根据变量的数据类型来解释其在内存中所存储的值，例如，对于内存中连续的4个字节，如果存储的是整数型变量，解释器就会将其解释为一个整数；如果存储的是字符串变量，解释器就会将其解释为一个字符串。进而，对整数型变量可以执行加减乘除等数学运算，而对字符串变量可以执行求子字符串或转换为全大写等操作。\n",
    "\n",
    "<p></p>\n",
    "</div>\n",
    "\n",
    "<hr></hr>"
   ]
  },
  {
   "cell_type": "markdown",
   "metadata": {},
   "source": [
    "### 使用逻辑运算"
   ]
  },
  {
   "cell_type": "markdown",
   "metadata": {},
   "source": [
    "布尔值还可以用于判断一个条件是成立(True)还是不成立(False)。\n",
    "我们可以像下面这样判断一张1990年发表的专辑发行年份是否晚于1980年(发行年份在数值上大于1980年)并早于2000年(发行年份在数值上小于2000年)。"
   ]
  },
  {
   "cell_type": "code",
   "execution_count": null,
   "metadata": {},
   "outputs": [],
   "source": [
    "album_year = 1990\n",
    "album_year > 1980 and album_year < 2000"
   ]
  },
  {
   "cell_type": "markdown",
   "metadata": {},
   "source": [
    "我们同样可以判断相等性，此时需要借助操作符“==”（注意是两个等号，一个等号是赋值符号，两个等号是判断相等）。 让我们来判断这张专辑的发表年份是否是1990年"
   ]
  },
  {
   "cell_type": "code",
   "execution_count": null,
   "metadata": {},
   "outputs": [],
   "source": [
    "album_year == 1990"
   ]
  },
  {
   "cell_type": "markdown",
   "metadata": {},
   "source": [
    "如果你想检查某个数值是否不等于2016，就可以使用判不等操作符（“!=”）"
   ]
  },
  {
   "cell_type": "code",
   "execution_count": null,
   "metadata": {},
   "outputs": [],
   "source": [
    "album_year != 2016"
   ]
  },
  {
   "cell_type": "markdown",
   "metadata": {},
   "source": [
    "<hr></hr>\n",
    "<div class=\"alert alert-success alertsuccess\" style=\"margin-top: 20px\">\n",
    "<h4> [tip] Python中的逻辑运算 </h4>\n",
    "<p></p>\n",
    "你可以做如下各种逻辑运算:  \n",
    "<li> 判等: **1 == 2** </li>\n",
    "<li> 判不等: **True != False** </li>\n",
    "<li> 大于: **100 > 1** </li>\n",
    "<li> 大于或者等于: **100 >= 1** </li>\n",
    "<li> 小于: **1 < 2** </li>\n",
    "<li> 小于或者等于: **1 <= 2** </li>\n",
    "</div>\n",
    "<hr></hr>"
   ]
  },
  {
   "cell_type": "markdown",
   "metadata": {},
   "source": [
    "<a id=\"lists\"></a>\n",
    "<h2 align=center>Python列表(list)</h2>"
   ]
  },
  {
   "cell_type": "markdown",
   "metadata": {},
   "source": [
    "如果我们要创建一个专辑(albums)列表，那么可以把这些专辑放进一个Python list中，这样我们就可以执行各种列表操作了，比如排序。"
   ]
  },
  {
   "cell_type": "code",
   "execution_count": null,
   "metadata": {},
   "outputs": [],
   "source": [
    "album_list = [\"Thriller\", \"Back in Black\", \"The Dark Side of the Moon\", \\\n",
    "              \"The Bodyguard\", \"Bat Out of Hell\", \"Their Greatest Hits (1971-1975)\", \\\n",
    "              \"Saturday Night Fever\", \"Rumours\"]\n",
    "album_list"
   ]
  },
  {
   "cell_type": "code",
   "execution_count": null,
   "metadata": {},
   "outputs": [],
   "source": []
  },
  {
   "cell_type": "code",
   "execution_count": 9,
   "metadata": {},
   "outputs": [
    {
     "data": {
      "text/plain": [
       "[1, 2, '23', [1, 2], {1: '231'}]"
      ]
     },
     "execution_count": 9,
     "metadata": {},
     "output_type": "execute_result"
    }
   ],
   "source": [
    "List = [1, 2, '23', [1, 2], {1: '231'}]\n",
    "List"
   ]
  },
  {
   "cell_type": "markdown",
   "metadata": {},
   "source": [
    "列表的每个元素都有索引（序号）：第一个元素是0，第二个元素是1，依次类推。你可以从list中删除元素，也可以在list的末尾添加元素。list有如下特性\n",
    "- 用途最为广泛的数据类型\n",
    "- 元素由逗号分隔，整个列表由中括号包围([ ])。\n",
    "- 其中的元素可以用切片操作符（[ ]和[:]）来访问\n",
    "- 列表的索引从0开始\n",
    "- 加号是列表连接操作符\n",
    "\n",
    "一个列表可以由多个不同的对象组成，比如向量、数值、字符甚至其他列表。你可以把列表当成一个由关联信息构成的，且结构良好易于读取的容器。"
   ]
  },
  {
   "cell_type": "markdown",
   "metadata": {},
   "source": [
    "现在假设我们有4张专辑的发售年份为(1982, 1980, 1973, 1992)，我们需要把它赋值到单个变量中，即一个数值型列表变量。"
   ]
  },
  {
   "cell_type": "code",
   "execution_count": null,
   "metadata": {},
   "outputs": [],
   "source": [
    "Released_dates = [1982,1980,1973,1992]\n",
    "Released_dates"
   ]
  },
  {
   "cell_type": "markdown",
   "metadata": {},
   "source": [
    "如前所述，list是一个序列，序列中的每一个元素在该序列中都有一个序号，序号从0开始计数。"
   ]
  },
  {
   "cell_type": "markdown",
   "metadata": {},
   "source": [
    "### 连接列表\n",
    "连接是指将事物按照顺序放在一起的过程，对列表和字典的操作就是如此。只需使用** + **操作符即可实现连接。看一看下面这个例子："
   ]
  },
  {
   "cell_type": "code",
   "execution_count": null,
   "metadata": {},
   "outputs": [],
   "source": [
    "album_titles1 = [\"Thriller\", \"Back in Black\"]\n",
    "album_titles2 = [\"The Dark Side of the Moon\", \"The Boduguard\"]\n",
    "album_titles1 + album_titles2"
   ]
  },
  {
   "cell_type": "markdown",
   "metadata": {},
   "source": [
    "### 往 list 中添加新的元素"
   ]
  },
  {
   "cell_type": "code",
   "execution_count": null,
   "metadata": {},
   "outputs": [],
   "source": [
    "Released_dates = [1982,1980,1973,1992]\n",
    "Released_dates"
   ]
  },
  {
   "cell_type": "code",
   "execution_count": null,
   "metadata": {},
   "outputs": [],
   "source": [
    "Released_dates.append(1960)\n",
    "Released_dates"
   ]
  },
  {
   "cell_type": "markdown",
   "metadata": {},
   "source": [
    "### 获取 list 的长度"
   ]
  },
  {
   "cell_type": "markdown",
   "metadata": {},
   "source": [
    "我们可以使用len()函数获悉一个list中含有多少元素"
   ]
  },
  {
   "cell_type": "code",
   "execution_count": null,
   "metadata": {},
   "outputs": [],
   "source": [
    "len(Released_dates)"
   ]
  },
  {
   "cell_type": "markdown",
   "metadata": {},
   "source": [
    "### 求列表子集"
   ]
  },
  {
   "cell_type": "markdown",
   "metadata": {},
   "source": [
    "Python允许一次获得list中的多个元素，其格式为[:]。如果中括号内是单个具体的位置，那就表示只想获取一个元素。"
   ]
  },
  {
   "cell_type": "code",
   "execution_count": null,
   "metadata": {},
   "outputs": [],
   "source": [
    "first_element = Released_dates[0]\n",
    "first_element"
   ]
  },
  {
   "cell_type": "markdown",
   "metadata": {},
   "source": [
    "我们可以用索引值获取前几个元素，如下："
   ]
  },
  {
   "cell_type": "code",
   "execution_count": null,
   "metadata": {},
   "outputs": [],
   "source": [
    "first_few_elements = Released_dates[:3]\n",
    "first_few_elements"
   ]
  },
  {
   "cell_type": "markdown",
   "metadata": {},
   "source": [
    "我们也可以获取最后几个元素，如下"
   ]
  },
  {
   "cell_type": "code",
   "execution_count": null,
   "metadata": {},
   "outputs": [],
   "source": [
    "last_element = Released_dates[3:]\n",
    "last_element"
   ]
  },
  {
   "cell_type": "markdown",
   "metadata": {},
   "source": [
    "如果想要从下面的**Released_dates**列表中获取第三个年份，应该怎么做呢？"
   ]
  },
  {
   "cell_type": "code",
   "execution_count": 10,
   "metadata": {},
   "outputs": [
    {
     "data": {
      "text/plain": [
       "[1982, 1980, 1973, 1992]"
      ]
     },
     "execution_count": 10,
     "metadata": {},
     "output_type": "execute_result"
    }
   ],
   "source": [
    "Released_dates = [1982,1980,1973,1992]\n",
    "Released_dates"
   ]
  },
  {
   "cell_type": "markdown",
   "metadata": {},
   "source": [
    "下面的代码就可以获取第三个年份"
   ]
  },
  {
   "cell_type": "code",
   "execution_count": null,
   "metadata": {},
   "outputs": [],
   "source": [
    "Released_dates[2] "
   ]
  },
  {
   "cell_type": "markdown",
   "metadata": {},
   "source": [
    "如果想要获取多个元素，可以传递一个向量"
   ]
  },
  {
   "cell_type": "code",
   "execution_count": null,
   "metadata": {},
   "outputs": [],
   "source": [
    "Released_dates[1:4] "
   ]
  },
  {
   "cell_type": "markdown",
   "metadata": {},
   "source": [
    "负的索引值会从相对于末尾的位置切片"
   ]
  },
  {
   "cell_type": "code",
   "execution_count": null,
   "metadata": {},
   "outputs": [],
   "source": [
    "Released_dates[-2:] "
   ]
  },
  {
   "cell_type": "markdown",
   "metadata": {},
   "source": [
    "我们还可以在第二个冒号后面设置步长，下面的代码表示每隔一个元素提取一个元素"
   ]
  },
  {
   "cell_type": "code",
   "execution_count": null,
   "metadata": {},
   "outputs": [],
   "source": [
    "Released_dates[::2]"
   ]
  },
  {
   "cell_type": "markdown",
   "metadata": {},
   "source": [
    "我们可以通过将步长设置为-1将列表倒序排列。"
   ]
  },
  {
   "cell_type": "code",
   "execution_count": null,
   "metadata": {},
   "outputs": [],
   "source": [
    "Released_dates[::-1]"
   ]
  },
  {
   "cell_type": "markdown",
   "metadata": {},
   "source": [
    "### 列表排序"
   ]
  },
  {
   "cell_type": "markdown",
   "metadata": {},
   "source": [
    "我们可以对列表排序"
   ]
  },
  {
   "cell_type": "code",
   "execution_count": null,
   "metadata": {
    "scrolled": true
   },
   "outputs": [],
   "source": [
    "Released_dates = [1982,1980,1973,1992]\n",
    "Released_dates"
   ]
  },
  {
   "cell_type": "code",
   "execution_count": null,
   "metadata": {},
   "outputs": [],
   "source": [
    "Released_dates.sort()\n",
    "Released_dates"
   ]
  },
  {
   "cell_type": "markdown",
   "metadata": {},
   "source": [
    "如果想要获取一个list中的最大值和最小值，可以使用**`min()`** 和 **`max()`** 函数"
   ]
  },
  {
   "cell_type": "code",
   "execution_count": null,
   "metadata": {},
   "outputs": [],
   "source": [
    "minimum = min(Released_dates)\n",
    "maximum = max(Released_dates)\n",
    "\n",
    "#python2 print minimum,maximum \n",
    "print (minimum,maximum)"
   ]
  },
  {
   "cell_type": "markdown",
   "metadata": {},
   "source": [
    "###  列表上的操作"
   ]
  },
  {
   "cell_type": "markdown",
   "metadata": {},
   "source": [
    "如果想要得到一些专辑的平均销量，应该怎么做呢？一种显而易见的方式是将销量值一个个地累加起来，然后除以个数。"
   ]
  },
  {
   "cell_type": "code",
   "execution_count": null,
   "metadata": {},
   "outputs": [],
   "source": [
    "album_min = [42,42,57,46,43]\n",
    "\n",
    "# sum results in the sum of all elements in the vector\n",
    "avg_time_min = sum(album_min)/len(album_min)\n",
    "avg_time_min"
   ]
  },
  {
   "cell_type": "markdown",
   "metadata": {},
   "source": [
    "<a id=\"Tuples\"></a>\n",
    "<center><h2>元组(Tuple)</h2></center>\n",
    "\n",
    "**Tuples**与lists很类似，区别在于元组中的元素不能被修改，并且使用的是圆括号而不是方括号。元组也是用索引机制来访问的。音乐风格就很适合存储在元组中，因为它们不会经常变动。\n",
    "这里有一些Python元组的例子："
   ]
  },
  {
   "cell_type": "code",
   "execution_count": null,
   "metadata": {},
   "outputs": [],
   "source": [
    "genres_tuple = (\"pop\", \"rock\", \"soul\", \"hard rock\", \"soft rock\", \\\n",
    "                \"R&B\", \"progressive rock\", \"disco\") \n",
    "genres_tuple"
   ]
  },
  {
   "cell_type": "markdown",
   "metadata": {},
   "source": [
    "同样可以通过len函数得到tuple中的元素个数"
   ]
  },
  {
   "cell_type": "code",
   "execution_count": null,
   "metadata": {},
   "outputs": [],
   "source": [
    "len(genres_tuple) "
   ]
  },
  {
   "cell_type": "markdown",
   "metadata": {},
   "source": [
    "使用索引得到具体的某一个元素"
   ]
  },
  {
   "cell_type": "code",
   "execution_count": null,
   "metadata": {},
   "outputs": [],
   "source": [
    "genres_tuple[3] "
   ]
  },
  {
   "cell_type": "markdown",
   "metadata": {},
   "source": [
    "你也可以使用起止索引得到多个元素"
   ]
  },
  {
   "cell_type": "code",
   "execution_count": null,
   "metadata": {},
   "outputs": [],
   "source": [
    "genres_tuple[3:6] "
   ]
  },
  {
   "cell_type": "markdown",
   "metadata": {},
   "source": [
    "使用min和max得到元组中的最小值和最大值"
   ]
  },
  {
   "cell_type": "code",
   "execution_count": null,
   "metadata": {},
   "outputs": [],
   "source": [
    "min(genres_tuple), max(genres_tuple) "
   ]
  },
  {
   "cell_type": "markdown",
   "metadata": {},
   "source": [
    "通过元素的值得到元素的索引"
   ]
  },
  {
   "cell_type": "code",
   "execution_count": null,
   "metadata": {},
   "outputs": [],
   "source": [
    "genres_tuple.index(\"R&B\")   "
   ]
  },
  {
   "cell_type": "markdown",
   "metadata": {},
   "source": [
    "但是你无法对元组排序，因为它们是不可修改的。"
   ]
  },
  {
   "cell_type": "markdown",
   "metadata": {},
   "source": [
    "你可以把元组转换成列表，如下"
   ]
  },
  {
   "cell_type": "code",
   "execution_count": null,
   "metadata": {},
   "outputs": [],
   "source": [
    "genres_list = list(genres_tuple) \n",
    "genres_list"
   ]
  },
  {
   "cell_type": "markdown",
   "metadata": {},
   "source": [
    "然后就可以对转换后的列表排序了"
   ]
  },
  {
   "cell_type": "code",
   "execution_count": null,
   "metadata": {},
   "outputs": [],
   "source": [
    "genres_list.sort() \n",
    "genres_list"
   ]
  },
  {
   "cell_type": "markdown",
   "metadata": {},
   "source": [
    "因为你不能修改元组，所以任何添加、删除、修改的操作都只能先转成列表再执行。"
   ]
  },
  {
   "cell_type": "markdown",
   "metadata": {},
   "source": [
    "<a id=\"ref2\"></a>\n",
    "<center><h2>字典(Dictionary)</h2></center>\n",
    "\n",
    "字典是Python内置的最重要的数据结构。字典如其名所示，其格式为（关键字:值）。在字典中，任何一个元素都有一个关键字key和值value。元素在字典中没有序号，即没有任何顺序。同时，每个key必须是唯一的。请看下面这个电话本的例子。\n"
   ]
  },
  {
   "cell_type": "code",
   "execution_count": null,
   "metadata": {},
   "outputs": [],
   "source": [
    "phonebook = {'Andrew Parson':8806336, \n",
    "             'Emily Everett':6784346, \n",
    "             'Peter Power':7658344, \n",
    "             'Lewis Lame':1122345}\n",
    "phonebook"
   ]
  },
  {
   "cell_type": "markdown",
   "metadata": {},
   "source": [
    "下面是一个Python中的字典的例子："
   ]
  },
  {
   "cell_type": "code",
   "execution_count": null,
   "metadata": {},
   "outputs": [],
   "source": [
    "ratings_dict = {\"Thriller\" : 10 , \"Back in Black\" : 8.5}"
   ]
  },
  {
   "cell_type": "markdown",
   "metadata": {},
   "source": [
    "在上述这个字典中，专辑名是字符类型的对象，被当作了关键字，而评分是数值类型的对象，被当作了值。\n",
    "\n",
    "我们观察一下这个字典，其意义非常清楚。其中的元素具有不同的类型(整型和浮点型)，但是这完全没有问题，因为它既是字典，也是列表。"
   ]
  },
  {
   "cell_type": "code",
   "execution_count": null,
   "metadata": {},
   "outputs": [],
   "source": [
    "ratings_dict"
   ]
  },
  {
   "cell_type": "markdown",
   "metadata": {},
   "source": [
    "你可以访问字典中的所有元素，例如，下面这样访问关键字和值。"
   ]
  },
  {
   "cell_type": "code",
   "execution_count": null,
   "metadata": {},
   "outputs": [],
   "source": [
    "ratings_dict.keys()"
   ]
  },
  {
   "cell_type": "code",
   "execution_count": null,
   "metadata": {},
   "outputs": [],
   "source": [
    "ratings_dict.values() "
   ]
  },
  {
   "cell_type": "markdown",
   "metadata": {},
   "source": [
    "另外一种获取值的方式是指定关键字。例如，下面操作的结果就是获得指定的关键字所对应的值。"
   ]
  },
  {
   "cell_type": "code",
   "execution_count": null,
   "metadata": {},
   "outputs": [],
   "source": [
    "ratings_dict['Thriller'] "
   ]
  },
  {
   "cell_type": "markdown",
   "metadata": {},
   "source": [
    "### 在字典中添加、修改、删除元素"
   ]
  },
  {
   "cell_type": "markdown",
   "metadata": {},
   "source": [
    "在字典中添加元素十分简单，直接通过赋值即可，下面的代码就在字典中添加了一个关键字为‘New entry’，值为5的新元素。"
   ]
  },
  {
   "cell_type": "code",
   "execution_count": null,
   "metadata": {
    "scrolled": true
   },
   "outputs": [],
   "source": [
    "ratings_dict['New entry'] = 5\n",
    "ratings_dict"
   ]
  },
  {
   "cell_type": "markdown",
   "metadata": {},
   "source": [
    "修改元素的方式与添加元素类似，下面的代码会将关键字为‘Back in Black’的元素的值修改为7.5"
   ]
  },
  {
   "cell_type": "code",
   "execution_count": null,
   "metadata": {},
   "outputs": [],
   "source": [
    "ratings_dict['Back in Black'] = 7.5\n",
    "ratings_dict"
   ]
  },
  {
   "cell_type": "markdown",
   "metadata": {},
   "source": [
    "要想删除一个元素，你需要使用del函数并指定要被删除的关键字，因此来引用已经存在于字典中的元素。下面的代码将删除关键字为‘New entry’的元素。"
   ]
  },
  {
   "cell_type": "code",
   "execution_count": null,
   "metadata": {},
   "outputs": [],
   "source": [
    "del ratings_dict['New entry']\n",
    "ratings_dict"
   ]
  },
  {
   "cell_type": "markdown",
   "metadata": {},
   "source": [
    "对于在Python中组织不同类型的数据来说，列表和字典都是非常好用的数据结构。"
   ]
  }
 ],
 "metadata": {
  "anaconda-cloud": {},
  "kernelspec": {
   "display_name": "Python 3",
   "language": "python",
   "name": "python3"
  },
  "language_info": {
   "codemirror_mode": {
    "name": "ipython",
    "version": 3
   },
   "file_extension": ".py",
   "mimetype": "text/x-python",
   "name": "python",
   "nbconvert_exporter": "python",
   "pygments_lexer": "ipython3",
   "version": "3.7.3"
  },
  "name": "_merged",
  "toc": {
   "base_numbering": 1,
   "nav_menu": {},
   "number_sections": true,
   "sideBar": true,
   "skip_h1_title": false,
   "title_cell": "Table of Contents",
   "title_sidebar": "Contents",
   "toc_cell": false,
   "toc_position": {},
   "toc_section_display": true,
   "toc_window_display": true
  }
 },
 "nbformat": 4,
 "nbformat_minor": 1
}
