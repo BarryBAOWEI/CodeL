{
 "cells": [
  {
   "cell_type": "raw",
   "metadata": {},
   "source": [
    "<h1, align=center> &nbsp;&nbsp;&nbsp;&nbsp;&nbsp;&nbsp;&nbsp;数据科学引论 - Python之道 </h1>\n",
    "\n",
    "<h1, align=center> &nbsp;&nbsp;&nbsp;&nbsp;&nbsp;&nbsp;&nbsp;&nbsp;第3课 Python入门-作业</h1>"
   ]
  },
  {
   "cell_type": "markdown",
   "metadata": {},
   "source": [
    "在本节课中，你已经学习到了有关Python的如下知识:\n",
    "<ul>\n",
    "    <li> \n",
    "        <b>数据类型</b> \n",
    "            <ul>\n",
    "                <li> 基本数据类型：整型、浮点型、布尔型、字符型、字符串 </li>\n",
    "                <li> 高级数据类型：列表、元组、字典              \n",
    "            </ul>\n",
    "    </li>\n",
    "    <li> <b>算数操作与逻辑操作</b> </li>\n",
    "    <li> <b>变量</b> </li>\n",
    "    <li> <b>字符串操作</b> </li>\n",
    "    <li> <b>控制语句</b> </li>\n",
    "    <li> \n",
    "        <b>函数</b> \n",
    "            <ul>\n",
    "                <li> 抽象与封装 </li>\n",
    "                <li> 全局变量与局部变量            \n",
    "           </ul>\n",
    "    </li>    \n",
    "</ul>\n",
    "现在，你已经掌握了很多有关Python的基础知识了，现在自己动手写几个经典问题的解决方案吧！"
   ]
  },
  {
   "cell_type": "markdown",
   "metadata": {},
   "source": [
    "---\n",
    "## 问题1：矩阵相乘\n",
    "#### 我们在课程中提到，几乎任何一种编程语言都没有提供矩阵相乘的操作符。请你编写一个程序，它可以计算两个矩阵的乘积。\n",
    "提示：  \n",
    "  1. 你可以用列表或元组来表示矩阵；  \n",
    "  2. 矩阵的元素值可以直接在创建列表或元素时指定；  \n",
    "  3. 你应该先检查两个矩阵是否能够相乘，如果能够相乘，再计算它们的乘积，否则打印出相应的提示语  \n",
    "\n",
    "思考：考虑一下，使用列表来表示矩阵和使用元组来表示矩阵，在编程时有什么不同？"
   ]
  },
  {
   "cell_type": "markdown",
   "metadata": {},
   "source": [
    "请先定义两个矩阵变量a,b，以列表或者元组方式表示矩阵"
   ]
  },
  {
   "cell_type": "code",
   "execution_count": null,
   "metadata": {
    "collapsed": true
   },
   "outputs": [],
   "source": [
    "\n"
   ]
  },
  {
   "cell_type": "markdown",
   "metadata": {},
   "source": [
    "请定义并且实现矩阵相乘的检查函数check(a,b) 判断a矩阵和b矩阵能够相乘"
   ]
  },
  {
   "cell_type": "code",
   "execution_count": null,
   "metadata": {
    "collapsed": true
   },
   "outputs": [],
   "source": [
    "\n",
    "\n"
   ]
  },
  {
   "cell_type": "markdown",
   "metadata": {},
   "source": [
    "请定义并且实现矩阵相乘函数 matrix_multi(a,b) 以列表或者元祖形式返回相乘后的结果"
   ]
  },
  {
   "cell_type": "code",
   "execution_count": null,
   "metadata": {
    "collapsed": true
   },
   "outputs": [],
   "source": [
    "\n",
    "\n",
    "\n"
   ]
  },
  {
   "cell_type": "markdown",
   "metadata": {},
   "source": [
    "请使用上述两个变量和函数实现问题1中要求的功能"
   ]
  },
  {
   "cell_type": "code",
   "execution_count": null,
   "metadata": {
    "collapsed": true
   },
   "outputs": [],
   "source": [
    "\n",
    "\n"
   ]
  },
  {
   "cell_type": "markdown",
   "metadata": {},
   "source": [
    "---\n",
    "## 问题2：求给定范围的所有质数\n",
    "#### 请你编写一个程序，可以计算出从1到指定值之间范围内的所有质数。\n",
    "提示：  \n",
    "  1. 你可以用列表或元组来存放已经计算出来的质数；  \n",
    "  2. 你可以自己选择筛选质数的方法，应该尽可能地让筛选速度变快。  \n",
    "\n",
    "思考：你的筛选方法的速度是否已经达到极限了？"
   ]
  },
  {
   "cell_type": "code",
   "execution_count": null,
   "metadata": {
    "collapsed": true
   },
   "outputs": [],
   "source": [
    "\n",
    "\n",
    "\n",
    "\n",
    "\n",
    "\n"
   ]
  },
  {
   "cell_type": "markdown",
   "metadata": {},
   "source": [
    "尝试多测试一些用例（比如边界值），看一下你的代码在不同条件下能否测试成功"
   ]
  },
  {
   "cell_type": "code",
   "execution_count": null,
   "metadata": {
    "collapsed": true
   },
   "outputs": [],
   "source": []
  },
  {
   "cell_type": "markdown",
   "metadata": {},
   "source": [
    "思考：你的筛选方法的速度是否已经达到极限了？ 如果你有其他改进方法，可以在下面说明更快的筛选方法（可以不用代码实现）"
   ]
  },
  {
   "cell_type": "markdown",
   "metadata": {},
   "source": []
  },
  {
   "cell_type": "markdown",
   "metadata": {},
   "source": [
    "---\n",
    "## 问题3：用函数来封装质数筛选方法\n",
    "#### 由于质数筛选方法有很多，所以你可能会经常变换所选择的方法。但是你肯定不希望这种修改对其他代码产生影响，所以应该把质数筛选方法编写成一个函数，从而实现对具体的质数筛选方法的封装。然后用不同的取值范围去调用你的函数，看看是否能够正确地工作。\n",
    "提示：  \n",
    "  1. 你应该为函数起个具有实际意义的名字；  \n",
    "  2. 注意你的函数的参数列表，包括参数的名字和类型。  \n",
    "\n",
    "思考：试着改变具体的筛选方法，看看你的程序是否能够正常工作。想一想为什么像这样的封装是基础的编程思想之一。"
   ]
  },
  {
   "cell_type": "markdown",
   "metadata": {},
   "source": [
    "请定义函数，注意你的函数的参数列表，包括参数的名字和类型。"
   ]
  },
  {
   "cell_type": "code",
   "execution_count": null,
   "metadata": {
    "collapsed": true
   },
   "outputs": [],
   "source": [
    "\n",
    "\n",
    "\n",
    "\n"
   ]
  },
  {
   "cell_type": "markdown",
   "metadata": {},
   "source": [
    "请使用该函数输出满足筛选后的素数"
   ]
  },
  {
   "cell_type": "code",
   "execution_count": null,
   "metadata": {
    "collapsed": true
   },
   "outputs": [],
   "source": [
    "\n",
    "\n"
   ]
  },
  {
   "cell_type": "markdown",
   "metadata": {},
   "source": [
    "思考：这样通过函数进行封装有什么意义？"
   ]
  },
  {
   "cell_type": "markdown",
   "metadata": {},
   "source": []
  }
 ],
 "metadata": {
  "kernelspec": {
   "display_name": "Python 3",
   "language": "python",
   "name": "python3"
  },
  "language_info": {
   "codemirror_mode": {
    "name": "ipython",
    "version": 3
   },
   "file_extension": ".py",
   "mimetype": "text/x-python",
   "name": "python",
   "nbconvert_exporter": "python",
   "pygments_lexer": "ipython3",
   "version": "3.7.3"
  },
  "toc": {
   "base_numbering": 1,
   "nav_menu": {},
   "number_sections": true,
   "sideBar": true,
   "skip_h1_title": false,
   "title_cell": "Table of Contents",
   "title_sidebar": "Contents",
   "toc_cell": false,
   "toc_position": {},
   "toc_section_display": true,
   "toc_window_display": false
  }
 },
 "nbformat": 4,
 "nbformat_minor": 2
}
