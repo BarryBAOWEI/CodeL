{
 "cells": [
  {
   "cell_type": "raw",
   "metadata": {},
   "source": [
    "<h1, align=center> &nbsp;&nbsp;&nbsp;&nbsp;&nbsp;&nbsp;&nbsp;数据科学引论 - Python之道 </h1>\n",
    "\n",
    "<h1, align=center> &nbsp;&nbsp;&nbsp;&nbsp;&nbsp;&nbsp;&nbsp;&nbsp;第3课 Python入门-作业</h1>"
   ]
  },
  {
   "cell_type": "markdown",
   "metadata": {},
   "source": [
    "在本节课中，你已经学习到了有关Python的如下知识:\n",
    "<ul>\n",
    "    <li> \n",
    "        <b>数据类型</b> \n",
    "            <ul>\n",
    "                <li> 基本数据类型：整型、浮点型、布尔型、字符型、字符串 </li>\n",
    "                <li> 高级数据类型：列表、元组、字典              \n",
    "            </ul>\n",
    "    </li>\n",
    "    <li> <b>算数操作与逻辑操作</b> </li>\n",
    "    <li> <b>变量</b> </li>\n",
    "    <li> <b>字符串操作</b> </li>\n",
    "    <li> <b>控制语句</b> </li>\n",
    "    <li> \n",
    "        <b>函数</b> \n",
    "            <ul>\n",
    "                <li> 抽象与封装 </li>\n",
    "                <li> 全局变量与局部变量            \n",
    "           </ul>\n",
    "    </li>    \n",
    "</ul>\n",
    "现在，你已经掌握了很多有关Python的基础知识了，现在自己动手写几个经典问题的解决方案吧！"
   ]
  },
  {
   "cell_type": "markdown",
   "metadata": {},
   "source": [
    "---\n",
    "## 问题1：矩阵相乘\n",
    "#### 我们在课程中提到，几乎任何一种编程语言都没有提供矩阵相乘的操作符。请你编写一个程序，它可以计算两个矩阵的乘积。\n",
    "提示：  \n",
    "  1. 你可以用列表或元组来表示矩阵；  \n",
    "  2. 矩阵的元素值可以直接在创建列表或元素时指定；  \n",
    "  3. 你应该先检查两个矩阵是否能够相乘，如果能够相乘，再计算它们的乘积，否则打印出相应的提示语  \n",
    "\n",
    "思考：考虑一下，使用列表来表示矩阵和使用元组来表示矩阵，在编程时有什么不同？"
   ]
  },
  {
   "cell_type": "markdown",
   "metadata": {},
   "source": [
    "请先定义两个矩阵变量a,b，以列表或者元组方式表示矩阵"
   ]
  },
  {
   "cell_type": "code",
   "execution_count": 19,
   "metadata": {},
   "outputs": [],
   "source": [
    "a = [[1, 2, 3, 4, 5], [6, 7, 8, 9, 10, ], [16, 17, 18, 19, 10, ], ]  # 3x5\n",
    "b = [[11, 12], [13, 14], [15, 16], [17, 18], [13, 11]]  # 5x2"
   ]
  },
  {
   "cell_type": "markdown",
   "metadata": {},
   "source": [
    "请定义并且实现矩阵相乘的检查函数check(a,b) 判断a矩阵和b矩阵能够相乘"
   ]
  },
  {
   "cell_type": "code",
   "execution_count": 20,
   "metadata": {},
   "outputs": [
    {
     "data": {
      "text/plain": [
       "True"
      ]
     },
     "execution_count": 20,
     "metadata": {},
     "output_type": "execute_result"
    }
   ],
   "source": [
    "def check(a, b):\n",
    "    return len(a[0]) == len(b)\n",
    "\n",
    "check(a, b)"
   ]
  },
  {
   "cell_type": "markdown",
   "metadata": {},
   "source": [
    "请定义并且实现矩阵相乘函数 matrix_multi(a,b) 以列表或者元祖形式返回相乘后的结果"
   ]
  },
  {
   "cell_type": "code",
   "execution_count": 27,
   "metadata": {},
   "outputs": [
    {
     "data": {
      "text/plain": [
       "[[215, 215], [560, 570], [1120, 1170]]"
      ]
     },
     "execution_count": 27,
     "metadata": {},
     "output_type": "execute_result"
    }
   ],
   "source": [
    "def matrix_multi(a,b):\n",
    "    # 创建结果矩阵，行数与a的行数相同\n",
    "    result_mat = [[] for i in range(len(a))]\n",
    "    for i in range(len(a)):\n",
    "        # 获得a的某一行\n",
    "        vec_a = a[i]\n",
    "        for j in range(len(b[0])):\n",
    "            # 获得b的某一列\n",
    "            vec_b = [b[each0][j] for each0 in range(len(b))]\n",
    "            # 左矩阵的行元素乘以右矩阵的列元素，并相加\n",
    "            result_mat[i].append(sum([vec_a[each1]*vec_b[each1] for each1 in range(len(vec_a))]))\n",
    "    return result_mat\n",
    "\n",
    "matrix_multi(a,b)"
   ]
  },
  {
   "cell_type": "markdown",
   "metadata": {},
   "source": [
    "请使用上述两个变量和函数实现问题1中要求的功能"
   ]
  },
  {
   "cell_type": "code",
   "execution_count": 28,
   "metadata": {},
   "outputs": [
    {
     "data": {
      "text/plain": [
       "[[215, 215], [560, 570], [1120, 1170]]"
      ]
     },
     "execution_count": 28,
     "metadata": {},
     "output_type": "execute_result"
    }
   ],
   "source": [
    "def matrix_mul(a,b):\n",
    "    if not check(a, b):\n",
    "        return '非法矩阵相乘'\n",
    "    return matrix_multi(a,b)"
   ]
  },
  {
   "cell_type": "code",
   "execution_count": 29,
   "metadata": {},
   "outputs": [
    {
     "data": {
      "text/plain": [
       "'非法矩阵相乘'"
      ]
     },
     "execution_count": 29,
     "metadata": {},
     "output_type": "execute_result"
    }
   ],
   "source": [
    "c = [[1, 2, 3, 4], [6, 7, 8, 9], [16, 17, 18, 19], ]  # 3x4\n",
    "d = [[11, 12], [13, 14], [15, 16], [17, 18], [13, 11]]  # 5x2\n",
    "matrix_mul(c, d)"
   ]
  },
  {
   "cell_type": "code",
   "execution_count": 30,
   "metadata": {},
   "outputs": [
    {
     "data": {
      "text/plain": [
       "[[215, 215], [560, 570], [1120, 1170]]"
      ]
     },
     "execution_count": 30,
     "metadata": {},
     "output_type": "execute_result"
    }
   ],
   "source": [
    "matrix_mul(a,b)"
   ]
  },
  {
   "cell_type": "markdown",
   "metadata": {},
   "source": [
    "思考：在用元组表示矩阵时，矩阵的元素无法修改或者删减"
   ]
  },
  {
   "cell_type": "markdown",
   "metadata": {},
   "source": [
    "---\n",
    "## 问题2：求给定范围的所有质数\n",
    "#### 请你编写一个程序，可以计算出从1到指定值之间范围内的所有质数。\n",
    "提示：  \n",
    "  1. 你可以用列表或元组来存放已经计算出来的质数；  \n",
    "  2. 你可以自己选择筛选质数的方法，应该尽可能地让筛选速度变快。  \n",
    "\n",
    "思考：你的筛选方法的速度是否已经达到极限了？"
   ]
  },
  {
   "cell_type": "code",
   "execution_count": 73,
   "metadata": {},
   "outputs": [],
   "source": [
    "# 方法一，从小至大遍历所有给定数，用所有已找出的质数去除该数，均不能整除说明该数是质数\n",
    "def find_prime_v1(num):\n",
    "    num_list = range(1, num+1)\n",
    "    prime_list = [1]\n",
    "    for each_num in num_list[1:]:\n",
    "        if len([each_num % i for i in prime_list if each_num % i == 0]) == 1:\n",
    "            prime_list.append(each_num)\n",
    "    del prime_list[0]\n",
    "    return prime_list"
   ]
  },
  {
   "cell_type": "markdown",
   "metadata": {},
   "source": [
    "尝试多测试一些用例（比如边界值），看一下你的代码在不同条件下能否测试成功"
   ]
  },
  {
   "cell_type": "code",
   "execution_count": 74,
   "metadata": {},
   "outputs": [
    {
     "name": "stdout",
     "output_type": "stream",
     "text": [
      "[2, 3, 5, 7, 11, 13, 17, 19] [2, 3, 5, 7, 11, 13, 17, 19, 23, 29, 31, 37, 41, 43, 47, 53, 59, 61, 67, 71, 73, 79, 83, 89, 97]\n"
     ]
    }
   ],
   "source": [
    "print(find_prime_v1(20),find_prime_v1(100))"
   ]
  },
  {
   "cell_type": "markdown",
   "metadata": {},
   "source": [
    "思考：你的筛选方法的速度是否已经达到极限了？ 如果你有其他改进方法，可以在下面说明更快的筛选方法（可以不用代码实现）"
   ]
  },
  {
   "cell_type": "code",
   "execution_count": null,
   "metadata": {},
   "outputs": [],
   "source": [
    "# 方法二，从小至大遍历所有给定数，用所有比该数小的数去除该数，均不能整除说明该数是质数\n",
    "def find_prime_v2(num):\n",
    "    num_list = range(1, num+1)\n",
    "    prime_list = [1]\n",
    "    for each_num in num_list[1:]:\n",
    "        sub_num_list = range(1,each_num)\n",
    "        if len([each_num % i for i in sub_num_list if each_num % i == 0]) == 1:\n",
    "            prime_list.append(each_num)\n",
    "    del prime_list[0]\n",
    "    return prime_list\n",
    "# 方法三，从小至大遍历所有给定数，用所有比该数的平方根小的数去除该数，均不能整除说明该数是质数\n",
    "def find_prime_v3(num):\n",
    "    num_list = range(1, num+1)\n",
    "    prime_list = [1]\n",
    "    for each_num in num_list[1:]:\n",
    "        sub_num_list = range(1,int(each_num**0.5)+1)\n",
    "        if len([each_num % i for i in sub_num_list if each_num % i == 0]) == 1:\n",
    "            prime_list.append(each_num)\n",
    "    del prime_list[0]\n",
    "    return prime_list"
   ]
  },
  {
   "cell_type": "code",
   "execution_count": 86,
   "metadata": {},
   "outputs": [
    {
     "data": {
      "text/plain": [
       "True"
      ]
     },
     "execution_count": 86,
     "metadata": {},
     "output_type": "execute_result"
    }
   ],
   "source": [
    "find_prime_v1(1000) == find_prime_v2(1000) == find_prime_v3(1000)"
   ]
  },
  {
   "cell_type": "markdown",
   "metadata": {},
   "source": [
    "不知为何，方法三比方法一更快？"
   ]
  },
  {
   "cell_type": "markdown",
   "metadata": {},
   "source": []
  },
  {
   "cell_type": "markdown",
   "metadata": {},
   "source": [
    "---\n",
    "## 问题3：用函数来封装质数筛选方法\n",
    "#### 由于质数筛选方法有很多，所以你可能会经常变换所选择的方法。但是你肯定不希望这种修改对其他代码产生影响，所以应该把质数筛选方法编写成一个函数，从而实现对具体的质数筛选方法的封装。然后用不同的取值范围去调用你的函数，看看是否能够正确地工作。\n",
    "提示：  \n",
    "  1. 你应该为函数起个具有实际意义的名字；  \n",
    "  2. 注意你的函数的参数列表，包括参数的名字和类型。  \n",
    "\n",
    "思考：试着改变具体的筛选方法，看看你的程序是否能够正常工作。想一想为什么像这样的封装是基础的编程思想之一。"
   ]
  },
  {
   "cell_type": "markdown",
   "metadata": {},
   "source": [
    "请定义函数，注意你的函数的参数列表，包括参数的名字和类型。"
   ]
  },
  {
   "cell_type": "code",
   "execution_count": 93,
   "metadata": {},
   "outputs": [],
   "source": [
    "def find_prime(num,how):\n",
    "    '''\n",
    "    num: int, 求1至num中所有数的质数,\n",
    "    how: string, '1toP'用所有已找到质数方法;'1toN'用所有小于该数方法;'1tosqtN'用所有小于该数平方根方法,\n",
    "    '''\n",
    "    if how not in ['1toP','1toN','1tosqtN',]:\n",
    "        return '无效的方法参数'\n",
    "    fun_dict={'1toP'   :find_prime_v1,\n",
    "              '1toN'   :find_prime_v2,\n",
    "              '1tosqtN':find_prime_v3,}\n",
    "    return fun_dict[how](num)"
   ]
  },
  {
   "cell_type": "markdown",
   "metadata": {},
   "source": [
    "请使用该函数输出满足筛选后的素数"
   ]
  },
  {
   "cell_type": "code",
   "execution_count": 97,
   "metadata": {},
   "outputs": [
    {
     "name": "stdout",
     "output_type": "stream",
     "text": [
      "True\n",
      "[2, 3, 5, 7, 11, 13, 17, 19, 23, 29, 31, 37, 41, 43, 47, 53, 59, 61, 67, 71, 73, 79, 83, 89, 97]\n",
      "[2, 3, 5, 7, 11, 13, 17, 19, 23, 29, 31, 37, 41, 43, 47]\n"
     ]
    }
   ],
   "source": [
    "# 改变筛选方法并输出\n",
    "print(find_prime(100,'1toP')==find_prime(100,'1toN')==find_prime(100,'1tosqtN'))\n",
    "print(find_prime(100,'1toN'))\n",
    "print(find_prime(50,'1toN'))"
   ]
  },
  {
   "cell_type": "markdown",
   "metadata": {},
   "source": [
    "思考：这样通过函数进行封装有什么意义？"
   ]
  },
  {
   "cell_type": "markdown",
   "metadata": {},
   "source": [
    "回答：  \n",
    "1.**函数封装后可以减少代码的冗余程度且便于调试**，只需修改出现问题的函数即可，不需修改所有用到该函数的地方；  \n",
    "2.**函数封装后可以增强与其他代码的交互使用方便性**，其他人使用该函数时只需知晓输入以及输出即可，并可方便地使用该函数的输出进行下一项任务."
   ]
  },
  {
   "cell_type": "markdown",
   "metadata": {},
   "source": []
  }
 ],
 "metadata": {
  "kernelspec": {
   "display_name": "Python 3",
   "language": "python",
   "name": "python3"
  },
  "language_info": {
   "codemirror_mode": {
    "name": "ipython",
    "version": 3
   },
   "file_extension": ".py",
   "mimetype": "text/x-python",
   "name": "python",
   "nbconvert_exporter": "python",
   "pygments_lexer": "ipython3",
   "version": "3.7.3"
  },
  "toc": {
   "base_numbering": 1,
   "nav_menu": {},
   "number_sections": true,
   "sideBar": true,
   "skip_h1_title": false,
   "title_cell": "Table of Contents",
   "title_sidebar": "Contents",
   "toc_cell": false,
   "toc_position": {},
   "toc_section_display": true,
   "toc_window_display": false
  }
 },
 "nbformat": 4,
 "nbformat_minor": 2
}
