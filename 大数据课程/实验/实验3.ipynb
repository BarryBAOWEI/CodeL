{
 "cells": [
  {
   "cell_type": "markdown",
   "metadata": {},
   "source": [
    "# Matplotlib使用详解III\n",
    "## 误差的可视化"
   ]
  },
  {
   "cell_type": "markdown",
   "metadata": {},
   "source": [
    "对于任何科学测量来说，精确地计算错误几乎同样重要，甚至比准确报告数字本身更重要。\n",
    "\n",
    "举个例子，假设我用一些天体物理学的观测来估计哈勃常数，这是宇宙膨胀率的局部测量。\n",
    "\n",
    "我知道目前的文献显示的值大约为71 (km/s)/Mpc，我用我的方法测量了74 (km/s)/Mpc的值。值是一致的吗?给出这个信息的唯一正确答案是:没有办法知道。\n",
    "\n",
    "假设我用报告的不确定性增加了这些信息:当前的文献显示大约为71 $\\pm$ 2.5 (km/s)/Mpc，而我的方法已经测量了74 $\\pm$ 5 (km/s)/Mpc的值。那么这些值是一致的吗?这是一个可以定量回答的问题。\n",
    "\n",
    "在数据和结果的可视化中，有效地显示这些错误可以使情节传达更完整的信息。"
   ]
  },
  {
   "cell_type": "markdown",
   "metadata": {},
   "source": [
    "## 基础的误差线\n",
    "\n",
    "一个基本的误差线可以通过一个简单的Matplotlib函数创建："
   ]
  },
  {
   "cell_type": "code",
   "execution_count": 1,
   "metadata": {
    "collapsed": true
   },
   "outputs": [],
   "source": [
    "%matplotlib inline\n",
    "import matplotlib.pyplot as plt\n",
    "plt.style.use('seaborn-whitegrid')\n",
    "import numpy as np"
   ]
  },
  {
   "cell_type": "code",
   "execution_count": 2,
   "metadata": {},
   "outputs": [
    {
     "data": {
      "image/png": "[encoded data removed]",
      "text/plain": [
       "<matplotlib.figure.Figure at 0x1132dde80>"
      ]
     },
     "metadata": {},
     "output_type": "display_data"
    }
   ],
   "source": [
    "x = np.linspace(0, 10, 50)\n",
    "dy = 0.8\n",
    "y = np.sin(x) + dy * np.random.randn(50)\n",
    "\n",
    "plt.errorbar(x, y, yerr=dy, fmt='.k');"
   ]
  },
  {
   "cell_type": "markdown",
   "metadata": {},
   "source": [
    "这里的 ``fmt``是一种控制行和点外观的格式代码，与``plt.plot``中使用的简写有相同的语法。\n",
    "\n",
    "除了这些基本选项之外， ``errorbar`` 函数还有许多选项来微调输出。\n",
    "\n",
    "使用这些附加选项，您可以轻松地定制您的误差线图的美观性。\n",
    "\n",
    "我经常觉得它很有帮助，尤其是在拥挤的图形中，使误差线比它们本身更轻:"
   ]
  },
  {
   "cell_type": "code",
   "execution_count": 3,
   "metadata": {},
   "outputs": [
    {
     "data": {
      "image/png": "[encoded data removed]",
      "text/plain": [
       "<matplotlib.figure.Figure at 0x1133ae9b0>"
      ]
     },
     "metadata": {},
     "output_type": "display_data"
    }
   ],
   "source": [
    "plt.errorbar(x, y, yerr=dy, fmt='o', color='black',\n",
    "             ecolor='lightgray', elinewidth=3, capsize=0);"
   ]
  },
  {
   "cell_type": "markdown",
   "metadata": {},
   "source": [
    "除了这些选项之外，您还可以指定水平误差线 (``xerr``)、单边误差线和许多其他变体。"
   ]
  },
  {
   "cell_type": "markdown",
   "metadata": {},
   "source": [
    " <div class=\"alert alert-danger alertdanger\" style=\"margin-top: 20px\">\n",
    "<h1> 练习 1:</h1>\n",
    "<b>对上文中绘制的图形进行修改，将点的形状设置为\"x\"，颜色为\"blue\"，误差线的颜色为“lightgreen”，误差线的宽度为2。</b>\n",
    "</div>"
   ]
  },
  {
   "cell_type": "code",
   "execution_count": 4,
   "metadata": {},
   "outputs": [
    {
     "data": {
      "image/png": "[encoded data removed]",
      "text/plain": [
       "<matplotlib.figure.Figure at 0x113505e48>"
      ]
     },
     "metadata": {},
     "output_type": "display_data"
    }
   ],
   "source": [
    "plt.errorbar(x, y, yerr=dy, fmt='x', color='blue',\n",
    "             ecolor='lightgreen', elinewidth=2, capsize=0);"
   ]
  },
  {
   "cell_type": "markdown",
   "metadata": {
    "collapsed": true
   },
   "source": [
    " <div align=\"right\">\n",
    "<a href=\"#q1\" class=\"btn btn-default\" data-toggle=\"collapse\">点击获取答案</a>\n",
    "\n",
    "</div>\n",
    "<div id=\"q1\" class=\"collapse\">\n",
    "```\n",
    "代码：\n",
    "plt.errorbar(x, y, yerr=dy, fmt='x', color='blue',\n",
    "             ecolor='lightgreen', elinewidth=2, capsize=0);\n",
    "    \n",
    "\n",
    "\n",
    "```\n",
    "</div>\n",
    "\n"
   ]
  }
 ],
 "metadata": {
  "anaconda-cloud": {},
  "kernelspec": {
   "display_name": "Python 3",
   "language": "python",
   "name": "python3"
  },
  "language_info": {
   "codemirror_mode": {
    "name": "ipython",
    "version": 3
   },
   "file_extension": ".py",
   "mimetype": "text/x-python",
   "name": "python",
   "nbconvert_exporter": "python",
   "pygments_lexer": "ipython3",
   "version": "3.7.3"
  },
  "toc": {
   "base_numbering": 1,
   "nav_menu": {},
   "number_sections": true,
   "sideBar": true,
   "skip_h1_title": false,
   "title_cell": "Table of Contents",
   "title_sidebar": "Contents",
   "toc_cell": false,
   "toc_position": {},
   "toc_section_display": true,
   "toc_window_display": false
  }
 },
 "nbformat": 4,
 "nbformat_minor": 1
}
