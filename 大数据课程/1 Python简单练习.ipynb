{
 "cells": [
  {
   "cell_type": "markdown",
   "metadata": {
    "render": true
   },
   "source": [
    "<img src = \"https://ibm.box.com/shared/static/hhxv35atrvcom7qc1ngn632mkkg5d6l3.png\", width = 200>\n",
    "<h1, align=center> 大数据学校 - 数据科学入门</h1>\n",
    "<h1, align=center> Python作业 </h1>\n",
    "<img src= \"https://ibm.box.com/shared/static/e8r3r60s4n88vwrabejovoxdpwqww91r.png\", width = 150>"
   ]
  },
  {
   "cell_type": "markdown",
   "metadata": {},
   "source": [
    "<hr>"
   ]
  },
  {
   "cell_type": "markdown",
   "metadata": {},
   "source": [
    "<hr>"
   ]
  },
  {
   "cell_type": "markdown",
   "metadata": {},
   "source": [
    "<a id=\"Introduction\"></a>\n",
    "<h1 align=center>介绍</h1>\n",
    "\n",
    "该笔记包括一些赋值有关的题目，这有利于你加深对第一周入门课程的理解。"
   ]
  },
  {
   "cell_type": "markdown",
   "metadata": {},
   "source": [
    "#### 运行代码块的快捷键\n",
    "- *Ctrl+Enter* \n",
    "- *Shift+Enter*"
   ]
  },
  {
   "cell_type": "markdown",
   "metadata": {},
   "source": [
    "### <span style=\"color: red\">轮到你了:</span> "
   ]
  },
  {
   "cell_type": "code",
   "execution_count": 2,
   "metadata": {},
   "outputs": [
    {
     "data": {
      "text/plain": [
       "2"
      ]
     },
     "execution_count": 2,
     "metadata": {},
     "output_type": "execute_result"
    }
   ],
   "source": [
    "## RUN THIS CELL:\n",
    "1+1"
   ]
  },
  {
   "cell_type": "markdown",
   "metadata": {},
   "source": [
    "<div class=\"alert alert-success alertsuccess\" style=\"margin-top: 20px\">\n",
    "**小知识点**: 运行下列灰色代码，点击并且按下Shift + Enter.\n",
    "</div>"
   ]
  },
  {
   "cell_type": "markdown",
   "metadata": {},
   "source": [
    "<br>\n",
    "<hr>"
   ]
  },
  {
   "cell_type": "markdown",
   "metadata": {},
   "source": [
    "<a id=\"Question 1\"></a>\n",
    "<h1 align=\"center\"> 问题 1\n",
    "</h1>\n",
    "一个药物公司的销售经理每天忙于和他的客户会面，他希望能有一个python程序来帮助他将摄氏温度转换成华氏温度。现在，需要你写一个程序，要求由用户输入一个摄氏温度，然后将其转成华氏温度并且输出。\n"
   ]
  },
  {
   "cell_type": "markdown",
   "metadata": {},
   "source": [
    "<div class=\"alert alert-success alertsuccess\" style=\"margin-top: 20px\">\n",
    "<h4> [小知识] 用户输入 </h4>\n",
    "<p></p>\n",
    "你可以使用如下代码来读入用户输入的值。\n",
    "\n",
    "inp = raw_input('Input')  \n",
    "\n",
    "在上述代码中，\"raw_input()\"方法会从输入中读取一行，然后将其转换成字符串(string)，并且返回这个值。\n",
    "</div>"
   ]
  },
  {
   "cell_type": "code",
   "execution_count": null,
   "metadata": {},
   "outputs": [],
   "source": [
    "# example\n",
    "inp = raw_input('Input')\n",
    "print inp"
   ]
  },
  {
   "cell_type": "code",
   "execution_count": 8,
   "metadata": {},
   "outputs": [
    {
     "name": "stdout",
     "output_type": "stream",
     "text": [
      "55\n",
      "摄氏度为:55.00°F 华氏度为:131.00°C\n"
     ]
    }
   ],
   "source": [
    "# 现在请你为销售经理写出代码:\n",
    "\n",
    "# 华氏度 = 32°F+ 摄氏度 × 1.8\n",
    "# 在python3中没有raw_input函数了，转化为input函数\n",
    "inp = input()\n",
    "print('摄氏度为:%.2f°F 华氏度为:%.2f°C'%(float(inp), 32 + float(inp) * 1.8))"
   ]
  },
  {
   "cell_type": "markdown",
   "metadata": {},
   "source": [
    "<a id=\"Question 2\"></a>\n",
    "<h1 align=\"center\"> 问题 2\n",
    "</h1>\n",
    "一个教室希望写一个程序来输出学生考试的成绩。 成绩的值域是从0.0到1.0。如果分数超过这个范围，输出一个错误信息。如果分数是在这个范围里的，那么根据下表输出学生的成绩等第。\n",
    "\n",
    "分数分级:\n",
    "\n",
    "- 分数 >= 0.9 A\n",
    "- 分数 >= 0.8 B\n",
    "- 分数 >= 0.7 C\n",
    "- 分数 >= 0.6 D\n",
    "- 分数 < 0.6 F\n",
    "\n",
    "比输说:  \n",
    "Enter score: 0.96  \n",
    "__A__  \n",
    "\n",
    "Enter score: good  \n",
    "__Bad score__  \n",
    "\n",
    "Enter score: 10.0  \n",
    "__Bad score__  \n"
   ]
  },
  {
   "cell_type": "code",
   "execution_count": 17,
   "metadata": {},
   "outputs": [
    {
     "name": "stdout",
     "output_type": "stream",
     "text": [
      "A\n",
      "Bad score\n",
      "Bad score\n",
      "F\n"
     ]
    }
   ],
   "source": [
    "#Your Code Here\n",
    "\n",
    "def ScoreClass(score):\n",
    "    try:\n",
    "        if score >= 0.9 and score <= 1:\n",
    "            print('A')\n",
    "        elif score >= 0.8 and score < 0.9:\n",
    "            print('B')\n",
    "        elif score >= 0.7 and score < 0.8:\n",
    "            print('c')\n",
    "        elif score >= 0.6 and score < 0.7:\n",
    "            print('D')\n",
    "        elif score >= 0 and score < 0.6:\n",
    "            print('F')\n",
    "        else:\n",
    "            print('Bad score')\n",
    "    except:\n",
    "        print('Bad score')\n",
    "\n",
    "ScoreClass(0.96)\n",
    "ScoreClass('good')\n",
    "ScoreClass(10.0)\n",
    "ScoreClass(0.37)"
   ]
  },
  {
   "cell_type": "markdown",
   "metadata": {},
   "source": [
    "<a id=\"Question 3\"></a>\n",
    "<h1 align=\"center\"> 问题 3\n",
    "</h1>\n",
    "创建一个数值列表，得出列表的长度、最小值和最大值"
   ]
  },
  {
   "cell_type": "markdown",
   "metadata": {},
   "source": [
    "<div class=\"alert alert-success alertsuccess\" style=\"margin-top: 20px\">\n",
    "<h4> [提示] Python内建函数</h4>\n",
    "<p></p>\n",
    "你可以使用内建函数吗，比如len，max，min。\n",
    "</div>"
   ]
  },
  {
   "cell_type": "code",
   "execution_count": 23,
   "metadata": {},
   "outputs": [
    {
     "name": "stdout",
     "output_type": "stream",
     "text": [
      "所创建列表为[1, 6, 2, 4, 4, 7, 1, 1]\n",
      "列表长度:8 列表最小值:1.00 列表最大值7.00\n"
     ]
    }
   ],
   "source": [
    "# Your Code Here\n",
    "\n",
    "List = [1, 6, 2, 4, 4, 7, 1, 1, ]\n",
    "print('所创建列表为{0}\\n列表长度:%d 列表最小值:%.2f 列表最大值%.2f'.format(List) %\n",
    "      (len(List), min(List), max(List)))"
   ]
  },
  {
   "cell_type": "markdown",
   "metadata": {},
   "source": [
    "<a id=\"Question 4\"></a>\n",
    "<h1 align=\"center\"> 问题 4\n",
    "</h1>\n",
    "写一个程序创建一个单词字典，根据单词的第一个字母将单词进行分组，每一个组都是一个列表。"
   ]
  },
  {
   "cell_type": "markdown",
   "metadata": {},
   "source": [
    "<div class=\"alert alert-success alertsuccess\" style=\"margin-top: 20px\">\n",
    "<h4> [提示] 创建列表 </h4>\n",
    "<p></p>\n",
    "你可以先按一下单词创建  \n",
    "words =['appple', 'bat', 'bear','atom','book']  \n",
    "\n",
    "现在创建一个初始的字典\n",
    "by_letter = {}\n",
    "\n",
    "<h4> [提示] 如何对单词按第一个字母进行分组</h4>\n",
    "\n",
    "for word in words :  \n",
    "    letter = word[0]  \n",
    "    if letter not in by_letter:  \n",
    "        by_letter[letter] = [word]  \n",
    "    else:  \n",
    "            by_letter[letter].append(word)  \n",
    "\n",
    "\n",
    "</div>"
   ]
  },
  {
   "cell_type": "code",
   "execution_count": 25,
   "metadata": {},
   "outputs": [
    {
     "data": {
      "text/plain": [
       "{'a': ['apple', 'atom'], 'b': ['bat', 'bear', 'book'], 'c': ['cat', 'car']}"
      ]
     },
     "execution_count": 25,
     "metadata": {},
     "output_type": "execute_result"
    }
   ],
   "source": [
    "# Your Code Here\n",
    "\n",
    "words = ['apple', 'bat', 'bear', 'atom', 'book', 'cat', 'car', ]\n",
    "by_letter = dict()\n",
    "for word in words:\n",
    "    letter = word[0]\n",
    "    if letter not in by_letter:\n",
    "        by_letter[letter] = [word]\n",
    "    else:\n",
    "        by_letter[letter].append(word)\n",
    "by_letter"
   ]
  },
  {
   "cell_type": "markdown",
   "metadata": {},
   "source": [
    "希望你能享受这些练习！"
   ]
  },
  {
   "cell_type": "markdown",
   "metadata": {},
   "source": [
    "<hr>"
   ]
  },
  {
   "cell_type": "markdown",
   "metadata": {},
   "source": [
    "<br>"
   ]
  }
 ],
 "metadata": {
  "anaconda-cloud": {},
  "kernelspec": {
   "display_name": "Python 3",
   "language": "python",
   "name": "python3"
  },
  "language_info": {
   "codemirror_mode": {
    "name": "ipython",
    "version": 3
   },
   "file_extension": ".py",
   "mimetype": "text/x-python",
   "name": "python",
   "nbconvert_exporter": "python",
   "pygments_lexer": "ipython3",
   "version": "3.7.3"
  },
  "name": "_merged",
  "toc": {
   "base_numbering": 1,
   "nav_menu": {},
   "number_sections": true,
   "sideBar": true,
   "skip_h1_title": false,
   "title_cell": "Table of Contents",
   "title_sidebar": "Contents",
   "toc_cell": false,
   "toc_position": {},
   "toc_section_display": true,
   "toc_window_display": true
  },
  "widgets": {
   "state": {},
   "version": "1.1.2"
  }
 },
 "nbformat": 4,
 "nbformat_minor": 1
}
