{
 "cells": [
  {
   "cell_type": "markdown",
   "metadata": {},
   "source": [
    "<h1, align=center> &nbsp;&nbsp;&nbsp;&nbsp;&nbsp;&nbsp;&nbsp;数据科学引论 - Python之道 </h1>\n",
    "\n",
    "<h1, align=center> &nbsp;&nbsp;&nbsp;&nbsp;&nbsp;&nbsp;&nbsp;&nbsp;第9课 机器学习 作业 - 线性回归</h1>"
   ]
  },
  {
   "cell_type": "markdown",
   "metadata": {},
   "source": [
    "\n",
    "在这个实验练习中，你将学习不同的模型度量和评估方式，你会去学习如何分辨不同模型的优势和缺点。"
   ]
  },
  {
   "cell_type": "markdown",
   "metadata": {},
   "source": [
    "<b> <i> 开始实验之前，建议运行下面的代码，以便于后续获得答案。 </i> </b>"
   ]
  },
  {
   "cell_type": "code",
   "execution_count": 1,
   "metadata": {},
   "outputs": [
    {
     "data": {
      "text/html": [
       "\n",
       "<style type=\"text/css\">\n",
       "    #ans:hover { background-color: black; }\n",
       "    #ans {padding: 6px; \n",
       "        background-color: white; \n",
       "        border: green 2px solid;\n",
       "        font-weight: bold}\n",
       "</style>\n"
      ],
      "text/plain": [
       "<IPython.core.display.HTML object>"
      ]
     },
     "execution_count": 1,
     "metadata": {},
     "output_type": "execute_result"
    }
   ],
   "source": [
    "from IPython.core.display import HTML\n",
    "HTML(\"\"\"\n",
    "<style type=\"text/css\">\n",
    "    #ans:hover { background-color: black; }\n",
    "    #ans {padding: 6px; \n",
    "        background-color: white; \n",
    "        border: green 2px solid;\n",
    "        font-weight: bold}\n",
    "</style>\n",
    "\"\"\") "
   ]
  },
  {
   "cell_type": "markdown",
   "metadata": {},
   "source": [
    "## <u>通过线性回归对糖尿病数据集进行训练/测试</u>"
   ]
  },
  {
   "cell_type": "markdown",
   "metadata": {},
   "source": [
    "### 载入库\n",
    "载入下列库libraries: \n",
    "    <ol>- <b>sklearn.datasets</b> 中的 <b>load_diabetes</b></ol>\n",
    "    <ol>- <b>sklearn.linear_model</b> 中的 <b>LinearRegression</b></ol>\n",
    "    <ol>- <b>matplotlib.pyplot</b> (as <b>plt</b>) </ol>\n",
    "<p>确保你载入了 <b>%matplotlib inline</b> 这样才能在笔记本中显示图</p>"
   ]
  },
  {
   "cell_type": "code",
   "execution_count": 3,
   "metadata": {},
   "outputs": [],
   "source": [
    "from sklearn.datasets import load_diabetes\n",
    "from sklearn.linear_model import LinearRegression\n",
    "import matplotlib.pyplot as plt\n",
    "%matplotlib inline"
   ]
  },
  {
   "cell_type": "markdown",
   "metadata": {},
   "source": [
    "鼠标移动到下列绿边块上可以得到答案\n",
    "<p id=\"ans\">\n",
    "<font color = \"white\">\n",
    "from sklearn.datasets import load_diabetes <br>\n",
    "from sklearn.linear_model import LinearRegression <br>\n",
    "import matplotlib.pyplot as plt <br>\n",
    "%matplotlib inline</font>\n",
    "</p>"
   ]
  },
  {
   "cell_type": "markdown",
   "metadata": {},
   "source": [
    "现在通过使用<b>load_diabetes</b>方法创建一个数据集的实例，变量取名<b>diabetes</b>。\n"
   ]
  },
  {
   "cell_type": "code",
   "execution_count": 6,
   "metadata": {},
   "outputs": [],
   "source": [
    "diabetes = load_diabetes()"
   ]
  },
  {
   "cell_type": "markdown",
   "metadata": {},
   "source": [
    "鼠标移动到下列绿边块上可以得到答案\n",
    "<p id=\"ans\">\n",
    "<font color = \"white\"> diabetes = load_diabetes()</font>\n",
    "</p>"
   ]
  },
  {
   "cell_type": "markdown",
   "metadata": {},
   "source": [
    "我们还可以在单一特征上做点工作："
   ]
  },
  {
   "cell_type": "code",
   "execution_count": 7,
   "metadata": {},
   "outputs": [],
   "source": [
    "diabetes_X = diabetes.data[:, None, 2]"
   ]
  },
  {
   "cell_type": "markdown",
   "metadata": {},
   "source": [
    "现在我们创建一个叫LinReg的线性回归实例。"
   ]
  },
  {
   "cell_type": "code",
   "execution_count": 9,
   "metadata": {},
   "outputs": [],
   "source": [
    "LinReg = LinearRegression()"
   ]
  },
  {
   "cell_type": "markdown",
   "metadata": {},
   "source": [
    "鼠标移动到下列绿边块上可以得到答案\n",
    "<p id=\"ans\">\n",
    "<font color = \"white\"> LinReg = LinearRegression()</font>\n",
    "</p>"
   ]
  },
  {
   "cell_type": "markdown",
   "metadata": {},
   "source": [
    "现在让我们使用<b>diabetes_X</b> 作为 <b>特征矩阵</b> 并且 <b>diabetes.target</b> 作为 <b>响应向量</b>。使用我们之前加载（如果你没加载请加载）的 <b>train_test_split</b> 方法拆分训练和测试数据。 <b>train_test_split</b> 函数使用参数<b>test_size = 0.3</b>， <b>random state = 7</b>，最后将结果返回至 <b>X_trainset</b>, <b>X_testset</b>, <b>y_trainset</b>, <b>y_testset</b>"
   ]
  },
  {
   "cell_type": "code",
   "execution_count": 10,
   "metadata": {},
   "outputs": [],
   "source": [
    "from sklearn.model_selection import train_test_split\n",
    "X_trainset, X_testset, y_trainset, y_testset = train_test_split(diabetes_X, diabetes.target, test_size=0.3, random_state=7)"
   ]
  },
  {
   "cell_type": "markdown",
   "metadata": {},
   "source": [
    "\n",
    "鼠标移动到下列绿边块上可以得到答案\n",
    "<p id=\"ans\">\n",
    "<font color = \"white\">\n",
    "X_trainset, X_testset, y_trainset, y_testset = train_test_split(diabetes_X, diabetes.target, test_size=0.3, random_state=7)</font>\n",
    "</p>"
   ]
  },
  {
   "cell_type": "markdown",
   "metadata": {},
   "source": [
    "使用训练数据<b>X_trainset</b>和<b>y_trainset</b>训练<b>LinReg</b>"
   ]
  },
  {
   "cell_type": "code",
   "execution_count": 11,
   "metadata": {},
   "outputs": [
    {
     "data": {
      "text/plain": [
       "LinearRegression(copy_X=True, fit_intercept=True, n_jobs=None,\n",
       "         normalize=False)"
      ]
     },
     "execution_count": 11,
     "metadata": {},
     "output_type": "execute_result"
    }
   ],
   "source": [
    "LinReg.fit(X_trainset, y_trainset)"
   ]
  },
  {
   "cell_type": "markdown",
   "metadata": {},
   "source": [
    "鼠标移动到下列绿边块上可以得到答案\n",
    "<p id=\"ans\">\n",
    "<font color = \"white\"> LinReg.fit(X_trainset, y_trainset)</font>\n",
    "</p>"
   ]
  },
  {
   "cell_type": "markdown",
   "metadata": {},
   "source": [
    "绘制图像\n",
    "<p> 使用 plt的 <b>scatter</b>函数画出所有测试数据（<b>X_testset</b> and <b>y_testset</b>）的数据点并涂上黑色\n",
    "<p> 使用 plt的 <b>plot</b> 函数画出<b>X_testset</b>和<b>LinReg.predict(X_testset)</b>的拟合曲线。曲线宽度为3。"
   ]
  },
  {
   "cell_type": "code",
   "execution_count": 14,
   "metadata": {},
   "outputs": [
    {
     "data": {
      "image/png": "[encoded data removed]",
      "text/plain": [
       "<Figure size 432x288 with 1 Axes>"
      ]
     },
     "metadata": {
      "needs_background": "light"
     },
     "output_type": "display_data"
    },
    {
     "data": {
      "image/png": "[encoded data removed]",
      "text/plain": [
       "<Figure size 432x288 with 1 Axes>"
      ]
     },
     "metadata": {
      "needs_background": "light"
     },
     "output_type": "display_data"
    }
   ],
   "source": [
    "plt.scatter(X_trainset, y_trainset, color='black')\n",
    "plt.plot(X_trainset, LinReg.predict(X_trainset), color='blue', linewidth=3)\n",
    "plt.title('TrainSet')\n",
    "plt.show()\n",
    "\n",
    "plt.scatter(X_testset, y_testset, color='black')\n",
    "plt.plot(X_testset, LinReg.predict(X_testset), color='blue', linewidth=3)\n",
    "plt.title('TestSet')\n",
    "plt.show()"
   ]
  },
  {
   "cell_type": "markdown",
   "metadata": {},
   "source": [
    "鼠标移动到下列绿边块上可以得到答案\n",
    "<p id=\"ans\">\n",
    "<font color = \"white\"> plt.scatter(X_testset, y_testset, color='black')<br>\n",
    "plt.plot(X_testset, LinReg.predict(X_testset), color='blue', linewidth=3)</font>\n",
    "</p>"
   ]
  },
  {
   "cell_type": "markdown",
   "metadata": {},
   "source": [
    "现在预测曲线是以训练数据为基础的。对比一下，你会发现一点点的偏差，但是总体预测还是合理的。"
   ]
  }
 ],
 "metadata": {
  "anaconda-cloud": {},
  "kernelspec": {
   "display_name": "Python 3",
   "language": "python",
   "name": "python3"
  },
  "language_info": {
   "codemirror_mode": {
    "name": "ipython",
    "version": 3
   },
   "file_extension": ".py",
   "mimetype": "text/x-python",
   "name": "python",
   "nbconvert_exporter": "python",
   "pygments_lexer": "ipython3",
   "version": "3.7.3"
  },
  "toc": {
   "base_numbering": 1,
   "nav_menu": {},
   "number_sections": true,
   "sideBar": true,
   "skip_h1_title": false,
   "title_cell": "Table of Contents",
   "title_sidebar": "Contents",
   "toc_cell": false,
   "toc_position": {},
   "toc_section_display": true,
   "toc_window_display": false
  }
 },
 "nbformat": 4,
 "nbformat_minor": 1
}
