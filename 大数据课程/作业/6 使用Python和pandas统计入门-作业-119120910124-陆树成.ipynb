{
 "cells": [
  {
   "cell_type": "markdown",
   "metadata": {},
   "source": [
    "<h1, align=center> &nbsp;&nbsp;&nbsp;&nbsp;&nbsp;&nbsp;&nbsp;数据科学引论 - Python之道 </h1>\n",
    "\n",
    "<h1, align=center> &nbsp;&nbsp;&nbsp;&nbsp;&nbsp;&nbsp;&nbsp;&nbsp;第6课 使用Python和pandas统计入门 - 作业 </h1>"
   ]
  },
  {
   "cell_type": "markdown",
   "metadata": {},
   "source": [
    "某个国家想为9年级学生删去一些预修课程。9年级一共有156577名学生在上这些课程。作为一个数据科学家，你需要去决定哪些课程需要保留，哪些需要删除。为此，你需要统计一些数据，并且以直方图形式展示，最后给出你的答案。\n"
   ]
  },
  {
   "cell_type": "markdown",
   "metadata": {},
   "source": [
    "<h2, align=center>获得数据</h2>"
   ]
  },
  {
   "cell_type": "markdown",
   "metadata": {},
   "source": [
    "现在，我们先通过下面链接得到csv数据文件"
   ]
  },
  {
   "cell_type": "code",
   "execution_count": null,
   "metadata": {},
   "outputs": [],
   "source": [
    "#linux !wget --output-document /resources/data/Grade9.csv https://ibm.box.com/shared/static/nx0f9mgmw2d1ysgyj9d77focjejxs849.csv\n",
    "#自行下载"
   ]
  },
  {
   "cell_type": "markdown",
   "metadata": {},
   "source": [
    "### 载入所需的 `pandas` 库"
   ]
  },
  {
   "cell_type": "code",
   "execution_count": 1,
   "metadata": {},
   "outputs": [],
   "source": [
    "import pandas as pd\n",
    "import numpy as np\n",
    "import matplotlib.pyplot as plt\n",
    "import matplotlib.mlab as mlab\n",
    "%matplotlib inline "
   ]
  },
  {
   "cell_type": "markdown",
   "metadata": {},
   "source": [
    "#### 使用`pd.read_csv` 导入数据"
   ]
  },
  {
   "cell_type": "markdown",
   "metadata": {},
   "source": [
    "数据中，第一列代表课程名，第二列代表课程的学生人数"
   ]
  },
  {
   "cell_type": "code",
   "execution_count": 2,
   "metadata": {},
   "outputs": [],
   "source": [
    "#linux StudentInfo = pd.read_csv('/resources/data/Grade9.csv')\n",
    "StudentInfo = pd.read_csv('resources/data/Grade9.csv')"
   ]
  },
  {
   "cell_type": "markdown",
   "metadata": {},
   "source": [
    "### 清洗数据"
   ]
  },
  {
   "cell_type": "code",
   "execution_count": 3,
   "metadata": {},
   "outputs": [],
   "source": [
    "Names=StudentInfo[['Unnamed: 0']].values.flatten()\n",
    "StudentInfo=StudentInfo.set_index(Names)\n",
    "del StudentInfo['Unnamed: 0']"
   ]
  },
  {
   "cell_type": "code",
   "execution_count": 4,
   "metadata": {
    "scrolled": true
   },
   "outputs": [
    {
     "data": {
      "text/html": [
       "<div>\n",
       "<style scoped>\n",
       "    .dataframe tbody tr th:only-of-type {\n",
       "        vertical-align: middle;\n",
       "    }\n",
       "\n",
       "    .dataframe tbody tr th {\n",
       "        vertical-align: top;\n",
       "    }\n",
       "\n",
       "    .dataframe thead th {\n",
       "        text-align: right;\n",
       "    }\n",
       "</style>\n",
       "<table border=\"1\" class=\"dataframe\">\n",
       "  <thead>\n",
       "    <tr style=\"text-align: right;\">\n",
       "      <th></th>\n",
       "      <th>Students (9th Grade)</th>\n",
       "    </tr>\n",
       "  </thead>\n",
       "  <tbody>\n",
       "    <tr>\n",
       "      <td>ART HISTORY</td>\n",
       "      <td>345</td>\n",
       "    </tr>\n",
       "    <tr>\n",
       "      <td>BIOLOGY</td>\n",
       "      <td>3995</td>\n",
       "    </tr>\n",
       "    <tr>\n",
       "      <td>CALCULUS AB</td>\n",
       "      <td>727</td>\n",
       "    </tr>\n",
       "    <tr>\n",
       "      <td>CALCULUS BC</td>\n",
       "      <td>451</td>\n",
       "    </tr>\n",
       "    <tr>\n",
       "      <td>CHEMISTRY</td>\n",
       "      <td>338</td>\n",
       "    </tr>\n",
       "    <tr>\n",
       "      <td>CHINESE LANGUAGE &amp; CULTURE</td>\n",
       "      <td>1456</td>\n",
       "    </tr>\n",
       "    <tr>\n",
       "      <td>COMPUTER SCIENCE A</td>\n",
       "      <td>1365</td>\n",
       "    </tr>\n",
       "    <tr>\n",
       "      <td>MACROECONOMICS</td>\n",
       "      <td>557</td>\n",
       "    </tr>\n",
       "    <tr>\n",
       "      <td>MICROECONOMICS</td>\n",
       "      <td>520</td>\n",
       "    </tr>\n",
       "    <tr>\n",
       "      <td>ENGLISH LANGUAGE &amp; COMPOSITION</td>\n",
       "      <td>334</td>\n",
       "    </tr>\n",
       "    <tr>\n",
       "      <td>ENGLISH LITERATURE &amp; COMPOSITION</td>\n",
       "      <td>95</td>\n",
       "    </tr>\n",
       "    <tr>\n",
       "      <td>ENVIRONMENTAL SCIENCE</td>\n",
       "      <td>5041</td>\n",
       "    </tr>\n",
       "    <tr>\n",
       "      <td>EUROPEAN HISTORY</td>\n",
       "      <td>1157</td>\n",
       "    </tr>\n",
       "    <tr>\n",
       "      <td>FRENCH LANGUAGE &amp; CULTURE</td>\n",
       "      <td>264</td>\n",
       "    </tr>\n",
       "    <tr>\n",
       "      <td>GERMAN LANGUAGE &amp; CULTURE</td>\n",
       "      <td>100</td>\n",
       "    </tr>\n",
       "    <tr>\n",
       "      <td>GOVERNMENT &amp; POLITICS: COMPARATIVE</td>\n",
       "      <td>103</td>\n",
       "    </tr>\n",
       "    <tr>\n",
       "      <td>GOVERNMENT &amp; POLITICS: U.S.</td>\n",
       "      <td>8222</td>\n",
       "    </tr>\n",
       "    <tr>\n",
       "      <td>HUMAN GEOGRAPHY</td>\n",
       "      <td>115711</td>\n",
       "    </tr>\n",
       "    <tr>\n",
       "      <td>ITALIAN LANGUAGE &amp; CULTURE</td>\n",
       "      <td>56</td>\n",
       "    </tr>\n",
       "    <tr>\n",
       "      <td>JAPANESE LANGUAGE &amp; CULTURE</td>\n",
       "      <td>187</td>\n",
       "    </tr>\n",
       "    <tr>\n",
       "      <td>LATIN</td>\n",
       "      <td>14</td>\n",
       "    </tr>\n",
       "    <tr>\n",
       "      <td>MUSIC THEORY</td>\n",
       "      <td>289</td>\n",
       "    </tr>\n",
       "    <tr>\n",
       "      <td>PHYSICS C: ELECTRICITY &amp; MAGNETISM</td>\n",
       "      <td>24</td>\n",
       "    </tr>\n",
       "    <tr>\n",
       "      <td>PHYSICS C: MECHANICS</td>\n",
       "      <td>60</td>\n",
       "    </tr>\n",
       "    <tr>\n",
       "      <td>PHYSICS 1</td>\n",
       "      <td>1790</td>\n",
       "    </tr>\n",
       "    <tr>\n",
       "      <td>PHYSICS 2</td>\n",
       "      <td>59</td>\n",
       "    </tr>\n",
       "    <tr>\n",
       "      <td>PSYCHOLOGY</td>\n",
       "      <td>1322</td>\n",
       "    </tr>\n",
       "    <tr>\n",
       "      <td>RESEARCH</td>\n",
       "      <td>0</td>\n",
       "    </tr>\n",
       "    <tr>\n",
       "      <td>SEMINAR</td>\n",
       "      <td>275</td>\n",
       "    </tr>\n",
       "    <tr>\n",
       "      <td>SPANISH LANGUAGE</td>\n",
       "      <td>6768</td>\n",
       "    </tr>\n",
       "    <tr>\n",
       "      <td>SPANISH LITERATURE</td>\n",
       "      <td>703</td>\n",
       "    </tr>\n",
       "    <tr>\n",
       "      <td>STATISTICS</td>\n",
       "      <td>555</td>\n",
       "    </tr>\n",
       "    <tr>\n",
       "      <td>STUDIO ART: DRAWING</td>\n",
       "      <td>23</td>\n",
       "    </tr>\n",
       "    <tr>\n",
       "      <td>STUDIO ART: 2-D DESIGN</td>\n",
       "      <td>272</td>\n",
       "    </tr>\n",
       "    <tr>\n",
       "      <td>STUDIO ART: 3-D DESIGN</td>\n",
       "      <td>14</td>\n",
       "    </tr>\n",
       "    <tr>\n",
       "      <td>U.S. HISTORY</td>\n",
       "      <td>3385</td>\n",
       "    </tr>\n",
       "  </tbody>\n",
       "</table>\n",
       "</div>"
      ],
      "text/plain": [
       "                                    Students (9th Grade)\n",
       "ART HISTORY                                          345\n",
       "BIOLOGY                                             3995\n",
       "CALCULUS AB                                          727\n",
       "CALCULUS BC                                          451\n",
       "CHEMISTRY                                            338\n",
       "CHINESE LANGUAGE & CULTURE                          1456\n",
       "COMPUTER SCIENCE A                                  1365\n",
       "MACROECONOMICS                                       557\n",
       "MICROECONOMICS                                       520\n",
       "ENGLISH LANGUAGE & COMPOSITION                       334\n",
       "ENGLISH LITERATURE & COMPOSITION                      95\n",
       "ENVIRONMENTAL SCIENCE                               5041\n",
       "EUROPEAN HISTORY                                    1157\n",
       "FRENCH LANGUAGE & CULTURE                            264\n",
       "GERMAN LANGUAGE & CULTURE                            100\n",
       "GOVERNMENT & POLITICS: COMPARATIVE                   103\n",
       "GOVERNMENT & POLITICS: U.S.                         8222\n",
       "HUMAN GEOGRAPHY                                   115711\n",
       "ITALIAN LANGUAGE & CULTURE                            56\n",
       "JAPANESE LANGUAGE & CULTURE                          187\n",
       "LATIN                                                 14\n",
       "MUSIC THEORY                                         289\n",
       "PHYSICS C: ELECTRICITY & MAGNETISM                    24\n",
       "PHYSICS C: MECHANICS                                  60\n",
       "PHYSICS 1                                           1790\n",
       "PHYSICS 2                                             59\n",
       "PSYCHOLOGY                                          1322\n",
       "RESEARCH                                               0\n",
       "SEMINAR                                              275\n",
       "SPANISH LANGUAGE                                    6768\n",
       "SPANISH LITERATURE                                   703\n",
       "STATISTICS                                           555\n",
       "STUDIO ART: DRAWING                                   23\n",
       "STUDIO ART: 2-D DESIGN                               272\n",
       "STUDIO ART: 3-D DESIGN                                14\n",
       "U.S. HISTORY                                        3385"
      ]
     },
     "execution_count": 4,
     "metadata": {},
     "output_type": "execute_result"
    }
   ],
   "source": [
    "StudentInfo"
   ]
  },
  {
   "cell_type": "markdown",
   "metadata": {},
   "source": [
    " 1) 所有课程的学生平均数是多少？"
   ]
  },
  {
   "cell_type": "code",
   "execution_count": 5,
   "metadata": {},
   "outputs": [
    {
     "data": {
      "text/plain": [
       "Students (9th Grade)    4349.361111\n",
       "dtype: float64"
      ]
     },
     "execution_count": 5,
     "metadata": {},
     "output_type": "execute_result"
    }
   ],
   "source": [
    "StudentInfo.mean()"
   ]
  },
  {
   "cell_type": "markdown",
   "metadata": {},
   "source": [
    "2) 学生人数的中位数是多少？"
   ]
  },
  {
   "cell_type": "code",
   "execution_count": 6,
   "metadata": {},
   "outputs": [
    {
     "data": {
      "text/plain": [
       "Students (9th Grade)    341.5\n",
       "dtype: float64"
      ]
     },
     "execution_count": 6,
     "metadata": {},
     "output_type": "execute_result"
    }
   ],
   "source": [
    "StudentInfo.median()"
   ]
  },
  {
   "cell_type": "markdown",
   "metadata": {},
   "source": [
    "<div align=\"right\">\n",
    "<a href=\"#median\" class=\"btn btn-default\" data-toggle=\"collapse\">Click here for the solution</a>\n",
    "</div>\n",
    "<div id=\"median\" class=\"collapse\">\n",
    "StudentInfo.median()\n",
    "</div>"
   ]
  },
  {
   "cell_type": "markdown",
   "metadata": {},
   "source": [
    "3) 为什么中位数和平均数相差大？"
   ]
  },
  {
   "cell_type": "code",
   "execution_count": 7,
   "metadata": {},
   "outputs": [
    {
     "data": {
      "text/html": [
       "<div>\n",
       "<style scoped>\n",
       "    .dataframe tbody tr th:only-of-type {\n",
       "        vertical-align: middle;\n",
       "    }\n",
       "\n",
       "    .dataframe tbody tr th {\n",
       "        vertical-align: top;\n",
       "    }\n",
       "\n",
       "    .dataframe thead th {\n",
       "        text-align: right;\n",
       "    }\n",
       "</style>\n",
       "<table border=\"1\" class=\"dataframe\">\n",
       "  <thead>\n",
       "    <tr style=\"text-align: right;\">\n",
       "      <th></th>\n",
       "      <th>Students (9th Grade)</th>\n",
       "    </tr>\n",
       "  </thead>\n",
       "  <tbody>\n",
       "    <tr>\n",
       "      <td>count</td>\n",
       "      <td>36.000000</td>\n",
       "    </tr>\n",
       "    <tr>\n",
       "      <td>mean</td>\n",
       "      <td>4349.361111</td>\n",
       "    </tr>\n",
       "    <tr>\n",
       "      <td>std</td>\n",
       "      <td>19188.817443</td>\n",
       "    </tr>\n",
       "    <tr>\n",
       "      <td>min</td>\n",
       "      <td>0.000000</td>\n",
       "    </tr>\n",
       "    <tr>\n",
       "      <td>25%</td>\n",
       "      <td>98.750000</td>\n",
       "    </tr>\n",
       "    <tr>\n",
       "      <td>50%</td>\n",
       "      <td>341.500000</td>\n",
       "    </tr>\n",
       "    <tr>\n",
       "      <td>75%</td>\n",
       "      <td>1332.750000</td>\n",
       "    </tr>\n",
       "    <tr>\n",
       "      <td>max</td>\n",
       "      <td>115711.000000</td>\n",
       "    </tr>\n",
       "  </tbody>\n",
       "</table>\n",
       "</div>"
      ],
      "text/plain": [
       "       Students (9th Grade)\n",
       "count             36.000000\n",
       "mean            4349.361111\n",
       "std            19188.817443\n",
       "min                0.000000\n",
       "25%               98.750000\n",
       "50%              341.500000\n",
       "75%             1332.750000\n",
       "max           115711.000000"
      ]
     },
     "execution_count": 7,
     "metadata": {},
     "output_type": "execute_result"
    }
   ],
   "source": [
    "StudentInfo.describe()"
   ]
  },
  {
   "cell_type": "markdown",
   "metadata": {},
   "source": [
    "答：因为数据中有outliner（离群值点），平均数对此很敏感但中位数不会，最大值达到了11万，远超其他分位数的量级"
   ]
  },
  {
   "cell_type": "markdown",
   "metadata": {},
   "source": []
  },
  {
   "cell_type": "markdown",
   "metadata": {},
   "source": [
    " <div align=\"right\">\n",
    "<a href=\"#q3\" class=\"btn btn-default\" data-toggle=\"collapse\">Click here for the solution</a>\n",
    "</div>\n",
    "<div id=\"q3\" class=\"collapse\">\n",
    " 平均数容易受离群值（边缘值）影响\n",
    "</div>"
   ]
  },
  {
   "cell_type": "markdown",
   "metadata": {},
   "source": [
    "4) 现在你还觉得应该保留所有课程么？"
   ]
  },
  {
   "cell_type": "markdown",
   "metadata": {},
   "source": [
    "不应该保留所有课程，中位数远小于平均数说明大部分课程只有极少数人选了，大多数人选的课程都集中在几门课上"
   ]
  },
  {
   "cell_type": "markdown",
   "metadata": {},
   "source": []
  },
  {
   "cell_type": "markdown",
   "metadata": {},
   "source": [
    "<div align=\"right\">\n",
    "<a href=\"#q4\" class=\"btn btn-default\" data-toggle=\"collapse\">Click here for the solution</a>\n",
    "</div>\n",
    "<div id=\"q4\" class=\"collapse\">\n",
    "不，中位数是350，但是平均是4349。这意味着一半课程都只有350不到的人，而少部分课程占了大量的学生。\n",
    "</div>"
   ]
  },
  {
   "cell_type": "markdown",
   "metadata": {},
   "source": [
    "5) 标准差是多少？"
   ]
  },
  {
   "cell_type": "code",
   "execution_count": 8,
   "metadata": {},
   "outputs": [
    {
     "data": {
      "text/plain": [
       "Students (9th Grade)    19188.817443\n",
       "dtype: float64"
      ]
     },
     "execution_count": 8,
     "metadata": {},
     "output_type": "execute_result"
    }
   ],
   "source": [
    "StudentInfo.std()"
   ]
  },
  {
   "cell_type": "markdown",
   "metadata": {},
   "source": [
    "6) 学生人数的最大值是多少？"
   ]
  },
  {
   "cell_type": "code",
   "execution_count": 9,
   "metadata": {},
   "outputs": [
    {
     "data": {
      "text/plain": [
       "Students (9th Grade)    115711\n",
       "dtype: int64"
      ]
     },
     "execution_count": 9,
     "metadata": {},
     "output_type": "execute_result"
    }
   ],
   "source": [
    "StudentInfo.max()"
   ]
  },
  {
   "cell_type": "markdown",
   "metadata": {},
   "source": [
    "7) 通过中位数和最大值解释为什么标准差如此巨大？"
   ]
  },
  {
   "cell_type": "markdown",
   "metadata": {},
   "source": [
    "最大值相比中位数差距很大，说明有一半数据与最大数差异很大，自然与平均数差异很大，标准差也就很大"
   ]
  },
  {
   "cell_type": "markdown",
   "metadata": {},
   "source": []
  },
  {
   "cell_type": "markdown",
   "metadata": {},
   "source": [
    "<div align=\"right\">\n",
    "<a href=\"#q8\" class=\"btn btn-default\" data-toggle=\"collapse\">Click here for the solution</a>\n",
    "</div>\n",
    "<div id=\"q8\" class=\"collapse\">\n",
    "最大值远大于中位数\n",
    "</div>\n"
   ]
  },
  {
   "cell_type": "markdown",
   "metadata": {},
   "source": [
    "8) 使用直方图展示数据"
   ]
  },
  {
   "cell_type": "code",
   "execution_count": 10,
   "metadata": {},
   "outputs": [
    {
     "name": "stderr",
     "output_type": "stream",
     "text": [
      "F:\\Anaconda\\lib\\site-packages\\ipykernel_launcher.py:8: RuntimeWarning: divide by zero encountered in log\n",
      "  \n"
     ]
    },
    {
     "data": {
      "image/png": "[encoded data removed]",
      "text/plain": [
       "<Figure size 1080x432 with 2 Axes>"
      ]
     },
     "metadata": {
      "needs_background": "light"
     },
     "output_type": "display_data"
    }
   ],
   "source": [
    "fig=plt.figure(figsize=(15,6))\n",
    "ax=fig.add_subplot(121)\n",
    "ax.bar(StudentInfo['Students (9th Grade)'].index,StudentInfo['Students (9th Grade)'].values)\n",
    "plt.xticks(rotation=90)\n",
    "plt.title('Bar Diagram With Original Data')\n",
    "plt.xlabel('Subject')\n",
    "ax=fig.add_subplot(122)\n",
    "ax.bar(StudentInfo['Students (9th Grade)'].index,np.log(StudentInfo['Students (9th Grade)'].values))\n",
    "plt.xticks(rotation=90)\n",
    "plt.title('Bar Diagram With Original Log Data')\n",
    "plt.xlabel('Subject')\n",
    "plt.show()"
   ]
  },
  {
   "cell_type": "markdown",
   "metadata": {},
   "source": [
    "9)学生人数最多的课程名是什么？"
   ]
  },
  {
   "cell_type": "code",
   "execution_count": 11,
   "metadata": {},
   "outputs": [
    {
     "data": {
      "text/plain": [
       "Students (9th Grade)    HUMAN GEOGRAPHY\n",
       "dtype: object"
      ]
     },
     "execution_count": 11,
     "metadata": {},
     "output_type": "execute_result"
    }
   ],
   "source": [
    "StudentInfo.idxmax()"
   ]
  },
  {
   "cell_type": "markdown",
   "metadata": {
    "collapsed": true
   },
   "source": [
    "10) 如果需要只想保留一门课，那是哪门课？ "
   ]
  },
  {
   "cell_type": "code",
   "execution_count": 12,
   "metadata": {},
   "outputs": [
    {
     "data": {
      "text/plain": [
       "Students (9th Grade)    HUMAN GEOGRAPHY\n",
       "dtype: object"
      ]
     },
     "execution_count": 12,
     "metadata": {},
     "output_type": "execute_result"
    }
   ],
   "source": [
    "StudentInfo.idxmax()"
   ]
  },
  {
   "cell_type": "code",
   "execution_count": 13,
   "metadata": {
    "scrolled": true
   },
   "outputs": [
    {
     "data": {
      "text/html": [
       "<div>\n",
       "<style scoped>\n",
       "    .dataframe tbody tr th:only-of-type {\n",
       "        vertical-align: middle;\n",
       "    }\n",
       "\n",
       "    .dataframe tbody tr th {\n",
       "        vertical-align: top;\n",
       "    }\n",
       "\n",
       "    .dataframe thead th {\n",
       "        text-align: right;\n",
       "    }\n",
       "</style>\n",
       "<table border=\"1\" class=\"dataframe\">\n",
       "  <thead>\n",
       "    <tr style=\"text-align: right;\">\n",
       "      <th></th>\n",
       "      <th>Students (9th Grade)</th>\n",
       "    </tr>\n",
       "  </thead>\n",
       "  <tbody>\n",
       "    <tr>\n",
       "      <td>ART HISTORY</td>\n",
       "      <td>345</td>\n",
       "    </tr>\n",
       "    <tr>\n",
       "      <td>BIOLOGY</td>\n",
       "      <td>3995</td>\n",
       "    </tr>\n",
       "    <tr>\n",
       "      <td>CALCULUS AB</td>\n",
       "      <td>727</td>\n",
       "    </tr>\n",
       "    <tr>\n",
       "      <td>CALCULUS BC</td>\n",
       "      <td>451</td>\n",
       "    </tr>\n",
       "    <tr>\n",
       "      <td>CHEMISTRY</td>\n",
       "      <td>338</td>\n",
       "    </tr>\n",
       "    <tr>\n",
       "      <td>CHINESE LANGUAGE &amp; CULTURE</td>\n",
       "      <td>1456</td>\n",
       "    </tr>\n",
       "    <tr>\n",
       "      <td>COMPUTER SCIENCE A</td>\n",
       "      <td>1365</td>\n",
       "    </tr>\n",
       "    <tr>\n",
       "      <td>MACROECONOMICS</td>\n",
       "      <td>557</td>\n",
       "    </tr>\n",
       "    <tr>\n",
       "      <td>MICROECONOMICS</td>\n",
       "      <td>520</td>\n",
       "    </tr>\n",
       "    <tr>\n",
       "      <td>ENGLISH LANGUAGE &amp; COMPOSITION</td>\n",
       "      <td>334</td>\n",
       "    </tr>\n",
       "    <tr>\n",
       "      <td>ENGLISH LITERATURE &amp; COMPOSITION</td>\n",
       "      <td>95</td>\n",
       "    </tr>\n",
       "    <tr>\n",
       "      <td>ENVIRONMENTAL SCIENCE</td>\n",
       "      <td>5041</td>\n",
       "    </tr>\n",
       "    <tr>\n",
       "      <td>EUROPEAN HISTORY</td>\n",
       "      <td>1157</td>\n",
       "    </tr>\n",
       "    <tr>\n",
       "      <td>FRENCH LANGUAGE &amp; CULTURE</td>\n",
       "      <td>264</td>\n",
       "    </tr>\n",
       "    <tr>\n",
       "      <td>GERMAN LANGUAGE &amp; CULTURE</td>\n",
       "      <td>100</td>\n",
       "    </tr>\n",
       "    <tr>\n",
       "      <td>GOVERNMENT &amp; POLITICS: COMPARATIVE</td>\n",
       "      <td>103</td>\n",
       "    </tr>\n",
       "    <tr>\n",
       "      <td>GOVERNMENT &amp; POLITICS: U.S.</td>\n",
       "      <td>8222</td>\n",
       "    </tr>\n",
       "    <tr>\n",
       "      <td>HUMAN GEOGRAPHY</td>\n",
       "      <td>115711</td>\n",
       "    </tr>\n",
       "    <tr>\n",
       "      <td>ITALIAN LANGUAGE &amp; CULTURE</td>\n",
       "      <td>56</td>\n",
       "    </tr>\n",
       "    <tr>\n",
       "      <td>JAPANESE LANGUAGE &amp; CULTURE</td>\n",
       "      <td>187</td>\n",
       "    </tr>\n",
       "    <tr>\n",
       "      <td>LATIN</td>\n",
       "      <td>14</td>\n",
       "    </tr>\n",
       "    <tr>\n",
       "      <td>MUSIC THEORY</td>\n",
       "      <td>289</td>\n",
       "    </tr>\n",
       "    <tr>\n",
       "      <td>PHYSICS C: ELECTRICITY &amp; MAGNETISM</td>\n",
       "      <td>24</td>\n",
       "    </tr>\n",
       "    <tr>\n",
       "      <td>PHYSICS C: MECHANICS</td>\n",
       "      <td>60</td>\n",
       "    </tr>\n",
       "    <tr>\n",
       "      <td>PHYSICS 1</td>\n",
       "      <td>1790</td>\n",
       "    </tr>\n",
       "    <tr>\n",
       "      <td>PHYSICS 2</td>\n",
       "      <td>59</td>\n",
       "    </tr>\n",
       "    <tr>\n",
       "      <td>PSYCHOLOGY</td>\n",
       "      <td>1322</td>\n",
       "    </tr>\n",
       "    <tr>\n",
       "      <td>RESEARCH</td>\n",
       "      <td>0</td>\n",
       "    </tr>\n",
       "    <tr>\n",
       "      <td>SEMINAR</td>\n",
       "      <td>275</td>\n",
       "    </tr>\n",
       "    <tr>\n",
       "      <td>SPANISH LANGUAGE</td>\n",
       "      <td>6768</td>\n",
       "    </tr>\n",
       "    <tr>\n",
       "      <td>SPANISH LITERATURE</td>\n",
       "      <td>703</td>\n",
       "    </tr>\n",
       "    <tr>\n",
       "      <td>STATISTICS</td>\n",
       "      <td>555</td>\n",
       "    </tr>\n",
       "    <tr>\n",
       "      <td>STUDIO ART: DRAWING</td>\n",
       "      <td>23</td>\n",
       "    </tr>\n",
       "    <tr>\n",
       "      <td>STUDIO ART: 2-D DESIGN</td>\n",
       "      <td>272</td>\n",
       "    </tr>\n",
       "    <tr>\n",
       "      <td>STUDIO ART: 3-D DESIGN</td>\n",
       "      <td>14</td>\n",
       "    </tr>\n",
       "    <tr>\n",
       "      <td>U.S. HISTORY</td>\n",
       "      <td>3385</td>\n",
       "    </tr>\n",
       "  </tbody>\n",
       "</table>\n",
       "</div>"
      ],
      "text/plain": [
       "                                    Students (9th Grade)\n",
       "ART HISTORY                                          345\n",
       "BIOLOGY                                             3995\n",
       "CALCULUS AB                                          727\n",
       "CALCULUS BC                                          451\n",
       "CHEMISTRY                                            338\n",
       "CHINESE LANGUAGE & CULTURE                          1456\n",
       "COMPUTER SCIENCE A                                  1365\n",
       "MACROECONOMICS                                       557\n",
       "MICROECONOMICS                                       520\n",
       "ENGLISH LANGUAGE & COMPOSITION                       334\n",
       "ENGLISH LITERATURE & COMPOSITION                      95\n",
       "ENVIRONMENTAL SCIENCE                               5041\n",
       "EUROPEAN HISTORY                                    1157\n",
       "FRENCH LANGUAGE & CULTURE                            264\n",
       "GERMAN LANGUAGE & CULTURE                            100\n",
       "GOVERNMENT & POLITICS: COMPARATIVE                   103\n",
       "GOVERNMENT & POLITICS: U.S.                         8222\n",
       "HUMAN GEOGRAPHY                                   115711\n",
       "ITALIAN LANGUAGE & CULTURE                            56\n",
       "JAPANESE LANGUAGE & CULTURE                          187\n",
       "LATIN                                                 14\n",
       "MUSIC THEORY                                         289\n",
       "PHYSICS C: ELECTRICITY & MAGNETISM                    24\n",
       "PHYSICS C: MECHANICS                                  60\n",
       "PHYSICS 1                                           1790\n",
       "PHYSICS 2                                             59\n",
       "PSYCHOLOGY                                          1322\n",
       "RESEARCH                                               0\n",
       "SEMINAR                                              275\n",
       "SPANISH LANGUAGE                                    6768\n",
       "SPANISH LITERATURE                                   703\n",
       "STATISTICS                                           555\n",
       "STUDIO ART: DRAWING                                   23\n",
       "STUDIO ART: 2-D DESIGN                               272\n",
       "STUDIO ART: 3-D DESIGN                                14\n",
       "U.S. HISTORY                                        3385"
      ]
     },
     "execution_count": 13,
     "metadata": {},
     "output_type": "execute_result"
    }
   ],
   "source": [
    "StudentInfo"
   ]
  },
  {
   "cell_type": "code",
   "execution_count": null,
   "metadata": {},
   "outputs": [],
   "source": []
  }
 ],
 "metadata": {
  "anaconda-cloud": {},
  "kernelspec": {
   "display_name": "Python 3",
   "language": "python",
   "name": "python3"
  },
  "language_info": {
   "codemirror_mode": {
    "name": "ipython",
    "version": 3
   },
   "file_extension": ".py",
   "mimetype": "text/x-python",
   "name": "python",
   "nbconvert_exporter": "python",
   "pygments_lexer": "ipython3",
   "version": "3.7.3"
  },
  "toc": {
   "base_numbering": 1,
   "nav_menu": {},
   "number_sections": true,
   "sideBar": true,
   "skip_h1_title": false,
   "title_cell": "Table of Contents",
   "title_sidebar": "Contents",
   "toc_cell": false,
   "toc_position": {},
   "toc_section_display": true,
   "toc_window_display": false
  }
 },
 "nbformat": 4,
 "nbformat_minor": 2
}
