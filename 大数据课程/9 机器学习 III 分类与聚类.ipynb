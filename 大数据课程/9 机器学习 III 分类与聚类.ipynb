{
 "cells": [
  {
   "cell_type": "markdown",
   "metadata": {},
   "source": [
    "<h1, align=center> &nbsp;&nbsp;&nbsp;&nbsp;&nbsp;&nbsp;&nbsp;数据科学引论 - Python之道 </h1>\n",
    "\n",
    "<h1, align=center> &nbsp;&nbsp;&nbsp;&nbsp;&nbsp;&nbsp;&nbsp;&nbsp;第9课 机器学习</h1>\n",
    "# <center>分类与聚类</center>"
   ]
  },
  {
   "cell_type": "markdown",
   "metadata": {},
   "source": [
    "<div class=\"alert alert-block alert-info\" style=\"margin-top: 20px\">\n",
    "<h2>目录</h2>  \n",
    "<font size = 3>\n",
    "1. <a href=\"#ref0\">将菜谱数据导入Python</a>  \n",
    "2. <a href=\"#ref1\">了解数据 & 数据准备</a>  \n",
    "3. <a href=\"#ref2\">哪几种烹饪方法是最相似的? (k-means聚类)</a>  \n",
    "4. <a href=\"#ref3\">我们能否根据食材来预测烹饪? (决策树)</a>  \n",
    "5. <a href=\"#ref4\">模型评估</a>  \n",
    " \n",
    "</font>\n",
    "<br>\n",
    "<p></p>\n",
    "</div>"
   ]
  },
  {
   "cell_type": "markdown",
   "metadata": {},
   "source": [
    "# <center> 1. 将菜谱数据导入Python</center>"
   ]
  },
  {
   "cell_type": "markdown",
   "metadata": {},
   "source": [
    "#### 轮到你了:\n",
    "\n",
    "将数据导入python:\n",
    "\n",
    "> `recipes = pd.read_csv('recipes.csv')`"
   ]
  },
  {
   "cell_type": "code",
   "execution_count": null,
   "metadata": {
    "collapsed": false
   },
   "outputs": [],
   "source": [
    "import pandas as pd\n",
    "import matplotlib.pyplot as plt\n",
    "import numpy as np\n",
    "import io\n",
    "from scipy import misc\n",
    "from pylab import rcParams\n",
    "%matplotlib inline\n",
    "plt.style.use('ggplot')\n",
    "#linux !wget  -O recipes.csv https://ibm.box.com/shared/static/5wah9atr5o1akuuavl2z9tkjzdinr1lv.csv \n",
    "recipes = pd.read_csv('resources/data/recipes.csv')\n",
    "print (\"Done\")"
   ]
  },
  {
   "cell_type": "markdown",
   "metadata": {},
   "source": [
    "<hr><a id=\"ref1\"></a>"
   ]
  },
  {
   "cell_type": "markdown",
   "metadata": {},
   "source": [
    "<h1 align = center> 2. 了解数据 & 数据准备 </h1>\n",
    "<br>\n",
    "<br>\n",
    "<img src = https://ibm.box.com/shared/static/ctv4qau0q7ny0af4jp8mwi50l8fehmsz. width = 600>"
   ]
  },
  {
   "cell_type": "markdown",
   "metadata": {},
   "source": [
    "### 显示前几行"
   ]
  },
  {
   "cell_type": "code",
   "execution_count": null,
   "metadata": {
    "collapsed": false
   },
   "outputs": [],
   "source": [
    "recipes.head()"
   ]
  },
  {
   "cell_type": "code",
   "execution_count": null,
   "metadata": {
    "collapsed": false
   },
   "outputs": [],
   "source": [
    "recipes[recipes['jasmine_tea']=='Yes']"
   ]
  },
  {
   "cell_type": "markdown",
   "metadata": {},
   "source": [
    "#### 总共有多少列，多少行?\n",
    "(rows, columns)"
   ]
  },
  {
   "cell_type": "code",
   "execution_count": null,
   "metadata": {
    "collapsed": false
   },
   "outputs": [],
   "source": [
    "recipes.shape"
   ]
  },
  {
   "cell_type": "code",
   "execution_count": null,
   "metadata": {
    "collapsed": false
   },
   "outputs": [],
   "source": [
    "recipes.columns"
   ]
  },
  {
   "cell_type": "markdown",
   "metadata": {},
   "source": [
    "<br>\n",
    "#### 哪个国家菜谱数量最多?\n",
    "首先我们还是先要看下数据是否需要清洗。"
   ]
  },
  {
   "cell_type": "code",
   "execution_count": null,
   "metadata": {
    "collapsed": false
   },
   "outputs": [],
   "source": [
    "#frequency table\n",
    "recipes['country'].value_counts()"
   ]
  },
  {
   "cell_type": "markdown",
   "metadata": {},
   "source": [
    "### 问题: 国家名不一致 (大小写与别名)\n",
    "\n",
    "**目标:**\n",
    "- 把所有名字变成小写\n",
    "- 使国家名一致"
   ]
  },
  {
   "cell_type": "markdown",
   "metadata": {},
   "source": [
    "把所有名字变成小写:"
   ]
  },
  {
   "cell_type": "code",
   "execution_count": null,
   "metadata": {
    "collapsed": false
   },
   "outputs": [],
   "source": [
    "recipes['country'] = recipes['country'].str.lower()"
   ]
  },
  {
   "cell_type": "markdown",
   "metadata": {},
   "source": [
    "使国家名一致:"
   ]
  },
  {
   "cell_type": "code",
   "execution_count": null,
   "metadata": {
    "collapsed": false
   },
   "outputs": [],
   "source": [
    "recipes.replace(to_replace = \"china\", value = \"chinese\", inplace=True)\n",
    "recipes.replace(to_replace = \"france\", value = \"french\", inplace=True)\n",
    "recipes.replace(to_replace = \"germany\", value = \"german\", inplace=True)\n",
    "recipes.replace(to_replace = \"india\", value = \"indian\", inplace=True)\n",
    "recipes.replace(to_replace = \"israel\", value = \"jewish\", inplace=True)\n",
    "recipes.replace(to_replace = \"italy\", value = \"italian\", inplace=True)\n",
    "recipes.replace(to_replace = \"japan\", value = \"japanese\", inplace=True)\n",
    "recipes.replace(to_replace = \"korea\", value = \"korean\", inplace=True)\n",
    "recipes.replace(to_replace = \"mexico\", value = \"mexican\", inplace=True)\n",
    "recipes.replace(to_replace = \"scandinavia\", value = \"scandinavian\", inplace=True)\n",
    "recipes.replace(to_replace = \"thailand\", value = \"thai\", inplace=True)\n",
    "recipes.replace(to_replace = \"vietnam\", value = \"vietnamese\", inplace=True)"
   ]
  },
  {
   "cell_type": "markdown",
   "metadata": {},
   "source": [
    "重新观察数据:"
   ]
  },
  {
   "cell_type": "code",
   "execution_count": null,
   "metadata": {
    "collapsed": false
   },
   "outputs": [],
   "source": [
    "#frequency table\n",
    "recipes['country'].value_counts()"
   ]
  },
  {
   "cell_type": "markdown",
   "metadata": {},
   "source": [
    "### 问题: 某些国家的菜谱极少\n",
    "删除这些菜谱数量少于50的国家。"
   ]
  },
  {
   "cell_type": "code",
   "execution_count": null,
   "metadata": {
    "collapsed": false
   },
   "outputs": [],
   "source": [
    "before =recipes.shape[0] #number of rows of original df\n",
    "HighReceipesCountries=recipes['country'].value_counts()>50\n",
    "recipes = (recipes[\n",
    "        recipes['country'].isin(\n",
    "            HighReceipesCountries[HighReceipesCountries].index.tolist()\n",
    "        )\n",
    "    ])\n",
    "after=recipes.shape[0];\n",
    "#python2 print before - after, \"rows removed.\"\n",
    "\n",
    "print (before - after, \"rows removed.\")\n",
    "recipes['country'].value_counts()"
   ]
  },
  {
   "cell_type": "code",
   "execution_count": null,
   "metadata": {
    "collapsed": false
   },
   "outputs": [],
   "source": [
    "HighReceipesCountries.values"
   ]
  },
  {
   "cell_type": "markdown",
   "metadata": {},
   "source": [
    "### 问题: 如果有一种食物含有大米（rice）、酱油（soy_sauce）、芥末（wasabi）和海藻（seaweed），我们能不能说它就是日本的食物？ "
   ]
  },
  {
   "cell_type": "code",
   "execution_count": null,
   "metadata": {
    "collapsed": false
   },
   "outputs": [],
   "source": [
    "recipes[(recipes['rice' ]== \"Yes\" ) &\n",
    "   (recipes['soy_sauce']==\"Yes\") & \n",
    "   (recipes['wasabi']== \"Yes\") &\n",
    "   (recipes['seaweed']==\"Yes\")]"
   ]
  },
  {
   "cell_type": "markdown",
   "metadata": {},
   "source": [
    " <br> \n",
    "### 问题: 哪些食材是最常见的?哪些最不常见?"
   ]
  },
  {
   "cell_type": "markdown",
   "metadata": {},
   "source": [
    "**目的:**\n",
    "- 统计所有菜谱的食材"
   ]
  },
  {
   "cell_type": "code",
   "execution_count": null,
   "metadata": {
    "collapsed": false,
    "scrolled": false
   },
   "outputs": [],
   "source": [
    "CountIngredients=(recipes=='Yes').sum()\n",
    "CountIngredients.sort_values(ascending=False)"
   ]
  },
  {
   "cell_type": "code",
   "execution_count": null,
   "metadata": {
    "collapsed": false
   },
   "outputs": [],
   "source": [
    "(recipes=='Yes').head()"
   ]
  },
  {
   "cell_type": "code",
   "execution_count": null,
   "metadata": {
    "collapsed": false
   },
   "outputs": [],
   "source": [
    "np.array([True, True, True]).sum()"
   ]
  },
  {
   "cell_type": "markdown",
   "metadata": {},
   "source": [
    "## 上述问题都是针对所有食谱的，那么每个国家使用食材的情况如何呢？"
   ]
  },
  {
   "cell_type": "markdown",
   "metadata": {},
   "source": [
    "<hr>"
   ]
  },
  {
   "cell_type": "markdown",
   "metadata": {},
   "source": [
    "### 问题: 不同国家的食材分布情况有何不同?\n",
    "\n",
    "每个国家的“概况”是什么??  \n",
    "- 中国人通常用什么食材?  \n",
    "- 到底什么是“加拿大食物”?  \n",
    "\n",
    "**目标:**\n",
    "- 统计每个国家的每种食材数量，然后根据该国家的菜谱数进行归一化\n",
    "    - 在结果数据集中，每个国家占一行，每种食材占一列\n",
    "    - 对于每个国家每种食材，展示含有某种食材的菜谱的占比\n",
    "    - 把结果导出到一个新的数据集\n",
    "    - 找到每个国家最喜欢使用的食材"
   ]
  },
  {
   "cell_type": "code",
   "execution_count": null,
   "metadata": {
    "collapsed": false
   },
   "outputs": [],
   "source": [
    "(recipes=='Yes').head()"
   ]
  },
  {
   "cell_type": "code",
   "execution_count": null,
   "metadata": {
    "collapsed": false
   },
   "outputs": [],
   "source": [
    "by_country_aggr=(recipes=='Yes').groupby(recipes['country']).sum()\n",
    "by_country_normalized = by_country_aggr.div(by_country_aggr.sum(axis=1), axis=0)\n",
    "by_country_normalized.head()"
   ]
  },
  {
   "cell_type": "markdown",
   "metadata": {
    "collapsed": true
   },
   "source": [
    "### 什么是中国菜?"
   ]
  },
  {
   "cell_type": "code",
   "execution_count": null,
   "metadata": {
    "collapsed": false
   },
   "outputs": [],
   "source": [
    "by_country_normalized.loc['chinese'].sort_values( ascending=False)\n",
    "#by_country_norm.ix['canada',:].sort_values( ascending=False)\n"
   ]
  },
  {
   "cell_type": "code",
   "execution_count": null,
   "metadata": {
    "collapsed": false
   },
   "outputs": [],
   "source": [
    "#Try for different  regions \n",
    "NameofRegion=by_country_normalized.index.get_values()\n",
    "NameofRegion"
   ]
  },
  {
   "cell_type": "markdown",
   "metadata": {},
   "source": [
    "### 问题: 在每个国家，最受欢迎的五种食材是什么呢?\n",
    "\n",
    "**目标:**\n",
    "- 对每个国家，获取最常见的5种食材"
   ]
  },
  {
   "cell_type": "markdown",
   "metadata": {},
   "source": [
    "<br>"
   ]
  },
  {
   "cell_type": "code",
   "execution_count": null,
   "metadata": {
    "collapsed": false,
    "scrolled": true
   },
   "outputs": [],
   "source": [
    "for Region in NameofRegion:\n",
    "#python2     print Region\n",
    "#python2     print by_country_normalized.loc[Region].sort_values( ascending=False).ix[0:5] \n",
    "#python2     print \"\\n\"\n",
    "    print (Region)\n",
    "    print (by_country_normalized.loc[Region].sort_values( ascending=False).ix[0:5]) \n",
    "    print (\"\\n\")"
   ]
  },
  {
   "cell_type": "markdown",
   "metadata": {},
   "source": [
    "<hr><a id=\"ref2\"></a>"
   ]
  },
  {
   "cell_type": "markdown",
   "metadata": {},
   "source": [
    "# <center>3. 哪些烹饪方法是最相似的? (K-means聚类)</center>"
   ]
  },
  {
   "cell_type": "markdown",
   "metadata": {},
   "source": [
    "从sklearn加载k-means聚类库"
   ]
  },
  {
   "cell_type": "code",
   "execution_count": null,
   "metadata": {
    "collapsed": true
   },
   "outputs": [],
   "source": [
    "from sklearn.cluster import KMeans"
   ]
  },
  {
   "cell_type": "markdown",
   "metadata": {},
   "source": [
    "设置簇的个数:"
   ]
  },
  {
   "cell_type": "code",
   "execution_count": null,
   "metadata": {
    "collapsed": true
   },
   "outputs": [],
   "source": [
    "n_cluster = 5"
   ]
  },
  {
   "cell_type": "markdown",
   "metadata": {},
   "source": [
    "运行聚类:"
   ]
  },
  {
   "cell_type": "code",
   "execution_count": null,
   "metadata": {
    "collapsed": false
   },
   "outputs": [],
   "source": [
    "y_pred = KMeans(n_clusters = n_cluster, random_state=0).fit_predict(by_country_normalized)"
   ]
  },
  {
   "cell_type": "markdown",
   "metadata": {},
   "source": [
    "## 展示聚类结果 "
   ]
  },
  {
   "cell_type": "code",
   "execution_count": null,
   "metadata": {
    "collapsed": false
   },
   "outputs": [],
   "source": [
    "for i in range(0,n_cluster):\n",
    "    print (\"Cluster number \"+str(i) +\"----------------------------------------------------------------------------\")\n",
    "    print (list(by_country_normalized[y_pred==i].index))\n",
    "    print (\"\")"
   ]
  },
  {
   "cell_type": "markdown",
   "metadata": {},
   "source": [
    "<hr>"
   ]
  },
  {
   "cell_type": "markdown",
   "metadata": {},
   "source": [
    "<img src = https://ibm.box.com/shared/static/jrv1mg8v3e7gm58go1ccn4u78pxhmb1l.png width = 600>"
   ]
  },
  {
   "cell_type": "markdown",
   "metadata": {},
   "source": [
    "<hr><a id=\"ref3\"></a>"
   ]
  },
  {
   "cell_type": "markdown",
   "metadata": {},
   "source": [
    "# <center> 4. 我们能否根据食材来预测烹饪类型? (决策树)</center>\n",
    "\n",
    "**总体目标:**\n",
    "- 创建一个决策树模型基于食材预测烹饪类型（国家）\n",
    "\n",
    "<br>\n",
    "**目标:**\n",
    "- 加载与决策树相关的库 \n",
    "- 训练所有食谱得到一棵决策树\n"
   ]
  },
  {
   "cell_type": "code",
   "execution_count": null,
   "metadata": {
    "collapsed": false
   },
   "outputs": [],
   "source": [
    "#import sklearn.cross_validation as cv\n",
    "from sklearn import tree\n",
    "from sklearn.metrics import accuracy_score,confusion_matrix"
   ]
  },
  {
   "cell_type": "markdown",
   "metadata": {},
   "source": [
    "###  将所有列转换为数字 ，将No转换为0，Yes转换为1"
   ]
  },
  {
   "cell_type": "code",
   "execution_count": null,
   "metadata": {
    "collapsed": false
   },
   "outputs": [],
   "source": [
    "recipes.replace(to_replace='No', value=0, inplace=True)\n",
    "recipes.replace(to_replace='Yes', value=1, inplace=True)"
   ]
  },
  {
   "cell_type": "code",
   "execution_count": null,
   "metadata": {
    "collapsed": false
   },
   "outputs": [],
   "source": [
    "recipes.head()"
   ]
  },
  {
   "cell_type": "markdown",
   "metadata": {},
   "source": [
    "查看前五行数据中rice列的数据"
   ]
  },
  {
   "cell_type": "code",
   "execution_count": null,
   "metadata": {
    "collapsed": false
   },
   "outputs": [],
   "source": [
    "recipes.loc[0:5][\"rice\"]"
   ]
  },
  {
   "cell_type": "markdown",
   "metadata": {},
   "source": [
    "### 获取每个样本的分类"
   ]
  },
  {
   "cell_type": "code",
   "execution_count": null,
   "metadata": {
    "collapsed": false
   },
   "outputs": [],
   "source": [
    "y = recipes['country']\n",
    "y[0:10]"
   ]
  },
  {
   "cell_type": "markdown",
   "metadata": {
    "collapsed": false
   },
   "source": [
    "### 获取每个样本的特征"
   ]
  },
  {
   "cell_type": "code",
   "execution_count": null,
   "metadata": {
    "collapsed": false
   },
   "outputs": [],
   "source": [
    "X = recipes.ix[:,1:]\n",
    "X[0:10]"
   ]
  },
  {
   "cell_type": "markdown",
   "metadata": {},
   "source": [
    "<br> \n",
    "**问题:**\n",
    "- 决策树不够具体 \n",
    "\n",
    "**目标:**\n",
    "- 单独为东亚国家（韩国、日本、中国、泰国）和印度训练决策树 "
   ]
  },
  {
   "cell_type": "markdown",
   "metadata": {},
   "source": [
    "#### 使用指定国家的数据来生成决策树模型，并且将结果赋值给变量bamboo_tree"
   ]
  },
  {
   "cell_type": "markdown",
   "metadata": {},
   "source": [
    "选择东亚国家+印度"
   ]
  },
  {
   "cell_type": "code",
   "execution_count": null,
   "metadata": {
    "collapsed": false
   },
   "outputs": [],
   "source": [
    "Newdata = recipes[recipes.country.isin([\"korean\",\"japanese\",\"chinese\",\"thai\",\"indian\"])]"
   ]
  },
  {
   "cell_type": "markdown",
   "metadata": {},
   "source": [
    "选择每个样本的特征和分类"
   ]
  },
  {
   "cell_type": "code",
   "execution_count": null,
   "metadata": {
    "collapsed": false
   },
   "outputs": [],
   "source": [
    "y=Newdata['country']\n",
    "X=Newdata.ix[:,1:]"
   ]
  },
  {
   "cell_type": "markdown",
   "metadata": {},
   "source": [
    "创建并且训练分类树"
   ]
  },
  {
   "cell_type": "code",
   "execution_count": null,
   "metadata": {
    "collapsed": false
   },
   "outputs": [],
   "source": [
    "bamboo_tree = tree.DecisionTreeClassifier(max_depth=5,min_samples_split=100,min_samples_leaf=100)\n",
    "bamboo_tree.fit(X, y)"
   ]
  },
  {
   "cell_type": "markdown",
   "metadata": {},
   "source": [
    "### 树的可视化"
   ]
  },
  {
   "cell_type": "code",
   "execution_count": null,
   "metadata": {
    "collapsed": false
   },
   "outputs": [],
   "source": [
    "#! 管理员命令行 conda install pydotplus\n",
    "# 同时在外部需要下载http://www.graphviz.org/pub/graphviz/stable/windows/graphviz-2.38.msi然后双击安装，这是一个画流程图的工具\n",
    "\n",
    "\n",
    "from sklearn.externals.six import StringIO\n",
    "import pydotplus\n",
    "import matplotlib.image as mpimg\n",
    "\n",
    "# 然后要在环境变量里添加这个工具的可执行目录，否则之后的代码会出现InvocationException: GraphViz's executables not found 错误\n",
    "import os     \n",
    "os.environ[\"PATH\"] += os.pathsep + 'C:/Program Files (x86)/Graphviz2.38/bin/'"
   ]
  },
  {
   "cell_type": "code",
   "execution_count": null,
   "metadata": {
    "collapsed": false
   },
   "outputs": [],
   "source": [
    "dot_data = StringIO()\n",
    "filename = \"bombootree.png\"\n",
    "Features = list(recipes.ix[:,1:].columns.values)\n",
    "out=tree.export_graphviz(bamboo_tree,feature_names=Features, out_file=dot_data,class_names=np.unique(y), filled=True,  special_characters=True,rotate=False)  \n",
    "graph = pydotplus.graph_from_dot_data(dot_data.getvalue())  \n",
    "graph.write_png(filename)\n",
    "img = mpimg.imread(filename)\n",
    "plt.figure(figsize=(100, 200))\n",
    "plt.imshow(img,interpolation='nearest')"
   ]
  },
  {
   "cell_type": "markdown",
   "metadata": {
    "collapsed": true
   },
   "source": [
    "执行一次预测并且得到决策树的准确率"
   ]
  },
  {
   "cell_type": "code",
   "execution_count": null,
   "metadata": {
    "collapsed": false
   },
   "outputs": [],
   "source": [
    "y_pred=bamboo_tree.predict(X)\n",
    "accuracy_score(y, y_pred)"
   ]
  },
  {
   "cell_type": "code",
   "execution_count": null,
   "metadata": {
    "collapsed": false
   },
   "outputs": [],
   "source": [
    "y_pred"
   ]
  },
  {
   "cell_type": "code",
   "execution_count": null,
   "metadata": {
    "collapsed": true
   },
   "outputs": [],
   "source": [
    "? accuracy_score"
   ]
  },
  {
   "cell_type": "markdown",
   "metadata": {
    "collapsed": true
   },
   "source": [
    "# <center> 5. 模型评估</center>\n",
    "\n",
    "**目标:**\n",
    "- 将数据分成训练数据和测试数据两部分\n",
    "- 在训练数据上训练模型\n",
    "- 使用不含国家标签的测试数据去检测模型的预测结果"
   ]
  },
  {
   "cell_type": "markdown",
   "metadata": {
    "collapsed": true
   },
   "source": [
    "**将数据集限制在 东亚国家和印度**\n",
    "把新的数据集赋值给`bamboo`:"
   ]
  },
  {
   "cell_type": "code",
   "execution_count": null,
   "metadata": {
    "collapsed": false
   },
   "outputs": [],
   "source": [
    "bamboo=recipes[recipes.country.isin([\"korean\",\"japanese\",\"chinese\",\"thai\",\"indian\"])]"
   ]
  },
  {
   "cell_type": "code",
   "execution_count": null,
   "metadata": {
    "collapsed": false
   },
   "outputs": [],
   "source": [
    "bamboo.head()"
   ]
  },
  {
   "cell_type": "markdown",
   "metadata": {},
   "source": [
    "#### 每一个烹饪法（国家）都有多少种食谱?"
   ]
  },
  {
   "cell_type": "code",
   "execution_count": null,
   "metadata": {
    "collapsed": false
   },
   "outputs": [],
   "source": [
    "bamboo['country'].value_counts()"
   ]
  },
  {
   "cell_type": "markdown",
   "metadata": {},
   "source": [
    "#### 接下来，让我们从原始数据集(`bamboo`)中创建训练集和测试集"
   ]
  },
  {
   "cell_type": "code",
   "execution_count": null,
   "metadata": {
    "collapsed": false
   },
   "outputs": [],
   "source": [
    "import random\n",
    "random.seed(99)\n",
    "\n",
    "testdf = pd.DataFrame()\n",
    "traindf = pd.DataFrame()\n",
    "\n",
    "msk = np.random.rand(len(bamboo)) < 0.7\n",
    "Traindf = bamboo[msk]\n",
    "Testdf = bamboo[~msk]"
   ]
  },
  {
   "cell_type": "markdown",
   "metadata": {},
   "source": [
    "#### 确认每个烹饪法的食谱数量:"
   ]
  },
  {
   "cell_type": "code",
   "execution_count": null,
   "metadata": {
    "collapsed": false
   },
   "outputs": [],
   "source": [
    "#Original dataset\n",
    "bamboo['country'].value_counts()"
   ]
  },
  {
   "cell_type": "code",
   "execution_count": null,
   "metadata": {
    "collapsed": false
   },
   "outputs": [],
   "source": [
    "#Training dataset \n",
    "Traindf['country'].value_counts()"
   ]
  },
  {
   "cell_type": "code",
   "execution_count": null,
   "metadata": {
    "collapsed": false
   },
   "outputs": [],
   "source": [
    "#Testing dataset \n",
    "Testdf['country'].value_counts()"
   ]
  },
  {
   "cell_type": "markdown",
   "metadata": {},
   "source": [
    "#### 从训练和测试数据中选择特征和分类"
   ]
  },
  {
   "cell_type": "code",
   "execution_count": null,
   "metadata": {
    "collapsed": false
   },
   "outputs": [],
   "source": [
    "y_train=Traindf['country']\n",
    "X_train=Traindf.ix[:,1:]\n",
    "\n",
    "y_test=Testdf['country']\n",
    "X_test=Testdf.ix[:,1:]\n",
    "\n",
    "y_train"
   ]
  },
  {
   "cell_type": "markdown",
   "metadata": {},
   "source": [
    "#### 创建分类树并对分类树进行训练"
   ]
  },
  {
   "cell_type": "code",
   "execution_count": null,
   "metadata": {
    "collapsed": false
   },
   "outputs": [],
   "source": [
    "bamboo_tree = tree.DecisionTreeClassifier(max_depth=5,min_samples_split=20,min_samples_leaf=100,)\n",
    "bamboo_tree.fit(X_train, y_train)"
   ]
  },
  {
   "cell_type": "markdown",
   "metadata": {},
   "source": [
    "### 用变量bamboo_tree在数据集bamboo_test上预测烹饪方法:"
   ]
  },
  {
   "cell_type": "code",
   "execution_count": null,
   "metadata": {
    "collapsed": true
   },
   "outputs": [],
   "source": [
    "y_pred=bamboo_tree.predict(X_test)"
   ]
  },
  {
   "cell_type": "code",
   "execution_count": null,
   "metadata": {
    "collapsed": false
   },
   "outputs": [],
   "source": [
    "accuracy_score(y_test, y_pred)"
   ]
  },
  {
   "cell_type": "markdown",
   "metadata": {},
   "source": [
    "### 创建一个混淆矩阵\n",
    "- 将模型预测的结果和实际的烹饪标签进行比较"
   ]
  },
  {
   "cell_type": "code",
   "execution_count": null,
   "metadata": {
    "collapsed": false
   },
   "outputs": [],
   "source": [
    "import matplotlib.ticker as ticker\n",
    "\n",
    "def plot_confusion_matrix(cm, title='Confusion matrix', cmap=plt.cm.Blues, labels=None):\n",
    "    fig = plt.figure()\n",
    "    ax = fig.add_subplot(111)\n",
    "    # I also added cmap=cmap here, to make use of the \n",
    "    # colormap you specify in the function call\n",
    "    cax = ax.matshow(cm,cmap=cmap)\n",
    "    plt.title(title)\n",
    "    fig.colorbar(cax)\n",
    "    if labels:\n",
    "        ax.set_xticklabels([''] + labels)\n",
    "        ax.set_yticklabels([''] + labels)\n",
    "\n",
    "    ax.xaxis.set_major_locator(ticker.MultipleLocator(1))\n",
    "    ax.yaxis.set_major_locator(ticker.MultipleLocator(1))\n",
    "    \n",
    "    plt.xlabel('Predicted')\n",
    "    plt.ylabel('True')"
   ]
  },
  {
   "cell_type": "code",
   "execution_count": null,
   "metadata": {
    "collapsed": false
   },
   "outputs": [],
   "source": [
    "labels = ['chinese','indian','japanese','korean','thai']\n",
    "cm = confusion_matrix( y_test,y_pred)\n",
    "plot_confusion_matrix(cm, labels=labels)\n"
   ]
  },
  {
   "cell_type": "code",
   "execution_count": null,
   "metadata": {
    "collapsed": false
   },
   "outputs": [],
   "source": [
    "cm"
   ]
  },
  {
   "cell_type": "markdown",
   "metadata": {},
   "source": [
    "#### 表格解释:\n",
    "- 每一行是实际菜谱的烹饪分类\n",
    "- 从左上角到右下角的对角线显示了正确的预测\n",
    "- 每个值都代表了国家X的食谱被正确地标记为国家X\n",
    "- 例:148(60+3+65+11+9)个中国菜谱中有60个预测是正确的，预测结果为“中国”，另外30%的错误预测成了韩国，6.75预测成了日本。\n",
    "#### 讨论:\n",
    "- 哪些烹饪可能是错误分类的，哪些是正确分类的?\n",
    "- 哪些烹饪方式容易被误认成其他烹饪方式?"
   ]
  },
  {
   "cell_type": "markdown",
   "metadata": {},
   "source": [
    "<br>\n",
    "<hr><a id=\"ref5\"></a>"
   ]
  },
  {
   "cell_type": "markdown",
   "metadata": {},
   "source": [
    "### 食谱之外"
   ]
  },
  {
   "cell_type": "markdown",
   "metadata": {},
   "source": [
    "#### 现实生活中应用决策树的例子\n",
    "- 客户流失\n",
    "- 信用卡诈骗\n",
    "- 癌症预测\n",
    "\n",
    "#### 现实生活中运用聚类的例子\n",
    "- 顾客区分\n",
    "- 推荐引擎"
   ]
  },
  {
   "cell_type": "markdown",
   "metadata": {
    "collapsed": true
   },
   "source": [
    "<hr>"
   ]
  },
  {
   "cell_type": "markdown",
   "metadata": {},
   "source": [
    "<hr>\n",
    "**引用**  \n",
    "食谱数据集来自: \n",
    "- [Ahn, Yong-Yeol, et al. \"Flavor network and the principles of food pairing.\" Scientific reports 1 (2011).](http://yongyeol.com/papers/ahn-flavornet-2011.pdf)\n",
    "- 关于食材的数据集也可以在这里找到:\n",
    "  - **`recipes.csv`** (64.2 MB):  http://bit.ly/recipesdata"
   ]
  }
 ],
 "metadata": {
  "anaconda-cloud": {},
  "kernelspec": {
   "display_name": "Python 3",
   "language": "python",
   "name": "python3"
  },
  "language_info": {
   "codemirror_mode": {
    "name": "ipython",
    "version": 3
   },
   "file_extension": ".py",
   "mimetype": "text/x-python",
   "name": "python",
   "nbconvert_exporter": "python",
   "pygments_lexer": "ipython3",
   "version": "3.6.0"
  }
 },
 "nbformat": 4,
 "nbformat_minor": 0
}
