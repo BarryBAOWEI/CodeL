{
 "cells": [
  {
   "cell_type": "markdown",
   "metadata": {
    "render": true
   },
   "source": [
    "<h1, align=center>  &nbsp;&nbsp;&nbsp;&nbsp;&nbsp;&nbsp;数据科学引论 - Python之道</h1>\n",
    "\n",
    "<h1, align=center>  &nbsp;&nbsp;&nbsp;&nbsp;&nbsp;&nbsp;&nbsp;&nbsp;第3课 Python入门 II</h1>"
   ]
  },
  {
   "cell_type": "markdown",
   "metadata": {},
   "source": [
    "<hr>"
   ]
  },
  {
   "cell_type": "markdown",
   "metadata": {},
   "source": [
    "\n",
    "\n",
    "\n",
    "## 目录\n",
    "<div>  \n",
    "[**字符串操作**](#String)  \n",
    "[**控制语句**](#Control)  \n",
    "[**什么是函数**](#Function)  \n",
    "[**读写文件**](#file)  \n",
    "</div>\n",
    "\n",
    "<hr>\n",
    "\n"
   ]
  },
  {
   "cell_type": "markdown",
   "metadata": {},
   "source": [
    "<hr>"
   ]
  },
  {
   "cell_type": "markdown",
   "metadata": {},
   "source": [
    "<a id=\"String\"></a>\n",
    "<h2 align=center>字符串操作</h2>"
   ]
  },
  {
   "cell_type": "markdown",
   "metadata": {},
   "source": [
    "Python中有许多可以处理字符串的操作，我们将使用一些基础的操作来处理预先读取的数据。\n",
    "\n",
    "让我们先为一段电影的总结定义一个变量。"
   ]
  },
  {
   "cell_type": "code",
   "execution_count": null,
   "metadata": {},
   "outputs": [],
   "source": [
    "summary = \"Breaking Bad is an American crime drama television series created and produced by Vince Gilligan. The show originally aired on the AMC network for five seasons, from January 20, 2008, to September 29, 2013. It tells the story of Walter White (Bryan Cranston), a struggling high school chemistry teacher diagnosed with inoperable lung cancer. Together with his former student Jesse Pinkman (Aaron Paul), White turns to a life of crime, producing and selling crystallized methamphetamine to secure his family's financial future before he dies, while navigating the dangers of the criminal world. The title is from a Southern colloquialism meaning to raise hell. Breaking Bad is set and was filmed in Albuquerque, New Mexico.\"\n",
    "summary"
   ]
  },
  {
   "cell_type": "markdown",
   "metadata": {},
   "source": [
    "<h3 style=\"font-size:120%\">len()</h3>"
   ]
  },
  {
   "cell_type": "markdown",
   "metadata": {},
   "source": [
    "第一个函数是len，其功能为得到一个字符串内的字符个数。让我们试着从summary中获取字符个数吧。"
   ]
  },
  {
   "cell_type": "code",
   "execution_count": null,
   "metadata": {},
   "outputs": [],
   "source": [
    "len(summary)"
   ]
  },
  {
   "cell_type": "markdown",
   "metadata": {},
   "source": [
    "<h3 style=\"font-size:120%\">upper()</h3>"
   ]
  },
  {
   "cell_type": "markdown",
   "metadata": {},
   "source": [
    "有时候我们需要把整个字符串以大写格式处理。Python中有一个upper函数，其功能就是把整个字符串的每个英文字母都转成大写格式。"
   ]
  },
  {
   "cell_type": "code",
   "execution_count": null,
   "metadata": {},
   "outputs": [],
   "source": [
    "to_upper = summary.upper()\n",
    "to_upper"
   ]
  },
  {
   "cell_type": "markdown",
   "metadata": {},
   "source": [
    "在上述代码块中，我们成功把总结文本变成了全大写。"
   ]
  },
  {
   "cell_type": "markdown",
   "metadata": {},
   "source": [
    "<h3 style=\"font-size:120%\">lower()</h3>"
   ]
  },
  {
   "cell_type": "markdown",
   "metadata": {},
   "source": [
    "同样地，还有一个lower函数，可以把字符串内所有字符变成小写。"
   ]
  },
  {
   "cell_type": "code",
   "execution_count": null,
   "metadata": {},
   "outputs": [],
   "source": [
    "to_lower = summary.lower()\n",
    "to_lower"
   ]
  },
  {
   "cell_type": "markdown",
   "metadata": {},
   "source": [
    "我们可以清楚地看到以上两个函数的输出内容的区别。"
   ]
  },
  {
   "cell_type": "markdown",
   "metadata": {},
   "source": [
    "<h3 style=\"font-size:120%\">replace()</h3>"
   ]
  },
  {
   "cell_type": "markdown",
   "metadata": {},
   "source": [
    "当需要替换字符串中的某些字符时，在Python中使用replace函数就可以做到。这个函数需要两个参数，第一个是指定希望被替换的字符串，第二个参数是新的字符串。\n",
    "\n",
    "让我们尝试着将**summary**变量中的空白字符（空格和制表符等）全部替换成横线（\"-\"）"
   ]
  },
  {
   "cell_type": "code",
   "execution_count": null,
   "metadata": {},
   "outputs": [],
   "source": [
    "replace_chars = summary.replace(\" \", \"-\")\n",
    "replace_chars"
   ]
  },
  {
   "cell_type": "markdown",
   "metadata": {},
   "source": [
    "<h3 style=\"font-size:120%\">split()</h3>"
   ]
  },
  {
   "cell_type": "markdown",
   "metadata": {},
   "source": [
    "spilt方法可以将字符串拆分成一个个的单词，其默认是以空白字符作为分隔符进行拆分的。"
   ]
  },
  {
   "cell_type": "code",
   "execution_count": null,
   "metadata": {},
   "outputs": [],
   "source": [
    "word_list = summary.split()\n",
    "word_list"
   ]
  },
  {
   "cell_type": "markdown",
   "metadata": {},
   "source": [
    "在上述代码块中，我们发现拆分的结果是以列表list的形式输出的。"
   ]
  },
  {
   "cell_type": "markdown",
   "metadata": {},
   "source": [
    "<h3 style=\"font-size:120%\">sort()</h3>"
   ]
  },
  {
   "cell_type": "markdown",
   "metadata": {},
   "source": [
    "在Python中，字符串同样可以排序。我们可以使用 **sort()** 方法对 **word_list** 字符向量中的元素按照字典升序排序。"
   ]
  },
  {
   "cell_type": "code",
   "execution_count": null,
   "metadata": {},
   "outputs": [],
   "source": [
    "word_list.sort()\n",
    "word_list"
   ]
  },
  {
   "cell_type": "markdown",
   "metadata": {},
   "source": [
    "<h3 style=\"font-size:120%\">strip()</h3>"
   ]
  },
  {
   "cell_type": "markdown",
   "metadata": {},
   "source": [
    "有时候，句子的开头和结尾处有空白字符。为了快速删除它们，可以使用strip函数，如下。"
   ]
  },
  {
   "cell_type": "code",
   "execution_count": 1,
   "metadata": {},
   "outputs": [
    {
     "data": {
      "text/plain": [
       "'test'"
      ]
     },
     "execution_count": 1,
     "metadata": {},
     "output_type": "execute_result"
    }
   ],
   "source": [
    "sample = \" test \"\n",
    "stripped = sample.strip(\" \")\n",
    "stripped"
   ]
  },
  {
   "cell_type": "markdown",
   "metadata": {},
   "source": [
    "结果是，我们将得到首尾都没有空白字符的字符串。"
   ]
  },
  {
   "cell_type": "markdown",
   "metadata": {},
   "source": [
    "<hr>"
   ]
  },
  {
   "cell_type": "markdown",
   "metadata": {},
   "source": [
    "<a id=\"Control\"></a>\n",
    "<center><h2>控制语句</h2></center>"
   ]
  },
  {
   "cell_type": "markdown",
   "metadata": {},
   "source": [
    "控制语句是程序员控制哪一段代码可以执行的方法。其语法和正常英文相似，和做逻辑判断一样。\n",
    "\n",
    "条件和循环是改变代码执行流的语句。原本期望的执行流是每一行的代码都会按照从上到下的顺序执行，但是控制语句可以改变语句的执行顺序、跳过一些语句或者重复执行某些语句。\n"
   ]
  },
  {
   "cell_type": "markdown",
   "metadata": {},
   "source": [
    "<hr>"
   ]
  },
  {
   "cell_type": "markdown",
   "metadata": {},
   "source": [
    "<a id=\"ref2\"></a>\n",
    "<center><h2>条件语句</h2></center>"
   ]
  },
  {
   "cell_type": "markdown",
   "metadata": {},
   "source": [
    "我们经常需要去检查一个条件语句的结果，然后根据是对是错来决定接下来执行不同的代码。\n",
    "### If 语句\n",
    "if语句包含一个条件检查和一段待执行的代码段。比如假设我们需要判断专辑的发售年份，假如年份大于1980，就输出点什么。"
   ]
  },
  {
   "cell_type": "code",
   "execution_count": null,
   "metadata": {},
   "outputs": [],
   "source": [
    "album_year = 1983\n",
    "if album_year > 1980:\n",
    "#python2    print \"Album year is greater than 1980\"\n",
    "    print (\"Album year is greater than 1980\")\n"
   ]
  },
  {
   "cell_type": "markdown",
   "metadata": {},
   "source": [
    "需要注意的是，缩进的代码只会在条件判断结果是True的情况下才会执行。"
   ]
  },
  {
   "cell_type": "markdown",
   "metadata": {},
   "source": [
    "你可以增加else代码块，在else内部的代码块会在条件判断结果是False的情况下执行。\n",
    "**Syntax:** \n",
    "\n",
    "if (condition):\n",
    "    # do something\n",
    "else:\n",
    "    # do something else"
   ]
  },
  {
   "cell_type": "markdown",
   "metadata": {},
   "source": [
    "<div class=\"alert alert-success alertsuccess\" style=\"margin-top: 20px\">\n",
    "**[tip]** 这个缩进语法可以是跨越多行的。\n",
    "</div>"
   ]
  },
  {
   "cell_type": "markdown",
   "metadata": {},
   "source": [
    "让我们创建一个album_year变量，然后赋值1983。另外，让我们设置一个if语句检查其是否大于1980，如果是，那么输出一条消息“Album_Year is greater than 1980”，否则，我们就输出另一条消息“Album year is equal to or less than 1980”"
   ]
  },
  {
   "cell_type": "code",
   "execution_count": null,
   "metadata": {
    "scrolled": true
   },
   "outputs": [],
   "source": [
    "album_year = 1983\n",
    "if album_year > 1980:\n",
    "#python2     print \"Album year is greater than 1980\"\n",
    "    print (\"Album year is greater than 1980\")\n",
    "else:\n",
    "#python2     print \"Album year is equal to or less than 1980\"\n",
    "    print (\"Album year is equal to or less than 1980\")"
   ]
  },
  {
   "cell_type": "markdown",
   "metadata": {},
   "source": [
    "你也可以任意修改album_year的值，你会发现输出的结果会变得不同。"
   ]
  },
  {
   "cell_type": "markdown",
   "metadata": {},
   "source": [
    "为了编写条件语句，除了if else之外，我们还有以下工具可以使用：\n",
    "\n",
    "### 比较运算符\n",
    "使用以下运算符可以比较两个值\n",
    "\n",
    "<ul>\n",
    "<li>相等: `==`\n",
    "<li>不相等: `!=`\n",
    "<li>大于/小于: `>` `<` </li>\n",
    "<li>大于或等于/小于或等于: `>=` `<=` </li>\n",
    "</ul>\n",
    "\n",
    "### 逻辑运算符\n",
    "有时候你需要检查多个逻辑运算的结果，例如你需要检查两个条件是否同时成立，此时，可以使用逻辑运算符。\n",
    "<ul>\n",
    "<li> 与and: `&`\n",
    "<li> 或or: `|`\n",
    "<li> 非not: `!`\n",
    "</ul>\n",
    "现在让我们尝试使用一下这些运算符吧。"
   ]
  },
  {
   "cell_type": "code",
   "execution_count": null,
   "metadata": {},
   "outputs": [],
   "source": [
    "album_year = 1983\n",
    "\n",
    "if(album_year > 1980) & (album_year < 1990):\n",
    "    print (\"Album year is greater than 1980\")"
   ]
  },
  {
   "cell_type": "code",
   "execution_count": null,
   "metadata": {},
   "outputs": [],
   "source": [
    "album_year = 1983\n",
    "\n",
    "if(album_year > 1980) | (album_year > 1990):\n",
    "    print (\"Album year is greater than 1980\")"
   ]
  },
  {
   "cell_type": "code",
   "execution_count": null,
   "metadata": {},
   "outputs": [],
   "source": [
    "album_year = 1983\n",
    "\n",
    "if(album_year) != '1984':\n",
    "    print (\"Album year is greater than 1980\")"
   ]
  },
  {
   "cell_type": "markdown",
   "metadata": {},
   "source": [
    "<div class=\"alert alert-success alertsuccess\" style=\"margin-top: 20px\">\n",
    "**[tip]** 所有表达式返回的值都是布尔格式，该格式的取值只可能是true或者false。\n",
    "</div>"
   ]
  },
  {
   "cell_type": "markdown",
   "metadata": {},
   "source": [
    "<hr>"
   ]
  },
  {
   "cell_type": "markdown",
   "metadata": {},
   "source": [
    "<a id=\"ref3\"></a>\n",
    "<center><h2>循环Loops</h2></center>"
   ]
  },
  {
   "cell_type": "markdown",
   "metadata": {},
   "source": [
    "有时候，你可能希望让一些代码块重复地执行几轮，甚至有可能不知道一共要执行几次，但是有一个循环如何终止的概念，例如每次一行地处理数据集中的所有行。这种让代码重复执行的方式就是循环。其中有两个主要的循环结构：for和while\n",
    "\n",
    "### `for` 循环\n",
    "for循环结构允许你为一个数据结构中的每一个元素执行一次代码块。比如说，你想要做到 “对数据集中的每一行执行一次处理” 或者 “对某一列中所有大于10的元素的每一个都执行一次处理”。for循环是十分实用的语句，它可以对大量的数据进行简单的处理。\n",
    "\n",
    "接下来让我们使用for循环把released_dates里的年份都逐个输出一遍："
   ]
  },
  {
   "cell_type": "code",
   "execution_count": null,
   "metadata": {},
   "outputs": [],
   "source": [
    "released_dates = [1982,1980,1973,1992]\n",
    "year = 0\n",
    "for year in released_dates:\n",
    "    print(year)  "
   ]
  },
  {
   "cell_type": "markdown",
   "metadata": {},
   "source": [
    "### `while` 循环\n",
    "如你所见，当我们不知道一个循环应该何时结束的时候，for循环就不能很好地工作了。例如，我们要重复执行一个操作直到某个数值达到了阈值，或者循环终止的条件是一个表达式的结果。此时，就需要使用while循环了，while循环的结束取决于一个条件是否成立，也就是说循环内的代码段会不断重复执行直到逻辑条件不满足（返回值为False）。\n",
    "\n",
    "下面是一个使用while循环的例子"
   ]
  },
  {
   "cell_type": "code",
   "execution_count": null,
   "metadata": {},
   "outputs": [],
   "source": [
    "albums = 250\n",
    "total_albums = 0\n",
    "while total_albums < 3000:\n",
    "    total_albums = total_albums + albums\n",
    "    print (total_albums)"
   ]
  },
  {
   "cell_type": "markdown",
   "metadata": {},
   "source": [
    "<hr>"
   ]
  },
  {
   "cell_type": "markdown",
   "metadata": {},
   "source": [
    "<a id='Function'></a>\n",
    "<center><h2>什么是函数?</h2></center>\n",
    "\n",
    "函数是一个具有特定功能的可重复使用的代码块。\n",
    "\n",
    "共有两种类型的函数：\n",
    "- **预定义函数**\n",
    "- **用户定义函数**"
   ]
  },
  {
   "cell_type": "markdown",
   "metadata": {},
   "source": [
    "<b>预定义函数</b> 是在Python或某个包中自带的函数，已经定义了功能。比如之前使用的 **`sum()`** 就是一个预定义函数，可以返回其输入值的总和。 "
   ]
  },
  {
   "cell_type": "markdown",
   "metadata": {},
   "source": [
    "<b>用户定义函数</b> 是由程序员自定义的函数，比如你可以创建一个一旦调用就会输出hello world的函数。"
   ]
  },
  {
   "cell_type": "markdown",
   "metadata": {},
   "source": [
    "<h3><b>预定义函数</b></h3>"
   ]
  },
  {
   "cell_type": "markdown",
   "metadata": {},
   "source": [
    "Python中有许多预定义函数，让我们从其中一些简单的函数开始学习。"
   ]
  },
  {
   "cell_type": "markdown",
   "metadata": {},
   "source": [
    "如同之前学习到的，使用max函数可以得到列表中最大的数值。"
   ]
  },
  {
   "cell_type": "code",
   "execution_count": null,
   "metadata": {},
   "outputs": [],
   "source": [
    "album_ratings = [10.0,8.5,9.5,7.0,7.0,9.5,9.0,9.5] \n",
    "max(album_ratings)"
   ]
  },
  {
   "cell_type": "markdown",
   "metadata": {},
   "source": [
    "<div class=\"alert alert-success alertsuccess\" style=\"margin-top: 20px\">\n",
    "<h4> [tip] 如何了解更多的Python预定义函数呢？</h4>\n",
    "<p></p>\n",
    "Python的预定义函数数量非常多，在这里无法一一介绍，如果有兴趣了解，可以去以下网站自行学习：\n",
    "http://www.astro.up.pt/~sousasag/Python_For_Astronomers/Python_qr.pdf\n",
    "</div>"
   ]
  },
  {
   "cell_type": "markdown",
   "metadata": {},
   "source": [
    "<h3>用户定义函数</h3>"
   ]
  },
  {
   "cell_type": "markdown",
   "metadata": {},
   "source": [
    "Python的函数可以很容易地创建，如下："
   ]
  },
  {
   "cell_type": "code",
   "execution_count": null,
   "metadata": {
    "collapsed": true
   },
   "outputs": [],
   "source": [
    "def clean_input(inp):\n",
    "    output = []\n",
    "    for value in inp:\n",
    "        value = value.strip()\n",
    "        if (value[-1] == '?' or value[-1] == '!'):\n",
    "            value = value[:-1]\n",
    "        value = value.lower()    \n",
    "        output.append(value)\n",
    "    return output"
   ]
  },
  {
   "cell_type": "markdown",
   "metadata": {},
   "source": [
    "想要使用上述这个函数，只要采用 函数名+**`()`** 的形式就可以了"
   ]
  },
  {
   "cell_type": "code",
   "execution_count": null,
   "metadata": {
    "scrolled": true
   },
   "outputs": [],
   "source": [
    "albums = [\" Thriller\",\"back in Black! \",\"the Dark Side of the Moon\",\"The Bodyguard?\"]\n",
    "clean_input(albums) "
   ]
  },
  {
   "cell_type": "markdown",
   "metadata": {},
   "source": [
    "<div class=\"alert alert-success alertsuccess\" style=\"margin-top: 20px\">\n",
    "<h4> [tip] 函数体现了编程的两个重要思想：抽象与封装</h4>\n",
    "<p></p>\n",
    "抽象与封装是程序设计的基本思想，函数很好地体现了这两种思想：\n",
    "<li>抽象：函数使程序员不用关心其具体的实现，只需用函数名调用它。例如，sqrt()函数是求平方根的函数，程序员调用它时无需知道平方根到底是如何计算的，只需要知道该函数可以计算平方根即可。抽象使得程序设计变得更加容易，程序员只需关注自己的部分，其他部分交给其他程序员开发的函数来解决。</li>\n",
    "<li>封装：函数将其功能封装了起来，函数的使用者只需要用函数名和参数来调用它，而无需关注其内部实现。如果函数的实现者对其实现进行了修改，例如提高了性能或降低了内存消耗，那么他只需在维护原有函数名和参数列表的情况下，替换该实现即可，而函数的使用者并不需要做任何修改，甚至感受不到函数的实现发生过变化。因此，封装使程序的可维护性大大提高了。</li>\n",
    "</div>"
   ]
  },
  {
   "cell_type": "markdown",
   "metadata": {},
   "source": [
    "<hr>"
   ]
  },
  {
   "cell_type": "markdown",
   "metadata": {},
   "source": [
    "<a id='ref3'></a>\n",
    "<center><h2>在函数中使用 if/else 语句</h2></center>\n",
    "\n",
    "当函数中有if语句时，如果希望根据某项条件产生不同的输出，那么return函数就会显得特别有用。"
   ]
  },
  {
   "cell_type": "code",
   "execution_count": null,
   "metadata": {},
   "outputs": [],
   "source": [
    "def type_of_album(artist,album,year_released):\n",
    "    if year_released > 1980:\n",
    "        return \"Modern\"\n",
    "    else:\n",
    "        return \"Oldie\"\n",
    "    "
   ]
  },
  {
   "cell_type": "code",
   "execution_count": null,
   "metadata": {},
   "outputs": [],
   "source": [
    "type_of_album(\"Michael Jackson\",\"Thriller\",1980)"
   ]
  },
  {
   "cell_type": "markdown",
   "metadata": {},
   "source": [
    "<hr>"
   ]
  },
  {
   "cell_type": "markdown",
   "metadata": {},
   "source": [
    "<a id='ref6'></a>\n",
    "<center><h2>全局和局部变量</h2></center>\n",
    "<br>\n",
    "我们可以在函数内创建变量，但是你是否注意到了函数外的变量发生了什么？ \n",
    "<br>\n",
    "让我们看一下printer函数返回了什么结果。"
   ]
  },
  {
   "cell_type": "code",
   "execution_count": null,
   "metadata": {},
   "outputs": [],
   "source": [
    "artist = \"Michael Jackson\"\n",
    "def printer(artist):\n",
    "    internal_var = artist\n",
    "#python2     print internal_var,\"is an artist\"\n",
    "    print (internal_var,\"is an artist\")\n",
    "    \n",
    "printer(artist)\n"
   ]
  },
  {
   "cell_type": "code",
   "execution_count": null,
   "metadata": {},
   "outputs": [],
   "source": [
    "internal_var"
   ]
  },
  {
   "cell_type": "markdown",
   "metadata": {},
   "source": [
    "我们得到一个错误 NameError `name 'internal_var' is not defined`，表示变量未定义，为什么？\n",
    "\n",
    "这是因为所有变量只会存在于创建它的函数里，我们把这些变量称为**局部变量**，表示它们在函数外部并不存在。\n",
    "\n",
    "但是，我们可以创建一个**全局变量**，使得它在函数外依旧存在。\n",
    "\n",
    "想要创建一个全局变量，就需要在函数外定义它，就像下面的对artist的赋值那样。"
   ]
  },
  {
   "cell_type": "code",
   "execution_count": null,
   "metadata": {},
   "outputs": [],
   "source": [
    "artist = \"Michael Jackson\"\n",
    "var1 = \"Whitney Houston\"\n",
    "def printer(artist):\n",
    "#python2     print artist,\"is an artist\"\n",
    "    print (artist,\"is an artist\")\n",
    "printer(artist) \n",
    "printer(var1)\n",
    "var1"
   ]
  },
  {
   "cell_type": "markdown",
   "metadata": {},
   "source": [
    "<hr>"
   ]
  },
  {
   "cell_type": "markdown",
   "metadata": {},
   "source": [
    "<a id='file'></a>\n",
    "<h1 align=center><font size = 5>用Python读、写文件</font></h1>"
   ]
  },
  {
   "cell_type": "markdown",
   "metadata": {},
   "source": [
    "<hr>"
   ]
  },
  {
   "cell_type": "markdown",
   "metadata": {},
   "source": [
    "<a id=\"ref1\"></a>\n",
    "<h2 align=center>读取文本文件</h2>"
   ]
  },
  {
   "cell_type": "markdown",
   "metadata": {},
   "source": [
    "想要在Python中读取文本文件，我们可以使用内置的函数**open()**，这个函数以文件路径为参数；然后使用**readlines()**方法读取整个文件内容。\n",
    "\n",
    "下面的代码首先使用linux的命令\"wget\"下载文件到指定的目录下，然后读取 **Thriller.txt** 文件并查看其内容。\n"
   ]
  },
  {
   "cell_type": "code",
   "execution_count": null,
   "metadata": {},
   "outputs": [],
   "source": [
    "!wget -O /resources/data/Thriller.txt https://ibm.box.com/shared/static/cp4rkaw1pj0ggi3b8rxoxo9fvs4jecak.txt\n",
    "# 也可以自行下载https://ibm.box.com/shared/static/cp4rkaw1pj0ggi3b8rxoxo9fvs4jecak.txt，\n",
    "# 然后保存到resources/data/Thriller.txt这个相对目录下。\n",
    "# 同理之后原本用wget下载的指令都手动下载即可，目录可以自己更改。\n",
    "\n",
    "# 在pyhthon2&linux环境下，执行：file = open(\"/resources/data/Thriller.txt\",\"rw+\")\n",
    "file = open(\"resources/data/Thriller.txt\",\"rb+\")\n",
    "# 在python2环境下，执行 print \"Name of the file:\" , file.name\n",
    "print (\"Name of the file:\" , file.name)"
   ]
  },
  {
   "cell_type": "code",
   "execution_count": null,
   "metadata": {},
   "outputs": [],
   "source": [
    "text = file.readlines()\n",
    "print (\"Read Line: %s\" % (text))"
   ]
  },
  {
   "cell_type": "code",
   "execution_count": null,
   "metadata": {},
   "outputs": [],
   "source": [
    "file.close()"
   ]
  },
  {
   "cell_type": "markdown",
   "metadata": {},
   "source": [
    "<hr>"
   ]
  },
  {
   "cell_type": "markdown",
   "metadata": {},
   "source": [
    "<a id=\"ref3\"></a>\n",
    "<h2 align=center>写文件</h2>"
   ]
  },
  {
   "cell_type": "markdown",
   "metadata": {},
   "source": [
    "当我们读取文件之后，还可以将一些数据写入文件，将它们以不同的格式保存，如**.txt, .csv, .xls (excel)**等"
   ]
  },
  {
   "cell_type": "markdown",
   "metadata": {},
   "source": [
    "<h3 style=\"font-size:115%\">以文本形式导出</h3>"
   ]
  },
  {
   "cell_type": "markdown",
   "metadata": {},
   "source": [
    "假设我们想要将summary导出到 **.txt**文件中，我们可以使用**writelines()** 方法将内容写入特定路径下的文件。"
   ]
  },
  {
   "cell_type": "code",
   "execution_count": null,
   "metadata": {},
   "outputs": [],
   "source": [
    "summary"
   ]
  },
  {
   "cell_type": "code",
   "execution_count": null,
   "metadata": {
    "collapsed": true
   },
   "outputs": [],
   "source": [
    "# 在linux环境下，执行：music_txt_file = open(\"/resources/data/music_txt_file.txt\", \"w\")\n",
    "music_txt_file = open(\"resources/data/music_txt_file.txt\", \"w\")\n",
    "music_txt_file.writelines(summary)\n",
    "music_txt_file.close() "
   ]
  },
  {
   "cell_type": "markdown",
   "metadata": {},
   "source": [
    "现在我们可以去打开这个文件去确认summary是否真的写入了这个文件。"
   ]
  },
  {
   "cell_type": "markdown",
   "metadata": {},
   "source": [
    "<br>"
   ]
  }
 ],
 "metadata": {
  "anaconda-cloud": {},
  "kernelspec": {
   "display_name": "Python 3",
   "language": "python",
   "name": "python3"
  },
  "language_info": {
   "codemirror_mode": {
    "name": "ipython",
    "version": 3
   },
   "file_extension": ".py",
   "mimetype": "text/x-python",
   "name": "python",
   "nbconvert_exporter": "python",
   "pygments_lexer": "ipython3",
   "version": "3.7.3"
  },
  "name": "_merged",
  "toc": {
   "base_numbering": 1,
   "nav_menu": {},
   "number_sections": true,
   "sideBar": true,
   "skip_h1_title": false,
   "title_cell": "Table of Contents",
   "title_sidebar": "Contents",
   "toc_cell": false,
   "toc_position": {},
   "toc_section_display": true,
   "toc_window_display": true
  }
 },
 "nbformat": 4,
 "nbformat_minor": 1
}
