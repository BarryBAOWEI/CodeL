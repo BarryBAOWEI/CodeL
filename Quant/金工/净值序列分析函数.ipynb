{
 "cells": [
  {
   "cell_type": "code",
   "execution_count": 1,
   "metadata": {},
   "outputs": [],
   "source": [
    "### 分析函数 - 计算各类指标\n",
    "def Indicator(equity_df,strategy_name):\n",
    "    '''\n",
    "    输入净值序列，一列净值，index为日期\n",
    "    输出（累计收益、最大回撤、累计收益回撤比、年化收益率平均、年化收益率波动、夏普比率）的dataframe\n",
    "    输出净值、收益率、回撤序列\n",
    "    '''\n",
    "    df = equity_df.copy()\n",
    "    col_name = df.columns[0]\n",
    "    trade_len = (equity_df.index[-1] - equity_df.index[0]).days\n",
    "    df['return'] = df[col_name]/df[col_name].shift(1)-1\n",
    "    df['drawdown'] = 1-df[col_name]/df[col_name].expanding().max()\n",
    "    \n",
    "    # 输出指标\n",
    "    # 累计收益\n",
    "    cum_return = df[col_name][-1]/df[col_name][0]-1\n",
    "    # 最大回撤\n",
    "    max_drawdown = df['drawdown'].max()\n",
    "    # 累计收益回撤比\n",
    "    cum_return_drawdown_ratio = cum_return/max_drawdown\n",
    "    # 年化收益率平均\n",
    "    mean_return = (cum_return+1)**(365.25/trade_len)-1\n",
    "    # 年化收益率波动\n",
    "    vol_return = df['return'].std()*np.sqrt(252)\n",
    "    # 信息比率\n",
    "    IR = mean_return/vol_return\n",
    "    # 年化收益回撤比\n",
    "    mean_return_max_drawdown_ratio = mean_return/max_drawdown\n",
    "    # 夏普比率\n",
    "    sharpe_ratio = (mean_return-0.03)/vol_return\n",
    "    # 每年收益率\n",
    "    df_equity = df[[col_name]].copy()\n",
    "    df_return_per_year = (pd.concat([df_equity.iloc[:1,:],df_equity.apply(lambda x: x.resample(\"Y\").last())],axis=0).pct_change().dropna()).rename(columns={col_name:strategy_name})\n",
    "    # 最大回撤结束、开始时间，持续时长\n",
    "    max_drawdown_end = df['drawdown'].idxmax()\n",
    "    max_drawdown_end_str = max_drawdown_end.strftime('%Y-%m-%d')\n",
    "    df_before_max_drawdowm = df[df.index<=max_drawdown_end].copy()\n",
    "    max_drawdown_start = df_before_max_drawdowm[df_before_max_drawdowm['drawdown'] == 0].index[-1]\n",
    "    max_drawdown_start_str = max_drawdown_start.strftime('%Y-%m-%d')\n",
    "    max_drawdown_year = (max_drawdown_end - max_drawdown_start).days/365.25\n",
    "\n",
    "    output_dict = {\n",
    "                   'mean_return':[mean_return],\n",
    "                   'vol_return':[vol_return],\n",
    "                   'IR':[IR],\n",
    "                   'sharpe_ratio':[sharpe_ratio],\n",
    "                   'max_drawdown':[max_drawdown],\n",
    "                   'mean_return_max_drawdown_ratio':[mean_return_max_drawdown_ratio],\n",
    "                   'max_drawdown_start':[max_drawdown_start_str],\n",
    "                   'max_drawdown_end':[max_drawdown_end_str],\n",
    "                   'max_drawdown_last_Y':[max_drawdown_year],\n",
    "                  }\n",
    "    output_df = pd.DataFrame(output_dict,index=[strategy_name]).T\n",
    "    return output_df, df, df_return_per_year"
   ]
  },
  {
   "cell_type": "code",
   "execution_count": null,
   "metadata": {},
   "outputs": [],
   "source": []
  }
 ],
 "metadata": {
  "kernelspec": {
   "display_name": "Python 3",
   "language": "python",
   "name": "python3"
  },
  "language_info": {
   "codemirror_mode": {
    "name": "ipython",
    "version": 3
   },
   "file_extension": ".py",
   "mimetype": "text/x-python",
   "name": "python",
   "nbconvert_exporter": "python",
   "pygments_lexer": "ipython3",
   "version": "3.7.3"
  },
  "toc": {
   "base_numbering": 1,
   "nav_menu": {},
   "number_sections": true,
   "sideBar": true,
   "skip_h1_title": false,
   "title_cell": "Table of Contents",
   "title_sidebar": "Contents",
   "toc_cell": false,
   "toc_position": {},
   "toc_section_display": true,
   "toc_window_display": false
  }
 },
 "nbformat": 4,
 "nbformat_minor": 2
}
