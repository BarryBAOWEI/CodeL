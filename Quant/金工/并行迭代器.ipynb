{
 "cells": [
  {
   "cell_type": "code",
   "execution_count": null,
   "metadata": {},
   "outputs": [],
   "source": [
    "'''\n",
    "普通Groupby并行迭代器\n",
    "'''"
   ]
  },
  {
   "cell_type": "code",
   "execution_count": null,
   "metadata": {},
   "outputs": [],
   "source": [
    "from joblib import Parallel, delayed\n",
    "import multiprocessing"
   ]
  },
  {
   "cell_type": "code",
   "execution_count": null,
   "metadata": {},
   "outputs": [],
   "source": [
    "def applyParallel(dfGrouped, func):\n",
    "    retLst = Parallel(n_jobs=multiprocessing.cpu_count())(delayed(func)(group) for name, group in dfGrouped)\n",
    "    return pd.concat(retLst,axis=0)\n",
    "\n",
    "return_MKT = applyParallel(price_df.groupby('code'), merge_price_MKT).rename(columns={'0_x':'return','0_y':'MKT','code_x':'code','code_y':'tmp'}).reset_index()[['code','date','return','MKT']]\n",
    "return_MKT = return_MKT[return_MKT['code']!='MKT'][['code','date','return','MKT']]\n",
    "t2 = datetime.datetime.now()"
   ]
  },
  {
   "cell_type": "code",
   "execution_count": null,
   "metadata": {},
   "outputs": [],
   "source": [
    "'''\n",
    "滚动窗口（多列数据）\n",
    "'''"
   ]
  },
  {
   "cell_type": "code",
   "execution_count": null,
   "metadata": {},
   "outputs": [],
   "source": [
    "# 首先生成一个用于循环计算的迭代器\n",
    "DfList = []\n",
    "dateList = AllDataReturn.index.tolist()\n",
    "for dateCnt in range(len(dateList)):\n",
    "    date = dateList[dateCnt]\n",
    "    AllDataReturnSub = AllDataReturn[AllDataReturn.index<=date].copy()\n",
    "    AllDataReturnSub = AllDataReturnSub.iloc[-win:,:].copy()\n",
    "    DfList.append(AllDataReturnSub)\n",
    "\n",
    "t1 = datetime.datetime.now()\n",
    "\n",
    "# 对迭代器中每个元素的处理函数，长度不及滚动窗口则返回np.nan，否则使用计算函数\n",
    "def ComputeCorr(df):\n",
    "    corrList = []\n",
    "    for col in [i for i in df.columns if i != '沪深300']:\n",
    "        corrList.append(np.corrcoef(df['沪深300'],df[col])[0,1])\n",
    "        corr = np.mean(corrList)\n",
    "    return corr\n",
    "def MultiTask(df):\n",
    "    df = df.copy()\n",
    "    if len(df)<252:\n",
    "        corr = np.nan\n",
    "    else:\n",
    "        corr = ComputeCorr(df)\n",
    "    return corr\n",
    "\n",
    "saveCorrList = Parallel(n_jobs=mp.cpu_count())(delayed(MultiTask)(group) for group in DfList)\n",
    "\n",
    "RollingCorr = pd.DataFrame(saveCorrList,columns=['RollingCorr'],index = dateList)\n",
    "print(datetime.datetime.now()-t1)"
   ]
  },
  {
   "cell_type": "code",
   "execution_count": null,
   "metadata": {},
   "outputs": [],
   "source": []
  }
 ],
 "metadata": {
  "kernelspec": {
   "display_name": "Python 3",
   "language": "python",
   "name": "python3"
  },
  "language_info": {
   "codemirror_mode": {
    "name": "ipython",
    "version": 3
   },
   "file_extension": ".py",
   "mimetype": "text/x-python",
   "name": "python",
   "nbconvert_exporter": "python",
   "pygments_lexer": "ipython3",
   "version": "3.7.3"
  },
  "toc": {
   "base_numbering": 1,
   "nav_menu": {},
   "number_sections": true,
   "sideBar": true,
   "skip_h1_title": false,
   "title_cell": "Table of Contents",
   "title_sidebar": "Contents",
   "toc_cell": false,
   "toc_position": {},
   "toc_section_display": true,
   "toc_window_display": false
  }
 },
 "nbformat": 4,
 "nbformat_minor": 2
}
