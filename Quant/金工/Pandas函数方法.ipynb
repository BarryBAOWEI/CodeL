{
 "cells": [
  {
   "cell_type": "markdown",
   "metadata": {},
   "source": [
    "# 属性和数据"
   ]
  },
  {
   "cell_type": "code",
   "execution_count": null,
   "metadata": {},
   "outputs": [],
   "source": [
    "DataFrame.axes                                #index: 行标签；columns: 列标签\n",
    "DataFrame.as_matrix([columns])                #转换为矩阵\n",
    "DataFrame.dtypes                              #返回数据的类型\n",
    "DataFrame.ftypes                              #返回每一列的 数据类型float64:dense\n",
    "DataFrame.get_dtype_counts()                  #返回数据框数据类型的个数\n",
    "DataFrame.get_ftype_counts()                  #返回数据框数据类型float64:dense的个数\n",
    "DataFrame.select_dtypes([include, include])   #根据数据类型选取子数据框\n",
    "DataFrame.values                              #Numpy的展示方式\n",
    "DataFrame.axes                                #返回横纵坐标的标签名\n",
    "DataFrame.ndim                                #返回数据框的纬度\n",
    "DataFrame.size                                #返回数据框元素的个数\n",
    "DataFrame.shape                               #返回数据框的形状\n",
    "DataFrame.memory_usage()                      #每一列的存储"
   ]
  },
  {
   "cell_type": "markdown",
   "metadata": {},
   "source": [
    "# 类型转换"
   ]
  },
  {
   "cell_type": "code",
   "execution_count": null,
   "metadata": {},
   "outputs": [],
   "source": [
    "DataFrame.astype(dtype[, copy, errors])       #转换数据类型\n",
    "DataFrame.copy([deep])                        #deep深度复制数据\n",
    "DataFrame.isnull()                            #以布尔的方式返回空值\n",
    "DataFrame.notnull()                           #以布尔的方式返回非空值"
   ]
  },
  {
   "cell_type": "markdown",
   "metadata": {},
   "source": [
    "# 索引和迭代"
   ]
  },
  {
   "cell_type": "code",
   "execution_count": null,
   "metadata": {},
   "outputs": [],
   "source": [
    "DataFrame.head([n])                           #返回前n行数据\n",
    "DataFrame.at                                  #快速标签常量访问器\n",
    "DataFrame.iat                                 #快速整型常量访问器\n",
    "DataFrame.loc                                 #标签定位，使用名称\n",
    "DataFrame.iloc                                #整型定位，使用数字\n",
    "DataFrame.insert(loc, column, value)          #在特殊地点loc[数字]插入column[列名]某列数据\n",
    "DataFrame.iter()                              #Iterate over infor axis\n",
    "DataFrame.iteritems()                         #返回列名和序列的迭代器\n",
    "DataFrame.iterrows()                          #返回索引和序列的迭代器\n",
    "DataFrame.itertuples([index, name])           #Iterate over DataFrame rows as namedtuples, with index value as first element of the tuple.\n",
    "DataFrame.lookup(row_labels, col_labels)      #Label-based “fancy indexing” function for DataFrame.\n",
    "DataFrame.pop(item)                           #返回删除的项目\n",
    "DataFrame.tail([n])                           #返回最后n行\n",
    "DataFrame.xs(key[, axis, level, drop_level])  #Returns a cross-section (row(s) or column(s)) from the Series/DataFrame.\n",
    "DataFrame.isin(values)                        #是否包含数据框中的元素\n",
    "DataFrame.where(cond[, other, inplace, …])    #条件筛选\n",
    "DataFrame.mask(cond[, other, inplace, …])     #Return an object of same shape as self and whose corresponding entries are from self where cond is False and otherwise are from other.\n",
    "DataFrame.query(expr[, inplace])              #Query the columns of a frame with a boolean expression."
   ]
  },
  {
   "cell_type": "markdown",
   "metadata": {},
   "source": [
    "# 二元运算"
   ]
  },
  {
   "cell_type": "code",
   "execution_count": null,
   "metadata": {},
   "outputs": [],
   "source": [
    "DataFrame.add(other[,axis,fill_value])        #加法，元素指向\n",
    "DataFrame.sub(other[,axis,fill_value])        #减法，元素指向\n",
    "DataFrame.mul(other[, axis,fill_value])       #乘法，元素指向\n",
    "DataFrame.div(other[, axis,fill_value])       #小数除法，元素指向\n",
    "DataFrame.truediv(other[, axis, level, …])    #真除法，元素指向\n",
    "DataFrame.floordiv(other[, axis, level, …])   #向下取整除法，元素指向\n",
    "DataFrame.mod(other[, axis,fill_value])       #模运算，元素指向\n",
    "DataFrame.pow(other[, axis,fill_value])       #幂运算，元素指向\n",
    "DataFrame.radd(other[, axis,fill_value])      #右侧加法，元素指向\n",
    "DataFrame.rsub(other[, axis,fill_value])      #右侧减法，元素指向\n",
    "DataFrame.rmul(other[, axis,fill_value])      #右侧乘法，元素指向\n",
    "DataFrame.rdiv(other[, axis,fill_value])      #右侧小数除法，元素指向\n",
    "DataFrame.rtruediv(other[, axis, …])          #右侧真除法，元素指向\n",
    "DataFrame.rfloordiv(other[, axis, …])         #右侧向下取整除法，元素指向\n",
    "DataFrame.rmod(other[, axis,fill_value])      #右侧模运算，元素指向\n",
    "DataFrame.rpow(other[, axis,fill_value])      #右侧幂运算，元素指向\n",
    "DataFrame.lt(other[, axis, level])            #类似Array.lt\n",
    "DataFrame.gt(other[, axis, level])            #类似Array.gt\n",
    "DataFrame.le(other[, axis, level])            #类似Array.le\n",
    "DataFrame.ge(other[, axis, level])            #类似Array.ge\n",
    "DataFrame.ne(other[, axis, level])            #类似Array.ne\n",
    "DataFrame.eq(other[, axis, level])            #类似Array.eq\n",
    "DataFrame.combine(other,func[,fill_value, …]) #Add two DataFrame objects and do not propagate NaN values, so if for a\n",
    "DataFrame.combine_first(other)                #Combine two DataFrame objects and default to non-null values in frame calling the method."
   ]
  },
  {
   "cell_type": "markdown",
   "metadata": {},
   "source": [
    "# 函数应用&分组&窗口"
   ]
  },
  {
   "cell_type": "code",
   "execution_count": null,
   "metadata": {},
   "outputs": [],
   "source": [
    "DataFrame.apply(func[, axis, broadcast, …])   #应用函数\n",
    "DataFrame.applymap(func)                      #Apply a function to a DataFrame that is intended to operate elementwise, i.e.\n",
    "DataFrame.aggregate(func[, axis])             #Aggregate using callable, string, dict, or list of string/callables\n",
    "DataFrame.transform(func, *args, **kwargs)    #Call function producing a like-indexed NDFrame\n",
    "DataFrame.groupby([by, axis, level, …])       #分组\n",
    "DataFrame.rolling(window[, min_periods, …])   #滚动窗口\n",
    "DataFrame.expanding([min_periods, freq, …])   #拓展窗口\n",
    "DataFrame.ewm([com, span, halflife,  …])      #指数权重窗口"
   ]
  },
  {
   "cell_type": "markdown",
   "metadata": {},
   "source": [
    "# 描述统计学"
   ]
  },
  {
   "cell_type": "code",
   "execution_count": null,
   "metadata": {},
   "outputs": [],
   "source": [
    "DataFrame.abs()                               #返回绝对值\n",
    "DataFrame.all([axis, bool_only, skipna])      #Return whether all elements are True over requested axis\n",
    "DataFrame.any([axis, bool_only, skipna])      #Return whether any element is True over requested axis\n",
    "DataFrame.clip([lower, upper, axis])          #Trim values at input threshold(s).\n",
    "DataFrame.clip_lower(threshold[, axis])       #Return copy of the input with values below given value(s) truncated.\n",
    "DataFrame.clip_upper(threshold[, axis])       #Return copy of input with values above given value(s) truncated.\n",
    "DataFrame.corr([method, min_periods])         #返回本数据框成对列的相关性系数\n",
    "DataFrame.corrwith(other[, axis, drop])       #返回不同数据框的相关性\n",
    "DataFrame.count([axis, level, numeric_only])  #返回非空元素的个数\n",
    "DataFrame.cov([min_periods])                  #计算协方差\n",
    "DataFrame.cummax([axis, skipna])              #Return cumulative max over requested axis.\n",
    "DataFrame.cummin([axis, skipna])              #Return cumulative minimum over requested axis.\n",
    "DataFrame.cumprod([axis, skipna])             #返回累积\n",
    "DataFrame.cumsum([axis, skipna])              #返回累和\n",
    "DataFrame.describe([percentiles,include, …])  #整体描述数据框\n",
    "DataFrame.diff([periods, axis])               #1st discrete difference of object\n",
    "DataFrame.eval(expr[, inplace])               #Evaluate an expression in the context of the calling DataFrame instance.\n",
    "DataFrame.kurt([axis, skipna, level, …])      #返回无偏峰度Fisher’s  (kurtosis of normal == 0.0).\n",
    "DataFrame.mad([axis, skipna, level])          #返回偏差\n",
    "DataFrame.max([axis, skipna, level, …])       #返回最大值\n",
    "DataFrame.mean([axis, skipna, level, …])      #返回均值\n",
    "DataFrame.median([axis, skipna, level, …])    #返回中位数\n",
    "DataFrame.min([axis, skipna, level, …])       #返回最小值\n",
    "DataFrame.mode([axis, numeric_only])          #返回众数\n",
    "DataFrame.pct_change([periods, fill_method])  #返回百分比变化\n",
    "DataFrame.prod([axis, skipna, level, …])      #返回连乘积\n",
    "DataFrame.quantile([q, axis, numeric_only])   #返回分位数\n",
    "DataFrame.rank([axis, method, numeric_only])  #返回数字的排序\n",
    "DataFrame.round([decimals])                   #Round a DataFrame to a variable number of decimal places.\n",
    "DataFrame.sem([axis, skipna, level, ddof])    #返回无偏标准误\n",
    "DataFrame.skew([axis, skipna, level, …])      #返回无偏偏度\n",
    "DataFrame.sum([axis, skipna, level, …])       #求和\n",
    "DataFrame.std([axis, skipna, level, ddof])    #返回标准误差\n",
    "DataFrame.var([axis, skipna, level, ddof])    #返回无偏误差 "
   ]
  },
  {
   "cell_type": "markdown",
   "metadata": {},
   "source": [
    "# 从新索引&选取&标签操作"
   ]
  },
  {
   "cell_type": "code",
   "execution_count": null,
   "metadata": {},
   "outputs": [],
   "source": [
    "DataFrame.add_prefix(prefix)                  #添加前缀\n",
    "DataFrame.add_suffix(suffix)                  #添加后缀\n",
    "DataFrame.align(other[, join, axis, level])   #Align two object on their axes with the\n",
    "DataFrame.drop(labels[, axis, level, …])      #返回删除的列\n",
    "DataFrame.drop_duplicates([subset, keep, …])  #Return DataFrame with duplicate rows removed, optionally only\n",
    "DataFrame.duplicated([subset, keep])          #Return boolean Series denoting duplicate rows, optionally only\n",
    "DataFrame.equals(other)                       #两个数据框是否相同\n",
    "DataFrame.filter([items, like, regex, axis])  #过滤特定的子数据框\n",
    "DataFrame.first(offset)                       #Convenience method for subsetting initial periods of time series data based on a date offset.\n",
    "DataFrame.head([n])                           #返回前n行\n",
    "DataFrame.idxmax([axis, skipna])              #Return index of first occurrence of maximum over requested axis.\n",
    "DataFrame.idxmin([axis, skipna])              #Return index of first occurrence of minimum over requested axis.\n",
    "DataFrame.last(offset)                        #Convenience method for subsetting final periods of time series data based on a date offset.\n",
    "DataFrame.reindex([index, columns])           #Conform DataFrame to new index with optional filling logic, placing NA/NaN in locations having no value in the previous index.\n",
    "DataFrame.reindex_axis(labels[, axis, …])     #Conform input object to new index with optional filling logic, placing NA/NaN in locations having no value in the previous index.\n",
    "DataFrame.reindex_like(other[, method, …])    #Return an object with matching indices to myself.\n",
    "DataFrame.rename([index, columns])            #Alter axes input function or functions.\n",
    "DataFrame.rename_axis(mapper[, axis, copy])   #Alter index and / or columns using input function or functions.\n",
    "DataFrame.reset_index([level, drop, …])       #For DataFrame with multi-level index, return new DataFrame with labeling information in the columns under the index names, defaulting to ‘level_0’, ‘level_1’, etc.\n",
    "DataFrame.sample([n, frac, replace, …])       #返回随机抽样\n",
    "DataFrame.select(crit[, axis])                #Return data corresponding to axis labels matching criteria\n",
    "DataFrame.set_index(keys[, drop, append ])    #Set the DataFrame index (row labels) using one or more existing columns.\n",
    "DataFrame.tail([n])                           #返回最后几行\n",
    "DataFrame.take(indices[, axis, convert])      #Analogous to ndarray.take\n",
    "DataFrame.truncate([before, after, axis ])    #Truncates a sorted NDFrame before and/or after some particular index value."
   ]
  },
  {
   "cell_type": "markdown",
   "metadata": {},
   "source": [
    "# 处理缺失值"
   ]
  },
  {
   "cell_type": "code",
   "execution_count": null,
   "metadata": {},
   "outputs": [],
   "source": [
    "DataFrame.dropna([axis, how, thresh, …])      #Return object with labels on given axis omitted where alternately any\n",
    "DataFrame.fillna([value, method, axis, …])    #填充空值\n",
    "DataFrame.replace([to_replace, value, …])     #Replace values given in ‘to_replace’ with ‘value’."
   ]
  },
  {
   "cell_type": "markdown",
   "metadata": {},
   "source": [
    "# 从新定型&排序&转变形态"
   ]
  },
  {
   "cell_type": "code",
   "execution_count": null,
   "metadata": {},
   "outputs": [],
   "source": [
    "DataFrame.pivot([index, columns, values])     #Reshape data (produce a “pivot” table) based on column values.\n",
    "DataFrame.reorder_levels(order[, axis])       #Rearrange index levels using input order.\n",
    "DataFrame.sort_values(by[, axis, ascending])  #Sort by the values along either axis\n",
    "DataFrame.sort_index([axis, level, …])        #Sort object by labels (along an axis)\n",
    "DataFrame.nlargest(n, columns[, keep])        #Get the rows of a DataFrame sorted by the n largest values of columns.\n",
    "DataFrame.nsmallest(n, columns[, keep])       #Get the rows of a DataFrame sorted by the n smallest values of columns.\n",
    "DataFrame.swaplevel([i, j, axis])             #Swap levels i and j in a MultiIndex on a particular axis\n",
    "DataFrame.stack([level, dropna])              #Pivot a level of the (possibly hierarchical) column labels, returning a DataFrame (or Series in the case of an object with a single level of column labels) having a hierarchical index with a new inner-most level of row labels.\n",
    "DataFrame.unstack([level, fill_value])        #Pivot a level of the (necessarily hierarchical) index labels, returning a DataFrame having a new level of column labels whose inner-most level consists of the pivoted index labels.\n",
    "DataFrame.melt([id_vars, value_vars, …])      #“Unpivots” a DataFrame from wide format to long format, optionally\n",
    "DataFrame.T                                   #Transpose index and columns\n",
    "DataFrame.to_panel()                          #Transform long (stacked) format (DataFrame) into wide (3D, Panel) format.\n",
    "DataFrame.to_xarray()                         #Return an xarray object from the pandas object.\n",
    "DataFrame.transpose(*args, **kwargs)          #Transpose index and columns"
   ]
  },
  {
   "cell_type": "markdown",
   "metadata": {},
   "source": [
    "# 组合&连接&关联"
   ]
  },
  {
   "cell_type": "code",
   "execution_count": null,
   "metadata": {},
   "outputs": [],
   "source": [
    "DataFrame.append(other[, ignore_index, …])    #追加数据\n",
    "DataFrame.assign(**kwargs)                    #Assign new columns to a DataFrame, returning a new object (a copy) with all the original columns in addition to the new ones.\n",
    "DataFrame.join(other[, on, how, lsuffix, …])  #Join columns with other DataFrame either on index or on a key column.\n",
    "DataFrame.merge(right[, how, on, left_on, …]) #Merge DataFrame objects by performing a database-style join operation by columns or indexes.\n",
    "DataFrame.update(other[, join, overwrite, …]) #Modify DataFrame in place using non-NA values from passed DataFrame."
   ]
  },
  {
   "cell_type": "markdown",
   "metadata": {},
   "source": [
    "# 时间序列"
   ]
  },
  {
   "cell_type": "code",
   "execution_count": null,
   "metadata": {},
   "outputs": [],
   "source": [
    "DataFrame.asfreq(freq[, method, how, …])      #将时间序列转换为特定的频次\n",
    "DataFrame.asof(where[, subset])               #The last row without any NaN is taken (or the last row without\n",
    "DataFrame.shift([periods, freq, axis])        #Shift index by desired number of periods with an optional time freq\n",
    "DataFrame.first_valid_index()                 #Return label for first non-NA/null value\n",
    "DataFrame.last_valid_index()                  #Return label for last non-NA/null value\n",
    "DataFrame.resample(rule[, how, axis, …])      #Convenience method for frequency conversion and resampling of time series.\n",
    "DataFrame.to_period([freq, axis, copy])       #Convert DataFrame from DatetimeIndex to PeriodIndex with desired\n",
    "DataFrame.to_timestamp([freq, how, axis])     #Cast to DatetimeIndex of timestamps, at beginning of period\n",
    "DataFrame.tz_convert(tz[, axis, level, copy]) #Convert tz-aware axis to target time zone.\n",
    "DataFrame.tz_localize(tz[, axis, level, …])   #Localize tz-naive TimeSeries to target time zone."
   ]
  },
  {
   "cell_type": "markdown",
   "metadata": {},
   "source": [
    "# 作图"
   ]
  },
  {
   "cell_type": "code",
   "execution_count": null,
   "metadata": {},
   "outputs": [],
   "source": [
    "DataFrame.plot([x, y, kind, ax, ….])          #DataFrame plotting accessor and method\n",
    "DataFrame.plot.area([x, y])                   #面积图Area plot\n",
    "DataFrame.plot.bar([x, y])                    #垂直条形图Vertical bar plot\n",
    "DataFrame.plot.barh([x, y])                   #水平条形图Horizontal bar plot\n",
    "DataFrame.plot.box([by])                      #箱图Boxplot\n",
    "DataFrame.plot.density(**kwds)                #核密度Kernel Density Estimate plot\n",
    "DataFrame.plot.hexbin(x, y[, C, …])           #Hexbin plot\n",
    "DataFrame.plot.hist([by, bins])               #直方图Histogram\n",
    "DataFrame.plot.kde(**kwds)                    #核密度Kernel Density Estimate plot\n",
    "DataFrame.plot.line([x, y])                   #线图Line plot\n",
    "DataFrame.plot.pie([y])                       #饼图Pie chart\n",
    "DataFrame.plot.scatter(x, y[, s, c])          #散点图Scatter plot\n",
    "DataFrame.boxplot([column, by, ax, …])        #Make a box plot from DataFrame column optionally grouped by some columns or\n",
    "DataFrame.hist(data[, column, by, grid, …])   #Draw histogram of the DataFrame’s series using matplotlib / pylab."
   ]
  },
  {
   "cell_type": "markdown",
   "metadata": {},
   "source": [
    "# 转换为其他格式"
   ]
  },
  {
   "cell_type": "code",
   "execution_count": null,
   "metadata": {},
   "outputs": [],
   "source": [
    "DataFrame.from_csv(path[, header, sep, …])    #Read CSV file (DEPRECATED, please use pandas.read_csv() instead).\n",
    "DataFrame.from_dict(data[, orient, dtype])    #Construct DataFrame from dict of array-like or dicts\n",
    "DataFrame.from_items(items[,columns,orient])  #Convert (key, value) pairs to DataFrame.\n",
    "DataFrame.from_records(data[, index, …])      #Convert structured or record ndarray to DataFrame\n",
    "DataFrame.info([verbose, buf, max_cols, …])   #Concise summary of a DataFrame.\n",
    "DataFrame.to_pickle(path[, compression, …])   #Pickle (serialize) object to input file path.\n",
    "DataFrame.to_csv([path_or_buf, sep, na_rep])  #Write DataFrame to a comma-separated values (csv) file\n",
    "DataFrame.to_hdf(path_or_buf, key, **kwargs)  #Write the contained data to an HDF5 file using HDFStore.\n",
    "DataFrame.to_sql(name, con[, flavor, …])      #Write records stored in a DataFrame to a SQL database.\n",
    "DataFrame.to_dict([orient, into])             #Convert DataFrame to dictionary.\n",
    "DataFrame.to_excel(excel_writer[, …])         #Write DataFrame to an excel sheet\n",
    "DataFrame.to_json([path_or_buf, orient, …])   #Convert the object to a JSON string.\n",
    "DataFrame.to_html([buf, columns, col_space])  #Render a DataFrame as an HTML table.\n",
    "DataFrame.to_feather(fname)                   #write out the binary feather-format for DataFrames\n",
    "DataFrame.to_latex([buf, columns, …])         #Render an object to a tabular environment table.\n",
    "DataFrame.to_stata(fname[, convert_dates, …]) #A class for writing Stata binary dta files from array-like objects\n",
    "DataFrame.to_msgpack([path_or_buf, encoding]) #msgpack (serialize) object to input file path\n",
    "DataFrame.to_sparse([fill_value, kind])       #Convert to SparseDataFrame\n",
    "DataFrame.to_dense()                          #Return dense representation of NDFrame (as opposed to sparse)\n",
    "DataFrame.to_string([buf, columns, …])        #Render a DataFrame to a console-friendly tabular output.\n",
    "DataFrame.to_clipboard([excel, sep])          #Attempt to write text representation of object to the system clipboard This can be pasted into Excel, for example."
   ]
  },
  {
   "cell_type": "code",
   "execution_count": null,
   "metadata": {},
   "outputs": [],
   "source": []
  }
 ],
 "metadata": {
  "kernelspec": {
   "display_name": "Python 3",
   "language": "python",
   "name": "python3"
  },
  "language_info": {
   "codemirror_mode": {
    "name": "ipython",
    "version": 3
   },
   "file_extension": ".py",
   "mimetype": "text/x-python",
   "name": "python",
   "nbconvert_exporter": "python",
   "pygments_lexer": "ipython3",
   "version": "3.7.3"
  },
  "toc": {
   "base_numbering": 1,
   "nav_menu": {},
   "number_sections": true,
   "sideBar": true,
   "skip_h1_title": false,
   "title_cell": "Table of Contents",
   "title_sidebar": "Contents",
   "toc_cell": false,
   "toc_position": {},
   "toc_section_display": true,
   "toc_window_display": true
  }
 },
 "nbformat": 4,
 "nbformat_minor": 2
}
