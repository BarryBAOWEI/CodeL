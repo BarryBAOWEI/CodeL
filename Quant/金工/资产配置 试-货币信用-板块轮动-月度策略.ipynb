{
 "cells": [
  {
   "cell_type": "code",
   "execution_count": 1,
   "metadata": {},
   "outputs": [],
   "source": [
    "import pandas as pd\n",
    "import matplotlib.pyplot as plt\n",
    "import numpy as np\n",
    "from joblib import Parallel, delayed\n",
    "import multiprocessing\n",
    "import datetime\n",
    "import pprint\n",
    "\n",
    "plt.rcParams['font.sans-serif']=['SimHei']\n",
    "plt.rcParams['axes.unicode_minus'] = False"
   ]
  },
  {
   "cell_type": "code",
   "execution_count": null,
   "metadata": {},
   "outputs": [],
   "source": [
    "'''\n",
    "基本数据导入\n",
    "'''"
   ]
  },
  {
   "cell_type": "code",
   "execution_count": 2,
   "metadata": {},
   "outputs": [],
   "source": [
    "FinDataDf = pd.read_excel('C:/Users/jxjsj/Desktop/东吴金工实习/资产配置课题/全申万II级指数.xlsx').set_index('date')\n",
    "FinDataDf.columns = [i[:-4] for i in FinDataDf.columns]\n",
    "FinDataReturnDf = FinDataDf.pct_change().dropna()"
   ]
  },
  {
   "cell_type": "code",
   "execution_count": 3,
   "metadata": {},
   "outputs": [],
   "source": [
    "## 板块\n",
    "Class = FinDataDf.columns.tolist()"
   ]
  },
  {
   "cell_type": "code",
   "execution_count": 4,
   "metadata": {},
   "outputs": [],
   "source": [
    "## 周期数据\n",
    "## 日度\n",
    "MacroDataDaily = pd.read_excel('C:/Users/jxjsj/Desktop/东吴金工实习/资产配置课题/华商基金数据/宏观经济指标.xlsx').dropna()\n",
    "MacroDataDaily['M'] = MacroDataDaily['中债国债到期收益率:1年']\n",
    "MacroDataDaily['C'] = MacroDataDaily['中债企业债到期收益率(AA):3年'] - MacroDataDaily['中债企业债到期收益率(AAA):3年']\n",
    "## 日期调整 - 月末数据取股票交易日月末\n",
    "stocktest = pd.read_excel('C:/Users/jxjsj/Desktop/东吴金工实习/资产配置课题/华商基金数据/券商.xlsx')['date'].tolist()\n",
    "MacroDataDaily = MacroDataDaily[MacroDataDaily['date'].isin(stocktest)]\n",
    "## 月度 - 每月最后一天\n",
    "MacroDataMonthly = MacroDataDaily.copy()\n",
    "MacroDataMonthly['trade_date'] = MacroDataDaily['date']\n",
    "MacroDataMonthly = MacroDataMonthly.set_index('date').apply(lambda x: x.resample('M').last()).reset_index()"
   ]
  },
  {
   "cell_type": "code",
   "execution_count": 5,
   "metadata": {},
   "outputs": [],
   "source": [
    "## 起止时间设定\n",
    "DataStart = '2007-01-01'\n",
    "StrategyStart = '2011-01-31'\n",
    "End = '2019-06-30'\n",
    "\n",
    "MacroDataMonthlySub = MacroDataMonthly[(MacroDataMonthly['trade_date']>=DataStart) & (MacroDataMonthly['trade_date']<=End)].copy()\n",
    "FinDataDfSub = FinDataDf[(FinDataDf.index<=End) & (FinDataDf.index>=DataStart)].copy()\n",
    "FinDataDfSubReturn = FinDataReturnDf[(FinDataReturnDf.index<=End) & (FinDataReturnDf.index>=DataStart)].copy().reset_index()"
   ]
  },
  {
   "cell_type": "code",
   "execution_count": 6,
   "metadata": {},
   "outputs": [],
   "source": [
    "## 实行策略时点 - 交易日历的月末\n",
    "MacroDataMonthlySubForStrategy = MacroDataMonthlySub[MacroDataMonthlySub['trade_date']>=StrategyStart]\n",
    "StrategyDateDf = MacroDataMonthlySubForStrategy[['trade_date']].rename(columns={'trade_date':'StrategyDate'})\n",
    "StrategyDateList = StrategyDateDf['StrategyDate'].tolist()"
   ]
  },
  {
   "cell_type": "code",
   "execution_count": 7,
   "metadata": {},
   "outputs": [],
   "source": [
    "## 基准数据导入 - 不用这个基准！\n",
    "# BenchmarkIndex = pd.read_excel('C:/Users/jxjsj/Desktop/东吴金工实习/资产配置课题/沪深300.xlsx')\n",
    "# BenchmarkIndex['return'] = BenchmarkIndex['沪深300']/BenchmarkIndex['沪深300'].shift(1)-1\n",
    "# BenchmarkIndexSub = BenchmarkIndex[(BenchmarkIndex['date']>=StrategyStart) & (BenchmarkIndex['date']<=End)]"
   ]
  },
  {
   "cell_type": "code",
   "execution_count": null,
   "metadata": {},
   "outputs": [],
   "source": [
    "'''\n",
    "基准行业等权指数编制\n",
    "'''"
   ]
  },
  {
   "cell_type": "code",
   "execution_count": 70,
   "metadata": {
    "scrolled": true
   },
   "outputs": [],
   "source": [
    "FinDataReturnDf_ = FinDataReturnDf.copy()\n",
    "AllDataStrategyEquityIndex = pd.DataFrame()\n",
    "tol_equity = 1\n",
    "for date_cnt in range(len(StrategyDateList)-1):\n",
    "    StrategyDate = StrategyDateList[date_cnt]\n",
    "    next_StrategyDate = StrategyDateList[date_cnt+1]\n",
    "    FinDataReturnDf_Sub = FinDataReturnDf_[(FinDataReturnDf_.index>=StrategyDate) & (FinDataReturnDf_.index<=next_StrategyDate)].copy()\n",
    "    FinDataReturnDf_Sub = FinDataReturnDf_Sub+1\n",
    "    # 行业等权\n",
    "    FinDataReturnDf_Sub.iloc[0,:] = [i*tol_equity for i in [1/len(Class)]*len(Class)]\n",
    "    FinDataReturnDf_Sub_ = FinDataReturnDf_Sub.cumprod().sum(axis=1).to_frame('行业等权指数')\n",
    "    tol_equity = FinDataReturnDf_Sub_.iloc[-1,0]\n",
    "    if date_cnt != 0:\n",
    "        FinDataReturnDf_Sub_ = FinDataReturnDf_Sub_.iloc[1:,:]\n",
    "    AllDataStrategyEquityIndex = pd.concat([AllDataStrategyEquityIndex,FinDataReturnDf_Sub_],axis=0)"
   ]
  },
  {
   "cell_type": "code",
   "execution_count": null,
   "metadata": {},
   "outputs": [],
   "source": [
    "'''\n",
    "策略所需数据/指标/信号计算\n",
    "'''"
   ]
  },
  {
   "cell_type": "code",
   "execution_count": null,
   "metadata": {},
   "outputs": [],
   "source": [
    "'''\n",
    "1货币信用周期指标计算\n",
    "'''"
   ]
  },
  {
   "cell_type": "code",
   "execution_count": 8,
   "metadata": {
    "scrolled": true
   },
   "outputs": [],
   "source": [
    "## 货币信用周期指标1 - T~T-3正负占比\n",
    "def MoneyCredit1(series):\n",
    "    MList = series.tolist()\n",
    "    MResultTmp = []\n",
    "    for i in range(len(MList)-1):\n",
    "        if MList[-1]-MList[i]>=0:\n",
    "            MResultTmp.append(1)\n",
    "        else:\n",
    "            MResultTmp.append(-1)\n",
    "    MResult = np.sum(MResultTmp)\n",
    "    return MResult\n",
    "# def MoneyCredit2(series):\n",
    "#     MList = series.tolist()\n",
    "#     MResultTmp = []\n",
    "#     MResult = MList[-1] - MList[-2]\n",
    "#     return MResult\n",
    "# def MoneyCredit3(series):\n",
    "#     MList = series.tolist()\n",
    "#     MResultTmp = []\n",
    "#     MResult = (MList[-1] + MList[-2]) - (MList[-3] + MList[-4])\n",
    "#     return MResult\n",
    "MacroDataMonthlySub['DeltaC'] = MacroDataMonthlySub['C'].rolling(4).apply(MoneyCredit1,raw=True)\n",
    "MacroDataMonthlySub['DeltaM'] = MacroDataMonthlySub['M'].rolling(4).apply(MoneyCredit1,raw=True)\n",
    "def MCcycle(df):\n",
    "    if df['DeltaC']>0:\n",
    "        C='R'\n",
    "    else:\n",
    "        C='E'\n",
    "    if df['DeltaM']>0:\n",
    "        M='R'\n",
    "    else:\n",
    "        M='E'\n",
    "    return 'M'+M+' C'+C\n",
    "MacroDataMonthlySub['MCcycle'] = MacroDataMonthlySub.apply(lambda x: MCcycle(x),axis=1)\n",
    "MCcycleDf = MacroDataMonthlySub[['trade_date','MCcycle']]"
   ]
  },
  {
   "cell_type": "code",
   "execution_count": 9,
   "metadata": {},
   "outputs": [],
   "source": [
    "'''\n",
    "2周期表示\n",
    "'''\n",
    "CycleList = ['ME CE','ME CR','MR CR','MR CE']"
   ]
  },
  {
   "cell_type": "code",
   "execution_count": null,
   "metadata": {},
   "outputs": [],
   "source": [
    "'''\n",
    "3各周期与对应月的收益数据合并\n",
    "'''"
   ]
  },
  {
   "cell_type": "code",
   "execution_count": 10,
   "metadata": {
    "scrolled": true
   },
   "outputs": [],
   "source": [
    "## 月收益率\n",
    "FinDataDfSubClose = FinDataDfSub.copy()\n",
    "FinDataDfSubClose['trade_date'] = FinDataDfSubClose.index\n",
    "FinDataDfSubReturnM = FinDataDfSubClose.apply(lambda x: x.resample('M').last()).set_index('trade_date').pct_change().reset_index().dropna()\n",
    "\n",
    "## 收益率与周期合并\n",
    "CycleAndReturn = FinDataDfSubReturnM.merge(MCcycleDf,on=['trade_date'],how='left')"
   ]
  },
  {
   "cell_type": "code",
   "execution_count": null,
   "metadata": {},
   "outputs": [],
   "source": [
    "'''\n",
    "4各板块历史排名滚动平均值计算\n",
    "'''"
   ]
  },
  {
   "cell_type": "code",
   "execution_count": 11,
   "metadata": {
    "scrolled": true
   },
   "outputs": [],
   "source": [
    "RollingMonth = 48\n",
    "\n",
    "# 计算排名序号，按收益率从大到小排序\n",
    "def RankCompute(df):\n",
    "    df = df.copy()\n",
    "    trade_date = df['trade_date'].tolist()[0]\n",
    "    dfSub = df[Class]\n",
    "    tmpDf = dfSub.T\n",
    "    tmpcol = tmpDf.columns.tolist()[0]\n",
    "    tmpDf0 = tmpDf.sort_values(tmpcol,ascending=False)\n",
    "    tmpDf0[tmpcol] = range(1,len(Class)+1)\n",
    "    tmpDf1 = tmpDf0.T[Class]\n",
    "    tmpDf1.index = [trade_date]\n",
    "    return tmpDf1\n",
    "\n",
    "# 并行计算函数\n",
    "def applyParallel(dfGrouped, func):\n",
    "    retLst = Parallel(n_jobs=multiprocessing.cpu_count())(delayed(func)(group) for name, group in dfGrouped)\n",
    "    return pd.concat(retLst,sort=False)\n",
    "\n",
    "# 全周期下历史平均排名\n",
    "RollingRankAllDf = pd.DataFrame()\n",
    "for StrategyDate in StrategyDateList:\n",
    "    CycleAndReturnSub = CycleAndReturn[CycleAndReturn['trade_date']<=StrategyDate].copy()\n",
    "    CycleAndReturnSub = CycleAndReturnSub.iloc[-RollingMonth:,:]\n",
    "    # 并行计算\n",
    "    RollingRankGroupby = CycleAndReturnSub.groupby('trade_date')\n",
    "    RollingRankMaterial = applyParallel(RollingRankGroupby, RankCompute)\n",
    "    \n",
    "#     RollingRankMaterial.index = RollingRankMaterial.index.droplevel(1)\n",
    "    RollingRank = RollingRankMaterial.mean().to_frame().T\n",
    "    RollingRank.index = [StrategyDate]\n",
    "    RollingRankAllDf = pd.concat([RollingRankAllDf,RollingRank],axis=0)\n",
    "RollingRankAllDf.columns = [i+'RankAll' for i in RollingRankAllDf.columns]\n",
    "\n",
    "# 当前周期的历史同周期平均排名\n",
    "RollingRankCycleDf = pd.DataFrame()\n",
    "for StrategyDate in StrategyDateList:\n",
    "    CycleAndReturnSub = CycleAndReturn[CycleAndReturn['trade_date']<=StrategyDate].copy()\n",
    "    CycleAndReturnSub = CycleAndReturnSub.iloc[-RollingMonth:,:]\n",
    "    CycleNow = CycleAndReturnSub['MCcycle'].tolist()[-1]\n",
    "    CycleAndReturnSub = CycleAndReturnSub[CycleAndReturnSub['MCcycle']==CycleNow]\n",
    "    # 并行计算\n",
    "    RollingRankGroupby = CycleAndReturnSub.groupby('trade_date')\n",
    "    RollingRankMaterial = applyParallel(RollingRankGroupby, RankCompute)\n",
    "    \n",
    "#     RollingRankMaterial.index = RollingRankMaterial.index.droplevel(1)\n",
    "    RollingRank = RollingRankMaterial.mean().to_frame().T\n",
    "    RollingRank.index = [StrategyDate]\n",
    "    RollingRankCycleDf = pd.concat([RollingRankCycleDf,RollingRank],axis=0)\n",
    "RollingRankCycleDf.columns = [i+'RankCycle' for i in RollingRankCycleDf.columns]"
   ]
  },
  {
   "cell_type": "code",
   "execution_count": null,
   "metadata": {},
   "outputs": [],
   "source": [
    "'''\n",
    "5排名+周期+月度+收益率拼接 - 底稿\n",
    "'''"
   ]
  },
  {
   "cell_type": "code",
   "execution_count": 12,
   "metadata": {
    "scrolled": false
   },
   "outputs": [],
   "source": [
    "AllDataForBackTest = CycleAndReturn.merge(RollingRankCycleDf.merge(RollingRankAllDf,left_index=True,right_index=True),left_on='trade_date',right_index=True,how='left')"
   ]
  },
  {
   "cell_type": "code",
   "execution_count": null,
   "metadata": {},
   "outputs": [],
   "source": [
    "'''\n",
    "6历史行业各周期收益率 - 分析用\n",
    "'''"
   ]
  },
  {
   "cell_type": "code",
   "execution_count": 165,
   "metadata": {},
   "outputs": [],
   "source": [
    "RollingRankCycleDf_ = pd.DataFrame()\n",
    "for cycle in CycleList:\n",
    "    CycleAndReturn_ = CycleAndReturn[CycleAndReturn['MCcycle']==cycle]\n",
    "    RollingRankGroupby_ = CycleAndReturn_.groupby('trade_date')\n",
    "    RollingRankMaterial_ = applyParallel(RollingRankGroupby_, RankCompute)\n",
    "    RollingRank_ = RollingRankMaterial_.mean().to_frame(cycle)\n",
    "    RollingRankCycleDf_ = pd.concat([RollingRankCycleDf_,RollingRank_],axis=1)\n",
    "    \n",
    "RollingRankDf_ = pd.DataFrame()\n",
    "CycleAndReturn_ = CycleAndReturn.copy()\n",
    "RollingRankGroupby_ = CycleAndReturn_.groupby('trade_date')\n",
    "RollingRankMaterial_ = applyParallel(RollingRankGroupby_, RankCompute)\n",
    "RollingRank_ = RollingRankMaterial_.mean().to_frame('AllCycle')\n",
    "RollingRankDf_ = pd.concat([RollingRankDf_,RollingRank_],axis=1)"
   ]
  },
  {
   "cell_type": "code",
   "execution_count": 209,
   "metadata": {
    "scrolled": true
   },
   "outputs": [],
   "source": [
    "RankCycleDf_ = RollingRankCycleDf_.merge(RollingRankDf_,left_index=True,right_index=True)"
   ]
  },
  {
   "cell_type": "code",
   "execution_count": 207,
   "metadata": {
    "scrolled": true
   },
   "outputs": [
    {
     "name": "stdout",
     "output_type": "stream",
     "text": [
      "ME CE\n",
      "Index(['综合', '采掘', '传媒', '非银金融', '电气设备', '国防军工', '有色金属', '机械设备', '计算机',\n",
      "       '建筑装饰'],\n",
      "      dtype='object')\n",
      "ME CR\n",
      "Index(['银行', '公用事业', '钢铁', '休闲服务', '交通运输', '家用电器', '房地产', '商业贸易', '纺织服装',\n",
      "       '非银金融'],\n",
      "      dtype='object')\n",
      "MR CR\n",
      "Index(['化工', '通信', '电子', '食品饮料', '有色金属', '国防军工', '电气设备', '传媒', '医药生物', '计算机'], dtype='object')\n",
      "MR CE\n",
      "Index(['国防军工', '休闲服务', '食品饮料', '综合', '建筑装饰', '房地产', '汽车', '交通运输', '家用电器',\n",
      "       '机械设备'],\n",
      "      dtype='object')\n"
     ]
    }
   ],
   "source": [
    "for col in CycleList:\n",
    "    RankCycleDf_[col] = RankCycleDf_['AllCycle'] - RankCycleDf_[col]\n",
    "    print(col)\n",
    "    print(RankCycleDf_.sort_values(col,ascending=False).index[:10])"
   ]
  },
  {
   "cell_type": "code",
   "execution_count": 237,
   "metadata": {},
   "outputs": [],
   "source": [
    "RankCycleDf_ = RollingRankCycleDf_.merge(RollingRankDf_,left_index=True,right_index=True)"
   ]
  },
  {
   "cell_type": "code",
   "execution_count": 238,
   "metadata": {},
   "outputs": [
    {
     "name": "stdout",
     "output_type": "stream",
     "text": [
      "ME CE\n",
      "Index(['综合', '非银金融', '计算机', '电气设备', '医药生物', '建筑材料', '电子', '机械设备', '国防军工',\n",
      "       '农林牧渔'],\n",
      "      dtype='object')\n",
      "ME CR\n",
      "Index(['家用电器', '银行', '休闲服务', '医药生物', '公用事业', '食品饮料', '房地产', '汽车', '钢铁',\n",
      "       '纺织服装'],\n",
      "      dtype='object')\n",
      "MR CR\n",
      "Index(['食品饮料', '电子', '家用电器', '医药生物', '农林牧渔', '化工', '通信', '计算机', '电气设备',\n",
      "       '国防军工'],\n",
      "      dtype='object')\n",
      "MR CE\n",
      "Index(['食品饮料', '家用电器', '休闲服务', '汽车', '综合', '国防军工', '房地产', '建筑装饰', '建筑材料',\n",
      "       '农林牧渔'],\n",
      "      dtype='object')\n"
     ]
    }
   ],
   "source": [
    "for col in CycleList:\n",
    "    print(col)\n",
    "    print(RankCycleDf_.sort_values(col,ascending=True).index[:10])"
   ]
  },
  {
   "cell_type": "code",
   "execution_count": null,
   "metadata": {},
   "outputs": [],
   "source": []
  },
  {
   "cell_type": "code",
   "execution_count": null,
   "metadata": {},
   "outputs": [],
   "source": [
    "'''\n",
    "回测部分\n",
    "'''"
   ]
  },
  {
   "cell_type": "code",
   "execution_count": null,
   "metadata": {},
   "outputs": [],
   "source": [
    "'''\n",
    "回测函数\n",
    "'''"
   ]
  },
  {
   "cell_type": "code",
   "execution_count": 226,
   "metadata": {},
   "outputs": [],
   "source": [
    "### 策略函数\n",
    "def Strategy(df,HowRank,RankN,cycle_now,history_trade_data):\n",
    "    '''\n",
    "    输入当天底稿数据，最终排名方法（偏离度排名，绝对排名），取前几名\n",
    "    输出所有资产对应目标权重\n",
    "    '''\n",
    "    df_ = df.copy()\n",
    "    if HowRank == '偏离度排名':\n",
    "        for EachClass in Class:\n",
    "            df_[EachClass] = df_[EachClass+'RankAll'] - df_[EachClass+'RankCycle']\n",
    "            # 越大排名靠前\n",
    "            ascending=False\n",
    "    if HowRank == '绝对排名':\n",
    "        for EachClass in Class:\n",
    "            df_[EachClass] = df_[EachClass+'RankCycle']\n",
    "            # 越小排名靠前\n",
    "            ascending=True\n",
    "    ResultDf = df_[Class].T\n",
    "    ResultDf = ResultDf.sort_values(ResultDf.columns[0],ascending=ascending)\n",
    "    ResultDf[ResultDf.columns[0]] = range(1,len(Class)+1)\n",
    "    # 等风险\n",
    "#     ResultDf = ResultDf.merge(history_trade_data.copy().std().to_frame('std'),left_index=True,right_index=True,how='left')\n",
    "#     ResultDf[ResultDf.columns[0]] = ResultDf.apply(lambda x: 1/x['std'] if x[ResultDf.columns[0]]<=RankN else 0,axis=1)\n",
    "#     ResultDf[ResultDf.columns[0]] = ResultDf[ResultDf.columns[0]]/ResultDf[ResultDf.columns[0]].sum()\n",
    "    # 等权\n",
    "    ResultDf[ResultDf.columns[0]] = ResultDf[ResultDf.columns[0]].apply(lambda x: 1/RankN if x<=RankN else 0)\n",
    "\n",
    "    expected_stock_weight = ResultDf[[ResultDf.columns[0]]].T[Class]\n",
    "\n",
    "    return expected_stock_weight"
   ]
  },
  {
   "cell_type": "code",
   "execution_count": 212,
   "metadata": {},
   "outputs": [],
   "source": [
    "### 结算函数 - 月度结算\n",
    "def Clear(df,tol_equity,expected_stock_weight,cycle):\n",
    "    '''\n",
    "    输入下一个月数据，要包含本月最后一天（用以计算收益率）、结算前净值（初始值为1）、目标权重、当前周期\n",
    "    输出下一个月净值序列（月初-月末）\n",
    "    '''\n",
    "    df_ = df.copy()\n",
    "    expected_stock_w = expected_stock_weight.copy()\n",
    "    \n",
    "    # 相对增长 Pt/Pt-1 序列\n",
    "    df_ = df_[Class]\n",
    "    df_ = df_.pct_change().dropna()\n",
    "    df_ = df_+1\n",
    "    \n",
    "    # 空仓策略，增长均为1\n",
    "#     if cycle == 'ME CR':\n",
    "#         for df_col in df_.columns:\n",
    "#             df_[df_col] = 1\n",
    "    \n",
    "    # 初始净值分配到各个资产上，乘以累计相对增长得到净值序列，丢弃首行拼接  \n",
    "    stock_w = expected_stock_w.apply(lambda x: x*tol_equity)\n",
    "\n",
    "    equity_tmp = pd.concat([stock_w,df_],axis=0,sort=False)\n",
    "    equity_df = equity_tmp.cumprod().sum(axis=1).to_frame('equity_series').iloc[1:,]\n",
    "    \n",
    "    return equity_df, equity_df['equity_series'][-1]"
   ]
  },
  {
   "cell_type": "code",
   "execution_count": 213,
   "metadata": {},
   "outputs": [],
   "source": [
    "### 分析函数 - 计算各类指标\n",
    "def Indicator(equity_df):\n",
    "    '''\n",
    "    输入净值序列，列名equity_series，index为日期\n",
    "    输出（累计收益、最大回撤、累计收益回撤比、年化收益率平均、年化收益率波动、夏普比率）的dataframe\n",
    "    输出净值、收益率、回撤序列\n",
    "    '''\n",
    "    df = equity_df.copy()\n",
    "    col = df.columns[0]\n",
    "    df['return'] = df[col]/df[col].shift(1)-1\n",
    "    df['drawdown'] = 1-df[col]/df[col].expanding().max()\n",
    "    \n",
    "    # 输出指标\n",
    "    # 累计收益\n",
    "    cum_return = df[col][-1]/df[col][0]-1\n",
    "    # 最大回撤\n",
    "    max_drawdown = df['drawdown'].max()\n",
    "    # 最大回撤时间\n",
    "#     end_max_drawdown = df['drawdown'].idxmax()\n",
    "#     df_sub = df[df.index<=end_max_drawdown]\n",
    "#     start_max_drawdown = df_sub[df_sub['drawdown']==0].index[-1]\n",
    "#     end_max_drawdown = datetime.datetime.strptime(end_max_drawdown,'%Y-%m-%d')\n",
    "#     start_max_drawdown = datetime.datetime.strptime(start_max_drawdown,'%Y-%m-%d')\n",
    "#     max_drawdown_day = (end_max_drawdown - start_max_drawdown).days\n",
    "    # 累计收益回撤比\n",
    "    cum_return_drawdown_ratio = cum_return/max_drawdown\n",
    "    # 年化收益率平均\n",
    "    mean_return = df['return'].mean()*252\n",
    "    # 年化收益率波动\n",
    "    vol_return = df['return'].std()*np.sqrt(252)\n",
    "    # 信息比率\n",
    "    IR = mean_return/vol_return\n",
    "    # 年化收益回撤比\n",
    "    mean_return_max_drawdown_ratio = mean_return/max_drawdown\n",
    "    # 夏普比率\n",
    "#     sharpe_ratio = (mean_return-rf)/vol_return\n",
    "    # 每年收益率\n",
    "    df_equity = df[[col]].copy()\n",
    "    df_return_per_year = (pd.concat([df_equity.iloc[:1,:],df_equity.apply(lambda x: x.resample(\"Y\").last())],axis=0).pct_change().dropna()).rename(columns={col:HowRank+str(RankN)})\n",
    "\n",
    "    output_dict = {          \n",
    "                   'mean_return':[mean_return],\n",
    "                   'vol_return':[vol_return],\n",
    "                   'IR':[IR],\n",
    "                   'max_drawdown':[max_drawdown],\n",
    "                   'mean_return_max_drawdown_ratio':[mean_return_max_drawdown_ratio],\n",
    "                  }\n",
    "    output_df = pd.DataFrame(output_dict,index=[HowRank+str(RankN)]).T\n",
    "    return output_df, df, df_return_per_year"
   ]
  },
  {
   "cell_type": "code",
   "execution_count": 136,
   "metadata": {},
   "outputs": [
    {
     "data": {
      "text/plain": [
       "'\\n回测调参\\n'"
      ]
     },
     "execution_count": 136,
     "metadata": {},
     "output_type": "execute_result"
    }
   ],
   "source": [
    "'''\n",
    "回测调参\n",
    "'''"
   ]
  },
  {
   "cell_type": "code",
   "execution_count": 227,
   "metadata": {
    "scrolled": true
   },
   "outputs": [],
   "source": [
    "## 回测 - 调参\n",
    "\n",
    "AllResultSaveDfIndicator = pd.DataFrame()\n",
    "AllResultSaveDfYearReturn = pd.DataFrame()\n",
    "EquitySeriesDict = {}\n",
    "WeightDict = {}\n",
    "# for HowRank in ['偏离度排名','绝对排名']:\n",
    "for HowRank in ['偏离度排名']:\n",
    "    for RankN in list(range(7,8)):\n",
    "        # 初始化指标\n",
    "        tol_equity = 1\n",
    "        HowRank = HowRank\n",
    "        RankN = RankN\n",
    "        WeightDf = pd.DataFrame()\n",
    "        equity_df = pd.DataFrame([1],columns=['equity_series'],index=[StrategyDateList[0]])\n",
    "        # 月末循环执行策略，最后一个月不执行策略\n",
    "        for cnt in range(len(StrategyDateList)-1):\n",
    "\n",
    "            # 获取关键日期\n",
    "            strategy_date = StrategyDateList[cnt]\n",
    "            next_strategy_date = StrategyDateList[cnt+1]\n",
    "\n",
    "            # 读取数据 - 历史策略用数据+未来一个月收益率计算数据\n",
    "            # 历史策略用数据\n",
    "            history_data = AllDataForBackTest[AllDataForBackTest['trade_date'] == strategy_date]\n",
    "            history_trade_data = FinDataDfSubReturn[FinDataDfSubReturn['date'] <= strategy_date].iloc[-252:,:]\n",
    "            cycle_now = history_data['MCcycle'].tolist()[0]\n",
    "\n",
    "            # 读取数据 - 未来一个月收益率计算数据 \n",
    "            future_data_for_return = FinDataDf[(FinDataDf.index<=next_strategy_date) & (FinDataDf.index>=strategy_date)]\n",
    "\n",
    "            # 运行策略\n",
    "            expected_weight_df = Strategy(history_data, HowRank, RankN, cycle_now,history_trade_data)\n",
    "            expected_weight_df_output = expected_weight_df.copy()\n",
    "            expected_weight_df_output.index = [next_strategy_date]\n",
    "            WeightDf = pd.concat([WeightDf,expected_weight_df_output],axis=0)\n",
    "\n",
    "            # 结算策略，更新净值\n",
    "            clear_df, tol_equity = Clear(future_data_for_return,tol_equity,expected_weight_df,cycle_now)\n",
    "\n",
    "            # 输出净值序列\n",
    "            equity_df = pd.concat([equity_df,clear_df],axis=0)\n",
    "\n",
    "        backtest = Indicator(equity_df)\n",
    "        # 策略结果\n",
    "        AllResultSaveDfIndicator = pd.concat([AllResultSaveDfIndicator,backtest[0]],axis=1)\n",
    "        AllResultSaveDfYearReturn = pd.concat([AllResultSaveDfYearReturn,backtest[2]],axis=1)\n",
    "        EquitySeriesDict[HowRank+str(RankN)] = backtest[1][['equity_series']]\n",
    "        WeightDict[HowRank+str(RankN)] = WeightDf"
   ]
  },
  {
   "cell_type": "code",
   "execution_count": 138,
   "metadata": {},
   "outputs": [
    {
     "data": {
      "text/plain": [
       "'\\n与基准比较\\n'"
      ]
     },
     "execution_count": 138,
     "metadata": {},
     "output_type": "execute_result"
    }
   ],
   "source": [
    "'''\n",
    "与基准比较\n",
    "'''"
   ]
  },
  {
   "cell_type": "code",
   "execution_count": 228,
   "metadata": {
    "scrolled": true
   },
   "outputs": [],
   "source": [
    "# 基准表现计算\n",
    "# 沪深300指数\n",
    "BenchmarkIndexSubEquity = AllDataStrategyEquityIndex.copy()\n",
    "# BenchmarkIndexSubEquityFirst = BenchmarkIndexSubEquity['equity_series'].tolist()[0]\n",
    "# BenchmarkIndexSubEquity['equity_series'] = BenchmarkIndexSubEquity['equity_series'].apply(lambda x: x/BenchmarkIndexSubEquityFirst)\n",
    "\n",
    "ResultIndex1 = Indicator(BenchmarkIndexSubEquity)[0].rename(columns={Indicator(BenchmarkIndexSubEquity)[0].columns[0]:'行业等权指数'})\n",
    "ResultIndex2 = Indicator(BenchmarkIndexSubEquity)[2].rename(columns={Indicator(BenchmarkIndexSubEquity)[2].columns[0]:'行业等权指数'})\n",
    "AllResultSaveDfIndicator = pd.concat([AllResultSaveDfIndicator,ResultIndex1],axis=1)\n",
    "AllResultSaveDfYearReturn = pd.concat([AllResultSaveDfYearReturn,ResultIndex2],axis=1)"
   ]
  },
  {
   "cell_type": "code",
   "execution_count": 140,
   "metadata": {},
   "outputs": [
    {
     "data": {
      "text/plain": [
       "'\\n全回测结果输出\\n'"
      ]
     },
     "execution_count": 140,
     "metadata": {},
     "output_type": "execute_result"
    }
   ],
   "source": [
    "'''\n",
    "全回测结果输出\n",
    "'''"
   ]
  },
  {
   "cell_type": "code",
   "execution_count": 229,
   "metadata": {
    "scrolled": true
   },
   "outputs": [],
   "source": [
    "# 指标/年度收益结果输出\n",
    "# AllResultSaveDfIndicator.T.to_excel('C:/Users/jxjsj/Desktop/资产配置课题/AllResultSaveDfIndicator.xlsx',index=True)\n",
    "# AllResultSaveDfYearReturn.to_excel('C:/Users/jxjsj/Desktop/资产配置课题/AllResultSaveDfYearReturn.xlsx',index=True)\n",
    "\n",
    "# 净值序列输出\n",
    "# 策略\n",
    "AllEquityDf = pd.DataFrame()\n",
    "for key in EquitySeriesDict.keys():\n",
    "#     EquitySeriesDict[key].to_excel('C:/Users/jxjsj/Desktop/资产配置课题/' + key + '.xlsx',index=True)\n",
    "    EquitySeries = EquitySeriesDict[key].rename(columns={'equity_series':key})\n",
    "    AllEquityDf = pd.concat([AllEquityDf,EquitySeries],sort=False,axis=1)\n",
    "# 指数\n",
    "IndexSubEquity = Indicator(BenchmarkIndexSubEquity)[1][['行业等权指数']]\n",
    "AllEquityDf = pd.concat([AllEquityDf,IndexSubEquity],sort=False,axis=1)\n",
    "\n",
    "# 周期序列输出（日度）\n",
    "DummyCycleDataM = pd.get_dummies(AllDataForBackTest[['trade_date','MCcycle']].set_index('trade_date'))\n",
    "DummyCycleDataD = backtest[1][['equity_series']].merge(DummyCycleDataM,left_index=True,right_index=True,how='left').fillna(method='bfill')[DummyCycleDataM.columns.tolist()]\n",
    "# DummyCycleDataD.to_excel('C:/Users/jxjsj/Desktop/资产配置课题/DummyCycleDataD.xlsx',index=True)\n",
    "\n",
    "# 周期图表\n",
    "CycleMC = DummyCycleDataD.merge(MacroDataDaily,left_index=True,right_on='date',how='left').set_index('date')\n",
    "# CycleMC.to_excel('C:/Users/jxjsj/Desktop/资产配置课题/CycleMC.xlsx',index=True)\n",
    "\n",
    "# 底稿数据输出（月度）\n",
    "# AllDataForBackTest.to_excel('C:/Users/jxjsj/Desktop/资产配置课题/AllDataForBackTest.xlsx',index=False)\n",
    "\n",
    "# 权重数据输出\n",
    "for key in WeightDict:\n",
    "    WeightDfEach = WeightDict[key][Class]\n",
    "#     WeightDfEach.to_excel('C:/Users/jxjsj/Desktop/资产配置课题/' + key + 'Weight.xlsx',index=True)"
   ]
  },
  {
   "cell_type": "code",
   "execution_count": 230,
   "metadata": {},
   "outputs": [
    {
     "data": {
      "text/html": [
       "<div>\n",
       "<style scoped>\n",
       "    .dataframe tbody tr th:only-of-type {\n",
       "        vertical-align: middle;\n",
       "    }\n",
       "\n",
       "    .dataframe tbody tr th {\n",
       "        vertical-align: top;\n",
       "    }\n",
       "\n",
       "    .dataframe thead th {\n",
       "        text-align: right;\n",
       "    }\n",
       "</style>\n",
       "<table border=\"1\" class=\"dataframe\">\n",
       "  <thead>\n",
       "    <tr style=\"text-align: right;\">\n",
       "      <th></th>\n",
       "      <th>mean_return</th>\n",
       "      <th>vol_return</th>\n",
       "      <th>IR</th>\n",
       "      <th>max_drawdown</th>\n",
       "      <th>mean_return_max_drawdown_ratio</th>\n",
       "    </tr>\n",
       "  </thead>\n",
       "  <tbody>\n",
       "    <tr>\n",
       "      <th>偏离度排名7</th>\n",
       "      <td>0.152011</td>\n",
       "      <td>0.253146</td>\n",
       "      <td>0.600487</td>\n",
       "      <td>0.443060</td>\n",
       "      <td>0.343093</td>\n",
       "    </tr>\n",
       "    <tr>\n",
       "      <th>行业等权指数</th>\n",
       "      <td>0.062065</td>\n",
       "      <td>0.247628</td>\n",
       "      <td>0.250636</td>\n",
       "      <td>0.589327</td>\n",
       "      <td>0.105314</td>\n",
       "    </tr>\n",
       "  </tbody>\n",
       "</table>\n",
       "</div>"
      ],
      "text/plain": [
       "        mean_return  vol_return        IR  max_drawdown  \\\n",
       "偏离度排名7     0.152011    0.253146  0.600487      0.443060   \n",
       "行业等权指数     0.062065    0.247628  0.250636      0.589327   \n",
       "\n",
       "        mean_return_max_drawdown_ratio  \n",
       "偏离度排名7                        0.343093  \n",
       "行业等权指数                        0.105314  "
      ]
     },
     "execution_count": 230,
     "metadata": {},
     "output_type": "execute_result"
    }
   ],
   "source": [
    "AllResultSaveDfIndicator.T"
   ]
  },
  {
   "cell_type": "code",
   "execution_count": 231,
   "metadata": {},
   "outputs": [
    {
     "data": {
      "text/html": [
       "<div>\n",
       "<style scoped>\n",
       "    .dataframe tbody tr th:only-of-type {\n",
       "        vertical-align: middle;\n",
       "    }\n",
       "\n",
       "    .dataframe tbody tr th {\n",
       "        vertical-align: top;\n",
       "    }\n",
       "\n",
       "    .dataframe thead th {\n",
       "        text-align: right;\n",
       "    }\n",
       "</style>\n",
       "<table border=\"1\" class=\"dataframe\">\n",
       "  <thead>\n",
       "    <tr style=\"text-align: right;\">\n",
       "      <th></th>\n",
       "      <th>偏离度排名7</th>\n",
       "      <th>行业等权指数</th>\n",
       "    </tr>\n",
       "    <tr>\n",
       "      <th>date</th>\n",
       "      <th></th>\n",
       "      <th></th>\n",
       "    </tr>\n",
       "  </thead>\n",
       "  <tbody>\n",
       "    <tr>\n",
       "      <th>2011-12-31</th>\n",
       "      <td>-0.161568</td>\n",
       "      <td>-0.263616</td>\n",
       "    </tr>\n",
       "    <tr>\n",
       "      <th>2012-12-31</th>\n",
       "      <td>0.054738</td>\n",
       "      <td>0.014383</td>\n",
       "    </tr>\n",
       "    <tr>\n",
       "      <th>2013-12-31</th>\n",
       "      <td>0.265284</td>\n",
       "      <td>0.122482</td>\n",
       "    </tr>\n",
       "    <tr>\n",
       "      <th>2014-12-31</th>\n",
       "      <td>0.440868</td>\n",
       "      <td>0.432752</td>\n",
       "    </tr>\n",
       "    <tr>\n",
       "      <th>2015-12-31</th>\n",
       "      <td>0.606323</td>\n",
       "      <td>0.442541</td>\n",
       "    </tr>\n",
       "    <tr>\n",
       "      <th>2016-12-31</th>\n",
       "      <td>-0.064111</td>\n",
       "      <td>-0.124955</td>\n",
       "    </tr>\n",
       "    <tr>\n",
       "      <th>2017-12-31</th>\n",
       "      <td>0.044071</td>\n",
       "      <td>-0.002459</td>\n",
       "    </tr>\n",
       "    <tr>\n",
       "      <th>2018-12-31</th>\n",
       "      <td>-0.217641</td>\n",
       "      <td>-0.301202</td>\n",
       "    </tr>\n",
       "    <tr>\n",
       "      <th>2019-12-31</th>\n",
       "      <td>0.333227</td>\n",
       "      <td>0.217873</td>\n",
       "    </tr>\n",
       "  </tbody>\n",
       "</table>\n",
       "</div>"
      ],
      "text/plain": [
       "              偏离度排名7    行业等权指数\n",
       "date                          \n",
       "2011-12-31 -0.161568 -0.263616\n",
       "2012-12-31  0.054738  0.014383\n",
       "2013-12-31  0.265284  0.122482\n",
       "2014-12-31  0.440868  0.432752\n",
       "2015-12-31  0.606323  0.442541\n",
       "2016-12-31 -0.064111 -0.124955\n",
       "2017-12-31  0.044071 -0.002459\n",
       "2018-12-31 -0.217641 -0.301202\n",
       "2019-12-31  0.333227  0.217873"
      ]
     },
     "execution_count": 231,
     "metadata": {},
     "output_type": "execute_result"
    }
   ],
   "source": [
    "AllResultSaveDfYearReturn"
   ]
  },
  {
   "cell_type": "code",
   "execution_count": 144,
   "metadata": {},
   "outputs": [
    {
     "data": {
      "text/plain": [
       "'\\n按照全净值序列数据 计算相对基准胜率并输出（需要关联周期序列表，日度净值可以自动降为月度数据）\\n'"
      ]
     },
     "execution_count": 144,
     "metadata": {},
     "output_type": "execute_result"
    }
   ],
   "source": [
    "'''\n",
    "按照全净值序列数据 计算相对基准胜率并输出（需要关联周期序列表，日度净值可以自动降为月度数据）\n",
    "'''"
   ]
  },
  {
   "cell_type": "code",
   "execution_count": 232,
   "metadata": {
    "scrolled": true
   },
   "outputs": [],
   "source": [
    "AllEquityDf_ = AllEquityDf.copy()\n",
    "CycleMat = AllDataForBackTest[['trade_date','MCcycle']].set_index('trade_date').copy()\n",
    "def ComputeWinOfCycle(df):\n",
    "    win_time = df['equity_win'].sum()\n",
    "    win = win_time/len(df)\n",
    "    return win\n",
    "\n",
    "def ResampleCycleTrade(df):\n",
    "    df = df.copy()\n",
    "    ResampleWinDf = pd.DataFrame()\n",
    "    df['Cycle_Pos'] = df['MCcycle'] + df['Positon']\n",
    "    for cnt in range(1,len(df)):\n",
    "        date = df.index[cnt-1]\n",
    "        Cycle_Pos = df.iloc[cnt,:]['Cycle_Pos']\n",
    "        SubDfForComputeWin = df.iloc[cnt-1,:].to_frame(date).T\n",
    "        if Cycle_Pos != df.iloc[cnt-1,:]['Cycle_Pos']:\n",
    "            ResampleWinDf = pd.concat([ResampleWinDf,SubDfForComputeWin],axis=0)\n",
    "    return ResampleWinDf\n",
    "\n",
    "def ComputeWinEachCycle(df):\n",
    "    TradeTime = 0\n",
    "    for cnt in range(len(df)):\n",
    "        NowDf = df.iloc[cnt,:]\n",
    "        if cnt == 0:\n",
    "            NowCycle = NowDf['MCcycle']\n",
    "            NowPosition = NowDf['Position']\n",
    "            LastEquity = 1\n",
    "            continue\n",
    "        if NowDf['MCcycle'] != NowCycle:\n",
    "            TradeTime += 1\n",
    "\n",
    "# 按照周期和持仓变化作为一次交易，计算胜率\n",
    "# AllWinResult = pd.DataFrame()\n",
    "# for asset in [i for i in AllEquityDf_.columns if i not in ['中证金融地产','工银瑞信金融地产']]:\n",
    "#     EquityDf_ = AllEquityDf_[[asset]]\n",
    "#     WeightDf_ = WeightDict[asset]\n",
    "#     WeightDf_['Positon'] = WeightDf_.apply(lambda x: str(x['券商'])+str(x['银行'])+str(x['房地产'])+str(x['保险']),axis=1)\n",
    "    \n",
    "#     # 净值数据匹配周期数据、持仓数据\n",
    "#     DfForComputeWin = CycleMat.merge(EquityDf_,left_index=True,right_index=True,how='left').merge(WeightDf_,left_index=True,right_index=True,how='left')\n",
    "#     # 重采样\n",
    "#     DfForComputeWin_ = ResampleCycleTrade(DfForComputeWin)\n",
    "    \n",
    "#     # 计算每个 周期-交易 内的收益率\n",
    "#     DfForComputeWin_['equity_return'] = DfForComputeWin_[asset].pct_change()\n",
    "#     DfForComputeWin_['equity_return'] = DfForComputeWin_['equity_return'].fillna(DfForComputeWin_[asset]-1)\n",
    "#     DfForComputeWin_['equity_win'] = DfForComputeWin_['equity_return'].apply(lambda x: 1 if x>0 else 0)\n",
    "#     WinResult = DfForComputeWin_.groupby('MCcycle').apply(ComputeWinOfCycle).to_frame(asset)\n",
    "\n",
    "#     # 输出\n",
    "#     AllWinResult = pd.concat([AllWinResult,WinResult],axis=1)\n",
    "# AllWinResult.to_excel('C:/Users/jxjsj/Desktop/资产配置课题/AllWinResult.xlsx',index=True)\n",
    "\n",
    "# 每个月调仓或者再平衡作为一次交易，计算相对中证金融地产胜率\n",
    "AllWinResult = pd.DataFrame()\n",
    "for asset in [i for i in AllEquityDf_.columns if i not in ['行业等权指数']]:\n",
    "    EquityDf_ = (AllEquityDf_[asset]/AllEquityDf_['行业等权指数']).to_frame(asset)\n",
    "\n",
    "    # 净值数据匹配周期数据\n",
    "    DfForComputeWin_ = CycleMat.merge(EquityDf_,left_index=True,right_index=True)\n",
    "    \n",
    "    # 计算每个 周期-交易 内的收益率\n",
    "    DfForComputeWin_['equity_return'] = DfForComputeWin_[asset].pct_change()\n",
    "    DfForComputeWin_ = DfForComputeWin_.dropna()\n",
    "    DfForComputeWin_['equity_return'] = DfForComputeWin_['equity_return'].fillna(DfForComputeWin_[asset]-1)\n",
    "    DfForComputeWin_['equity_win'] = DfForComputeWin_['equity_return'].apply(lambda x: 1 if x>0 else 0)\n",
    "    WinResult = DfForComputeWin_.groupby('MCcycle').apply(ComputeWinOfCycle).to_frame(asset)\n",
    "    \n",
    "    # 计算全周期下收益\n",
    "    WinResultTmp = pd.DataFrame([ComputeWinOfCycle(DfForComputeWin_)],index=['AllCycle'],columns=[asset])\n",
    "    WinResult = pd.concat([WinResult,WinResultTmp],axis=0)\n",
    "\n",
    "    # 输出\n",
    "    AllWinResult = pd.concat([AllWinResult,WinResult],axis=1)\n",
    "# AllWinResult.to_excel('C:/Users/jxjsj/Desktop/资产配置课题/AllWinResult.xlsx',index=True)"
   ]
  },
  {
   "cell_type": "code",
   "execution_count": 233,
   "metadata": {},
   "outputs": [
    {
     "data": {
      "text/html": [
       "<div>\n",
       "<style scoped>\n",
       "    .dataframe tbody tr th:only-of-type {\n",
       "        vertical-align: middle;\n",
       "    }\n",
       "\n",
       "    .dataframe tbody tr th {\n",
       "        vertical-align: top;\n",
       "    }\n",
       "\n",
       "    .dataframe thead th {\n",
       "        text-align: right;\n",
       "    }\n",
       "</style>\n",
       "<table border=\"1\" class=\"dataframe\">\n",
       "  <thead>\n",
       "    <tr style=\"text-align: right;\">\n",
       "      <th></th>\n",
       "      <th>偏离度排名7</th>\n",
       "    </tr>\n",
       "  </thead>\n",
       "  <tbody>\n",
       "    <tr>\n",
       "      <th>ME CE</th>\n",
       "      <td>0.600000</td>\n",
       "    </tr>\n",
       "    <tr>\n",
       "      <th>ME CR</th>\n",
       "      <td>0.714286</td>\n",
       "    </tr>\n",
       "    <tr>\n",
       "      <th>MR CE</th>\n",
       "      <td>0.758621</td>\n",
       "    </tr>\n",
       "    <tr>\n",
       "      <th>MR CR</th>\n",
       "      <td>0.576923</td>\n",
       "    </tr>\n",
       "    <tr>\n",
       "      <th>AllCycle</th>\n",
       "      <td>0.663366</td>\n",
       "    </tr>\n",
       "  </tbody>\n",
       "</table>\n",
       "</div>"
      ],
      "text/plain": [
       "            偏离度排名7\n",
       "ME CE     0.600000\n",
       "ME CR     0.714286\n",
       "MR CE     0.758621\n",
       "MR CR     0.576923\n",
       "AllCycle  0.663366"
      ]
     },
     "execution_count": 233,
     "metadata": {},
     "output_type": "execute_result"
    }
   ],
   "source": [
    "AllWinResult"
   ]
  },
  {
   "cell_type": "code",
   "execution_count": 36,
   "metadata": {},
   "outputs": [
    {
     "data": {
      "text/plain": [
       "'\\n最优结果输出\\n'"
      ]
     },
     "execution_count": 36,
     "metadata": {},
     "output_type": "execute_result"
    }
   ],
   "source": [
    "'''\n",
    "最优结果输出&绘图\n",
    "'''"
   ]
  },
  {
   "cell_type": "code",
   "execution_count": 234,
   "metadata": {},
   "outputs": [],
   "source": [
    "## 回测 - 最优结果\n",
    "\n",
    "# 初始化指标\n",
    "tol_equity = 1\n",
    "HowRank = '偏离度排名'\n",
    "RankN = 7\n",
    "WeightDf = pd.DataFrame()\n",
    "equity_df = pd.DataFrame([1],columns=['equity_series'],index=[StrategyDateList[0]])\n",
    "# 月末循环执行策略，最后一个月不执行策略\n",
    "for cnt in range(len(StrategyDateList)-1):\n",
    "\n",
    "    # 获取关键日期\n",
    "    strategy_date = StrategyDateList[cnt]\n",
    "    next_strategy_date = StrategyDateList[cnt+1]\n",
    "\n",
    "    # 读取数据 - 历史策略用数据+未来一个月收益率计算数据\n",
    "    # 历史策略用数据\n",
    "    history_data = AllDataForBackTest[AllDataForBackTest['trade_date'] == strategy_date]\n",
    "    history_trade_data = FinDataDfSubReturn[FinDataDfSubReturn['date'] <= strategy_date].iloc[-252:,:]\n",
    "    cycle_now = history_data['MCcycle'].tolist()[0]\n",
    "\n",
    "    # 读取数据 - 未来一个月收益率计算数据 \n",
    "    future_data_for_return = FinDataDf[(FinDataDf.index<=next_strategy_date) & (FinDataDf.index>=strategy_date)]\n",
    "\n",
    "    # 运行策略\n",
    "    expected_weight_df = Strategy(history_data, HowRank, RankN, cycle_now,history_trade_data)\n",
    "    expected_weight_df_output = expected_weight_df.copy()\n",
    "    expected_weight_df_output.index = [next_strategy_date]\n",
    "    WeightDf = pd.concat([WeightDf,expected_weight_df_output],axis=0)\n",
    "\n",
    "    # 结算策略，更新净值\n",
    "    clear_df, tol_equity = Clear(future_data_for_return,tol_equity,expected_weight_df,cycle_now)\n",
    "\n",
    "    # 输出净值序列\n",
    "    equity_df = pd.concat([equity_df,clear_df],axis=0)\n",
    "\n",
    "backtest = Indicator(equity_df)\n",
    "# 策略结果\n",
    "AllResultSaveDfIndicator = pd.concat([AllResultSaveDfIndicator,backtest[0]],axis=1)\n",
    "AllResultSaveDfYearReturn = pd.concat([AllResultSaveDfYearReturn,backtest[2]],axis=1)\n",
    "EquitySeriesDict[HowRank+str(RankN)] = backtest[1][['equity_series']]\n",
    "WeightDict[HowRank+str(RankN)] = WeightDf\n",
    "\n",
    "# 策略结果\n",
    "# print('Strategy')\n",
    "# print(backtest[0])\n",
    "# print(backtest[2])\n",
    "# backtest[1].to_excel('C:/Users/jxjsj/Desktop/资产配置课题/bestbacktest.xlsx',index=True)"
   ]
  },
  {
   "cell_type": "code",
   "execution_count": 235,
   "metadata": {
    "scrolled": false
   },
   "outputs": [
    {
     "data": {
      "text/plain": [
       "<matplotlib.legend.Legend at 0x1ead8867a20>"
      ]
     },
     "execution_count": 235,
     "metadata": {},
     "output_type": "execute_result"
    },
    {
     "data": {
      "image/png": "[encoded data removed]",
      "text/plain": [
       "<Figure size 1080x648 with 1 Axes>"
      ]
     },
     "metadata": {},
     "output_type": "display_data"
    }
   ],
   "source": [
    "# 超额净值\n",
    "plt.figure(figsize=(15,9))\n",
    "plt.plot(backtest[1]['equity_series']/BenchmarkIndexSubEquity['行业等权指数'],label='Strategy')\n",
    "# plt.plot(BenchmarkFundSubEquity[['equity_series']]/BenchmarkIndexSubEquity[['equity_series']],label='Fund')\n",
    "# plt.plot(BenchmarkIndexSubEquity[['equity_series']],label='Index')\n",
    "plt.legend(loc=0)"
   ]
  },
  {
   "cell_type": "code",
   "execution_count": 236,
   "metadata": {
    "scrolled": false
   },
   "outputs": [
    {
     "data": {
      "text/plain": [
       "<matplotlib.legend.Legend at 0x1ead8afff98>"
      ]
     },
     "execution_count": 236,
     "metadata": {},
     "output_type": "execute_result"
    },
    {
     "data": {
      "image/png": "[encoded data removed]",
      "text/plain": [
       "<Figure size 1080x648 with 1 Axes>"
      ]
     },
     "metadata": {},
     "output_type": "display_data"
    }
   ],
   "source": [
    "# 绝对净值\n",
    "plt.figure(figsize=(15,9))\n",
    "plt.plot(backtest[1][['equity_series']],label='Strategy')\n",
    "# plt.plot(BenchmarkFundSubEquity[['equity_series']],label='Fund')\n",
    "plt.plot(AllDataStrategyEquityIndex[['行业等权指数']],label='行业等权指数')\n",
    "plt.legend(loc=0)"
   ]
  },
  {
   "cell_type": "code",
   "execution_count": null,
   "metadata": {},
   "outputs": [],
   "source": []
  }
 ],
 "metadata": {
  "kernelspec": {
   "display_name": "Python 3",
   "language": "python",
   "name": "python3"
  },
  "language_info": {
   "codemirror_mode": {
    "name": "ipython",
    "version": 3
   },
   "file_extension": ".py",
   "mimetype": "text/x-python",
   "name": "python",
   "nbconvert_exporter": "python",
   "pygments_lexer": "ipython3",
   "version": "3.6.5"
  }
 },
 "nbformat": 4,
 "nbformat_minor": 2
}
