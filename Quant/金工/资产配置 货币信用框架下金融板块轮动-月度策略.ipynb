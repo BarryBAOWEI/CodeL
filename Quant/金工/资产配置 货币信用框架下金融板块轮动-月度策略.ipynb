{
 "cells": [
  {
   "cell_type": "code",
   "execution_count": 354,
   "metadata": {},
   "outputs": [],
   "source": [
    "import pandas as pd\n",
    "import matplotlib.pyplot as plt\n",
    "import numpy as np\n",
    "from joblib import Parallel, delayed\n",
    "import multiprocessing\n",
    "import datetime\n",
    "import pprint\n",
    "import scipy.optimize as sco\n",
    "from sklearn.feature_extraction import DictVectorizer\n",
    "from sklearn.metrics import classification_report\n",
    "from sklearn.ensemble import RandomForestClassifier\n",
    "from sklearn.ensemble import BaggingClassifier\n",
    "from sklearn.tree import DecisionTreeClassifier\n",
    "from sklearn import svm\n",
    "from sklearn import tree\n",
    "from sklearn.naive_bayes import GaussianNB,MultinomialNB,BernoulliNB\n",
    "\n",
    "plt.rcParams['font.sans-serif']=['SimHei']\n",
    "plt.rcParams['axes.unicode_minus'] = False"
   ]
  },
  {
   "cell_type": "code",
   "execution_count": null,
   "metadata": {},
   "outputs": [],
   "source": [
    "'''\n",
    "基本数据导入 - 绝对路径，需要修改\n",
    "'''"
   ]
  },
  {
   "cell_type": "code",
   "execution_count": 355,
   "metadata": {},
   "outputs": [],
   "source": [
    "## 四板块\n",
    "Class = ['券商','银行','房地产','保险']"
   ]
  },
  {
   "cell_type": "code",
   "execution_count": 356,
   "metadata": {},
   "outputs": [],
   "source": [
    "## 周期数据\n",
    "## 日度\n",
    "MacroDataDaily = pd.read_excel('C:/Users/jxjsj/Desktop/东吴金工实习/资产配置课题/华商基金数据/宏观经济指标.xlsx').dropna()\n",
    "MacroDataDaily['M'] = MacroDataDaily['中债国债到期收益率:1年']\n",
    "MacroDataDaily['C'] = MacroDataDaily['中债企业债到期收益率(AA):3年'] - MacroDataDaily['中债企业债到期收益率(AAA):3年']\n",
    "## 日期调整 - 月末数据取股票交易日月末\n",
    "stocktest = pd.read_excel('C:/Users/jxjsj/Desktop/东吴金工实习/资产配置课题/华商基金数据/券商.xlsx')['date'].tolist()\n",
    "MacroDataDaily = MacroDataDaily[MacroDataDaily['date'].isin(stocktest)]\n",
    "## 月度 - 每月最后一天\n",
    "MacroDataMonthly = MacroDataDaily.copy()\n",
    "MacroDataMonthly['trade_date'] = MacroDataDaily['date']\n",
    "MacroDataMonthly = MacroDataMonthly.set_index('date').apply(lambda x: x.resample('M').last()).reset_index()"
   ]
  },
  {
   "cell_type": "code",
   "execution_count": 357,
   "metadata": {},
   "outputs": [],
   "source": [
    "## 全数据 - 面板数据堆叠形式\n",
    "qs = pd.read_excel('C:/Users/jxjsj/Desktop/东吴金工实习/资产配置课题/华商基金数据/券商.xlsx')\n",
    "yh = pd.read_excel('C:/Users/jxjsj/Desktop/东吴金工实习/资产配置课题/华商基金数据/银行.xlsx')\n",
    "fdc = pd.read_excel('C:/Users/jxjsj/Desktop/东吴金工实习/资产配置课题/华商基金数据/房地产.xlsx')\n",
    "bx = pd.read_excel('C:/Users/jxjsj/Desktop/东吴金工实习/资产配置课题/华商基金数据/保险.xlsx')\n",
    "\n",
    "qs['return'] = qs['close']/qs['close'].shift(1)-1\n",
    "yh['return'] = yh['close']/yh['close'].shift(1)-1\n",
    "fdc['return'] = fdc['close']/fdc['close'].shift(1)-1\n",
    "bx['return'] = bx['close']/bx['close'].shift(1)-1\n",
    "\n",
    "qs['class'] = '券商'\n",
    "yh['class'] = '银行'\n",
    "fdc['class'] = '房地产'\n",
    "bx['class'] = '保险'\n",
    "\n",
    "FinDataDf = pd.concat([qs,yh,fdc,bx],axis=0,sort=False)"
   ]
  },
  {
   "cell_type": "code",
   "execution_count": 358,
   "metadata": {},
   "outputs": [],
   "source": [
    "## 债券数据\n",
    "Bond = pd.read_excel('C:/Users/jxjsj/Desktop/东吴金工实习/资产配置课题/华商基金数据/上证国债.xlsx')"
   ]
  },
  {
   "cell_type": "code",
   "execution_count": 359,
   "metadata": {},
   "outputs": [],
   "source": [
    "## 起止时间设定\n",
    "DataStart = '2009-08-31'\n",
    "StrategyStart = '2014-01-30'\n",
    "End = '2019-06-30'\n",
    "\n",
    "MacroDataMonthlySub = MacroDataMonthly[(MacroDataMonthly['trade_date']>=DataStart) & (MacroDataMonthly['trade_date']<=End)].copy()\n",
    "FinDataDfSub = FinDataDf[(FinDataDf['date']<=End) & (FinDataDf['date']>=DataStart)].copy()\n",
    "FinDataDfSubReturn = FinDataDfSub.pivot(index='date',columns='class',values='return').reset_index()"
   ]
  },
  {
   "cell_type": "code",
   "execution_count": 360,
   "metadata": {},
   "outputs": [],
   "source": [
    "## 实行策略时点 - 交易日历的月末\n",
    "MacroDataMonthlySubForStrategy = MacroDataMonthlySub[MacroDataMonthlySub['trade_date']>=StrategyStart]\n",
    "StrategyDateDf = MacroDataMonthlySubForStrategy[['trade_date']].rename(columns={'trade_date':'StrategyDate'})\n",
    "StrategyDateList = StrategyDateDf['StrategyDate'].tolist()"
   ]
  },
  {
   "cell_type": "code",
   "execution_count": 361,
   "metadata": {},
   "outputs": [],
   "source": [
    "## 基准数据导入\n",
    "BenchmarkIndex = pd.read_excel('C:/Users/jxjsj/Desktop/东吴金工实习/资产配置课题/华商基金数据/中证金融地产.xlsx')\n",
    "BenchmarkFund = pd.read_excel('C:/Users/jxjsj/Desktop/东吴金工实习/资产配置课题/华商基金数据/工银瑞信金融地产.xlsx')\n",
    "\n",
    "BenchmarkIndex['return'] = BenchmarkIndex['close']/BenchmarkIndex['close'].shift(1)-1\n",
    "BenchmarkFund['return'] = BenchmarkFund['close']/BenchmarkFund['close'].shift(1)-1\n",
    "\n",
    "BenchmarkIndexSub = BenchmarkIndex[(BenchmarkIndex['date']>=StrategyStart) & (BenchmarkIndex['date']<=End)]\n",
    "BenchmarkFundSub = BenchmarkFund[(BenchmarkFund['date']>=StrategyStart) & (BenchmarkFund['date']<=End)]"
   ]
  },
  {
   "cell_type": "code",
   "execution_count": null,
   "metadata": {},
   "outputs": [],
   "source": [
    "'''\n",
    "策略所需数据/指标/信号计算\n",
    "'''"
   ]
  },
  {
   "cell_type": "code",
   "execution_count": null,
   "metadata": {},
   "outputs": [],
   "source": [
    "'''\n",
    "1货币信用周期指标计算\n",
    "'''"
   ]
  },
  {
   "cell_type": "code",
   "execution_count": 362,
   "metadata": {
    "scrolled": true
   },
   "outputs": [],
   "source": [
    "## 货币信用周期指标1 - T~T-3正负占比\n",
    "def MoneyCredit1(series):\n",
    "    MList = series.tolist()\n",
    "    MResultTmp = []\n",
    "    for i in range(len(MList)-1):\n",
    "        if MList[-1]-MList[i]>=0:\n",
    "            MResultTmp.append(1)\n",
    "        else:\n",
    "            MResultTmp.append(-1)\n",
    "    MResult = np.sum(MResultTmp)\n",
    "    return MResult\n",
    "def MoneyCredit2(series):\n",
    "    MList = series.tolist()\n",
    "    MResultTmp = []\n",
    "    MResult = MList[-1] - MList[-2]\n",
    "    return MResult\n",
    "def MoneyCredit3(series):\n",
    "    MList = series.tolist()\n",
    "    MResultTmp = []\n",
    "    MResult = (MList[-1] + MList[-2]) - (MList[-3] + MList[-4])\n",
    "    return MResult\n",
    "MacroDataMonthlySub['DeltaC'] = MacroDataMonthlySub['C'].rolling(4).apply(MoneyCredit1,raw=True)\n",
    "MacroDataMonthlySub['DeltaM'] = MacroDataMonthlySub['M'].rolling(4).apply(MoneyCredit1,raw=True)\n",
    "def MCcycle(df):\n",
    "    if df['DeltaC']>0:\n",
    "        C='R'\n",
    "    else:\n",
    "        C='E'\n",
    "    if df['DeltaM']>0:\n",
    "        M='R'\n",
    "    else:\n",
    "        M='E'\n",
    "    return 'M'+M+' C'+C\n",
    "MacroDataMonthlySub['MCcycle'] = MacroDataMonthlySub.apply(lambda x: MCcycle(x),axis=1)\n",
    "MCcycleDf = MacroDataMonthlySub[['trade_date','MCcycle']]"
   ]
  },
  {
   "cell_type": "code",
   "execution_count": 363,
   "metadata": {},
   "outputs": [],
   "source": [
    "'''\n",
    "2周期表示\n",
    "'''\n",
    "CycleList = ['ME CE','ME CR','MR CR','MR CE']"
   ]
  },
  {
   "cell_type": "code",
   "execution_count": null,
   "metadata": {},
   "outputs": [],
   "source": [
    "'''\n",
    "3各周期与对应月的收益数据合并\n",
    "'''"
   ]
  },
  {
   "cell_type": "code",
   "execution_count": 364,
   "metadata": {},
   "outputs": [],
   "source": [
    "## 月收益率\n",
    "FinDataDfSubClose = FinDataDfSub.pivot(index='date',columns='class',values='close')\n",
    "FinDataDfSubClose['trade_date'] = FinDataDfSubClose.index\n",
    "FinDataDfSubReturnM = FinDataDfSubClose.apply(lambda x: x.resample('M').last()).set_index('trade_date').pct_change().reset_index().dropna()\n",
    "\n",
    "## 收益率与周期合并\n",
    "CycleAndReturn = FinDataDfSubReturnM.merge(MCcycleDf,on=['trade_date'],how='left')"
   ]
  },
  {
   "cell_type": "code",
   "execution_count": null,
   "metadata": {},
   "outputs": [],
   "source": [
    "'''\n",
    "4各板块历史排名滚动平均值计算\n",
    "'''"
   ]
  },
  {
   "cell_type": "code",
   "execution_count": 365,
   "metadata": {
    "scrolled": true
   },
   "outputs": [],
   "source": [
    "RollingMonth = 48\n",
    "\n",
    "# 计算排名序号，按收益率从大到小排序\n",
    "def RankCompute(df):\n",
    "    df = df.copy()\n",
    "    trade_date = df['trade_date'].tolist()[0]\n",
    "    dfSub = df[Class]\n",
    "    tmpDf = dfSub.T\n",
    "    tmpcol = tmpDf.columns.tolist()[0]\n",
    "    tmpDf0 = tmpDf.sort_values(tmpcol,ascending=False)\n",
    "    tmpDf0[tmpcol] = range(1,5)\n",
    "    tmpDf1 = tmpDf0.T[Class]\n",
    "    tmpDf1.index = [trade_date]\n",
    "    return tmpDf1\n",
    "\n",
    "# 并行计算函数\n",
    "def applyParallel(dfGrouped, func):\n",
    "    retLst = Parallel(n_jobs=multiprocessing.cpu_count())(delayed(func)(group) for name, group in dfGrouped)\n",
    "    return pd.concat(retLst,sort=False)\n",
    "\n",
    "# 全周期下历史平均排名\n",
    "RollingRankAllDf = pd.DataFrame()\n",
    "for StrategyDate in StrategyDateList:\n",
    "    CycleAndReturnSub = CycleAndReturn[CycleAndReturn['trade_date']<=StrategyDate].copy()\n",
    "    CycleAndReturnSub = CycleAndReturnSub.iloc[-RollingMonth:,:]\n",
    "    # 并行计算\n",
    "    RollingRankGroupby = CycleAndReturnSub.groupby('trade_date')\n",
    "    RollingRankMaterial = applyParallel(RollingRankGroupby, RankCompute)\n",
    "    \n",
    "#     RollingRankMaterial.index = RollingRankMaterial.index.droplevel(1)\n",
    "    RollingRank = RollingRankMaterial.mean().to_frame().T\n",
    "    RollingRank.index = [StrategyDate]\n",
    "    RollingRankAllDf = pd.concat([RollingRankAllDf,RollingRank],axis=0)\n",
    "RollingRankAllDf.columns = [i+'RankAll' for i in RollingRankAllDf.columns]\n",
    "\n",
    "# 当前周期的历史同周期平均排名\n",
    "RollingRankCycleDf = pd.DataFrame()\n",
    "for StrategyDate in StrategyDateList:\n",
    "    CycleAndReturnSub = CycleAndReturn[CycleAndReturn['trade_date']<=StrategyDate].copy()\n",
    "    CycleAndReturnSub = CycleAndReturnSub.iloc[-RollingMonth:,:]\n",
    "    CycleNow = CycleAndReturnSub['MCcycle'].tolist()[-1]\n",
    "    CycleAndReturnSub = CycleAndReturnSub[CycleAndReturnSub['MCcycle']==CycleNow]\n",
    "    # 并行计算\n",
    "    RollingRankGroupby = CycleAndReturnSub.groupby('trade_date')\n",
    "    RollingRankMaterial = applyParallel(RollingRankGroupby, RankCompute)\n",
    "    \n",
    "#     RollingRankMaterial.index = RollingRankMaterial.index.droplevel(1)\n",
    "    RollingRank = RollingRankMaterial.mean().to_frame().T\n",
    "    RollingRank.index = [StrategyDate]\n",
    "    RollingRankCycleDf = pd.concat([RollingRankCycleDf,RollingRank],axis=0)\n",
    "RollingRankCycleDf.columns = [i+'RankCycle' for i in RollingRankCycleDf.columns]"
   ]
  },
  {
   "cell_type": "code",
   "execution_count": null,
   "metadata": {},
   "outputs": [],
   "source": [
    "'''\n",
    "5排名+周期+月度+收益率拼接 - 底稿\n",
    "'''"
   ]
  },
  {
   "cell_type": "code",
   "execution_count": 366,
   "metadata": {
    "scrolled": false
   },
   "outputs": [],
   "source": [
    "AllDataForBackTest = CycleAndReturn.merge(RollingRankCycleDf.merge(RollingRankAllDf,left_index=True,right_index=True),left_on='trade_date',right_index=True,how='left')"
   ]
  },
  {
   "cell_type": "code",
   "execution_count": null,
   "metadata": {},
   "outputs": [],
   "source": [
    "'''\n",
    "注：4/5 and 6 只跑其中一组\n",
    "6测试阶段-未来周期预测-日度数据扩充样本，预测未来21日\n",
    "'''"
   ]
  },
  {
   "cell_type": "code",
   "execution_count": 367,
   "metadata": {
    "scrolled": true
   },
   "outputs": [],
   "source": [
    "# 周度数据\n",
    "MacroDataDailyForPredict = MacroDataDaily.copy()\n",
    "# MacroDataDailyForPredict['trade_date'] = MacroDataDailyForPredict['date']\n",
    "# MacroDataWeeklyForPredict = MacroDataDailyForPredict.set_index('date').apply(lambda x: x.resample(\"W\").last()).dropna()\n",
    "\n",
    "# 变量构造\n",
    "# 历史四月涨跌\n",
    "def ComputeChange1M(series):\n",
    "    return series[-1] - series[-22]\n",
    "def ComputeChange2M(series):\n",
    "    return series[-1] - series[-43]\n",
    "def ComputeChange3M(series):\n",
    "    return series[-1] - series[-64]\n",
    "def ComputeChange4M(series):\n",
    "    return series[-1] - series[-85]\n",
    "\n",
    "for Mchange in range(1,5):\n",
    "    exec('''MacroDataDailyForPredict['Change%sM'] = MacroDataDailyForPredict['M'].rolling(85).apply(ComputeChange%sM,raw=True)''' %(Mchange,Mchange))\n",
    "for Mchange in range(1,5):\n",
    "    exec('''MacroDataDailyForPredict['Change%sC'] = MacroDataDailyForPredict['C'].rolling(85).apply(ComputeChange%sM,raw=True)''' %(Mchange,Mchange))\n",
    "\n",
    "# 周期判断\n",
    "def MoneyCreditR64(series):\n",
    "    MList = series.tolist()\n",
    "    MResultTmp = []\n",
    "    for i in range(3):\n",
    "        j = (i+1)*21 + 1\n",
    "        if MList[-1]-MList[-(j)]>=0:\n",
    "            MResultTmp.append(1)\n",
    "        else:\n",
    "            MResultTmp.append(-1)\n",
    "    MResult = np.sum(MResultTmp)\n",
    "    return MResult\n",
    "def MCcycle(df):\n",
    "    if df['DeltaC']>0:\n",
    "        C='R'\n",
    "    else:\n",
    "        C='E'\n",
    "    if df['DeltaM']>0:\n",
    "        M='R'\n",
    "    else:\n",
    "        M='E'\n",
    "    return 'M'+M+' C'+C\n",
    "MacroDataDailyForPredict['DeltaM'] = MacroDataDailyForPredict['M'].rolling(64).apply(MoneyCreditR64,raw=True)\n",
    "MacroDataDailyForPredict['DeltaC'] = MacroDataDailyForPredict['C'].rolling(64).apply(MoneyCreditR64,raw=True)\n",
    "MacroDataDailyForPredict['MCcycle'] = MacroDataDailyForPredict.apply(lambda x: MCcycle(x),axis=1)\n",
    "MacroDataDailyForPredict['Mcycle'] = MacroDataDailyForPredict['DeltaM'].apply(lambda x: 'R' if x>0 else 'E')\n",
    "MacroDataDailyForPredict['Ccycle'] = MacroDataDailyForPredict['DeltaC'].apply(lambda x: 'R' if x>0 else 'E')\n",
    "# MCcycleDf = MacroDataDailyForPredict[['trade_date','MCcycle']]"
   ]
  },
  {
   "cell_type": "code",
   "execution_count": null,
   "metadata": {},
   "outputs": [],
   "source": [
    "'''\n",
    "6.1测试阶段-滚动预测效果评价（不用一直跑，仅测试时跑）\n",
    "'''"
   ]
  },
  {
   "cell_type": "code",
   "execution_count": 433,
   "metadata": {
    "scrolled": true
   },
   "outputs": [],
   "source": [
    "ScoreSaveList = []\n",
    "y_test_all = []\n",
    "y_predict_all = []\n",
    "for MonthEndDate in CycleAndReturn['trade_date'].tolist():\n",
    "    end_date = MonthEndDate\n",
    "    MacroDataDailyForPredictSub = MacroDataDailyForPredict[MacroDataDailyForPredict['date']<=end_date].copy()\n",
    "    MacroDataDailyForPredictSub['Mcycle_21'] = MacroDataDailyForPredictSub['Mcycle'].shift(-21)\n",
    "    MacroDataDailyForPredictSubTrain = MacroDataDailyForPredictSub.dropna()\n",
    "    flag = 42\n",
    "    X = MacroDataDailyForPredictSubTrain[['M', 'Change1M', 'Change2M', 'Change3M','Change4M',  'DeltaM']].iloc[:-flag,:]\n",
    "    X_test = MacroDataDailyForPredictSubTrain[['M', 'Change1M', 'Change2M', 'Change3M','Change4M',  'DeltaM']].iloc[-flag:,:]\n",
    "    y = MacroDataDailyForPredictSubTrain[['Mcycle_21']].iloc[:-flag,:]\n",
    "    y_test = MacroDataDailyForPredictSubTrain[['Mcycle_21']].iloc[-flag:,:]\n",
    "    # 训练决策树\n",
    "#     cycleEvaluation = tree.DecisionTreeClassifier(class_weight = \"balanced\")\n",
    "    # 训练支持向量机\n",
    "#     cycleEvaluation = svm.SVC(C=0.1, kernel='linear', gamma='auto' ,decision_function_shape='ovr',class_weight = \"balanced\")\n",
    "    # 训练朴素贝叶斯\n",
    "#     cycleEvaluation = GaussianNB()\n",
    "#     cycleEvaluation = MultinomialNB()\n",
    "    cycleEvaluation = BernoulliNB()\n",
    "    \n",
    "    cycleEvaluation = cycleEvaluation.fit(X, np.array(y).ravel())\n",
    "    y_train_predict = cycleEvaluation.predict(X)\n",
    "    y_test_predict = cycleEvaluation.predict(X_test)\n",
    "    y_predict_all += list(y_test_predict)\n",
    "    y_test_all += y_test[y_test.columns[0]].tolist()\n",
    "    \n",
    "    # 评估\n",
    "#     print('trainAccracy:',cycleEvaluation.score(X, y))\n",
    "#     print(classification_report(y,y_train_predict))\n",
    "#     print('testAccracy:',cycleEvaluation.score(X_test,y_test))\n",
    "#     print(classification_report(y_test,y_test_predict))\n",
    "    score = cycleEvaluation.score(X_test,np.array(y_test).ravel())\n",
    "    ScoreSaveList.append(score)"
   ]
  },
  {
   "cell_type": "code",
   "execution_count": null,
   "metadata": {},
   "outputs": [],
   "source": [
    "'''\n",
    "6.2测试阶段-新真实周期判断方法-每日判断取众数\n",
    "'''"
   ]
  },
  {
   "cell_type": "code",
   "execution_count": 434,
   "metadata": {
    "scrolled": true
   },
   "outputs": [],
   "source": [
    "# 计算每月周期-取日度结果众数\n",
    "def ComputeMost(df):\n",
    "    df_ = df[['MCcycle']].copy()\n",
    "    value_counts = df_['MCcycle'].value_counts()\n",
    "    return value_counts.to_frame('MCcycle').sort_values('MCcycle',ascending=False).index[0]\n",
    "MacroDataDailyForCycle = MacroDataDailyForPredict.copy()\n",
    "MacroDataDailyForCycle['str_date'] = MacroDataDailyForCycle['date'].apply(lambda x: x.strftime('%Y-%m'))\n",
    "MonthlyCycleSeries = MacroDataDailyForCycle.groupby('str_date').apply(ComputeMost)\n",
    "\n",
    "# 周期结果储存\n",
    "MacroDataMonthlyCycle = MacroDataDailyForPredict[['date']].copy()\n",
    "MacroDataMonthlyCycle['trade_date'] = MacroDataMonthlyCycle['date']\n",
    "MacroDataMonthlyCycle = MacroDataMonthlyCycle.set_index('date').apply(lambda x: x.resample(\"M\").last())\n",
    "MacroDataMonthlyCycle['MCcycleNew'] = MonthlyCycleSeries.tolist()"
   ]
  },
  {
   "cell_type": "code",
   "execution_count": null,
   "metadata": {},
   "outputs": [],
   "source": [
    "'''\n",
    "6.3测试阶段-新预测周期判断方法-当期X输入收预测未来Y，根据未来Y构成的周期预测，取众数评定周期\n",
    "'''"
   ]
  },
  {
   "cell_type": "code",
   "execution_count": 435,
   "metadata": {
    "scrolled": true
   },
   "outputs": [],
   "source": [
    "trade_date_list = MacroDataMonthlyCycle['trade_date'].tolist()\n",
    "MacroDataMonthlyCyclePredict = pd.DataFrame(columns=['date','MCcyclePredict','Mcycle','Ccycle'])\n",
    "date_list = []\n",
    "MCcycle_list = []\n",
    "Mcycle_list = []\n",
    "Ccycle_list = []\n",
    "# 用历史4年数据预测\n",
    "for cnt_date in range(52,len(trade_date_list)-1):\n",
    "    start_date = trade_date_list[cnt_date-48]\n",
    "    trade_date = trade_date_list[cnt_date]\n",
    "    last_trade_date = trade_date_list[cnt_date-1]\n",
    "    MacroDataDailyForPredict_ = MacroDataDailyForPredict[MacroDataDailyForPredict['date']>start_date].copy()\n",
    "    MacroDataDailyForPredictSub = MacroDataDailyForPredict_[MacroDataDailyForPredict_['date']<=trade_date].copy()\n",
    "    MacroDataDailyForPredictSubThisM = MacroDataDailyForPredictSub[MacroDataDailyForPredictSub['date']>last_trade_date].copy()\n",
    "    \n",
    "    # 计算M周期\n",
    "    # 将周期滞后当月天数与X匹配\n",
    "    flag = len(MacroDataDailyForPredictSubThisM)\n",
    "    MacroDataDailyForPredictSub['Mcycle_flag'] = MacroDataDailyForPredictSub['Mcycle'].shift(-flag)\n",
    "    # 构造X，y, X_test\n",
    "    X_M = MacroDataDailyForPredictSub[['M', 'Change1M', 'Change2M', 'Change3M','Change4M',  'DeltaM']].iloc[:-flag,:]\n",
    "    y_M = MacroDataDailyForPredictSub[['Mcycle_flag']].iloc[:-flag,:]\n",
    "    X_test_M = MacroDataDailyForPredictSubThisM[['M', 'Change1M', 'Change2M', 'Change3M','Change4M',  'DeltaM']]\n",
    "    \n",
    "    # 训练&预测\n",
    "#     cycleEvaluation = tree.DecisionTreeClassifier(class_weight = \"balanced\")\n",
    "#     cycleEvaluation = BernoulliNB()\n",
    "    cycleEvaluation = svm.SVC(C=0.1, kernel='linear', gamma='auto' ,decision_function_shape='ovr',class_weight = \"balanced\")\n",
    "    cycleEvaluation = cycleEvaluation.fit(X_M, np.array(y_M).ravel())\n",
    "    y_test_predict_M = cycleEvaluation.predict(X_test_M)\n",
    "    McyclsePredict = pd.DataFrame(y_test_predict_M,columns=['McyclsePredict'])['McyclsePredict'].value_counts().to_frame('McyclsePredict').sort_values('McyclsePredict',ascending=False).index[0]\n",
    "    Mcycle_list.append(McyclsePredict)\n",
    "    \n",
    "    \n",
    "    # 计算C周期\n",
    "    # 将周期滞后当月天数与X匹配\n",
    "    flag = len(MacroDataDailyForPredictSubThisM)\n",
    "    MacroDataDailyForPredictSub['Ccycle_flag'] = MacroDataDailyForPredictSub['Ccycle'].shift(-flag)\n",
    "    # 构造X，y, X_test\n",
    "    X_C = MacroDataDailyForPredictSub[['C', 'Change1C', 'Change2C', 'Change3C','Change4C',  'DeltaC']].iloc[:-flag,:]\n",
    "    y_C = MacroDataDailyForPredictSub[['Ccycle_flag']].iloc[:-flag,:]\n",
    "    X_test_C = MacroDataDailyForPredictSubThisM[['C', 'Change1C', 'Change2C', 'Change3C','Change4C',  'DeltaC']]\n",
    "    # 训练&预测\n",
    "    cycleEvaluation = tree.DecisionTreeClassifier(class_weight = \"balanced\")\n",
    "    cycleEvaluation = cycleEvaluation.fit(X_C, np.array(y_C).ravel())\n",
    "    y_test_predict_C = cycleEvaluation.predict(X_test_C)\n",
    "    CcyclsePredict = pd.DataFrame(y_test_predict_C,columns=['CcyclsePredict'])['CcyclsePredict'].value_counts().to_frame('CcyclsePredict').sort_values('CcyclsePredict',ascending=False).index[0]\n",
    "    Ccycle_list.append(CcyclsePredict)\n",
    "    \n",
    "    date_list.append(trade_date)\n",
    "    \n",
    "MacroDataMonthlyCyclePredict['date'] = date_list\n",
    "MacroDataMonthlyCyclePredict['Mcycle'] = Mcycle_list\n",
    "MacroDataMonthlyCyclePredict['Ccycle'] = Ccycle_list\n",
    "MacroDataMonthlyCyclePredict['MCcyclePredict'] = MacroDataMonthlyCyclePredict.apply(lambda x: 'M'+x['Mcycle']+' '+'C'+x['Ccycle'],axis=1)\n",
    "MacroDataMonthlyCyclePredict = MacroDataMonthlyCyclePredict[['date','MCcyclePredict']].copy()"
   ]
  },
  {
   "cell_type": "code",
   "execution_count": null,
   "metadata": {},
   "outputs": [],
   "source": [
    "'''\n",
    "6.4各板块历史排名滚动平均值计算 - 当前（未来一个月）周期用预测周期，历史收益率对应周期用真实帕判断周期\n",
    "'''"
   ]
  },
  {
   "cell_type": "code",
   "execution_count": 436,
   "metadata": {
    "scrolled": true
   },
   "outputs": [],
   "source": [
    "CycleAndReturn_ = CycleAndReturn.merge(MacroDataMonthlyCyclePredict,left_on='trade_date',right_on='date').merge(MacroDataMonthlyCycle,left_on='trade_date',right_on='trade_date').copy()"
   ]
  },
  {
   "cell_type": "code",
   "execution_count": 437,
   "metadata": {
    "scrolled": true
   },
   "outputs": [],
   "source": [
    "RollingMonth = 48\n",
    "\n",
    "# 计算排名序号，按收益率从大到小排序\n",
    "def RankCompute(df):\n",
    "    df = df.copy()\n",
    "    trade_date = df['trade_date'].tolist()[0]\n",
    "    dfSub = df[Class]\n",
    "    tmpDf = dfSub.T\n",
    "    tmpcol = tmpDf.columns.tolist()[0]\n",
    "    tmpDf0 = tmpDf.sort_values(tmpcol,ascending=False)\n",
    "    tmpDf0[tmpcol] = range(1,5)\n",
    "    tmpDf1 = tmpDf0.T[Class]\n",
    "    tmpDf1.index = [trade_date]\n",
    "    return tmpDf1\n",
    "\n",
    "# 并行计算函数\n",
    "def applyParallel(dfGrouped, func):\n",
    "    retLst = Parallel(n_jobs=multiprocessing.cpu_count())(delayed(func)(group) for name, group in dfGrouped)\n",
    "    return pd.concat(retLst,sort=False)\n",
    "\n",
    "# 全周期下历史平均排名\n",
    "RollingRankAllDf = pd.DataFrame()\n",
    "for StrategyDate in StrategyDateList:\n",
    "    CycleAndReturnSub = CycleAndReturn_[CycleAndReturn_['trade_date']<=StrategyDate].copy()\n",
    "    CycleAndReturnSub = CycleAndReturnSub.iloc[-RollingMonth:,:]\n",
    "    # 并行计算\n",
    "    RollingRankGroupby = CycleAndReturnSub.groupby('trade_date')\n",
    "    RollingRankMaterial = applyParallel(RollingRankGroupby, RankCompute)\n",
    "    \n",
    "#     RollingRankMaterial.index = RollingRankMaterial.index.droplevel(1)\n",
    "    RollingRank = RollingRankMaterial.mean().to_frame().T\n",
    "    RollingRank.index = [StrategyDate]\n",
    "    RollingRankAllDf = pd.concat([RollingRankAllDf,RollingRank],axis=0)\n",
    "RollingRankAllDf.columns = [i+'RankAll' for i in RollingRankAllDf.columns]\n",
    "\n",
    "# 当前周期的历史同周期平均排名\n",
    "RollingRankCycleDf = pd.DataFrame()\n",
    "for StrategyDate in StrategyDateList:\n",
    "    CycleAndReturnSub = CycleAndReturn_[CycleAndReturn_['trade_date']<=StrategyDate].copy()\n",
    "    CycleAndReturnSub = CycleAndReturnSub.iloc[-RollingMonth:,:]\n",
    "    CycleNow = CycleAndReturnSub['MCcyclePredict'].tolist()[-1]\n",
    "    CycleAndReturnSub = CycleAndReturnSub[CycleAndReturnSub['MCcycle']==CycleNow]\n",
    "    # 并行计算\n",
    "    RollingRankGroupby = CycleAndReturnSub.groupby('trade_date')\n",
    "    RollingRankMaterial = applyParallel(RollingRankGroupby, RankCompute)\n",
    "    \n",
    "#     RollingRankMaterial.index = RollingRankMaterial.index.droplevel(1)\n",
    "    RollingRank = RollingRankMaterial.mean().to_frame().T\n",
    "    RollingRank.index = [StrategyDate]\n",
    "    RollingRankCycleDf = pd.concat([RollingRankCycleDf,RollingRank],axis=0)\n",
    "RollingRankCycleDf.columns = [i+'RankCycle' for i in RollingRankCycleDf.columns]"
   ]
  },
  {
   "cell_type": "code",
   "execution_count": 438,
   "metadata": {},
   "outputs": [],
   "source": [
    "AllDataForBackTest = CycleAndReturn_.merge(RollingRankCycleDf.merge(RollingRankAllDf,left_index=True,right_index=True),left_on='trade_date',right_index=True,how='left')"
   ]
  },
  {
   "cell_type": "code",
   "execution_count": null,
   "metadata": {},
   "outputs": [],
   "source": [
    "'''\n",
    "回测部分\n",
    "'''"
   ]
  },
  {
   "cell_type": "code",
   "execution_count": null,
   "metadata": {},
   "outputs": [],
   "source": [
    "'''\n",
    "回测函数\n",
    "'''"
   ]
  },
  {
   "cell_type": "code",
   "execution_count": 399,
   "metadata": {},
   "outputs": [],
   "source": [
    "### 策略函数\n",
    "def Strategy(df,HowRank,RankN,cycle_now, history_trade_data):\n",
    "    '''\n",
    "    输入当天底稿数据，最终排名方法（偏离度排名，绝对排名），取前几名\n",
    "    输出所有资产对应目标权重\n",
    "    '''\n",
    "    df_ = df.copy()\n",
    "    history_trade_data_std = history_trade_data.copy().std()\n",
    "    if HowRank == '偏离度排名':\n",
    "        for EachClass in Class:\n",
    "            df_[EachClass] = df_[EachClass+'RankAll'] - df_[EachClass+'RankCycle']\n",
    "            # 越大排名靠前\n",
    "            ascending=False\n",
    "    if HowRank == '绝对排名':\n",
    "        for EachClass in Class:\n",
    "            df_[EachClass] = df_[EachClass+'RankCycle']\n",
    "            # 越小排名靠前\n",
    "            ascending=True\n",
    "    ResultDf = df_[Class].T\n",
    "    ResultDf = ResultDf.sort_values(ResultDf.columns[0],ascending=ascending)\n",
    "    ResultDf[ResultDf.columns[0]] = range(1,5)\n",
    "    if RankN == 0:\n",
    "        ResultDf[ResultDf.columns[0]] = ResultDf[ResultDf.columns[0]].apply(lambda x: 1/1 if x<=1 else 0)\n",
    "#         if cycle_now == 'ME CE' or cycle_now == 'MR CE':\n",
    "#         if cycle_now == 'MR CR':\n",
    "            # 等风险\n",
    "#             ResultDf = ResultDf.merge(history_trade_data.copy().std().to_frame('std'),left_index=True,right_index=True,how='left')\n",
    "#             ResultDf[ResultDf.columns[0]] = ResultDf.apply(lambda x: 1/x['std'] if x[ResultDf.columns[0]]<=2 else 0,axis=1)\n",
    "#             ResultDf[ResultDf.columns[0]] = ResultDf[ResultDf.columns[0]]/ResultDf[ResultDf.columns[0]].sum()\n",
    "            # 等权\n",
    "#             ResultDf[ResultDf.columns[0]] = ResultDf[ResultDf.columns[0]].apply(lambda x: 1/2 if x<=2 else 0)\n",
    "#         else:\n",
    "#             ResultDf[ResultDf.columns[0]] = ResultDf[ResultDf.columns[0]].apply(lambda x: 1/1 if x<=1 else 0)\n",
    "    else:\n",
    "        # 等风险\n",
    "#         if RankN == 2:\n",
    "#             ResultDf = ResultDf.merge(history_trade_data.copy().std().to_frame('std'),left_index=True,right_index=True,how='left')\n",
    "#             ResultDf[ResultDf.columns[0]] = ResultDf.apply(lambda x: 1/x['std'] if x[ResultDf.columns[0]]<=2 else 0,axis=1)\n",
    "#             ResultDf[ResultDf.columns[0]] = ResultDf[ResultDf.columns[0]]/ResultDf[ResultDf.columns[0]].sum()\n",
    "#         else:\n",
    "#             ResultDf[ResultDf.columns[0]] = ResultDf[ResultDf.columns[0]].apply(lambda x: 1/RankN if x<=RankN else 0)\n",
    "        # 等权\n",
    "        ResultDf[ResultDf.columns[0]] = ResultDf[ResultDf.columns[0]].apply(lambda x: 1/RankN if x<=RankN else 0)\n",
    "    \n",
    "    expected_stock_weight = ResultDf[[ResultDf.columns[0]]].T[Class]\n",
    "    if RankN == 0 and cycle_now[-2:] == 'CR':\n",
    "        expected_stock_weight = expected_stock_weight*0.8\n",
    "        expected_stock_weight['上证国债'] = 0.2\n",
    "    return expected_stock_weight"
   ]
  },
  {
   "cell_type": "code",
   "execution_count": 417,
   "metadata": {},
   "outputs": [],
   "source": [
    "### 结算函数 - 月度结算\n",
    "def Clear(df,tol_equity,expected_stock_weight,cycle,RankN,dfBond):\n",
    "    '''\n",
    "    输入下一个月数据，要包含本月最后一天（用以计算收益率）、结算前净值（初始值为1）、目标权重、当前周期\n",
    "    输出下一个月净值序列（月初-月末）\n",
    "    '''\n",
    "    df_ = df.copy()\n",
    "    dfBond_ = dfBond.copy()\n",
    "    expected_stock_w = expected_stock_weight.copy()\n",
    "    \n",
    "    # 相对增长 Pt/Pt-1 序列\n",
    "    df_ = df_.pivot_table(index='date',columns='class',values='close').fillna(method='bfill').dropna()[Class]\n",
    "    df_ = df_.pct_change().dropna()\n",
    "    # 普通结算\n",
    "    df_ = df_+1\n",
    "    \n",
    "    # 债券\n",
    "    # 相对增长 Pt/Pt-1 序列\n",
    "    dfBond_ = dfBond_.set_index('date').pct_change().dropna()\n",
    "    # 普通结算\n",
    "    dfBond_ = dfBond_+1\n",
    "    \n",
    "    if RankN == 0 and cycle_now[-2:] == 'CR':\n",
    "        df_ = pd.concat([df_,dfBond_],axis=1).copy()\n",
    "    \n",
    "    # 八成股票二成债券\n",
    "#     df_ = df_*0.8+1+0.0001*0.2\n",
    "    \n",
    "    # 择时策略\n",
    "#     if cycle[-2:] == 'CR':\n",
    "#         df_ = df_*0.8+1+0.0001*0.2\n",
    "#     else:\n",
    "#         df_ = df_+1\n",
    "    \n",
    "    # 空仓策略，增长均为1\n",
    "#     if cycle == 'ME CR':\n",
    "#         for df_col in df_.columns:\n",
    "#             df_[df_col] = 1\n",
    "    \n",
    "    # 初始净值分配到各个资产上，乘以累计相对增长得到净值序列，丢弃首行拼接  \n",
    "    stock_w = expected_stock_w.apply(lambda x: x*tol_equity)\n",
    "\n",
    "    equity_tmp = pd.concat([stock_w,df_],axis=0,sort=False)\n",
    "    equity_df = equity_tmp.cumprod().sum(axis=1).to_frame('equity_series').iloc[1:,]\n",
    "    \n",
    "    return equity_df, equity_df['equity_series'][-1]"
   ]
  },
  {
   "cell_type": "code",
   "execution_count": 418,
   "metadata": {},
   "outputs": [],
   "source": [
    "### 分析函数 - 计算各类指标\n",
    "def Indicator(equity_df):\n",
    "    '''\n",
    "    输入净值序列，列名equity_series，index为日期\n",
    "    输出（累计收益、最大回撤、累计收益回撤比、年化收益率平均、年化收益率波动、夏普比率）的dataframe\n",
    "    输出净值、收益率、回撤序列\n",
    "    '''\n",
    "    df = equity_df.copy()\n",
    "    df['return'] = df['equity_series']/df['equity_series'].shift(1)-1\n",
    "    df['drawdown'] = 1-df['equity_series']/df['equity_series'].expanding().max()\n",
    "    \n",
    "    # 输出指标\n",
    "    # 累计收益\n",
    "    cum_return = df['equity_series'][-1]/df['equity_series'][0]-1\n",
    "    # 最大回撤\n",
    "    max_drawdown = df['drawdown'].max()\n",
    "    # 最大回撤时间\n",
    "#     end_max_drawdown = df['drawdown'].idxmax()\n",
    "#     df_sub = df[df.index<=end_max_drawdown]\n",
    "#     start_max_drawdown = df_sub[df_sub['drawdown']==0].index[-1]\n",
    "#     end_max_drawdown = datetime.datetime.strptime(end_max_drawdown,'%Y-%m-%d')\n",
    "#     start_max_drawdown = datetime.datetime.strptime(start_max_drawdown,'%Y-%m-%d')\n",
    "#     max_drawdown_day = (end_max_drawdown - start_max_drawdown).days\n",
    "    # 累计收益回撤比\n",
    "    cum_return_drawdown_ratio = cum_return/max_drawdown\n",
    "    # 年化收益率平均\n",
    "    mean_return = df['return'].mean()*252\n",
    "    # 年化收益率波动\n",
    "    vol_return = df['return'].std()*np.sqrt(252)\n",
    "    # 信息比率\n",
    "    IR = mean_return/vol_return\n",
    "    # 年化收益回撤比\n",
    "    mean_return_max_drawdown_ratio = mean_return/max_drawdown\n",
    "    # 夏普比率\n",
    "#     sharpe_ratio = (mean_return-rf)/vol_return\n",
    "    # 每年收益率\n",
    "    df_equity = df[['equity_series']].copy()\n",
    "    df_return_per_year = (pd.concat([df_equity.iloc[:1,:],df_equity.apply(lambda x: x.resample(\"Y\").last())],axis=0).pct_change().dropna()).rename(columns={'equity_series':HowRank+str(RankN)})\n",
    "\n",
    "    output_dict = {\n",
    "                   'mean_return':[mean_return],\n",
    "                   'vol_return':[vol_return],\n",
    "                   'IR':[IR],\n",
    "                   'max_drawdown':[max_drawdown],\n",
    "                   'mean_return_max_drawdown_ratio':[mean_return_max_drawdown_ratio],\n",
    "                  }\n",
    "    output_df = pd.DataFrame(output_dict,index=[HowRank+str(RankN)]).T\n",
    "    return output_df, df, df_return_per_year"
   ]
  },
  {
   "cell_type": "code",
   "execution_count": 268,
   "metadata": {},
   "outputs": [
    {
     "data": {
      "text/plain": [
       "'\\n回测调参\\n'"
      ]
     },
     "execution_count": 268,
     "metadata": {},
     "output_type": "execute_result"
    }
   ],
   "source": [
    "'''\n",
    "回测调参\n",
    "'''"
   ]
  },
  {
   "cell_type": "code",
   "execution_count": 419,
   "metadata": {
    "scrolled": true
   },
   "outputs": [],
   "source": [
    "## 回测 - 调参\n",
    "AllResultSaveDfIndicator = pd.DataFrame()\n",
    "AllResultSaveDfYearReturn = pd.DataFrame()\n",
    "EquitySeriesDict = {}\n",
    "WeightDict = {}\n",
    "# for HowRank in ['偏离度排名','绝对排名']:\n",
    "for HowRank in ['偏离度排名']:\n",
    "    for RankN in [0,1,2]:\n",
    "#     for RankN in [0,1,2]:\n",
    "        # 初始化指标\n",
    "        tol_equity = 1\n",
    "        HowRank = HowRank\n",
    "        RankN = RankN\n",
    "        WeightDf = pd.DataFrame()\n",
    "        equity_df = pd.DataFrame([1],columns=['equity_series'],index=[StrategyDateList[0]])\n",
    "        # 月末循环执行策略，最后一个月不执行策略\n",
    "        for cnt in range(len(StrategyDateList)-1):\n",
    "\n",
    "            # 获取关键日期\n",
    "            strategy_date = StrategyDateList[cnt]\n",
    "            next_strategy_date = StrategyDateList[cnt+1]\n",
    "\n",
    "            # 读取数据 - 历史策略用数据+未来一个月收益率计算数据\n",
    "            # 历史策略用数据\n",
    "            history_data = AllDataForBackTest[AllDataForBackTest['trade_date'] == strategy_date]\n",
    "            history_trade_data = FinDataDfSubReturn[FinDataDfSubReturn['date'] <= strategy_date].iloc[-252:,:]\n",
    "            # 非预测型\n",
    "            cycle_now = history_data['MCcycle'].tolist()[0]\n",
    "            # 预测型\n",
    "#             cycle_now = history_data['MCcyclePredict'].tolist()[0]\n",
    "\n",
    "            # 读取数据 - 未来一个月收益率计算数据 \n",
    "            future_data_for_return = FinDataDf[(FinDataDf['date']<=next_strategy_date) & (FinDataDf['date']>=strategy_date)]\n",
    "            future_data_for_return_bond = Bond[(Bond['date']<=next_strategy_date) & (Bond['date']>=strategy_date)]\n",
    "\n",
    "            # 运行策略\n",
    "            expected_weight_df = Strategy(history_data, HowRank, RankN, cycle_now, history_trade_data)\n",
    "            expected_weight_df_output = expected_weight_df.copy()\n",
    "            expected_weight_df_output.index = [next_strategy_date]\n",
    "            WeightDf = pd.concat([WeightDf,expected_weight_df_output],axis=0,sort=False)\n",
    "\n",
    "            # 结算策略，更新净值\n",
    "            clear_df, tol_equity = Clear(future_data_for_return,tol_equity,expected_weight_df,cycle_now,RankN,future_data_for_return_bond)\n",
    "\n",
    "            # 输出净值序列\n",
    "            equity_df = pd.concat([equity_df,clear_df],axis=0)\n",
    "\n",
    "        backtest = Indicator(equity_df)\n",
    "        # 策略结果\n",
    "        AllResultSaveDfIndicator = pd.concat([AllResultSaveDfIndicator,backtest[0]],axis=1)\n",
    "        AllResultSaveDfYearReturn = pd.concat([AllResultSaveDfYearReturn,backtest[2]],axis=1)\n",
    "        EquitySeriesDict[HowRank+str(RankN)] = backtest[1][['equity_series']]\n",
    "        WeightDict[HowRank+str(RankN)] = WeightDf"
   ]
  },
  {
   "cell_type": "code",
   "execution_count": 270,
   "metadata": {},
   "outputs": [
    {
     "data": {
      "text/plain": [
       "'\\n与基准比较\\n'"
      ]
     },
     "execution_count": 270,
     "metadata": {},
     "output_type": "execute_result"
    }
   ],
   "source": [
    "'''\n",
    "与基准比较\n",
    "'''"
   ]
  },
  {
   "cell_type": "code",
   "execution_count": 420,
   "metadata": {
    "scrolled": true
   },
   "outputs": [],
   "source": [
    "# 基准表现计算\n",
    "# 中证金融地产指数\n",
    "BenchmarkIndexSubEquity = BenchmarkIndexSub.rename(columns={'close':'equity_series'}).set_index('date')[['equity_series']]\n",
    "BenchmarkIndexSubEquityFirst = BenchmarkIndexSubEquity['equity_series'].tolist()[0]\n",
    "BenchmarkIndexSubEquity['equity_series'] = BenchmarkIndexSubEquity['equity_series'].apply(lambda x: x/BenchmarkIndexSubEquityFirst)\n",
    "\n",
    "ResultIndex1 = Indicator(BenchmarkIndexSubEquity)[0].rename(columns={Indicator(BenchmarkIndexSubEquity)[0].columns[0]:'中证金融地产'})\n",
    "ResultIndex2 = Indicator(BenchmarkIndexSubEquity)[2].rename(columns={Indicator(BenchmarkIndexSubEquity)[2].columns[0]:'中证金融地产'})\n",
    "AllResultSaveDfIndicator = pd.concat([AllResultSaveDfIndicator,ResultIndex1],axis=1)\n",
    "AllResultSaveDfYearReturn = pd.concat([AllResultSaveDfYearReturn,ResultIndex2],axis=1)\n",
    "\n",
    "# 工银瑞信金融地产基金\n",
    "BenchmarkFundSubEquity = BenchmarkFundSub.rename(columns={'close':'equity_series'}).set_index('date')[['equity_series']]\n",
    "BenchmarkFundSubEquityFirst = BenchmarkFundSubEquity['equity_series'].tolist()[0]\n",
    "BenchmarkFundSubEquity['equity_series'] = BenchmarkFundSubEquity['equity_series'].apply(lambda x: x/BenchmarkFundSubEquityFirst)\n",
    "\n",
    "ResultFund1 = Indicator(BenchmarkFundSubEquity)[0].rename(columns={Indicator(BenchmarkFundSubEquity)[0].columns[0]:'工银瑞信金融地产'})\n",
    "ResultFund2 = Indicator(BenchmarkFundSubEquity)[2].rename(columns={Indicator(BenchmarkFundSubEquity)[2].columns[0]:'工银瑞信金融地产'})\n",
    "AllResultSaveDfIndicator = pd.concat([AllResultSaveDfIndicator,ResultFund1],axis=1)\n",
    "AllResultSaveDfYearReturn = pd.concat([AllResultSaveDfYearReturn,ResultFund2],axis=1)"
   ]
  },
  {
   "cell_type": "code",
   "execution_count": 272,
   "metadata": {},
   "outputs": [
    {
     "data": {
      "text/plain": [
       "'\\n全回测结果输出\\n'"
      ]
     },
     "execution_count": 272,
     "metadata": {},
     "output_type": "execute_result"
    }
   ],
   "source": [
    "'''\n",
    "全回测结果输出\n",
    "'''"
   ]
  },
  {
   "cell_type": "code",
   "execution_count": 425,
   "metadata": {
    "scrolled": true
   },
   "outputs": [],
   "source": [
    "# 指标/年度收益结果输出\n",
    "AllResultSaveDfIndicator.T.to_excel('C:/Users/jxjsj/Desktop/东吴金工实习/资产配置课题/AllResultSaveDfIndicator.xlsx',index=True)\n",
    "AllResultSaveDfYearReturn.to_excel('C:/Users/jxjsj/Desktop/东吴金工实习/资产配置课题/AllResultSaveDfYearReturn.xlsx',index=True)\n",
    "\n",
    "# 净值序列输出\n",
    "# 策略\n",
    "AllEquityDf = pd.DataFrame()\n",
    "for key in EquitySeriesDict.keys():\n",
    "    EquitySeriesDict[key].to_excel('C:/Users/jxjsj/Desktop/东吴金工实习/资产配置课题/' + key + '.xlsx',index=True)\n",
    "    EquitySeries = EquitySeriesDict[key].rename(columns={'equity_series':key})\n",
    "    AllEquityDf = pd.concat([AllEquityDf,EquitySeries],sort=False,axis=1)\n",
    "# 指数\n",
    "IndexSubEquity = Indicator(BenchmarkIndexSubEquity)[1][['equity_series']].rename(columns={'equity_series':'中证金融地产'})\n",
    "AllEquityDf = pd.concat([AllEquityDf,IndexSubEquity],sort=False,axis=1)\n",
    "# 基金\n",
    "FundSubEquity = Indicator(BenchmarkFundSubEquity)[1][['equity_series']].rename(columns={'equity_series':'工银瑞信金融地产'})\n",
    "AllEquityDf = pd.concat([AllEquityDf,FundSubEquity],sort=False,axis=1)\n",
    "AllEquityDf.to_excel('C:/Users/jxjsj/Desktop/东吴金工实习/资产配置课题/AllEquityDf.xlsx',index=True)\n",
    "\n",
    "# 周期序列输出（日度）\n",
    "DummyCycleDataM = pd.get_dummies(AllDataForBackTest[['trade_date','MCcycle']].set_index('trade_date'))\n",
    "DummyCycleDataD = backtest[1][['equity_series']].merge(DummyCycleDataM,left_index=True,right_index=True,how='left').fillna(method='bfill')[DummyCycleDataM.columns.tolist()]\n",
    "DummyCycleDataD.to_excel('C:/Users/jxjsj/Desktop/东吴金工实习/资产配置课题/DummyCycleDataD.xlsx',index=True)\n",
    "\n",
    "# 周期图表\n",
    "CycleMC = DummyCycleDataD.merge(MacroDataDaily,left_index=True,right_on='date',how='left').set_index('date')\n",
    "CycleMC.to_excel('C:/Users/jxjsj/Desktop/东吴金工实习/资产配置课题/CycleMC.xlsx',index=True)\n",
    "\n",
    "# 底稿数据输出（月度）\n",
    "AllDataForBackTest.to_excel('C:/Users/jxjsj/Desktop/东吴金工实习/资产配置课题/AllDataForBackTest.xlsx',index=False)\n",
    "\n",
    "# 权重数据输出\n",
    "for key in WeightDict:\n",
    "    WeightDfEach = WeightDict[key][Class]\n",
    "    WeightDfEach.to_excel('C:/Users/jxjsj/Desktop/东吴金工实习/资产配置课题/' + key + 'Weight.xlsx',index=True)"
   ]
  },
  {
   "cell_type": "code",
   "execution_count": 422,
   "metadata": {},
   "outputs": [
    {
     "data": {
      "text/html": [
       "<div>\n",
       "<style scoped>\n",
       "    .dataframe tbody tr th:only-of-type {\n",
       "        vertical-align: middle;\n",
       "    }\n",
       "\n",
       "    .dataframe tbody tr th {\n",
       "        vertical-align: top;\n",
       "    }\n",
       "\n",
       "    .dataframe thead th {\n",
       "        text-align: right;\n",
       "    }\n",
       "</style>\n",
       "<table border=\"1\" class=\"dataframe\">\n",
       "  <thead>\n",
       "    <tr style=\"text-align: right;\">\n",
       "      <th></th>\n",
       "      <th>max_drawdown</th>\n",
       "      <th>mean_return</th>\n",
       "      <th>vol_return</th>\n",
       "      <th>IR</th>\n",
       "      <th>mean_return_max_drawdown_ratio</th>\n",
       "    </tr>\n",
       "  </thead>\n",
       "  <tbody>\n",
       "    <tr>\n",
       "      <th>偏离度排名0</th>\n",
       "      <td>0.446650</td>\n",
       "      <td>0.324600</td>\n",
       "      <td>0.318805</td>\n",
       "      <td>1.018177</td>\n",
       "      <td>0.726744</td>\n",
       "    </tr>\n",
       "    <tr>\n",
       "      <th>偏离度排名1</th>\n",
       "      <td>0.494725</td>\n",
       "      <td>0.310380</td>\n",
       "      <td>0.339404</td>\n",
       "      <td>0.914484</td>\n",
       "      <td>0.627378</td>\n",
       "    </tr>\n",
       "    <tr>\n",
       "      <th>偏离度排名2</th>\n",
       "      <td>0.460300</td>\n",
       "      <td>0.274887</td>\n",
       "      <td>0.306267</td>\n",
       "      <td>0.897539</td>\n",
       "      <td>0.597190</td>\n",
       "    </tr>\n",
       "    <tr>\n",
       "      <th>中证金融地产</th>\n",
       "      <td>0.436689</td>\n",
       "      <td>0.166709</td>\n",
       "      <td>0.263592</td>\n",
       "      <td>0.632451</td>\n",
       "      <td>0.381757</td>\n",
       "    </tr>\n",
       "    <tr>\n",
       "      <th>工银瑞信金融地产</th>\n",
       "      <td>0.404762</td>\n",
       "      <td>0.250704</td>\n",
       "      <td>0.251284</td>\n",
       "      <td>0.997694</td>\n",
       "      <td>0.619387</td>\n",
       "    </tr>\n",
       "  </tbody>\n",
       "</table>\n",
       "</div>"
      ],
      "text/plain": [
       "          max_drawdown  mean_return  vol_return        IR  \\\n",
       "偏离度排名0        0.446650     0.324600    0.318805  1.018177   \n",
       "偏离度排名1        0.494725     0.310380    0.339404  0.914484   \n",
       "偏离度排名2        0.460300     0.274887    0.306267  0.897539   \n",
       "中证金融地产        0.436689     0.166709    0.263592  0.632451   \n",
       "工银瑞信金融地产      0.404762     0.250704    0.251284  0.997694   \n",
       "\n",
       "          mean_return_max_drawdown_ratio  \n",
       "偏离度排名0                          0.726744  \n",
       "偏离度排名1                          0.627378  \n",
       "偏离度排名2                          0.597190  \n",
       "中证金融地产                          0.381757  \n",
       "工银瑞信金融地产                        0.619387  "
      ]
     },
     "execution_count": 422,
     "metadata": {},
     "output_type": "execute_result"
    }
   ],
   "source": [
    "AllResultSaveDfIndicator.T"
   ]
  },
  {
   "cell_type": "code",
   "execution_count": 423,
   "metadata": {},
   "outputs": [
    {
     "data": {
      "text/html": [
       "<div>\n",
       "<style scoped>\n",
       "    .dataframe tbody tr th:only-of-type {\n",
       "        vertical-align: middle;\n",
       "    }\n",
       "\n",
       "    .dataframe tbody tr th {\n",
       "        vertical-align: top;\n",
       "    }\n",
       "\n",
       "    .dataframe thead th {\n",
       "        text-align: right;\n",
       "    }\n",
       "</style>\n",
       "<table border=\"1\" class=\"dataframe\">\n",
       "  <thead>\n",
       "    <tr style=\"text-align: right;\">\n",
       "      <th></th>\n",
       "      <th>偏离度排名0</th>\n",
       "      <th>偏离度排名1</th>\n",
       "      <th>偏离度排名2</th>\n",
       "      <th>中证金融地产</th>\n",
       "      <th>工银瑞信金融地产</th>\n",
       "    </tr>\n",
       "    <tr>\n",
       "      <th>date</th>\n",
       "      <th></th>\n",
       "      <th></th>\n",
       "      <th></th>\n",
       "      <th></th>\n",
       "      <th></th>\n",
       "    </tr>\n",
       "  </thead>\n",
       "  <tbody>\n",
       "    <tr>\n",
       "      <th>2014-12-31</th>\n",
       "      <td>1.919854</td>\n",
       "      <td>1.994276</td>\n",
       "      <td>1.585630</td>\n",
       "      <td>0.957414</td>\n",
       "      <td>0.968666</td>\n",
       "    </tr>\n",
       "    <tr>\n",
       "      <th>2015-12-31</th>\n",
       "      <td>0.046112</td>\n",
       "      <td>-0.018710</td>\n",
       "      <td>0.020007</td>\n",
       "      <td>-0.033490</td>\n",
       "      <td>0.216917</td>\n",
       "    </tr>\n",
       "    <tr>\n",
       "      <th>2016-12-31</th>\n",
       "      <td>0.061958</td>\n",
       "      <td>-0.004085</td>\n",
       "      <td>-0.033420</td>\n",
       "      <td>-0.106972</td>\n",
       "      <td>-0.078237</td>\n",
       "    </tr>\n",
       "    <tr>\n",
       "      <th>2017-12-31</th>\n",
       "      <td>0.149281</td>\n",
       "      <td>0.198101</td>\n",
       "      <td>0.080768</td>\n",
       "      <td>0.157189</td>\n",
       "      <td>0.261908</td>\n",
       "    </tr>\n",
       "    <tr>\n",
       "      <th>2018-12-31</th>\n",
       "      <td>-0.188206</td>\n",
       "      <td>-0.226611</td>\n",
       "      <td>-0.207765</td>\n",
       "      <td>-0.210300</td>\n",
       "      <td>-0.145399</td>\n",
       "    </tr>\n",
       "    <tr>\n",
       "      <th>2019-12-31</th>\n",
       "      <td>0.384166</td>\n",
       "      <td>0.384166</td>\n",
       "      <td>0.508834</td>\n",
       "      <td>0.290033</td>\n",
       "      <td>0.318012</td>\n",
       "    </tr>\n",
       "  </tbody>\n",
       "</table>\n",
       "</div>"
      ],
      "text/plain": [
       "              偏离度排名0    偏离度排名1    偏离度排名2    中证金融地产  工银瑞信金融地产\n",
       "date                                                        \n",
       "2014-12-31  1.919854  1.994276  1.585630  0.957414  0.968666\n",
       "2015-12-31  0.046112 -0.018710  0.020007 -0.033490  0.216917\n",
       "2016-12-31  0.061958 -0.004085 -0.033420 -0.106972 -0.078237\n",
       "2017-12-31  0.149281  0.198101  0.080768  0.157189  0.261908\n",
       "2018-12-31 -0.188206 -0.226611 -0.207765 -0.210300 -0.145399\n",
       "2019-12-31  0.384166  0.384166  0.508834  0.290033  0.318012"
      ]
     },
     "execution_count": 423,
     "metadata": {},
     "output_type": "execute_result"
    }
   ],
   "source": [
    "AllResultSaveDfYearReturn"
   ]
  },
  {
   "cell_type": "code",
   "execution_count": 227,
   "metadata": {},
   "outputs": [
    {
     "data": {
      "text/plain": [
       "'\\n按照全净值序列数据 计算相对基准胜率并输出（需要关联周期序列表，日度净值可以自动降为月度数据）\\n'"
      ]
     },
     "execution_count": 227,
     "metadata": {},
     "output_type": "execute_result"
    }
   ],
   "source": [
    "'''\n",
    "按照全净值序列数据 计算相对基准胜率并输出（需要关联周期序列表，日度净值可以自动降为月度数据）\n",
    "'''"
   ]
  },
  {
   "cell_type": "code",
   "execution_count": 427,
   "metadata": {
    "scrolled": true
   },
   "outputs": [],
   "source": [
    "AllEquityDf_ = AllEquityDf.copy()\n",
    "CycleMat = AllDataForBackTest[['trade_date','MCcycle']].set_index('trade_date').copy()\n",
    "def ComputeWinOfCycle(df):\n",
    "    win_time = df['equity_win'].sum()\n",
    "    win = win_time/len(df)\n",
    "    return win\n",
    "\n",
    "def ResampleCycleTrade(df):\n",
    "    df = df.copy()\n",
    "    ResampleWinDf = pd.DataFrame()\n",
    "    df['Cycle_Pos'] = df['MCcycle'] + df['Positon']\n",
    "    for cnt in range(1,len(df)):\n",
    "        date = df.index[cnt-1]\n",
    "        Cycle_Pos = df.iloc[cnt,:]['Cycle_Pos']\n",
    "        SubDfForComputeWin = df.iloc[cnt-1,:].to_frame(date).T\n",
    "        if Cycle_Pos != df.iloc[cnt-1,:]['Cycle_Pos']:\n",
    "            ResampleWinDf = pd.concat([ResampleWinDf,SubDfForComputeWin],axis=0)\n",
    "    return ResampleWinDf\n",
    "\n",
    "def ComputeWinEachCycle(df):\n",
    "    TradeTime = 0\n",
    "    for cnt in range(len(df)):\n",
    "        NowDf = df.iloc[cnt,:]\n",
    "        if cnt == 0:\n",
    "            NowCycle = NowDf['MCcycle']\n",
    "            NowPosition = NowDf['Position']\n",
    "            LastEquity = 1\n",
    "            continue\n",
    "        if NowDf['MCcycle'] != NowCycle:\n",
    "            TradeTime += 1\n",
    "\n",
    "# 按照周期和持仓变化作为一次交易，计算胜率\n",
    "# AllWinResult = pd.DataFrame()\n",
    "# for asset in [i for i in AllEquityDf_.columns if i not in ['中证金融地产','工银瑞信金融地产']]:\n",
    "#     EquityDf_ = AllEquityDf_[[asset]]\n",
    "#     WeightDf_ = WeightDict[asset]\n",
    "#     WeightDf_['Positon'] = WeightDf_.apply(lambda x: str(x['券商'])+str(x['银行'])+str(x['房地产'])+str(x['保险']),axis=1)\n",
    "    \n",
    "#     # 净值数据匹配周期数据、持仓数据\n",
    "#     DfForComputeWin = CycleMat.merge(EquityDf_,left_index=True,right_index=True,how='left').merge(WeightDf_,left_index=True,right_index=True,how='left')\n",
    "#     # 重采样\n",
    "#     DfForComputeWin_ = ResampleCycleTrade(DfForComputeWin)\n",
    "    \n",
    "#     # 计算每个 周期-交易 内的收益率\n",
    "#     DfForComputeWin_['equity_return'] = DfForComputeWin_[asset].pct_change()\n",
    "#     DfForComputeWin_['equity_return'] = DfForComputeWin_['equity_return'].fillna(DfForComputeWin_[asset]-1)\n",
    "#     DfForComputeWin_['equity_win'] = DfForComputeWin_['equity_return'].apply(lambda x: 1 if x>0 else 0)\n",
    "#     WinResult = DfForComputeWin_.groupby('MCcycle').apply(ComputeWinOfCycle).to_frame(asset)\n",
    "\n",
    "#     # 输出\n",
    "#     AllWinResult = pd.concat([AllWinResult,WinResult],axis=1)\n",
    "# AllWinResult.to_excel('C:/Users/jxjsj/Desktop/资产配置课题/AllWinResult.xlsx',index=True)\n",
    "\n",
    "# 每个月调仓或者再平衡作为一次交易，计算相对中证金融地产胜率\n",
    "AllWinResult = pd.DataFrame()\n",
    "for asset in [i for i in AllEquityDf_.columns if i not in ['中证金融地产']]:\n",
    "    EquityDf_ = (AllEquityDf_[asset]/AllEquityDf_['中证金融地产']).to_frame(asset)\n",
    "\n",
    "    # 净值数据匹配周期数据\n",
    "    DfForComputeWin_ = CycleMat.merge(EquityDf_,left_index=True,right_index=True)\n",
    "    \n",
    "    # 计算每个 周期-交易 内的收益率\n",
    "    DfForComputeWin_['equity_return'] = DfForComputeWin_[asset].pct_change()\n",
    "    DfForComputeWin_ = DfForComputeWin_.dropna()\n",
    "    DfForComputeWin_['equity_return'] = DfForComputeWin_['equity_return'].fillna(DfForComputeWin_[asset]-1)\n",
    "    DfForComputeWin_['equity_win'] = DfForComputeWin_['equity_return'].apply(lambda x: 1 if x>0 else 0)\n",
    "    WinResult = DfForComputeWin_.groupby('MCcycle').apply(ComputeWinOfCycle).to_frame(asset)\n",
    "    \n",
    "    # 计算全周期下收益\n",
    "    WinResultTmp = pd.DataFrame([ComputeWinOfCycle(DfForComputeWin_)],index=['AllCycle'],columns=[asset])\n",
    "    WinResult = pd.concat([WinResult,WinResultTmp],axis=0)\n",
    "\n",
    "    # 输出\n",
    "    AllWinResult = pd.concat([AllWinResult,WinResult],axis=1)\n",
    "AllWinResult.to_excel('C:/Users/jxjsj/Desktop/东吴金工实习/资产配置课题/AllWinResult.xlsx',index=True)"
   ]
  },
  {
   "cell_type": "code",
   "execution_count": 410,
   "metadata": {},
   "outputs": [
    {
     "data": {
      "text/html": [
       "<div>\n",
       "<style scoped>\n",
       "    .dataframe tbody tr th:only-of-type {\n",
       "        vertical-align: middle;\n",
       "    }\n",
       "\n",
       "    .dataframe tbody tr th {\n",
       "        vertical-align: top;\n",
       "    }\n",
       "\n",
       "    .dataframe thead th {\n",
       "        text-align: right;\n",
       "    }\n",
       "</style>\n",
       "<table border=\"1\" class=\"dataframe\">\n",
       "  <thead>\n",
       "    <tr style=\"text-align: right;\">\n",
       "      <th></th>\n",
       "      <th>偏离度排名0</th>\n",
       "      <th>偏离度排名1</th>\n",
       "      <th>偏离度排名2</th>\n",
       "      <th>工银瑞信金融地产</th>\n",
       "    </tr>\n",
       "  </thead>\n",
       "  <tbody>\n",
       "    <tr>\n",
       "      <th>ME CE</th>\n",
       "      <td>0.368421</td>\n",
       "      <td>0.368421</td>\n",
       "      <td>0.631579</td>\n",
       "      <td>0.631579</td>\n",
       "    </tr>\n",
       "    <tr>\n",
       "      <th>ME CR</th>\n",
       "      <td>0.692308</td>\n",
       "      <td>0.692308</td>\n",
       "      <td>0.384615</td>\n",
       "      <td>0.384615</td>\n",
       "    </tr>\n",
       "    <tr>\n",
       "      <th>MR CE</th>\n",
       "      <td>0.500000</td>\n",
       "      <td>0.550000</td>\n",
       "      <td>0.650000</td>\n",
       "      <td>0.750000</td>\n",
       "    </tr>\n",
       "    <tr>\n",
       "      <th>MR CR</th>\n",
       "      <td>0.615385</td>\n",
       "      <td>0.538462</td>\n",
       "      <td>0.461538</td>\n",
       "      <td>0.692308</td>\n",
       "    </tr>\n",
       "    <tr>\n",
       "      <th>AllCycle</th>\n",
       "      <td>0.523077</td>\n",
       "      <td>0.523077</td>\n",
       "      <td>0.553846</td>\n",
       "      <td>0.630769</td>\n",
       "    </tr>\n",
       "  </tbody>\n",
       "</table>\n",
       "</div>"
      ],
      "text/plain": [
       "            偏离度排名0    偏离度排名1    偏离度排名2  工银瑞信金融地产\n",
       "ME CE     0.368421  0.368421  0.631579  0.631579\n",
       "ME CR     0.692308  0.692308  0.384615  0.384615\n",
       "MR CE     0.500000  0.550000  0.650000  0.750000\n",
       "MR CR     0.615385  0.538462  0.461538  0.692308\n",
       "AllCycle  0.523077  0.523077  0.553846  0.630769"
      ]
     },
     "execution_count": 410,
     "metadata": {},
     "output_type": "execute_result"
    }
   ],
   "source": [
    "AllWinResult"
   ]
  },
  {
   "cell_type": "code",
   "execution_count": 36,
   "metadata": {},
   "outputs": [
    {
     "data": {
      "text/plain": [
       "'\\n最优结果输出\\n'"
      ]
     },
     "execution_count": 36,
     "metadata": {},
     "output_type": "execute_result"
    }
   ],
   "source": [
    "'''\n",
    "最优结果输出&绘图\n",
    "'''"
   ]
  },
  {
   "cell_type": "code",
   "execution_count": 415,
   "metadata": {
    "scrolled": false
   },
   "outputs": [
    {
     "data": {
      "text/plain": [
       "<matplotlib.legend.Legend at 0x20f8e1812e8>"
      ]
     },
     "execution_count": 415,
     "metadata": {},
     "output_type": "execute_result"
    },
    {
     "data": {
      "image/png": "[encoded data removed]",
      "text/plain": [
       "<Figure size 1080x648 with 1 Axes>"
      ]
     },
     "metadata": {},
     "output_type": "display_data"
    }
   ],
   "source": [
    "# 超额净值\n",
    "plt.figure(figsize=(15,9))\n",
    "plt.plot(backtest[1][['equity_series']]/BenchmarkIndexSubEquity[['equity_series']],label='Strategy')\n",
    "plt.plot(BenchmarkFundSubEquity[['equity_series']]/BenchmarkIndexSubEquity[['equity_series']],label='Fund')\n",
    "plt.plot(backtest[1][['equity_series']]/BenchmarkFundSubEquity[['equity_series']],label='StrategyVsFund')\n",
    "# plt.plot(BenchmarkIndexSubEquity[['equity_series']],label='Index')\n",
    "plt.legend(loc=0)"
   ]
  },
  {
   "cell_type": "code",
   "execution_count": 413,
   "metadata": {
    "scrolled": false
   },
   "outputs": [
    {
     "data": {
      "text/plain": [
       "<matplotlib.legend.Legend at 0x20f8dbe4f28>"
      ]
     },
     "execution_count": 413,
     "metadata": {},
     "output_type": "execute_result"
    },
    {
     "data": {
      "image/png": "[encoded data removed]",
      "text/plain": [
       "<Figure size 1080x648 with 1 Axes>"
      ]
     },
     "metadata": {},
     "output_type": "display_data"
    }
   ],
   "source": [
    "# 绝对净值\n",
    "plt.figure(figsize=(15,9))\n",
    "plt.plot(backtest[1][['equity_series']],label='Strategy')\n",
    "plt.plot(BenchmarkFundSubEquity[['equity_series']],label='Fund')\n",
    "plt.plot(BenchmarkIndexSubEquity[['equity_series']],label='Index')\n",
    "plt.legend(loc=0)"
   ]
  },
  {
   "cell_type": "code",
   "execution_count": null,
   "metadata": {},
   "outputs": [],
   "source": []
  }
 ],
 "metadata": {
  "kernelspec": {
   "display_name": "Python 3",
   "language": "python",
   "name": "python3"
  },
  "language_info": {
   "codemirror_mode": {
    "name": "ipython",
    "version": 3
   },
   "file_extension": ".py",
   "mimetype": "text/x-python",
   "name": "python",
   "nbconvert_exporter": "python",
   "pygments_lexer": "ipython3",
   "version": "3.7.3"
  }
 },
 "nbformat": 4,
 "nbformat_minor": 2
}
