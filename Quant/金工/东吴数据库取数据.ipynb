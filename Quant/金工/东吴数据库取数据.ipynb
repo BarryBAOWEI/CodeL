{
 "cells": [
  {
   "cell_type": "code",
   "execution_count": 3,
   "metadata": {
    "scrolled": true
   },
   "outputs": [
    {
     "ename": "DatabaseError",
     "evalue": "DPI-1047: Cannot locate a 64-bit Oracle Client library: \"The specified module could not be found\". See https://oracle.github.io/odpi/doc/installation.html#windows for help",
     "output_type": "error",
     "traceback": [
      "\u001b[1;31m---------------------------------------------------------------------------\u001b[0m",
      "\u001b[1;31mDatabaseError\u001b[0m                             Traceback (most recent call last)",
      "\u001b[1;32m<ipython-input-3-bfad32faa0dd>\u001b[0m in \u001b[0;36m<module>\u001b[1;34m\u001b[0m\n\u001b[0;32m     11\u001b[0m \u001b[0mdwzx_oracle_SID\u001b[0m \u001b[1;33m=\u001b[0m \u001b[1;34m'sidwdzx1'\u001b[0m\u001b[1;33m\u001b[0m\u001b[1;33m\u001b[0m\u001b[0m\n\u001b[0;32m     12\u001b[0m \u001b[0mdsn_tns\u001b[0m \u001b[1;33m=\u001b[0m \u001b[0mcx_Oracle\u001b[0m\u001b[1;33m.\u001b[0m\u001b[0mmakedsn\u001b[0m\u001b[1;33m(\u001b[0m\u001b[0mdwzx_oracle_ip\u001b[0m\u001b[1;33m,\u001b[0m \u001b[0mdwzx_oracle_port\u001b[0m\u001b[1;33m,\u001b[0m \u001b[0mdwzx_oracle_SID\u001b[0m\u001b[1;33m)\u001b[0m\u001b[1;33m\u001b[0m\u001b[1;33m\u001b[0m\u001b[0m\n\u001b[1;32m---> 13\u001b[1;33m \u001b[0mdb1\u001b[0m \u001b[1;33m=\u001b[0m \u001b[0mcx_Oracle\u001b[0m\u001b[1;33m.\u001b[0m\u001b[0mconnect\u001b[0m\u001b[1;33m(\u001b[0m\u001b[1;34m'sjcj'\u001b[0m\u001b[1;33m,\u001b[0m\u001b[1;34m'dwzqsjcj'\u001b[0m\u001b[1;33m,\u001b[0m\u001b[0mdsn_tns\u001b[0m \u001b[1;33m)\u001b[0m\u001b[1;33m\u001b[0m\u001b[1;33m\u001b[0m\u001b[0m\n\u001b[0m\u001b[0;32m     14\u001b[0m \u001b[1;33m\u001b[0m\u001b[0m\n\u001b[0;32m     15\u001b[0m \u001b[0mcursor\u001b[0m\u001b[1;33m=\u001b[0m\u001b[0mdb1\u001b[0m\u001b[1;33m.\u001b[0m\u001b[0mcursor\u001b[0m\u001b[1;33m(\u001b[0m\u001b[1;33m)\u001b[0m\u001b[1;33m\u001b[0m\u001b[1;33m\u001b[0m\u001b[0m\n",
      "\u001b[1;31mDatabaseError\u001b[0m: DPI-1047: Cannot locate a 64-bit Oracle Client library: \"The specified module could not be found\". See https://oracle.github.io/odpi/doc/installation.html#windows for help"
     ]
    }
   ],
   "source": [
    "import re\n",
    "import urllib\n",
    "import cx_Oracle\n",
    "import urllib.request\n",
    "import os\n",
    "\n",
    "os.environ['NLS_LANG']='SIMPLIFIED CHINESE_CHINA.UTF8'\n",
    "\n",
    "dwzx_oracle_ip = '222.92.214.61'\n",
    "dwzx_oracle_port = 20001\n",
    "dwzx_oracle_SID = 'sidwdzx1'\n",
    "dsn_tns = cx_Oracle.makedsn(dwzx_oracle_ip, dwzx_oracle_port, dwzx_oracle_SID)\n",
    "db1 = cx_Oracle.connect('sjcj','dwzqsjcj',dsn_tns )\n",
    "\n",
    "cursor=db1.cursor()\n",
    "cursor.execute(\"select trade_dt,s_info_windcode,s_dq_close_today,s_val_pe_ttm,s_val_pb_new,s_val_ps_ttm from wind.AshareEODDerivativeIndicator where trade_dt>='20060101' and trade_dt<='201801230' \")\n",
    "row=cursor.fetchall()\n",
    "db1.close\n",
    "import pandas as pd\n",
    "result=pd.DataFrame(row)\n",
    "\n",
    "result.to_excel('C:/Users/jxjsj/Desktop/value_factor.xlsx',header=None,index=True)"
   ]
  },
  {
   "cell_type": "code",
   "execution_count": null,
   "metadata": {},
   "outputs": [],
   "source": []
  }
 ],
 "metadata": {
  "kernelspec": {
   "display_name": "Python 3",
   "language": "python",
   "name": "python3"
  },
  "language_info": {
   "codemirror_mode": {
    "name": "ipython",
    "version": 3
   },
   "file_extension": ".py",
   "mimetype": "text/x-python",
   "name": "python",
   "nbconvert_exporter": "python",
   "pygments_lexer": "ipython3",
   "version": "3.7.3"
  },
  "toc": {
   "base_numbering": 1,
   "nav_menu": {},
   "number_sections": true,
   "sideBar": true,
   "skip_h1_title": false,
   "title_cell": "Table of Contents",
   "title_sidebar": "Contents",
   "toc_cell": false,
   "toc_position": {},
   "toc_section_display": true,
   "toc_window_display": false
  }
 },
 "nbformat": 4,
 "nbformat_minor": 2
}
