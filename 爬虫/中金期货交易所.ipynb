{
 "cells": [
  {
   "cell_type": "code",
   "execution_count": 1,
   "metadata": {},
   "outputs": [],
   "source": [
    "import requests\n",
    "import pandas as pd\n",
    "import re\n",
    "import numpy as np\n",
    "from bs4 import BeautifulSoup\n",
    "import datetime"
   ]
  },
  {
   "cell_type": "code",
   "execution_count": null,
   "metadata": {},
   "outputs": [],
   "source": [
    "'''\n",
    "数据输入：交易日DataFrame，列名Date，格式为日期\n",
    "'''"
   ]
  },
  {
   "cell_type": "code",
   "execution_count": 2,
   "metadata": {
    "scrolled": true
   },
   "outputs": [],
   "source": [
    "DateSeries = pd.read_excel('C:/Users/Thinkpad/Desktop/TradeDate.xlsx')['Date']\n",
    "DateDf = DateSeries.apply(lambda x: x.strftime('%Y%m%d')).to_frame()\n",
    "DateList = DateDf['Date'].tolist()\n",
    "OutPutPath = 'C:/Users/Thinkpad/Desktop/'"
   ]
  },
  {
   "cell_type": "code",
   "execution_count": null,
   "metadata": {},
   "outputs": [],
   "source": [
    "'''\n",
    "单种类爬虫：IF、IC、IH\n",
    "'''"
   ]
  },
  {
   "cell_type": "code",
   "execution_count": 7,
   "metadata": {
    "scrolled": true
   },
   "outputs": [
    {
     "name": "stdout",
     "output_type": "stream",
     "text": [
      "20190722 IH Complete\r"
     ]
    }
   ],
   "source": [
    "kind = 'IH'\n",
    "\n",
    "# LongVarV_sum_SaveList = []\n",
    "# ShortVarV_sum_SaveList = []\n",
    "\n",
    "# DB1 = pd.DataFrame()\n",
    "# DB2 = pd.DataFrame()\n",
    "# DB3 = pd.DataFrame()\n",
    "\n",
    "cnt = 0\n",
    "for TradeDate in DateList:\n",
    "    \n",
    "    # 非第一次才跑！增量写入\n",
    "    if TradeDate in DB1['日期'].unique().tolist():\n",
    "        print(TradeDate+' '+kind+' Complete',end='\\r')\n",
    "        continue\n",
    "    \n",
    "    Y_m = TradeDate[:6]\n",
    "    d = TradeDate[6:]\n",
    "    \n",
    "    URL = 'http://www.cffex.com.cn/sj/ccpm/'+Y_m+'/'+d+'/'+kind+'.xml'\n",
    "    r = requests.get(url=URL)\n",
    "    \n",
    "    WebText = BeautifulSoup(r.text,\"lxml\")\n",
    "    r.close()\n",
    "    \n",
    "    # 成交量排名\n",
    "    reForTradeV = '<data text=\".*?                        \" value=\"0\">\\n    <instrumentid>\\n     (.*?)\\n    </instrumentid>\\n    <tradingday>\\n     (.*?)\\n    </tradingday>\\n    <datatypeid>\\n     .*?\\n    </datatypeid>\\n    <rank>\\n     (.*?)\\n    </rank>\\n    <shortname>\\n     (.*?)\\n    </shortname>\\n    <volume>\\n     (.*?)\\n    </volume>\\n    <varvolume>\\n     (.*?)\\n    </varvolume>\\n    <partyid>\\n     .*?\\n    </partyid>\\n    <productid>\\n     .*?\\n    </productid>\\n   </data>\\n'\n",
    "    # 多单排名\n",
    "    reForLong = '<data text=\".*?                        \" value=\"1\">\\n    <instrumentid>\\n     (.*?)\\n    </instrumentid>\\n    <tradingday>\\n     (.*?)\\n    </tradingday>\\n    <datatypeid>\\n     .*?\\n    </datatypeid>\\n    <rank>\\n     (.*?)\\n    </rank>\\n    <shortname>\\n     (.*?)\\n    </shortname>\\n    <volume>\\n     (.*?)\\n    </volume>\\n    <varvolume>\\n     (.*?)\\n    </varvolume>\\n    <partyid>\\n     .*?\\n    </partyid>\\n    <productid>\\n     .*?\\n    </productid>\\n   </data>\\n'\n",
    "    # 空单排名\n",
    "    reForShort = '<data text=\".*?                        \" value=\"2\">\\n    <instrumentid>\\n     (.*?)\\n    </instrumentid>\\n    <tradingday>\\n     (.*?)\\n    </tradingday>\\n    <datatypeid>\\n     .*?\\n    </datatypeid>\\n    <rank>\\n     (.*?)\\n    </rank>\\n    <shortname>\\n     (.*?)\\n    </shortname>\\n    <volume>\\n     (.*?)\\n    </volume>\\n    <varvolume>\\n     (.*?)\\n    </varvolume>\\n    <partyid>\\n     .*?\\n    </partyid>\\n    <productid>\\n     .*?\\n    </productid>\\n   </data>\\n'\n",
    "    \n",
    "    TradeVData = re.findall(reForTradeV,WebText.prettify())\n",
    "    \n",
    "    LongData = re.findall(reForLong,WebText.prettify())\n",
    "#     LongVarV = re.findall(reForLong,WebText.prettify())\n",
    "#     LongVarV_int = [int(i) for i in LongVarV]\n",
    "    \n",
    "    ShortData = re.findall(reForShort,WebText.prettify())\n",
    "#     ShortVarV = re.findall(reForShort,WebText.prettify())\n",
    "#     ShortVarV_int = [int(i) for i in ShortVarV]\n",
    "    \n",
    "#     LongVarV_sum_SaveList.append(np.sum(LongVarV_int))\n",
    "#     ShortVarV_sum_SaveList.append(np.sum(ShortVarV_int))\n",
    "\n",
    "    DB1_ = pd.DataFrame(TradeVData,columns=['合约名称','日期','排名','公司','量','变化量'])\n",
    "    DB2_ = pd.DataFrame(LongData,columns=['合约名称','日期','排名','公司','量','变化量'])\n",
    "    DB3_ = pd.DataFrame(ShortData,columns=['合约名称','日期','排名','公司','量','变化量'])\n",
    "    \n",
    "    DB1 = pd.concat([DB1,DB1_],axis=0)\n",
    "    DB2 = pd.concat([DB2,DB2_],axis=0)\n",
    "    DB3 = pd.concat([DB3,DB3_],axis=0)\n",
    "    \n",
    "    cnt += 1\n",
    "    print(TradeDate+' '+kind+' Complete',end='\\r')"
   ]
  },
  {
   "cell_type": "code",
   "execution_count": 8,
   "metadata": {},
   "outputs": [],
   "source": [
    "DB1.to_excel(OutPutPath+kind+'成交量排名'+'蜘蛛网策略数据更新至'+DateList[-1]+'.xlsx')\n",
    "DB2.to_excel(OutPutPath+kind+'持买单量排名'+'蜘蛛网策略数据更新至'+DateList[-1]+'.xlsx')\n",
    "DB3.to_excel(OutPutPath+kind+'持卖单量排名'+'蜘蛛网策略数据更新至'+DateList[-1]+'.xlsx')"
   ]
  },
  {
   "cell_type": "code",
   "execution_count": null,
   "metadata": {},
   "outputs": [],
   "source": [
    "'''\n",
    "单种类结果输出：路径+种类+蜘蛛网策略数据更新至+最新日期\n",
    "'''"
   ]
  },
  {
   "cell_type": "code",
   "execution_count": 142,
   "metadata": {
    "scrolled": true
   },
   "outputs": [],
   "source": [
    "SaveDf = pd.DataFrame({'日期':DateSeries.tolist(),'多单持仓增量':LongVarV_sum_SaveList,'空单持仓增量':ShortVarV_sum_SaveList})\n",
    "SaveDf.to_excel(OutPutPath+kind+'蜘蛛网策略数据更新至'+DateList[-1]+'.xlsx')"
   ]
  },
  {
   "cell_type": "code",
   "execution_count": null,
   "metadata": {},
   "outputs": [],
   "source": [
    "'''\n",
    "单PY文件形式\n",
    "'''"
   ]
  },
  {
   "cell_type": "code",
   "execution_count": 143,
   "metadata": {
    "scrolled": true
   },
   "outputs": [
    {
     "ename": "KeyboardInterrupt",
     "evalue": "",
     "output_type": "error",
     "traceback": [
      "\u001b[1;31m---------------------------------------------------------------------------\u001b[0m",
      "\u001b[1;31mKeyboardInterrupt\u001b[0m                         Traceback (most recent call last)",
      "\u001b[1;32m<ipython-input-143-ef05d84fbbec>\u001b[0m in \u001b[0;36m<module>\u001b[1;34m\u001b[0m\n\u001b[0;32m     84\u001b[0m \u001b[1;33m\u001b[0m\u001b[0m\n\u001b[0;32m     85\u001b[0m     \u001b[1;31m# 爬取数据\u001b[0m\u001b[1;33m\u001b[0m\u001b[1;33m\u001b[0m\u001b[1;33m\u001b[0m\u001b[0m\n\u001b[1;32m---> 86\u001b[1;33m     \u001b[0mRun\u001b[0m\u001b[1;33m(\u001b[0m\u001b[0mDateList\u001b[0m\u001b[1;33m,\u001b[0m\u001b[0mkindList\u001b[0m\u001b[1;33m,\u001b[0m\u001b[0mOutPutPath\u001b[0m\u001b[1;33m)\u001b[0m\u001b[1;33m\u001b[0m\u001b[1;33m\u001b[0m\u001b[0m\n\u001b[0m",
      "\u001b[1;32m<ipython-input-143-ef05d84fbbec>\u001b[0m in \u001b[0;36mRun\u001b[1;34m(DateList, kindList, OutPutPath)\u001b[0m\n\u001b[0;32m     66\u001b[0m \u001b[1;33m\u001b[0m\u001b[0m\n\u001b[0;32m     67\u001b[0m     \u001b[1;32mfor\u001b[0m \u001b[0mkind\u001b[0m \u001b[1;32min\u001b[0m \u001b[0mkindList\u001b[0m\u001b[1;33m:\u001b[0m\u001b[1;33m\u001b[0m\u001b[1;33m\u001b[0m\u001b[0m\n\u001b[1;32m---> 68\u001b[1;33m         \u001b[0mLongVarV_sum_SaveList\u001b[0m\u001b[1;33m,\u001b[0m \u001b[0mShortVarV_sum_SaveList\u001b[0m \u001b[1;33m=\u001b[0m \u001b[0mGetQuery\u001b[0m\u001b[1;33m(\u001b[0m\u001b[0mkind\u001b[0m\u001b[1;33m,\u001b[0m\u001b[0mDateList\u001b[0m\u001b[1;33m)\u001b[0m\u001b[1;33m\u001b[0m\u001b[1;33m\u001b[0m\u001b[0m\n\u001b[0m\u001b[0;32m     69\u001b[0m         \u001b[0mOutPut\u001b[0m\u001b[1;33m(\u001b[0m\u001b[0mlongdatalist\u001b[0m\u001b[1;33m,\u001b[0m\u001b[0mshortdatalist\u001b[0m\u001b[1;33m,\u001b[0m\u001b[0mOutPutPath\u001b[0m\u001b[1;33m)\u001b[0m\u001b[1;33m\u001b[0m\u001b[1;33m\u001b[0m\u001b[0m\n\u001b[0;32m     70\u001b[0m \u001b[1;33m\u001b[0m\u001b[0m\n",
      "\u001b[1;32m<ipython-input-143-ef05d84fbbec>\u001b[0m in \u001b[0;36mGetQuery\u001b[1;34m(kind, DateList)\u001b[0m\n\u001b[0;32m     49\u001b[0m         \u001b[0mr\u001b[0m \u001b[1;33m=\u001b[0m \u001b[0mrequests\u001b[0m\u001b[1;33m.\u001b[0m\u001b[0mget\u001b[0m\u001b[1;33m(\u001b[0m\u001b[0murl\u001b[0m\u001b[1;33m=\u001b[0m\u001b[0mURL\u001b[0m\u001b[1;33m)\u001b[0m\u001b[1;33m\u001b[0m\u001b[1;33m\u001b[0m\u001b[0m\n\u001b[0;32m     50\u001b[0m \u001b[1;33m\u001b[0m\u001b[0m\n\u001b[1;32m---> 51\u001b[1;33m         \u001b[0mWebText\u001b[0m \u001b[1;33m=\u001b[0m \u001b[0mBeautifulSoup\u001b[0m\u001b[1;33m(\u001b[0m\u001b[0mr\u001b[0m\u001b[1;33m.\u001b[0m\u001b[0mtext\u001b[0m\u001b[1;33m,\u001b[0m\u001b[1;34m\"lxml\"\u001b[0m\u001b[1;33m)\u001b[0m\u001b[1;33m\u001b[0m\u001b[1;33m\u001b[0m\u001b[0m\n\u001b[0m\u001b[0;32m     52\u001b[0m         \u001b[0mr\u001b[0m\u001b[1;33m.\u001b[0m\u001b[0mclose\u001b[0m\u001b[1;33m(\u001b[0m\u001b[1;33m)\u001b[0m\u001b[1;33m\u001b[0m\u001b[1;33m\u001b[0m\u001b[0m\n\u001b[0;32m     53\u001b[0m \u001b[1;33m\u001b[0m\u001b[0m\n",
      "\u001b[1;32mF:\\Anaconda\\lib\\site-packages\\requests\\models.py\u001b[0m in \u001b[0;36mtext\u001b[1;34m(self)\u001b[0m\n\u001b[0;32m    855\u001b[0m         \u001b[1;31m# Fallback to auto-detected encoding.\u001b[0m\u001b[1;33m\u001b[0m\u001b[1;33m\u001b[0m\u001b[1;33m\u001b[0m\u001b[0m\n\u001b[0;32m    856\u001b[0m         \u001b[1;32mif\u001b[0m \u001b[0mself\u001b[0m\u001b[1;33m.\u001b[0m\u001b[0mencoding\u001b[0m \u001b[1;32mis\u001b[0m \u001b[1;32mNone\u001b[0m\u001b[1;33m:\u001b[0m\u001b[1;33m\u001b[0m\u001b[1;33m\u001b[0m\u001b[0m\n\u001b[1;32m--> 857\u001b[1;33m             \u001b[0mencoding\u001b[0m \u001b[1;33m=\u001b[0m \u001b[0mself\u001b[0m\u001b[1;33m.\u001b[0m\u001b[0mapparent_encoding\u001b[0m\u001b[1;33m\u001b[0m\u001b[1;33m\u001b[0m\u001b[0m\n\u001b[0m\u001b[0;32m    858\u001b[0m \u001b[1;33m\u001b[0m\u001b[0m\n\u001b[0;32m    859\u001b[0m         \u001b[1;31m# Decode unicode from given encoding.\u001b[0m\u001b[1;33m\u001b[0m\u001b[1;33m\u001b[0m\u001b[1;33m\u001b[0m\u001b[0m\n",
      "\u001b[1;32mF:\\Anaconda\\lib\\site-packages\\requests\\models.py\u001b[0m in \u001b[0;36mapparent_encoding\u001b[1;34m(self)\u001b[0m\n\u001b[0;32m    725\u001b[0m     \u001b[1;32mdef\u001b[0m \u001b[0mapparent_encoding\u001b[0m\u001b[1;33m(\u001b[0m\u001b[0mself\u001b[0m\u001b[1;33m)\u001b[0m\u001b[1;33m:\u001b[0m\u001b[1;33m\u001b[0m\u001b[1;33m\u001b[0m\u001b[0m\n\u001b[0;32m    726\u001b[0m         \u001b[1;34m\"\"\"The apparent encoding, provided by the chardet library.\"\"\"\u001b[0m\u001b[1;33m\u001b[0m\u001b[1;33m\u001b[0m\u001b[0m\n\u001b[1;32m--> 727\u001b[1;33m         \u001b[1;32mreturn\u001b[0m \u001b[0mchardet\u001b[0m\u001b[1;33m.\u001b[0m\u001b[0mdetect\u001b[0m\u001b[1;33m(\u001b[0m\u001b[0mself\u001b[0m\u001b[1;33m.\u001b[0m\u001b[0mcontent\u001b[0m\u001b[1;33m)\u001b[0m\u001b[1;33m[\u001b[0m\u001b[1;34m'encoding'\u001b[0m\u001b[1;33m]\u001b[0m\u001b[1;33m\u001b[0m\u001b[1;33m\u001b[0m\u001b[0m\n\u001b[0m\u001b[0;32m    728\u001b[0m \u001b[1;33m\u001b[0m\u001b[0m\n\u001b[0;32m    729\u001b[0m     \u001b[1;32mdef\u001b[0m \u001b[0miter_content\u001b[0m\u001b[1;33m(\u001b[0m\u001b[0mself\u001b[0m\u001b[1;33m,\u001b[0m \u001b[0mchunk_size\u001b[0m\u001b[1;33m=\u001b[0m\u001b[1;36m1\u001b[0m\u001b[1;33m,\u001b[0m \u001b[0mdecode_unicode\u001b[0m\u001b[1;33m=\u001b[0m\u001b[1;32mFalse\u001b[0m\u001b[1;33m)\u001b[0m\u001b[1;33m:\u001b[0m\u001b[1;33m\u001b[0m\u001b[1;33m\u001b[0m\u001b[0m\n",
      "\u001b[1;32mF:\\Anaconda\\lib\\site-packages\\chardet\\__init__.py\u001b[0m in \u001b[0;36mdetect\u001b[1;34m(byte_str)\u001b[0m\n\u001b[0;32m     36\u001b[0m             \u001b[0mbyte_str\u001b[0m \u001b[1;33m=\u001b[0m \u001b[0mbytearray\u001b[0m\u001b[1;33m(\u001b[0m\u001b[0mbyte_str\u001b[0m\u001b[1;33m)\u001b[0m\u001b[1;33m\u001b[0m\u001b[1;33m\u001b[0m\u001b[0m\n\u001b[0;32m     37\u001b[0m     \u001b[0mdetector\u001b[0m \u001b[1;33m=\u001b[0m \u001b[0mUniversalDetector\u001b[0m\u001b[1;33m(\u001b[0m\u001b[1;33m)\u001b[0m\u001b[1;33m\u001b[0m\u001b[1;33m\u001b[0m\u001b[0m\n\u001b[1;32m---> 38\u001b[1;33m     \u001b[0mdetector\u001b[0m\u001b[1;33m.\u001b[0m\u001b[0mfeed\u001b[0m\u001b[1;33m(\u001b[0m\u001b[0mbyte_str\u001b[0m\u001b[1;33m)\u001b[0m\u001b[1;33m\u001b[0m\u001b[1;33m\u001b[0m\u001b[0m\n\u001b[0m\u001b[0;32m     39\u001b[0m     \u001b[1;32mreturn\u001b[0m \u001b[0mdetector\u001b[0m\u001b[1;33m.\u001b[0m\u001b[0mclose\u001b[0m\u001b[1;33m(\u001b[0m\u001b[1;33m)\u001b[0m\u001b[1;33m\u001b[0m\u001b[1;33m\u001b[0m\u001b[0m\n",
      "\u001b[1;32mF:\\Anaconda\\lib\\site-packages\\chardet\\universaldetector.py\u001b[0m in \u001b[0;36mfeed\u001b[1;34m(self, byte_str)\u001b[0m\n\u001b[0;32m    209\u001b[0m                 \u001b[0mself\u001b[0m\u001b[1;33m.\u001b[0m\u001b[0m_charset_probers\u001b[0m\u001b[1;33m.\u001b[0m\u001b[0mappend\u001b[0m\u001b[1;33m(\u001b[0m\u001b[0mLatin1Prober\u001b[0m\u001b[1;33m(\u001b[0m\u001b[1;33m)\u001b[0m\u001b[1;33m)\u001b[0m\u001b[1;33m\u001b[0m\u001b[1;33m\u001b[0m\u001b[0m\n\u001b[0;32m    210\u001b[0m             \u001b[1;32mfor\u001b[0m \u001b[0mprober\u001b[0m \u001b[1;32min\u001b[0m \u001b[0mself\u001b[0m\u001b[1;33m.\u001b[0m\u001b[0m_charset_probers\u001b[0m\u001b[1;33m:\u001b[0m\u001b[1;33m\u001b[0m\u001b[1;33m\u001b[0m\u001b[0m\n\u001b[1;32m--> 211\u001b[1;33m                 \u001b[1;32mif\u001b[0m \u001b[0mprober\u001b[0m\u001b[1;33m.\u001b[0m\u001b[0mfeed\u001b[0m\u001b[1;33m(\u001b[0m\u001b[0mbyte_str\u001b[0m\u001b[1;33m)\u001b[0m \u001b[1;33m==\u001b[0m \u001b[0mProbingState\u001b[0m\u001b[1;33m.\u001b[0m\u001b[0mFOUND_IT\u001b[0m\u001b[1;33m:\u001b[0m\u001b[1;33m\u001b[0m\u001b[1;33m\u001b[0m\u001b[0m\n\u001b[0m\u001b[0;32m    212\u001b[0m                     self.result = {'encoding': prober.charset_name,\n\u001b[0;32m    213\u001b[0m                                    \u001b[1;34m'confidence'\u001b[0m\u001b[1;33m:\u001b[0m \u001b[0mprober\u001b[0m\u001b[1;33m.\u001b[0m\u001b[0mget_confidence\u001b[0m\u001b[1;33m(\u001b[0m\u001b[1;33m)\u001b[0m\u001b[1;33m,\u001b[0m\u001b[1;33m\u001b[0m\u001b[1;33m\u001b[0m\u001b[0m\n",
      "\u001b[1;32mF:\\Anaconda\\lib\\site-packages\\chardet\\latin1prober.py\u001b[0m in \u001b[0;36mfeed\u001b[1;34m(self, byte_str)\u001b[0m\n\u001b[0;32m    115\u001b[0m \u001b[1;33m\u001b[0m\u001b[0m\n\u001b[0;32m    116\u001b[0m     \u001b[1;32mdef\u001b[0m \u001b[0mfeed\u001b[0m\u001b[1;33m(\u001b[0m\u001b[0mself\u001b[0m\u001b[1;33m,\u001b[0m \u001b[0mbyte_str\u001b[0m\u001b[1;33m)\u001b[0m\u001b[1;33m:\u001b[0m\u001b[1;33m\u001b[0m\u001b[1;33m\u001b[0m\u001b[0m\n\u001b[1;32m--> 117\u001b[1;33m         \u001b[0mbyte_str\u001b[0m \u001b[1;33m=\u001b[0m \u001b[0mself\u001b[0m\u001b[1;33m.\u001b[0m\u001b[0mfilter_with_english_letters\u001b[0m\u001b[1;33m(\u001b[0m\u001b[0mbyte_str\u001b[0m\u001b[1;33m)\u001b[0m\u001b[1;33m\u001b[0m\u001b[1;33m\u001b[0m\u001b[0m\n\u001b[0m\u001b[0;32m    118\u001b[0m         \u001b[1;32mfor\u001b[0m \u001b[0mc\u001b[0m \u001b[1;32min\u001b[0m \u001b[0mbyte_str\u001b[0m\u001b[1;33m:\u001b[0m\u001b[1;33m\u001b[0m\u001b[1;33m\u001b[0m\u001b[0m\n\u001b[0;32m    119\u001b[0m             \u001b[0mchar_class\u001b[0m \u001b[1;33m=\u001b[0m \u001b[0mLatin1_CharToClass\u001b[0m\u001b[1;33m[\u001b[0m\u001b[0mc\u001b[0m\u001b[1;33m]\u001b[0m\u001b[1;33m\u001b[0m\u001b[1;33m\u001b[0m\u001b[0m\n",
      "\u001b[1;32mF:\\Anaconda\\lib\\site-packages\\chardet\\charsetprober.py\u001b[0m in \u001b[0;36mfilter_with_english_letters\u001b[1;34m(buf)\u001b[0m\n\u001b[0;32m    135\u001b[0m                     \u001b[1;31m# Output a space to delimit stretch we kept\u001b[0m\u001b[1;33m\u001b[0m\u001b[1;33m\u001b[0m\u001b[1;33m\u001b[0m\u001b[0m\n\u001b[0;32m    136\u001b[0m                     \u001b[0mfiltered\u001b[0m\u001b[1;33m.\u001b[0m\u001b[0mextend\u001b[0m\u001b[1;33m(\u001b[0m\u001b[1;34mb' '\u001b[0m\u001b[1;33m)\u001b[0m\u001b[1;33m\u001b[0m\u001b[1;33m\u001b[0m\u001b[0m\n\u001b[1;32m--> 137\u001b[1;33m                 \u001b[0mprev\u001b[0m \u001b[1;33m=\u001b[0m \u001b[0mcurr\u001b[0m \u001b[1;33m+\u001b[0m \u001b[1;36m1\u001b[0m\u001b[1;33m\u001b[0m\u001b[1;33m\u001b[0m\u001b[0m\n\u001b[0m\u001b[0;32m    138\u001b[0m \u001b[1;33m\u001b[0m\u001b[0m\n\u001b[0;32m    139\u001b[0m         \u001b[1;31m# If we're not in a tag...\u001b[0m\u001b[1;33m\u001b[0m\u001b[1;33m\u001b[0m\u001b[1;33m\u001b[0m\u001b[0m\n",
      "\u001b[1;31mKeyboardInterrupt\u001b[0m: "
     ]
    }
   ],
   "source": [
    "import requests\n",
    "import pandas as pd\n",
    "import re\n",
    "import numpy as np\n",
    "from bs4 import BeautifulSoup\n",
    "import datetime\n",
    "\n",
    "def TradeDateProcess(excelpath):\n",
    "    \n",
    "    TradeDateExcelPath = excelpath\n",
    "    \n",
    "    DateSeries = pd.read_excel(TradeDateExcelPath)['Date']\n",
    "    DateDf = DateSeries.apply(lambda x: x.strftime('%Y%m%d')).to_frame()\n",
    "    DateList = DateDf['Date'].tolist()\n",
    "    \n",
    "    return DateList\n",
    "    \n",
    "def ReForLongShort(text):\n",
    "    \n",
    "    WebText = text\n",
    "    \n",
    "    reForLong = '<data text=\".*?                        \" value=\"1\">\\n    <instrumentid>\\n     .*?\\n    </instrumentid>\\n    <tradingday>\\n     .*?\\n    </tradingday>\\n    <datatypeid>\\n     .*?\\n    </datatypeid>\\n    <rank>\\n     .*?\\n    </rank>\\n    <shortname>\\n     .*?\\n    </shortname>\\n    <volume>\\n     .*?\\n    </volume>\\n    <varvolume>\\n     (.*?)\\n    </varvolume>\\n    <partyid>\\n     .*?\\n    </partyid>\\n    <productid>\\n     .*?\\n    </productid>\\n   </data>\\n'\n",
    "    reForShort = '<data text=\".*?                        \" value=\"2\">\\n    <instrumentid>\\n     .*?\\n    </instrumentid>\\n    <tradingday>\\n     .*?\\n    </tradingday>\\n    <datatypeid>\\n     .*?\\n    </datatypeid>\\n    <rank>\\n     .*?\\n    </rank>\\n    <shortname>\\n     .*?\\n    </shortname>\\n    <volume>\\n     .*?\\n    </volume>\\n    <varvolume>\\n     (.*?)\\n    </varvolume>\\n    <partyid>\\n     .*?\\n    </partyid>\\n    <productid>\\n     .*?\\n    </productid>\\n   </data>\\n'\n",
    "\n",
    "    LongVarV = re.findall(reForLong,WebText.prettify())\n",
    "    LongVarV_int = [int(i) for i in LongVarV]\n",
    "\n",
    "    ShortVarV = re.findall(reForShort,WebText.prettify())\n",
    "    ShortVarV_int = [int(i) for i in ShortVarV]\n",
    "\n",
    "    LongVarV_sum_SaveList.append(np.sum(LongVarV_int))\n",
    "    ShortVarV_sum_SaveList.append(np.sum(ShortVarV_int))\n",
    "    \n",
    "    return LongVarV_sum_SaveList, ShortVarV_sum_SaveList\n",
    "\n",
    "\n",
    "def GetQuery(kind,DateList):\n",
    "    \n",
    "    kind, DateList = kind, DateList\n",
    "\n",
    "    LongVarV_sum_SaveList = []\n",
    "    ShortVarV_sum_SaveList = []\n",
    "\n",
    "    for TradeDate in DateList:\n",
    "        Y_m = TradeDate[:6]\n",
    "        d = TradeDate[6:]\n",
    "\n",
    "        URL = 'http://www.cffex.com.cn/sj/ccpm/'+Y_m+'/'+d+'/'+kind+'.xml'\n",
    "        r = requests.get(url=URL)\n",
    "\n",
    "        WebText = BeautifulSoup(r.text,\"lxml\")\n",
    "        r.close()\n",
    "        \n",
    "        print(TradeDate+' '+kind+' Complete',end='\\r')\n",
    "        \n",
    "    return ReForLongShort(WebText)\n",
    "    \n",
    "def OutPut(longdatalist,shortdatalist,OutPutPath):\n",
    "    \n",
    "    LongVarV_sum_SaveList, ShortVarV_sum_SaveList = longdatalist, shortdatalist\n",
    "    \n",
    "    SaveDf = pd.DataFrame({'日期':DateList,'多单持仓增量':LongVarV_sum_SaveList,'空单持仓增量':ShortVarV_sum_SaveList})\n",
    "    SaveDf.to_excel(OutPutPath+kind+'蜘蛛网策略数据更新至'+DateList[-1]+'.xlsx')\n",
    "    \n",
    "def Run(DateList,kindList,OutPutPath):\n",
    "    \n",
    "    for kind in kindList:\n",
    "        LongVarV_sum_SaveList, ShortVarV_sum_SaveList = GetQuery(kind,DateList)\n",
    "        OutPut(longdatalist,shortdatalist,OutPutPath)\n",
    "    \n",
    "if __name__ == '__main__':\n",
    "    \n",
    "    # 日期数据，原始文件为excel，列名Date，数据格式为日期形式\n",
    "    TradeDateExcelPath = 'C:/Users/Thinkpad/Desktop/TradeDate.xlsx'\n",
    "    \n",
    "    # 爬取种类\n",
    "    kindList = ['IF','IC','IH']\n",
    "    \n",
    "    # 数据输出路径\n",
    "    OutPutPath = 'C:/Users/Thinkpad/Desktop/'\n",
    "    \n",
    "    # 日期数据处理\n",
    "    DateList = TradeDateProcess(TradeDateExcelPath)\n",
    "    \n",
    "    # 爬取数据\n",
    "    Run(DateList,kindList,OutPutPath)"
   ]
  },
  {
   "cell_type": "code",
   "execution_count": null,
   "metadata": {},
   "outputs": [],
   "source": []
  }
 ],
 "metadata": {
  "kernelspec": {
   "display_name": "Python 3",
   "language": "python",
   "name": "python3"
  },
  "language_info": {
   "codemirror_mode": {
    "name": "ipython",
    "version": 3
   },
   "file_extension": ".py",
   "mimetype": "text/x-python",
   "name": "python",
   "nbconvert_exporter": "python",
   "pygments_lexer": "ipython3",
   "version": "3.7.3"
  },
  "toc": {
   "base_numbering": 1,
   "nav_menu": {},
   "number_sections": true,
   "sideBar": true,
   "skip_h1_title": false,
   "title_cell": "Table of Contents",
   "title_sidebar": "Contents",
   "toc_cell": false,
   "toc_position": {},
   "toc_section_display": true,
   "toc_window_display": false
  }
 },
 "nbformat": 4,
 "nbformat_minor": 2
}
