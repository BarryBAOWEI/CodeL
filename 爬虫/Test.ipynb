{
 "cells": [
  {
   "cell_type": "code",
   "execution_count": 1,
   "metadata": {
    "scrolled": false
   },
   "outputs": [
    {
     "name": "stderr",
     "output_type": "stream",
     "text": [
      "2019-12-05 23:02:19 [scrapy.utils.log] INFO: Scrapy 1.6.0 started (bot: scrapybot)\n",
      "2019-12-05 23:02:19 [scrapy.utils.log] INFO: Versions: lxml 4.3.4.0, libxml2 2.9.9, cssselect 1.1.0, parsel 1.5.2, w3lib 1.21.0, Twisted 18.9.0, Python 3.7.3 (default, Apr 24 2019, 15:29:51) [MSC v.1915 64 bit (AMD64)], pyOpenSSL 19.0.0 (OpenSSL 1.1.1c  28 May 2019), cryptography 2.7, Platform Windows-10-10.0.18362-SP0\n",
      "2019-12-05 23:02:19 [scrapy.crawler] INFO: Overridden settings: {'USER_AGENT': 'Mozilla/4.0 (compatible; MSIE 7.0; Windows NT 5.1)'}\n",
      "2019-12-05 23:02:19 [scrapy.extensions.telnet] INFO: Telnet Password: d4109bfe2d5ed81e\n",
      "2019-12-05 23:02:19 [scrapy.middleware] INFO: Enabled extensions:\n",
      "['scrapy.extensions.corestats.CoreStats',\n",
      " 'scrapy.extensions.telnet.TelnetConsole',\n",
      " 'scrapy.extensions.logstats.LogStats']\n",
      "2019-12-05 23:02:20 [scrapy.middleware] INFO: Enabled downloader middlewares:\n",
      "['scrapy.downloadermiddlewares.httpauth.HttpAuthMiddleware',\n",
      " 'scrapy.downloadermiddlewares.downloadtimeout.DownloadTimeoutMiddleware',\n",
      " 'scrapy.downloadermiddlewares.defaultheaders.DefaultHeadersMiddleware',\n",
      " 'scrapy.downloadermiddlewares.useragent.UserAgentMiddleware',\n",
      " 'scrapy.downloadermiddlewares.retry.RetryMiddleware',\n",
      " 'scrapy.downloadermiddlewares.redirect.MetaRefreshMiddleware',\n",
      " 'scrapy.downloadermiddlewares.httpcompression.HttpCompressionMiddleware',\n",
      " 'scrapy.downloadermiddlewares.redirect.RedirectMiddleware',\n",
      " 'scrapy.downloadermiddlewares.cookies.CookiesMiddleware',\n",
      " 'scrapy.downloadermiddlewares.httpproxy.HttpProxyMiddleware',\n",
      " 'scrapy.downloadermiddlewares.stats.DownloaderStats']\n",
      "2019-12-05 23:02:20 [scrapy.middleware] INFO: Enabled spider middlewares:\n",
      "['scrapy.spidermiddlewares.httperror.HttpErrorMiddleware',\n",
      " 'scrapy.spidermiddlewares.offsite.OffsiteMiddleware',\n",
      " 'scrapy.spidermiddlewares.referer.RefererMiddleware',\n",
      " 'scrapy.spidermiddlewares.urllength.UrlLengthMiddleware',\n",
      " 'scrapy.spidermiddlewares.depth.DepthMiddleware']\n",
      "2019-12-05 23:02:20 [scrapy.middleware] INFO: Enabled item pipelines:\n",
      "[]\n",
      "2019-12-05 23:02:20 [scrapy.core.engine] INFO: Spider opened\n",
      "2019-12-05 23:02:20 [scrapy.extensions.logstats] INFO: Crawled 0 pages (at 0 pages/min), scraped 0 items (at 0 items/min)\n",
      "2019-12-05 23:02:20 [scrapy.extensions.telnet] INFO: Telnet console listening on 127.0.0.1:6023\n",
      "2019-12-05 23:02:21 [scrapy.core.engine] DEBUG: Crawled (200) <GET http://guba.eastmoney.com/list,zssh000001_1.html> (referer: None)\n",
      "2019-12-05 23:02:21 [scrapy.core.engine] DEBUG: Crawled (200) <GET http://guba.eastmoney.com/list,zssh000001_3.html> (referer: None)\n",
      "2019-12-05 23:02:21 [scrapy.core.scraper] ERROR: Spider error processing <GET http://guba.eastmoney.com/list,zssh000001_1.html> (referer: None)\n",
      "Traceback (most recent call last):\n",
      "  File \"C:\\Users\\xuhon\\Anaconda3\\lib\\site-packages\\twisted\\internet\\defer.py\", line 654, in _runCallbacks\n",
      "    current.result = callback(current.result, *args, **kw)\n",
      "  File \"<ipython-input-1-c79c8daf22a6>\", line 41, in parse\n",
      "    self.csvWriter.writerow(item)\n",
      "  File \"C:\\Users\\xuhon\\Anaconda3\\lib\\csv.py\", line 155, in writerow\n",
      "    return self.writer.writerow(self._dict_to_list(rowdict))\n",
      "UnicodeEncodeError: 'gbk' codec can't encode character '\\xa5' in position 3: illegal multibyte sequence\n",
      "2019-12-05 23:02:21 [scrapy.core.engine] DEBUG: Crawled (200) <GET http://guba.eastmoney.com/list,zssh000001_5.html> (referer: None)\n",
      "2019-12-05 23:02:21 [scrapy.core.engine] DEBUG: Crawled (200) <GET http://guba.eastmoney.com/list,zssh000001_7.html> (referer: None)\n",
      "2019-12-05 23:02:21 [scrapy.core.engine] DEBUG: Crawled (200) <GET http://guba.eastmoney.com/list,zssh000001_6.html> (referer: None)\n",
      "2019-12-05 23:02:21 [scrapy.core.engine] DEBUG: Crawled (200) <GET http://guba.eastmoney.com/list,zssh000001_10.html> (referer: None)\n"
     ]
    },
    {
     "name": "stdout",
     "output_type": "stream",
     "text": [
      "over: http://guba.eastmoney.com/list,zssh000001_3.html\n",
      "over: http://guba.eastmoney.com/list,zssh000001_5.html\n"
     ]
    },
    {
     "name": "stderr",
     "output_type": "stream",
     "text": [
      "2019-12-05 23:02:21 [scrapy.core.engine] DEBUG: Crawled (200) <GET http://guba.eastmoney.com/list,zssh000001_9.html> (referer: None)\n",
      "2019-12-05 23:02:21 [scrapy.core.engine] DEBUG: Crawled (200) <GET http://guba.eastmoney.com/list,zssh000001_13.html> (referer: None)\n"
     ]
    },
    {
     "name": "stdout",
     "output_type": "stream",
     "text": [
      "over: http://guba.eastmoney.com/list,zssh000001_7.html\n",
      "over: http://guba.eastmoney.com/list,zssh000001_6.html\n",
      "over: http://guba.eastmoney.com/list,zssh000001_10.html\n"
     ]
    },
    {
     "name": "stderr",
     "output_type": "stream",
     "text": [
      "2019-12-05 23:02:22 [scrapy.core.engine] DEBUG: Crawled (200) <GET http://guba.eastmoney.com/list,zssh000001_12.html> (referer: None)\n",
      "2019-12-05 23:02:22 [scrapy.core.engine] DEBUG: Crawled (200) <GET http://guba.eastmoney.com/list,zssh000001_2.html> (referer: None)\n"
     ]
    },
    {
     "name": "stdout",
     "output_type": "stream",
     "text": [
      "over: http://guba.eastmoney.com/list,zssh000001_9.html\n"
     ]
    },
    {
     "name": "stderr",
     "output_type": "stream",
     "text": [
      "2019-12-05 23:02:22 [scrapy.core.engine] DEBUG: Crawled (200) <GET http://guba.eastmoney.com/list,zssh000001_15.html> (referer: None)\n",
      "2019-12-05 23:02:22 [scrapy.core.engine] DEBUG: Crawled (200) <GET http://guba.eastmoney.com/list,zssh000001_14.html> (referer: None)\n",
      "2019-12-05 23:02:22 [scrapy.core.engine] DEBUG: Crawled (200) <GET http://guba.eastmoney.com/list,zssh000001_11.html> (referer: None)\n",
      "2019-12-05 23:02:22 [scrapy.core.engine] DEBUG: Crawled (200) <GET http://guba.eastmoney.com/list,zssh000001_4.html> (referer: None)\n",
      "2019-12-05 23:02:22 [scrapy.core.engine] DEBUG: Crawled (200) <GET http://guba.eastmoney.com/list,zssh000001_8.html> (referer: None)\n"
     ]
    },
    {
     "name": "stdout",
     "output_type": "stream",
     "text": [
      "over: http://guba.eastmoney.com/list,zssh000001_13.html\n"
     ]
    },
    {
     "name": "stderr",
     "output_type": "stream",
     "text": [
      "2019-12-05 23:02:22 [scrapy.core.engine] DEBUG: Crawled (200) <GET http://guba.eastmoney.com/list,zssh000001_18.html> (referer: None)\n",
      "2019-12-05 23:02:22 [scrapy.core.engine] DEBUG: Crawled (200) <GET http://guba.eastmoney.com/list,zssh000001_16.html> (referer: None)\n"
     ]
    },
    {
     "name": "stdout",
     "output_type": "stream",
     "text": [
      "over: http://guba.eastmoney.com/list,zssh000001_12.html\n",
      "over: http://guba.eastmoney.com/list,zssh000001_2.html\n",
      "over: http://guba.eastmoney.com/list,zssh000001_15.html\n",
      "over: http://guba.eastmoney.com/list,zssh000001_14.html\n",
      "over: http://guba.eastmoney.com/list,zssh000001_11.html\n"
     ]
    },
    {
     "name": "stderr",
     "output_type": "stream",
     "text": [
      "2019-12-05 23:02:23 [scrapy.core.engine] DEBUG: Crawled (200) <GET http://guba.eastmoney.com/list,zssh000001_19.html> (referer: None)\n",
      "2019-12-05 23:02:23 [scrapy.core.engine] DEBUG: Crawled (200) <GET http://guba.eastmoney.com/list,zssh000001_17.html> (referer: None)\n",
      "2019-12-05 23:02:23 [scrapy.core.engine] DEBUG: Crawled (200) <GET http://guba.eastmoney.com/list,zssh000001_20.html> (referer: None)\n",
      "2019-12-05 23:02:23 [scrapy.core.engine] DEBUG: Crawled (200) <GET http://guba.eastmoney.com/list,zssh000001_21.html> (referer: None)\n",
      "2019-12-05 23:02:23 [scrapy.core.engine] DEBUG: Crawled (200) <GET http://guba.eastmoney.com/list,zssh000001_22.html> (referer: None)\n",
      "2019-12-05 23:02:23 [scrapy.core.engine] DEBUG: Crawled (200) <GET http://guba.eastmoney.com/list,zssh000001_23.html> (referer: None)\n"
     ]
    },
    {
     "name": "stdout",
     "output_type": "stream",
     "text": [
      "over: http://guba.eastmoney.com/list,zssh000001_4.html\n",
      "over: http://guba.eastmoney.com/list,zssh000001_8.html\n",
      "over: http://guba.eastmoney.com/list,zssh000001_18.html\n",
      "over: http://guba.eastmoney.com/list,zssh000001_16.html\n",
      "over: http://guba.eastmoney.com/list,zssh000001_19.html\n",
      "over: http://guba.eastmoney.com/list,zssh000001_17.html\n",
      "over: http://guba.eastmoney.com/list,zssh000001_20.html\n",
      "over: http://guba.eastmoney.com/list,zssh000001_21.html\n",
      "over: http://guba.eastmoney.com/list,zssh000001_22.html\n"
     ]
    },
    {
     "name": "stderr",
     "output_type": "stream",
     "text": [
      "2019-12-05 23:02:24 [scrapy.core.engine] DEBUG: Crawled (200) <GET http://guba.eastmoney.com/list,zssh000001_26.html> (referer: None)\n",
      "2019-12-05 23:02:24 [scrapy.core.engine] DEBUG: Crawled (200) <GET http://guba.eastmoney.com/list,zssh000001_24.html> (referer: None)\n",
      "2019-12-05 23:02:24 [scrapy.core.engine] DEBUG: Crawled (200) <GET http://guba.eastmoney.com/list,zssh000001_25.html> (referer: None)\n"
     ]
    },
    {
     "name": "stdout",
     "output_type": "stream",
     "text": [
      "over: http://guba.eastmoney.com/list,zssh000001_23.html\n",
      "over: http://guba.eastmoney.com/list,zssh000001_26.html\n",
      "over: http://guba.eastmoney.com/list,zssh000001_24.html\n",
      "over: http://guba.eastmoney.com/list,zssh000001_25.html\n"
     ]
    },
    {
     "name": "stderr",
     "output_type": "stream",
     "text": [
      "2019-12-05 23:02:24 [scrapy.core.engine] DEBUG: Crawled (200) <GET http://guba.eastmoney.com/list,zssh000001_32.html> (referer: None)\n",
      "2019-12-05 23:02:24 [scrapy.core.engine] DEBUG: Crawled (200) <GET http://guba.eastmoney.com/list,zssh000001_27.html> (referer: None)\n",
      "2019-12-05 23:02:24 [scrapy.core.engine] DEBUG: Crawled (200) <GET http://guba.eastmoney.com/list,zssh000001_33.html> (referer: None)\n",
      "2019-12-05 23:02:24 [scrapy.core.engine] DEBUG: Crawled (200) <GET http://guba.eastmoney.com/list,zssh000001_28.html> (referer: None)\n",
      "2019-12-05 23:02:24 [scrapy.core.engine] DEBUG: Crawled (200) <GET http://guba.eastmoney.com/list,zssh000001_29.html> (referer: None)\n",
      "2019-12-05 23:02:24 [scrapy.core.engine] DEBUG: Crawled (200) <GET http://guba.eastmoney.com/list,zssh000001_34.html> (referer: None)\n"
     ]
    },
    {
     "name": "stdout",
     "output_type": "stream",
     "text": [
      "over: http://guba.eastmoney.com/list,zssh000001_32.html\n",
      "over: http://guba.eastmoney.com/list,zssh000001_27.html\n",
      "over: http://guba.eastmoney.com/list,zssh000001_33.html\n"
     ]
    },
    {
     "name": "stderr",
     "output_type": "stream",
     "text": [
      "2019-12-05 23:02:25 [scrapy.core.engine] DEBUG: Crawled (200) <GET http://guba.eastmoney.com/list,zssh000001_35.html> (referer: None)\n",
      "2019-12-05 23:02:25 [scrapy.core.engine] DEBUG: Crawled (200) <GET http://guba.eastmoney.com/list,zssh000001_36.html> (referer: None)\n",
      "2019-12-05 23:02:25 [scrapy.core.engine] DEBUG: Crawled (200) <GET http://guba.eastmoney.com/list,zssh000001_37.html> (referer: None)\n",
      "2019-12-05 23:02:25 [scrapy.core.engine] DEBUG: Crawled (200) <GET http://guba.eastmoney.com/list,zssh000001_38.html> (referer: None)\n",
      "2019-12-05 23:02:25 [scrapy.core.engine] DEBUG: Crawled (200) <GET http://guba.eastmoney.com/list,zssh000001_39.html> (referer: None)\n",
      "2019-12-05 23:02:25 [scrapy.core.engine] DEBUG: Crawled (200) <GET http://guba.eastmoney.com/list,zssh000001_30.html> (referer: None)\n",
      "2019-12-05 23:02:25 [scrapy.core.engine] DEBUG: Crawled (200) <GET http://guba.eastmoney.com/list,zssh000001_31.html> (referer: None)\n"
     ]
    },
    {
     "name": "stdout",
     "output_type": "stream",
     "text": [
      "over: http://guba.eastmoney.com/list,zssh000001_28.html\n",
      "over: http://guba.eastmoney.com/list,zssh000001_29.html\n",
      "over: http://guba.eastmoney.com/list,zssh000001_34.html\n",
      "over: http://guba.eastmoney.com/list,zssh000001_35.html\n",
      "over: http://guba.eastmoney.com/list,zssh000001_36.html\n",
      "over: http://guba.eastmoney.com/list,zssh000001_37.html\n",
      "over: http://guba.eastmoney.com/list,zssh000001_38.html\n",
      "over: http://guba.eastmoney.com/list,zssh000001_39.html\n"
     ]
    },
    {
     "name": "stderr",
     "output_type": "stream",
     "text": [
      "2019-12-05 23:02:25 [scrapy.core.engine] DEBUG: Crawled (200) <GET http://guba.eastmoney.com/list,zssh000001_41.html> (referer: None)\n",
      "2019-12-05 23:02:25 [scrapy.core.engine] DEBUG: Crawled (200) <GET http://guba.eastmoney.com/list,zssh000001_42.html> (referer: None)\n",
      "2019-12-05 23:02:25 [scrapy.core.engine] DEBUG: Crawled (200) <GET http://guba.eastmoney.com/list,zssh000001_43.html> (referer: None)\n",
      "2019-12-05 23:02:25 [scrapy.core.engine] DEBUG: Crawled (200) <GET http://guba.eastmoney.com/list,zssh000001_44.html> (referer: None)\n",
      "2019-12-05 23:02:25 [scrapy.core.engine] DEBUG: Crawled (200) <GET http://guba.eastmoney.com/list,zssh000001_46.html> (referer: None)\n",
      "2019-12-05 23:02:25 [scrapy.core.engine] DEBUG: Crawled (200) <GET http://guba.eastmoney.com/list,zssh000001_47.html> (referer: None)\n",
      "2019-12-05 23:02:25 [scrapy.core.engine] DEBUG: Crawled (200) <GET http://guba.eastmoney.com/list,zssh000001_40.html> (referer: None)\n"
     ]
    },
    {
     "name": "stdout",
     "output_type": "stream",
     "text": [
      "over: http://guba.eastmoney.com/list,zssh000001_30.html\n",
      "over: http://guba.eastmoney.com/list,zssh000001_31.html\n",
      "over: http://guba.eastmoney.com/list,zssh000001_41.html\n",
      "over: http://guba.eastmoney.com/list,zssh000001_42.html\n",
      "over: http://guba.eastmoney.com/list,zssh000001_43.html\n",
      "over: http://guba.eastmoney.com/list,zssh000001_44.html\n",
      "over: http://guba.eastmoney.com/list,zssh000001_46.html\n",
      "over: http://guba.eastmoney.com/list,zssh000001_47.html\n",
      "over: http://guba.eastmoney.com/list,zssh000001_40.html\n"
     ]
    },
    {
     "name": "stderr",
     "output_type": "stream",
     "text": [
      "2019-12-05 23:02:26 [scrapy.core.engine] DEBUG: Crawled (200) <GET http://guba.eastmoney.com/list,zssh000001_48.html> (referer: None)\n",
      "2019-12-05 23:02:26 [scrapy.core.engine] DEBUG: Crawled (200) <GET http://guba.eastmoney.com/list,zssh000001_49.html> (referer: None)\n",
      "2019-12-05 23:02:26 [scrapy.core.engine] DEBUG: Crawled (200) <GET http://guba.eastmoney.com/list,zssh000001_50.html> (referer: None)\n",
      "2019-12-05 23:02:26 [scrapy.core.engine] DEBUG: Crawled (200) <GET http://guba.eastmoney.com/list,zssh000001_51.html> (referer: None)\n",
      "2019-12-05 23:02:26 [scrapy.core.engine] DEBUG: Crawled (200) <GET http://guba.eastmoney.com/list,zssh000001_52.html> (referer: None)\n",
      "2019-12-05 23:02:26 [scrapy.core.engine] DEBUG: Crawled (200) <GET http://guba.eastmoney.com/list,zssh000001_53.html> (referer: None)\n",
      "2019-12-05 23:02:26 [scrapy.core.engine] DEBUG: Crawled (200) <GET http://guba.eastmoney.com/list,zssh000001_54.html> (referer: None)\n"
     ]
    },
    {
     "name": "stdout",
     "output_type": "stream",
     "text": [
      "over: http://guba.eastmoney.com/list,zssh000001_48.html\n",
      "over: http://guba.eastmoney.com/list,zssh000001_49.html\n",
      "over: http://guba.eastmoney.com/list,zssh000001_50.html\n",
      "over: http://guba.eastmoney.com/list,zssh000001_51.html\n",
      "over: http://guba.eastmoney.com/list,zssh000001_52.html\n",
      "over: http://guba.eastmoney.com/list,zssh000001_53.html\n",
      "over: http://guba.eastmoney.com/list,zssh000001_54.html\n"
     ]
    },
    {
     "name": "stderr",
     "output_type": "stream",
     "text": [
      "2019-12-05 23:02:27 [scrapy.core.engine] DEBUG: Crawled (200) <GET http://guba.eastmoney.com/list,zssh000001_58.html> (referer: None)\n",
      "2019-12-05 23:02:27 [scrapy.core.engine] DEBUG: Crawled (200) <GET http://guba.eastmoney.com/list,zssh000001_56.html> (referer: None)\n",
      "2019-12-05 23:02:27 [scrapy.core.engine] DEBUG: Crawled (200) <GET http://guba.eastmoney.com/list,zssh000001_57.html> (referer: None)\n",
      "2019-12-05 23:02:27 [scrapy.core.engine] DEBUG: Crawled (200) <GET http://guba.eastmoney.com/list,zssh000001_59.html> (referer: None)\n"
     ]
    },
    {
     "name": "stdout",
     "output_type": "stream",
     "text": [
      "over: http://guba.eastmoney.com/list,zssh000001_58.html\n",
      "over: http://guba.eastmoney.com/list,zssh000001_56.html\n"
     ]
    },
    {
     "name": "stderr",
     "output_type": "stream",
     "text": [
      "2019-12-05 23:02:27 [scrapy.core.engine] DEBUG: Crawled (200) <GET http://guba.eastmoney.com/list,zssh000001_63.html> (referer: None)\n",
      "2019-12-05 23:02:27 [scrapy.core.engine] DEBUG: Crawled (200) <GET http://guba.eastmoney.com/list,zssh000001_62.html> (referer: None)\n",
      "2019-12-05 23:02:27 [scrapy.core.engine] DEBUG: Crawled (200) <GET http://guba.eastmoney.com/list,zssh000001_45.html> (referer: None)\n",
      "2019-12-05 23:02:27 [scrapy.core.engine] DEBUG: Crawled (200) <GET http://guba.eastmoney.com/list,zssh000001_60.html> (referer: None)\n",
      "2019-12-05 23:02:27 [scrapy.core.engine] DEBUG: Crawled (200) <GET http://guba.eastmoney.com/list,zssh000001_61.html> (referer: None)\n"
     ]
    },
    {
     "name": "stdout",
     "output_type": "stream",
     "text": [
      "over: http://guba.eastmoney.com/list,zssh000001_57.html\n",
      "over: http://guba.eastmoney.com/list,zssh000001_59.html\n"
     ]
    },
    {
     "name": "stderr",
     "output_type": "stream",
     "text": [
      "2019-12-05 23:02:27 [scrapy.core.engine] DEBUG: Crawled (200) <GET http://guba.eastmoney.com/list,zssh000001_55.html> (referer: None)\n",
      "2019-12-05 23:02:27 [scrapy.core.engine] DEBUG: Crawled (200) <GET http://guba.eastmoney.com/list,zssh000001_65.html> (referer: None)\n"
     ]
    },
    {
     "name": "stdout",
     "output_type": "stream",
     "text": [
      "over: http://guba.eastmoney.com/list,zssh000001_63.html\n",
      "over: http://guba.eastmoney.com/list,zssh000001_62.html\n",
      "over: http://guba.eastmoney.com/list,zssh000001_45.html\n"
     ]
    },
    {
     "name": "stderr",
     "output_type": "stream",
     "text": [
      "2019-12-05 23:02:28 [scrapy.core.scraper] ERROR: Spider error processing <GET http://guba.eastmoney.com/list,zssh000001_61.html> (referer: None)\n",
      "Traceback (most recent call last):\n",
      "  File \"C:\\Users\\xuhon\\Anaconda3\\lib\\site-packages\\twisted\\internet\\defer.py\", line 654, in _runCallbacks\n",
      "    current.result = callback(current.result, *args, **kw)\n",
      "  File \"<ipython-input-1-c79c8daf22a6>\", line 41, in parse\n",
      "    self.csvWriter.writerow(item)\n",
      "  File \"C:\\Users\\xuhon\\Anaconda3\\lib\\csv.py\", line 155, in writerow\n",
      "    return self.writer.writerow(self._dict_to_list(rowdict))\n",
      "UnicodeEncodeError: 'gbk' codec can't encode character '\\u203f' in position 2: illegal multibyte sequence\n",
      "2019-12-05 23:02:28 [scrapy.core.engine] DEBUG: Crawled (200) <GET http://guba.eastmoney.com/list,zssh000001_66.html> (referer: None)\n",
      "2019-12-05 23:02:28 [scrapy.core.engine] DEBUG: Crawled (200) <GET http://guba.eastmoney.com/list,zssh000001_64.html> (referer: None)\n",
      "2019-12-05 23:02:28 [scrapy.core.engine] DEBUG: Crawled (200) <GET http://guba.eastmoney.com/list,zssh000001_67.html> (referer: None)\n",
      "2019-12-05 23:02:28 [scrapy.core.engine] DEBUG: Crawled (200) <GET http://guba.eastmoney.com/list,zssh000001_68.html> (referer: None)\n",
      "2019-12-05 23:02:28 [scrapy.core.engine] DEBUG: Crawled (200) <GET http://guba.eastmoney.com/list,zssh000001_69.html> (referer: None)\n",
      "2019-12-05 23:02:28 [scrapy.core.engine] DEBUG: Crawled (200) <GET http://guba.eastmoney.com/list,zssh000001_70.html> (referer: None)\n"
     ]
    },
    {
     "name": "stdout",
     "output_type": "stream",
     "text": [
      "over: http://guba.eastmoney.com/list,zssh000001_60.html\n",
      "over: http://guba.eastmoney.com/list,zssh000001_55.html\n",
      "over: http://guba.eastmoney.com/list,zssh000001_65.html\n",
      "over: http://guba.eastmoney.com/list,zssh000001_66.html\n",
      "over: http://guba.eastmoney.com/list,zssh000001_64.html\n",
      "over: http://guba.eastmoney.com/list,zssh000001_67.html\n",
      "over: http://guba.eastmoney.com/list,zssh000001_68.html\n",
      "over: http://guba.eastmoney.com/list,zssh000001_69.html\n",
      "over: http://guba.eastmoney.com/list,zssh000001_70.html"
     ]
    },
    {
     "name": "stderr",
     "output_type": "stream",
     "text": [
      "2019-12-05 23:02:28 [scrapy.core.engine] DEBUG: Crawled (200) <GET http://guba.eastmoney.com/list,zssh000001_71.html> (referer: None)\n",
      "2019-12-05 23:02:28 [scrapy.core.engine] DEBUG: Crawled (200) <GET http://guba.eastmoney.com/list,zssh000001_73.html> (referer: None)\n",
      "2019-12-05 23:02:28 [scrapy.core.engine] DEBUG: Crawled (200) <GET http://guba.eastmoney.com/list,zssh000001_74.html> (referer: None)\n",
      "2019-12-05 23:02:28 [scrapy.core.engine] DEBUG: Crawled (200) <GET http://guba.eastmoney.com/list,zssh000001_75.html> (referer: None)\n",
      "2019-12-05 23:02:28 [scrapy.core.engine] DEBUG: Crawled (200) <GET http://guba.eastmoney.com/list,zssh000001_76.html> (referer: None)\n",
      "2019-12-05 23:02:28 [scrapy.core.engine] DEBUG: Crawled (200) <GET http://guba.eastmoney.com/list,zssh000001_72.html> (referer: None)\n",
      "2019-12-05 23:02:28 [scrapy.core.engine] DEBUG: Crawled (200) <GET http://guba.eastmoney.com/list,zssh000001_77.html> (referer: None)\n",
      "2019-12-05 23:02:28 [scrapy.core.engine] DEBUG: Crawled (200) <GET http://guba.eastmoney.com/list,zssh000001_78.html> (referer: None)\n"
     ]
    },
    {
     "name": "stdout",
     "output_type": "stream",
     "text": [
      "\n"
     ]
    },
    {
     "name": "stderr",
     "output_type": "stream",
     "text": [
      "2019-12-05 23:02:29 [scrapy.core.engine] DEBUG: Crawled (200) <GET http://guba.eastmoney.com/list,zssh000001_79.html> (referer: None)\n",
      "2019-12-05 23:02:29 [scrapy.core.engine] DEBUG: Crawled (200) <GET http://guba.eastmoney.com/list,zssh000001_80.html> (referer: None)\n",
      "2019-12-05 23:02:29 [scrapy.core.engine] DEBUG: Crawled (200) <GET http://guba.eastmoney.com/list,zssh000001_81.html> (referer: None)\n",
      "2019-12-05 23:02:29 [scrapy.core.engine] DEBUG: Crawled (200) <GET http://guba.eastmoney.com/list,zssh000001_84.html> (referer: None)\n",
      "2019-12-05 23:02:29 [scrapy.core.engine] DEBUG: Crawled (200) <GET http://guba.eastmoney.com/list,zssh000001_85.html> (referer: None)\n"
     ]
    },
    {
     "name": "stdout",
     "output_type": "stream",
     "text": [
      "over: http://guba.eastmoney.com/list,zssh000001_71.html\n",
      "over: http://guba.eastmoney.com/list,zssh000001_73.html\n",
      "over: http://guba.eastmoney.com/list,zssh000001_74.html\n",
      "over: http://guba.eastmoney.com/list,zssh000001_75.html\n"
     ]
    },
    {
     "name": "stderr",
     "output_type": "stream",
     "text": [
      "2019-12-05 23:02:29 [scrapy.core.scraper] ERROR: Spider error processing <GET http://guba.eastmoney.com/list,zssh000001_72.html> (referer: None)\n",
      "Traceback (most recent call last):\n",
      "  File \"C:\\Users\\xuhon\\Anaconda3\\lib\\site-packages\\twisted\\internet\\defer.py\", line 654, in _runCallbacks\n",
      "    current.result = callback(current.result, *args, **kw)\n",
      "  File \"<ipython-input-1-c79c8daf22a6>\", line 41, in parse\n",
      "    self.csvWriter.writerow(item)\n",
      "  File \"C:\\Users\\xuhon\\Anaconda3\\lib\\csv.py\", line 155, in writerow\n",
      "    return self.writer.writerow(self._dict_to_list(rowdict))\n",
      "UnicodeEncodeError: 'gbk' codec can't encode character '\\u2022' in position 7: illegal multibyte sequence\n",
      "2019-12-05 23:02:29 [scrapy.core.engine] DEBUG: Crawled (200) <GET http://guba.eastmoney.com/list,zssh000001_82.html> (referer: None)\n",
      "2019-12-05 23:02:29 [scrapy.core.engine] DEBUG: Crawled (200) <GET http://guba.eastmoney.com/list,zssh000001_83.html> (referer: None)\n",
      "2019-12-05 23:02:29 [scrapy.core.engine] DEBUG: Crawled (200) <GET http://guba.eastmoney.com/list,zssh000001_86.html> (referer: None)\n"
     ]
    },
    {
     "name": "stdout",
     "output_type": "stream",
     "text": [
      "over: http://guba.eastmoney.com/list,zssh000001_76.html\n",
      "over: http://guba.eastmoney.com/list,zssh000001_77.html\n",
      "over: http://guba.eastmoney.com/list,zssh000001_78.html\n",
      "over: http://guba.eastmoney.com/list,zssh000001_79.html\n",
      "over: http://guba.eastmoney.com/list,zssh000001_80.html\n",
      "over: http://guba.eastmoney.com/list,zssh000001_81.html\n"
     ]
    },
    {
     "name": "stderr",
     "output_type": "stream",
     "text": [
      "2019-12-05 23:02:30 [scrapy.core.engine] DEBUG: Crawled (200) <GET http://guba.eastmoney.com/list,zssh000001_87.html> (referer: None)\n",
      "2019-12-05 23:02:30 [scrapy.core.engine] DEBUG: Crawled (200) <GET http://guba.eastmoney.com/list,zssh000001_88.html> (referer: None)\n",
      "2019-12-05 23:02:30 [scrapy.core.engine] DEBUG: Crawled (200) <GET http://guba.eastmoney.com/list,zssh000001_89.html> (referer: None)\n",
      "2019-12-05 23:02:30 [scrapy.core.engine] DEBUG: Crawled (200) <GET http://guba.eastmoney.com/list,zssh000001_90.html> (referer: None)\n",
      "2019-12-05 23:02:30 [scrapy.core.engine] DEBUG: Crawled (200) <GET http://guba.eastmoney.com/list,zssh000001_91.html> (referer: None)\n"
     ]
    },
    {
     "name": "stdout",
     "output_type": "stream",
     "text": [
      "over: http://guba.eastmoney.com/list,zssh000001_84.html\n",
      "over: http://guba.eastmoney.com/list,zssh000001_85.html\n",
      "over: http://guba.eastmoney.com/list,zssh000001_83.html\n",
      "over: http://guba.eastmoney.com/list,zssh000001_82.html\n",
      "over: http://guba.eastmoney.com/list,zssh000001_86.html\n"
     ]
    },
    {
     "name": "stderr",
     "output_type": "stream",
     "text": [
      "2019-12-05 23:02:30 [scrapy.core.engine] DEBUG: Crawled (200) <GET http://guba.eastmoney.com/list,zssh000001_93.html> (referer: None)\n",
      "2019-12-05 23:02:30 [scrapy.core.engine] DEBUG: Crawled (200) <GET http://guba.eastmoney.com/list,zssh000001_94.html> (referer: None)\n",
      "2019-12-05 23:02:30 [scrapy.core.scraper] ERROR: Spider error processing <GET http://guba.eastmoney.com/list,zssh000001_89.html> (referer: None)\n",
      "Traceback (most recent call last):\n",
      "  File \"C:\\Users\\xuhon\\Anaconda3\\lib\\site-packages\\twisted\\internet\\defer.py\", line 654, in _runCallbacks\n",
      "    current.result = callback(current.result, *args, **kw)\n",
      "  File \"<ipython-input-1-c79c8daf22a6>\", line 41, in parse\n",
      "    self.csvWriter.writerow(item)\n",
      "  File \"C:\\Users\\xuhon\\Anaconda3\\lib\\csv.py\", line 155, in writerow\n",
      "    return self.writer.writerow(self._dict_to_list(rowdict))\n",
      "UnicodeEncodeError: 'gbk' codec can't encode character '\\u22ef' in position 22: illegal multibyte sequence\n"
     ]
    },
    {
     "name": "stdout",
     "output_type": "stream",
     "text": [
      "over: http://guba.eastmoney.com/list,zssh000001_87.html\n",
      "over: http://guba.eastmoney.com/list,zssh000001_88.html\n"
     ]
    },
    {
     "name": "stderr",
     "output_type": "stream",
     "text": [
      "2019-12-05 23:02:31 [scrapy.core.engine] DEBUG: Crawled (200) <GET http://guba.eastmoney.com/list,zssh000001_95.html> (referer: None)\n"
     ]
    },
    {
     "name": "stdout",
     "output_type": "stream",
     "text": [
      "over: http://guba.eastmoney.com/list,zssh000001_90.html\n",
      "over: http://guba.eastmoney.com/list,zssh000001_91.html\n"
     ]
    },
    {
     "name": "stderr",
     "output_type": "stream",
     "text": [
      "2019-12-05 23:02:31 [scrapy.core.engine] DEBUG: Crawled (200) <GET http://guba.eastmoney.com/list,zssh000001_96.html> (referer: None)\n",
      "2019-12-05 23:02:31 [scrapy.core.engine] DEBUG: Crawled (200) <GET http://guba.eastmoney.com/list,zssh000001_92.html> (referer: None)\n"
     ]
    },
    {
     "name": "stdout",
     "output_type": "stream",
     "text": [
      "over: http://guba.eastmoney.com/list,zssh000001_93.html\n",
      "over: http://guba.eastmoney.com/list,zssh000001_94.html\n",
      "over: http://guba.eastmoney.com/list,zssh000001_95.html\n",
      "over: http://guba.eastmoney.com/list,zssh000001_96.html\n"
     ]
    },
    {
     "name": "stderr",
     "output_type": "stream",
     "text": [
      "2019-12-05 23:02:32 [scrapy.core.engine] DEBUG: Crawled (200) <GET http://guba.eastmoney.com/list,zssh000001_97.html> (referer: None)\n",
      "2019-12-05 23:02:32 [scrapy.core.engine] DEBUG: Crawled (200) <GET http://guba.eastmoney.com/list,zssh000001_98.html> (referer: None)\n"
     ]
    },
    {
     "name": "stdout",
     "output_type": "stream",
     "text": [
      "over: http://guba.eastmoney.com/list,zssh000001_92.html\n"
     ]
    },
    {
     "name": "stderr",
     "output_type": "stream",
     "text": [
      "2019-12-05 23:02:32 [scrapy.core.engine] DEBUG: Crawled (200) <GET http://guba.eastmoney.com/list,zssh000001_105.html> (referer: None)\n"
     ]
    },
    {
     "name": "stdout",
     "output_type": "stream",
     "text": [
      "over: http://guba.eastmoney.com/list,zssh000001_97.html\n",
      "over: http://guba.eastmoney.com/list,zssh000001_98.html\n"
     ]
    },
    {
     "name": "stderr",
     "output_type": "stream",
     "text": [
      "2019-12-05 23:02:32 [scrapy.core.engine] DEBUG: Crawled (200) <GET http://guba.eastmoney.com/list,zssh000001_101.html> (referer: None)\n",
      "2019-12-05 23:02:32 [scrapy.core.engine] DEBUG: Crawled (200) <GET http://guba.eastmoney.com/list,zssh000001_102.html> (referer: None)\n",
      "2019-12-05 23:02:32 [scrapy.core.engine] DEBUG: Crawled (200) <GET http://guba.eastmoney.com/list,zssh000001_103.html> (referer: None)\n",
      "2019-12-05 23:02:32 [scrapy.core.engine] DEBUG: Crawled (200) <GET http://guba.eastmoney.com/list,zssh000001_104.html> (referer: None)\n"
     ]
    },
    {
     "name": "stdout",
     "output_type": "stream",
     "text": [
      "over: http://guba.eastmoney.com/list,zssh000001_105.html\n",
      "over: http://guba.eastmoney.com/list,zssh000001_101.html\n"
     ]
    },
    {
     "name": "stderr",
     "output_type": "stream",
     "text": [
      "2019-12-05 23:02:32 [scrapy.core.engine] DEBUG: Crawled (200) <GET http://guba.eastmoney.com/list,zssh000001_100.html> (referer: None)\n"
     ]
    },
    {
     "name": "stdout",
     "output_type": "stream",
     "text": [
      "over: http://guba.eastmoney.com/list,zssh000001_102.html\n",
      "over: http://guba.eastmoney.com/list,zssh000001_103.html\n"
     ]
    },
    {
     "name": "stderr",
     "output_type": "stream",
     "text": [
      "2019-12-05 23:02:33 [scrapy.core.engine] DEBUG: Crawled (200) <GET http://guba.eastmoney.com/list,zssh000001_109.html> (referer: None)\n",
      "2019-12-05 23:02:33 [scrapy.core.engine] DEBUG: Crawled (200) <GET http://guba.eastmoney.com/list,zssh000001_110.html> (referer: None)\n",
      "2019-12-05 23:02:33 [scrapy.core.engine] DEBUG: Crawled (200) <GET http://guba.eastmoney.com/list,zssh000001_107.html> (referer: None)\n",
      "2019-12-05 23:02:33 [scrapy.core.engine] DEBUG: Crawled (200) <GET http://guba.eastmoney.com/list,zssh000001_111.html> (referer: None)\n",
      "2019-12-05 23:02:33 [scrapy.core.engine] DEBUG: Crawled (200) <GET http://guba.eastmoney.com/list,zssh000001_106.html> (referer: None)\n",
      "2019-12-05 23:02:33 [scrapy.core.engine] DEBUG: Crawled (200) <GET http://guba.eastmoney.com/list,zssh000001_99.html> (referer: None)\n",
      "2019-12-05 23:02:33 [scrapy.core.engine] DEBUG: Crawled (200) <GET http://guba.eastmoney.com/list,zssh000001_108.html> (referer: None)\n"
     ]
    },
    {
     "name": "stdout",
     "output_type": "stream",
     "text": [
      "over: http://guba.eastmoney.com/list,zssh000001_104.html\n",
      "over: http://guba.eastmoney.com/list,zssh000001_100.html\n",
      "over: http://guba.eastmoney.com/list,zssh000001_109.html\n",
      "over: http://guba.eastmoney.com/list,zssh000001_110.html\n"
     ]
    },
    {
     "name": "stderr",
     "output_type": "stream",
     "text": [
      "2019-12-05 23:02:34 [scrapy.core.scraper] ERROR: Spider error processing <GET http://guba.eastmoney.com/list,zssh000001_111.html> (referer: None)\n",
      "Traceback (most recent call last):\n",
      "  File \"C:\\Users\\xuhon\\Anaconda3\\lib\\site-packages\\twisted\\internet\\defer.py\", line 654, in _runCallbacks\n",
      "    current.result = callback(current.result, *args, **kw)\n",
      "  File \"<ipython-input-1-c79c8daf22a6>\", line 41, in parse\n",
      "    self.csvWriter.writerow(item)\n",
      "  File \"C:\\Users\\xuhon\\Anaconda3\\lib\\csv.py\", line 155, in writerow\n",
      "    return self.writer.writerow(self._dict_to_list(rowdict))\n",
      "UnicodeEncodeError: 'gbk' codec can't encode character '\\u2022' in position 7: illegal multibyte sequence\n",
      "2019-12-05 23:02:34 [scrapy.core.scraper] ERROR: Spider error processing <GET http://guba.eastmoney.com/list,zssh000001_106.html> (referer: None)\n",
      "Traceback (most recent call last):\n",
      "  File \"C:\\Users\\xuhon\\Anaconda3\\lib\\site-packages\\twisted\\internet\\defer.py\", line 654, in _runCallbacks\n",
      "    current.result = callback(current.result, *args, **kw)\n",
      "  File \"<ipython-input-1-c79c8daf22a6>\", line 41, in parse\n",
      "    self.csvWriter.writerow(item)\n",
      "  File \"C:\\Users\\xuhon\\Anaconda3\\lib\\csv.py\", line 155, in writerow\n",
      "    return self.writer.writerow(self._dict_to_list(rowdict))\n",
      "UnicodeEncodeError: 'gbk' codec can't encode character '\\u3873' in position 21: illegal multibyte sequence\n",
      "2019-12-05 23:02:34 [scrapy.core.engine] DEBUG: Crawled (200) <GET http://guba.eastmoney.com/list,zssh000001_113.html> (referer: None)\n",
      "2019-12-05 23:02:34 [scrapy.core.engine] DEBUG: Crawled (200) <GET http://guba.eastmoney.com/list,zssh000001_114.html> (referer: None)\n"
     ]
    },
    {
     "name": "stdout",
     "output_type": "stream",
     "text": [
      "over: http://guba.eastmoney.com/list,zssh000001_107.html\n",
      "over: http://guba.eastmoney.com/list,zssh000001_99.html\n",
      "over: http://guba.eastmoney.com/list,zssh000001_108.html\n"
     ]
    },
    {
     "name": "stderr",
     "output_type": "stream",
     "text": [
      "2019-12-05 23:02:34 [scrapy.core.engine] DEBUG: Crawled (200) <GET http://guba.eastmoney.com/list,zssh000001_115.html> (referer: None)\n",
      "2019-12-05 23:02:34 [scrapy.core.engine] DEBUG: Crawled (200) <GET http://guba.eastmoney.com/list,zssh000001_116.html> (referer: None)\n",
      "2019-12-05 23:02:34 [scrapy.core.engine] DEBUG: Crawled (200) <GET http://guba.eastmoney.com/list,zssh000001_112.html> (referer: None)\n",
      "2019-12-05 23:02:34 [scrapy.core.engine] DEBUG: Crawled (200) <GET http://guba.eastmoney.com/list,zssh000001_117.html> (referer: None)\n",
      "2019-12-05 23:02:34 [scrapy.core.engine] DEBUG: Crawled (200) <GET http://guba.eastmoney.com/list,zssh000001_118.html> (referer: None)\n",
      "2019-12-05 23:02:34 [scrapy.core.engine] DEBUG: Crawled (200) <GET http://guba.eastmoney.com/list,zssh000001_120.html> (referer: None)\n",
      "2019-12-05 23:02:34 [scrapy.core.engine] DEBUG: Crawled (200) <GET http://guba.eastmoney.com/list,zssh000001_125.html> (referer: None)\n",
      "2019-12-05 23:02:34 [scrapy.core.engine] DEBUG: Crawled (200) <GET http://guba.eastmoney.com/list,zssh000001_126.html> (referer: None)\n"
     ]
    },
    {
     "name": "stdout",
     "output_type": "stream",
     "text": [
      "over: http://guba.eastmoney.com/list,zssh000001_113.html\n",
      "over: http://guba.eastmoney.com/list,zssh000001_114.html\n",
      "over: http://guba.eastmoney.com/list,zssh000001_115.html\n"
     ]
    },
    {
     "name": "stderr",
     "output_type": "stream",
     "text": [
      "2019-12-05 23:02:34 [scrapy.core.engine] DEBUG: Crawled (200) <GET http://guba.eastmoney.com/list,zssh000001_121.html> (referer: None)\n"
     ]
    },
    {
     "name": "stdout",
     "output_type": "stream",
     "text": [
      "over: http://guba.eastmoney.com/list,zssh000001_116.html\n",
      "over: http://guba.eastmoney.com/list,zssh000001_112.html\n",
      "over: http://guba.eastmoney.com/list,zssh000001_117.html\n",
      "over: http://guba.eastmoney.com/list,zssh000001_118.html\n"
     ]
    },
    {
     "name": "stderr",
     "output_type": "stream",
     "text": [
      "2019-12-05 23:02:34 [scrapy.core.engine] DEBUG: Crawled (200) <GET http://guba.eastmoney.com/list,zssh000001_122.html> (referer: None)\n",
      "2019-12-05 23:02:34 [scrapy.core.engine] DEBUG: Crawled (200) <GET http://guba.eastmoney.com/list,zssh000001_123.html> (referer: None)\n",
      "2019-12-05 23:02:34 [scrapy.core.engine] DEBUG: Crawled (200) <GET http://guba.eastmoney.com/list,zssh000001_124.html> (referer: None)\n"
     ]
    },
    {
     "name": "stdout",
     "output_type": "stream",
     "text": [
      "over: http://guba.eastmoney.com/list,zssh000001_120.html\n",
      "over: http://guba.eastmoney.com/list,zssh000001_125.html\n"
     ]
    },
    {
     "name": "stderr",
     "output_type": "stream",
     "text": [
      "2019-12-05 23:02:35 [scrapy.core.engine] DEBUG: Crawled (200) <GET http://guba.eastmoney.com/list,zssh000001_127.html> (referer: None)\n",
      "2019-12-05 23:02:35 [scrapy.core.engine] DEBUG: Crawled (200) <GET http://guba.eastmoney.com/list,zssh000001_129.html> (referer: None)\n",
      "2019-12-05 23:02:35 [scrapy.core.engine] DEBUG: Crawled (200) <GET http://guba.eastmoney.com/list,zssh000001_119.html> (referer: None)\n",
      "2019-12-05 23:02:35 [scrapy.core.scraper] ERROR: Spider error processing <GET http://guba.eastmoney.com/list,zssh000001_122.html> (referer: None)\n",
      "Traceback (most recent call last):\n",
      "  File \"C:\\Users\\xuhon\\Anaconda3\\lib\\site-packages\\twisted\\internet\\defer.py\", line 654, in _runCallbacks\n",
      "    current.result = callback(current.result, *args, **kw)\n",
      "  File \"<ipython-input-1-c79c8daf22a6>\", line 41, in parse\n",
      "    self.csvWriter.writerow(item)\n",
      "  File \"C:\\Users\\xuhon\\Anaconda3\\lib\\csv.py\", line 155, in writerow\n",
      "    return self.writer.writerow(self._dict_to_list(rowdict))\n",
      "UnicodeEncodeError: 'gbk' codec can't encode character '\\u2200' in position 9: illegal multibyte sequence\n"
     ]
    },
    {
     "name": "stdout",
     "output_type": "stream",
     "text": [
      "over: http://guba.eastmoney.com/list,zssh000001_126.html\n",
      "over: http://guba.eastmoney.com/list,zssh000001_121.html\n"
     ]
    },
    {
     "name": "stderr",
     "output_type": "stream",
     "text": [
      "2019-12-05 23:02:35 [scrapy.core.engine] DEBUG: Crawled (200) <GET http://guba.eastmoney.com/list,zssh000001_131.html> (referer: None)\n",
      "2019-12-05 23:02:35 [scrapy.core.engine] DEBUG: Crawled (200) <GET http://guba.eastmoney.com/list,zssh000001_133.html> (referer: None)\n"
     ]
    },
    {
     "name": "stdout",
     "output_type": "stream",
     "text": [
      "over: http://guba.eastmoney.com/list,zssh000001_123.html\n",
      "over: http://guba.eastmoney.com/list,zssh000001_124.html\n",
      "over: http://guba.eastmoney.com/list,zssh000001_127.html\n",
      "over: http://guba.eastmoney.com/list,zssh000001_129.html"
     ]
    },
    {
     "name": "stderr",
     "output_type": "stream",
     "text": [
      "2019-12-05 23:02:35 [scrapy.core.engine] DEBUG: Crawled (200) <GET http://guba.eastmoney.com/list,zssh000001_130.html> (referer: None)\n",
      "2019-12-05 23:02:35 [scrapy.core.engine] DEBUG: Crawled (200) <GET http://guba.eastmoney.com/list,zssh000001_132.html> (referer: None)\n",
      "2019-12-05 23:02:35 [scrapy.core.engine] DEBUG: Crawled (200) <GET http://guba.eastmoney.com/list,zssh000001_128.html> (referer: None)\n"
     ]
    },
    {
     "name": "stdout",
     "output_type": "stream",
     "text": [
      "\n",
      "over: http://guba.eastmoney.com/list,zssh000001_119.html\n",
      "over: http://guba.eastmoney.com/list,zssh000001_131.html\n"
     ]
    },
    {
     "name": "stderr",
     "output_type": "stream",
     "text": [
      "2019-12-05 23:02:35 [scrapy.core.engine] DEBUG: Crawled (200) <GET http://guba.eastmoney.com/list,zssh000001_134.html> (referer: None)\n",
      "2019-12-05 23:02:35 [scrapy.core.engine] DEBUG: Crawled (200) <GET http://guba.eastmoney.com/list,zssh000001_137.html> (referer: None)\n",
      "2019-12-05 23:02:35 [scrapy.core.engine] DEBUG: Crawled (200) <GET http://guba.eastmoney.com/list,zssh000001_135.html> (referer: None)\n",
      "2019-12-05 23:02:35 [scrapy.core.engine] DEBUG: Crawled (200) <GET http://guba.eastmoney.com/list,zssh000001_136.html> (referer: None)\n",
      "2019-12-05 23:02:35 [scrapy.core.scraper] ERROR: Spider error processing <GET http://guba.eastmoney.com/list,zssh000001_130.html> (referer: None)\n",
      "Traceback (most recent call last):\n",
      "  File \"C:\\Users\\xuhon\\Anaconda3\\lib\\site-packages\\twisted\\internet\\defer.py\", line 654, in _runCallbacks\n",
      "    current.result = callback(current.result, *args, **kw)\n",
      "  File \"<ipython-input-1-c79c8daf22a6>\", line 41, in parse\n",
      "    self.csvWriter.writerow(item)\n",
      "  File \"C:\\Users\\xuhon\\Anaconda3\\lib\\csv.py\", line 155, in writerow\n",
      "    return self.writer.writerow(self._dict_to_list(rowdict))\n",
      "UnicodeEncodeError: 'gbk' codec can't encode character '\\u3405' in position 10: illegal multibyte sequence\n"
     ]
    },
    {
     "name": "stdout",
     "output_type": "stream",
     "text": [
      "over: http://guba.eastmoney.com/list,zssh000001_133.html\n",
      "over: http://guba.eastmoney.com/list,zssh000001_132.html\n",
      "over: http://guba.eastmoney.com/list,zssh000001_128.html\n",
      "over: http://guba.eastmoney.com/list,zssh000001_134.html"
     ]
    },
    {
     "name": "stderr",
     "output_type": "stream",
     "text": [
      "2019-12-05 23:02:36 [scrapy.core.engine] DEBUG: Crawled (200) <GET http://guba.eastmoney.com/list,zssh000001_139.html> (referer: None)\n",
      "2019-12-05 23:02:36 [scrapy.core.engine] DEBUG: Crawled (200) <GET http://guba.eastmoney.com/list,zssh000001_138.html> (referer: None)\n"
     ]
    },
    {
     "name": "stdout",
     "output_type": "stream",
     "text": [
      "\n",
      "over: http://guba.eastmoney.com/list,zssh000001_137.html\n",
      "over: http://guba.eastmoney.com/list,zssh000001_135.html\n",
      "over: http://guba.eastmoney.com/list,zssh000001_136.html\n"
     ]
    },
    {
     "name": "stderr",
     "output_type": "stream",
     "text": [
      "2019-12-05 23:02:36 [scrapy.core.engine] DEBUG: Crawled (200) <GET http://guba.eastmoney.com/list,zssh000001_140.html> (referer: None)\n",
      "2019-12-05 23:02:36 [scrapy.core.engine] DEBUG: Crawled (200) <GET http://guba.eastmoney.com/list,zssh000001_146.html> (referer: None)\n",
      "2019-12-05 23:02:36 [scrapy.core.engine] DEBUG: Crawled (200) <GET http://guba.eastmoney.com/list,zssh000001_144.html> (referer: None)\n",
      "2019-12-05 23:02:36 [scrapy.core.engine] DEBUG: Crawled (200) <GET http://guba.eastmoney.com/list,zssh000001_147.html> (referer: None)\n",
      "2019-12-05 23:02:36 [scrapy.core.engine] DEBUG: Crawled (200) <GET http://guba.eastmoney.com/list,zssh000001_141.html> (referer: None)\n",
      "2019-12-05 23:02:36 [scrapy.core.engine] DEBUG: Crawled (200) <GET http://guba.eastmoney.com/list,zssh000001_142.html> (referer: None)\n",
      "2019-12-05 23:02:36 [scrapy.core.engine] DEBUG: Crawled (200) <GET http://guba.eastmoney.com/list,zssh000001_143.html> (referer: None)\n",
      "2019-12-05 23:02:36 [scrapy.core.engine] DEBUG: Crawled (200) <GET http://guba.eastmoney.com/list,zssh000001_145.html> (referer: None)\n"
     ]
    },
    {
     "name": "stdout",
     "output_type": "stream",
     "text": [
      "over: http://guba.eastmoney.com/list,zssh000001_139.html\n",
      "over: http://guba.eastmoney.com/list,zssh000001_138.html\n",
      "over: http://guba.eastmoney.com/list,zssh000001_140.html\n"
     ]
    },
    {
     "name": "stderr",
     "output_type": "stream",
     "text": [
      "2019-12-05 23:02:36 [scrapy.core.scraper] ERROR: Spider error processing <GET http://guba.eastmoney.com/list,zssh000001_141.html> (referer: None)\n",
      "Traceback (most recent call last):\n",
      "  File \"C:\\Users\\xuhon\\Anaconda3\\lib\\site-packages\\twisted\\internet\\defer.py\", line 654, in _runCallbacks\n",
      "    current.result = callback(current.result, *args, **kw)\n",
      "  File \"<ipython-input-1-c79c8daf22a6>\", line 41, in parse\n",
      "    self.csvWriter.writerow(item)\n",
      "  File \"C:\\Users\\xuhon\\Anaconda3\\lib\\csv.py\", line 155, in writerow\n",
      "    return self.writer.writerow(self._dict_to_list(rowdict))\n",
      "UnicodeEncodeError: 'gbk' codec can't encode character '\\u22ef' in position 14: illegal multibyte sequence\n"
     ]
    },
    {
     "name": "stdout",
     "output_type": "stream",
     "text": [
      "over: http://guba.eastmoney.com/list,zssh000001_146.html\n",
      "over: http://guba.eastmoney.com/list,zssh000001_144.html\n",
      "over: http://guba.eastmoney.com/list,zssh000001_147.html\n"
     ]
    },
    {
     "name": "stderr",
     "output_type": "stream",
     "text": [
      "2019-12-05 23:02:36 [scrapy.core.engine] DEBUG: Crawled (200) <GET http://guba.eastmoney.com/list,zssh000001_153.html> (referer: None)\n",
      "2019-12-05 23:02:36 [scrapy.core.engine] DEBUG: Crawled (200) <GET http://guba.eastmoney.com/list,zssh000001_149.html> (referer: None)\n",
      "2019-12-05 23:02:36 [scrapy.core.engine] DEBUG: Crawled (200) <GET http://guba.eastmoney.com/list,zssh000001_154.html> (referer: None)\n",
      "2019-12-05 23:02:36 [scrapy.core.engine] DEBUG: Crawled (200) <GET http://guba.eastmoney.com/list,zssh000001_148.html> (referer: None)\n",
      "2019-12-05 23:02:36 [scrapy.core.engine] DEBUG: Crawled (200) <GET http://guba.eastmoney.com/list,zssh000001_151.html> (referer: None)\n",
      "2019-12-05 23:02:36 [scrapy.core.engine] DEBUG: Crawled (200) <GET http://guba.eastmoney.com/list,zssh000001_152.html> (referer: None)\n",
      "2019-12-05 23:02:36 [scrapy.core.engine] DEBUG: Crawled (200) <GET http://guba.eastmoney.com/list,zssh000001_150.html> (referer: None)\n",
      "2019-12-05 23:02:36 [scrapy.core.engine] DEBUG: Crawled (200) <GET http://guba.eastmoney.com/list,zssh000001_155.html> (referer: None)\n"
     ]
    },
    {
     "name": "stdout",
     "output_type": "stream",
     "text": [
      "over: http://guba.eastmoney.com/list,zssh000001_142.html\n",
      "over: http://guba.eastmoney.com/list,zssh000001_143.html\n",
      "over: http://guba.eastmoney.com/list,zssh000001_145.html\n",
      "over: http://guba.eastmoney.com/list,zssh000001_153.html\n",
      "over: http://guba.eastmoney.com/list,zssh000001_149.html\n",
      "over: http://guba.eastmoney.com/list,zssh000001_154.html\n",
      "over: http://guba.eastmoney.com/list,zssh000001_148.html\n",
      "over: http://guba.eastmoney.com/list,zssh000001_151.html\n",
      "over: http://guba.eastmoney.com/list,zssh000001_152.html\n",
      "over: http://guba.eastmoney.com/list,zssh000001_150.html\n",
      "over: http://guba.eastmoney.com/list,zssh000001_155.html\n"
     ]
    },
    {
     "name": "stderr",
     "output_type": "stream",
     "text": [
      "2019-12-05 23:02:38 [scrapy.core.engine] DEBUG: Crawled (200) <GET http://guba.eastmoney.com/list,zssh000001_156.html> (referer: None)\n",
      "2019-12-05 23:02:38 [scrapy.core.engine] DEBUG: Crawled (200) <GET http://guba.eastmoney.com/list,zssh000001_157.html> (referer: None)\n",
      "2019-12-05 23:02:38 [scrapy.core.engine] DEBUG: Crawled (200) <GET http://guba.eastmoney.com/list,zssh000001_162.html> (referer: None)\n",
      "2019-12-05 23:02:38 [scrapy.core.engine] DEBUG: Crawled (200) <GET http://guba.eastmoney.com/list,zssh000001_159.html> (referer: None)\n",
      "2019-12-05 23:02:38 [scrapy.core.engine] DEBUG: Crawled (200) <GET http://guba.eastmoney.com/list,zssh000001_160.html> (referer: None)\n",
      "2019-12-05 23:02:38 [scrapy.core.engine] DEBUG: Crawled (200) <GET http://guba.eastmoney.com/list,zssh000001_161.html> (referer: None)\n",
      "2019-12-05 23:02:38 [scrapy.core.engine] DEBUG: Crawled (200) <GET http://guba.eastmoney.com/list,zssh000001_163.html> (referer: None)\n",
      "2019-12-05 23:02:38 [scrapy.core.engine] DEBUG: Crawled (200) <GET http://guba.eastmoney.com/list,zssh000001_158.html> (referer: None)\n",
      "2019-12-05 23:02:38 [scrapy.core.engine] DEBUG: Crawled (200) <GET http://guba.eastmoney.com/list,zssh000001_164.html> (referer: None)\n"
     ]
    },
    {
     "name": "stdout",
     "output_type": "stream",
     "text": [
      "over: http://guba.eastmoney.com/list,zssh000001_156.html\n",
      "over: http://guba.eastmoney.com/list,zssh000001_157.html\n",
      "over: http://guba.eastmoney.com/list,zssh000001_162.html\n",
      "over: http://guba.eastmoney.com/list,zssh000001_159.html\n",
      "over: http://guba.eastmoney.com/list,zssh000001_160.html\n"
     ]
    },
    {
     "name": "stderr",
     "output_type": "stream",
     "text": [
      "2019-12-05 23:02:38 [scrapy.core.engine] DEBUG: Crawled (200) <GET http://guba.eastmoney.com/list,zssh000001_165.html> (referer: None)\n",
      "2019-12-05 23:02:38 [scrapy.core.engine] DEBUG: Crawled (200) <GET http://guba.eastmoney.com/list,zssh000001_171.html> (referer: None)\n",
      "2019-12-05 23:02:38 [scrapy.core.engine] DEBUG: Crawled (200) <GET http://guba.eastmoney.com/list,zssh000001_167.html> (referer: None)\n",
      "2019-12-05 23:02:38 [scrapy.core.engine] DEBUG: Crawled (200) <GET http://guba.eastmoney.com/list,zssh000001_168.html> (referer: None)\n",
      "2019-12-05 23:02:38 [scrapy.core.engine] DEBUG: Crawled (200) <GET http://guba.eastmoney.com/list,zssh000001_169.html> (referer: None)\n",
      "2019-12-05 23:02:38 [scrapy.core.engine] DEBUG: Crawled (200) <GET http://guba.eastmoney.com/list,zssh000001_170.html> (referer: None)\n",
      "2019-12-05 23:02:38 [scrapy.core.scraper] ERROR: Spider error processing <GET http://guba.eastmoney.com/list,zssh000001_164.html> (referer: None)\n",
      "Traceback (most recent call last):\n",
      "  File \"C:\\Users\\xuhon\\Anaconda3\\lib\\site-packages\\twisted\\internet\\defer.py\", line 654, in _runCallbacks\n",
      "    current.result = callback(current.result, *args, **kw)\n",
      "  File \"<ipython-input-1-c79c8daf22a6>\", line 41, in parse\n",
      "    self.csvWriter.writerow(item)\n",
      "  File \"C:\\Users\\xuhon\\Anaconda3\\lib\\csv.py\", line 155, in writerow\n",
      "    return self.writer.writerow(self._dict_to_list(rowdict))\n",
      "UnicodeEncodeError: 'gbk' codec can't encode character '\\u2022' in position 7: illegal multibyte sequence\n",
      "2019-12-05 23:02:38 [scrapy.core.engine] DEBUG: Crawled (200) <GET http://guba.eastmoney.com/list,zssh000001_166.html> (referer: None)\n"
     ]
    },
    {
     "name": "stdout",
     "output_type": "stream",
     "text": [
      "over: http://guba.eastmoney.com/list,zssh000001_161.html\n",
      "over: http://guba.eastmoney.com/list,zssh000001_163.html\n",
      "over: http://guba.eastmoney.com/list,zssh000001_158.html\n",
      "over: http://guba.eastmoney.com/list,zssh000001_165.html\n"
     ]
    },
    {
     "name": "stderr",
     "output_type": "stream",
     "text": [
      "2019-12-05 23:02:38 [scrapy.core.scraper] ERROR: Spider error processing <GET http://guba.eastmoney.com/list,zssh000001_169.html> (referer: None)\n",
      "Traceback (most recent call last):\n",
      "  File \"C:\\Users\\xuhon\\Anaconda3\\lib\\site-packages\\twisted\\internet\\defer.py\", line 654, in _runCallbacks\n",
      "    current.result = callback(current.result, *args, **kw)\n",
      "  File \"<ipython-input-1-c79c8daf22a6>\", line 41, in parse\n",
      "    self.csvWriter.writerow(item)\n",
      "  File \"C:\\Users\\xuhon\\Anaconda3\\lib\\csv.py\", line 155, in writerow\n",
      "    return self.writer.writerow(self._dict_to_list(rowdict))\n",
      "UnicodeEncodeError: 'gbk' codec can't encode character '\\u22ef' in position 29: illegal multibyte sequence\n",
      "2019-12-05 23:02:38 [scrapy.core.engine] DEBUG: Crawled (200) <GET http://guba.eastmoney.com/list,zssh000001_172.html> (referer: None)\n",
      "2019-12-05 23:02:38 [scrapy.core.engine] DEBUG: Crawled (200) <GET http://guba.eastmoney.com/list,zssh000001_176.html> (referer: None)\n",
      "2019-12-05 23:02:38 [scrapy.core.engine] DEBUG: Crawled (200) <GET http://guba.eastmoney.com/list,zssh000001_177.html> (referer: None)\n",
      "2019-12-05 23:02:38 [scrapy.core.engine] DEBUG: Crawled (200) <GET http://guba.eastmoney.com/list,zssh000001_179.html> (referer: None)\n",
      "2019-12-05 23:02:38 [scrapy.core.engine] DEBUG: Crawled (200) <GET http://guba.eastmoney.com/list,zssh000001_178.html> (referer: None)\n"
     ]
    },
    {
     "name": "stdout",
     "output_type": "stream",
     "text": [
      "over: http://guba.eastmoney.com/list,zssh000001_171.html\n",
      "over: http://guba.eastmoney.com/list,zssh000001_167.html\n",
      "over: http://guba.eastmoney.com/list,zssh000001_168.html\n",
      "over: http://guba.eastmoney.com/list,zssh000001_170.html\n"
     ]
    },
    {
     "name": "stderr",
     "output_type": "stream",
     "text": [
      "2019-12-05 23:02:38 [scrapy.core.engine] DEBUG: Crawled (200) <GET http://guba.eastmoney.com/list,zssh000001_173.html> (referer: None)\n",
      "2019-12-05 23:02:38 [scrapy.core.engine] DEBUG: Crawled (200) <GET http://guba.eastmoney.com/list,zssh000001_174.html> (referer: None)\n",
      "2019-12-05 23:02:38 [scrapy.core.engine] DEBUG: Crawled (200) <GET http://guba.eastmoney.com/list,zssh000001_175.html> (referer: None)\n",
      "2019-12-05 23:02:38 [scrapy.core.scraper] ERROR: Spider error processing <GET http://guba.eastmoney.com/list,zssh000001_177.html> (referer: None)\n",
      "Traceback (most recent call last):\n",
      "  File \"C:\\Users\\xuhon\\Anaconda3\\lib\\site-packages\\twisted\\internet\\defer.py\", line 654, in _runCallbacks\n",
      "    current.result = callback(current.result, *args, **kw)\n",
      "  File \"<ipython-input-1-c79c8daf22a6>\", line 41, in parse\n",
      "    self.csvWriter.writerow(item)\n",
      "  File \"C:\\Users\\xuhon\\Anaconda3\\lib\\csv.py\", line 155, in writerow\n",
      "    return self.writer.writerow(self._dict_to_list(rowdict))\n",
      "UnicodeEncodeError: 'gbk' codec can't encode character '\\u393a' in position 4: illegal multibyte sequence\n"
     ]
    },
    {
     "name": "stdout",
     "output_type": "stream",
     "text": [
      "over: http://guba.eastmoney.com/list,zssh000001_166.html\n",
      "over: http://guba.eastmoney.com/list,zssh000001_172.html\n",
      "over: http://guba.eastmoney.com/list,zssh000001_176.html\n",
      "over: http://guba.eastmoney.com/list,zssh000001_179.html\n"
     ]
    },
    {
     "name": "stderr",
     "output_type": "stream",
     "text": [
      "2019-12-05 23:02:39 [scrapy.core.engine] DEBUG: Crawled (200) <GET http://guba.eastmoney.com/list,zssh000001_180.html> (referer: None)\n",
      "2019-12-05 23:02:39 [scrapy.core.engine] DEBUG: Crawled (200) <GET http://guba.eastmoney.com/list,zssh000001_186.html> (referer: None)\n",
      "2019-12-05 23:02:39 [scrapy.core.engine] DEBUG: Crawled (200) <GET http://guba.eastmoney.com/list,zssh000001_187.html> (referer: None)\n",
      "2019-12-05 23:02:39 [scrapy.core.engine] DEBUG: Crawled (200) <GET http://guba.eastmoney.com/list,zssh000001_181.html> (referer: None)\n",
      "2019-12-05 23:02:39 [scrapy.core.engine] DEBUG: Crawled (200) <GET http://guba.eastmoney.com/list,zssh000001_183.html> (referer: None)\n",
      "2019-12-05 23:02:39 [scrapy.core.engine] DEBUG: Crawled (200) <GET http://guba.eastmoney.com/list,zssh000001_184.html> (referer: None)\n",
      "2019-12-05 23:02:39 [scrapy.core.engine] DEBUG: Crawled (200) <GET http://guba.eastmoney.com/list,zssh000001_185.html> (referer: None)\n"
     ]
    },
    {
     "name": "stdout",
     "output_type": "stream",
     "text": [
      "over: http://guba.eastmoney.com/list,zssh000001_178.html\n",
      "over: http://guba.eastmoney.com/list,zssh000001_173.html\n",
      "over: http://guba.eastmoney.com/list,zssh000001_174.html\n",
      "over: http://guba.eastmoney.com/list,zssh000001_175.html\n",
      "over: http://guba.eastmoney.com/list,zssh000001_180.html\n",
      "over: http://guba.eastmoney.com/list,zssh000001_186.html\n",
      "over: http://guba.eastmoney.com/list,zssh000001_187.html\n",
      "over: http://guba.eastmoney.com/list,zssh000001_181.html\n"
     ]
    },
    {
     "name": "stderr",
     "output_type": "stream",
     "text": [
      "2019-12-05 23:02:39 [scrapy.core.engine] DEBUG: Crawled (200) <GET http://guba.eastmoney.com/list,zssh000001_188.html> (referer: None)\n",
      "2019-12-05 23:02:39 [scrapy.core.engine] DEBUG: Crawled (200) <GET http://guba.eastmoney.com/list,zssh000001_189.html> (referer: None)\n",
      "2019-12-05 23:02:39 [scrapy.core.engine] DEBUG: Crawled (200) <GET http://guba.eastmoney.com/list,zssh000001_190.html> (referer: None)\n",
      "2019-12-05 23:02:39 [scrapy.core.engine] DEBUG: Crawled (200) <GET http://guba.eastmoney.com/list,zssh000001_191.html> (referer: None)\n",
      "2019-12-05 23:02:39 [scrapy.core.engine] DEBUG: Crawled (200) <GET http://guba.eastmoney.com/list,zssh000001_192.html> (referer: None)\n"
     ]
    },
    {
     "name": "stdout",
     "output_type": "stream",
     "text": [
      "over: http://guba.eastmoney.com/list,zssh000001_183.html\n",
      "over: http://guba.eastmoney.com/list,zssh000001_184.html\n",
      "over: http://guba.eastmoney.com/list,zssh000001_185.html\n"
     ]
    },
    {
     "name": "stderr",
     "output_type": "stream",
     "text": [
      "2019-12-05 23:02:39 [scrapy.core.scraper] ERROR: Spider error processing <GET http://guba.eastmoney.com/list,zssh000001_189.html> (referer: None)\n",
      "Traceback (most recent call last):\n",
      "  File \"C:\\Users\\xuhon\\Anaconda3\\lib\\site-packages\\twisted\\internet\\defer.py\", line 654, in _runCallbacks\n",
      "    current.result = callback(current.result, *args, **kw)\n",
      "  File \"<ipython-input-1-c79c8daf22a6>\", line 41, in parse\n",
      "    self.csvWriter.writerow(item)\n",
      "  File \"C:\\Users\\xuhon\\Anaconda3\\lib\\csv.py\", line 155, in writerow\n",
      "    return self.writer.writerow(self._dict_to_list(rowdict))\n",
      "UnicodeEncodeError: 'gbk' codec can't encode character '\\u2200' in position 34: illegal multibyte sequence\n",
      "2019-12-05 23:02:39 [scrapy.core.engine] DEBUG: Crawled (200) <GET http://guba.eastmoney.com/list,zssh000001_182.html> (referer: None)\n",
      "2019-12-05 23:02:39 [scrapy.core.engine] DEBUG: Crawled (200) <GET http://guba.eastmoney.com/list,zssh000001_199.html> (referer: None)\n"
     ]
    },
    {
     "name": "stdout",
     "output_type": "stream",
     "text": [
      "over: http://guba.eastmoney.com/list,zssh000001_188.html\n",
      "over: http://guba.eastmoney.com/list,zssh000001_190.html\n",
      "over: http://guba.eastmoney.com/list,zssh000001_191.html\n",
      "over: http://guba.eastmoney.com/list,zssh000001_192.html\n"
     ]
    },
    {
     "name": "stderr",
     "output_type": "stream",
     "text": [
      "2019-12-05 23:02:39 [scrapy.core.engine] DEBUG: Crawled (200) <GET http://guba.eastmoney.com/list,zssh000001_193.html> (referer: None)\n",
      "2019-12-05 23:02:39 [scrapy.core.engine] DEBUG: Crawled (200) <GET http://guba.eastmoney.com/list,zssh000001_194.html> (referer: None)\n",
      "2019-12-05 23:02:39 [scrapy.core.engine] DEBUG: Crawled (200) <GET http://guba.eastmoney.com/list,zssh000001_197.html> (referer: None)\n",
      "2019-12-05 23:02:40 [scrapy.core.engine] DEBUG: Crawled (200) <GET http://guba.eastmoney.com/list,zssh000001_196.html> (referer: None)\n",
      "2019-12-05 23:02:40 [scrapy.core.engine] DEBUG: Crawled (200) <GET http://guba.eastmoney.com/list,zssh000001_198.html> (referer: None)\n",
      "2019-12-05 23:02:40 [scrapy.core.engine] DEBUG: Crawled (200) <GET http://guba.eastmoney.com/list,zssh000001_195.html> (referer: None)\n",
      "2019-12-05 23:02:40 [scrapy.core.engine] DEBUG: Crawled (200) <GET http://guba.eastmoney.com/list,zssh000001_203.html> (referer: None)\n",
      "2019-12-05 23:02:40 [scrapy.core.engine] DEBUG: Crawled (200) <GET http://guba.eastmoney.com/list,zssh000001_200.html> (referer: None)\n",
      "2019-12-05 23:02:40 [scrapy.core.engine] DEBUG: Crawled (200) <GET http://guba.eastmoney.com/list,zssh000001_201.html> (referer: None)\n",
      "2019-12-05 23:02:40 [scrapy.core.engine] DEBUG: Crawled (200) <GET http://guba.eastmoney.com/list,zssh000001_202.html> (referer: None)\n"
     ]
    },
    {
     "name": "stdout",
     "output_type": "stream",
     "text": [
      "over: http://guba.eastmoney.com/list,zssh000001_182.html\n",
      "over: http://guba.eastmoney.com/list,zssh000001_199.html\n",
      "over: http://guba.eastmoney.com/list,zssh000001_193.html\n"
     ]
    },
    {
     "name": "stderr",
     "output_type": "stream",
     "text": [
      "2019-12-05 23:02:40 [scrapy.core.scraper] ERROR: Spider error processing <GET http://guba.eastmoney.com/list,zssh000001_197.html> (referer: None)\n",
      "Traceback (most recent call last):\n",
      "  File \"C:\\Users\\xuhon\\Anaconda3\\lib\\site-packages\\twisted\\internet\\defer.py\", line 654, in _runCallbacks\n",
      "    current.result = callback(current.result, *args, **kw)\n",
      "  File \"<ipython-input-1-c79c8daf22a6>\", line 41, in parse\n",
      "    self.csvWriter.writerow(item)\n",
      "  File \"C:\\Users\\xuhon\\Anaconda3\\lib\\csv.py\", line 155, in writerow\n",
      "    return self.writer.writerow(self._dict_to_list(rowdict))\n",
      "UnicodeEncodeError: 'gbk' codec can't encode character '\\u2022' in position 5: illegal multibyte sequence\n",
      "2019-12-05 23:02:40 [scrapy.core.engine] DEBUG: Crawled (200) <GET http://guba.eastmoney.com/list,zssh000001_204.html> (referer: None)\n",
      "2019-12-05 23:02:40 [scrapy.core.engine] DEBUG: Crawled (200) <GET http://guba.eastmoney.com/list,zssh000001_206.html> (referer: None)\n"
     ]
    },
    {
     "name": "stdout",
     "output_type": "stream",
     "text": [
      "over: http://guba.eastmoney.com/list,zssh000001_194.html\n",
      "over: http://guba.eastmoney.com/list,zssh000001_196.html\n",
      "over: http://guba.eastmoney.com/list,zssh000001_198.html\n",
      "over: http://guba.eastmoney.com/list,zssh000001_195.html\n",
      "over: http://guba.eastmoney.com/list,zssh000001_203.html\n",
      "over: http://guba.eastmoney.com/list,zssh000001_200.html\n",
      "over: http://guba.eastmoney.com/list,zssh000001_201.html\n"
     ]
    },
    {
     "name": "stderr",
     "output_type": "stream",
     "text": [
      "2019-12-05 23:02:40 [scrapy.core.engine] DEBUG: Crawled (200) <GET http://guba.eastmoney.com/list,zssh000001_207.html> (referer: None)\n",
      "2019-12-05 23:02:40 [scrapy.core.engine] DEBUG: Crawled (200) <GET http://guba.eastmoney.com/list,zssh000001_208.html> (referer: None)\n",
      "2019-12-05 23:02:40 [scrapy.core.engine] DEBUG: Crawled (200) <GET http://guba.eastmoney.com/list,zssh000001_205.html> (referer: None)\n",
      "2019-12-05 23:02:40 [scrapy.core.engine] DEBUG: Crawled (200) <GET http://guba.eastmoney.com/list,zssh000001_209.html> (referer: None)\n",
      "2019-12-05 23:02:40 [scrapy.core.engine] DEBUG: Crawled (200) <GET http://guba.eastmoney.com/list,zssh000001_210.html> (referer: None)\n",
      "2019-12-05 23:02:40 [scrapy.core.engine] DEBUG: Crawled (200) <GET http://guba.eastmoney.com/list,zssh000001_211.html> (referer: None)\n"
     ]
    },
    {
     "name": "stdout",
     "output_type": "stream",
     "text": [
      "over: http://guba.eastmoney.com/list,zssh000001_202.html\n",
      "over: http://guba.eastmoney.com/list,zssh000001_204.html\n"
     ]
    },
    {
     "name": "stderr",
     "output_type": "stream",
     "text": [
      "2019-12-05 23:02:41 [scrapy.core.engine] DEBUG: Crawled (200) <GET http://guba.eastmoney.com/list,zssh000001_212.html> (referer: None)\n",
      "2019-12-05 23:02:41 [scrapy.core.engine] DEBUG: Crawled (200) <GET http://guba.eastmoney.com/list,zssh000001_213.html> (referer: None)\n"
     ]
    },
    {
     "name": "stdout",
     "output_type": "stream",
     "text": [
      "over: http://guba.eastmoney.com/list,zssh000001_206.html\n"
     ]
    },
    {
     "name": "stderr",
     "output_type": "stream",
     "text": [
      "2019-12-05 23:02:41 [scrapy.core.scraper] ERROR: Spider error processing <GET http://guba.eastmoney.com/list,zssh000001_208.html> (referer: None)\n",
      "Traceback (most recent call last):\n",
      "  File \"C:\\Users\\xuhon\\Anaconda3\\lib\\site-packages\\twisted\\internet\\defer.py\", line 654, in _runCallbacks\n",
      "    current.result = callback(current.result, *args, **kw)\n",
      "  File \"<ipython-input-1-c79c8daf22a6>\", line 41, in parse\n",
      "    self.csvWriter.writerow(item)\n",
      "  File \"C:\\Users\\xuhon\\Anaconda3\\lib\\csv.py\", line 155, in writerow\n",
      "    return self.writer.writerow(self._dict_to_list(rowdict))\n",
      "UnicodeEncodeError: 'gbk' codec can't encode character '\\u2022' in position 5: illegal multibyte sequence\n"
     ]
    },
    {
     "name": "stdout",
     "output_type": "stream",
     "text": [
      "over: http://guba.eastmoney.com/list,zssh000001_207.html\n",
      "over: http://guba.eastmoney.com/list,zssh000001_205.html\n",
      "over: http://guba.eastmoney.com/list,zssh000001_209.html\n"
     ]
    },
    {
     "name": "stderr",
     "output_type": "stream",
     "text": [
      "2019-12-05 23:02:41 [scrapy.core.engine] DEBUG: Crawled (200) <GET http://guba.eastmoney.com/list,zssh000001_215.html> (referer: None)\n"
     ]
    },
    {
     "name": "stdout",
     "output_type": "stream",
     "text": [
      "over: http://guba.eastmoney.com/list,zssh000001_210.html\n",
      "over: http://guba.eastmoney.com/list,zssh000001_211.html\n",
      "over: http://guba.eastmoney.com/list,zssh000001_212.html\n",
      "over: http://guba.eastmoney.com/list,zssh000001_213.html\n"
     ]
    },
    {
     "name": "stderr",
     "output_type": "stream",
     "text": [
      "2019-12-05 23:02:42 [scrapy.core.engine] DEBUG: Crawled (200) <GET http://guba.eastmoney.com/list,zssh000001_214.html> (referer: None)\n",
      "2019-12-05 23:02:42 [scrapy.core.engine] DEBUG: Crawled (200) <GET http://guba.eastmoney.com/list,zssh000001_216.html> (referer: None)\n",
      "2019-12-05 23:02:42 [scrapy.core.engine] DEBUG: Crawled (200) <GET http://guba.eastmoney.com/list,zssh000001_217.html> (referer: None)\n"
     ]
    },
    {
     "name": "stdout",
     "output_type": "stream",
     "text": [
      "over: http://guba.eastmoney.com/list,zssh000001_215.html\n",
      "over: http://guba.eastmoney.com/list,zssh000001_214.html\n"
     ]
    },
    {
     "name": "stderr",
     "output_type": "stream",
     "text": [
      "2019-12-05 23:02:42 [scrapy.core.engine] DEBUG: Crawled (200) <GET http://guba.eastmoney.com/list,zssh000001_222.html> (referer: None)\n",
      "2019-12-05 23:02:42 [scrapy.core.engine] DEBUG: Crawled (200) <GET http://guba.eastmoney.com/list,zssh000001_220.html> (referer: None)\n",
      "2019-12-05 23:02:42 [scrapy.core.engine] DEBUG: Crawled (200) <GET http://guba.eastmoney.com/list,zssh000001_218.html> (referer: None)\n",
      "2019-12-05 23:02:42 [scrapy.core.engine] DEBUG: Crawled (200) <GET http://guba.eastmoney.com/list,zssh000001_224.html> (referer: None)\n",
      "2019-12-05 23:02:42 [scrapy.core.engine] DEBUG: Crawled (200) <GET http://guba.eastmoney.com/list,zssh000001_223.html> (referer: None)\n",
      "2019-12-05 23:02:42 [scrapy.core.engine] DEBUG: Crawled (200) <GET http://guba.eastmoney.com/list,zssh000001_225.html> (referer: None)\n"
     ]
    },
    {
     "name": "stdout",
     "output_type": "stream",
     "text": [
      "over: http://guba.eastmoney.com/list,zssh000001_216.html\n",
      "over: http://guba.eastmoney.com/list,zssh000001_217.html\n",
      "over: http://guba.eastmoney.com/list,zssh000001_222.html\n",
      "over: http://guba.eastmoney.com/list,zssh000001_220.html\n",
      "over: http://guba.eastmoney.com/list,zssh000001_218.html\n",
      "over: http://guba.eastmoney.com/list,zssh000001_224.html\n"
     ]
    },
    {
     "name": "stderr",
     "output_type": "stream",
     "text": [
      "2019-12-05 23:02:43 [scrapy.core.engine] DEBUG: Crawled (200) <GET http://guba.eastmoney.com/list,zssh000001_230.html> (referer: None)\n",
      "2019-12-05 23:02:43 [scrapy.core.engine] DEBUG: Crawled (200) <GET http://guba.eastmoney.com/list,zssh000001_226.html> (referer: None)\n",
      "2019-12-05 23:02:43 [scrapy.core.engine] DEBUG: Crawled (200) <GET http://guba.eastmoney.com/list,zssh000001_229.html> (referer: None)\n",
      "2019-12-05 23:02:43 [scrapy.core.engine] DEBUG: Crawled (200) <GET http://guba.eastmoney.com/list,zssh000001_227.html> (referer: None)\n",
      "2019-12-05 23:02:43 [scrapy.core.engine] DEBUG: Crawled (200) <GET http://guba.eastmoney.com/list,zssh000001_221.html> (referer: None)\n",
      "2019-12-05 23:02:43 [scrapy.core.engine] DEBUG: Crawled (200) <GET http://guba.eastmoney.com/list,zssh000001_231.html> (referer: None)\n",
      "2019-12-05 23:02:43 [scrapy.core.engine] DEBUG: Crawled (200) <GET http://guba.eastmoney.com/list,zssh000001_228.html> (referer: None)\n",
      "2019-12-05 23:02:43 [scrapy.core.engine] DEBUG: Crawled (200) <GET http://guba.eastmoney.com/list,zssh000001_219.html> (referer: None)\n"
     ]
    },
    {
     "name": "stdout",
     "output_type": "stream",
     "text": [
      "over: http://guba.eastmoney.com/list,zssh000001_223.html\n",
      "over: http://guba.eastmoney.com/list,zssh000001_225.html\n",
      "over: http://guba.eastmoney.com/list,zssh000001_230.html\n",
      "over: http://guba.eastmoney.com/list,zssh000001_226.html\n"
     ]
    },
    {
     "name": "stderr",
     "output_type": "stream",
     "text": [
      "2019-12-05 23:02:44 [scrapy.core.engine] DEBUG: Crawled (200) <GET http://guba.eastmoney.com/list,zssh000001_232.html> (referer: None)\n",
      "2019-12-05 23:02:44 [scrapy.core.engine] DEBUG: Crawled (200) <GET http://guba.eastmoney.com/list,zssh000001_233.html> (referer: None)\n",
      "2019-12-05 23:02:44 [scrapy.core.engine] DEBUG: Crawled (200) <GET http://guba.eastmoney.com/list,zssh000001_234.html> (referer: None)\n",
      "2019-12-05 23:02:44 [scrapy.core.engine] DEBUG: Crawled (200) <GET http://guba.eastmoney.com/list,zssh000001_235.html> (referer: None)\n",
      "2019-12-05 23:02:44 [scrapy.core.engine] DEBUG: Crawled (200) <GET http://guba.eastmoney.com/list,zssh000001_236.html> (referer: None)\n",
      "2019-12-05 23:02:44 [scrapy.core.engine] DEBUG: Crawled (200) <GET http://guba.eastmoney.com/list,zssh000001_237.html> (referer: None)\n",
      "2019-12-05 23:02:44 [scrapy.core.engine] DEBUG: Crawled (200) <GET http://guba.eastmoney.com/list,zssh000001_238.html> (referer: None)\n",
      "2019-12-05 23:02:44 [scrapy.core.engine] DEBUG: Crawled (200) <GET http://guba.eastmoney.com/list,zssh000001_239.html> (referer: None)\n"
     ]
    },
    {
     "name": "stdout",
     "output_type": "stream",
     "text": [
      "over: http://guba.eastmoney.com/list,zssh000001_229.html\n",
      "over: http://guba.eastmoney.com/list,zssh000001_227.html\n",
      "over: http://guba.eastmoney.com/list,zssh000001_221.html\n",
      "over: http://guba.eastmoney.com/list,zssh000001_231.html\n",
      "over: http://guba.eastmoney.com/list,zssh000001_228.html\n",
      "over: http://guba.eastmoney.com/list,zssh000001_219.html\n",
      "over: http://guba.eastmoney.com/list,zssh000001_232.html\n",
      "over: http://guba.eastmoney.com/list,zssh000001_233.html\n",
      "over: http://guba.eastmoney.com/list,zssh000001_234.html\n",
      "over: http://guba.eastmoney.com/list,zssh000001_235.html\n",
      "over: http://guba.eastmoney.com/list,zssh000001_236.html\n",
      "over: http://guba.eastmoney.com/list,zssh000001_237.html\n",
      "over: http://guba.eastmoney.com/list,zssh000001_238.html\n"
     ]
    },
    {
     "name": "stderr",
     "output_type": "stream",
     "text": [
      "2019-12-05 23:02:45 [scrapy.core.engine] DEBUG: Crawled (200) <GET http://guba.eastmoney.com/list,zssh000001_240.html> (referer: None)\n",
      "2019-12-05 23:02:45 [scrapy.core.engine] DEBUG: Crawled (200) <GET http://guba.eastmoney.com/list,zssh000001_241.html> (referer: None)\n",
      "2019-12-05 23:02:45 [scrapy.core.engine] DEBUG: Crawled (200) <GET http://guba.eastmoney.com/list,zssh000001_242.html> (referer: None)\n",
      "2019-12-05 23:02:45 [scrapy.core.engine] DEBUG: Crawled (200) <GET http://guba.eastmoney.com/list,zssh000001_243.html> (referer: None)\n",
      "2019-12-05 23:02:45 [scrapy.core.engine] DEBUG: Crawled (200) <GET http://guba.eastmoney.com/list,zssh000001_244.html> (referer: None)\n",
      "2019-12-05 23:02:45 [scrapy.core.engine] DEBUG: Crawled (200) <GET http://guba.eastmoney.com/list,zssh000001_245.html> (referer: None)\n",
      "2019-12-05 23:02:45 [scrapy.core.engine] DEBUG: Crawled (200) <GET http://guba.eastmoney.com/list,zssh000001_246.html> (referer: None)\n",
      "2019-12-05 23:02:45 [scrapy.core.engine] DEBUG: Crawled (200) <GET http://guba.eastmoney.com/list,zssh000001_247.html> (referer: None)\n"
     ]
    },
    {
     "name": "stdout",
     "output_type": "stream",
     "text": [
      "over: http://guba.eastmoney.com/list,zssh000001_239.html\n"
     ]
    },
    {
     "name": "stderr",
     "output_type": "stream",
     "text": [
      "2019-12-05 23:02:45 [scrapy.core.engine] DEBUG: Crawled (200) <GET http://guba.eastmoney.com/list,zssh000001_248.html> (referer: None)\n",
      "2019-12-05 23:02:45 [scrapy.core.engine] DEBUG: Crawled (200) <GET http://guba.eastmoney.com/list,zssh000001_249.html> (referer: None)\n",
      "2019-12-05 23:02:45 [scrapy.core.engine] DEBUG: Crawled (200) <GET http://guba.eastmoney.com/list,zssh000001_250.html> (referer: None)\n",
      "2019-12-05 23:02:45 [scrapy.core.engine] DEBUG: Crawled (200) <GET http://guba.eastmoney.com/list,zssh000001_251.html> (referer: None)\n",
      "2019-12-05 23:02:45 [scrapy.core.engine] DEBUG: Crawled (200) <GET http://guba.eastmoney.com/list,zssh000001_252.html> (referer: None)\n",
      "2019-12-05 23:02:45 [scrapy.core.engine] DEBUG: Crawled (200) <GET http://guba.eastmoney.com/list,zssh000001_253.html> (referer: None)\n",
      "2019-12-05 23:02:45 [scrapy.core.engine] DEBUG: Crawled (200) <GET http://guba.eastmoney.com/list,zssh000001_254.html> (referer: None)\n",
      "2019-12-05 23:02:45 [scrapy.core.engine] DEBUG: Crawled (200) <GET http://guba.eastmoney.com/list,zssh000001_255.html> (referer: None)\n"
     ]
    },
    {
     "name": "stdout",
     "output_type": "stream",
     "text": [
      "over: http://guba.eastmoney.com/list,zssh000001_240.html\n",
      "over: http://guba.eastmoney.com/list,zssh000001_241.html\n",
      "over: http://guba.eastmoney.com/list,zssh000001_242.html\n",
      "over: http://guba.eastmoney.com/list,zssh000001_243.html\n",
      "over: http://guba.eastmoney.com/list,zssh000001_244.html\n",
      "over: http://guba.eastmoney.com/list,zssh000001_245.html\n",
      "over: http://guba.eastmoney.com/list,zssh000001_246.html\n",
      "over: http://guba.eastmoney.com/list,zssh000001_247.html"
     ]
    },
    {
     "name": "stderr",
     "output_type": "stream",
     "text": [
      "2019-12-05 23:02:45 [scrapy.core.scraper] ERROR: Spider error processing <GET http://guba.eastmoney.com/list,zssh000001_248.html> (referer: None)\n",
      "Traceback (most recent call last):\n",
      "  File \"C:\\Users\\xuhon\\Anaconda3\\lib\\site-packages\\twisted\\internet\\defer.py\", line 654, in _runCallbacks\n",
      "    current.result = callback(current.result, *args, **kw)\n",
      "  File \"<ipython-input-1-c79c8daf22a6>\", line 41, in parse\n",
      "    self.csvWriter.writerow(item)\n",
      "  File \"C:\\Users\\xuhon\\Anaconda3\\lib\\csv.py\", line 155, in writerow\n",
      "    return self.writer.writerow(self._dict_to_list(rowdict))\n",
      "UnicodeEncodeError: 'gbk' codec can't encode character '\\u2022' in position 14: illegal multibyte sequence\n"
     ]
    },
    {
     "name": "stdout",
     "output_type": "stream",
     "text": [
      "\n",
      "over: http://guba.eastmoney.com/list,zssh000001_249.html\n",
      "over: http://guba.eastmoney.com/list,zssh000001_250.html\n",
      "over: http://guba.eastmoney.com/list,zssh000001_251.html\n",
      "over: http://guba.eastmoney.com/list,zssh000001_252.html\n"
     ]
    },
    {
     "name": "stderr",
     "output_type": "stream",
     "text": [
      "2019-12-05 23:02:46 [scrapy.core.engine] DEBUG: Crawled (200) <GET http://guba.eastmoney.com/list,zssh000001_256.html> (referer: None)\n",
      "2019-12-05 23:02:46 [scrapy.core.engine] DEBUG: Crawled (200) <GET http://guba.eastmoney.com/list,zssh000001_257.html> (referer: None)\n",
      "2019-12-05 23:02:46 [scrapy.core.engine] DEBUG: Crawled (200) <GET http://guba.eastmoney.com/list,zssh000001_259.html> (referer: None)\n",
      "2019-12-05 23:02:46 [scrapy.core.engine] DEBUG: Crawled (200) <GET http://guba.eastmoney.com/list,zssh000001_260.html> (referer: None)\n",
      "2019-12-05 23:02:46 [scrapy.core.engine] DEBUG: Crawled (200) <GET http://guba.eastmoney.com/list,zssh000001_261.html> (referer: None)\n",
      "2019-12-05 23:02:46 [scrapy.core.engine] DEBUG: Crawled (200) <GET http://guba.eastmoney.com/list,zssh000001_262.html> (referer: None)\n",
      "2019-12-05 23:02:46 [scrapy.core.engine] DEBUG: Crawled (200) <GET http://guba.eastmoney.com/list,zssh000001_263.html> (referer: None)\n",
      "2019-12-05 23:02:46 [scrapy.core.engine] DEBUG: Crawled (200) <GET http://guba.eastmoney.com/list,zssh000001_258.html> (referer: None)\n"
     ]
    },
    {
     "name": "stdout",
     "output_type": "stream",
     "text": [
      "over: http://guba.eastmoney.com/list,zssh000001_253.html\n",
      "over: http://guba.eastmoney.com/list,zssh000001_254.html\n",
      "over: http://guba.eastmoney.com/list,zssh000001_255.html\n"
     ]
    },
    {
     "name": "stderr",
     "output_type": "stream",
     "text": [
      "2019-12-05 23:02:46 [scrapy.core.engine] DEBUG: Crawled (200) <GET http://guba.eastmoney.com/list,zssh000001_264.html> (referer: None)\n",
      "2019-12-05 23:02:46 [scrapy.core.engine] DEBUG: Crawled (200) <GET http://guba.eastmoney.com/list,zssh000001_265.html> (referer: None)\n",
      "2019-12-05 23:02:46 [scrapy.core.engine] DEBUG: Crawled (200) <GET http://guba.eastmoney.com/list,zssh000001_271.html> (referer: None)\n",
      "2019-12-05 23:02:46 [scrapy.core.engine] DEBUG: Crawled (200) <GET http://guba.eastmoney.com/list,zssh000001_266.html> (referer: None)\n",
      "2019-12-05 23:02:46 [scrapy.core.engine] DEBUG: Crawled (200) <GET http://guba.eastmoney.com/list,zssh000001_268.html> (referer: None)\n",
      "2019-12-05 23:02:46 [scrapy.core.engine] DEBUG: Crawled (200) <GET http://guba.eastmoney.com/list,zssh000001_269.html> (referer: None)\n",
      "2019-12-05 23:02:46 [scrapy.core.engine] DEBUG: Crawled (200) <GET http://guba.eastmoney.com/list,zssh000001_270.html> (referer: None)\n"
     ]
    },
    {
     "name": "stdout",
     "output_type": "stream",
     "text": [
      "over: http://guba.eastmoney.com/list,zssh000001_257.html\n",
      "over: http://guba.eastmoney.com/list,zssh000001_256.html\n",
      "over: http://guba.eastmoney.com/list,zssh000001_259.html\n",
      "over: http://guba.eastmoney.com/list,zssh000001_260.html\n"
     ]
    },
    {
     "name": "stderr",
     "output_type": "stream",
     "text": [
      "2019-12-05 23:02:46 [scrapy.core.scraper] ERROR: Spider error processing <GET http://guba.eastmoney.com/list,zssh000001_263.html> (referer: None)\n",
      "Traceback (most recent call last):\n",
      "  File \"C:\\Users\\xuhon\\Anaconda3\\lib\\site-packages\\twisted\\internet\\defer.py\", line 654, in _runCallbacks\n",
      "    current.result = callback(current.result, *args, **kw)\n",
      "  File \"<ipython-input-1-c79c8daf22a6>\", line 41, in parse\n",
      "    self.csvWriter.writerow(item)\n",
      "  File \"C:\\Users\\xuhon\\Anaconda3\\lib\\csv.py\", line 155, in writerow\n",
      "    return self.writer.writerow(self._dict_to_list(rowdict))\n",
      "UnicodeEncodeError: 'gbk' codec can't encode character '\\u3873' in position 19: illegal multibyte sequence\n",
      "2019-12-05 23:02:46 [scrapy.core.engine] DEBUG: Crawled (200) <GET http://guba.eastmoney.com/list,zssh000001_267.html> (referer: None)\n"
     ]
    },
    {
     "name": "stdout",
     "output_type": "stream",
     "text": [
      "over: http://guba.eastmoney.com/list,zssh000001_261.html\n",
      "over: http://guba.eastmoney.com/list,zssh000001_262.html\n",
      "over: http://guba.eastmoney.com/list,zssh000001_258.html\n",
      "over: http://guba.eastmoney.com/list,zssh000001_264.html\n",
      "over: http://guba.eastmoney.com/list,zssh000001_265.html\n",
      "over: http://guba.eastmoney.com/list,zssh000001_271.html\n"
     ]
    },
    {
     "name": "stderr",
     "output_type": "stream",
     "text": [
      "2019-12-05 23:02:46 [scrapy.core.engine] DEBUG: Crawled (200) <GET http://guba.eastmoney.com/list,zssh000001_273.html> (referer: None)\n",
      "2019-12-05 23:02:46 [scrapy.core.engine] DEBUG: Crawled (200) <GET http://guba.eastmoney.com/list,zssh000001_274.html> (referer: None)\n",
      "2019-12-05 23:02:46 [scrapy.core.engine] DEBUG: Crawled (200) <GET http://guba.eastmoney.com/list,zssh000001_275.html> (referer: None)\n",
      "2019-12-05 23:02:46 [scrapy.core.engine] DEBUG: Crawled (200) <GET http://guba.eastmoney.com/list,zssh000001_276.html> (referer: None)\n"
     ]
    },
    {
     "name": "stdout",
     "output_type": "stream",
     "text": [
      "over: http://guba.eastmoney.com/list,zssh000001_266.html\n",
      "over: http://guba.eastmoney.com/list,zssh000001_268.html\n",
      "over: http://guba.eastmoney.com/list,zssh000001_269.html\n",
      "over: http://guba.eastmoney.com/list,zssh000001_270.html\n",
      "over: http://guba.eastmoney.com/list,zssh000001_267.html\n"
     ]
    },
    {
     "name": "stderr",
     "output_type": "stream",
     "text": [
      "2019-12-05 23:02:47 [scrapy.core.scraper] ERROR: Spider error processing <GET http://guba.eastmoney.com/list,zssh000001_273.html> (referer: None)\n",
      "Traceback (most recent call last):\n",
      "  File \"C:\\Users\\xuhon\\Anaconda3\\lib\\site-packages\\twisted\\internet\\defer.py\", line 654, in _runCallbacks\n",
      "    current.result = callback(current.result, *args, **kw)\n",
      "  File \"<ipython-input-1-c79c8daf22a6>\", line 41, in parse\n",
      "    self.csvWriter.writerow(item)\n",
      "  File \"C:\\Users\\xuhon\\Anaconda3\\lib\\csv.py\", line 155, in writerow\n",
      "    return self.writer.writerow(self._dict_to_list(rowdict))\n",
      "UnicodeEncodeError: 'gbk' codec can't encode character '\\u20e3' in position 11: illegal multibyte sequence\n",
      "2019-12-05 23:02:47 [scrapy.core.engine] DEBUG: Crawled (200) <GET http://guba.eastmoney.com/list,zssh000001_278.html> (referer: None)\n",
      "2019-12-05 23:02:47 [scrapy.core.engine] DEBUG: Crawled (200) <GET http://guba.eastmoney.com/list,zssh000001_277.html> (referer: None)\n",
      "2019-12-05 23:02:47 [scrapy.core.engine] DEBUG: Crawled (200) <GET http://guba.eastmoney.com/list,zssh000001_272.html> (referer: None)\n",
      "2019-12-05 23:02:47 [scrapy.core.engine] DEBUG: Crawled (200) <GET http://guba.eastmoney.com/list,zssh000001_280.html> (referer: None)\n",
      "2019-12-05 23:02:47 [scrapy.core.engine] DEBUG: Crawled (200) <GET http://guba.eastmoney.com/list,zssh000001_282.html> (referer: None)\n",
      "2019-12-05 23:02:47 [scrapy.core.engine] DEBUG: Crawled (200) <GET http://guba.eastmoney.com/list,zssh000001_279.html> (referer: None)\n"
     ]
    },
    {
     "name": "stdout",
     "output_type": "stream",
     "text": [
      "over: http://guba.eastmoney.com/list,zssh000001_274.html\n",
      "over: http://guba.eastmoney.com/list,zssh000001_275.html\n",
      "over: http://guba.eastmoney.com/list,zssh000001_276.html\n"
     ]
    },
    {
     "name": "stderr",
     "output_type": "stream",
     "text": [
      "2019-12-05 23:02:47 [scrapy.core.scraper] ERROR: Spider error processing <GET http://guba.eastmoney.com/list,zssh000001_278.html> (referer: None)\n",
      "Traceback (most recent call last):\n",
      "  File \"C:\\Users\\xuhon\\Anaconda3\\lib\\site-packages\\twisted\\internet\\defer.py\", line 654, in _runCallbacks\n",
      "    current.result = callback(current.result, *args, **kw)\n",
      "  File \"<ipython-input-1-c79c8daf22a6>\", line 41, in parse\n",
      "    self.csvWriter.writerow(item)\n",
      "  File \"C:\\Users\\xuhon\\Anaconda3\\lib\\csv.py\", line 155, in writerow\n",
      "    return self.writer.writerow(self._dict_to_list(rowdict))\n",
      "UnicodeEncodeError: 'gbk' codec can't encode character '\\u22ef' in position 33: illegal multibyte sequence\n",
      "2019-12-05 23:02:47 [scrapy.core.engine] DEBUG: Crawled (200) <GET http://guba.eastmoney.com/list,zssh000001_286.html> (referer: None)\n",
      "2019-12-05 23:02:47 [scrapy.core.engine] DEBUG: Crawled (200) <GET http://guba.eastmoney.com/list,zssh000001_288.html> (referer: None)\n",
      "2019-12-05 23:02:47 [scrapy.core.engine] DEBUG: Crawled (200) <GET http://guba.eastmoney.com/list,zssh000001_289.html> (referer: None)\n",
      "2019-12-05 23:02:47 [scrapy.core.engine] DEBUG: Crawled (200) <GET http://guba.eastmoney.com/list,zssh000001_285.html> (referer: None)\n",
      "2019-12-05 23:02:47 [scrapy.core.engine] DEBUG: Crawled (200) <GET http://guba.eastmoney.com/list,zssh000001_284.html> (referer: None)\n"
     ]
    },
    {
     "name": "stdout",
     "output_type": "stream",
     "text": [
      "over: http://guba.eastmoney.com/list,zssh000001_277.html\n",
      "over: http://guba.eastmoney.com/list,zssh000001_272.html\n",
      "over: http://guba.eastmoney.com/list,zssh000001_280.html\n",
      "over: http://guba.eastmoney.com/list,zssh000001_282.html\n",
      "over: http://guba.eastmoney.com/list,zssh000001_279.html\n"
     ]
    },
    {
     "name": "stderr",
     "output_type": "stream",
     "text": [
      "2019-12-05 23:02:47 [scrapy.core.engine] DEBUG: Crawled (200) <GET http://guba.eastmoney.com/list,zssh000001_290.html> (referer: None)\n",
      "2019-12-05 23:02:47 [scrapy.core.engine] DEBUG: Crawled (200) <GET http://guba.eastmoney.com/list,zssh000001_287.html> (referer: None)\n",
      "2019-12-05 23:02:47 [scrapy.core.engine] DEBUG: Crawled (200) <GET http://guba.eastmoney.com/list,zssh000001_281.html> (referer: None)\n"
     ]
    },
    {
     "name": "stdout",
     "output_type": "stream",
     "text": [
      "over: http://guba.eastmoney.com/list,zssh000001_286.html\n",
      "over: http://guba.eastmoney.com/list,zssh000001_288.html\n",
      "over: http://guba.eastmoney.com/list,zssh000001_289.html\n",
      "over: http://guba.eastmoney.com/list,zssh000001_285.html\n",
      "over: http://guba.eastmoney.com/list,zssh000001_284.html\n"
     ]
    },
    {
     "name": "stderr",
     "output_type": "stream",
     "text": [
      "2019-12-05 23:02:47 [scrapy.core.engine] DEBUG: Crawled (200) <GET http://guba.eastmoney.com/list,zssh000001_291.html> (referer: None)\n",
      "2019-12-05 23:02:47 [scrapy.core.engine] DEBUG: Crawled (200) <GET http://guba.eastmoney.com/list,zssh000001_292.html> (referer: None)\n",
      "2019-12-05 23:02:47 [scrapy.core.engine] DEBUG: Crawled (200) <GET http://guba.eastmoney.com/list,zssh000001_283.html> (referer: None)\n",
      "2019-12-05 23:02:47 [scrapy.core.engine] DEBUG: Crawled (200) <GET http://guba.eastmoney.com/list,zssh000001_293.html> (referer: None)\n",
      "2019-12-05 23:02:47 [scrapy.core.engine] DEBUG: Crawled (200) <GET http://guba.eastmoney.com/list,zssh000001_294.html> (referer: None)\n"
     ]
    },
    {
     "name": "stdout",
     "output_type": "stream",
     "text": [
      "over: http://guba.eastmoney.com/list,zssh000001_290.html\n",
      "over: http://guba.eastmoney.com/list,zssh000001_287.html\n",
      "over: http://guba.eastmoney.com/list,zssh000001_281.html\n",
      "over: http://guba.eastmoney.com/list,zssh000001_291.html\n",
      "over: http://guba.eastmoney.com/list,zssh000001_292.html\n",
      "over: http://guba.eastmoney.com/list,zssh000001_283.html\n",
      "over: http://guba.eastmoney.com/list,zssh000001_293.html\n"
     ]
    },
    {
     "name": "stderr",
     "output_type": "stream",
     "text": [
      "2019-12-05 23:02:48 [scrapy.core.engine] DEBUG: Crawled (200) <GET http://guba.eastmoney.com/list,zssh000001_295.html> (referer: None)\n",
      "2019-12-05 23:02:48 [scrapy.core.engine] DEBUG: Crawled (200) <GET http://guba.eastmoney.com/list,zssh000001_296.html> (referer: None)\n",
      "2019-12-05 23:02:48 [scrapy.core.engine] DEBUG: Crawled (200) <GET http://guba.eastmoney.com/list,zssh000001_298.html> (referer: None)\n",
      "2019-12-05 23:02:48 [scrapy.core.engine] DEBUG: Crawled (200) <GET http://guba.eastmoney.com/list,zssh000001_299.html> (referer: None)\n",
      "2019-12-05 23:02:48 [scrapy.core.engine] DEBUG: Crawled (200) <GET http://guba.eastmoney.com/list,zssh000001_301.html> (referer: None)\n",
      "2019-12-05 23:02:48 [scrapy.core.engine] DEBUG: Crawled (200) <GET http://guba.eastmoney.com/list,zssh000001_302.html> (referer: None)\n",
      "2019-12-05 23:02:48 [scrapy.core.engine] DEBUG: Crawled (200) <GET http://guba.eastmoney.com/list,zssh000001_300.html> (referer: None)\n",
      "2019-12-05 23:02:48 [scrapy.core.engine] DEBUG: Crawled (200) <GET http://guba.eastmoney.com/list,zssh000001_297.html> (referer: None)\n"
     ]
    },
    {
     "name": "stdout",
     "output_type": "stream",
     "text": [
      "over: http://guba.eastmoney.com/list,zssh000001_294.html\n",
      "over: http://guba.eastmoney.com/list,zssh000001_295.html\n",
      "over: http://guba.eastmoney.com/list,zssh000001_296.html\n"
     ]
    },
    {
     "name": "stderr",
     "output_type": "stream",
     "text": [
      "2019-12-05 23:02:48 [scrapy.core.scraper] ERROR: Spider error processing <GET http://guba.eastmoney.com/list,zssh000001_299.html> (referer: None)\n",
      "Traceback (most recent call last):\n",
      "  File \"C:\\Users\\xuhon\\Anaconda3\\lib\\site-packages\\twisted\\internet\\defer.py\", line 654, in _runCallbacks\n",
      "    current.result = callback(current.result, *args, **kw)\n",
      "  File \"<ipython-input-1-c79c8daf22a6>\", line 41, in parse\n",
      "    self.csvWriter.writerow(item)\n",
      "  File \"C:\\Users\\xuhon\\Anaconda3\\lib\\csv.py\", line 155, in writerow\n",
      "    return self.writer.writerow(self._dict_to_list(rowdict))\n",
      "UnicodeEncodeError: 'gbk' codec can't encode character '\\u3873' in position 26: illegal multibyte sequence\n",
      "2019-12-05 23:02:48 [scrapy.core.engine] DEBUG: Crawled (200) <GET http://guba.eastmoney.com/list,zssh000001_303.html> (referer: None)\n"
     ]
    },
    {
     "name": "stdout",
     "output_type": "stream",
     "text": [
      "over: http://guba.eastmoney.com/list,zssh000001_298.html\n",
      "over: http://guba.eastmoney.com/list,zssh000001_301.html\n",
      "over: http://guba.eastmoney.com/list,zssh000001_302.html\n",
      "over: http://guba.eastmoney.com/list,zssh000001_300.html\n",
      "over: http://guba.eastmoney.com/list,zssh000001_297.html\n"
     ]
    },
    {
     "name": "stderr",
     "output_type": "stream",
     "text": [
      "2019-12-05 23:02:48 [scrapy.core.engine] DEBUG: Crawled (200) <GET http://guba.eastmoney.com/list,zssh000001_304.html> (referer: None)\n",
      "2019-12-05 23:02:48 [scrapy.core.engine] DEBUG: Crawled (200) <GET http://guba.eastmoney.com/list,zssh000001_305.html> (referer: None)\n",
      "2019-12-05 23:02:48 [scrapy.core.engine] DEBUG: Crawled (200) <GET http://guba.eastmoney.com/list,zssh000001_306.html> (referer: None)\n",
      "2019-12-05 23:02:48 [scrapy.core.engine] DEBUG: Crawled (200) <GET http://guba.eastmoney.com/list,zssh000001_309.html> (referer: None)\n",
      "2019-12-05 23:02:48 [scrapy.core.engine] DEBUG: Crawled (200) <GET http://guba.eastmoney.com/list,zssh000001_307.html> (referer: None)\n",
      "2019-12-05 23:02:48 [scrapy.core.engine] DEBUG: Crawled (200) <GET http://guba.eastmoney.com/list,zssh000001_308.html> (referer: None)\n",
      "2019-12-05 23:02:48 [scrapy.core.engine] DEBUG: Crawled (200) <GET http://guba.eastmoney.com/list,zssh000001_310.html> (referer: None)\n"
     ]
    },
    {
     "name": "stdout",
     "output_type": "stream",
     "text": [
      "over: http://guba.eastmoney.com/list,zssh000001_304.html\n",
      "over: http://guba.eastmoney.com/list,zssh000001_303.html\n",
      "over: http://guba.eastmoney.com/list,zssh000001_305.html\n",
      "over: http://guba.eastmoney.com/list,zssh000001_306.html\n",
      "over: http://guba.eastmoney.com/list,zssh000001_309.html\n",
      "over: http://guba.eastmoney.com/list,zssh000001_307.html\n"
     ]
    },
    {
     "name": "stderr",
     "output_type": "stream",
     "text": [
      "2019-12-05 23:02:48 [scrapy.core.engine] DEBUG: Crawled (200) <GET http://guba.eastmoney.com/list,zssh000001_311.html> (referer: None)\n",
      "2019-12-05 23:02:48 [scrapy.core.engine] DEBUG: Crawled (200) <GET http://guba.eastmoney.com/list,zssh000001_312.html> (referer: None)\n",
      "2019-12-05 23:02:48 [scrapy.core.engine] DEBUG: Crawled (200) <GET http://guba.eastmoney.com/list,zssh000001_318.html> (referer: None)\n",
      "2019-12-05 23:02:48 [scrapy.core.engine] DEBUG: Crawled (200) <GET http://guba.eastmoney.com/list,zssh000001_313.html> (referer: None)\n",
      "2019-12-05 23:02:48 [scrapy.core.engine] DEBUG: Crawled (200) <GET http://guba.eastmoney.com/list,zssh000001_314.html> (referer: None)\n",
      "2019-12-05 23:02:48 [scrapy.core.engine] DEBUG: Crawled (200) <GET http://guba.eastmoney.com/list,zssh000001_315.html> (referer: None)\n",
      "2019-12-05 23:02:48 [scrapy.core.engine] DEBUG: Crawled (200) <GET http://guba.eastmoney.com/list,zssh000001_316.html> (referer: None)\n",
      "2019-12-05 23:02:48 [scrapy.core.engine] DEBUG: Crawled (200) <GET http://guba.eastmoney.com/list,zssh000001_317.html> (referer: None)\n",
      "2019-12-05 23:02:49 [scrapy.core.scraper] ERROR: Spider error processing <GET http://guba.eastmoney.com/list,zssh000001_311.html> (referer: None)\n",
      "Traceback (most recent call last):\n",
      "  File \"C:\\Users\\xuhon\\Anaconda3\\lib\\site-packages\\twisted\\internet\\defer.py\", line 654, in _runCallbacks\n",
      "    current.result = callback(current.result, *args, **kw)\n",
      "  File \"<ipython-input-1-c79c8daf22a6>\", line 41, in parse\n",
      "    self.csvWriter.writerow(item)\n",
      "  File \"C:\\Users\\xuhon\\Anaconda3\\lib\\csv.py\", line 155, in writerow\n",
      "    return self.writer.writerow(self._dict_to_list(rowdict))\n",
      "UnicodeEncodeError: 'gbk' codec can't encode character '\\u2022' in position 7: illegal multibyte sequence\n"
     ]
    },
    {
     "name": "stdout",
     "output_type": "stream",
     "text": [
      "over: http://guba.eastmoney.com/list,zssh000001_308.html\n",
      "over: http://guba.eastmoney.com/list,zssh000001_310.html\n",
      "over: http://guba.eastmoney.com/list,zssh000001_312.html\n",
      "over: http://guba.eastmoney.com/list,zssh000001_318.html\n",
      "over: http://guba.eastmoney.com/list,zssh000001_313.html\n",
      "over: http://guba.eastmoney.com/list,zssh000001_314.html\n",
      "over: http://guba.eastmoney.com/list,zssh000001_315.html\n",
      "over: http://guba.eastmoney.com/list,zssh000001_316.html\n"
     ]
    },
    {
     "name": "stderr",
     "output_type": "stream",
     "text": [
      "2019-12-05 23:02:49 [scrapy.core.engine] DEBUG: Crawled (200) <GET http://guba.eastmoney.com/list,zssh000001_319.html> (referer: None)\n",
      "2019-12-05 23:02:49 [scrapy.core.engine] DEBUG: Crawled (200) <GET http://guba.eastmoney.com/list,zssh000001_320.html> (referer: None)\n",
      "2019-12-05 23:02:49 [scrapy.core.engine] DEBUG: Crawled (200) <GET http://guba.eastmoney.com/list,zssh000001_321.html> (referer: None)\n",
      "2019-12-05 23:02:49 [scrapy.core.engine] DEBUG: Crawled (200) <GET http://guba.eastmoney.com/list,zssh000001_322.html> (referer: None)\n",
      "2019-12-05 23:02:49 [scrapy.core.engine] DEBUG: Crawled (200) <GET http://guba.eastmoney.com/list,zssh000001_323.html> (referer: None)\n",
      "2019-12-05 23:02:49 [scrapy.core.engine] DEBUG: Crawled (200) <GET http://guba.eastmoney.com/list,zssh000001_324.html> (referer: None)\n",
      "2019-12-05 23:02:49 [scrapy.core.engine] DEBUG: Crawled (200) <GET http://guba.eastmoney.com/list,zssh000001_325.html> (referer: None)\n",
      "2019-12-05 23:02:49 [scrapy.core.engine] DEBUG: Crawled (200) <GET http://guba.eastmoney.com/list,zssh000001_326.html> (referer: None)\n"
     ]
    },
    {
     "name": "stdout",
     "output_type": "stream",
     "text": [
      "over: http://guba.eastmoney.com/list,zssh000001_317.html\n",
      "over: http://guba.eastmoney.com/list,zssh000001_319.html\n",
      "over: http://guba.eastmoney.com/list,zssh000001_320.html\n",
      "over: http://guba.eastmoney.com/list,zssh000001_321.html\n",
      "over: http://guba.eastmoney.com/list,zssh000001_322.html\n",
      "over: http://guba.eastmoney.com/list,zssh000001_323.html\n"
     ]
    },
    {
     "name": "stderr",
     "output_type": "stream",
     "text": [
      "2019-12-05 23:02:49 [scrapy.core.engine] DEBUG: Crawled (200) <GET http://guba.eastmoney.com/list,zssh000001_327.html> (referer: None)\n",
      "2019-12-05 23:02:49 [scrapy.core.engine] DEBUG: Crawled (200) <GET http://guba.eastmoney.com/list,zssh000001_328.html> (referer: None)\n",
      "2019-12-05 23:02:49 [scrapy.core.engine] DEBUG: Crawled (200) <GET http://guba.eastmoney.com/list,zssh000001_329.html> (referer: None)\n",
      "2019-12-05 23:02:49 [scrapy.core.engine] DEBUG: Crawled (200) <GET http://guba.eastmoney.com/list,zssh000001_330.html> (referer: None)\n",
      "2019-12-05 23:02:49 [scrapy.core.engine] DEBUG: Crawled (200) <GET http://guba.eastmoney.com/list,zssh000001_331.html> (referer: None)\n",
      "2019-12-05 23:02:49 [scrapy.core.engine] DEBUG: Crawled (200) <GET http://guba.eastmoney.com/list,zssh000001_332.html> (referer: None)\n",
      "2019-12-05 23:02:49 [scrapy.core.engine] DEBUG: Crawled (200) <GET http://guba.eastmoney.com/list,zssh000001_333.html> (referer: None)\n",
      "2019-12-05 23:02:49 [scrapy.core.engine] DEBUG: Crawled (200) <GET http://guba.eastmoney.com/list,zssh000001_334.html> (referer: None)\n"
     ]
    },
    {
     "name": "stdout",
     "output_type": "stream",
     "text": [
      "over: http://guba.eastmoney.com/list,zssh000001_324.html\n",
      "over: http://guba.eastmoney.com/list,zssh000001_325.html\n",
      "over: http://guba.eastmoney.com/list,zssh000001_326.html\n",
      "over: http://guba.eastmoney.com/list,zssh000001_327.html\n",
      "over: http://guba.eastmoney.com/list,zssh000001_328.html\n",
      "over: http://guba.eastmoney.com/list,zssh000001_329.html\n",
      "over: http://guba.eastmoney.com/list,zssh000001_330.html\n",
      "over: http://guba.eastmoney.com/list,zssh000001_331.html\n",
      "over: http://guba.eastmoney.com/list,zssh000001_332.html\n"
     ]
    },
    {
     "name": "stderr",
     "output_type": "stream",
     "text": [
      "2019-12-05 23:02:50 [scrapy.core.scraper] ERROR: Spider error processing <GET http://guba.eastmoney.com/list,zssh000001_334.html> (referer: None)\n",
      "Traceback (most recent call last):\n",
      "  File \"C:\\Users\\xuhon\\Anaconda3\\lib\\site-packages\\twisted\\internet\\defer.py\", line 654, in _runCallbacks\n",
      "    current.result = callback(current.result, *args, **kw)\n",
      "  File \"<ipython-input-1-c79c8daf22a6>\", line 41, in parse\n",
      "    self.csvWriter.writerow(item)\n",
      "  File \"C:\\Users\\xuhon\\Anaconda3\\lib\\csv.py\", line 155, in writerow\n",
      "    return self.writer.writerow(self._dict_to_list(rowdict))\n",
      "UnicodeEncodeError: 'gbk' codec can't encode character '\\u44c1' in position 15: illegal multibyte sequence\n",
      "2019-12-05 23:02:50 [scrapy.core.engine] DEBUG: Crawled (200) <GET http://guba.eastmoney.com/list,zssh000001_335.html> (referer: None)\n",
      "2019-12-05 23:02:50 [scrapy.core.engine] DEBUG: Crawled (200) <GET http://guba.eastmoney.com/list,zssh000001_336.html> (referer: None)\n",
      "2019-12-05 23:02:50 [scrapy.core.engine] DEBUG: Crawled (200) <GET http://guba.eastmoney.com/list,zssh000001_337.html> (referer: None)\n",
      "2019-12-05 23:02:50 [scrapy.core.engine] DEBUG: Crawled (200) <GET http://guba.eastmoney.com/list,zssh000001_338.html> (referer: None)\n",
      "2019-12-05 23:02:50 [scrapy.core.engine] DEBUG: Crawled (200) <GET http://guba.eastmoney.com/list,zssh000001_339.html> (referer: None)\n",
      "2019-12-05 23:02:50 [scrapy.core.engine] DEBUG: Crawled (200) <GET http://guba.eastmoney.com/list,zssh000001_340.html> (referer: None)\n",
      "2019-12-05 23:02:50 [scrapy.core.engine] DEBUG: Crawled (200) <GET http://guba.eastmoney.com/list,zssh000001_341.html> (referer: None)\n",
      "2019-12-05 23:02:50 [scrapy.core.engine] DEBUG: Crawled (200) <GET http://guba.eastmoney.com/list,zssh000001_342.html> (referer: None)\n"
     ]
    },
    {
     "name": "stdout",
     "output_type": "stream",
     "text": [
      "over: http://guba.eastmoney.com/list,zssh000001_333.html\n",
      "over: http://guba.eastmoney.com/list,zssh000001_335.html\n",
      "over: http://guba.eastmoney.com/list,zssh000001_336.html\n",
      "over: http://guba.eastmoney.com/list,zssh000001_337.html\n",
      "over: http://guba.eastmoney.com/list,zssh000001_338.html\n",
      "over: http://guba.eastmoney.com/list,zssh000001_339.html\n",
      "over: http://guba.eastmoney.com/list,zssh000001_340.html\n"
     ]
    },
    {
     "name": "stderr",
     "output_type": "stream",
     "text": [
      "2019-12-05 23:02:50 [scrapy.core.engine] DEBUG: Crawled (200) <GET http://guba.eastmoney.com/list,zssh000001_343.html> (referer: None)\n",
      "2019-12-05 23:02:50 [scrapy.core.engine] DEBUG: Crawled (200) <GET http://guba.eastmoney.com/list,zssh000001_344.html> (referer: None)\n",
      "2019-12-05 23:02:50 [scrapy.core.engine] DEBUG: Crawled (200) <GET http://guba.eastmoney.com/list,zssh000001_345.html> (referer: None)\n",
      "2019-12-05 23:02:50 [scrapy.core.engine] DEBUG: Crawled (200) <GET http://guba.eastmoney.com/list,zssh000001_346.html> (referer: None)\n",
      "2019-12-05 23:02:50 [scrapy.core.engine] DEBUG: Crawled (200) <GET http://guba.eastmoney.com/list,zssh000001_347.html> (referer: None)\n",
      "2019-12-05 23:02:50 [scrapy.core.engine] DEBUG: Crawled (200) <GET http://guba.eastmoney.com/list,zssh000001_348.html> (referer: None)\n",
      "2019-12-05 23:02:50 [scrapy.core.engine] DEBUG: Crawled (200) <GET http://guba.eastmoney.com/list,zssh000001_349.html> (referer: None)\n",
      "2019-12-05 23:02:50 [scrapy.core.engine] DEBUG: Crawled (200) <GET http://guba.eastmoney.com/list,zssh000001_350.html> (referer: None)\n"
     ]
    },
    {
     "name": "stdout",
     "output_type": "stream",
     "text": [
      "over: http://guba.eastmoney.com/list,zssh000001_341.html\n",
      "over: http://guba.eastmoney.com/list,zssh000001_342.html\n",
      "over: http://guba.eastmoney.com/list,zssh000001_343.html\n",
      "over: http://guba.eastmoney.com/list,zssh000001_344.html\n",
      "over: http://guba.eastmoney.com/list,zssh000001_345.html\n",
      "over: http://guba.eastmoney.com/list,zssh000001_346.html\n",
      "over: http://guba.eastmoney.com/list,zssh000001_347.html\n",
      "over: http://guba.eastmoney.com/list,zssh000001_348.html\n"
     ]
    },
    {
     "name": "stderr",
     "output_type": "stream",
     "text": [
      "2019-12-05 23:02:51 [scrapy.core.engine] DEBUG: Crawled (200) <GET http://guba.eastmoney.com/list,zssh000001_352.html> (referer: None)\n",
      "2019-12-05 23:02:51 [scrapy.core.engine] DEBUG: Crawled (200) <GET http://guba.eastmoney.com/list,zssh000001_353.html> (referer: None)\n",
      "2019-12-05 23:02:51 [scrapy.core.engine] DEBUG: Crawled (200) <GET http://guba.eastmoney.com/list,zssh000001_354.html> (referer: None)\n",
      "2019-12-05 23:02:51 [scrapy.core.engine] DEBUG: Crawled (200) <GET http://guba.eastmoney.com/list,zssh000001_355.html> (referer: None)\n",
      "2019-12-05 23:02:51 [scrapy.core.engine] DEBUG: Crawled (200) <GET http://guba.eastmoney.com/list,zssh000001_356.html> (referer: None)\n",
      "2019-12-05 23:02:51 [scrapy.core.engine] DEBUG: Crawled (200) <GET http://guba.eastmoney.com/list,zssh000001_357.html> (referer: None)\n",
      "2019-12-05 23:02:51 [scrapy.core.engine] DEBUG: Crawled (200) <GET http://guba.eastmoney.com/list,zssh000001_358.html> (referer: None)\n",
      "2019-12-05 23:02:51 [scrapy.core.engine] DEBUG: Crawled (200) <GET http://guba.eastmoney.com/list,zssh000001_351.html> (referer: None)\n"
     ]
    },
    {
     "name": "stdout",
     "output_type": "stream",
     "text": [
      "over: http://guba.eastmoney.com/list,zssh000001_349.html\n",
      "over: http://guba.eastmoney.com/list,zssh000001_350.html\n",
      "over: http://guba.eastmoney.com/list,zssh000001_352.html\n",
      "over: http://guba.eastmoney.com/list,zssh000001_353.html\n",
      "over: http://guba.eastmoney.com/list,zssh000001_354.html\n",
      "over: http://guba.eastmoney.com/list,zssh000001_355.html\n"
     ]
    },
    {
     "name": "stderr",
     "output_type": "stream",
     "text": [
      "2019-12-05 23:02:51 [scrapy.core.engine] DEBUG: Crawled (200) <GET http://guba.eastmoney.com/list,zssh000001_366.html> (referer: None)\n",
      "2019-12-05 23:02:51 [scrapy.core.engine] DEBUG: Crawled (200) <GET http://guba.eastmoney.com/list,zssh000001_359.html> (referer: None)\n",
      "2019-12-05 23:02:51 [scrapy.core.engine] DEBUG: Crawled (200) <GET http://guba.eastmoney.com/list,zssh000001_360.html> (referer: None)\n",
      "2019-12-05 23:02:51 [scrapy.core.engine] DEBUG: Crawled (200) <GET http://guba.eastmoney.com/list,zssh000001_361.html> (referer: None)\n",
      "2019-12-05 23:02:51 [scrapy.core.engine] DEBUG: Crawled (200) <GET http://guba.eastmoney.com/list,zssh000001_362.html> (referer: None)\n",
      "2019-12-05 23:02:51 [scrapy.core.engine] DEBUG: Crawled (200) <GET http://guba.eastmoney.com/list,zssh000001_363.html> (referer: None)\n",
      "2019-12-05 23:02:51 [scrapy.core.engine] DEBUG: Crawled (200) <GET http://guba.eastmoney.com/list,zssh000001_364.html> (referer: None)\n",
      "2019-12-05 23:02:51 [scrapy.core.engine] DEBUG: Crawled (200) <GET http://guba.eastmoney.com/list,zssh000001_365.html> (referer: None)\n"
     ]
    },
    {
     "name": "stdout",
     "output_type": "stream",
     "text": [
      "over: http://guba.eastmoney.com/list,zssh000001_356.html\n",
      "over: http://guba.eastmoney.com/list,zssh000001_357.html\n",
      "over: http://guba.eastmoney.com/list,zssh000001_358.html\n",
      "over: http://guba.eastmoney.com/list,zssh000001_351.html\n"
     ]
    },
    {
     "name": "stderr",
     "output_type": "stream",
     "text": [
      "2019-12-05 23:02:52 [scrapy.core.engine] DEBUG: Crawled (200) <GET http://guba.eastmoney.com/list,zssh000001_367.html> (referer: None)\n",
      "2019-12-05 23:02:52 [scrapy.core.engine] DEBUG: Crawled (200) <GET http://guba.eastmoney.com/list,zssh000001_368.html> (referer: None)\n",
      "2019-12-05 23:02:52 [scrapy.core.engine] DEBUG: Crawled (200) <GET http://guba.eastmoney.com/list,zssh000001_370.html> (referer: None)\n",
      "2019-12-05 23:02:52 [scrapy.core.engine] DEBUG: Crawled (200) <GET http://guba.eastmoney.com/list,zssh000001_371.html> (referer: None)\n",
      "2019-12-05 23:02:52 [scrapy.core.engine] DEBUG: Crawled (200) <GET http://guba.eastmoney.com/list,zssh000001_372.html> (referer: None)\n"
     ]
    },
    {
     "name": "stdout",
     "output_type": "stream",
     "text": [
      "over: http://guba.eastmoney.com/list,zssh000001_366.html\n",
      "over: http://guba.eastmoney.com/list,zssh000001_359.html\n",
      "over: http://guba.eastmoney.com/list,zssh000001_360.html\n",
      "over: http://guba.eastmoney.com/list,zssh000001_361.html\n"
     ]
    },
    {
     "name": "stderr",
     "output_type": "stream",
     "text": [
      "2019-12-05 23:02:52 [scrapy.core.engine] DEBUG: Crawled (200) <GET http://guba.eastmoney.com/list,zssh000001_374.html> (referer: None)\n"
     ]
    },
    {
     "name": "stdout",
     "output_type": "stream",
     "text": [
      "over: http://guba.eastmoney.com/list,zssh000001_362.html\n",
      "over: http://guba.eastmoney.com/list,zssh000001_363.html\n",
      "over: http://guba.eastmoney.com/list,zssh000001_364.html\n",
      "over: http://guba.eastmoney.com/list,zssh000001_365.html\n"
     ]
    },
    {
     "name": "stderr",
     "output_type": "stream",
     "text": [
      "2019-12-05 23:02:52 [scrapy.core.engine] DEBUG: Crawled (200) <GET http://guba.eastmoney.com/list,zssh000001_369.html> (referer: None)\n",
      "2019-12-05 23:02:52 [scrapy.core.engine] DEBUG: Crawled (200) <GET http://guba.eastmoney.com/list,zssh000001_373.html> (referer: None)\n",
      "2019-12-05 23:02:52 [scrapy.core.scraper] ERROR: Spider error processing <GET http://guba.eastmoney.com/list,zssh000001_372.html> (referer: None)\n",
      "Traceback (most recent call last):\n",
      "  File \"C:\\Users\\xuhon\\Anaconda3\\lib\\site-packages\\twisted\\internet\\defer.py\", line 654, in _runCallbacks\n",
      "    current.result = callback(current.result, *args, **kw)\n",
      "  File \"<ipython-input-1-c79c8daf22a6>\", line 41, in parse\n",
      "    self.csvWriter.writerow(item)\n",
      "  File \"C:\\Users\\xuhon\\Anaconda3\\lib\\csv.py\", line 155, in writerow\n",
      "    return self.writer.writerow(self._dict_to_list(rowdict))\n",
      "UnicodeEncodeError: 'gbk' codec can't encode character '\\u2022' in position 7: illegal multibyte sequence\n"
     ]
    },
    {
     "name": "stdout",
     "output_type": "stream",
     "text": [
      "over: http://guba.eastmoney.com/list,zssh000001_367.html\n",
      "over: http://guba.eastmoney.com/list,zssh000001_368.html\n",
      "over: http://guba.eastmoney.com/list,zssh000001_370.html\n",
      "over: http://guba.eastmoney.com/list,zssh000001_371.html\n"
     ]
    },
    {
     "name": "stderr",
     "output_type": "stream",
     "text": [
      "2019-12-05 23:02:52 [scrapy.core.engine] DEBUG: Crawled (200) <GET http://guba.eastmoney.com/list,zssh000001_375.html> (referer: None)\n",
      "2019-12-05 23:02:52 [scrapy.core.engine] DEBUG: Crawled (200) <GET http://guba.eastmoney.com/list,zssh000001_376.html> (referer: None)\n",
      "2019-12-05 23:02:52 [scrapy.core.engine] DEBUG: Crawled (200) <GET http://guba.eastmoney.com/list,zssh000001_377.html> (referer: None)\n",
      "2019-12-05 23:02:52 [scrapy.core.engine] DEBUG: Crawled (200) <GET http://guba.eastmoney.com/list,zssh000001_378.html> (referer: None)\n",
      "2019-12-05 23:02:52 [scrapy.core.engine] DEBUG: Crawled (200) <GET http://guba.eastmoney.com/list,zssh000001_379.html> (referer: None)\n",
      "2019-12-05 23:02:52 [scrapy.core.engine] DEBUG: Crawled (200) <GET http://guba.eastmoney.com/list,zssh000001_380.html> (referer: None)\n",
      "2019-12-05 23:02:52 [scrapy.core.scraper] ERROR: Spider error processing <GET http://guba.eastmoney.com/list,zssh000001_369.html> (referer: None)\n",
      "Traceback (most recent call last):\n",
      "  File \"C:\\Users\\xuhon\\Anaconda3\\lib\\site-packages\\twisted\\internet\\defer.py\", line 654, in _runCallbacks\n",
      "    current.result = callback(current.result, *args, **kw)\n",
      "  File \"<ipython-input-1-c79c8daf22a6>\", line 41, in parse\n",
      "    self.csvWriter.writerow(item)\n",
      "  File \"C:\\Users\\xuhon\\Anaconda3\\lib\\csv.py\", line 155, in writerow\n",
      "    return self.writer.writerow(self._dict_to_list(rowdict))\n",
      "UnicodeEncodeError: 'gbk' codec can't encode character '\\u2022' in position 7: illegal multibyte sequence\n"
     ]
    },
    {
     "name": "stdout",
     "output_type": "stream",
     "text": [
      "over: http://guba.eastmoney.com/list,zssh000001_374.html\n",
      "over: http://guba.eastmoney.com/list,zssh000001_373.html\n"
     ]
    },
    {
     "name": "stderr",
     "output_type": "stream",
     "text": [
      "2019-12-05 23:02:53 [scrapy.core.engine] DEBUG: Crawled (200) <GET http://guba.eastmoney.com/list,zssh000001_381.html> (referer: None)\n",
      "2019-12-05 23:02:53 [scrapy.core.engine] DEBUG: Crawled (200) <GET http://guba.eastmoney.com/list,zssh000001_382.html> (referer: None)\n"
     ]
    },
    {
     "name": "stdout",
     "output_type": "stream",
     "text": [
      "over: http://guba.eastmoney.com/list,zssh000001_375.html\n",
      "over: http://guba.eastmoney.com/list,zssh000001_376.html\n",
      "over: http://guba.eastmoney.com/list,zssh000001_377.html\n",
      "over: http://guba.eastmoney.com/list,zssh000001_378.html\n"
     ]
    },
    {
     "name": "stderr",
     "output_type": "stream",
     "text": [
      "2019-12-05 23:02:53 [scrapy.core.engine] DEBUG: Crawled (200) <GET http://guba.eastmoney.com/list,zssh000001_383.html> (referer: None)\n",
      "2019-12-05 23:02:53 [scrapy.core.engine] DEBUG: Crawled (200) <GET http://guba.eastmoney.com/list,zssh000001_384.html> (referer: None)\n"
     ]
    },
    {
     "name": "stdout",
     "output_type": "stream",
     "text": [
      "over: http://guba.eastmoney.com/list,zssh000001_379.html\n",
      "over: http://guba.eastmoney.com/list,zssh000001_380.html\n",
      "over: http://guba.eastmoney.com/list,zssh000001_381.html\n",
      "over: http://guba.eastmoney.com/list,zssh000001_382.html\n",
      "over: http://guba.eastmoney.com/list,zssh000001_383.html\n",
      "over: http://guba.eastmoney.com/list,zssh000001_384.html\n"
     ]
    },
    {
     "name": "stderr",
     "output_type": "stream",
     "text": [
      "2019-12-05 23:02:53 [scrapy.core.engine] DEBUG: Crawled (200) <GET http://guba.eastmoney.com/list,zssh000001_385.html> (referer: None)\n",
      "2019-12-05 23:02:53 [scrapy.core.engine] DEBUG: Crawled (200) <GET http://guba.eastmoney.com/list,zssh000001_392.html> (referer: None)\n",
      "2019-12-05 23:02:53 [scrapy.core.engine] DEBUG: Crawled (200) <GET http://guba.eastmoney.com/list,zssh000001_389.html> (referer: None)\n",
      "2019-12-05 23:02:53 [scrapy.core.engine] DEBUG: Crawled (200) <GET http://guba.eastmoney.com/list,zssh000001_393.html> (referer: None)\n",
      "2019-12-05 23:02:53 [scrapy.core.engine] DEBUG: Crawled (200) <GET http://guba.eastmoney.com/list,zssh000001_387.html> (referer: None)\n",
      "2019-12-05 23:02:53 [scrapy.core.engine] DEBUG: Crawled (200) <GET http://guba.eastmoney.com/list,zssh000001_390.html> (referer: None)\n",
      "2019-12-05 23:02:53 [scrapy.core.engine] DEBUG: Crawled (200) <GET http://guba.eastmoney.com/list,zssh000001_388.html> (referer: None)\n",
      "2019-12-05 23:02:53 [scrapy.core.engine] DEBUG: Crawled (200) <GET http://guba.eastmoney.com/list,zssh000001_386.html> (referer: None)\n",
      "2019-12-05 23:02:53 [scrapy.core.engine] DEBUG: Crawled (200) <GET http://guba.eastmoney.com/list,zssh000001_391.html> (referer: None)\n"
     ]
    },
    {
     "name": "stdout",
     "output_type": "stream",
     "text": [
      "over: http://guba.eastmoney.com/list,zssh000001_385.html\n",
      "over: http://guba.eastmoney.com/list,zssh000001_392.html\n",
      "over: http://guba.eastmoney.com/list,zssh000001_389.html\n"
     ]
    },
    {
     "name": "stderr",
     "output_type": "stream",
     "text": [
      "2019-12-05 23:02:54 [scrapy.core.engine] DEBUG: Crawled (200) <GET http://guba.eastmoney.com/list,zssh000001_401.html> (referer: None)\n",
      "2019-12-05 23:02:54 [scrapy.core.engine] DEBUG: Crawled (200) <GET http://guba.eastmoney.com/list,zssh000001_394.html> (referer: None)\n",
      "2019-12-05 23:02:54 [scrapy.core.engine] DEBUG: Crawled (200) <GET http://guba.eastmoney.com/list,zssh000001_395.html> (referer: None)\n",
      "2019-12-05 23:02:54 [scrapy.core.engine] DEBUG: Crawled (200) <GET http://guba.eastmoney.com/list,zssh000001_396.html> (referer: None)\n",
      "2019-12-05 23:02:54 [scrapy.core.engine] DEBUG: Crawled (200) <GET http://guba.eastmoney.com/list,zssh000001_400.html> (referer: None)\n",
      "2019-12-05 23:02:54 [scrapy.core.engine] DEBUG: Crawled (200) <GET http://guba.eastmoney.com/list,zssh000001_397.html> (referer: None)\n",
      "2019-12-05 23:02:54 [scrapy.core.engine] DEBUG: Crawled (200) <GET http://guba.eastmoney.com/list,zssh000001_398.html> (referer: None)\n",
      "2019-12-05 23:02:54 [scrapy.core.engine] DEBUG: Crawled (200) <GET http://guba.eastmoney.com/list,zssh000001_399.html> (referer: None)\n"
     ]
    },
    {
     "name": "stdout",
     "output_type": "stream",
     "text": [
      "over: http://guba.eastmoney.com/list,zssh000001_393.html\n",
      "over: http://guba.eastmoney.com/list,zssh000001_387.html\n",
      "over: http://guba.eastmoney.com/list,zssh000001_390.html\n",
      "over: http://guba.eastmoney.com/list,zssh000001_388.html\n",
      "over: http://guba.eastmoney.com/list,zssh000001_386.html\n",
      "over: http://guba.eastmoney.com/list,zssh000001_391.html\n"
     ]
    },
    {
     "name": "stderr",
     "output_type": "stream",
     "text": [
      "2019-12-05 23:02:54 [scrapy.core.engine] DEBUG: Crawled (200) <GET http://guba.eastmoney.com/list,zssh000001_403.html> (referer: None)\n",
      "2019-12-05 23:02:54 [scrapy.core.engine] DEBUG: Crawled (200) <GET http://guba.eastmoney.com/list,zssh000001_406.html> (referer: None)\n"
     ]
    },
    {
     "name": "stdout",
     "output_type": "stream",
     "text": [
      "over: http://guba.eastmoney.com/list,zssh000001_396.html\n",
      "over: http://guba.eastmoney.com/list,zssh000001_397.html\n",
      "over: http://guba.eastmoney.com/list,zssh000001_400.html\n",
      "over: http://guba.eastmoney.com/list,zssh000001_394.html\n",
      "over: http://guba.eastmoney.com/list,zssh000001_395.html\n",
      "over: http://guba.eastmoney.com/list,zssh000001_401.html\n"
     ]
    },
    {
     "name": "stderr",
     "output_type": "stream",
     "text": [
      "2019-12-05 23:02:54 [scrapy.core.engine] DEBUG: Crawled (200) <GET http://guba.eastmoney.com/list,zssh000001_402.html> (referer: None)\n",
      "2019-12-05 23:02:54 [scrapy.core.engine] DEBUG: Crawled (200) <GET http://guba.eastmoney.com/list,zssh000001_404.html> (referer: None)\n",
      "2019-12-05 23:02:54 [scrapy.core.engine] DEBUG: Crawled (200) <GET http://guba.eastmoney.com/list,zssh000001_405.html> (referer: None)\n",
      "2019-12-05 23:02:54 [scrapy.core.engine] DEBUG: Crawled (200) <GET http://guba.eastmoney.com/list,zssh000001_407.html> (referer: None)\n",
      "2019-12-05 23:02:54 [scrapy.core.engine] DEBUG: Crawled (200) <GET http://guba.eastmoney.com/list,zssh000001_408.html> (referer: None)\n",
      "2019-12-05 23:02:54 [scrapy.core.engine] DEBUG: Crawled (200) <GET http://guba.eastmoney.com/list,zssh000001_409.html> (referer: None)\n"
     ]
    },
    {
     "name": "stdout",
     "output_type": "stream",
     "text": [
      "over: http://guba.eastmoney.com/list,zssh000001_398.html\n",
      "over: http://guba.eastmoney.com/list,zssh000001_399.html\n",
      "over: http://guba.eastmoney.com/list,zssh000001_403.html\n",
      "over: http://guba.eastmoney.com/list,zssh000001_406.html\n",
      "over: http://guba.eastmoney.com/list,zssh000001_402.html\n"
     ]
    },
    {
     "name": "stderr",
     "output_type": "stream",
     "text": [
      "2019-12-05 23:02:54 [scrapy.core.engine] DEBUG: Crawled (200) <GET http://guba.eastmoney.com/list,zssh000001_410.html> (referer: None)\n",
      "2019-12-05 23:02:54 [scrapy.core.engine] DEBUG: Crawled (200) <GET http://guba.eastmoney.com/list,zssh000001_413.html> (referer: None)\n",
      "2019-12-05 23:02:54 [scrapy.core.engine] DEBUG: Crawled (200) <GET http://guba.eastmoney.com/list,zssh000001_411.html> (referer: None)\n"
     ]
    },
    {
     "name": "stdout",
     "output_type": "stream",
     "text": [
      "over: http://guba.eastmoney.com/list,zssh000001_404.html\n",
      "over: http://guba.eastmoney.com/list,zssh000001_405.html\n",
      "over: http://guba.eastmoney.com/list,zssh000001_407.html\n",
      "over: http://guba.eastmoney.com/list,zssh000001_408.html\n",
      "over: http://guba.eastmoney.com/list,zssh000001_409.html\n"
     ]
    },
    {
     "name": "stderr",
     "output_type": "stream",
     "text": [
      "2019-12-05 23:02:55 [scrapy.core.engine] DEBUG: Crawled (200) <GET http://guba.eastmoney.com/list,zssh000001_418.html> (referer: None)\n",
      "2019-12-05 23:02:55 [scrapy.core.engine] DEBUG: Crawled (200) <GET http://guba.eastmoney.com/list,zssh000001_419.html> (referer: None)\n",
      "2019-12-05 23:02:55 [scrapy.core.engine] DEBUG: Crawled (200) <GET http://guba.eastmoney.com/list,zssh000001_420.html> (referer: None)\n",
      "2019-12-05 23:02:55 [scrapy.core.engine] DEBUG: Crawled (200) <GET http://guba.eastmoney.com/list,zssh000001_414.html> (referer: None)\n",
      "2019-12-05 23:02:55 [scrapy.core.engine] DEBUG: Crawled (200) <GET http://guba.eastmoney.com/list,zssh000001_415.html> (referer: None)\n",
      "2019-12-05 23:02:55 [scrapy.core.engine] DEBUG: Crawled (200) <GET http://guba.eastmoney.com/list,zssh000001_416.html> (referer: None)\n",
      "2019-12-05 23:02:55 [scrapy.core.engine] DEBUG: Crawled (200) <GET http://guba.eastmoney.com/list,zssh000001_417.html> (referer: None)\n",
      "2019-12-05 23:02:55 [scrapy.core.scraper] ERROR: Spider error processing <GET http://guba.eastmoney.com/list,zssh000001_418.html> (referer: None)\n",
      "Traceback (most recent call last):\n",
      "  File \"C:\\Users\\xuhon\\Anaconda3\\lib\\site-packages\\twisted\\internet\\defer.py\", line 654, in _runCallbacks\n",
      "    current.result = callback(current.result, *args, **kw)\n",
      "  File \"<ipython-input-1-c79c8daf22a6>\", line 41, in parse\n",
      "    self.csvWriter.writerow(item)\n",
      "  File \"C:\\Users\\xuhon\\Anaconda3\\lib\\csv.py\", line 155, in writerow\n",
      "    return self.writer.writerow(self._dict_to_list(rowdict))\n",
      "UnicodeEncodeError: 'gbk' codec can't encode character '\\u2022' in position 7: illegal multibyte sequence\n"
     ]
    },
    {
     "name": "stdout",
     "output_type": "stream",
     "text": [
      "over: http://guba.eastmoney.com/list,zssh000001_410.html\n",
      "over: http://guba.eastmoney.com/list,zssh000001_413.html\n",
      "over: http://guba.eastmoney.com/list,zssh000001_411.html\n",
      "over: http://guba.eastmoney.com/list,zssh000001_419.html\n",
      "over: http://guba.eastmoney.com/list,zssh000001_420.html\n"
     ]
    },
    {
     "name": "stderr",
     "output_type": "stream",
     "text": [
      "2019-12-05 23:02:55 [scrapy.core.engine] DEBUG: Crawled (200) <GET http://guba.eastmoney.com/list,zssh000001_412.html> (referer: None)\n",
      "2019-12-05 23:02:55 [scrapy.core.engine] DEBUG: Crawled (200) <GET http://guba.eastmoney.com/list,zssh000001_421.html> (referer: None)\n",
      "2019-12-05 23:02:55 [scrapy.core.scraper] ERROR: Spider error processing <GET http://guba.eastmoney.com/list,zssh000001_416.html> (referer: None)\n",
      "Traceback (most recent call last):\n",
      "  File \"C:\\Users\\xuhon\\Anaconda3\\lib\\site-packages\\twisted\\internet\\defer.py\", line 654, in _runCallbacks\n",
      "    current.result = callback(current.result, *args, **kw)\n",
      "  File \"<ipython-input-1-c79c8daf22a6>\", line 41, in parse\n",
      "    self.csvWriter.writerow(item)\n",
      "  File \"C:\\Users\\xuhon\\Anaconda3\\lib\\csv.py\", line 155, in writerow\n",
      "    return self.writer.writerow(self._dict_to_list(rowdict))\n",
      "UnicodeEncodeError: 'gbk' codec can't encode character '\\u2212' in position 6: illegal multibyte sequence\n",
      "2019-12-05 23:02:55 [scrapy.core.engine] DEBUG: Crawled (200) <GET http://guba.eastmoney.com/list,zssh000001_423.html> (referer: None)\n",
      "2019-12-05 23:02:55 [scrapy.core.engine] DEBUG: Crawled (200) <GET http://guba.eastmoney.com/list,zssh000001_425.html> (referer: None)\n",
      "2019-12-05 23:02:55 [scrapy.core.engine] DEBUG: Crawled (200) <GET http://guba.eastmoney.com/list,zssh000001_427.html> (referer: None)\n"
     ]
    },
    {
     "name": "stdout",
     "output_type": "stream",
     "text": [
      "over: http://guba.eastmoney.com/list,zssh000001_414.html\n",
      "over: http://guba.eastmoney.com/list,zssh000001_415.html\n",
      "over: http://guba.eastmoney.com/list,zssh000001_417.html\n",
      "over: http://guba.eastmoney.com/list,zssh000001_412.html\n",
      "over: http://guba.eastmoney.com/list,zssh000001_421.html"
     ]
    },
    {
     "name": "stderr",
     "output_type": "stream",
     "text": [
      "2019-12-05 23:02:55 [scrapy.core.engine] DEBUG: Crawled (200) <GET http://guba.eastmoney.com/list,zssh000001_422.html> (referer: None)\n",
      "2019-12-05 23:02:55 [scrapy.core.engine] DEBUG: Crawled (200) <GET http://guba.eastmoney.com/list,zssh000001_424.html> (referer: None)\n",
      "2019-12-05 23:02:55 [scrapy.core.engine] DEBUG: Crawled (200) <GET http://guba.eastmoney.com/list,zssh000001_426.html> (referer: None)\n"
     ]
    },
    {
     "name": "stdout",
     "output_type": "stream",
     "text": [
      "\n",
      "over: http://guba.eastmoney.com/list,zssh000001_423.html\n",
      "over: http://guba.eastmoney.com/list,zssh000001_425.html\n",
      "over: http://guba.eastmoney.com/list,zssh000001_427.html\n",
      "over: http://guba.eastmoney.com/list,zssh000001_422.html\n",
      "over: http://guba.eastmoney.com/list,zssh000001_424.html\n"
     ]
    },
    {
     "name": "stderr",
     "output_type": "stream",
     "text": [
      "2019-12-05 23:02:55 [scrapy.core.engine] DEBUG: Crawled (200) <GET http://guba.eastmoney.com/list,zssh000001_429.html> (referer: None)\n",
      "2019-12-05 23:02:55 [scrapy.core.engine] DEBUG: Crawled (200) <GET http://guba.eastmoney.com/list,zssh000001_434.html> (referer: None)\n",
      "2019-12-05 23:02:55 [scrapy.core.engine] DEBUG: Crawled (200) <GET http://guba.eastmoney.com/list,zssh000001_431.html> (referer: None)\n",
      "2019-12-05 23:02:55 [scrapy.core.engine] DEBUG: Crawled (200) <GET http://guba.eastmoney.com/list,zssh000001_432.html> (referer: None)\n",
      "2019-12-05 23:02:55 [scrapy.downloadermiddlewares.redirect] DEBUG: Redirecting (meta refresh) to <GET http://www.eastmoney.com/> from <GET http://guba.eastmoney.com/list,zssh000001_436.html>\n",
      "2019-12-05 23:02:55 [scrapy.downloadermiddlewares.redirect] DEBUG: Redirecting (meta refresh) to <GET http://www.eastmoney.com/> from <GET http://guba.eastmoney.com/list,zssh000001_437.html>\n",
      "2019-12-05 23:02:55 [scrapy.dupefilters] DEBUG: Filtered duplicate request: <GET http://www.eastmoney.com/> - no more duplicates will be shown (see DUPEFILTER_DEBUG to show all duplicates)\n",
      "2019-12-05 23:02:56 [scrapy.core.engine] DEBUG: Crawled (200) <GET http://guba.eastmoney.com/list,zssh000001_430.html> (referer: None)\n",
      "2019-12-05 23:02:56 [scrapy.core.engine] DEBUG: Crawled (200) <GET http://guba.eastmoney.com/list,zssh000001_435.html> (referer: None)\n"
     ]
    },
    {
     "name": "stdout",
     "output_type": "stream",
     "text": [
      "over: http://guba.eastmoney.com/list,zssh000001_426.html\n",
      "over: http://guba.eastmoney.com/list,zssh000001_429.html\n"
     ]
    },
    {
     "name": "stderr",
     "output_type": "stream",
     "text": [
      "2019-12-05 23:02:56 [scrapy.core.engine] DEBUG: Crawled (200) <GET http://guba.eastmoney.com/list,zssh000001_428.html> (referer: None)\n",
      "2019-12-05 23:02:56 [scrapy.core.engine] DEBUG: Crawled (200) <GET http://guba.eastmoney.com/list,zssh000001_433.html> (referer: None)\n",
      "2019-12-05 23:02:56 [scrapy.core.engine] DEBUG: Crawled (200) <GET http://guba.eastmoney.com/list,zssh000001_439.html> (referer: None)\n"
     ]
    },
    {
     "name": "stdout",
     "output_type": "stream",
     "text": [
      "over: http://guba.eastmoney.com/list,zssh000001_434.html\n",
      "over: http://guba.eastmoney.com/list,zssh000001_431.html\n",
      "over: http://guba.eastmoney.com/list,zssh000001_432.html\n"
     ]
    },
    {
     "name": "stderr",
     "output_type": "stream",
     "text": [
      "2019-12-05 23:02:56 [scrapy.core.engine] DEBUG: Crawled (200) <GET http://guba.eastmoney.com/list,zssh000001_440.html> (referer: None)\n",
      "2019-12-05 23:02:56 [scrapy.core.engine] DEBUG: Crawled (200) <GET http://guba.eastmoney.com/list,zssh000001_441.html> (referer: None)\n",
      "2019-12-05 23:02:56 [scrapy.downloadermiddlewares.redirect] DEBUG: Redirecting (meta refresh) to <GET http://www.eastmoney.com/> from <GET http://guba.eastmoney.com/list,zssh000001_442.html>\n",
      "2019-12-05 23:02:56 [scrapy.core.engine] DEBUG: Crawled (200) <GET http://guba.eastmoney.com/list,zssh000001_438.html> (referer: None)\n",
      "2019-12-05 23:02:56 [scrapy.core.engine] DEBUG: Crawled (200) <GET http://guba.eastmoney.com/list,zssh000001_443.html> (referer: None)\n"
     ]
    },
    {
     "name": "stdout",
     "output_type": "stream",
     "text": [
      "over: http://guba.eastmoney.com/list,zssh000001_430.html\n",
      "over: http://guba.eastmoney.com/list,zssh000001_435.html\n"
     ]
    },
    {
     "name": "stderr",
     "output_type": "stream",
     "text": [
      "2019-12-05 23:02:56 [scrapy.downloadermiddlewares.redirect] DEBUG: Redirecting (meta refresh) to <GET http://www.eastmoney.com/> from <GET http://guba.eastmoney.com/list,zssh000001_446.html>\n"
     ]
    },
    {
     "name": "stdout",
     "output_type": "stream",
     "text": [
      "over: http://guba.eastmoney.com/list,zssh000001_428.html\n",
      "over: http://guba.eastmoney.com/list,zssh000001_433.html\n",
      "over: http://guba.eastmoney.com/list,zssh000001_439.html\n",
      "over: http://guba.eastmoney.com/list,zssh000001_440.html\n",
      "over: http://guba.eastmoney.com/list,zssh000001_441.html\n"
     ]
    },
    {
     "name": "stderr",
     "output_type": "stream",
     "text": [
      "2019-12-05 23:02:56 [scrapy.core.engine] DEBUG: Crawled (200) <GET http://guba.eastmoney.com/list,zssh000001_444.html> (referer: None)\n",
      "2019-12-05 23:02:56 [scrapy.core.engine] DEBUG: Crawled (200) <GET http://guba.eastmoney.com/list,zssh000001_445.html> (referer: None)\n",
      "2019-12-05 23:02:56 [scrapy.core.engine] DEBUG: Crawled (200) <GET http://guba.eastmoney.com/list,zssh000001_448.html> (referer: None)\n",
      "2019-12-05 23:02:56 [scrapy.core.engine] DEBUG: Crawled (200) <GET http://guba.eastmoney.com/list,zssh000001_447.html> (referer: None)\n",
      "2019-12-05 23:02:56 [scrapy.core.engine] DEBUG: Crawled (200) <GET http://guba.eastmoney.com/list,zssh000001_449.html> (referer: None)\n",
      "2019-12-05 23:02:56 [scrapy.downloadermiddlewares.redirect] DEBUG: Redirecting (meta refresh) to <GET http://www.eastmoney.com/> from <GET http://guba.eastmoney.com/list,zssh000001_455.html>\n",
      "2019-12-05 23:02:56 [scrapy.downloadermiddlewares.redirect] DEBUG: Redirecting (meta refresh) to <GET http://www.eastmoney.com/> from <GET http://guba.eastmoney.com/list,zssh000001_456.html>\n"
     ]
    },
    {
     "name": "stdout",
     "output_type": "stream",
     "text": [
      "over: http://guba.eastmoney.com/list,zssh000001_438.html\n",
      "over: http://guba.eastmoney.com/list,zssh000001_443.html\n"
     ]
    },
    {
     "name": "stderr",
     "output_type": "stream",
     "text": [
      "2019-12-05 23:02:56 [scrapy.core.engine] DEBUG: Crawled (200) <GET http://www.eastmoney.com/> (referer: None)\n",
      "2019-12-05 23:02:57 [scrapy.core.engine] DEBUG: Crawled (200) <GET http://guba.eastmoney.com/list,zssh000001_454.html> (referer: None)\n"
     ]
    },
    {
     "name": "stdout",
     "output_type": "stream",
     "text": [
      "over: http://guba.eastmoney.com/list,zssh000001_444.html\n",
      "over: http://guba.eastmoney.com/list,zssh000001_445.html\n",
      "over: http://guba.eastmoney.com/list,zssh000001_448.html\n",
      "over: http://guba.eastmoney.com/list,zssh000001_447.html\n",
      "over: http://guba.eastmoney.com/list,zssh000001_449.html\n"
     ]
    },
    {
     "name": "stderr",
     "output_type": "stream",
     "text": [
      "2019-12-05 23:02:57 [scrapy.core.engine] DEBUG: Crawled (200) <GET http://guba.eastmoney.com/list,zssh000001_458.html> (referer: None)\n",
      "2019-12-05 23:02:57 [scrapy.core.engine] DEBUG: Crawled (200) <GET http://guba.eastmoney.com/list,zssh000001_450.html> (referer: None)\n",
      "2019-12-05 23:02:57 [scrapy.core.engine] DEBUG: Crawled (200) <GET http://guba.eastmoney.com/list,zssh000001_451.html> (referer: None)\n",
      "2019-12-05 23:02:57 [scrapy.core.engine] DEBUG: Crawled (200) <GET http://guba.eastmoney.com/list,zssh000001_452.html> (referer: None)\n",
      "2019-12-05 23:02:57 [scrapy.downloadermiddlewares.redirect] DEBUG: Redirecting (meta refresh) to <GET http://www.eastmoney.com/> from <GET http://guba.eastmoney.com/list,zssh000001_459.html>\n",
      "2019-12-05 23:02:57 [scrapy.core.scraper] ERROR: Spider error processing <GET http://guba.eastmoney.com/list,zssh000001_458.html> (referer: None)\n",
      "Traceback (most recent call last):\n",
      "  File \"C:\\Users\\xuhon\\Anaconda3\\lib\\site-packages\\twisted\\internet\\defer.py\", line 654, in _runCallbacks\n",
      "    current.result = callback(current.result, *args, **kw)\n",
      "  File \"<ipython-input-1-c79c8daf22a6>\", line 41, in parse\n",
      "    self.csvWriter.writerow(item)\n",
      "  File \"C:\\Users\\xuhon\\Anaconda3\\lib\\csv.py\", line 155, in writerow\n",
      "    return self.writer.writerow(self._dict_to_list(rowdict))\n",
      "UnicodeEncodeError: 'gbk' codec can't encode character '\\u20ac' in position 22: illegal multibyte sequence\n"
     ]
    },
    {
     "name": "stdout",
     "output_type": "stream",
     "text": [
      "over: http://www.eastmoney.com/\n",
      "over: http://guba.eastmoney.com/list,zssh000001_454.html\n",
      "over: http://guba.eastmoney.com/list,zssh000001_450.html\n",
      "over: http://guba.eastmoney.com/list,zssh000001_451.html\n"
     ]
    },
    {
     "name": "stderr",
     "output_type": "stream",
     "text": [
      "2019-12-05 23:02:57 [scrapy.core.engine] DEBUG: Crawled (200) <GET http://guba.eastmoney.com/list,zssh000001_453.html> (referer: None)\n",
      "2019-12-05 23:02:57 [scrapy.downloadermiddlewares.redirect] DEBUG: Redirecting (meta refresh) to <GET http://www.eastmoney.com/> from <GET http://guba.eastmoney.com/list,zssh000001_460.html>\n",
      "2019-12-05 23:02:57 [scrapy.core.engine] DEBUG: Crawled (200) <GET http://guba.eastmoney.com/list,zssh000001_461.html> (referer: None)\n",
      "2019-12-05 23:02:57 [scrapy.core.engine] DEBUG: Crawled (200) <GET http://guba.eastmoney.com/list,zssh000001_457.html> (referer: None)\n",
      "2019-12-05 23:02:57 [scrapy.core.engine] DEBUG: Crawled (200) <GET http://guba.eastmoney.com/list,zssh000001_462.html> (referer: None)\n",
      "2019-12-05 23:02:57 [scrapy.core.engine] DEBUG: Crawled (200) <GET http://guba.eastmoney.com/list,zssh000001_463.html> (referer: None)\n"
     ]
    },
    {
     "name": "stdout",
     "output_type": "stream",
     "text": [
      "over: http://guba.eastmoney.com/list,zssh000001_452.html\n",
      "over: http://guba.eastmoney.com/list,zssh000001_453.html\n",
      "over: http://guba.eastmoney.com/list,zssh000001_461.html\n"
     ]
    },
    {
     "name": "stderr",
     "output_type": "stream",
     "text": [
      "2019-12-05 23:02:57 [scrapy.core.engine] DEBUG: Crawled (200) <GET http://guba.eastmoney.com/list,zssh000001_465.html> (referer: None)\n",
      "2019-12-05 23:02:57 [scrapy.core.engine] DEBUG: Crawled (200) <GET http://guba.eastmoney.com/list,zssh000001_467.html> (referer: None)\n",
      "2019-12-05 23:02:57 [scrapy.core.engine] DEBUG: Crawled (200) <GET http://guba.eastmoney.com/list,zssh000001_468.html> (referer: None)\n",
      "2019-12-05 23:02:57 [scrapy.core.engine] DEBUG: Crawled (200) <GET http://guba.eastmoney.com/list,zssh000001_469.html> (referer: None)\n",
      "2019-12-05 23:02:57 [scrapy.core.engine] DEBUG: Crawled (200) <GET http://guba.eastmoney.com/list,zssh000001_470.html> (referer: None)\n",
      "2019-12-05 23:02:57 [scrapy.core.engine] DEBUG: Crawled (200) <GET http://guba.eastmoney.com/list,zssh000001_471.html> (referer: None)\n",
      "2019-12-05 23:02:57 [scrapy.core.engine] DEBUG: Crawled (200) <GET http://guba.eastmoney.com/list,zssh000001_464.html> (referer: None)\n"
     ]
    },
    {
     "name": "stdout",
     "output_type": "stream",
     "text": [
      "over: http://guba.eastmoney.com/list,zssh000001_457.html\n",
      "over: http://guba.eastmoney.com/list,zssh000001_462.html\n"
     ]
    },
    {
     "name": "stderr",
     "output_type": "stream",
     "text": [
      "2019-12-05 23:02:57 [scrapy.core.engine] DEBUG: Crawled (200) <GET http://guba.eastmoney.com/list,zssh000001_466.html> (referer: None)\n"
     ]
    },
    {
     "name": "stdout",
     "output_type": "stream",
     "text": [
      "over: http://guba.eastmoney.com/list,zssh000001_463.html\n",
      "over: http://guba.eastmoney.com/list,zssh000001_465.html\n",
      "over: http://guba.eastmoney.com/list,zssh000001_467.html\n",
      "over: http://guba.eastmoney.com/list,zssh000001_468.html\n",
      "over: http://guba.eastmoney.com/list,zssh000001_469.html\n"
     ]
    },
    {
     "name": "stderr",
     "output_type": "stream",
     "text": [
      "2019-12-05 23:02:58 [scrapy.core.engine] DEBUG: Crawled (200) <GET http://guba.eastmoney.com/list,zssh000001_479.html> (referer: None)\n",
      "2019-12-05 23:02:58 [scrapy.core.engine] DEBUG: Crawled (200) <GET http://guba.eastmoney.com/list,zssh000001_472.html> (referer: None)\n",
      "2019-12-05 23:02:58 [scrapy.core.engine] DEBUG: Crawled (200) <GET http://guba.eastmoney.com/list,zssh000001_473.html> (referer: None)\n",
      "2019-12-05 23:02:58 [scrapy.core.engine] DEBUG: Crawled (200) <GET http://guba.eastmoney.com/list,zssh000001_474.html> (referer: None)\n",
      "2019-12-05 23:02:58 [scrapy.downloadermiddlewares.redirect] DEBUG: Redirecting (meta refresh) to <GET http://www.eastmoney.com/> from <GET http://guba.eastmoney.com/list,zssh000001_475.html>\n",
      "2019-12-05 23:02:58 [scrapy.core.engine] DEBUG: Crawled (200) <GET http://guba.eastmoney.com/list,zssh000001_476.html> (referer: None)\n",
      "2019-12-05 23:02:58 [scrapy.downloadermiddlewares.redirect] DEBUG: Redirecting (meta refresh) to <GET http://www.eastmoney.com/> from <GET http://guba.eastmoney.com/list,zssh000001_478.html>\n"
     ]
    },
    {
     "name": "stdout",
     "output_type": "stream",
     "text": [
      "over: http://guba.eastmoney.com/list,zssh000001_470.html\n",
      "over: http://guba.eastmoney.com/list,zssh000001_471.html\n",
      "over: http://guba.eastmoney.com/list,zssh000001_464.html\n",
      "over: http://guba.eastmoney.com/list,zssh000001_466.html\n"
     ]
    },
    {
     "name": "stderr",
     "output_type": "stream",
     "text": [
      "2019-12-05 23:02:58 [scrapy.downloadermiddlewares.redirect] DEBUG: Redirecting (meta refresh) to <GET http://www.eastmoney.com/> from <GET http://guba.eastmoney.com/list,zssh000001_484.html>\n",
      "2019-12-05 23:02:58 [scrapy.core.engine] DEBUG: Crawled (200) <GET http://guba.eastmoney.com/list,zssh000001_477.html> (referer: None)\n"
     ]
    },
    {
     "name": "stdout",
     "output_type": "stream",
     "text": [
      "over: http://guba.eastmoney.com/list,zssh000001_479.html\n",
      "over: http://guba.eastmoney.com/list,zssh000001_472.html\n",
      "over: http://guba.eastmoney.com/list,zssh000001_473.html\n",
      "over: http://guba.eastmoney.com/list,zssh000001_474.html"
     ]
    },
    {
     "name": "stderr",
     "output_type": "stream",
     "text": [
      "2019-12-05 23:02:58 [scrapy.core.engine] DEBUG: Crawled (200) <GET http://guba.eastmoney.com/list,zssh000001_480.html> (referer: None)\n",
      "2019-12-05 23:02:58 [scrapy.core.engine] DEBUG: Crawled (200) <GET http://guba.eastmoney.com/list,zssh000001_481.html> (referer: None)\n",
      "2019-12-05 23:02:58 [scrapy.core.engine] DEBUG: Crawled (200) <GET http://guba.eastmoney.com/list,zssh000001_482.html> (referer: None)\n",
      "2019-12-05 23:02:58 [scrapy.core.engine] DEBUG: Crawled (200) <GET http://guba.eastmoney.com/list,zssh000001_483.html> (referer: None)\n",
      "2019-12-05 23:02:58 [scrapy.core.engine] DEBUG: Crawled (200) <GET http://guba.eastmoney.com/list,zssh000001_485.html> (referer: None)\n",
      "2019-12-05 23:02:58 [scrapy.core.engine] DEBUG: Crawled (200) <GET http://guba.eastmoney.com/list,zssh000001_486.html> (referer: None)\n"
     ]
    },
    {
     "name": "stdout",
     "output_type": "stream",
     "text": [
      "\n",
      "over: http://guba.eastmoney.com/list,zssh000001_476.html\n",
      "over: http://guba.eastmoney.com/list,zssh000001_477.html\n"
     ]
    },
    {
     "name": "stderr",
     "output_type": "stream",
     "text": [
      "2019-12-05 23:02:58 [scrapy.downloadermiddlewares.redirect] DEBUG: Redirecting (meta refresh) to <GET http://www.eastmoney.com/> from <GET http://guba.eastmoney.com/list,zssh000001_488.html>\n",
      "2019-12-05 23:02:58 [scrapy.downloadermiddlewares.redirect] DEBUG: Redirecting (meta refresh) to <GET http://www.eastmoney.com/> from <GET http://guba.eastmoney.com/list,zssh000001_487.html>\n",
      "2019-12-05 23:02:58 [scrapy.downloadermiddlewares.redirect] DEBUG: Redirecting (meta refresh) to <GET http://www.eastmoney.com/> from <GET http://guba.eastmoney.com/list,zssh000001_490.html>\n",
      "2019-12-05 23:02:58 [scrapy.downloadermiddlewares.redirect] DEBUG: Redirecting (meta refresh) to <GET http://www.eastmoney.com/> from <GET http://guba.eastmoney.com/list,zssh000001_495.html>\n"
     ]
    },
    {
     "name": "stdout",
     "output_type": "stream",
     "text": [
      "over: http://guba.eastmoney.com/list,zssh000001_480.html\n",
      "over: http://guba.eastmoney.com/list,zssh000001_481.html\n",
      "over: http://guba.eastmoney.com/list,zssh000001_482.html\n",
      "over: http://guba.eastmoney.com/list,zssh000001_483.html\n"
     ]
    },
    {
     "name": "stderr",
     "output_type": "stream",
     "text": [
      "2019-12-05 23:02:59 [scrapy.core.engine] DEBUG: Crawled (200) <GET http://guba.eastmoney.com/list,zssh000001_489.html> (referer: None)\n",
      "2019-12-05 23:02:59 [scrapy.core.engine] DEBUG: Crawled (200) <GET http://guba.eastmoney.com/list,zssh000001_491.html> (referer: None)\n",
      "2019-12-05 23:02:59 [scrapy.core.engine] DEBUG: Crawled (200) <GET http://guba.eastmoney.com/list,zssh000001_492.html> (referer: None)\n",
      "2019-12-05 23:02:59 [scrapy.core.engine] DEBUG: Crawled (200) <GET http://guba.eastmoney.com/list,zssh000001_496.html> (referer: None)\n"
     ]
    },
    {
     "name": "stdout",
     "output_type": "stream",
     "text": [
      "over: http://guba.eastmoney.com/list,zssh000001_485.html\n",
      "over: http://guba.eastmoney.com/list,zssh000001_486.html\n"
     ]
    },
    {
     "name": "stderr",
     "output_type": "stream",
     "text": [
      "2019-12-05 23:02:59 [scrapy.downloadermiddlewares.redirect] DEBUG: Redirecting (meta refresh) to <GET http://www.eastmoney.com/> from <GET http://guba.eastmoney.com/list,zssh000001_493.html>\n",
      "2019-12-05 23:02:59 [scrapy.core.engine] DEBUG: Crawled (200) <GET http://guba.eastmoney.com/list,zssh000001_494.html> (referer: None)\n",
      "2019-12-05 23:02:59 [scrapy.downloadermiddlewares.redirect] DEBUG: Redirecting (meta refresh) to <GET http://www.eastmoney.com/> from <GET http://guba.eastmoney.com/list,zssh000001_500.html>\n",
      "2019-12-05 23:02:59 [scrapy.downloadermiddlewares.redirect] DEBUG: Redirecting (meta refresh) to <GET http://www.eastmoney.com/> from <GET http://guba.eastmoney.com/list,zssh000001_501.html>\n",
      "2019-12-05 23:02:59 [scrapy.downloadermiddlewares.redirect] DEBUG: Redirecting (meta refresh) to <GET http://www.eastmoney.com/> from <GET http://guba.eastmoney.com/list,zssh000001_499.html>\n",
      "2019-12-05 23:02:59 [scrapy.downloadermiddlewares.redirect] DEBUG: Redirecting (meta refresh) to <GET http://www.eastmoney.com/> from <GET http://guba.eastmoney.com/list,zssh000001_497.html>\n",
      "2019-12-05 23:02:59 [scrapy.downloadermiddlewares.redirect] DEBUG: Redirecting (meta refresh) to <GET http://www.eastmoney.com/> from <GET http://guba.eastmoney.com/list,zssh000001_504.html>\n",
      "2019-12-05 23:02:59 [scrapy.downloadermiddlewares.redirect] DEBUG: Redirecting (meta refresh) to <GET http://www.eastmoney.com/> from <GET http://guba.eastmoney.com/list,zssh000001_506.html>\n"
     ]
    },
    {
     "name": "stdout",
     "output_type": "stream",
     "text": [
      "over: http://guba.eastmoney.com/list,zssh000001_489.html\n",
      "over: http://guba.eastmoney.com/list,zssh000001_491.html\n",
      "over: http://guba.eastmoney.com/list,zssh000001_492.html\n",
      "over: http://guba.eastmoney.com/list,zssh000001_496.html\n",
      "over: http://guba.eastmoney.com/list,zssh000001_494.html\n"
     ]
    },
    {
     "name": "stderr",
     "output_type": "stream",
     "text": [
      "2019-12-05 23:02:59 [scrapy.core.engine] DEBUG: Crawled (200) <GET http://guba.eastmoney.com/list,zssh000001_507.html> (referer: None)\n",
      "2019-12-05 23:02:59 [scrapy.core.engine] DEBUG: Crawled (200) <GET http://guba.eastmoney.com/list,zssh000001_508.html> (referer: None)\n",
      "2019-12-05 23:02:59 [scrapy.core.engine] DEBUG: Crawled (200) <GET http://guba.eastmoney.com/list,zssh000001_505.html> (referer: None)\n",
      "2019-12-05 23:02:59 [scrapy.core.engine] DEBUG: Crawled (200) <GET http://guba.eastmoney.com/list,zssh000001_502.html> (referer: None)\n",
      "2019-12-05 23:02:59 [scrapy.core.engine] DEBUG: Crawled (200) <GET http://guba.eastmoney.com/list,zssh000001_503.html> (referer: None)\n",
      "2019-12-05 23:02:59 [scrapy.core.engine] DEBUG: Crawled (200) <GET http://guba.eastmoney.com/list,zssh000001_498.html> (referer: None)\n",
      "2019-12-05 23:02:59 [scrapy.core.engine] DEBUG: Crawled (200) <GET http://guba.eastmoney.com/list,zssh000001_509.html> (referer: None)\n",
      "2019-12-05 23:02:59 [scrapy.downloadermiddlewares.redirect] DEBUG: Redirecting (meta refresh) to <GET http://www.eastmoney.com/> from <GET http://guba.eastmoney.com/list,zssh000001_515.html>\n",
      "2019-12-05 23:02:59 [scrapy.core.scraper] ERROR: Spider error processing <GET http://guba.eastmoney.com/list,zssh000001_502.html> (referer: None)\n",
      "Traceback (most recent call last):\n",
      "  File \"C:\\Users\\xuhon\\Anaconda3\\lib\\site-packages\\twisted\\internet\\defer.py\", line 654, in _runCallbacks\n",
      "    current.result = callback(current.result, *args, **kw)\n",
      "  File \"<ipython-input-1-c79c8daf22a6>\", line 41, in parse\n",
      "    self.csvWriter.writerow(item)\n",
      "  File \"C:\\Users\\xuhon\\Anaconda3\\lib\\csv.py\", line 155, in writerow\n",
      "    return self.writer.writerow(self._dict_to_list(rowdict))\n",
      "UnicodeEncodeError: 'gbk' codec can't encode character '\\u22ef' in position 17: illegal multibyte sequence\n"
     ]
    },
    {
     "name": "stdout",
     "output_type": "stream",
     "text": [
      "over: http://guba.eastmoney.com/list,zssh000001_507.html\n",
      "over: http://guba.eastmoney.com/list,zssh000001_508.html\n",
      "over: http://guba.eastmoney.com/list,zssh000001_505.html\n",
      "over: http://guba.eastmoney.com/list,zssh000001_503.html\n"
     ]
    },
    {
     "name": "stderr",
     "output_type": "stream",
     "text": [
      "2019-12-05 23:03:00 [scrapy.core.engine] DEBUG: Crawled (200) <GET http://guba.eastmoney.com/list,zssh000001_511.html> (referer: None)\n",
      "2019-12-05 23:03:00 [scrapy.core.engine] DEBUG: Crawled (200) <GET http://guba.eastmoney.com/list,zssh000001_512.html> (referer: None)\n",
      "2019-12-05 23:03:00 [scrapy.core.engine] DEBUG: Crawled (200) <GET http://guba.eastmoney.com/list,zssh000001_513.html> (referer: None)\n",
      "2019-12-05 23:03:00 [scrapy.core.engine] DEBUG: Crawled (200) <GET http://guba.eastmoney.com/list,zssh000001_510.html> (referer: None)\n",
      "2019-12-05 23:03:00 [scrapy.core.engine] DEBUG: Crawled (200) <GET http://guba.eastmoney.com/list,zssh000001_514.html> (referer: None)\n",
      "2019-12-05 23:03:00 [scrapy.core.engine] DEBUG: Crawled (200) <GET http://guba.eastmoney.com/list,zssh000001_516.html> (referer: None)\n",
      "2019-12-05 23:03:00 [scrapy.core.engine] DEBUG: Crawled (200) <GET http://guba.eastmoney.com/list,zssh000001_517.html> (referer: None)\n"
     ]
    },
    {
     "name": "stdout",
     "output_type": "stream",
     "text": [
      "over: http://guba.eastmoney.com/list,zssh000001_498.html\n",
      "over: http://guba.eastmoney.com/list,zssh000001_509.html\n"
     ]
    },
    {
     "name": "stderr",
     "output_type": "stream",
     "text": [
      "2019-12-05 23:03:00 [scrapy.downloadermiddlewares.redirect] DEBUG: Redirecting (meta refresh) to <GET http://www.eastmoney.com/> from <GET http://guba.eastmoney.com/list,zssh000001_519.html>\n",
      "2019-12-05 23:03:00 [scrapy.downloadermiddlewares.redirect] DEBUG: Redirecting (meta refresh) to <GET http://www.eastmoney.com/> from <GET http://guba.eastmoney.com/list,zssh000001_520.html>\n",
      "2019-12-05 23:03:00 [scrapy.downloadermiddlewares.redirect] DEBUG: Redirecting (meta refresh) to <GET http://www.eastmoney.com/> from <GET http://guba.eastmoney.com/list,zssh000001_524.html>\n"
     ]
    },
    {
     "name": "stdout",
     "output_type": "stream",
     "text": [
      "over: http://guba.eastmoney.com/list,zssh000001_511.html\n",
      "over: http://guba.eastmoney.com/list,zssh000001_512.html\n",
      "over: http://guba.eastmoney.com/list,zssh000001_513.html\n",
      "over: http://guba.eastmoney.com/list,zssh000001_510.html\n"
     ]
    },
    {
     "name": "stderr",
     "output_type": "stream",
     "text": [
      "2019-12-05 23:03:00 [scrapy.core.engine] DEBUG: Crawled (200) <GET http://guba.eastmoney.com/list,zssh000001_521.html> (referer: None)\n",
      "2019-12-05 23:03:00 [scrapy.core.engine] DEBUG: Crawled (200) <GET http://guba.eastmoney.com/list,zssh000001_522.html> (referer: None)\n",
      "2019-12-05 23:03:00 [scrapy.core.engine] DEBUG: Crawled (200) <GET http://guba.eastmoney.com/list,zssh000001_523.html> (referer: None)\n",
      "2019-12-05 23:03:00 [scrapy.core.engine] DEBUG: Crawled (200) <GET http://guba.eastmoney.com/list,zssh000001_518.html> (referer: None)\n",
      "2019-12-05 23:03:00 [scrapy.core.engine] DEBUG: Crawled (200) <GET http://guba.eastmoney.com/list,zssh000001_525.html> (referer: None)\n",
      "2019-12-05 23:03:00 [scrapy.downloadermiddlewares.redirect] DEBUG: Redirecting (meta refresh) to <GET http://www.eastmoney.com/> from <GET http://guba.eastmoney.com/list,zssh000001_528.html>\n"
     ]
    },
    {
     "name": "stdout",
     "output_type": "stream",
     "text": [
      "over: http://guba.eastmoney.com/list,zssh000001_514.html\n",
      "over: http://guba.eastmoney.com/list,zssh000001_516.html\n",
      "over: http://guba.eastmoney.com/list,zssh000001_517.html\n"
     ]
    },
    {
     "name": "stderr",
     "output_type": "stream",
     "text": [
      "2019-12-05 23:03:00 [scrapy.core.engine] DEBUG: Crawled (200) <GET http://guba.eastmoney.com/list,zssh000001_526.html> (referer: None)\n",
      "2019-12-05 23:03:00 [scrapy.core.engine] DEBUG: Crawled (200) <GET http://guba.eastmoney.com/list,zssh000001_527.html> (referer: None)\n",
      "2019-12-05 23:03:00 [scrapy.core.engine] DEBUG: Crawled (200) <GET http://guba.eastmoney.com/list,zssh000001_529.html> (referer: None)\n",
      "2019-12-05 23:03:00 [scrapy.core.engine] DEBUG: Crawled (200) <GET http://guba.eastmoney.com/list,zssh000001_530.html> (referer: None)\n",
      "2019-12-05 23:03:00 [scrapy.core.engine] DEBUG: Crawled (200) <GET http://guba.eastmoney.com/list,zssh000001_531.html> (referer: None)\n",
      "2019-12-05 23:03:00 [scrapy.core.engine] DEBUG: Crawled (200) <GET http://guba.eastmoney.com/list,zssh000001_532.html> (referer: None)\n"
     ]
    },
    {
     "name": "stdout",
     "output_type": "stream",
     "text": [
      "over: http://guba.eastmoney.com/list,zssh000001_521.html\n",
      "over: http://guba.eastmoney.com/list,zssh000001_522.html\n",
      "over: http://guba.eastmoney.com/list,zssh000001_523.html\n",
      "over: http://guba.eastmoney.com/list,zssh000001_518.html\n"
     ]
    },
    {
     "name": "stderr",
     "output_type": "stream",
     "text": [
      "2019-12-05 23:03:00 [scrapy.core.engine] DEBUG: Crawled (200) <GET http://guba.eastmoney.com/list,zssh000001_534.html> (referer: None)\n",
      "2019-12-05 23:03:00 [scrapy.core.engine] DEBUG: Crawled (200) <GET http://guba.eastmoney.com/list,zssh000001_533.html> (referer: None)\n",
      "2019-12-05 23:03:01 [scrapy.downloadermiddlewares.redirect] DEBUG: Redirecting (meta refresh) to <GET http://www.eastmoney.com/> from <GET http://guba.eastmoney.com/list,zssh000001_542.html>\n",
      "2019-12-05 23:03:01 [scrapy.core.scraper] ERROR: Spider error processing <GET http://guba.eastmoney.com/list,zssh000001_527.html> (referer: None)\n",
      "Traceback (most recent call last):\n",
      "  File \"C:\\Users\\xuhon\\Anaconda3\\lib\\site-packages\\twisted\\internet\\defer.py\", line 654, in _runCallbacks\n",
      "    current.result = callback(current.result, *args, **kw)\n",
      "  File \"<ipython-input-1-c79c8daf22a6>\", line 41, in parse\n",
      "    self.csvWriter.writerow(item)\n",
      "  File \"C:\\Users\\xuhon\\Anaconda3\\lib\\csv.py\", line 155, in writerow\n",
      "    return self.writer.writerow(self._dict_to_list(rowdict))\n",
      "UnicodeEncodeError: 'gbk' codec can't encode character '\\u2022' in position 7: illegal multibyte sequence\n"
     ]
    },
    {
     "name": "stdout",
     "output_type": "stream",
     "text": [
      "over: http://guba.eastmoney.com/list,zssh000001_525.html\n",
      "over: http://guba.eastmoney.com/list,zssh000001_526.html\n",
      "over: http://guba.eastmoney.com/list,zssh000001_529.html\n",
      "over: http://guba.eastmoney.com/list,zssh000001_530.html\n"
     ]
    },
    {
     "name": "stderr",
     "output_type": "stream",
     "text": [
      "2019-12-05 23:03:01 [scrapy.core.engine] DEBUG: Crawled (200) <GET http://guba.eastmoney.com/list,zssh000001_535.html> (referer: None)\n",
      "2019-12-05 23:03:01 [scrapy.core.engine] DEBUG: Crawled (200) <GET http://guba.eastmoney.com/list,zssh000001_537.html> (referer: None)\n",
      "2019-12-05 23:03:01 [scrapy.core.engine] DEBUG: Crawled (200) <GET http://guba.eastmoney.com/list,zssh000001_538.html> (referer: None)\n",
      "2019-12-05 23:03:01 [scrapy.core.engine] DEBUG: Crawled (200) <GET http://guba.eastmoney.com/list,zssh000001_539.html> (referer: None)\n",
      "2019-12-05 23:03:01 [scrapy.core.engine] DEBUG: Crawled (200) <GET http://guba.eastmoney.com/list,zssh000001_540.html> (referer: None)\n"
     ]
    },
    {
     "name": "stdout",
     "output_type": "stream",
     "text": [
      "over: http://guba.eastmoney.com/list,zssh000001_531.html\n",
      "over: http://guba.eastmoney.com/list,zssh000001_532.html\n",
      "over: http://guba.eastmoney.com/list,zssh000001_534.html\n",
      "over: http://guba.eastmoney.com/list,zssh000001_533.html\n"
     ]
    },
    {
     "name": "stderr",
     "output_type": "stream",
     "text": [
      "2019-12-05 23:03:01 [scrapy.downloadermiddlewares.redirect] DEBUG: Redirecting (meta refresh) to <GET http://www.eastmoney.com/> from <GET http://guba.eastmoney.com/list,zssh000001_544.html>\n",
      "2019-12-05 23:03:01 [scrapy.downloadermiddlewares.redirect] DEBUG: Redirecting (meta refresh) to <GET http://www.eastmoney.com/> from <GET http://guba.eastmoney.com/list,zssh000001_549.html>\n",
      "2019-12-05 23:03:01 [scrapy.core.engine] DEBUG: Crawled (200) <GET http://guba.eastmoney.com/list,zssh000001_536.html> (referer: None)\n",
      "2019-12-05 23:03:01 [scrapy.core.engine] DEBUG: Crawled (200) <GET http://guba.eastmoney.com/list,zssh000001_541.html> (referer: None)\n"
     ]
    },
    {
     "name": "stdout",
     "output_type": "stream",
     "text": [
      "over: http://guba.eastmoney.com/list,zssh000001_535.html\n",
      "over: http://guba.eastmoney.com/list,zssh000001_537.html\n",
      "over: http://guba.eastmoney.com/list,zssh000001_538.html\n",
      "over: http://guba.eastmoney.com/list,zssh000001_539.html\n"
     ]
    },
    {
     "name": "stderr",
     "output_type": "stream",
     "text": [
      "2019-12-05 23:03:01 [scrapy.core.engine] DEBUG: Crawled (200) <GET http://guba.eastmoney.com/list,zssh000001_545.html> (referer: None)\n",
      "2019-12-05 23:03:01 [scrapy.core.engine] DEBUG: Crawled (200) <GET http://guba.eastmoney.com/list,zssh000001_546.html> (referer: None)\n",
      "2019-12-05 23:03:01 [scrapy.core.engine] DEBUG: Crawled (200) <GET http://guba.eastmoney.com/list,zssh000001_547.html> (referer: None)\n",
      "2019-12-05 23:03:01 [scrapy.core.engine] DEBUG: Crawled (200) <GET http://guba.eastmoney.com/list,zssh000001_548.html> (referer: None)\n",
      "2019-12-05 23:03:01 [scrapy.core.engine] DEBUG: Crawled (200) <GET http://guba.eastmoney.com/list,zssh000001_543.html> (referer: None)\n"
     ]
    },
    {
     "name": "stdout",
     "output_type": "stream",
     "text": [
      "over: http://guba.eastmoney.com/list,zssh000001_540.html\n",
      "over: http://guba.eastmoney.com/list,zssh000001_536.html\n",
      "over: http://guba.eastmoney.com/list,zssh000001_541.html\n",
      "over: http://guba.eastmoney.com/list,zssh000001_545.html"
     ]
    },
    {
     "name": "stderr",
     "output_type": "stream",
     "text": [
      "2019-12-05 23:03:02 [scrapy.core.scraper] ERROR: Spider error processing <GET http://guba.eastmoney.com/list,zssh000001_547.html> (referer: None)\n",
      "Traceback (most recent call last):\n",
      "  File \"C:\\Users\\xuhon\\Anaconda3\\lib\\site-packages\\twisted\\internet\\defer.py\", line 654, in _runCallbacks\n",
      "    current.result = callback(current.result, *args, **kw)\n",
      "  File \"<ipython-input-1-c79c8daf22a6>\", line 41, in parse\n",
      "    self.csvWriter.writerow(item)\n",
      "  File \"C:\\Users\\xuhon\\Anaconda3\\lib\\csv.py\", line 155, in writerow\n",
      "    return self.writer.writerow(self._dict_to_list(rowdict))\n",
      "UnicodeEncodeError: 'gbk' codec can't encode character '\\u2022' in position 7: illegal multibyte sequence\n"
     ]
    },
    {
     "name": "stdout",
     "output_type": "stream",
     "text": [
      "\n",
      "over: http://guba.eastmoney.com/list,zssh000001_546.html\n",
      "over: http://guba.eastmoney.com/list,zssh000001_548.html\n",
      "over: http://guba.eastmoney.com/list,zssh000001_543.html\n"
     ]
    },
    {
     "name": "stderr",
     "output_type": "stream",
     "text": [
      "2019-12-05 23:03:02 [scrapy.core.engine] DEBUG: Crawled (200) <GET http://guba.eastmoney.com/list,zssh000001_550.html> (referer: None)\n",
      "2019-12-05 23:03:02 [scrapy.core.engine] DEBUG: Crawled (200) <GET http://guba.eastmoney.com/list,zssh000001_551.html> (referer: None)\n",
      "2019-12-05 23:03:02 [scrapy.downloadermiddlewares.redirect] DEBUG: Redirecting (meta refresh) to <GET http://www.eastmoney.com/> from <GET http://guba.eastmoney.com/list,zssh000001_553.html>\n",
      "2019-12-05 23:03:02 [scrapy.core.engine] DEBUG: Crawled (200) <GET http://guba.eastmoney.com/list,zssh000001_554.html> (referer: None)\n",
      "2019-12-05 23:03:02 [scrapy.core.engine] DEBUG: Crawled (200) <GET http://guba.eastmoney.com/list,zssh000001_555.html> (referer: None)\n",
      "2019-12-05 23:03:02 [scrapy.core.engine] DEBUG: Crawled (200) <GET http://guba.eastmoney.com/list,zssh000001_556.html> (referer: None)\n",
      "2019-12-05 23:03:02 [scrapy.core.engine] DEBUG: Crawled (200) <GET http://guba.eastmoney.com/list,zssh000001_552.html> (referer: None)\n",
      "2019-12-05 23:03:02 [scrapy.core.engine] DEBUG: Crawled (200) <GET http://guba.eastmoney.com/list,zssh000001_557.html> (referer: None)\n",
      "2019-12-05 23:03:02 [scrapy.downloadermiddlewares.redirect] DEBUG: Redirecting (meta refresh) to <GET http://www.eastmoney.com/> from <GET http://guba.eastmoney.com/list,zssh000001_558.html>\n",
      "2019-12-05 23:03:02 [scrapy.downloadermiddlewares.redirect] DEBUG: Redirecting (meta refresh) to <GET http://www.eastmoney.com/> from <GET http://guba.eastmoney.com/list,zssh000001_559.html>\n",
      "2019-12-05 23:03:02 [scrapy.downloadermiddlewares.redirect] DEBUG: Redirecting (meta refresh) to <GET http://www.eastmoney.com/> from <GET http://guba.eastmoney.com/list,zssh000001_560.html>\n",
      "2019-12-05 23:03:02 [scrapy.downloadermiddlewares.redirect] DEBUG: Redirecting (meta refresh) to <GET http://www.eastmoney.com/> from <GET http://guba.eastmoney.com/list,zssh000001_563.html>\n"
     ]
    },
    {
     "name": "stdout",
     "output_type": "stream",
     "text": [
      "over: http://guba.eastmoney.com/list,zssh000001_550.html\n",
      "over: http://guba.eastmoney.com/list,zssh000001_551.html\n",
      "over: http://guba.eastmoney.com/list,zssh000001_554.html\n",
      "over: http://guba.eastmoney.com/list,zssh000001_555.html\n"
     ]
    },
    {
     "name": "stderr",
     "output_type": "stream",
     "text": [
      "2019-12-05 23:03:02 [scrapy.core.engine] DEBUG: Crawled (200) <GET http://guba.eastmoney.com/list,zssh000001_561.html> (referer: None)\n",
      "2019-12-05 23:03:02 [scrapy.core.engine] DEBUG: Crawled (200) <GET http://guba.eastmoney.com/list,zssh000001_562.html> (referer: None)\n",
      "2019-12-05 23:03:02 [scrapy.core.engine] DEBUG: Crawled (200) <GET http://guba.eastmoney.com/list,zssh000001_564.html> (referer: None)\n",
      "2019-12-05 23:03:02 [scrapy.core.engine] DEBUG: Crawled (200) <GET http://guba.eastmoney.com/list,zssh000001_565.html> (referer: None)\n"
     ]
    },
    {
     "name": "stdout",
     "output_type": "stream",
     "text": [
      "over: http://guba.eastmoney.com/list,zssh000001_556.html\n",
      "over: http://guba.eastmoney.com/list,zssh000001_552.html\n",
      "over: http://guba.eastmoney.com/list,zssh000001_557.html\n"
     ]
    },
    {
     "name": "stderr",
     "output_type": "stream",
     "text": [
      "2019-12-05 23:03:02 [scrapy.downloadermiddlewares.redirect] DEBUG: Redirecting (meta refresh) to <GET http://www.eastmoney.com/> from <GET http://guba.eastmoney.com/list,zssh000001_568.html>\n",
      "2019-12-05 23:03:02 [scrapy.downloadermiddlewares.redirect] DEBUG: Redirecting (meta refresh) to <GET http://www.eastmoney.com/> from <GET http://guba.eastmoney.com/list,zssh000001_566.html>\n",
      "2019-12-05 23:03:02 [scrapy.downloadermiddlewares.redirect] DEBUG: Redirecting (meta refresh) to <GET http://www.eastmoney.com/> from <GET http://guba.eastmoney.com/list,zssh000001_574.html>\n"
     ]
    },
    {
     "name": "stdout",
     "output_type": "stream",
     "text": [
      "over: http://guba.eastmoney.com/list,zssh000001_561.html\n",
      "over: http://guba.eastmoney.com/list,zssh000001_562.html\n",
      "over: http://guba.eastmoney.com/list,zssh000001_564.html\n"
     ]
    },
    {
     "name": "stderr",
     "output_type": "stream",
     "text": [
      "2019-12-05 23:03:03 [scrapy.core.engine] DEBUG: Crawled (200) <GET http://guba.eastmoney.com/list,zssh000001_575.html> (referer: None)\n",
      "2019-12-05 23:03:03 [scrapy.core.engine] DEBUG: Crawled (200) <GET http://guba.eastmoney.com/list,zssh000001_567.html> (referer: None)\n",
      "2019-12-05 23:03:03 [scrapy.core.engine] DEBUG: Crawled (200) <GET http://guba.eastmoney.com/list,zssh000001_570.html> (referer: None)\n",
      "2019-12-05 23:03:03 [scrapy.core.engine] DEBUG: Crawled (200) <GET http://guba.eastmoney.com/list,zssh000001_571.html> (referer: None)\n",
      "2019-12-05 23:03:03 [scrapy.core.engine] DEBUG: Crawled (200) <GET http://guba.eastmoney.com/list,zssh000001_569.html> (referer: None)\n",
      "2019-12-05 23:03:03 [scrapy.core.engine] DEBUG: Crawled (200) <GET http://guba.eastmoney.com/list,zssh000001_572.html> (referer: None)\n",
      "2019-12-05 23:03:03 [scrapy.core.engine] DEBUG: Crawled (200) <GET http://guba.eastmoney.com/list,zssh000001_573.html> (referer: None)\n",
      "2019-12-05 23:03:03 [scrapy.downloadermiddlewares.redirect] DEBUG: Redirecting (meta refresh) to <GET http://www.eastmoney.com/> from <GET http://guba.eastmoney.com/list,zssh000001_579.html>\n",
      "2019-12-05 23:03:03 [scrapy.downloadermiddlewares.redirect] DEBUG: Redirecting (meta refresh) to <GET http://www.eastmoney.com/> from <GET http://guba.eastmoney.com/list,zssh000001_577.html>\n",
      "2019-12-05 23:03:03 [scrapy.downloadermiddlewares.redirect] DEBUG: Redirecting (meta refresh) to <GET http://www.eastmoney.com/> from <GET http://guba.eastmoney.com/list,zssh000001_581.html>\n",
      "2019-12-05 23:03:03 [scrapy.downloadermiddlewares.redirect] DEBUG: Redirecting (meta refresh) to <GET http://www.eastmoney.com/> from <GET http://guba.eastmoney.com/list,zssh000001_582.html>\n"
     ]
    },
    {
     "name": "stdout",
     "output_type": "stream",
     "text": [
      "over: http://guba.eastmoney.com/list,zssh000001_565.html\n",
      "over: http://guba.eastmoney.com/list,zssh000001_575.html\n"
     ]
    },
    {
     "name": "stderr",
     "output_type": "stream",
     "text": [
      "2019-12-05 23:03:03 [scrapy.downloadermiddlewares.redirect] DEBUG: Redirecting (meta refresh) to <GET http://www.eastmoney.com/> from <GET http://guba.eastmoney.com/list,zssh000001_583.html>\n"
     ]
    },
    {
     "name": "stdout",
     "output_type": "stream",
     "text": [
      "over: http://guba.eastmoney.com/list,zssh000001_567.html\n",
      "over: http://guba.eastmoney.com/list,zssh000001_570.html\n",
      "over: http://guba.eastmoney.com/list,zssh000001_571.html\n",
      "over: http://guba.eastmoney.com/list,zssh000001_569.html\n",
      "over: http://guba.eastmoney.com/list,zssh000001_572.html\n",
      "over: http://guba.eastmoney.com/list,zssh000001_573.html"
     ]
    },
    {
     "name": "stderr",
     "output_type": "stream",
     "text": [
      "2019-12-05 23:03:03 [scrapy.core.engine] DEBUG: Crawled (200) <GET http://guba.eastmoney.com/list,zssh000001_585.html> (referer: None)\n",
      "2019-12-05 23:03:03 [scrapy.core.engine] DEBUG: Crawled (200) <GET http://guba.eastmoney.com/list,zssh000001_578.html> (referer: None)\n",
      "2019-12-05 23:03:03 [scrapy.core.engine] DEBUG: Crawled (200) <GET http://guba.eastmoney.com/list,zssh000001_576.html> (referer: None)\n",
      "2019-12-05 23:03:03 [scrapy.core.engine] DEBUG: Crawled (200) <GET http://guba.eastmoney.com/list,zssh000001_584.html> (referer: None)\n",
      "2019-12-05 23:03:03 [scrapy.core.engine] DEBUG: Crawled (200) <GET http://guba.eastmoney.com/list,zssh000001_580.html> (referer: None)\n",
      "2019-12-05 23:03:03 [scrapy.core.engine] DEBUG: Crawled (200) <GET http://guba.eastmoney.com/list,zssh000001_586.html> (referer: None)\n",
      "2019-12-05 23:03:03 [scrapy.core.engine] DEBUG: Crawled (200) <GET http://guba.eastmoney.com/list,zssh000001_587.html> (referer: None)\n",
      "2019-12-05 23:03:03 [scrapy.downloadermiddlewares.redirect] DEBUG: Redirecting (meta refresh) to <GET http://www.eastmoney.com/> from <GET http://guba.eastmoney.com/list,zssh000001_592.html>\n",
      "2019-12-05 23:03:04 [scrapy.downloadermiddlewares.redirect] DEBUG: Redirecting (meta refresh) to <GET http://www.eastmoney.com/> from <GET http://guba.eastmoney.com/list,zssh000001_591.html>\n",
      "2019-12-05 23:03:04 [scrapy.downloadermiddlewares.redirect] DEBUG: Redirecting (meta refresh) to <GET http://www.eastmoney.com/> from <GET http://guba.eastmoney.com/list,zssh000001_593.html>\n"
     ]
    },
    {
     "name": "stdout",
     "output_type": "stream",
     "text": [
      "\n",
      "over: http://guba.eastmoney.com/list,zssh000001_585.html\n",
      "over: http://guba.eastmoney.com/list,zssh000001_578.html\n",
      "over: http://guba.eastmoney.com/list,zssh000001_576.html\n",
      "over: http://guba.eastmoney.com/list,zssh000001_584.html\n",
      "over: http://guba.eastmoney.com/list,zssh000001_580.html"
     ]
    },
    {
     "name": "stderr",
     "output_type": "stream",
     "text": [
      "2019-12-05 23:03:04 [scrapy.core.engine] DEBUG: Crawled (200) <GET http://guba.eastmoney.com/list,zssh000001_589.html> (referer: None)\n",
      "2019-12-05 23:03:04 [scrapy.core.engine] DEBUG: Crawled (200) <GET http://guba.eastmoney.com/list,zssh000001_590.html> (referer: None)\n",
      "2019-12-05 23:03:04 [scrapy.core.engine] DEBUG: Crawled (200) <GET http://guba.eastmoney.com/list,zssh000001_596.html> (referer: None)\n",
      "2019-12-05 23:03:04 [scrapy.core.engine] DEBUG: Crawled (200) <GET http://guba.eastmoney.com/list,zssh000001_594.html> (referer: None)\n",
      "2019-12-05 23:03:04 [scrapy.core.engine] DEBUG: Crawled (200) <GET http://guba.eastmoney.com/list,zssh000001_595.html> (referer: None)\n",
      "2019-12-05 23:03:04 [scrapy.core.engine] DEBUG: Crawled (200) <GET http://guba.eastmoney.com/list,zssh000001_588.html> (referer: None)\n"
     ]
    },
    {
     "name": "stdout",
     "output_type": "stream",
     "text": [
      "\n",
      "over: http://guba.eastmoney.com/list,zssh000001_586.html\n",
      "over: http://guba.eastmoney.com/list,zssh000001_587.html\n"
     ]
    },
    {
     "name": "stderr",
     "output_type": "stream",
     "text": [
      "2019-12-05 23:03:04 [scrapy.downloadermiddlewares.redirect] DEBUG: Redirecting (meta refresh) to <GET http://www.eastmoney.com/> from <GET http://guba.eastmoney.com/list,zssh000001_602.html>\n",
      "2019-12-05 23:03:04 [scrapy.core.engine] DEBUG: Crawled (200) <GET http://guba.eastmoney.com/list,zssh000001_600.html> (referer: None)\n",
      "2019-12-05 23:03:04 [scrapy.core.engine] DEBUG: Crawled (200) <GET http://guba.eastmoney.com/list,zssh000001_597.html> (referer: None)\n",
      "2019-12-05 23:03:04 [scrapy.core.engine] DEBUG: Crawled (200) <GET http://guba.eastmoney.com/list,zssh000001_601.html> (referer: None)\n",
      "2019-12-05 23:03:04 [scrapy.core.engine] DEBUG: Crawled (200) <GET http://guba.eastmoney.com/list,zssh000001_598.html> (referer: None)\n",
      "2019-12-05 23:03:04 [scrapy.downloadermiddlewares.redirect] DEBUG: Redirecting (meta refresh) to <GET http://www.eastmoney.com/> from <GET http://guba.eastmoney.com/list,zssh000001_603.html>\n",
      "2019-12-05 23:03:04 [scrapy.core.engine] DEBUG: Crawled (200) <GET http://guba.eastmoney.com/list,zssh000001_604.html> (referer: None)\n"
     ]
    },
    {
     "name": "stdout",
     "output_type": "stream",
     "text": [
      "over: http://guba.eastmoney.com/list,zssh000001_589.html\n",
      "over: http://guba.eastmoney.com/list,zssh000001_590.html\n",
      "over: http://guba.eastmoney.com/list,zssh000001_596.html\n",
      "over: http://guba.eastmoney.com/list,zssh000001_594.html"
     ]
    },
    {
     "name": "stderr",
     "output_type": "stream",
     "text": [
      "2019-12-05 23:03:05 [scrapy.core.engine] DEBUG: Crawled (200) <GET http://guba.eastmoney.com/list,zssh000001_599.html> (referer: None)\n",
      "2019-12-05 23:03:05 [scrapy.core.engine] DEBUG: Crawled (200) <GET http://guba.eastmoney.com/list,zssh000001_605.html> (referer: None)\n"
     ]
    },
    {
     "name": "stdout",
     "output_type": "stream",
     "text": [
      "\n",
      "over: http://guba.eastmoney.com/list,zssh000001_595.html\n",
      "over: http://guba.eastmoney.com/list,zssh000001_588.html\n",
      "over: http://guba.eastmoney.com/list,zssh000001_600.html\n",
      "over: http://guba.eastmoney.com/list,zssh000001_597.html\n"
     ]
    },
    {
     "name": "stderr",
     "output_type": "stream",
     "text": [
      "2019-12-05 23:03:05 [scrapy.core.engine] DEBUG: Crawled (200) <GET http://guba.eastmoney.com/list,zssh000001_607.html> (referer: None)\n",
      "2019-12-05 23:03:05 [scrapy.core.engine] DEBUG: Crawled (200) <GET http://guba.eastmoney.com/list,zssh000001_608.html> (referer: None)\n",
      "2019-12-05 23:03:05 [scrapy.downloadermiddlewares.redirect] DEBUG: Redirecting (meta refresh) to <GET http://www.eastmoney.com/> from <GET http://guba.eastmoney.com/list,zssh000001_609.html>\n",
      "2019-12-05 23:03:05 [scrapy.core.engine] DEBUG: Crawled (200) <GET http://guba.eastmoney.com/list,zssh000001_610.html> (referer: None)\n",
      "2019-12-05 23:03:05 [scrapy.downloadermiddlewares.redirect] DEBUG: Redirecting (meta refresh) to <GET http://www.eastmoney.com/> from <GET http://guba.eastmoney.com/list,zssh000001_611.html>\n"
     ]
    },
    {
     "name": "stdout",
     "output_type": "stream",
     "text": [
      "over: http://guba.eastmoney.com/list,zssh000001_601.html\n",
      "over: http://guba.eastmoney.com/list,zssh000001_598.html\n",
      "over: http://guba.eastmoney.com/list,zssh000001_604.html\n",
      "over: http://guba.eastmoney.com/list,zssh000001_599.html\n"
     ]
    },
    {
     "name": "stderr",
     "output_type": "stream",
     "text": [
      "2019-12-05 23:03:05 [scrapy.core.engine] DEBUG: Crawled (200) <GET http://guba.eastmoney.com/list,zssh000001_612.html> (referer: None)\n",
      "2019-12-05 23:03:05 [scrapy.core.engine] DEBUG: Crawled (200) <GET http://guba.eastmoney.com/list,zssh000001_606.html> (referer: None)\n",
      "2019-12-05 23:03:05 [scrapy.downloadermiddlewares.redirect] DEBUG: Redirecting (meta refresh) to <GET http://www.eastmoney.com/> from <GET http://guba.eastmoney.com/list,zssh000001_614.html>\n",
      "2019-12-05 23:03:05 [scrapy.downloadermiddlewares.redirect] DEBUG: Redirecting (meta refresh) to <GET http://www.eastmoney.com/> from <GET http://guba.eastmoney.com/list,zssh000001_615.html>\n",
      "2019-12-05 23:03:05 [scrapy.core.engine] DEBUG: Crawled (200) <GET http://guba.eastmoney.com/list,zssh000001_613.html> (referer: None)\n"
     ]
    },
    {
     "name": "stdout",
     "output_type": "stream",
     "text": [
      "over: http://guba.eastmoney.com/list,zssh000001_605.html\n",
      "over: http://guba.eastmoney.com/list,zssh000001_607.html\n",
      "over: http://guba.eastmoney.com/list,zssh000001_608.html\n",
      "over: http://guba.eastmoney.com/list,zssh000001_610.html\n"
     ]
    },
    {
     "name": "stderr",
     "output_type": "stream",
     "text": [
      "2019-12-05 23:03:05 [scrapy.core.engine] DEBUG: Crawled (200) <GET http://guba.eastmoney.com/list,zssh000001_619.html> (referer: None)\n",
      "2019-12-05 23:03:05 [scrapy.core.engine] DEBUG: Crawled (200) <GET http://guba.eastmoney.com/list,zssh000001_620.html> (referer: None)\n",
      "2019-12-05 23:03:05 [scrapy.core.engine] DEBUG: Crawled (200) <GET http://guba.eastmoney.com/list,zssh000001_622.html> (referer: None)\n",
      "2019-12-05 23:03:05 [scrapy.core.engine] DEBUG: Crawled (200) <GET http://guba.eastmoney.com/list,zssh000001_617.html> (referer: None)\n",
      "2019-12-05 23:03:05 [scrapy.core.engine] DEBUG: Crawled (200) <GET http://guba.eastmoney.com/list,zssh000001_621.html> (referer: None)\n",
      "2019-12-05 23:03:05 [scrapy.core.engine] DEBUG: Crawled (200) <GET http://guba.eastmoney.com/list,zssh000001_623.html> (referer: None)\n",
      "2019-12-05 23:03:05 [scrapy.core.engine] DEBUG: Crawled (200) <GET http://guba.eastmoney.com/list,zssh000001_618.html> (referer: None)\n",
      "2019-12-05 23:03:05 [scrapy.downloadermiddlewares.redirect] DEBUG: Redirecting (meta refresh) to <GET http://www.eastmoney.com/> from <GET http://guba.eastmoney.com/list,zssh000001_625.html>\n",
      "2019-12-05 23:03:05 [scrapy.downloadermiddlewares.redirect] DEBUG: Redirecting (meta refresh) to <GET http://www.eastmoney.com/> from <GET http://guba.eastmoney.com/list,zssh000001_624.html>\n",
      "2019-12-05 23:03:05 [scrapy.core.engine] DEBUG: Crawled (200) <GET http://guba.eastmoney.com/list,zssh000001_616.html> (referer: None)\n"
     ]
    },
    {
     "name": "stdout",
     "output_type": "stream",
     "text": [
      "over: http://guba.eastmoney.com/list,zssh000001_612.html\n",
      "over: http://guba.eastmoney.com/list,zssh000001_606.html\n",
      "over: http://guba.eastmoney.com/list,zssh000001_613.html\n"
     ]
    },
    {
     "name": "stderr",
     "output_type": "stream",
     "text": [
      "2019-12-05 23:03:05 [scrapy.downloadermiddlewares.redirect] DEBUG: Redirecting (meta refresh) to <GET http://www.eastmoney.com/> from <GET http://guba.eastmoney.com/list,zssh000001_630.html>\n",
      "2019-12-05 23:03:06 [scrapy.downloadermiddlewares.redirect] DEBUG: Redirecting (meta refresh) to <GET http://www.eastmoney.com/> from <GET http://guba.eastmoney.com/list,zssh000001_632.html>\n",
      "2019-12-05 23:03:06 [scrapy.core.engine] DEBUG: Crawled (200) <GET http://guba.eastmoney.com/list,zssh000001_626.html> (referer: None)\n"
     ]
    },
    {
     "name": "stdout",
     "output_type": "stream",
     "text": [
      "over: http://guba.eastmoney.com/list,zssh000001_619.html\n",
      "over: http://guba.eastmoney.com/list,zssh000001_620.html\n",
      "over: http://guba.eastmoney.com/list,zssh000001_622.html\n",
      "over: http://guba.eastmoney.com/list,zssh000001_617.html\n",
      "over: http://guba.eastmoney.com/list,zssh000001_621.html\n"
     ]
    },
    {
     "name": "stderr",
     "output_type": "stream",
     "text": [
      "2019-12-05 23:03:06 [scrapy.core.engine] DEBUG: Crawled (200) <GET http://guba.eastmoney.com/list,zssh000001_631.html> (referer: None)\n",
      "2019-12-05 23:03:06 [scrapy.core.engine] DEBUG: Crawled (200) <GET http://guba.eastmoney.com/list,zssh000001_628.html> (referer: None)\n",
      "2019-12-05 23:03:06 [scrapy.core.engine] DEBUG: Crawled (200) <GET http://guba.eastmoney.com/list,zssh000001_633.html> (referer: None)\n",
      "2019-12-05 23:03:06 [scrapy.core.engine] DEBUG: Crawled (200) <GET http://guba.eastmoney.com/list,zssh000001_629.html> (referer: None)\n",
      "2019-12-05 23:03:06 [scrapy.core.engine] DEBUG: Crawled (200) <GET http://guba.eastmoney.com/list,zssh000001_627.html> (referer: None)\n",
      "2019-12-05 23:03:06 [scrapy.core.engine] DEBUG: Crawled (200) <GET http://guba.eastmoney.com/list,zssh000001_634.html> (referer: None)\n",
      "2019-12-05 23:03:06 [scrapy.downloadermiddlewares.redirect] DEBUG: Redirecting (meta refresh) to <GET http://www.eastmoney.com/> from <GET http://guba.eastmoney.com/list,zssh000001_635.html>\n",
      "2019-12-05 23:03:06 [scrapy.downloadermiddlewares.redirect] DEBUG: Redirecting (meta refresh) to <GET http://www.eastmoney.com/> from <GET http://guba.eastmoney.com/list,zssh000001_638.html>\n"
     ]
    },
    {
     "name": "stdout",
     "output_type": "stream",
     "text": [
      "over: http://guba.eastmoney.com/list,zssh000001_623.html\n",
      "over: http://guba.eastmoney.com/list,zssh000001_618.html\n",
      "over: http://guba.eastmoney.com/list,zssh000001_616.html\n",
      "over: http://guba.eastmoney.com/list,zssh000001_626.html\n"
     ]
    },
    {
     "name": "stderr",
     "output_type": "stream",
     "text": [
      "2019-12-05 23:03:06 [scrapy.downloadermiddlewares.redirect] DEBUG: Redirecting (meta refresh) to <GET http://www.eastmoney.com/> from <GET http://guba.eastmoney.com/list,zssh000001_640.html>\n",
      "2019-12-05 23:03:06 [scrapy.core.scraper] ERROR: Spider error processing <GET http://guba.eastmoney.com/list,zssh000001_629.html> (referer: None)\n",
      "Traceback (most recent call last):\n",
      "  File \"C:\\Users\\xuhon\\Anaconda3\\lib\\site-packages\\twisted\\internet\\defer.py\", line 654, in _runCallbacks\n",
      "    current.result = callback(current.result, *args, **kw)\n",
      "  File \"<ipython-input-1-c79c8daf22a6>\", line 41, in parse\n",
      "    self.csvWriter.writerow(item)\n",
      "  File \"C:\\Users\\xuhon\\Anaconda3\\lib\\csv.py\", line 155, in writerow\n",
      "    return self.writer.writerow(self._dict_to_list(rowdict))\n",
      "UnicodeEncodeError: 'gbk' codec can't encode character '\\u2022' in position 7: illegal multibyte sequence\n"
     ]
    },
    {
     "name": "stdout",
     "output_type": "stream",
     "text": [
      "over: http://guba.eastmoney.com/list,zssh000001_631.html\n",
      "over: http://guba.eastmoney.com/list,zssh000001_628.html\n",
      "over: http://guba.eastmoney.com/list,zssh000001_633.html\n",
      "over: http://guba.eastmoney.com/list,zssh000001_627.html\n",
      "over: http://guba.eastmoney.com/list,zssh000001_634.html\n"
     ]
    },
    {
     "name": "stderr",
     "output_type": "stream",
     "text": [
      "2019-12-05 23:03:06 [scrapy.core.engine] DEBUG: Crawled (200) <GET http://guba.eastmoney.com/list,zssh000001_643.html> (referer: None)\n",
      "2019-12-05 23:03:06 [scrapy.core.engine] DEBUG: Crawled (200) <GET http://guba.eastmoney.com/list,zssh000001_637.html> (referer: None)\n",
      "2019-12-05 23:03:06 [scrapy.core.engine] DEBUG: Crawled (200) <GET http://guba.eastmoney.com/list,zssh000001_644.html> (referer: None)\n",
      "2019-12-05 23:03:06 [scrapy.core.engine] DEBUG: Crawled (200) <GET http://guba.eastmoney.com/list,zssh000001_636.html> (referer: None)\n",
      "2019-12-05 23:03:06 [scrapy.core.engine] DEBUG: Crawled (200) <GET http://guba.eastmoney.com/list,zssh000001_639.html> (referer: None)\n",
      "2019-12-05 23:03:06 [scrapy.core.engine] DEBUG: Crawled (200) <GET http://guba.eastmoney.com/list,zssh000001_641.html> (referer: None)\n",
      "2019-12-05 23:03:06 [scrapy.core.engine] DEBUG: Crawled (200) <GET http://guba.eastmoney.com/list,zssh000001_642.html> (referer: None)\n",
      "2019-12-05 23:03:06 [scrapy.downloadermiddlewares.redirect] DEBUG: Redirecting (meta refresh) to <GET http://www.eastmoney.com/> from <GET http://guba.eastmoney.com/list,zssh000001_650.html>\n",
      "2019-12-05 23:03:06 [scrapy.downloadermiddlewares.redirect] DEBUG: Redirecting (meta refresh) to <GET http://www.eastmoney.com/> from <GET http://guba.eastmoney.com/list,zssh000001_645.html>\n",
      "2019-12-05 23:03:07 [scrapy.core.engine] DEBUG: Crawled (200) <GET http://guba.eastmoney.com/list,zssh000001_646.html> (referer: None)\n",
      "2019-12-05 23:03:07 [scrapy.core.engine] DEBUG: Crawled (200) <GET http://guba.eastmoney.com/list,zssh000001_647.html> (referer: None)\n",
      "2019-12-05 23:03:07 [scrapy.core.engine] DEBUG: Crawled (200) <GET http://guba.eastmoney.com/list,zssh000001_648.html> (referer: None)\n"
     ]
    },
    {
     "name": "stdout",
     "output_type": "stream",
     "text": [
      "over: http://guba.eastmoney.com/list,zssh000001_643.html\n",
      "over: http://guba.eastmoney.com/list,zssh000001_637.html\n",
      "over: http://guba.eastmoney.com/list,zssh000001_644.html\n",
      "over: http://guba.eastmoney.com/list,zssh000001_636.html\n"
     ]
    },
    {
     "name": "stderr",
     "output_type": "stream",
     "text": [
      "2019-12-05 23:03:07 [scrapy.core.engine] DEBUG: Crawled (200) <GET http://guba.eastmoney.com/list,zssh000001_649.html> (referer: None)\n",
      "2019-12-05 23:03:07 [scrapy.core.engine] DEBUG: Crawled (200) <GET http://guba.eastmoney.com/list,zssh000001_653.html> (referer: None)\n",
      "2019-12-05 23:03:07 [scrapy.core.engine] DEBUG: Crawled (200) <GET http://guba.eastmoney.com/list,zssh000001_654.html> (referer: None)\n",
      "2019-12-05 23:03:07 [scrapy.core.engine] DEBUG: Crawled (200) <GET http://guba.eastmoney.com/list,zssh000001_651.html> (referer: None)\n",
      "2019-12-05 23:03:07 [scrapy.core.engine] DEBUG: Crawled (200) <GET http://guba.eastmoney.com/list,zssh000001_652.html> (referer: None)\n"
     ]
    },
    {
     "name": "stdout",
     "output_type": "stream",
     "text": [
      "over: http://guba.eastmoney.com/list,zssh000001_639.html\n",
      "over: http://guba.eastmoney.com/list,zssh000001_641.html\n"
     ]
    },
    {
     "name": "stderr",
     "output_type": "stream",
     "text": [
      "2019-12-05 23:03:07 [scrapy.core.scraper] ERROR: Spider error processing <GET http://guba.eastmoney.com/list,zssh000001_649.html> (referer: None)\n",
      "Traceback (most recent call last):\n",
      "  File \"C:\\Users\\xuhon\\Anaconda3\\lib\\site-packages\\twisted\\internet\\defer.py\", line 654, in _runCallbacks\n",
      "    current.result = callback(current.result, *args, **kw)\n",
      "  File \"<ipython-input-1-c79c8daf22a6>\", line 41, in parse\n",
      "    self.csvWriter.writerow(item)\n",
      "  File \"C:\\Users\\xuhon\\Anaconda3\\lib\\csv.py\", line 155, in writerow\n",
      "    return self.writer.writerow(self._dict_to_list(rowdict))\n",
      "UnicodeEncodeError: 'gbk' codec can't encode character '\\u2022' in position 7: illegal multibyte sequence\n"
     ]
    },
    {
     "name": "stdout",
     "output_type": "stream",
     "text": [
      "over: http://guba.eastmoney.com/list,zssh000001_642.html\n",
      "over: http://guba.eastmoney.com/list,zssh000001_646.html\n",
      "over: http://guba.eastmoney.com/list,zssh000001_647.html\n",
      "over: http://guba.eastmoney.com/list,zssh000001_648.html\n",
      "over: http://guba.eastmoney.com/list,zssh000001_653.html\n"
     ]
    },
    {
     "name": "stderr",
     "output_type": "stream",
     "text": [
      "2019-12-05 23:03:07 [scrapy.core.engine] DEBUG: Crawled (200) <GET http://guba.eastmoney.com/list,zssh000001_655.html> (referer: None)\n",
      "2019-12-05 23:03:07 [scrapy.core.engine] DEBUG: Crawled (200) <GET http://guba.eastmoney.com/list,zssh000001_656.html> (referer: None)\n",
      "2019-12-05 23:03:07 [scrapy.core.engine] DEBUG: Crawled (200) <GET http://guba.eastmoney.com/list,zssh000001_657.html> (referer: None)\n",
      "2019-12-05 23:03:07 [scrapy.core.engine] DEBUG: Crawled (200) <GET http://guba.eastmoney.com/list,zssh000001_658.html> (referer: None)\n",
      "2019-12-05 23:03:07 [scrapy.core.engine] DEBUG: Crawled (200) <GET http://guba.eastmoney.com/list,zssh000001_659.html> (referer: None)\n",
      "2019-12-05 23:03:07 [scrapy.core.engine] DEBUG: Crawled (200) <GET http://guba.eastmoney.com/list,zssh000001_660.html> (referer: None)\n",
      "2019-12-05 23:03:07 [scrapy.downloadermiddlewares.redirect] DEBUG: Redirecting (meta refresh) to <GET http://www.eastmoney.com/> from <GET http://guba.eastmoney.com/list,zssh000001_661.html>\n",
      "2019-12-05 23:03:07 [scrapy.downloadermiddlewares.redirect] DEBUG: Redirecting (meta refresh) to <GET http://www.eastmoney.com/> from <GET http://guba.eastmoney.com/list,zssh000001_662.html>\n",
      "2019-12-05 23:03:07 [scrapy.downloadermiddlewares.redirect] DEBUG: Redirecting (meta refresh) to <GET http://www.eastmoney.com/> from <GET http://guba.eastmoney.com/list,zssh000001_665.html>\n",
      "2019-12-05 23:03:07 [scrapy.downloadermiddlewares.redirect] DEBUG: Redirecting (meta refresh) to <GET http://www.eastmoney.com/> from <GET http://guba.eastmoney.com/list,zssh000001_667.html>\n",
      "2019-12-05 23:03:07 [scrapy.downloadermiddlewares.redirect] DEBUG: Redirecting (meta refresh) to <GET http://www.eastmoney.com/> from <GET http://guba.eastmoney.com/list,zssh000001_669.html>\n"
     ]
    },
    {
     "name": "stdout",
     "output_type": "stream",
     "text": [
      "over: http://guba.eastmoney.com/list,zssh000001_654.html\n",
      "over: http://guba.eastmoney.com/list,zssh000001_651.html\n",
      "over: http://guba.eastmoney.com/list,zssh000001_652.html\n"
     ]
    },
    {
     "name": "stderr",
     "output_type": "stream",
     "text": [
      "2019-12-05 23:03:07 [scrapy.downloadermiddlewares.redirect] DEBUG: Redirecting (meta refresh) to <GET http://www.eastmoney.com/> from <GET http://guba.eastmoney.com/list,zssh000001_671.html>\n",
      "2019-12-05 23:03:07 [scrapy.downloadermiddlewares.redirect] DEBUG: Redirecting (meta refresh) to <GET http://www.eastmoney.com/> from <GET http://guba.eastmoney.com/list,zssh000001_673.html>\n"
     ]
    },
    {
     "name": "stdout",
     "output_type": "stream",
     "text": [
      "over: http://guba.eastmoney.com/list,zssh000001_655.html\n",
      "over: http://guba.eastmoney.com/list,zssh000001_656.html\n",
      "over: http://guba.eastmoney.com/list,zssh000001_657.html\n",
      "over: http://guba.eastmoney.com/list,zssh000001_658.html\n",
      "over: http://guba.eastmoney.com/list,zssh000001_659.html\n"
     ]
    },
    {
     "name": "stderr",
     "output_type": "stream",
     "text": [
      "2019-12-05 23:03:08 [scrapy.core.engine] DEBUG: Crawled (200) <GET http://guba.eastmoney.com/list,zssh000001_663.html> (referer: None)\n",
      "2019-12-05 23:03:08 [scrapy.core.engine] DEBUG: Crawled (200) <GET http://guba.eastmoney.com/list,zssh000001_664.html> (referer: None)\n",
      "2019-12-05 23:03:08 [scrapy.core.engine] DEBUG: Crawled (200) <GET http://guba.eastmoney.com/list,zssh000001_666.html> (referer: None)\n",
      "2019-12-05 23:03:08 [scrapy.core.engine] DEBUG: Crawled (200) <GET http://guba.eastmoney.com/list,zssh000001_672.html> (referer: None)\n",
      "2019-12-05 23:03:08 [scrapy.core.engine] DEBUG: Crawled (200) <GET http://guba.eastmoney.com/list,zssh000001_668.html> (referer: None)\n",
      "2019-12-05 23:03:08 [scrapy.core.engine] DEBUG: Crawled (200) <GET http://guba.eastmoney.com/list,zssh000001_670.html> (referer: None)\n",
      "2019-12-05 23:03:08 [scrapy.downloadermiddlewares.redirect] DEBUG: Redirecting (meta refresh) to <GET http://www.eastmoney.com/> from <GET http://guba.eastmoney.com/list,zssh000001_674.html>\n"
     ]
    },
    {
     "name": "stdout",
     "output_type": "stream",
     "text": [
      "over: http://guba.eastmoney.com/list,zssh000001_660.html\n",
      "over: http://guba.eastmoney.com/list,zssh000001_663.html\n",
      "over: http://guba.eastmoney.com/list,zssh000001_664.html\n"
     ]
    },
    {
     "name": "stderr",
     "output_type": "stream",
     "text": [
      "2019-12-05 23:03:08 [scrapy.core.engine] DEBUG: Crawled (200) <GET http://guba.eastmoney.com/list,zssh000001_676.html> (referer: None)\n",
      "2019-12-05 23:03:08 [scrapy.core.engine] DEBUG: Crawled (200) <GET http://guba.eastmoney.com/list,zssh000001_677.html> (referer: None)\n",
      "2019-12-05 23:03:08 [scrapy.downloadermiddlewares.redirect] DEBUG: Redirecting (meta refresh) to <GET http://www.eastmoney.com/> from <GET http://guba.eastmoney.com/list,zssh000001_682.html>\n",
      "2019-12-05 23:03:08 [scrapy.core.engine] DEBUG: Crawled (200) <GET http://guba.eastmoney.com/list,zssh000001_678.html> (referer: None)\n",
      "2019-12-05 23:03:08 [scrapy.core.engine] DEBUG: Crawled (200) <GET http://guba.eastmoney.com/list,zssh000001_679.html> (referer: None)\n",
      "2019-12-05 23:03:08 [scrapy.core.engine] DEBUG: Crawled (200) <GET http://guba.eastmoney.com/list,zssh000001_680.html> (referer: None)\n",
      "2019-12-05 23:03:08 [scrapy.core.engine] DEBUG: Crawled (200) <GET http://guba.eastmoney.com/list,zssh000001_675.html> (referer: None)\n",
      "2019-12-05 23:03:08 [scrapy.core.engine] DEBUG: Crawled (200) <GET http://guba.eastmoney.com/list,zssh000001_681.html> (referer: None)\n"
     ]
    },
    {
     "name": "stdout",
     "output_type": "stream",
     "text": [
      "over: http://guba.eastmoney.com/list,zssh000001_666.html\n",
      "over: http://guba.eastmoney.com/list,zssh000001_672.html\n",
      "over: http://guba.eastmoney.com/list,zssh000001_668.html\n",
      "over: http://guba.eastmoney.com/list,zssh000001_670.html\n"
     ]
    },
    {
     "name": "stderr",
     "output_type": "stream",
     "text": [
      "2019-12-05 23:03:08 [scrapy.downloadermiddlewares.redirect] DEBUG: Redirecting (meta refresh) to <GET http://www.eastmoney.com/> from <GET http://guba.eastmoney.com/list,zssh000001_684.html>\n",
      "2019-12-05 23:03:08 [scrapy.downloadermiddlewares.redirect] DEBUG: Redirecting (meta refresh) to <GET http://www.eastmoney.com/> from <GET http://guba.eastmoney.com/list,zssh000001_685.html>\n",
      "2019-12-05 23:03:08 [scrapy.downloadermiddlewares.redirect] DEBUG: Redirecting (meta refresh) to <GET http://www.eastmoney.com/> from <GET http://guba.eastmoney.com/list,zssh000001_687.html>\n",
      "2019-12-05 23:03:08 [scrapy.downloadermiddlewares.redirect] DEBUG: Redirecting (meta refresh) to <GET http://www.eastmoney.com/> from <GET http://guba.eastmoney.com/list,zssh000001_689.html>\n"
     ]
    },
    {
     "name": "stdout",
     "output_type": "stream",
     "text": [
      "over: http://guba.eastmoney.com/list,zssh000001_676.html\n",
      "over: http://guba.eastmoney.com/list,zssh000001_677.html\n"
     ]
    },
    {
     "name": "stderr",
     "output_type": "stream",
     "text": [
      "2019-12-05 23:03:08 [scrapy.core.engine] DEBUG: Crawled (200) <GET http://guba.eastmoney.com/list,zssh000001_683.html> (referer: None)\n",
      "2019-12-05 23:03:08 [scrapy.core.engine] DEBUG: Crawled (200) <GET http://guba.eastmoney.com/list,zssh000001_690.html> (referer: None)\n"
     ]
    },
    {
     "name": "stdout",
     "output_type": "stream",
     "text": [
      "over: http://guba.eastmoney.com/list,zssh000001_678.html\n",
      "over: http://guba.eastmoney.com/list,zssh000001_679.html\n",
      "over: http://guba.eastmoney.com/list,zssh000001_680.html\n",
      "over: http://guba.eastmoney.com/list,zssh000001_675.html\n",
      "over: http://guba.eastmoney.com/list,zssh000001_681.html\n"
     ]
    },
    {
     "name": "stderr",
     "output_type": "stream",
     "text": [
      "2019-12-05 23:03:08 [scrapy.downloadermiddlewares.redirect] DEBUG: Redirecting (meta refresh) to <GET http://www.eastmoney.com/> from <GET http://guba.eastmoney.com/list,zssh000001_692.html>\n",
      "2019-12-05 23:03:08 [scrapy.downloadermiddlewares.redirect] DEBUG: Redirecting (meta refresh) to <GET http://www.eastmoney.com/> from <GET http://guba.eastmoney.com/list,zssh000001_693.html>\n",
      "2019-12-05 23:03:08 [scrapy.downloadermiddlewares.redirect] DEBUG: Redirecting (meta refresh) to <GET http://www.eastmoney.com/> from <GET http://guba.eastmoney.com/list,zssh000001_698.html>\n",
      "2019-12-05 23:03:09 [scrapy.core.engine] DEBUG: Crawled (200) <GET http://guba.eastmoney.com/list,zssh000001_694.html> (referer: None)\n",
      "2019-12-05 23:03:09 [scrapy.core.engine] DEBUG: Crawled (200) <GET http://guba.eastmoney.com/list,zssh000001_697.html> (referer: None)\n",
      "2019-12-05 23:03:09 [scrapy.core.engine] DEBUG: Crawled (200) <GET http://guba.eastmoney.com/list,zssh000001_686.html> (referer: None)\n",
      "2019-12-05 23:03:09 [scrapy.core.engine] DEBUG: Crawled (200) <GET http://guba.eastmoney.com/list,zssh000001_688.html> (referer: None)\n",
      "2019-12-05 23:03:09 [scrapy.downloadermiddlewares.redirect] DEBUG: Redirecting (meta refresh) to <GET http://www.eastmoney.com/> from <GET http://guba.eastmoney.com/list,zssh000001_701.html>\n",
      "2019-12-05 23:03:09 [scrapy.downloadermiddlewares.redirect] DEBUG: Redirecting (meta refresh) to <GET http://www.eastmoney.com/> from <GET http://guba.eastmoney.com/list,zssh000001_702.html>\n",
      "2019-12-05 23:03:09 [scrapy.downloadermiddlewares.redirect] DEBUG: Redirecting (meta refresh) to <GET http://www.eastmoney.com/> from <GET http://guba.eastmoney.com/list,zssh000001_703.html>\n"
     ]
    },
    {
     "name": "stdout",
     "output_type": "stream",
     "text": [
      "over: http://guba.eastmoney.com/list,zssh000001_683.html\n",
      "over: http://guba.eastmoney.com/list,zssh000001_690.html\n",
      "over: http://guba.eastmoney.com/list,zssh000001_694.html\n",
      "over: http://guba.eastmoney.com/list,zssh000001_697.html\n",
      "over: http://guba.eastmoney.com/list,zssh000001_688.html\n",
      "over: http://guba.eastmoney.com/list,zssh000001_686.html\n"
     ]
    },
    {
     "name": "stderr",
     "output_type": "stream",
     "text": [
      "2019-12-05 23:03:09 [scrapy.downloadermiddlewares.redirect] DEBUG: Redirecting (meta refresh) to <GET http://www.eastmoney.com/> from <GET http://guba.eastmoney.com/list,zssh000001_704.html>\n",
      "2019-12-05 23:03:09 [scrapy.core.engine] DEBUG: Crawled (200) <GET http://guba.eastmoney.com/list,zssh000001_691.html> (referer: None)\n",
      "2019-12-05 23:03:09 [scrapy.downloadermiddlewares.redirect] DEBUG: Redirecting (meta refresh) to <GET http://www.eastmoney.com/> from <GET http://guba.eastmoney.com/list,zssh000001_706.html>\n",
      "2019-12-05 23:03:09 [scrapy.core.engine] DEBUG: Crawled (200) <GET http://guba.eastmoney.com/list,zssh000001_696.html> (referer: None)\n",
      "2019-12-05 23:03:09 [scrapy.core.engine] DEBUG: Crawled (200) <GET http://guba.eastmoney.com/list,zssh000001_695.html> (referer: None)\n",
      "2019-12-05 23:03:09 [scrapy.downloadermiddlewares.redirect] DEBUG: Redirecting (meta refresh) to <GET http://www.eastmoney.com/> from <GET http://guba.eastmoney.com/list,zssh000001_707.html>\n",
      "2019-12-05 23:03:09 [scrapy.core.engine] DEBUG: Crawled (200) <GET http://guba.eastmoney.com/list,zssh000001_699.html> (referer: None)\n",
      "2019-12-05 23:03:09 [scrapy.downloadermiddlewares.redirect] DEBUG: Redirecting (meta refresh) to <GET http://www.eastmoney.com/> from <GET http://guba.eastmoney.com/list,zssh000001_711.html>\n",
      "2019-12-05 23:03:09 [scrapy.core.engine] DEBUG: Crawled (200) <GET http://guba.eastmoney.com/list,zssh000001_700.html> (referer: None)\n"
     ]
    },
    {
     "name": "stdout",
     "output_type": "stream",
     "text": [
      "over: http://guba.eastmoney.com/list,zssh000001_691.html\n",
      "over: http://guba.eastmoney.com/list,zssh000001_696.html\n",
      "over: http://guba.eastmoney.com/list,zssh000001_695.html\n"
     ]
    },
    {
     "name": "stderr",
     "output_type": "stream",
     "text": [
      "2019-12-05 23:03:10 [scrapy.core.engine] DEBUG: Crawled (200) <GET http://guba.eastmoney.com/list,zssh000001_709.html> (referer: None)\n",
      "2019-12-05 23:03:10 [scrapy.core.engine] DEBUG: Crawled (200) <GET http://guba.eastmoney.com/list,zssh000001_708.html> (referer: None)\n",
      "2019-12-05 23:03:10 [scrapy.core.engine] DEBUG: Crawled (200) <GET http://guba.eastmoney.com/list,zssh000001_710.html> (referer: None)\n",
      "2019-12-05 23:03:10 [scrapy.core.engine] DEBUG: Crawled (200) <GET http://guba.eastmoney.com/list,zssh000001_713.html> (referer: None)\n",
      "2019-12-05 23:03:10 [scrapy.core.engine] DEBUG: Crawled (200) <GET http://guba.eastmoney.com/list,zssh000001_712.html> (referer: None)\n",
      "2019-12-05 23:03:10 [scrapy.core.engine] DEBUG: Crawled (200) <GET http://guba.eastmoney.com/list,zssh000001_715.html> (referer: None)\n"
     ]
    },
    {
     "name": "stdout",
     "output_type": "stream",
     "text": [
      "over: http://guba.eastmoney.com/list,zssh000001_699.html\n",
      "over: http://guba.eastmoney.com/list,zssh000001_700.html\n"
     ]
    },
    {
     "name": "stderr",
     "output_type": "stream",
     "text": [
      "2019-12-05 23:03:10 [scrapy.core.engine] DEBUG: Crawled (200) <GET http://guba.eastmoney.com/list,zssh000001_714.html> (referer: None)\n",
      "2019-12-05 23:03:10 [scrapy.downloadermiddlewares.redirect] DEBUG: Redirecting (meta refresh) to <GET http://www.eastmoney.com/> from <GET http://guba.eastmoney.com/list,zssh000001_717.html>\n",
      "2019-12-05 23:03:10 [scrapy.core.engine] DEBUG: Crawled (200) <GET http://guba.eastmoney.com/list,zssh000001_720.html> (referer: None)\n",
      "2019-12-05 23:03:10 [scrapy.core.engine] DEBUG: Crawled (200) <GET http://guba.eastmoney.com/list,zssh000001_705.html> (referer: None)\n",
      "2019-12-05 23:03:10 [scrapy.downloadermiddlewares.redirect] DEBUG: Redirecting (meta refresh) to <GET http://www.eastmoney.com/> from <GET http://guba.eastmoney.com/list,zssh000001_716.html>\n",
      "2019-12-05 23:03:10 [scrapy.downloadermiddlewares.redirect] DEBUG: Redirecting (meta refresh) to <GET http://www.eastmoney.com/> from <GET http://guba.eastmoney.com/list,zssh000001_721.html>\n"
     ]
    },
    {
     "name": "stdout",
     "output_type": "stream",
     "text": [
      "over: http://guba.eastmoney.com/list,zssh000001_709.html\n",
      "over: http://guba.eastmoney.com/list,zssh000001_708.html\n"
     ]
    },
    {
     "name": "stderr",
     "output_type": "stream",
     "text": [
      "2019-12-05 23:03:10 [scrapy.core.engine] DEBUG: Crawled (200) <GET http://guba.eastmoney.com/list,zssh000001_719.html> (referer: None)\n",
      "2019-12-05 23:03:10 [scrapy.core.engine] DEBUG: Crawled (200) <GET http://guba.eastmoney.com/list,zssh000001_718.html> (referer: None)\n"
     ]
    },
    {
     "name": "stdout",
     "output_type": "stream",
     "text": [
      "over: http://guba.eastmoney.com/list,zssh000001_710.html\n",
      "over: http://guba.eastmoney.com/list,zssh000001_713.html\n",
      "over: http://guba.eastmoney.com/list,zssh000001_712.html\n",
      "over: http://guba.eastmoney.com/list,zssh000001_715.html\n",
      "over: http://guba.eastmoney.com/list,zssh000001_714.html\n",
      "over: http://guba.eastmoney.com/list,zssh000001_720.html\n",
      "over: http://guba.eastmoney.com/list,zssh000001_705.html\n",
      "over: http://guba.eastmoney.com/list,zssh000001_719.html\n",
      "over: http://guba.eastmoney.com/list,zssh000001_718.html\n"
     ]
    },
    {
     "name": "stderr",
     "output_type": "stream",
     "text": [
      "2019-12-05 23:03:11 [scrapy.downloadermiddlewares.redirect] DEBUG: Redirecting (meta refresh) to <GET http://www.eastmoney.com/> from <GET http://guba.eastmoney.com/list,zssh000001_723.html>\n",
      "2019-12-05 23:03:11 [scrapy.downloadermiddlewares.redirect] DEBUG: Redirecting (meta refresh) to <GET http://www.eastmoney.com/> from <GET http://guba.eastmoney.com/list,zssh000001_722.html>\n",
      "2019-12-05 23:03:11 [scrapy.downloadermiddlewares.redirect] DEBUG: Redirecting (meta refresh) to <GET http://www.eastmoney.com/> from <GET http://guba.eastmoney.com/list,zssh000001_730.html>\n",
      "2019-12-05 23:03:11 [scrapy.downloadermiddlewares.redirect] DEBUG: Redirecting (meta refresh) to <GET http://www.eastmoney.com/> from <GET http://guba.eastmoney.com/list,zssh000001_731.html>\n",
      "2019-12-05 23:03:11 [scrapy.downloadermiddlewares.redirect] DEBUG: Redirecting (meta refresh) to <GET http://www.eastmoney.com/> from <GET http://guba.eastmoney.com/list,zssh000001_732.html>\n",
      "2019-12-05 23:03:11 [scrapy.core.engine] DEBUG: Crawled (200) <GET http://guba.eastmoney.com/list,zssh000001_725.html> (referer: None)\n",
      "2019-12-05 23:03:11 [scrapy.core.engine] DEBUG: Crawled (200) <GET http://guba.eastmoney.com/list,zssh000001_729.html> (referer: None)\n",
      "2019-12-05 23:03:11 [scrapy.core.engine] DEBUG: Crawled (200) <GET http://guba.eastmoney.com/list,zssh000001_728.html> (referer: None)\n",
      "2019-12-05 23:03:11 [scrapy.core.engine] DEBUG: Crawled (200) <GET http://guba.eastmoney.com/list,zssh000001_726.html> (referer: None)\n",
      "2019-12-05 23:03:11 [scrapy.downloadermiddlewares.redirect] DEBUG: Redirecting (meta refresh) to <GET http://www.eastmoney.com/> from <GET http://guba.eastmoney.com/list,zssh000001_736.html>\n",
      "2019-12-05 23:03:11 [scrapy.core.engine] DEBUG: Crawled (200) <GET http://guba.eastmoney.com/list,zssh000001_724.html> (referer: None)\n",
      "2019-12-05 23:03:11 [scrapy.downloadermiddlewares.redirect] DEBUG: Redirecting (meta refresh) to <GET http://www.eastmoney.com/> from <GET http://guba.eastmoney.com/list,zssh000001_739.html>\n",
      "2019-12-05 23:03:11 [scrapy.downloadermiddlewares.redirect] DEBUG: Redirecting (meta refresh) to <GET http://www.eastmoney.com/> from <GET http://guba.eastmoney.com/list,zssh000001_740.html>\n",
      "2019-12-05 23:03:11 [scrapy.core.engine] DEBUG: Crawled (200) <GET http://guba.eastmoney.com/list,zssh000001_727.html> (referer: None)\n",
      "2019-12-05 23:03:11 [scrapy.core.engine] DEBUG: Crawled (200) <GET http://guba.eastmoney.com/list,zssh000001_733.html> (referer: None)\n",
      "2019-12-05 23:03:11 [scrapy.core.engine] DEBUG: Crawled (200) <GET http://guba.eastmoney.com/list,zssh000001_734.html> (referer: None)\n",
      "2019-12-05 23:03:11 [scrapy.core.engine] DEBUG: Crawled (200) <GET http://guba.eastmoney.com/list,zssh000001_735.html> (referer: None)\n",
      "2019-12-05 23:03:11 [scrapy.core.engine] DEBUG: Crawled (200) <GET http://guba.eastmoney.com/list,zssh000001_738.html> (referer: None)\n",
      "2019-12-05 23:03:11 [scrapy.downloadermiddlewares.redirect] DEBUG: Redirecting (meta refresh) to <GET http://www.eastmoney.com/> from <GET http://guba.eastmoney.com/list,zssh000001_741.html>\n"
     ]
    },
    {
     "name": "stdout",
     "output_type": "stream",
     "text": [
      "over: http://guba.eastmoney.com/list,zssh000001_725.html\n",
      "over: http://guba.eastmoney.com/list,zssh000001_729.html\n",
      "over: http://guba.eastmoney.com/list,zssh000001_728.html\n",
      "over: http://guba.eastmoney.com/list,zssh000001_726.html\n"
     ]
    },
    {
     "name": "stderr",
     "output_type": "stream",
     "text": [
      "2019-12-05 23:03:11 [scrapy.core.engine] DEBUG: Crawled (200) <GET http://guba.eastmoney.com/list,zssh000001_742.html> (referer: None)\n",
      "2019-12-05 23:03:11 [scrapy.core.engine] DEBUG: Crawled (200) <GET http://guba.eastmoney.com/list,zssh000001_737.html> (referer: None)\n",
      "2019-12-05 23:03:11 [scrapy.core.engine] DEBUG: Crawled (200) <GET http://guba.eastmoney.com/list,zssh000001_743.html> (referer: None)\n"
     ]
    },
    {
     "name": "stdout",
     "output_type": "stream",
     "text": [
      "over: http://guba.eastmoney.com/list,zssh000001_724.html\n",
      "over: http://guba.eastmoney.com/list,zssh000001_727.html\n",
      "over: http://guba.eastmoney.com/list,zssh000001_734.html\n",
      "over: http://guba.eastmoney.com/list,zssh000001_733.html\n",
      "over: http://guba.eastmoney.com/list,zssh000001_735.html\n",
      "over: http://guba.eastmoney.com/list,zssh000001_738.html\n"
     ]
    },
    {
     "name": "stderr",
     "output_type": "stream",
     "text": [
      "2019-12-05 23:03:12 [scrapy.downloadermiddlewares.redirect] DEBUG: Redirecting (meta refresh) to <GET http://www.eastmoney.com/> from <GET http://guba.eastmoney.com/list,zssh000001_748.html>\n",
      "2019-12-05 23:03:12 [scrapy.core.engine] DEBUG: Crawled (200) <GET http://guba.eastmoney.com/list,zssh000001_744.html> (referer: None)\n",
      "2019-12-05 23:03:12 [scrapy.core.engine] DEBUG: Crawled (200) <GET http://guba.eastmoney.com/list,zssh000001_745.html> (referer: None)\n",
      "2019-12-05 23:03:12 [scrapy.downloadermiddlewares.redirect] DEBUG: Redirecting (meta refresh) to <GET http://www.eastmoney.com/> from <GET http://guba.eastmoney.com/list,zssh000001_749.html>\n",
      "2019-12-05 23:03:12 [scrapy.core.engine] DEBUG: Crawled (200) <GET http://guba.eastmoney.com/list,zssh000001_746.html> (referer: None)\n",
      "2019-12-05 23:03:12 [scrapy.core.engine] DEBUG: Crawled (200) <GET http://guba.eastmoney.com/list,zssh000001_747.html> (referer: None)\n",
      "2019-12-05 23:03:12 [scrapy.downloadermiddlewares.redirect] DEBUG: Redirecting (meta refresh) to <GET http://www.eastmoney.com/> from <GET http://guba.eastmoney.com/list,zssh000001_755.html>\n",
      "2019-12-05 23:03:12 [scrapy.downloadermiddlewares.redirect] DEBUG: Redirecting (meta refresh) to <GET http://www.eastmoney.com/> from <GET http://guba.eastmoney.com/list,zssh000001_756.html>\n"
     ]
    },
    {
     "name": "stdout",
     "output_type": "stream",
     "text": [
      "over: http://guba.eastmoney.com/list,zssh000001_742.html\n",
      "over: http://guba.eastmoney.com/list,zssh000001_737.html\n",
      "over: http://guba.eastmoney.com/list,zssh000001_743.html\n"
     ]
    },
    {
     "name": "stderr",
     "output_type": "stream",
     "text": [
      "2019-12-05 23:03:12 [scrapy.core.engine] DEBUG: Crawled (200) <GET http://guba.eastmoney.com/list,zssh000001_750.html> (referer: None)\n",
      "2019-12-05 23:03:12 [scrapy.core.engine] DEBUG: Crawled (200) <GET http://guba.eastmoney.com/list,zssh000001_753.html> (referer: None)\n",
      "2019-12-05 23:03:12 [scrapy.core.engine] DEBUG: Crawled (200) <GET http://guba.eastmoney.com/list,zssh000001_751.html> (referer: None)\n",
      "2019-12-05 23:03:12 [scrapy.core.engine] DEBUG: Crawled (200) <GET http://guba.eastmoney.com/list,zssh000001_752.html> (referer: None)\n",
      "2019-12-05 23:03:12 [scrapy.core.engine] DEBUG: Crawled (200) <GET http://guba.eastmoney.com/list,zssh000001_754.html> (referer: None)\n",
      "2019-12-05 23:03:12 [scrapy.core.engine] DEBUG: Crawled (200) <GET http://guba.eastmoney.com/list,zssh000001_758.html> (referer: None)\n",
      "2019-12-05 23:03:12 [scrapy.core.engine] DEBUG: Crawled (200) <GET http://guba.eastmoney.com/list,zssh000001_759.html> (referer: None)\n",
      "2019-12-05 23:03:12 [scrapy.core.engine] DEBUG: Crawled (200) <GET http://guba.eastmoney.com/list,zssh000001_757.html> (referer: None)\n"
     ]
    },
    {
     "name": "stdout",
     "output_type": "stream",
     "text": [
      "over: http://guba.eastmoney.com/list,zssh000001_745.html\n",
      "over: http://guba.eastmoney.com/list,zssh000001_744.html\n",
      "over: http://guba.eastmoney.com/list,zssh000001_746.html\n",
      "over: http://guba.eastmoney.com/list,zssh000001_747.html\n",
      "over: http://guba.eastmoney.com/list,zssh000001_750.html"
     ]
    },
    {
     "name": "stderr",
     "output_type": "stream",
     "text": [
      "2019-12-05 23:03:12 [scrapy.downloadermiddlewares.redirect] DEBUG: Redirecting (meta refresh) to <GET http://www.eastmoney.com/> from <GET http://guba.eastmoney.com/list,zssh000001_761.html>\n",
      "2019-12-05 23:03:12 [scrapy.downloadermiddlewares.redirect] DEBUG: Redirecting (meta refresh) to <GET http://www.eastmoney.com/> from <GET http://guba.eastmoney.com/list,zssh000001_762.html>\n"
     ]
    },
    {
     "name": "stdout",
     "output_type": "stream",
     "text": [
      "\n",
      "over: http://guba.eastmoney.com/list,zssh000001_753.html\n",
      "over: http://guba.eastmoney.com/list,zssh000001_751.html\n",
      "over: http://guba.eastmoney.com/list,zssh000001_752.html\n",
      "over: http://guba.eastmoney.com/list,zssh000001_754.html\n"
     ]
    },
    {
     "name": "stderr",
     "output_type": "stream",
     "text": [
      "2019-12-05 23:03:12 [scrapy.core.engine] DEBUG: Crawled (200) <GET http://guba.eastmoney.com/list,zssh000001_764.html> (referer: None)\n",
      "2019-12-05 23:03:12 [scrapy.downloadermiddlewares.redirect] DEBUG: Redirecting (meta refresh) to <GET http://www.eastmoney.com/> from <GET http://guba.eastmoney.com/list,zssh000001_765.html>\n",
      "2019-12-05 23:03:12 [scrapy.core.engine] DEBUG: Crawled (200) <GET http://guba.eastmoney.com/list,zssh000001_760.html> (referer: None)\n",
      "2019-12-05 23:03:12 [scrapy.core.engine] DEBUG: Crawled (200) <GET http://guba.eastmoney.com/list,zssh000001_767.html> (referer: None)\n",
      "2019-12-05 23:03:12 [scrapy.core.engine] DEBUG: Crawled (200) <GET http://guba.eastmoney.com/list,zssh000001_763.html> (referer: None)\n",
      "2019-12-05 23:03:12 [scrapy.downloadermiddlewares.redirect] DEBUG: Redirecting (meta refresh) to <GET http://www.eastmoney.com/> from <GET http://guba.eastmoney.com/list,zssh000001_772.html>\n",
      "2019-12-05 23:03:12 [scrapy.downloadermiddlewares.redirect] DEBUG: Redirecting (meta refresh) to <GET http://www.eastmoney.com/> from <GET http://guba.eastmoney.com/list,zssh000001_773.html>\n",
      "2019-12-05 23:03:12 [scrapy.downloadermiddlewares.redirect] DEBUG: Redirecting (meta refresh) to <GET http://www.eastmoney.com/> from <GET http://guba.eastmoney.com/list,zssh000001_769.html>\n",
      "2019-12-05 23:03:12 [scrapy.downloadermiddlewares.redirect] DEBUG: Redirecting (meta refresh) to <GET http://www.eastmoney.com/> from <GET http://guba.eastmoney.com/list,zssh000001_768.html>\n"
     ]
    },
    {
     "name": "stdout",
     "output_type": "stream",
     "text": [
      "over: http://guba.eastmoney.com/list,zssh000001_758.html\n",
      "over: http://guba.eastmoney.com/list,zssh000001_759.html\n",
      "over: http://guba.eastmoney.com/list,zssh000001_757.html\n"
     ]
    },
    {
     "name": "stderr",
     "output_type": "stream",
     "text": [
      "2019-12-05 23:03:13 [scrapy.downloadermiddlewares.redirect] DEBUG: Redirecting (meta refresh) to <GET http://www.eastmoney.com/> from <GET http://guba.eastmoney.com/list,zssh000001_778.html>\n",
      "2019-12-05 23:03:13 [scrapy.core.engine] DEBUG: Crawled (200) <GET http://guba.eastmoney.com/list,zssh000001_766.html> (referer: None)\n",
      "2019-12-05 23:03:13 [scrapy.core.engine] DEBUG: Crawled (200) <GET http://guba.eastmoney.com/list,zssh000001_774.html> (referer: None)\n",
      "2019-12-05 23:03:13 [scrapy.core.engine] DEBUG: Crawled (200) <GET http://guba.eastmoney.com/list,zssh000001_775.html> (referer: None)\n",
      "2019-12-05 23:03:13 [scrapy.core.engine] DEBUG: Crawled (200) <GET http://guba.eastmoney.com/list,zssh000001_770.html> (referer: None)\n",
      "2019-12-05 23:03:13 [scrapy.downloadermiddlewares.redirect] DEBUG: Redirecting (meta refresh) to <GET http://www.eastmoney.com/> from <GET http://guba.eastmoney.com/list,zssh000001_781.html>\n"
     ]
    },
    {
     "name": "stdout",
     "output_type": "stream",
     "text": [
      "over: http://guba.eastmoney.com/list,zssh000001_764.html\n",
      "over: http://guba.eastmoney.com/list,zssh000001_760.html\n",
      "over: http://guba.eastmoney.com/list,zssh000001_767.html\n",
      "over: http://guba.eastmoney.com/list,zssh000001_763.html\n"
     ]
    },
    {
     "name": "stderr",
     "output_type": "stream",
     "text": [
      "2019-12-05 23:03:13 [scrapy.core.engine] DEBUG: Crawled (200) <GET http://guba.eastmoney.com/list,zssh000001_777.html> (referer: None)\n",
      "2019-12-05 23:03:13 [scrapy.core.engine] DEBUG: Crawled (200) <GET http://guba.eastmoney.com/list,zssh000001_779.html> (referer: None)\n",
      "2019-12-05 23:03:13 [scrapy.core.engine] DEBUG: Crawled (200) <GET http://guba.eastmoney.com/list,zssh000001_783.html> (referer: None)\n",
      "2019-12-05 23:03:13 [scrapy.core.engine] DEBUG: Crawled (200) <GET http://guba.eastmoney.com/list,zssh000001_780.html> (referer: None)\n",
      "2019-12-05 23:03:13 [scrapy.core.engine] DEBUG: Crawled (200) <GET http://guba.eastmoney.com/list,zssh000001_776.html> (referer: None)\n"
     ]
    },
    {
     "name": "stdout",
     "output_type": "stream",
     "text": [
      "over: http://guba.eastmoney.com/list,zssh000001_766.html\n",
      "over: http://guba.eastmoney.com/list,zssh000001_774.html\n",
      "over: http://guba.eastmoney.com/list,zssh000001_775.html\n",
      "over: http://guba.eastmoney.com/list,zssh000001_770.html\n"
     ]
    },
    {
     "name": "stderr",
     "output_type": "stream",
     "text": [
      "2019-12-05 23:03:13 [scrapy.core.engine] DEBUG: Crawled (200) <GET http://guba.eastmoney.com/list,zssh000001_771.html> (referer: None)\n",
      "2019-12-05 23:03:13 [scrapy.downloadermiddlewares.redirect] DEBUG: Redirecting (meta refresh) to <GET http://www.eastmoney.com/> from <GET http://guba.eastmoney.com/list,zssh000001_785.html>\n",
      "2019-12-05 23:03:13 [scrapy.downloadermiddlewares.redirect] DEBUG: Redirecting (meta refresh) to <GET http://www.eastmoney.com/> from <GET http://guba.eastmoney.com/list,zssh000001_788.html>\n",
      "2019-12-05 23:03:13 [scrapy.core.engine] DEBUG: Crawled (200) <GET http://guba.eastmoney.com/list,zssh000001_782.html> (referer: None)\n",
      "2019-12-05 23:03:13 [scrapy.core.engine] DEBUG: Crawled (200) <GET http://guba.eastmoney.com/list,zssh000001_784.html> (referer: None)\n"
     ]
    },
    {
     "name": "stdout",
     "output_type": "stream",
     "text": [
      "over: http://guba.eastmoney.com/list,zssh000001_777.html\n",
      "over: http://guba.eastmoney.com/list,zssh000001_779.html\n",
      "over: http://guba.eastmoney.com/list,zssh000001_783.html\n",
      "over: http://guba.eastmoney.com/list,zssh000001_780.html\n",
      "over: http://guba.eastmoney.com/list,zssh000001_776.html\n"
     ]
    },
    {
     "name": "stderr",
     "output_type": "stream",
     "text": [
      "2019-12-05 23:03:13 [scrapy.core.engine] DEBUG: Crawled (200) <GET http://guba.eastmoney.com/list,zssh000001_787.html> (referer: None)\n",
      "2019-12-05 23:03:13 [scrapy.downloadermiddlewares.redirect] DEBUG: Redirecting (meta refresh) to <GET http://www.eastmoney.com/> from <GET http://guba.eastmoney.com/list,zssh000001_792.html>\n",
      "2019-12-05 23:03:13 [scrapy.core.engine] DEBUG: Crawled (200) <GET http://guba.eastmoney.com/list,zssh000001_786.html> (referer: None)\n",
      "2019-12-05 23:03:13 [scrapy.core.engine] DEBUG: Crawled (200) <GET http://guba.eastmoney.com/list,zssh000001_790.html> (referer: None)\n",
      "2019-12-05 23:03:13 [scrapy.core.engine] DEBUG: Crawled (200) <GET http://guba.eastmoney.com/list,zssh000001_789.html> (referer: None)\n",
      "2019-12-05 23:03:13 [scrapy.downloadermiddlewares.redirect] DEBUG: Redirecting (meta refresh) to <GET http://www.eastmoney.com/> from <GET http://guba.eastmoney.com/list,zssh000001_795.html>\n",
      "2019-12-05 23:03:13 [scrapy.downloadermiddlewares.redirect] DEBUG: Redirecting (meta refresh) to <GET http://www.eastmoney.com/> from <GET http://guba.eastmoney.com/list,zssh000001_796.html>\n",
      "2019-12-05 23:03:13 [scrapy.core.engine] DEBUG: Crawled (200) <GET http://guba.eastmoney.com/list,zssh000001_793.html> (referer: None)\n",
      "2019-12-05 23:03:13 [scrapy.core.engine] DEBUG: Crawled (200) <GET http://guba.eastmoney.com/list,zssh000001_791.html> (referer: None)\n",
      "2019-12-05 23:03:13 [scrapy.core.engine] DEBUG: Crawled (200) <GET http://guba.eastmoney.com/list,zssh000001_794.html> (referer: None)\n"
     ]
    },
    {
     "name": "stdout",
     "output_type": "stream",
     "text": [
      "over: http://guba.eastmoney.com/list,zssh000001_771.html\n",
      "over: http://guba.eastmoney.com/list,zssh000001_782.html\n",
      "over: http://guba.eastmoney.com/list,zssh000001_784.html\n",
      "over: http://guba.eastmoney.com/list,zssh000001_787.html\n"
     ]
    },
    {
     "name": "stderr",
     "output_type": "stream",
     "text": [
      "2019-12-05 23:03:14 [scrapy.downloadermiddlewares.redirect] DEBUG: Redirecting (meta refresh) to <GET http://www.eastmoney.com/> from <GET http://guba.eastmoney.com/list,zssh000001_797.html>\n",
      "2019-12-05 23:03:14 [scrapy.downloadermiddlewares.redirect] DEBUG: Redirecting (meta refresh) to <GET http://www.eastmoney.com/> from <GET http://guba.eastmoney.com/list,zssh000001_800.html>\n",
      "2019-12-05 23:03:14 [scrapy.downloadermiddlewares.redirect] DEBUG: Redirecting (meta refresh) to <GET http://www.eastmoney.com/> from <GET http://guba.eastmoney.com/list,zssh000001_801.html>\n",
      "2019-12-05 23:03:14 [scrapy.core.scraper] ERROR: Spider error processing <GET http://guba.eastmoney.com/list,zssh000001_793.html> (referer: None)\n",
      "Traceback (most recent call last):\n",
      "  File \"C:\\Users\\xuhon\\Anaconda3\\lib\\site-packages\\twisted\\internet\\defer.py\", line 654, in _runCallbacks\n",
      "    current.result = callback(current.result, *args, **kw)\n",
      "  File \"<ipython-input-1-c79c8daf22a6>\", line 41, in parse\n",
      "    self.csvWriter.writerow(item)\n",
      "  File \"C:\\Users\\xuhon\\Anaconda3\\lib\\csv.py\", line 155, in writerow\n",
      "    return self.writer.writerow(self._dict_to_list(rowdict))\n",
      "UnicodeEncodeError: 'gbk' codec can't encode character '\\u22ef' in position 10: illegal multibyte sequence\n"
     ]
    },
    {
     "name": "stdout",
     "output_type": "stream",
     "text": [
      "over: http://guba.eastmoney.com/list,zssh000001_790.html\n",
      "over: http://guba.eastmoney.com/list,zssh000001_786.html\n",
      "over: http://guba.eastmoney.com/list,zssh000001_789.html\n"
     ]
    },
    {
     "name": "stderr",
     "output_type": "stream",
     "text": [
      "2019-12-05 23:03:14 [scrapy.core.engine] DEBUG: Crawled (200) <GET http://guba.eastmoney.com/list,zssh000001_798.html> (referer: None)\n",
      "2019-12-05 23:03:14 [scrapy.core.engine] DEBUG: Crawled (200) <GET http://guba.eastmoney.com/list,zssh000001_802.html> (referer: None)\n",
      "2019-12-05 23:03:14 [scrapy.core.engine] DEBUG: Crawled (200) <GET http://guba.eastmoney.com/list,zssh000001_803.html> (referer: None)\n",
      "2019-12-05 23:03:14 [scrapy.core.engine] DEBUG: Crawled (200) <GET http://guba.eastmoney.com/list,zssh000001_804.html> (referer: None)\n",
      "2019-12-05 23:03:14 [scrapy.downloadermiddlewares.redirect] DEBUG: Redirecting (meta refresh) to <GET http://www.eastmoney.com/> from <GET http://guba.eastmoney.com/list,zssh000001_807.html>\n",
      "2019-12-05 23:03:14 [scrapy.downloadermiddlewares.redirect] DEBUG: Redirecting (meta refresh) to <GET http://www.eastmoney.com/> from <GET http://guba.eastmoney.com/list,zssh000001_808.html>\n",
      "2019-12-05 23:03:14 [scrapy.downloadermiddlewares.redirect] DEBUG: Redirecting (meta refresh) to <GET http://www.eastmoney.com/> from <GET http://guba.eastmoney.com/list,zssh000001_809.html>\n",
      "2019-12-05 23:03:14 [scrapy.core.engine] DEBUG: Crawled (200) <GET http://guba.eastmoney.com/list,zssh000001_799.html> (referer: None)\n"
     ]
    },
    {
     "name": "stdout",
     "output_type": "stream",
     "text": [
      "over: http://guba.eastmoney.com/list,zssh000001_791.html\n",
      "over: http://guba.eastmoney.com/list,zssh000001_794.html\n",
      "over: http://guba.eastmoney.com/list,zssh000001_802.html\n"
     ]
    },
    {
     "name": "stderr",
     "output_type": "stream",
     "text": [
      "2019-12-05 23:03:14 [scrapy.core.engine] DEBUG: Crawled (200) <GET http://guba.eastmoney.com/list,zssh000001_805.html> (referer: None)\n",
      "2019-12-05 23:03:14 [scrapy.core.engine] DEBUG: Crawled (200) <GET http://guba.eastmoney.com/list,zssh000001_813.html> (referer: None)\n",
      "2019-12-05 23:03:14 [scrapy.core.engine] DEBUG: Crawled (200) <GET http://guba.eastmoney.com/list,zssh000001_812.html> (referer: None)\n",
      "2019-12-05 23:03:14 [scrapy.core.engine] DEBUG: Crawled (200) <GET http://guba.eastmoney.com/list,zssh000001_814.html> (referer: None)\n",
      "2019-12-05 23:03:14 [scrapy.core.engine] DEBUG: Crawled (200) <GET http://guba.eastmoney.com/list,zssh000001_810.html> (referer: None)\n",
      "2019-12-05 23:03:14 [scrapy.core.engine] DEBUG: Crawled (200) <GET http://guba.eastmoney.com/list,zssh000001_811.html> (referer: None)\n",
      "2019-12-05 23:03:14 [scrapy.downloadermiddlewares.redirect] DEBUG: Redirecting (meta refresh) to <GET http://www.eastmoney.com/> from <GET http://guba.eastmoney.com/list,zssh000001_817.html>\n",
      "2019-12-05 23:03:14 [scrapy.downloadermiddlewares.redirect] DEBUG: Redirecting (meta refresh) to <GET http://www.eastmoney.com/> from <GET http://guba.eastmoney.com/list,zssh000001_818.html>\n"
     ]
    },
    {
     "name": "stdout",
     "output_type": "stream",
     "text": [
      "over: http://guba.eastmoney.com/list,zssh000001_798.html\n",
      "over: http://guba.eastmoney.com/list,zssh000001_803.html\n",
      "over: http://guba.eastmoney.com/list,zssh000001_804.html\n",
      "over: http://guba.eastmoney.com/list,zssh000001_799.html\n"
     ]
    },
    {
     "name": "stderr",
     "output_type": "stream",
     "text": [
      "2019-12-05 23:03:14 [scrapy.downloadermiddlewares.redirect] DEBUG: Redirecting (meta refresh) to <GET http://www.eastmoney.com/> from <GET http://guba.eastmoney.com/list,zssh000001_819.html>\n",
      "2019-12-05 23:03:14 [scrapy.downloadermiddlewares.redirect] DEBUG: Redirecting (meta refresh) to <GET http://www.eastmoney.com/> from <GET http://guba.eastmoney.com/list,zssh000001_822.html>\n",
      "2019-12-05 23:03:14 [scrapy.downloadermiddlewares.redirect] DEBUG: Redirecting (meta refresh) to <GET http://www.eastmoney.com/> from <GET http://guba.eastmoney.com/list,zssh000001_823.html>\n"
     ]
    },
    {
     "name": "stdout",
     "output_type": "stream",
     "text": [
      "over: http://guba.eastmoney.com/list,zssh000001_805.html\n",
      "over: http://guba.eastmoney.com/list,zssh000001_813.html\n",
      "over: http://guba.eastmoney.com/list,zssh000001_812.html\n",
      "over: http://guba.eastmoney.com/list,zssh000001_814.html\n",
      "over: http://guba.eastmoney.com/list,zssh000001_810.html\n"
     ]
    },
    {
     "name": "stderr",
     "output_type": "stream",
     "text": [
      "2019-12-05 23:03:14 [scrapy.core.engine] DEBUG: Crawled (200) <GET http://guba.eastmoney.com/list,zssh000001_816.html> (referer: None)\n",
      "2019-12-05 23:03:14 [scrapy.core.engine] DEBUG: Crawled (200) <GET http://guba.eastmoney.com/list,zssh000001_825.html> (referer: None)\n",
      "2019-12-05 23:03:14 [scrapy.core.engine] DEBUG: Crawled (200) <GET http://guba.eastmoney.com/list,zssh000001_824.html> (referer: None)\n",
      "2019-12-05 23:03:14 [scrapy.core.engine] DEBUG: Crawled (200) <GET http://guba.eastmoney.com/list,zssh000001_820.html> (referer: None)\n",
      "2019-12-05 23:03:14 [scrapy.core.engine] DEBUG: Crawled (200) <GET http://guba.eastmoney.com/list,zssh000001_821.html> (referer: None)\n",
      "2019-12-05 23:03:14 [scrapy.downloadermiddlewares.redirect] DEBUG: Redirecting (meta refresh) to <GET http://www.eastmoney.com/> from <GET http://guba.eastmoney.com/list,zssh000001_826.html>\n",
      "2019-12-05 23:03:14 [scrapy.downloadermiddlewares.redirect] DEBUG: Redirecting (meta refresh) to <GET http://www.eastmoney.com/> from <GET http://guba.eastmoney.com/list,zssh000001_828.html>\n",
      "2019-12-05 23:03:14 [scrapy.downloadermiddlewares.redirect] DEBUG: Redirecting (meta refresh) to <GET http://www.eastmoney.com/> from <GET http://guba.eastmoney.com/list,zssh000001_830.html>\n",
      "2019-12-05 23:03:14 [scrapy.downloadermiddlewares.redirect] DEBUG: Redirecting (meta refresh) to <GET http://www.eastmoney.com/> from <GET http://guba.eastmoney.com/list,zssh000001_827.html>\n",
      "2019-12-05 23:03:14 [scrapy.downloadermiddlewares.redirect] DEBUG: Redirecting (meta refresh) to <GET http://www.eastmoney.com/> from <GET http://guba.eastmoney.com/list,zssh000001_835.html>\n"
     ]
    },
    {
     "name": "stdout",
     "output_type": "stream",
     "text": [
      "over: http://guba.eastmoney.com/list,zssh000001_811.html\n",
      "over: http://guba.eastmoney.com/list,zssh000001_816.html\n"
     ]
    },
    {
     "name": "stderr",
     "output_type": "stream",
     "text": [
      "2019-12-05 23:03:15 [scrapy.core.scraper] ERROR: Spider error processing <GET http://guba.eastmoney.com/list,zssh000001_824.html> (referer: None)\n",
      "Traceback (most recent call last):\n",
      "  File \"C:\\Users\\xuhon\\Anaconda3\\lib\\site-packages\\twisted\\internet\\defer.py\", line 654, in _runCallbacks\n",
      "    current.result = callback(current.result, *args, **kw)\n",
      "  File \"<ipython-input-1-c79c8daf22a6>\", line 41, in parse\n",
      "    self.csvWriter.writerow(item)\n",
      "  File \"C:\\Users\\xuhon\\Anaconda3\\lib\\csv.py\", line 155, in writerow\n",
      "    return self.writer.writerow(self._dict_to_list(rowdict))\n",
      "UnicodeEncodeError: 'gbk' codec can't encode character '\\u2022' in position 7: illegal multibyte sequence\n",
      "2019-12-05 23:03:15 [scrapy.core.engine] DEBUG: Crawled (200) <GET http://guba.eastmoney.com/list,zssh000001_806.html> (referer: None)\n",
      "2019-12-05 23:03:15 [scrapy.core.engine] DEBUG: Crawled (200) <GET http://guba.eastmoney.com/list,zssh000001_815.html> (referer: None)\n",
      "2019-12-05 23:03:15 [scrapy.core.engine] DEBUG: Crawled (200) <GET http://guba.eastmoney.com/list,zssh000001_833.html> (referer: None)\n",
      "2019-12-05 23:03:15 [scrapy.core.engine] DEBUG: Crawled (200) <GET http://guba.eastmoney.com/list,zssh000001_832.html> (referer: None)\n",
      "2019-12-05 23:03:15 [scrapy.core.engine] DEBUG: Crawled (200) <GET http://guba.eastmoney.com/list,zssh000001_834.html> (referer: None)\n",
      "2019-12-05 23:03:15 [scrapy.core.engine] DEBUG: Crawled (200) <GET http://guba.eastmoney.com/list,zssh000001_831.html> (referer: None)\n"
     ]
    },
    {
     "name": "stdout",
     "output_type": "stream",
     "text": [
      "over: http://guba.eastmoney.com/list,zssh000001_825.html\n",
      "over: http://guba.eastmoney.com/list,zssh000001_820.html\n",
      "over: http://guba.eastmoney.com/list,zssh000001_821.html\n",
      "over: http://guba.eastmoney.com/list,zssh000001_806.html\n",
      "over: http://guba.eastmoney.com/list,zssh000001_815.html\n"
     ]
    },
    {
     "name": "stderr",
     "output_type": "stream",
     "text": [
      "2019-12-05 23:03:15 [scrapy.downloadermiddlewares.redirect] DEBUG: Redirecting (meta refresh) to <GET http://www.eastmoney.com/> from <GET http://guba.eastmoney.com/list,zssh000001_838.html>\n"
     ]
    },
    {
     "name": "stdout",
     "output_type": "stream",
     "text": [
      "over: http://guba.eastmoney.com/list,zssh000001_833.html\n",
      "over: http://guba.eastmoney.com/list,zssh000001_832.html\n",
      "over: http://guba.eastmoney.com/list,zssh000001_834.html\n",
      "over: http://guba.eastmoney.com/list,zssh000001_831.html\n"
     ]
    },
    {
     "name": "stderr",
     "output_type": "stream",
     "text": [
      "2019-12-05 23:03:15 [scrapy.core.engine] DEBUG: Crawled (200) <GET http://guba.eastmoney.com/list,zssh000001_837.html> (referer: None)\n",
      "2019-12-05 23:03:15 [scrapy.core.engine] DEBUG: Crawled (200) <GET http://guba.eastmoney.com/list,zssh000001_841.html> (referer: None)\n",
      "2019-12-05 23:03:15 [scrapy.downloadermiddlewares.redirect] DEBUG: Redirecting (meta refresh) to <GET http://www.eastmoney.com/> from <GET http://guba.eastmoney.com/list,zssh000001_844.html>\n",
      "2019-12-05 23:03:15 [scrapy.downloadermiddlewares.redirect] DEBUG: Redirecting (meta refresh) to <GET http://www.eastmoney.com/> from <GET http://guba.eastmoney.com/list,zssh000001_846.html>\n",
      "2019-12-05 23:03:15 [scrapy.core.engine] DEBUG: Crawled (200) <GET http://guba.eastmoney.com/list,zssh000001_847.html> (referer: None)\n",
      "2019-12-05 23:03:15 [scrapy.core.engine] DEBUG: Crawled (200) <GET http://guba.eastmoney.com/list,zssh000001_829.html> (referer: None)\n",
      "2019-12-05 23:03:15 [scrapy.downloadermiddlewares.redirect] DEBUG: Redirecting (meta refresh) to <GET http://www.eastmoney.com/> from <GET http://guba.eastmoney.com/list,zssh000001_849.html>\n",
      "2019-12-05 23:03:15 [scrapy.core.engine] DEBUG: Crawled (200) <GET http://guba.eastmoney.com/list,zssh000001_836.html> (referer: None)\n",
      "2019-12-05 23:03:15 [scrapy.downloadermiddlewares.redirect] DEBUG: Redirecting (meta refresh) to <GET http://www.eastmoney.com/> from <GET http://guba.eastmoney.com/list,zssh000001_850.html>\n",
      "2019-12-05 23:03:15 [scrapy.core.engine] DEBUG: Crawled (200) <GET http://guba.eastmoney.com/list,zssh000001_842.html> (referer: None)\n"
     ]
    },
    {
     "name": "stdout",
     "output_type": "stream",
     "text": [
      "over: http://guba.eastmoney.com/list,zssh000001_837.html\n",
      "over: http://guba.eastmoney.com/list,zssh000001_841.html\n",
      "over: http://guba.eastmoney.com/list,zssh000001_847.html\n"
     ]
    },
    {
     "name": "stderr",
     "output_type": "stream",
     "text": [
      "2019-12-05 23:03:16 [scrapy.core.engine] DEBUG: Crawled (200) <GET http://guba.eastmoney.com/list,zssh000001_851.html> (referer: None)\n",
      "2019-12-05 23:03:16 [scrapy.core.engine] DEBUG: Crawled (200) <GET http://guba.eastmoney.com/list,zssh000001_848.html> (referer: None)\n",
      "2019-12-05 23:03:16 [scrapy.core.engine] DEBUG: Crawled (200) <GET http://guba.eastmoney.com/list,zssh000001_843.html> (referer: None)\n",
      "2019-12-05 23:03:16 [scrapy.downloadermiddlewares.redirect] DEBUG: Redirecting (meta refresh) to <GET http://www.eastmoney.com/> from <GET http://guba.eastmoney.com/list,zssh000001_855.html>\n"
     ]
    },
    {
     "name": "stdout",
     "output_type": "stream",
     "text": [
      "over: http://guba.eastmoney.com/list,zssh000001_829.html\n",
      "over: http://guba.eastmoney.com/list,zssh000001_836.html\n",
      "over: http://guba.eastmoney.com/list,zssh000001_842.html\n",
      "over: http://guba.eastmoney.com/list,zssh000001_851.html\n",
      "over: http://guba.eastmoney.com/list,zssh000001_848.html\n"
     ]
    },
    {
     "name": "stderr",
     "output_type": "stream",
     "text": [
      "2019-12-05 23:03:16 [scrapy.core.engine] DEBUG: Crawled (200) <GET http://guba.eastmoney.com/list,zssh000001_852.html> (referer: None)\n",
      "2019-12-05 23:03:16 [scrapy.core.engine] DEBUG: Crawled (200) <GET http://guba.eastmoney.com/list,zssh000001_845.html> (referer: None)\n",
      "2019-12-05 23:03:16 [scrapy.core.engine] DEBUG: Crawled (200) <GET http://guba.eastmoney.com/list,zssh000001_857.html> (referer: None)\n",
      "2019-12-05 23:03:16 [scrapy.downloadermiddlewares.redirect] DEBUG: Redirecting (meta refresh) to <GET http://www.eastmoney.com/> from <GET http://guba.eastmoney.com/list,zssh000001_859.html>\n",
      "2019-12-05 23:03:16 [scrapy.core.engine] DEBUG: Crawled (200) <GET http://guba.eastmoney.com/list,zssh000001_856.html> (referer: None)\n",
      "2019-12-05 23:03:16 [scrapy.downloadermiddlewares.redirect] DEBUG: Redirecting (meta refresh) to <GET http://www.eastmoney.com/> from <GET http://guba.eastmoney.com/list,zssh000001_862.html>\n"
     ]
    },
    {
     "name": "stdout",
     "output_type": "stream",
     "text": [
      "over: http://guba.eastmoney.com/list,zssh000001_843.html\n",
      "over: http://guba.eastmoney.com/list,zssh000001_845.html\n",
      "over: http://guba.eastmoney.com/list,zssh000001_852.html\n"
     ]
    },
    {
     "name": "stderr",
     "output_type": "stream",
     "text": [
      "2019-12-05 23:03:16 [scrapy.core.engine] DEBUG: Crawled (200) <GET http://guba.eastmoney.com/list,zssh000001_860.html> (referer: None)\n",
      "2019-12-05 23:03:16 [scrapy.core.engine] DEBUG: Crawled (200) <GET http://guba.eastmoney.com/list,zssh000001_861.html> (referer: None)\n",
      "2019-12-05 23:03:16 [scrapy.downloadermiddlewares.redirect] DEBUG: Redirecting (meta refresh) to <GET http://www.eastmoney.com/> from <GET http://guba.eastmoney.com/list,zssh000001_863.html>\n",
      "2019-12-05 23:03:16 [scrapy.downloadermiddlewares.redirect] DEBUG: Redirecting (meta refresh) to <GET http://www.eastmoney.com/> from <GET http://guba.eastmoney.com/list,zssh000001_864.html>\n",
      "2019-12-05 23:03:16 [scrapy.downloadermiddlewares.redirect] DEBUG: Redirecting (meta refresh) to <GET http://www.eastmoney.com/> from <GET http://guba.eastmoney.com/list,zssh000001_865.html>\n",
      "2019-12-05 23:03:16 [scrapy.downloadermiddlewares.redirect] DEBUG: Redirecting (meta refresh) to <GET http://www.eastmoney.com/> from <GET http://guba.eastmoney.com/list,zssh000001_866.html>\n",
      "2019-12-05 23:03:16 [scrapy.downloadermiddlewares.redirect] DEBUG: Redirecting (meta refresh) to <GET http://www.eastmoney.com/> from <GET http://guba.eastmoney.com/list,zssh000001_869.html>\n"
     ]
    },
    {
     "name": "stdout",
     "output_type": "stream",
     "text": [
      "over: http://guba.eastmoney.com/list,zssh000001_857.html\n",
      "over: http://guba.eastmoney.com/list,zssh000001_856.html\n",
      "over: http://guba.eastmoney.com/list,zssh000001_860.html\n"
     ]
    },
    {
     "name": "stderr",
     "output_type": "stream",
     "text": [
      "2019-12-05 23:03:16 [scrapy.core.engine] DEBUG: Crawled (200) <GET http://guba.eastmoney.com/list,zssh000001_868.html> (referer: None)\n",
      "2019-12-05 23:03:16 [scrapy.core.engine] DEBUG: Crawled (200) <GET http://guba.eastmoney.com/list,zssh000001_839.html> (referer: None)\n",
      "2019-12-05 23:03:16 [scrapy.core.engine] DEBUG: Crawled (200) <GET http://guba.eastmoney.com/list,zssh000001_840.html> (referer: None)\n"
     ]
    },
    {
     "name": "stdout",
     "output_type": "stream",
     "text": [
      "over: http://guba.eastmoney.com/list,zssh000001_861.html\n"
     ]
    },
    {
     "name": "stderr",
     "output_type": "stream",
     "text": [
      "2019-12-05 23:03:16 [scrapy.core.engine] DEBUG: Crawled (200) <GET http://guba.eastmoney.com/list,zssh000001_873.html> (referer: None)\n",
      "2019-12-05 23:03:16 [scrapy.core.engine] DEBUG: Crawled (200) <GET http://guba.eastmoney.com/list,zssh000001_858.html> (referer: None)\n",
      "2019-12-05 23:03:16 [scrapy.core.engine] DEBUG: Crawled (200) <GET http://guba.eastmoney.com/list,zssh000001_870.html> (referer: None)\n",
      "2019-12-05 23:03:16 [scrapy.core.engine] DEBUG: Crawled (200) <GET http://guba.eastmoney.com/list,zssh000001_871.html> (referer: None)\n",
      "2019-12-05 23:03:16 [scrapy.core.engine] DEBUG: Crawled (200) <GET http://guba.eastmoney.com/list,zssh000001_853.html> (referer: None)\n",
      "2019-12-05 23:03:17 [scrapy.core.engine] DEBUG: Crawled (200) <GET http://guba.eastmoney.com/list,zssh000001_854.html> (referer: None)\n",
      "2019-12-05 23:03:17 [scrapy.core.engine] DEBUG: Crawled (200) <GET http://guba.eastmoney.com/list,zssh000001_867.html> (referer: None)\n",
      "2019-12-05 23:03:17 [scrapy.downloadermiddlewares.redirect] DEBUG: Redirecting (meta refresh) to <GET http://www.eastmoney.com/> from <GET http://guba.eastmoney.com/list,zssh000001_876.html>\n"
     ]
    },
    {
     "name": "stdout",
     "output_type": "stream",
     "text": [
      "over: http://guba.eastmoney.com/list,zssh000001_868.html\n",
      "over: http://guba.eastmoney.com/list,zssh000001_839.html\n",
      "over: http://guba.eastmoney.com/list,zssh000001_840.html\n",
      "over: http://guba.eastmoney.com/list,zssh000001_873.html\n",
      "over: http://guba.eastmoney.com/list,zssh000001_858.html\n"
     ]
    },
    {
     "name": "stderr",
     "output_type": "stream",
     "text": [
      "2019-12-05 23:03:17 [scrapy.core.engine] DEBUG: Crawled (200) <GET http://guba.eastmoney.com/list,zssh000001_872.html> (referer: None)\n",
      "2019-12-05 23:03:17 [scrapy.core.engine] DEBUG: Crawled (200) <GET http://guba.eastmoney.com/list,zssh000001_874.html> (referer: None)\n",
      "2019-12-05 23:03:17 [scrapy.downloadermiddlewares.redirect] DEBUG: Redirecting (meta refresh) to <GET http://www.eastmoney.com/> from <GET http://guba.eastmoney.com/list,zssh000001_875.html>\n",
      "2019-12-05 23:03:17 [scrapy.core.engine] DEBUG: Crawled (200) <GET http://guba.eastmoney.com/list,zssh000001_877.html> (referer: None)\n",
      "2019-12-05 23:03:17 [scrapy.core.engine] DEBUG: Crawled (200) <GET http://guba.eastmoney.com/list,zssh000001_879.html> (referer: None)\n",
      "2019-12-05 23:03:17 [scrapy.core.engine] DEBUG: Crawled (200) <GET http://guba.eastmoney.com/list,zssh000001_878.html> (referer: None)\n"
     ]
    },
    {
     "name": "stdout",
     "output_type": "stream",
     "text": [
      "over: http://guba.eastmoney.com/list,zssh000001_870.html\n",
      "over: http://guba.eastmoney.com/list,zssh000001_871.html\n",
      "over: http://guba.eastmoney.com/list,zssh000001_853.html\n",
      "over: http://guba.eastmoney.com/list,zssh000001_854.html\n",
      "over: http://guba.eastmoney.com/list,zssh000001_867.html\n"
     ]
    },
    {
     "name": "stderr",
     "output_type": "stream",
     "text": [
      "2019-12-05 23:03:17 [scrapy.downloadermiddlewares.redirect] DEBUG: Redirecting (meta refresh) to <GET http://www.eastmoney.com/> from <GET http://guba.eastmoney.com/list,zssh000001_883.html>\n",
      "2019-12-05 23:03:17 [scrapy.downloadermiddlewares.redirect] DEBUG: Redirecting (meta refresh) to <GET http://www.eastmoney.com/> from <GET http://guba.eastmoney.com/list,zssh000001_885.html>\n",
      "2019-12-05 23:03:17 [scrapy.downloadermiddlewares.redirect] DEBUG: Redirecting (meta refresh) to <GET http://www.eastmoney.com/> from <GET http://guba.eastmoney.com/list,zssh000001_886.html>\n"
     ]
    },
    {
     "name": "stdout",
     "output_type": "stream",
     "text": [
      "over: http://guba.eastmoney.com/list,zssh000001_874.html\n",
      "over: http://guba.eastmoney.com/list,zssh000001_872.html\n",
      "over: http://guba.eastmoney.com/list,zssh000001_877.html\n",
      "over: http://guba.eastmoney.com/list,zssh000001_879.html\n",
      "over: http://guba.eastmoney.com/list,zssh000001_878.html\n"
     ]
    },
    {
     "name": "stderr",
     "output_type": "stream",
     "text": [
      "2019-12-05 23:03:17 [scrapy.downloadermiddlewares.redirect] DEBUG: Redirecting (meta refresh) to <GET http://www.eastmoney.com/> from <GET http://guba.eastmoney.com/list,zssh000001_889.html>\n",
      "2019-12-05 23:03:17 [scrapy.core.engine] DEBUG: Crawled (200) <GET http://guba.eastmoney.com/list,zssh000001_880.html> (referer: None)\n",
      "2019-12-05 23:03:17 [scrapy.core.engine] DEBUG: Crawled (200) <GET http://guba.eastmoney.com/list,zssh000001_882.html> (referer: None)\n",
      "2019-12-05 23:03:17 [scrapy.core.engine] DEBUG: Crawled (200) <GET http://guba.eastmoney.com/list,zssh000001_881.html> (referer: None)\n",
      "2019-12-05 23:03:17 [scrapy.core.engine] DEBUG: Crawled (200) <GET http://guba.eastmoney.com/list,zssh000001_884.html> (referer: None)\n",
      "2019-12-05 23:03:17 [scrapy.downloadermiddlewares.redirect] DEBUG: Redirecting (meta refresh) to <GET http://www.eastmoney.com/> from <GET http://guba.eastmoney.com/list,zssh000001_892.html>\n",
      "2019-12-05 23:03:17 [scrapy.downloadermiddlewares.redirect] DEBUG: Redirecting (meta refresh) to <GET http://www.eastmoney.com/> from <GET http://guba.eastmoney.com/list,zssh000001_893.html>\n",
      "2019-12-05 23:03:17 [scrapy.downloadermiddlewares.redirect] DEBUG: Redirecting (meta refresh) to <GET http://www.eastmoney.com/> from <GET http://guba.eastmoney.com/list,zssh000001_897.html>\n",
      "2019-12-05 23:03:17 [scrapy.core.engine] DEBUG: Crawled (200) <GET http://guba.eastmoney.com/list,zssh000001_887.html> (referer: None)\n",
      "2019-12-05 23:03:17 [scrapy.core.engine] DEBUG: Crawled (200) <GET http://guba.eastmoney.com/list,zssh000001_890.html> (referer: None)\n",
      "2019-12-05 23:03:17 [scrapy.core.engine] DEBUG: Crawled (200) <GET http://guba.eastmoney.com/list,zssh000001_896.html> (referer: None)\n",
      "2019-12-05 23:03:17 [scrapy.downloadermiddlewares.redirect] DEBUG: Redirecting (meta refresh) to <GET http://www.eastmoney.com/> from <GET http://guba.eastmoney.com/list,zssh000001_898.html>\n",
      "2019-12-05 23:03:17 [scrapy.core.engine] DEBUG: Crawled (200) <GET http://guba.eastmoney.com/list,zssh000001_888.html> (referer: None)\n",
      "2019-12-05 23:03:17 [scrapy.core.engine] DEBUG: Crawled (200) <GET http://guba.eastmoney.com/list,zssh000001_895.html> (referer: None)\n",
      "2019-12-05 23:03:17 [scrapy.core.engine] DEBUG: Crawled (200) <GET http://guba.eastmoney.com/list,zssh000001_894.html> (referer: None)\n",
      "2019-12-05 23:03:17 [scrapy.core.engine] DEBUG: Crawled (200) <GET http://guba.eastmoney.com/list,zssh000001_891.html> (referer: None)\n",
      "2019-12-05 23:03:17 [scrapy.core.engine] DEBUG: Crawled (200) <GET http://guba.eastmoney.com/list,zssh000001_899.html> (referer: None)\n"
     ]
    },
    {
     "name": "stdout",
     "output_type": "stream",
     "text": [
      "over: http://guba.eastmoney.com/list,zssh000001_880.html\n",
      "over: http://guba.eastmoney.com/list,zssh000001_882.html\n",
      "over: http://guba.eastmoney.com/list,zssh000001_881.html\n",
      "over: http://guba.eastmoney.com/list,zssh000001_884.html\n",
      "over: http://guba.eastmoney.com/list,zssh000001_887.html\n"
     ]
    },
    {
     "name": "stderr",
     "output_type": "stream",
     "text": [
      "2019-12-05 23:03:18 [scrapy.core.scraper] ERROR: Spider error processing <GET http://guba.eastmoney.com/list,zssh000001_896.html> (referer: None)\n",
      "Traceback (most recent call last):\n",
      "  File \"C:\\Users\\xuhon\\Anaconda3\\lib\\site-packages\\twisted\\internet\\defer.py\", line 654, in _runCallbacks\n",
      "    current.result = callback(current.result, *args, **kw)\n",
      "  File \"<ipython-input-1-c79c8daf22a6>\", line 41, in parse\n",
      "    self.csvWriter.writerow(item)\n",
      "  File \"C:\\Users\\xuhon\\Anaconda3\\lib\\csv.py\", line 155, in writerow\n",
      "    return self.writer.writerow(self._dict_to_list(rowdict))\n",
      "UnicodeEncodeError: 'gbk' codec can't encode character '\\u2200' in position 4: illegal multibyte sequence\n"
     ]
    },
    {
     "name": "stdout",
     "output_type": "stream",
     "text": [
      "over: http://guba.eastmoney.com/list,zssh000001_890.html\n",
      "over: http://guba.eastmoney.com/list,zssh000001_888.html\n",
      "over: http://guba.eastmoney.com/list,zssh000001_895.html\n",
      "over: http://guba.eastmoney.com/list,zssh000001_894.html\n",
      "over: http://guba.eastmoney.com/list,zssh000001_891.html\n",
      "over: http://guba.eastmoney.com/list,zssh000001_899.html\n"
     ]
    },
    {
     "name": "stderr",
     "output_type": "stream",
     "text": [
      "2019-12-05 23:03:18 [scrapy.core.engine] DEBUG: Crawled (200) <GET http://guba.eastmoney.com/list,zssh000001_900.html> (referer: None)\n",
      "2019-12-05 23:03:18 [scrapy.downloadermiddlewares.redirect] DEBUG: Redirecting (meta refresh) to <GET http://www.eastmoney.com/> from <GET http://guba.eastmoney.com/list,zssh000001_902.html>\n",
      "2019-12-05 23:03:18 [scrapy.downloadermiddlewares.redirect] DEBUG: Redirecting (meta refresh) to <GET http://www.eastmoney.com/> from <GET http://guba.eastmoney.com/list,zssh000001_903.html>\n",
      "2019-12-05 23:03:18 [scrapy.downloadermiddlewares.redirect] DEBUG: Redirecting (meta refresh) to <GET http://www.eastmoney.com/> from <GET http://guba.eastmoney.com/list,zssh000001_904.html>\n",
      "2019-12-05 23:03:18 [scrapy.downloadermiddlewares.redirect] DEBUG: Redirecting (meta refresh) to <GET http://www.eastmoney.com/> from <GET http://guba.eastmoney.com/list,zssh000001_906.html>\n",
      "2019-12-05 23:03:18 [scrapy.downloadermiddlewares.redirect] DEBUG: Redirecting (meta refresh) to <GET http://www.eastmoney.com/> from <GET http://guba.eastmoney.com/list,zssh000001_907.html>\n",
      "2019-12-05 23:03:18 [scrapy.core.engine] DEBUG: Crawled (200) <GET http://guba.eastmoney.com/list,zssh000001_901.html> (referer: None)\n",
      "2019-12-05 23:03:18 [scrapy.downloadermiddlewares.redirect] DEBUG: Redirecting (meta refresh) to <GET http://www.eastmoney.com/> from <GET http://guba.eastmoney.com/list,zssh000001_912.html>\n",
      "2019-12-05 23:03:18 [scrapy.downloadermiddlewares.redirect] DEBUG: Redirecting (meta refresh) to <GET http://www.eastmoney.com/> from <GET http://guba.eastmoney.com/list,zssh000001_913.html>\n",
      "2019-12-05 23:03:18 [scrapy.downloadermiddlewares.redirect] DEBUG: Redirecting (meta refresh) to <GET http://www.eastmoney.com/> from <GET http://guba.eastmoney.com/list,zssh000001_916.html>\n",
      "2019-12-05 23:03:18 [scrapy.core.engine] DEBUG: Crawled (200) <GET http://guba.eastmoney.com/list,zssh000001_905.html> (referer: None)\n",
      "2019-12-05 23:03:18 [scrapy.core.engine] DEBUG: Crawled (200) <GET http://guba.eastmoney.com/list,zssh000001_909.html> (referer: None)\n",
      "2019-12-05 23:03:18 [scrapy.core.engine] DEBUG: Crawled (200) <GET http://guba.eastmoney.com/list,zssh000001_915.html> (referer: None)\n",
      "2019-12-05 23:03:18 [scrapy.downloadermiddlewares.redirect] DEBUG: Redirecting (meta refresh) to <GET http://www.eastmoney.com/> from <GET http://guba.eastmoney.com/list,zssh000001_920.html>\n",
      "2019-12-05 23:03:18 [scrapy.core.engine] DEBUG: Crawled (200) <GET http://guba.eastmoney.com/list,zssh000001_908.html> (referer: None)\n",
      "2019-12-05 23:03:18 [scrapy.core.engine] DEBUG: Crawled (200) <GET http://guba.eastmoney.com/list,zssh000001_910.html> (referer: None)\n"
     ]
    },
    {
     "name": "stdout",
     "output_type": "stream",
     "text": [
      "over: http://guba.eastmoney.com/list,zssh000001_900.html\n",
      "over: http://guba.eastmoney.com/list,zssh000001_901.html\n",
      "over: http://guba.eastmoney.com/list,zssh000001_905.html\n"
     ]
    },
    {
     "name": "stderr",
     "output_type": "stream",
     "text": [
      "2019-12-05 23:03:18 [scrapy.core.engine] DEBUG: Crawled (200) <GET http://guba.eastmoney.com/list,zssh000001_914.html> (referer: None)\n",
      "2019-12-05 23:03:18 [scrapy.core.engine] DEBUG: Crawled (200) <GET http://guba.eastmoney.com/list,zssh000001_911.html> (referer: None)\n",
      "2019-12-05 23:03:18 [scrapy.downloadermiddlewares.redirect] DEBUG: Redirecting (meta refresh) to <GET http://www.eastmoney.com/> from <GET http://guba.eastmoney.com/list,zssh000001_922.html>\n",
      "2019-12-05 23:03:18 [scrapy.core.engine] DEBUG: Crawled (200) <GET http://guba.eastmoney.com/list,zssh000001_919.html> (referer: None)\n",
      "2019-12-05 23:03:18 [scrapy.core.engine] DEBUG: Crawled (200) <GET http://guba.eastmoney.com/list,zssh000001_918.html> (referer: None)\n",
      "2019-12-05 23:03:18 [scrapy.core.engine] DEBUG: Crawled (200) <GET http://guba.eastmoney.com/list,zssh000001_917.html> (referer: None)\n",
      "2019-12-05 23:03:18 [scrapy.core.engine] DEBUG: Crawled (200) <GET http://guba.eastmoney.com/list,zssh000001_923.html> (referer: None)\n",
      "2019-12-05 23:03:18 [scrapy.downloadermiddlewares.redirect] DEBUG: Redirecting (meta refresh) to <GET http://www.eastmoney.com/> from <GET http://guba.eastmoney.com/list,zssh000001_925.html>\n",
      "2019-12-05 23:03:18 [scrapy.core.engine] DEBUG: Crawled (200) <GET http://guba.eastmoney.com/list,zssh000001_921.html> (referer: None)\n"
     ]
    },
    {
     "name": "stdout",
     "output_type": "stream",
     "text": [
      "over: http://guba.eastmoney.com/list,zssh000001_909.html\n",
      "over: http://guba.eastmoney.com/list,zssh000001_915.html\n",
      "over: http://guba.eastmoney.com/list,zssh000001_908.html\n",
      "over: http://guba.eastmoney.com/list,zssh000001_910.html\n",
      "over: http://guba.eastmoney.com/list,zssh000001_914.html\n",
      "over: http://guba.eastmoney.com/list,zssh000001_911.html\n",
      "over: http://guba.eastmoney.com/list,zssh000001_919.html\n",
      "over: http://guba.eastmoney.com/list,zssh000001_918.html\n",
      "over: http://guba.eastmoney.com/list,zssh000001_917.html\n",
      "over: http://guba.eastmoney.com/list,zssh000001_923.html\n"
     ]
    },
    {
     "name": "stderr",
     "output_type": "stream",
     "text": [
      "2019-12-05 23:03:19 [scrapy.core.engine] DEBUG: Crawled (200) <GET http://guba.eastmoney.com/list,zssh000001_926.html> (referer: None)\n",
      "2019-12-05 23:03:19 [scrapy.core.engine] DEBUG: Crawled (200) <GET http://guba.eastmoney.com/list,zssh000001_924.html> (referer: None)\n",
      "2019-12-05 23:03:19 [scrapy.core.engine] DEBUG: Crawled (200) <GET http://guba.eastmoney.com/list,zssh000001_927.html> (referer: None)\n",
      "2019-12-05 23:03:19 [scrapy.core.engine] DEBUG: Crawled (200) <GET http://guba.eastmoney.com/list,zssh000001_928.html> (referer: None)\n",
      "2019-12-05 23:03:19 [scrapy.core.engine] DEBUG: Crawled (200) <GET http://guba.eastmoney.com/list,zssh000001_932.html> (referer: None)\n",
      "2019-12-05 23:03:19 [scrapy.core.engine] DEBUG: Crawled (200) <GET http://guba.eastmoney.com/list,zssh000001_929.html> (referer: None)\n",
      "2019-12-05 23:03:19 [scrapy.core.engine] DEBUG: Crawled (200) <GET http://guba.eastmoney.com/list,zssh000001_930.html> (referer: None)\n",
      "2019-12-05 23:03:19 [scrapy.core.engine] DEBUG: Crawled (200) <GET http://guba.eastmoney.com/list,zssh000001_931.html> (referer: None)\n",
      "2019-12-05 23:03:19 [scrapy.downloadermiddlewares.redirect] DEBUG: Redirecting (meta refresh) to <GET http://www.eastmoney.com/> from <GET http://guba.eastmoney.com/list,zssh000001_937.html>\n",
      "2019-12-05 23:03:19 [scrapy.downloadermiddlewares.redirect] DEBUG: Redirecting (meta refresh) to <GET http://www.eastmoney.com/> from <GET http://guba.eastmoney.com/list,zssh000001_940.html>\n"
     ]
    },
    {
     "name": "stdout",
     "output_type": "stream",
     "text": [
      "over: http://guba.eastmoney.com/list,zssh000001_921.html\n",
      "over: http://guba.eastmoney.com/list,zssh000001_926.html\n",
      "over: http://guba.eastmoney.com/list,zssh000001_924.html\n"
     ]
    },
    {
     "name": "stderr",
     "output_type": "stream",
     "text": [
      "2019-12-05 23:03:19 [scrapy.core.engine] DEBUG: Crawled (200) <GET http://guba.eastmoney.com/list,zssh000001_934.html> (referer: None)\n",
      "2019-12-05 23:03:19 [scrapy.core.engine] DEBUG: Crawled (200) <GET http://guba.eastmoney.com/list,zssh000001_935.html> (referer: None)\n",
      "2019-12-05 23:03:19 [scrapy.core.engine] DEBUG: Crawled (200) <GET http://guba.eastmoney.com/list,zssh000001_939.html> (referer: None)\n",
      "2019-12-05 23:03:19 [scrapy.core.engine] DEBUG: Crawled (200) <GET http://guba.eastmoney.com/list,zssh000001_936.html> (referer: None)\n",
      "2019-12-05 23:03:19 [scrapy.downloadermiddlewares.redirect] DEBUG: Redirecting (meta refresh) to <GET http://www.eastmoney.com/> from <GET http://guba.eastmoney.com/list,zssh000001_941.html>\n"
     ]
    },
    {
     "name": "stdout",
     "output_type": "stream",
     "text": [
      "over: http://guba.eastmoney.com/list,zssh000001_927.html\n",
      "over: http://guba.eastmoney.com/list,zssh000001_928.html\n",
      "over: http://guba.eastmoney.com/list,zssh000001_932.html\n",
      "over: http://guba.eastmoney.com/list,zssh000001_929.html\n",
      "over: http://guba.eastmoney.com/list,zssh000001_930.html\n",
      "over: http://guba.eastmoney.com/list,zssh000001_931.html\n"
     ]
    },
    {
     "name": "stderr",
     "output_type": "stream",
     "text": [
      "2019-12-05 23:03:19 [scrapy.core.engine] DEBUG: Crawled (200) <GET http://guba.eastmoney.com/list,zssh000001_933.html> (referer: None)\n",
      "2019-12-05 23:03:19 [scrapy.core.engine] DEBUG: Crawled (200) <GET http://guba.eastmoney.com/list,zssh000001_942.html> (referer: None)\n",
      "2019-12-05 23:03:19 [scrapy.core.engine] DEBUG: Crawled (200) <GET http://guba.eastmoney.com/list,zssh000001_938.html> (referer: None)\n",
      "2019-12-05 23:03:19 [scrapy.core.scraper] ERROR: Spider error processing <GET http://guba.eastmoney.com/list,zssh000001_933.html> (referer: None)\n",
      "Traceback (most recent call last):\n",
      "  File \"C:\\Users\\xuhon\\Anaconda3\\lib\\site-packages\\twisted\\internet\\defer.py\", line 654, in _runCallbacks\n",
      "    current.result = callback(current.result, *args, **kw)\n",
      "  File \"<ipython-input-1-c79c8daf22a6>\", line 41, in parse\n",
      "    self.csvWriter.writerow(item)\n",
      "  File \"C:\\Users\\xuhon\\Anaconda3\\lib\\csv.py\", line 155, in writerow\n",
      "    return self.writer.writerow(self._dict_to_list(rowdict))\n",
      "UnicodeEncodeError: 'gbk' codec can't encode character '\\u2200' in position 3: illegal multibyte sequence\n"
     ]
    },
    {
     "name": "stdout",
     "output_type": "stream",
     "text": [
      "over: http://guba.eastmoney.com/list,zssh000001_934.html\n",
      "over: http://guba.eastmoney.com/list,zssh000001_935.html\n",
      "over: http://guba.eastmoney.com/list,zssh000001_939.html\n",
      "over: http://guba.eastmoney.com/list,zssh000001_936.html\n",
      "over: http://guba.eastmoney.com/list,zssh000001_942.html\n",
      "over: http://guba.eastmoney.com/list,zssh000001_938.html\n"
     ]
    },
    {
     "name": "stderr",
     "output_type": "stream",
     "text": [
      "2019-12-05 23:03:20 [scrapy.core.engine] DEBUG: Crawled (200) <GET http://guba.eastmoney.com/list,zssh000001_943.html> (referer: None)\n",
      "2019-12-05 23:03:20 [scrapy.core.engine] DEBUG: Crawled (200) <GET http://guba.eastmoney.com/list,zssh000001_944.html> (referer: None)\n",
      "2019-12-05 23:03:20 [scrapy.core.engine] DEBUG: Crawled (200) <GET http://guba.eastmoney.com/list,zssh000001_945.html> (referer: None)\n",
      "2019-12-05 23:03:20 [scrapy.core.engine] DEBUG: Crawled (200) <GET http://guba.eastmoney.com/list,zssh000001_949.html> (referer: None)\n",
      "2019-12-05 23:03:20 [scrapy.core.engine] DEBUG: Crawled (200) <GET http://guba.eastmoney.com/list,zssh000001_947.html> (referer: None)\n",
      "2019-12-05 23:03:20 [scrapy.core.engine] DEBUG: Crawled (200) <GET http://guba.eastmoney.com/list,zssh000001_950.html> (referer: None)\n",
      "2019-12-05 23:03:20 [scrapy.core.engine] DEBUG: Crawled (200) <GET http://guba.eastmoney.com/list,zssh000001_948.html> (referer: None)\n",
      "2019-12-05 23:03:20 [scrapy.core.engine] DEBUG: Crawled (200) <GET http://guba.eastmoney.com/list,zssh000001_946.html> (referer: None)\n",
      "2019-12-05 23:03:20 [scrapy.downloadermiddlewares.redirect] DEBUG: Redirecting (meta refresh) to <GET http://www.eastmoney.com/> from <GET http://guba.eastmoney.com/list,zssh000001_951.html>\n",
      "2019-12-05 23:03:20 [scrapy.downloadermiddlewares.redirect] DEBUG: Redirecting (meta refresh) to <GET http://www.eastmoney.com/> from <GET http://guba.eastmoney.com/list,zssh000001_953.html>\n",
      "2019-12-05 23:03:20 [scrapy.downloadermiddlewares.redirect] DEBUG: Redirecting (meta refresh) to <GET http://www.eastmoney.com/> from <GET http://guba.eastmoney.com/list,zssh000001_955.html>\n",
      "2019-12-05 23:03:20 [scrapy.downloadermiddlewares.redirect] DEBUG: Redirecting (meta refresh) to <GET http://www.eastmoney.com/> from <GET http://guba.eastmoney.com/list,zssh000001_957.html>\n",
      "2019-12-05 23:03:20 [scrapy.core.engine] DEBUG: Crawled (200) <GET http://guba.eastmoney.com/list,zssh000001_959.html> (referer: None)\n",
      "2019-12-05 23:03:20 [scrapy.core.engine] DEBUG: Crawled (200) <GET http://guba.eastmoney.com/list,zssh000001_952.html> (referer: None)\n",
      "2019-12-05 23:03:20 [scrapy.downloadermiddlewares.redirect] DEBUG: Redirecting (meta refresh) to <GET http://www.eastmoney.com/> from <GET http://guba.eastmoney.com/list,zssh000001_960.html>\n",
      "2019-12-05 23:03:20 [scrapy.core.engine] DEBUG: Crawled (200) <GET http://guba.eastmoney.com/list,zssh000001_954.html> (referer: None)\n",
      "2019-12-05 23:03:20 [scrapy.downloadermiddlewares.redirect] DEBUG: Redirecting (meta refresh) to <GET http://www.eastmoney.com/> from <GET http://guba.eastmoney.com/list,zssh000001_958.html>\n"
     ]
    },
    {
     "name": "stdout",
     "output_type": "stream",
     "text": [
      "over: http://guba.eastmoney.com/list,zssh000001_945.html\n",
      "over: http://guba.eastmoney.com/list,zssh000001_943.html\n",
      "over: http://guba.eastmoney.com/list,zssh000001_944.html\n",
      "over: http://guba.eastmoney.com/list,zssh000001_949.html\n",
      "over: http://guba.eastmoney.com/list,zssh000001_947.html\n"
     ]
    },
    {
     "name": "stderr",
     "output_type": "stream",
     "text": [
      "2019-12-05 23:03:20 [scrapy.core.engine] DEBUG: Crawled (200) <GET http://guba.eastmoney.com/list,zssh000001_961.html> (referer: None)\n",
      "2019-12-05 23:03:20 [scrapy.core.engine] DEBUG: Crawled (200) <GET http://guba.eastmoney.com/list,zssh000001_956.html> (referer: None)\n",
      "2019-12-05 23:03:20 [scrapy.extensions.logstats] INFO: Crawled 789 pages (at 789 pages/min), scraped 0 items (at 0 items/min)\n"
     ]
    },
    {
     "name": "stdout",
     "output_type": "stream",
     "text": [
      "over: http://guba.eastmoney.com/list,zssh000001_950.html\n",
      "over: http://guba.eastmoney.com/list,zssh000001_948.html\n",
      "over: http://guba.eastmoney.com/list,zssh000001_946.html\n",
      "over: http://guba.eastmoney.com/list,zssh000001_959.html\n",
      "over: http://guba.eastmoney.com/list,zssh000001_952.html\n",
      "over: http://guba.eastmoney.com/list,zssh000001_954.html\n"
     ]
    },
    {
     "name": "stderr",
     "output_type": "stream",
     "text": [
      "2019-12-05 23:03:20 [scrapy.downloadermiddlewares.redirect] DEBUG: Redirecting (meta refresh) to <GET http://www.eastmoney.com/> from <GET http://guba.eastmoney.com/list,zssh000001_964.html>\n",
      "2019-12-05 23:03:20 [scrapy.downloadermiddlewares.redirect] DEBUG: Redirecting (meta refresh) to <GET http://www.eastmoney.com/> from <GET http://guba.eastmoney.com/list,zssh000001_967.html>\n",
      "2019-12-05 23:03:20 [scrapy.downloadermiddlewares.redirect] DEBUG: Redirecting (meta refresh) to <GET http://www.eastmoney.com/> from <GET http://guba.eastmoney.com/list,zssh000001_968.html>\n",
      "2019-12-05 23:03:20 [scrapy.downloadermiddlewares.redirect] DEBUG: Redirecting (meta refresh) to <GET http://www.eastmoney.com/> from <GET http://guba.eastmoney.com/list,zssh000001_969.html>\n",
      "2019-12-05 23:03:20 [scrapy.core.engine] DEBUG: Crawled (200) <GET http://guba.eastmoney.com/list,zssh000001_963.html> (referer: None)\n",
      "2019-12-05 23:03:20 [scrapy.core.engine] DEBUG: Crawled (200) <GET http://guba.eastmoney.com/list,zssh000001_966.html> (referer: None)\n",
      "2019-12-05 23:03:20 [scrapy.downloadermiddlewares.redirect] DEBUG: Redirecting (meta refresh) to <GET http://www.eastmoney.com/> from <GET http://guba.eastmoney.com/list,zssh000001_970.html>\n"
     ]
    },
    {
     "name": "stdout",
     "output_type": "stream",
     "text": [
      "over: http://guba.eastmoney.com/list,zssh000001_961.html\n",
      "over: http://guba.eastmoney.com/list,zssh000001_956.html\n",
      "over: http://guba.eastmoney.com/list,zssh000001_963.html\n"
     ]
    },
    {
     "name": "stderr",
     "output_type": "stream",
     "text": [
      "2019-12-05 23:03:21 [scrapy.core.engine] DEBUG: Crawled (200) <GET http://guba.eastmoney.com/list,zssh000001_975.html> (referer: None)\n",
      "2019-12-05 23:03:21 [scrapy.core.engine] DEBUG: Crawled (200) <GET http://guba.eastmoney.com/list,zssh000001_973.html> (referer: None)\n"
     ]
    },
    {
     "name": "stdout",
     "output_type": "stream",
     "text": [
      "over: http://guba.eastmoney.com/list,zssh000001_966.html\n",
      "over: http://guba.eastmoney.com/list,zssh000001_975.html\n",
      "over: http://guba.eastmoney.com/list,zssh000001_973.html\n"
     ]
    },
    {
     "name": "stderr",
     "output_type": "stream",
     "text": [
      "2019-12-05 23:03:21 [scrapy.core.engine] DEBUG: Crawled (200) <GET http://guba.eastmoney.com/list,zssh000001_977.html> (referer: None)\n",
      "2019-12-05 23:03:21 [scrapy.core.engine] DEBUG: Crawled (200) <GET http://guba.eastmoney.com/list,zssh000001_976.html> (referer: None)\n",
      "2019-12-05 23:03:21 [scrapy.core.engine] DEBUG: Crawled (200) <GET http://guba.eastmoney.com/list,zssh000001_971.html> (referer: None)\n",
      "2019-12-05 23:03:21 [scrapy.downloadermiddlewares.redirect] DEBUG: Redirecting (meta refresh) to <GET http://www.eastmoney.com/> from <GET http://guba.eastmoney.com/list,zssh000001_979.html>\n",
      "2019-12-05 23:03:21 [scrapy.core.engine] DEBUG: Crawled (200) <GET http://guba.eastmoney.com/list,zssh000001_965.html> (referer: None)\n",
      "2019-12-05 23:03:21 [scrapy.core.engine] DEBUG: Crawled (200) <GET http://guba.eastmoney.com/list,zssh000001_978.html> (referer: None)\n",
      "2019-12-05 23:03:21 [scrapy.core.engine] DEBUG: Crawled (200) <GET http://guba.eastmoney.com/list,zssh000001_962.html> (referer: None)\n",
      "2019-12-05 23:03:21 [scrapy.core.scraper] ERROR: Spider error processing <GET http://guba.eastmoney.com/list,zssh000001_977.html> (referer: None)\n",
      "Traceback (most recent call last):\n",
      "  File \"C:\\Users\\xuhon\\Anaconda3\\lib\\site-packages\\twisted\\internet\\defer.py\", line 654, in _runCallbacks\n",
      "    current.result = callback(current.result, *args, **kw)\n",
      "  File \"<ipython-input-1-c79c8daf22a6>\", line 41, in parse\n",
      "    self.csvWriter.writerow(item)\n",
      "  File \"C:\\Users\\xuhon\\Anaconda3\\lib\\csv.py\", line 155, in writerow\n",
      "    return self.writer.writerow(self._dict_to_list(rowdict))\n",
      "UnicodeEncodeError: 'gbk' codec can't encode character '\\u2022' in position 7: illegal multibyte sequence\n",
      "2019-12-05 23:03:22 [scrapy.core.engine] DEBUG: Crawled (200) <GET http://guba.eastmoney.com/list,zssh000001_974.html> (referer: None)\n",
      "2019-12-05 23:03:22 [scrapy.core.engine] DEBUG: Crawled (200) <GET http://guba.eastmoney.com/list,zssh000001_982.html> (referer: None)\n",
      "2019-12-05 23:03:22 [scrapy.core.engine] DEBUG: Crawled (200) <GET http://guba.eastmoney.com/list,zssh000001_972.html> (referer: None)\n",
      "2019-12-05 23:03:22 [scrapy.core.engine] DEBUG: Crawled (200) <GET http://guba.eastmoney.com/list,zssh000001_985.html> (referer: None)\n",
      "2019-12-05 23:03:22 [scrapy.core.engine] DEBUG: Crawled (200) <GET http://guba.eastmoney.com/list,zssh000001_981.html> (referer: None)\n",
      "2019-12-05 23:03:22 [scrapy.downloadermiddlewares.redirect] DEBUG: Redirecting (meta refresh) to <GET http://www.eastmoney.com/> from <GET http://guba.eastmoney.com/list,zssh000001_980.html>\n"
     ]
    },
    {
     "name": "stdout",
     "output_type": "stream",
     "text": [
      "over: http://guba.eastmoney.com/list,zssh000001_976.html\n",
      "over: http://guba.eastmoney.com/list,zssh000001_971.html\n",
      "over: http://guba.eastmoney.com/list,zssh000001_965.html\n",
      "over: http://guba.eastmoney.com/list,zssh000001_978.html\n",
      "over: http://guba.eastmoney.com/list,zssh000001_962.html\n"
     ]
    },
    {
     "name": "stderr",
     "output_type": "stream",
     "text": [
      "2019-12-05 23:03:22 [scrapy.core.engine] DEBUG: Crawled (200) <GET http://guba.eastmoney.com/list,zssh000001_983.html> (referer: None)\n",
      "2019-12-05 23:03:22 [scrapy.core.engine] DEBUG: Crawled (200) <GET http://guba.eastmoney.com/list,zssh000001_984.html> (referer: None)\n",
      "2019-12-05 23:03:22 [scrapy.downloadermiddlewares.redirect] DEBUG: Redirecting (meta refresh) to <GET http://www.eastmoney.com/> from <GET http://guba.eastmoney.com/list,zssh000001_988.html>\n",
      "2019-12-05 23:03:22 [scrapy.downloadermiddlewares.redirect] DEBUG: Redirecting (meta refresh) to <GET http://www.eastmoney.com/> from <GET http://guba.eastmoney.com/list,zssh000001_986.html>\n",
      "2019-12-05 23:03:22 [scrapy.downloadermiddlewares.redirect] DEBUG: Redirecting (meta refresh) to <GET http://www.eastmoney.com/> from <GET http://guba.eastmoney.com/list,zssh000001_989.html>\n",
      "2019-12-05 23:03:22 [scrapy.downloadermiddlewares.redirect] DEBUG: Redirecting (meta refresh) to <GET http://www.eastmoney.com/> from <GET http://guba.eastmoney.com/list,zssh000001_990.html>\n",
      "2019-12-05 23:03:22 [scrapy.downloadermiddlewares.redirect] DEBUG: Redirecting (meta refresh) to <GET http://www.eastmoney.com/> from <GET http://guba.eastmoney.com/list,zssh000001_994.html>\n"
     ]
    },
    {
     "name": "stdout",
     "output_type": "stream",
     "text": [
      "over: http://guba.eastmoney.com/list,zssh000001_974.html\n",
      "over: http://guba.eastmoney.com/list,zssh000001_982.html\n",
      "over: http://guba.eastmoney.com/list,zssh000001_972.html\n",
      "over: http://guba.eastmoney.com/list,zssh000001_985.html\n",
      "over: http://guba.eastmoney.com/list,zssh000001_981.html\n"
     ]
    },
    {
     "name": "stderr",
     "output_type": "stream",
     "text": [
      "2019-12-05 23:03:22 [scrapy.core.engine] DEBUG: Crawled (200) <GET http://guba.eastmoney.com/list,zssh000001_995.html> (referer: None)\n",
      "2019-12-05 23:03:22 [scrapy.core.engine] DEBUG: Crawled (200) <GET http://guba.eastmoney.com/list,zssh000001_991.html> (referer: None)\n",
      "2019-12-05 23:03:22 [scrapy.core.engine] DEBUG: Crawled (200) <GET http://guba.eastmoney.com/list,zssh000001_992.html> (referer: None)\n",
      "2019-12-05 23:03:22 [scrapy.core.engine] DEBUG: Crawled (200) <GET http://guba.eastmoney.com/list,zssh000001_987.html> (referer: None)\n",
      "2019-12-05 23:03:22 [scrapy.core.engine] DEBUG: Crawled (200) <GET http://guba.eastmoney.com/list,zssh000001_997.html> (referer: None)\n",
      "2019-12-05 23:03:22 [scrapy.core.engine] DEBUG: Crawled (200) <GET http://guba.eastmoney.com/list,zssh000001_998.html> (referer: None)\n",
      "2019-12-05 23:03:22 [scrapy.core.engine] DEBUG: Crawled (200) <GET http://guba.eastmoney.com/list,zssh000001_993.html> (referer: None)\n",
      "2019-12-05 23:03:22 [scrapy.core.engine] DEBUG: Crawled (200) <GET http://guba.eastmoney.com/list,zssh000001_996.html> (referer: None)\n"
     ]
    },
    {
     "name": "stdout",
     "output_type": "stream",
     "text": [
      "over: http://guba.eastmoney.com/list,zssh000001_983.html\n",
      "over: http://guba.eastmoney.com/list,zssh000001_984.html\n",
      "over: http://guba.eastmoney.com/list,zssh000001_995.html\n"
     ]
    },
    {
     "name": "stderr",
     "output_type": "stream",
     "text": [
      "2019-12-05 23:03:22 [scrapy.core.scraper] ERROR: Spider error processing <GET http://guba.eastmoney.com/list,zssh000001_991.html> (referer: None)\n",
      "Traceback (most recent call last):\n",
      "  File \"C:\\Users\\xuhon\\Anaconda3\\lib\\site-packages\\twisted\\internet\\defer.py\", line 654, in _runCallbacks\n",
      "    current.result = callback(current.result, *args, **kw)\n",
      "  File \"<ipython-input-1-c79c8daf22a6>\", line 41, in parse\n",
      "    self.csvWriter.writerow(item)\n",
      "  File \"C:\\Users\\xuhon\\Anaconda3\\lib\\csv.py\", line 155, in writerow\n",
      "    return self.writer.writerow(self._dict_to_list(rowdict))\n",
      "UnicodeEncodeError: 'gbk' codec can't encode character '\\u2022' in position 7: illegal multibyte sequence\n",
      "2019-12-05 23:03:22 [scrapy.core.scraper] ERROR: Spider error processing <GET http://guba.eastmoney.com/list,zssh000001_992.html> (referer: None)\n",
      "Traceback (most recent call last):\n",
      "  File \"C:\\Users\\xuhon\\Anaconda3\\lib\\site-packages\\twisted\\internet\\defer.py\", line 654, in _runCallbacks\n",
      "    current.result = callback(current.result, *args, **kw)\n",
      "  File \"<ipython-input-1-c79c8daf22a6>\", line 41, in parse\n",
      "    self.csvWriter.writerow(item)\n",
      "  File \"C:\\Users\\xuhon\\Anaconda3\\lib\\csv.py\", line 155, in writerow\n",
      "    return self.writer.writerow(self._dict_to_list(rowdict))\n",
      "UnicodeEncodeError: 'gbk' codec can't encode character '\\u2022' in position 7: illegal multibyte sequence\n",
      "2019-12-05 23:03:22 [scrapy.core.engine] DEBUG: Crawled (200) <GET http://guba.eastmoney.com/list,zssh000001_999.html> (referer: None)\n"
     ]
    },
    {
     "name": "stdout",
     "output_type": "stream",
     "text": [
      "over: http://guba.eastmoney.com/list,zssh000001_987.html\n",
      "over: http://guba.eastmoney.com/list,zssh000001_997.html\n",
      "over: http://guba.eastmoney.com/list,zssh000001_998.html\n",
      "over: http://guba.eastmoney.com/list,zssh000001_993.html\n",
      "over: http://guba.eastmoney.com/list,zssh000001_996.html\n"
     ]
    },
    {
     "name": "stderr",
     "output_type": "stream",
     "text": [
      "2019-12-05 23:03:22 [scrapy.core.engine] INFO: Closing spider (finished)\n",
      "2019-12-05 23:03:22 [scrapy.statscollectors] INFO: Dumping Scrapy stats:\n",
      "{'downloader/request_bytes': 256867,\n",
      " 'downloader/request_count': 1000,\n",
      " 'downloader/request_method_count/GET': 1000,\n",
      " 'downloader/response_bytes': 19104592,\n",
      " 'downloader/response_count': 1000,\n",
      " 'downloader/response_status_count/200': 1000,\n",
      " 'dupefilter/filtered': 184,\n",
      " 'finish_reason': 'finished',\n",
      " 'finish_time': datetime.datetime(2019, 12, 5, 15, 3, 22, 993101),\n",
      " 'log_count/DEBUG': 1001,\n",
      " 'log_count/ERROR': 39,\n",
      " 'log_count/INFO': 10,\n",
      " 'response_received_count': 815,\n",
      " 'scheduler/dequeued': 1000,\n",
      " 'scheduler/dequeued/memory': 1000,\n",
      " 'scheduler/enqueued': 1000,\n",
      " 'scheduler/enqueued/memory': 1000,\n",
      " 'spider_exceptions/UnicodeEncodeError': 39,\n",
      " 'start_time': datetime.datetime(2019, 12, 5, 15, 2, 20, 466357)}\n",
      "2019-12-05 23:03:22 [scrapy.core.engine] INFO: Spider closed (finished)\n"
     ]
    },
    {
     "name": "stdout",
     "output_type": "stream",
     "text": [
      "over: http://guba.eastmoney.com/list,zssh000001_999.html\n"
     ]
    }
   ],
   "source": [
    "import scrapy\n",
    "import time\n",
    "import csv\n",
    "import os\n",
    "\n",
    "class MySpider(scrapy.Spider):\n",
    "\n",
    "    name = \"spider\"\n",
    "\n",
    "    def __init__(self):\n",
    "        self.file = open('test.csv', 'w',\n",
    "                         encoding='GBK', newline='')\n",
    "        self.csvWriter = csv.DictWriter(\n",
    "            self.file, fieldnames=['code', 'number'])\n",
    "\n",
    "        # 设置待爬取网站列表\n",
    "        self.urls = []\n",
    "        for i in range(1,1000):\n",
    "            self.urls.append('http://guba.eastmoney.com/list,zssh000001_' + str(i) + '.html')\n",
    "        # 不再print('self.urls')\n",
    "\n",
    "    def start_requests(self):\n",
    "        # self.init_urls()\n",
    "        for url in self.urls:\n",
    "            yield scrapy.Request(url=url, callback=self.parse)\n",
    "\n",
    "    # parse方法会在每个request收到response之后调用\n",
    "    def parse(self, response):\n",
    "        \n",
    "        #提取网站信息\n",
    "        companies = response.css(\"div.articleh\");\n",
    "        \n",
    "        for company in companies:\n",
    "            #提取每只股票的代码\n",
    "            code = company.css(\"a::attr(title)\").extract();\n",
    "            #提取每只股票的新闻数量\n",
    "            number = company.css(\"a::text\").extract();\n",
    "            #提取具体的数值\n",
    "            item = {\"code\": code,\"number\": number};\n",
    "            #以csv格式写入文件\n",
    "            self.csvWriter.writerow(item)\n",
    "       \n",
    "        #及时将内容写入文件，否则可能会出现少许延迟\n",
    "        self.file.flush()\n",
    "        os.fsync(self.file)\n",
    "        #输出当前解析完成的网页网址，可以当做爬取进度来看待,与程序逻辑无关\n",
    "        print(\"over: \" + response.url)\n",
    "\n",
    "        \n",
    "        \n",
    "from scrapy.crawler import CrawlerProcess\n",
    "\n",
    "process = CrawlerProcess({\n",
    "    'USER_AGENT': 'Mozilla/4.0 (compatible; MSIE 7.0; Windows NT 5.1)'\n",
    "})\n",
    "\n",
    "process.crawl(MySpider)\n",
    "process.start() # 这句代码就是开始了整个爬虫过程 "
   ]
  },
  {
   "cell_type": "code",
   "execution_count": null,
   "metadata": {},
   "outputs": [],
   "source": []
  }
 ],
 "metadata": {
  "kernelspec": {
   "display_name": "Python 3",
   "language": "python",
   "name": "python3"
  },
  "language_info": {
   "codemirror_mode": {
    "name": "ipython",
    "version": 3
   },
   "file_extension": ".py",
   "mimetype": "text/x-python",
   "name": "python",
   "nbconvert_exporter": "python",
   "pygments_lexer": "ipython3",
   "version": "3.7.3"
  }
 },
 "nbformat": 4,
 "nbformat_minor": 2
}
