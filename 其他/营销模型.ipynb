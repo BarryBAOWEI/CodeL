{
 "cells": [
  {
   "cell_type": "code",
   "execution_count": 25,
   "metadata": {},
   "outputs": [],
   "source": [
    "import pandas as pd\n",
    "import datetime"
   ]
  },
  {
   "cell_type": "code",
   "execution_count": 18,
   "metadata": {},
   "outputs": [],
   "source": [
    "UserInf = pd.read_csv('user_id2.csv',index_col=0)"
   ]
  },
  {
   "cell_type": "code",
   "execution_count": 19,
   "metadata": {
    "scrolled": true
   },
   "outputs": [
    {
     "data": {
      "text/html": [
       "<div>\n",
       "<style scoped>\n",
       "    .dataframe tbody tr th:only-of-type {\n",
       "        vertical-align: middle;\n",
       "    }\n",
       "\n",
       "    .dataframe tbody tr th {\n",
       "        vertical-align: top;\n",
       "    }\n",
       "\n",
       "    .dataframe thead th {\n",
       "        text-align: right;\n",
       "    }\n",
       "</style>\n",
       "<table border=\"1\" class=\"dataframe\">\n",
       "  <thead>\n",
       "    <tr style=\"text-align: right;\">\n",
       "      <th></th>\n",
       "      <th>user_id</th>\n",
       "      <th>item_id</th>\n",
       "      <th>cat_id</th>\n",
       "      <th>seller_id</th>\n",
       "      <th>brand_id</th>\n",
       "      <th>time_stamp</th>\n",
       "      <th>action_type</th>\n",
       "      <th>time_stamp3</th>\n",
       "    </tr>\n",
       "  </thead>\n",
       "  <tbody>\n",
       "    <tr>\n",
       "      <td>26051080</td>\n",
       "      <td>2</td>\n",
       "      <td>239288</td>\n",
       "      <td>602</td>\n",
       "      <td>420</td>\n",
       "      <td>4953.0</td>\n",
       "      <td>626</td>\n",
       "      <td>0</td>\n",
       "      <td>3</td>\n",
       "    </tr>\n",
       "    <tr>\n",
       "      <td>26051081</td>\n",
       "      <td>2</td>\n",
       "      <td>751744</td>\n",
       "      <td>602</td>\n",
       "      <td>420</td>\n",
       "      <td>4953.0</td>\n",
       "      <td>626</td>\n",
       "      <td>0</td>\n",
       "      <td>3</td>\n",
       "    </tr>\n",
       "    <tr>\n",
       "      <td>26051082</td>\n",
       "      <td>2</td>\n",
       "      <td>431502</td>\n",
       "      <td>737</td>\n",
       "      <td>1974</td>\n",
       "      <td>8321.0</td>\n",
       "      <td>817</td>\n",
       "      <td>0</td>\n",
       "      <td>3</td>\n",
       "    </tr>\n",
       "    <tr>\n",
       "      <td>26051083</td>\n",
       "      <td>2</td>\n",
       "      <td>864941</td>\n",
       "      <td>737</td>\n",
       "      <td>1974</td>\n",
       "      <td>8321.0</td>\n",
       "      <td>817</td>\n",
       "      <td>0</td>\n",
       "      <td>3</td>\n",
       "    </tr>\n",
       "    <tr>\n",
       "      <td>26051084</td>\n",
       "      <td>2</td>\n",
       "      <td>85520</td>\n",
       "      <td>737</td>\n",
       "      <td>1974</td>\n",
       "      <td>8321.0</td>\n",
       "      <td>817</td>\n",
       "      <td>0</td>\n",
       "      <td>3</td>\n",
       "    </tr>\n",
       "    <tr>\n",
       "      <td>...</td>\n",
       "      <td>...</td>\n",
       "      <td>...</td>\n",
       "      <td>...</td>\n",
       "      <td>...</td>\n",
       "      <td>...</td>\n",
       "      <td>...</td>\n",
       "      <td>...</td>\n",
       "      <td>...</td>\n",
       "    </tr>\n",
       "    <tr>\n",
       "      <td>26051138</td>\n",
       "      <td>2</td>\n",
       "      <td>77292</td>\n",
       "      <td>1142</td>\n",
       "      <td>4924</td>\n",
       "      <td>856.0</td>\n",
       "      <td>1111</td>\n",
       "      <td>2</td>\n",
       "      <td>4</td>\n",
       "    </tr>\n",
       "    <tr>\n",
       "      <td>26051139</td>\n",
       "      <td>2</td>\n",
       "      <td>274076</td>\n",
       "      <td>420</td>\n",
       "      <td>1784</td>\n",
       "      <td>7936.0</td>\n",
       "      <td>1111</td>\n",
       "      <td>2</td>\n",
       "      <td>4</td>\n",
       "    </tr>\n",
       "    <tr>\n",
       "      <td>26051140</td>\n",
       "      <td>2</td>\n",
       "      <td>192767</td>\n",
       "      <td>276</td>\n",
       "      <td>2194</td>\n",
       "      <td>5103.0</td>\n",
       "      <td>1020</td>\n",
       "      <td>0</td>\n",
       "      <td>4</td>\n",
       "    </tr>\n",
       "    <tr>\n",
       "      <td>26051141</td>\n",
       "      <td>2</td>\n",
       "      <td>215563</td>\n",
       "      <td>276</td>\n",
       "      <td>1816</td>\n",
       "      <td>2044.0</td>\n",
       "      <td>1020</td>\n",
       "      <td>0</td>\n",
       "      <td>4</td>\n",
       "    </tr>\n",
       "    <tr>\n",
       "      <td>26051142</td>\n",
       "      <td>2</td>\n",
       "      <td>293453</td>\n",
       "      <td>602</td>\n",
       "      <td>420</td>\n",
       "      <td>4953.0</td>\n",
       "      <td>626</td>\n",
       "      <td>0</td>\n",
       "      <td>3</td>\n",
       "    </tr>\n",
       "  </tbody>\n",
       "</table>\n",
       "<p>63 rows × 8 columns</p>\n",
       "</div>"
      ],
      "text/plain": [
       "          user_id  item_id  cat_id  seller_id  brand_id  time_stamp  \\\n",
       "26051080        2   239288     602        420    4953.0         626   \n",
       "26051081        2   751744     602        420    4953.0         626   \n",
       "26051082        2   431502     737       1974    8321.0         817   \n",
       "26051083        2   864941     737       1974    8321.0         817   \n",
       "26051084        2    85520     737       1974    8321.0         817   \n",
       "...           ...      ...     ...        ...       ...         ...   \n",
       "26051138        2    77292    1142       4924     856.0        1111   \n",
       "26051139        2   274076     420       1784    7936.0        1111   \n",
       "26051140        2   192767     276       2194    5103.0        1020   \n",
       "26051141        2   215563     276       1816    2044.0        1020   \n",
       "26051142        2   293453     602        420    4953.0         626   \n",
       "\n",
       "          action_type  time_stamp3  \n",
       "26051080            0            3  \n",
       "26051081            0            3  \n",
       "26051082            0            3  \n",
       "26051083            0            3  \n",
       "26051084            0            3  \n",
       "...               ...          ...  \n",
       "26051138            2            4  \n",
       "26051139            2            4  \n",
       "26051140            0            4  \n",
       "26051141            0            4  \n",
       "26051142            0            3  \n",
       "\n",
       "[63 rows x 8 columns]"
      ]
     },
     "execution_count": 19,
     "metadata": {},
     "output_type": "execute_result"
    }
   ],
   "source": [
    "UserInf"
   ]
  },
  {
   "cell_type": "code",
   "execution_count": 20,
   "metadata": {},
   "outputs": [
    {
     "data": {
      "text/plain": [
       "user_id          int64\n",
       "item_id          int64\n",
       "cat_id           int64\n",
       "seller_id        int64\n",
       "brand_id       float64\n",
       "time_stamp       int64\n",
       "action_type      int64\n",
       "time_stamp3      int64\n",
       "dtype: object"
      ]
     },
     "execution_count": 20,
     "metadata": {},
     "output_type": "execute_result"
    }
   ],
   "source": [
    "UserInf.dtypes"
   ]
  },
  {
   "cell_type": "code",
   "execution_count": 34,
   "metadata": {},
   "outputs": [],
   "source": [
    "UserInf['time']=UserInf['time_stamp'].apply(lambda x: '2018-'+str(x)[:-2]+'-'+str(x)[-2:] if len(str(x))==4 \n",
    "                            else '2018-0'+str(x)[:-2]+'-'+str(x)[-2:] if len(str(x))==3 \n",
    "                            else str(x)).apply(lambda x: datetime.datetime.strptime(x,'%Y-%m-%d'))"
   ]
  },
  {
   "cell_type": "code",
   "execution_count": 40,
   "metadata": {},
   "outputs": [
    {
     "data": {
      "text/plain": [
       "26051080    2018-06-26\n",
       "26051081    2018-06-26\n",
       "26051082    2018-08-17\n",
       "26051083    2018-08-17\n",
       "26051084    2018-08-17\n",
       "               ...    \n",
       "26051138    2018-11-11\n",
       "26051139    2018-11-11\n",
       "26051140    2018-10-20\n",
       "26051141    2018-10-20\n",
       "26051142    2018-06-26\n",
       "Name: time, Length: 63, dtype: object"
      ]
     },
     "execution_count": 40,
     "metadata": {},
     "output_type": "execute_result"
    }
   ],
   "source": [
    "UserInf['time'].apply(lambda x: x.strftime('%Y-%m-%d'))"
   ]
  },
  {
   "cell_type": "code",
   "execution_count": 37,
   "metadata": {},
   "outputs": [
    {
     "data": {
      "text/plain": [
       "26051080    2018-06-26\n",
       "26051081    2018-06-26\n",
       "26051082    2018-08-17\n",
       "26051083    2018-08-17\n",
       "26051084    2018-08-17\n",
       "               ...    \n",
       "26051138    2018-11-11\n",
       "26051139    2018-11-11\n",
       "26051140    2018-10-20\n",
       "26051141    2018-10-20\n",
       "26051142    2018-06-26\n",
       "Name: time_stamp, Length: 63, dtype: object"
      ]
     },
     "execution_count": 37,
     "metadata": {},
     "output_type": "execute_result"
    }
   ],
   "source": [
    "UserInf['time_stamp'].apply(lambda x: '2018-'+str(x)[:-2]+'-'+str(x)[-2:] if len(str(x))==4 \n",
    "                            else '2018-0'+str(x)[:-2]+'-'+str(x)[-2:] if len(str(x))==3 \n",
    "                            else str(x))"
   ]
  },
  {
   "cell_type": "code",
   "execution_count": 39,
   "metadata": {},
   "outputs": [
    {
     "data": {
      "text/plain": [
       "26051080    1022\n",
       "26051081    1022\n",
       "26051082    2711\n",
       "26051083    2711\n",
       "26051084    2711\n",
       "            ... \n",
       "26051138    6066\n",
       "26051139    2204\n",
       "26051140    2470\n",
       "26051141    2092\n",
       "26051142    1022\n",
       "Length: 63, dtype: int64"
      ]
     },
     "execution_count": 39,
     "metadata": {},
     "output_type": "execute_result"
    }
   ],
   "source": [
    "UserInf.apply(lambda x: x['cat_id']+x['seller_id'],axis=1)"
   ]
  },
  {
   "cell_type": "code",
   "execution_count": 30,
   "metadata": {},
   "outputs": [
    {
     "data": {
      "text/plain": [
       "user_id                 int64\n",
       "item_id                 int64\n",
       "cat_id                  int64\n",
       "seller_id               int64\n",
       "brand_id              float64\n",
       "time_stamp              int64\n",
       "action_type             int64\n",
       "time_stamp3             int64\n",
       "time           datetime64[ns]\n",
       "dtype: object"
      ]
     },
     "execution_count": 30,
     "metadata": {},
     "output_type": "execute_result"
    }
   ],
   "source": [
    "UserInf.dtypes"
   ]
  },
  {
   "cell_type": "code",
   "execution_count": 45,
   "metadata": {},
   "outputs": [
    {
     "data": {
      "text/plain": [
       "168"
      ]
     },
     "execution_count": 45,
     "metadata": {},
     "output_type": "execute_result"
    }
   ],
   "source": [
    "('2018-11-11'-UserInf.time.max()).days"
   ]
  },
  {
   "cell_type": "code",
   "execution_count": null,
   "metadata": {},
   "outputs": [],
   "source": []
  }
 ],
 "metadata": {
  "kernelspec": {
   "display_name": "Python 3",
   "language": "python",
   "name": "python3"
  },
  "language_info": {
   "codemirror_mode": {
    "name": "ipython",
    "version": 3
   },
   "file_extension": ".py",
   "mimetype": "text/x-python",
   "name": "python",
   "nbconvert_exporter": "python",
   "pygments_lexer": "ipython3",
   "version": "3.7.3"
  },
  "toc": {
   "base_numbering": 1,
   "nav_menu": {},
   "number_sections": true,
   "sideBar": true,
   "skip_h1_title": false,
   "title_cell": "Table of Contents",
   "title_sidebar": "Contents",
   "toc_cell": false,
   "toc_position": {},
   "toc_section_display": true,
   "toc_window_display": false
  }
 },
 "nbformat": 4,
 "nbformat_minor": 2
}
