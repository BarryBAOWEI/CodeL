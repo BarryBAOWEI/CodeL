{
 "cells": [
  {
   "cell_type": "code",
   "execution_count": 2,
   "metadata": {},
   "outputs": [
    {
     "name": "stderr",
     "output_type": "stream",
     "text": [
      "F:\\Anaconda\\lib\\importlib\\_bootstrap.py:219: RuntimeWarning: numpy.ufunc size changed, may indicate binary incompatibility. Expected 192 from C header, got 216 from PyObject\n",
      "  return f(*args, **kwds)\n",
      "F:\\Anaconda\\lib\\importlib\\_bootstrap.py:219: RuntimeWarning: numpy.ufunc size changed, may indicate binary incompatibility. Expected 192 from C header, got 216 from PyObject\n",
      "  return f(*args, **kwds)\n",
      "F:\\Anaconda\\lib\\importlib\\_bootstrap.py:219: RuntimeWarning: numpy.ufunc size changed, may indicate binary incompatibility. Expected 216, got 192\n",
      "  return f(*args, **kwds)\n",
      "F:\\Anaconda\\lib\\importlib\\_bootstrap.py:219: RuntimeWarning: numpy.ufunc size changed, may indicate binary incompatibility. Expected 192 from C header, got 216 from PyObject\n",
      "  return f(*args, **kwds)\n"
     ]
    }
   ],
   "source": [
    "import numpy as np\n",
    "import pandas as pd\n",
    "from scipy.stats import f, t\n",
    "import statsmodels.api as sm"
   ]
  },
  {
   "cell_type": "code",
   "execution_count": 1,
   "metadata": {
    "collapsed": true
   },
   "outputs": [],
   "source": [
    "L = [1,2,3,4,5,6,7,8,9,10,11]"
   ]
  },
  {
   "cell_type": "code",
   "execution_count": 2,
   "metadata": {},
   "outputs": [
    {
     "data": {
      "text/plain": [
       "[7, 8, 9, 10, 11]"
      ]
     },
     "execution_count": 2,
     "metadata": {},
     "output_type": "execute_result"
    }
   ],
   "source": [
    "L[-5:]"
   ]
  },
  {
   "cell_type": "code",
   "execution_count": 1,
   "metadata": {},
   "outputs": [
    {
     "data": {
      "text/plain": [
       "90.3225806451613"
      ]
     },
     "execution_count": 1,
     "metadata": {},
     "output_type": "execute_result"
    }
   ],
   "source": [
    "7/0.0775"
   ]
  },
  {
   "cell_type": "code",
   "execution_count": 4,
   "metadata": {},
   "outputs": [
    {
     "data": {
      "text/plain": [
       "36.52173913043479"
      ]
     },
     "execution_count": 4,
     "metadata": {},
     "output_type": "execute_result"
    }
   ],
   "source": [
    "42/1.15"
   ]
  },
  {
   "cell_type": "code",
   "execution_count": 5,
   "metadata": {},
   "outputs": [
    {
     "data": {
      "text/plain": [
       "24.54954954954955"
      ]
     },
     "execution_count": 5,
     "metadata": {},
     "output_type": "execute_result"
    }
   ],
   "source": [
    "(1.56/0.06+1.25)/1.11"
   ]
  },
  {
   "cell_type": "code",
   "execution_count": 6,
   "metadata": {},
   "outputs": [
    {
     "data": {
      "text/plain": [
       "1.5625"
      ]
     },
     "execution_count": 6,
     "metadata": {},
     "output_type": "execute_result"
    }
   ],
   "source": [
    "1.25*1.25"
   ]
  },
  {
   "cell_type": "code",
   "execution_count": 7,
   "metadata": {},
   "outputs": [
    {
     "data": {
      "text/plain": [
       "36.647727272727266"
      ]
     },
     "execution_count": 7,
     "metadata": {},
     "output_type": "execute_result"
    }
   ],
   "source": [
    "(1.5625/0.04+1.25)/1.1"
   ]
  },
  {
   "cell_type": "code",
   "execution_count": 32,
   "metadata": {},
   "outputs": [],
   "source": [
    "XX=np.array([[24/5,0,0,0],[0,2,2,1],[0,2,6,3],[0,1,3,4]])*5"
   ]
  },
  {
   "cell_type": "code",
   "execution_count": 33,
   "metadata": {},
   "outputs": [],
   "source": [
    "X_X=np.linalg.inv(XX)"
   ]
  },
  {
   "cell_type": "code",
   "execution_count": 34,
   "metadata": {},
   "outputs": [],
   "source": [
    "Xy=np.array([[0],[7],[-7],[-26]])"
   ]
  },
  {
   "cell_type": "code",
   "execution_count": 35,
   "metadata": {},
   "outputs": [],
   "source": [
    "beta=X_X.dot(Xy)"
   ]
  },
  {
   "cell_type": "code",
   "execution_count": 37,
   "metadata": {},
   "outputs": [
    {
     "data": {
      "text/plain": [
       "array([[55.2]])"
      ]
     },
     "execution_count": 37,
     "metadata": {},
     "output_type": "execute_result"
    }
   ],
   "source": [
    "beta.T.dot(Xy)"
   ]
  },
  {
   "cell_type": "code",
   "execution_count": 38,
   "metadata": {},
   "outputs": [
    {
     "data": {
      "text/plain": [
       "array([[55.2]])"
      ]
     },
     "execution_count": 38,
     "metadata": {},
     "output_type": "execute_result"
    }
   ],
   "source": [
    "beta.T.dot(XX).dot(beta)"
   ]
  },
  {
   "cell_type": "code",
   "execution_count": 43,
   "metadata": {},
   "outputs": [],
   "source": [
    "Vbeta=0.24*X_X"
   ]
  },
  {
   "cell_type": "code",
   "execution_count": 44,
   "metadata": {},
   "outputs": [
    {
     "data": {
      "text/plain": [
       "array([[ 1.00000000e-02,  0.00000000e+00,  0.00000000e+00,\n",
       "         0.00000000e+00],\n",
       "       [ 0.00000000e+00,  3.60000000e-02, -1.20000000e-02,\n",
       "         1.33226763e-18],\n",
       "       [ 0.00000000e+00, -1.20000000e-02,  1.68000000e-02,\n",
       "        -9.60000000e-03],\n",
       "       [ 0.00000000e+00,  0.00000000e+00, -9.60000000e-03,\n",
       "         1.92000000e-02]])"
      ]
     },
     "execution_count": 44,
     "metadata": {},
     "output_type": "execute_result"
    }
   ],
   "source": [
    "Vbeta"
   ]
  },
  {
   "cell_type": "code",
   "execution_count": 49,
   "metadata": {},
   "outputs": [
    {
     "data": {
      "text/plain": [
       "2.0859634472658364"
      ]
     },
     "execution_count": 49,
     "metadata": {},
     "output_type": "execute_result"
    }
   ],
   "source": [
    "t.ppf(0.975,20)"
   ]
  },
  {
   "cell_type": "code",
   "execution_count": 50,
   "metadata": {},
   "outputs": [],
   "source": [
    "R1 = np.array([0,1,1,1])"
   ]
  },
  {
   "cell_type": "code",
   "execution_count": 51,
   "metadata": {},
   "outputs": [
    {
     "data": {
      "text/plain": [
       "array([-1.1785113])"
      ]
     },
     "execution_count": 51,
     "metadata": {},
     "output_type": "execute_result"
    }
   ],
   "source": [
    "R1.dot(beta)/(0.24*R1.dot(X_X).dot(R1.T))**0.5"
   ]
  },
  {
   "cell_type": "code",
   "execution_count": 55,
   "metadata": {},
   "outputs": [],
   "source": [
    "R2 = np.array([[0,1,0,0],[0,0,1,0],[0,0,0,1]])"
   ]
  },
  {
   "cell_type": "code",
   "execution_count": 52,
   "metadata": {},
   "outputs": [],
   "source": [
    "r=np.array([[1],[1],[-2]])"
   ]
  },
  {
   "cell_type": "code",
   "execution_count": 57,
   "metadata": {},
   "outputs": [
    {
     "data": {
      "text/plain": [
       "array([[15.55555556]])"
      ]
     },
     "execution_count": 57,
     "metadata": {},
     "output_type": "execute_result"
    }
   ],
   "source": [
    "(R2.dot(beta)-r).T.dot(np.linalg.inv(0.24*R2.dot(X_X).dot(R2.T))).dot(R2.dot(beta)-r)/3"
   ]
  },
  {
   "cell_type": "code",
   "execution_count": 58,
   "metadata": {},
   "outputs": [
    {
     "data": {
      "text/plain": [
       "22.353363434801828"
      ]
     },
     "execution_count": 58,
     "metadata": {},
     "output_type": "execute_result"
    }
   ],
   "source": [
    "t.ppf(0.95,3,20)"
   ]
  },
  {
   "cell_type": "code",
   "execution_count": 56,
   "metadata": {},
   "outputs": [
    {
     "data": {
      "text/plain": [
       "array([[ 3.60000000e-02, -1.20000000e-02,  1.33226763e-18],\n",
       "       [-1.20000000e-02,  1.68000000e-02, -9.60000000e-03],\n",
       "       [ 0.00000000e+00, -9.60000000e-03,  1.92000000e-02]])"
      ]
     },
     "execution_count": 56,
     "metadata": {},
     "output_type": "execute_result"
    }
   ],
   "source": [
    "(0.24*R2.dot(X_X).dot(R2.T))"
   ]
  },
  {
   "cell_type": "code",
   "execution_count": 59,
   "metadata": {},
   "outputs": [
    {
     "data": {
      "text/plain": [
       "2.842498988346894"
      ]
     },
     "execution_count": 59,
     "metadata": {},
     "output_type": "execute_result"
    }
   ],
   "source": [
    "(0.632-0.452)/(0.257**2+0.219**2-2*0.055)**0.5"
   ]
  },
  {
   "cell_type": "code",
   "execution_count": 60,
   "metadata": {},
   "outputs": [
    {
     "data": {
      "text/plain": [
       "0.17747843196505955"
      ]
     },
     "execution_count": 60,
     "metadata": {},
     "output_type": "execute_result"
    }
   ],
   "source": [
    "(0.632+0.452-1)/(0.257**2+0.219**2+2*0.055)**0.5"
   ]
  },
  {
   "cell_type": "code",
   "execution_count": 61,
   "metadata": {
    "scrolled": true
   },
   "outputs": [
    {
     "data": {
      "text/plain": [
       "array([[-2. ,  1. ],\n",
       "       [ 1.5, -0.5]])"
      ]
     },
     "execution_count": 61,
     "metadata": {},
     "output_type": "execute_result"
    }
   ],
   "source": [
    "ss = np.array([[1,2],[3,4]])\n",
    "np.linalg.inv(ss)"
   ]
  },
  {
   "cell_type": "code",
   "execution_count": 122,
   "metadata": {},
   "outputs": [],
   "source": [
    "ddd=pd.read_excel('C:/Users/Thinkpad/Desktop/高级计量/ps2_data.xlsx',index_col=0)"
   ]
  },
  {
   "cell_type": "code",
   "execution_count": 123,
   "metadata": {},
   "outputs": [],
   "source": [
    "X=ddd.iloc[:,5:10]\n",
    "y=ddd.iloc[:,0]"
   ]
  },
  {
   "cell_type": "code",
   "execution_count": 124,
   "metadata": {},
   "outputs": [],
   "source": [
    "X_=X.sub(X.mean(),axis=1)\n",
    "y_=y-y.mean()"
   ]
  },
  {
   "cell_type": "code",
   "execution_count": 125,
   "metadata": {},
   "outputs": [
    {
     "name": "stdout",
     "output_type": "stream",
     "text": [
      "                            OLS Regression Results                            \n",
      "==============================================================================\n",
      "Dep. Variable:                     V2   R-squared:                       0.061\n",
      "Model:                            OLS   Adj. R-squared:                  0.011\n",
      "Method:                 Least Squares   F-statistic:                     1.218\n",
      "Date:                Fri, 11 Oct 2019   Prob (F-statistic):              0.307\n",
      "Time:                        01:43:46   Log-Likelihood:                -178.35\n",
      "No. Observations:                 100   AIC:                             368.7\n",
      "Df Residuals:                      94   BIC:                             384.3\n",
      "Df Model:                           5                                         \n",
      "Covariance Type:            nonrobust                                         \n",
      "==============================================================================\n",
      "                 coef    std err          t      P>|t|      [0.025      0.975]\n",
      "------------------------------------------------------------------------------\n",
      "const          4.4991      0.797      5.643      0.000       2.916       6.082\n",
      "V7             0.0383      0.604      0.063      0.950      -1.161       1.238\n",
      "V8             0.0043      0.144      0.030      0.976      -0.281       0.289\n",
      "V9             0.1317      0.065      2.036      0.045       0.003       0.260\n",
      "V10           -0.1093      0.061     -1.778      0.079      -0.231       0.013\n",
      "V11           -0.0123      0.012     -1.023      0.309      -0.036       0.012\n",
      "==============================================================================\n",
      "Omnibus:                       19.011   Durbin-Watson:                   2.011\n",
      "Prob(Omnibus):                  0.000   Jarque-Bera (JB):               27.476\n",
      "Skew:                           0.881   Prob(JB):                     1.08e-06\n",
      "Kurtosis:                       4.868   Cond. No.                         157.\n",
      "==============================================================================\n",
      "\n",
      "Warnings:\n",
      "[1] Standard Errors assume that the covariance matrix of the errors is correctly specified.\n"
     ]
    }
   ],
   "source": [
    "print(sm.OLS(y,sm.add_constant(X)).fit().summary())"
   ]
  },
  {
   "cell_type": "code",
   "execution_count": 126,
   "metadata": {},
   "outputs": [
    {
     "name": "stdout",
     "output_type": "stream",
     "text": [
      "                            OLS Regression Results                            \n",
      "==============================================================================\n",
      "Dep. Variable:                     V2   R-squared:                       0.061\n",
      "Model:                            OLS   Adj. R-squared:                  0.011\n",
      "Method:                 Least Squares   F-statistic:                     1.218\n",
      "Date:                Fri, 11 Oct 2019   Prob (F-statistic):              0.307\n",
      "Time:                        01:43:48   Log-Likelihood:                -178.35\n",
      "No. Observations:                 100   AIC:                             368.7\n",
      "Df Residuals:                      94   BIC:                             384.3\n",
      "Df Model:                           5                                         \n",
      "Covariance Type:            nonrobust                                         \n",
      "==============================================================================\n",
      "                 coef    std err          t      P>|t|      [0.025      0.975]\n",
      "------------------------------------------------------------------------------\n",
      "const       3.331e-16      0.149   2.24e-15      1.000      -0.295       0.295\n",
      "V7             0.0383      0.604      0.063      0.950      -1.161       1.238\n",
      "V8             0.0043      0.144      0.030      0.976      -0.281       0.289\n",
      "V9             0.1317      0.065      2.036      0.045       0.003       0.260\n",
      "V10           -0.1093      0.061     -1.778      0.079      -0.231       0.013\n",
      "V11           -0.0123      0.012     -1.023      0.309      -0.036       0.012\n",
      "==============================================================================\n",
      "Omnibus:                       19.011   Durbin-Watson:                   2.011\n",
      "Prob(Omnibus):                  0.000   Jarque-Bera (JB):               27.476\n",
      "Skew:                           0.881   Prob(JB):                     1.08e-06\n",
      "Kurtosis:                       4.868   Cond. No.                         71.3\n",
      "==============================================================================\n",
      "\n",
      "Warnings:\n",
      "[1] Standard Errors assume that the covariance matrix of the errors is correctly specified.\n"
     ]
    }
   ],
   "source": [
    "print(sm.OLS(y_,sm.add_constant(X_)).fit().summary())"
   ]
  },
  {
   "cell_type": "code",
   "execution_count": null,
   "metadata": {},
   "outputs": [],
   "source": []
  },
  {
   "cell_type": "code",
   "execution_count": 4,
   "metadata": {},
   "outputs": [],
   "source": [
    "DData=pd.read_excel('C:/Users/Thinkpad/Desktop/高级计量/ps2_data.xlsx',index_col=0)"
   ]
  },
  {
   "cell_type": "code",
   "execution_count": 7,
   "metadata": {
    "scrolled": true
   },
   "outputs": [],
   "source": [
    "DData['y'] = DData['V9']\n",
    "DData['x1'] = 1\n",
    "DData['x2'] = DData['V3']\n",
    "DData['x3'] = DData['V5']\n",
    "DData['x4'] = DData['x3']**2\n",
    "DData['x5'] = DData['V7'].apply(lambda x: 1 if x == 2 else 0 if x == 1 else x)\n",
    "DData['x6'] = DData['V8'].apply(lambda x: 1 if x == 2 else 0)\n",
    "DData['x7'] = DData['V8'].apply(lambda x: 1 if x == 3 else 0)\n",
    "DData['x8'] = DData['V8'].apply(lambda x: 1 if x == 4 else 0)"
   ]
  },
  {
   "cell_type": "code",
   "execution_count": 9,
   "metadata": {
    "scrolled": false
   },
   "outputs": [
    {
     "name": "stdout",
     "output_type": "stream",
     "text": [
      "                            OLS Regression Results                            \n",
      "==============================================================================\n",
      "Dep. Variable:                      y   R-squared:                       0.285\n",
      "Model:                            OLS   Adj. R-squared:                  0.277\n",
      "Method:                 Least Squares   F-statistic:                     39.00\n",
      "Date:                Fri, 11 Oct 2019   Prob (F-statistic):           1.09e-08\n",
      "Time:                        13:50:49   Log-Likelihood:                -288.15\n",
      "No. Observations:                 100   AIC:                             580.3\n",
      "Df Residuals:                      98   BIC:                             585.5\n",
      "Df Model:                           1                                         \n",
      "Covariance Type:            nonrobust                                         \n",
      "==============================================================================\n",
      "                 coef    std err          t      P>|t|      [0.025      0.975]\n",
      "------------------------------------------------------------------------------\n",
      "x1            -1.3149      1.540     -0.854      0.395      -4.372       1.742\n",
      "x2             0.7967      0.128      6.245      0.000       0.544       1.050\n",
      "==============================================================================\n",
      "Omnibus:                       82.002   Durbin-Watson:                   2.240\n",
      "Prob(Omnibus):                  0.000   Jarque-Bera (JB):              536.623\n",
      "Skew:                           2.761   Prob(JB):                    2.98e-117\n",
      "Kurtosis:                      12.914   Cond. No.                         42.9\n",
      "==============================================================================\n",
      "\n",
      "Warnings:\n",
      "[1] Standard Errors assume that the covariance matrix of the errors is correctly specified.\n"
     ]
    }
   ],
   "source": [
    "print(sm.OLS(DData['y'],DData[['x1','x2']]).fit().summary())"
   ]
  },
  {
   "cell_type": "code",
   "execution_count": 8,
   "metadata": {},
   "outputs": [
    {
     "name": "stdout",
     "output_type": "stream",
     "text": [
      "                            OLS Regression Results                            \n",
      "==============================================================================\n",
      "Dep. Variable:                      y   R-squared:                       0.329\n",
      "Model:                            OLS   Adj. R-squared:                  0.308\n",
      "Method:                 Least Squares   F-statistic:                     15.70\n",
      "Date:                Fri, 11 Oct 2019   Prob (F-statistic):           2.20e-08\n",
      "Time:                        13:50:15   Log-Likelihood:                -284.94\n",
      "No. Observations:                 100   AIC:                             577.9\n",
      "Df Residuals:                      96   BIC:                             588.3\n",
      "Df Model:                           3                                         \n",
      "Covariance Type:            nonrobust                                         \n",
      "==============================================================================\n",
      "                 coef    std err          t      P>|t|      [0.025      0.975]\n",
      "------------------------------------------------------------------------------\n",
      "x1            -9.7908      3.781     -2.590      0.011     -17.295      -2.287\n",
      "x2             0.9948      0.152      6.528      0.000       0.692       1.297\n",
      "x3             0.4711      0.254      1.852      0.067      -0.034       0.976\n",
      "x4            -0.0075      0.005     -1.401      0.164      -0.018       0.003\n",
      "==============================================================================\n",
      "Omnibus:                       73.060   Durbin-Watson:                   2.200\n",
      "Prob(Omnibus):                  0.000   Jarque-Bera (JB):              398.732\n",
      "Skew:                           2.450   Prob(JB):                     2.61e-87\n",
      "Kurtosis:                      11.467   Cond. No.                     6.22e+03\n",
      "==============================================================================\n",
      "\n",
      "Warnings:\n",
      "[1] Standard Errors assume that the covariance matrix of the errors is correctly specified.\n",
      "[2] The condition number is large, 6.22e+03. This might indicate that there are\n",
      "strong multicollinearity or other numerical problems.\n"
     ]
    }
   ],
   "source": [
    "print(sm.OLS(DData['y'],DData[['x1','x2','x3','x4']]).fit().summary())"
   ]
  },
  {
   "cell_type": "code",
   "execution_count": 10,
   "metadata": {},
   "outputs": [
    {
     "name": "stdout",
     "output_type": "stream",
     "text": [
      "                            OLS Regression Results                            \n",
      "==============================================================================\n",
      "Dep. Variable:                      y   R-squared:                       0.335\n",
      "Model:                            OLS   Adj. R-squared:                  0.307\n",
      "Method:                 Least Squares   F-statistic:                     11.99\n",
      "Date:                Fri, 11 Oct 2019   Prob (F-statistic):           6.31e-08\n",
      "Time:                        13:51:14   Log-Likelihood:                -284.47\n",
      "No. Observations:                 100   AIC:                             578.9\n",
      "Df Residuals:                      95   BIC:                             592.0\n",
      "Df Model:                           4                                         \n",
      "Covariance Type:            nonrobust                                         \n",
      "==============================================================================\n",
      "                 coef    std err          t      P>|t|      [0.025      0.975]\n",
      "------------------------------------------------------------------------------\n",
      "x1            -9.1338      3.845     -2.375      0.020     -16.768      -1.500\n",
      "x2             0.9594      0.157      6.112      0.000       0.648       1.271\n",
      "x3             0.4625      0.255      1.816      0.073      -0.043       0.968\n",
      "x4            -0.0074      0.005     -1.381      0.171      -0.018       0.003\n",
      "x5            -1.6392      1.729     -0.948      0.345      -5.071       1.792\n",
      "==============================================================================\n",
      "Omnibus:                       74.093   Durbin-Watson:                   2.171\n",
      "Prob(Omnibus):                  0.000   Jarque-Bera (JB):              414.831\n",
      "Skew:                           2.482   Prob(JB):                     8.33e-91\n",
      "Kurtosis:                      11.655   Cond. No.                     6.35e+03\n",
      "==============================================================================\n",
      "\n",
      "Warnings:\n",
      "[1] Standard Errors assume that the covariance matrix of the errors is correctly specified.\n",
      "[2] The condition number is large, 6.35e+03. This might indicate that there are\n",
      "strong multicollinearity or other numerical problems.\n"
     ]
    }
   ],
   "source": [
    "print(sm.OLS(DData['y'],DData[['x1','x2','x3','x4','x5']]).fit().summary())"
   ]
  },
  {
   "cell_type": "code",
   "execution_count": 12,
   "metadata": {},
   "outputs": [
    {
     "name": "stdout",
     "output_type": "stream",
     "text": [
      "                            OLS Regression Results                            \n",
      "==============================================================================\n",
      "Dep. Variable:                      y   R-squared:                       0.360\n",
      "Model:                            OLS   Adj. R-squared:                  0.311\n",
      "Method:                 Least Squares   F-statistic:                     7.387\n",
      "Date:                Fri, 11 Oct 2019   Prob (F-statistic):           4.98e-07\n",
      "Time:                        13:51:45   Log-Likelihood:                -282.60\n",
      "No. Observations:                 100   AIC:                             581.2\n",
      "Df Residuals:                      92   BIC:                             602.0\n",
      "Df Model:                           7                                         \n",
      "Covariance Type:            nonrobust                                         \n",
      "==============================================================================\n",
      "                 coef    std err          t      P>|t|      [0.025      0.975]\n",
      "------------------------------------------------------------------------------\n",
      "x1            -9.3530      4.029     -2.321      0.022     -17.355      -1.351\n",
      "x2             0.9902      0.159      6.212      0.000       0.674       1.307\n",
      "x3             0.4665      0.256      1.820      0.072      -0.043       0.976\n",
      "x4            -0.0073      0.005     -1.346      0.182      -0.018       0.003\n",
      "x5            -1.0174      1.770     -0.575      0.567      -4.533       2.498\n",
      "x6             0.4691      1.148      0.409      0.684      -1.811       2.749\n",
      "x7            -0.5325      1.180     -0.451      0.653      -2.875       1.810\n",
      "x8            -1.9561      1.313     -1.490      0.140      -4.563       0.651\n",
      "==============================================================================\n",
      "Omnibus:                       69.850   Durbin-Watson:                   2.234\n",
      "Prob(Omnibus):                  0.000   Jarque-Bera (JB):              359.151\n",
      "Skew:                           2.339   Prob(JB):                     1.03e-78\n",
      "Kurtosis:                      11.020   Cond. No.                     6.71e+03\n",
      "==============================================================================\n",
      "\n",
      "Warnings:\n",
      "[1] Standard Errors assume that the covariance matrix of the errors is correctly specified.\n",
      "[2] The condition number is large, 6.71e+03. This might indicate that there are\n",
      "strong multicollinearity or other numerical problems.\n"
     ]
    }
   ],
   "source": [
    "print(sm.OLS(DData['y'],DData[['x1','x2','x3','x4','x5','x6','x7','x8']]).fit().summary())"
   ]
  },
  {
   "cell_type": "code",
   "execution_count": 13,
   "metadata": {},
   "outputs": [
    {
     "data": {
      "text/html": [
       "<div>\n",
       "<style scoped>\n",
       "    .dataframe tbody tr th:only-of-type {\n",
       "        vertical-align: middle;\n",
       "    }\n",
       "\n",
       "    .dataframe tbody tr th {\n",
       "        vertical-align: top;\n",
       "    }\n",
       "\n",
       "    .dataframe thead th {\n",
       "        text-align: right;\n",
       "    }\n",
       "</style>\n",
       "<table border=\"1\" class=\"dataframe\">\n",
       "  <thead>\n",
       "    <tr style=\"text-align: right;\">\n",
       "      <th></th>\n",
       "      <th>y</th>\n",
       "      <th>x1</th>\n",
       "      <th>x2</th>\n",
       "      <th>x3</th>\n",
       "      <th>x4</th>\n",
       "      <th>x5</th>\n",
       "      <th>x6</th>\n",
       "      <th>x7</th>\n",
       "      <th>x8</th>\n",
       "    </tr>\n",
       "  </thead>\n",
       "  <tbody>\n",
       "    <tr>\n",
       "      <td>count</td>\n",
       "      <td>100.000000</td>\n",
       "      <td>100.0</td>\n",
       "      <td>100.000000</td>\n",
       "      <td>100.00000</td>\n",
       "      <td>100.000000</td>\n",
       "      <td>100.000000</td>\n",
       "      <td>100.000000</td>\n",
       "      <td>100.000000</td>\n",
       "      <td>100.000000</td>\n",
       "    </tr>\n",
       "    <tr>\n",
       "      <td>mean</td>\n",
       "      <td>7.911070</td>\n",
       "      <td>1.0</td>\n",
       "      <td>11.580000</td>\n",
       "      <td>22.19000</td>\n",
       "      <td>569.030000</td>\n",
       "      <td>0.070000</td>\n",
       "      <td>0.270000</td>\n",
       "      <td>0.270000</td>\n",
       "      <td>0.170000</td>\n",
       "    </tr>\n",
       "    <tr>\n",
       "      <td>std</td>\n",
       "      <td>5.129953</td>\n",
       "      <td>0.0</td>\n",
       "      <td>3.435348</td>\n",
       "      <td>8.79818</td>\n",
       "      <td>409.960985</td>\n",
       "      <td>0.256432</td>\n",
       "      <td>0.446196</td>\n",
       "      <td>0.446196</td>\n",
       "      <td>0.377525</td>\n",
       "    </tr>\n",
       "    <tr>\n",
       "      <td>min</td>\n",
       "      <td>0.750000</td>\n",
       "      <td>1.0</td>\n",
       "      <td>2.000000</td>\n",
       "      <td>4.00000</td>\n",
       "      <td>16.000000</td>\n",
       "      <td>0.000000</td>\n",
       "      <td>0.000000</td>\n",
       "      <td>0.000000</td>\n",
       "      <td>0.000000</td>\n",
       "    </tr>\n",
       "    <tr>\n",
       "      <td>25%</td>\n",
       "      <td>5.343750</td>\n",
       "      <td>1.0</td>\n",
       "      <td>9.000000</td>\n",
       "      <td>15.00000</td>\n",
       "      <td>225.000000</td>\n",
       "      <td>0.000000</td>\n",
       "      <td>0.000000</td>\n",
       "      <td>0.000000</td>\n",
       "      <td>0.000000</td>\n",
       "    </tr>\n",
       "    <tr>\n",
       "      <td>50%</td>\n",
       "      <td>6.500000</td>\n",
       "      <td>1.0</td>\n",
       "      <td>12.000000</td>\n",
       "      <td>22.00000</td>\n",
       "      <td>484.000000</td>\n",
       "      <td>0.000000</td>\n",
       "      <td>0.000000</td>\n",
       "      <td>0.000000</td>\n",
       "      <td>0.000000</td>\n",
       "    </tr>\n",
       "    <tr>\n",
       "      <td>75%</td>\n",
       "      <td>8.852500</td>\n",
       "      <td>1.0</td>\n",
       "      <td>13.000000</td>\n",
       "      <td>29.00000</td>\n",
       "      <td>841.000000</td>\n",
       "      <td>0.000000</td>\n",
       "      <td>1.000000</td>\n",
       "      <td>1.000000</td>\n",
       "      <td>0.000000</td>\n",
       "    </tr>\n",
       "    <tr>\n",
       "      <td>max</td>\n",
       "      <td>30.000000</td>\n",
       "      <td>1.0</td>\n",
       "      <td>20.000000</td>\n",
       "      <td>40.00000</td>\n",
       "      <td>1600.000000</td>\n",
       "      <td>1.000000</td>\n",
       "      <td>1.000000</td>\n",
       "      <td>1.000000</td>\n",
       "      <td>1.000000</td>\n",
       "    </tr>\n",
       "  </tbody>\n",
       "</table>\n",
       "</div>"
      ],
      "text/plain": [
       "                y     x1          x2         x3           x4          x5  \\\n",
       "count  100.000000  100.0  100.000000  100.00000   100.000000  100.000000   \n",
       "mean     7.911070    1.0   11.580000   22.19000   569.030000    0.070000   \n",
       "std      5.129953    0.0    3.435348    8.79818   409.960985    0.256432   \n",
       "min      0.750000    1.0    2.000000    4.00000    16.000000    0.000000   \n",
       "25%      5.343750    1.0    9.000000   15.00000   225.000000    0.000000   \n",
       "50%      6.500000    1.0   12.000000   22.00000   484.000000    0.000000   \n",
       "75%      8.852500    1.0   13.000000   29.00000   841.000000    0.000000   \n",
       "max     30.000000    1.0   20.000000   40.00000  1600.000000    1.000000   \n",
       "\n",
       "               x6          x7          x8  \n",
       "count  100.000000  100.000000  100.000000  \n",
       "mean     0.270000    0.270000    0.170000  \n",
       "std      0.446196    0.446196    0.377525  \n",
       "min      0.000000    0.000000    0.000000  \n",
       "25%      0.000000    0.000000    0.000000  \n",
       "50%      0.000000    0.000000    0.000000  \n",
       "75%      1.000000    1.000000    0.000000  \n",
       "max      1.000000    1.000000    1.000000  "
      ]
     },
     "execution_count": 13,
     "metadata": {},
     "output_type": "execute_result"
    }
   ],
   "source": [
    "DData[['y','x1','x2','x3','x4','x5','x6','x7','x8']].describe()"
   ]
  },
  {
   "cell_type": "code",
   "execution_count": null,
   "metadata": {},
   "outputs": [],
   "source": []
  }
 ],
 "metadata": {
  "kernelspec": {
   "display_name": "Python 3",
   "language": "python",
   "name": "python3"
  },
  "language_info": {
   "codemirror_mode": {
    "name": "ipython",
    "version": 3
   },
   "file_extension": ".py",
   "mimetype": "text/x-python",
   "name": "python",
   "nbconvert_exporter": "python",
   "pygments_lexer": "ipython3",
   "version": "3.7.3"
  },
  "toc": {
   "base_numbering": 1,
   "nav_menu": {},
   "number_sections": true,
   "sideBar": true,
   "skip_h1_title": false,
   "title_cell": "Table of Contents",
   "title_sidebar": "Contents",
   "toc_cell": false,
   "toc_position": {},
   "toc_section_display": true,
   "toc_window_display": false
  }
 },
 "nbformat": 4,
 "nbformat_minor": 1
}
