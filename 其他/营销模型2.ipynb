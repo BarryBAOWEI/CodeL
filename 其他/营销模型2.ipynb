{
 "cells": [
  {
   "cell_type": "code",
   "execution_count": 2,
   "metadata": {},
   "outputs": [],
   "source": [
    "import pandas as pd\n",
    "import datetime"
   ]
  },
  {
   "cell_type": "code",
   "execution_count": 3,
   "metadata": {},
   "outputs": [],
   "source": [
    "UserInf2 = pd.read_csv('user_id2.csv',index_col=0)"
   ]
  },
  {
   "cell_type": "code",
   "execution_count": null,
   "metadata": {},
   "outputs": [],
   "source": [
    "def ComputeFeature(df):\n",
    "    \n",
    "    UserInf2 = df.copy()\n",
    "    \n",
    "    UserInf2['time']=UserInf2['time_stamp'].apply(lambda x: '2018-'+str(x)[:-2]+'-'+str(x)[-2:] if len(str(x))==4 \n",
    "        else '2018-0'+str(x)[:-2]+'-'+str(x)[-2:]).apply(lambda x: datetime.datetime.strptime(x,'%Y-%m-%d'))#将字符串转换为日期格式\n",
    "\n",
    "    Recency=UserInf2[(UserInf2['action_type']==2) & (UserInf2['time']<'2018-11-11') ].sort_values('time').tail(1).copy()#取时间早于11月11日并且购买的子集\n",
    "\n",
    "    if len(Recency) == 0:\n",
    "        \n",
    "        Recency_ = np.nan\n",
    "        \n",
    "    else:\n",
    "    \n",
    "        time20181110= datetime.datetime.strptime(\"2018-11-10\", '%Y-%m-%d')#转换日期格式\n",
    "\n",
    "        Recency_=(time20181110-Recency['time'].tolist()[0]).days#计算距11月10日最近一次购买的天数\n",
    "    \n",
    "    Frequency_=((UserInf2['action_type']==2)&(UserInf2['time']<'2018-11-11')).sum()#计算5月11日至11月10日期间购买次数\n",
    "\n",
    "    IF11_2=len(UserInf2[(UserInf2['time']=='2018-11-11')&(UserInf2['action_type']==2)])#选取双十一当天有购买行为的子集\n",
    "\n",
    "    Buy_OnD11=1 if IF11_2>=1 else 0#双十一当天消费者是否购买\n",
    "\n",
    "    Buy_OnD11_Num=((UserInf2['time']=='2018-11-11')&(UserInf2['action_type']==2)).sum()#双十一当天的购买次数\n",
    "\n",
    "#     brand_Num=UserInf2.drop_duplicates(['brand_id']).count()['brand_id']#消费者的品牌关注数\n",
    "\n",
    "    brand_Num=len(UserInf2['brand_id'].unique())#消费者的品牌关注数\n",
    "\n",
    "#     cart_Num=len(UserInf2[(UserInf2['action_type']==1)])#消费者加购物车次数\n",
    "    cart_Num=(UserInf2['action_type']==1).sum()#消费者加购物车次数\n",
    "\n",
    "    add_favourite_Num=(UserInf2['action_type']==3).sum()#消费者收藏次数\n",
    "\n",
    "    click_Num=(UserInf2['action_type']==0).sum()#消费者点击次数\n",
    "\n",
    "    UserInf2_1Month=UserInf2[(UserInf2['time']<'2018-11-10')&(UserInf2['time']>'2018-10-10')]#选取10月10日至11月10日的子集\n",
    "\n",
    "    Buy_1Month_Num=(UserInf2_1Month['action_type']==2).sum()#消费者10月10日至11月10日的购买次数\n",
    "\n",
    "    cart_Num_1Mon=(UserInf2_1Month['action_type']==1).sum()\n",
    "\n",
    "    UserInf2_2Month=UserInf2[(UserInf2['time']<'2018-11-10')&(UserInf2['time']>'2018-09-10')]\n",
    "\n",
    "    Buy_2Month_Num=(UserInf2_1Month['action_type']==2).sum()\n",
    "\n",
    "    UserInf2_3Month=UserInf2[(UserInf2['time']<'2018-11-10')&(UserInf2['time']>'2018-08-10')]\n",
    "\n",
    "    Buy_3Month_Num=(UserInf2_1Month['action_type']==2).sum()\n",
    "\n",
    "    UserFeatureEach = pd.DataFrame({'user_id':[UserInf2['user_id'].tolist()[0]]\n",
    "    ,'Buy_OnD11':[Buy_OnD11]\n",
    "    ,'Buy_OnD11_Num':[Buy_OnD11_Num]\n",
    "    ,'Recency_':[Recency_]\n",
    "    ,'Frequency_':[Frequency_]\n",
    "    ,'brand_Num':[brand_Num]\n",
    "    ,'cart_Num':[cart_Num]\n",
    "    ,'add_favourite_Num':[add_favourite_Num]\n",
    "    ,'click_Num':[click_Num]\n",
    "    ,'cart_Num_1Mon':[cart_Num_1Mon]\n",
    "    ,'Buy_1Month_Num':[Buy_1Month_Num]\n",
    "    ,'Buy_2Month_Num':[Buy_2Month_Num]\n",
    "    ,'Buy_3Month_Num':[Buy_3Month_Num]})\n",
    "    \n",
    "    return UserFeatureEach"
   ]
  },
  {
   "cell_type": "code",
   "execution_count": 8,
   "metadata": {},
   "outputs": [
    {
     "name": "stdout",
     "output_type": "stream",
     "text": [
      "Wall time: 12 s\n"
     ]
    }
   ],
   "source": [
    "%%time\n",
    "for i in range(1000):\n",
    "    ComputeFeature(UserInf2)"
   ]
  },
  {
   "cell_type": "code",
   "execution_count": null,
   "metadata": {},
   "outputs": [],
   "source": [
    "%%time\n",
    "cnt = 0\n",
    "DfAll = pd.DataFrame()\n",
    "for name, df in UserInf_All.groupby('user_id'):\n",
    "    df_tmp = ComputeFeature(df)\n",
    "    DfAll = pd.concat([DfAll,df_tmp],axis=0)\n",
    "    cnt += 1\n",
    "    if cnt > 100:\n",
    "        break#代码调试"
   ]
  },
  {
   "cell_type": "code",
   "execution_count": null,
   "metadata": {},
   "outputs": [],
   "source": [
    "from joblib import Parallel, delayed\n",
    "import multiprocessing"
   ]
  },
  {
   "cell_type": "code",
   "execution_count": null,
   "metadata": {},
   "outputs": [],
   "source": [
    "def applyParallel(dfGrouped, func):\n",
    "    retLst = Parallel(n_jobs=multiprocessing.cpu_count())(delayed(func)(group) for name, group in dfGrouped)\n",
    "    return pd.concat(retLst,axis=0)"
   ]
  },
  {
   "cell_type": "code",
   "execution_count": null,
   "metadata": {},
   "outputs": [],
   "source": [
    "UserFeatureAll = applyParallel(UserInf_All.groupby('user_id'), ComputeFeature)"
   ]
  },
  {
   "cell_type": "code",
   "execution_count": null,
   "metadata": {},
   "outputs": [],
   "source": []
  },
  {
   "cell_type": "code",
   "execution_count": null,
   "metadata": {},
   "outputs": [],
   "source": []
  },
  {
   "cell_type": "code",
   "execution_count": 6,
   "metadata": {},
   "outputs": [
    {
     "name": "stdout",
     "output_type": "stream",
     "text": [
      "2\n"
     ]
    }
   ],
   "source": [
    "ComputeFeature(UserInf2)"
   ]
  },
  {
   "cell_type": "code",
   "execution_count": 69,
   "metadata": {},
   "outputs": [],
   "source": [
    "pd.read_csv('收入细分数据.txt').to_excel('收入细分数据.xlsx')"
   ]
  },
  {
   "cell_type": "code",
   "execution_count": 70,
   "metadata": {},
   "outputs": [],
   "source": [
    "pd.read_csv('销售生产情况.txt').to_excel('销售生产情况.xlsx')"
   ]
  },
  {
   "cell_type": "code",
   "execution_count": 11,
   "metadata": {
    "scrolled": true
   },
   "outputs": [],
   "source": [
    "pd.read_csv('成本细分.txt').to_excel('成本细分.xlsx')"
   ]
  },
  {
   "cell_type": "code",
   "execution_count": 12,
   "metadata": {},
   "outputs": [],
   "source": [
    "pd.read_csv('大客户销售.txt').to_excel('大客户销售.xlsx')"
   ]
  },
  {
   "cell_type": "code",
   "execution_count": 13,
   "metadata": {},
   "outputs": [],
   "source": [
    "pd.read_csv('大供应商.txt').to_excel('大供应商.xlsx')"
   ]
  },
  {
   "cell_type": "code",
   "execution_count": 14,
   "metadata": {},
   "outputs": [],
   "source": [
    "pd.read_csv('研发投入.txt').to_excel('研发投入.xlsx')"
   ]
  },
  {
   "cell_type": "code",
   "execution_count": null,
   "metadata": {},
   "outputs": [],
   "source": []
  }
 ],
 "metadata": {
  "kernelspec": {
   "display_name": "Python 3",
   "language": "python",
   "name": "python3"
  },
  "language_info": {
   "codemirror_mode": {
    "name": "ipython",
    "version": 3
   },
   "file_extension": ".py",
   "mimetype": "text/x-python",
   "name": "python",
   "nbconvert_exporter": "python",
   "pygments_lexer": "ipython3",
   "version": "3.7.3"
  },
  "toc": {
   "base_numbering": 1,
   "nav_menu": {},
   "number_sections": true,
   "sideBar": true,
   "skip_h1_title": false,
   "title_cell": "Table of Contents",
   "title_sidebar": "Contents",
   "toc_cell": false,
   "toc_position": {},
   "toc_section_display": true,
   "toc_window_display": false
  }
 },
 "nbformat": 4,
 "nbformat_minor": 2
}
