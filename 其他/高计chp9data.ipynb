{
 "cells": [
  {
   "cell_type": "code",
   "execution_count": 15,
   "metadata": {},
   "outputs": [],
   "source": [
    "import pandas as pd\n",
    "import numpy as np"
   ]
  },
  {
   "cell_type": "code",
   "execution_count": 7,
   "metadata": {},
   "outputs": [],
   "source": [
    "y = [-1.42,2.75,2.10,-5.08,1.49,1.00,0.16,-1.11,\n",
    "     1.66,-0.26,-4.87,5.94,2.21,-6.87,0.90,1.61,\n",
    "     2.11,-3.82,-0.62,7.01,26.14,7.39,0.79,1.93,\n",
    "     1.97,-23.17,-2.52,-1.26,-0.15,3.41,-5.45,\n",
    "     1.31,1.52,2.04,3.00,6.31,5.51,-15.22,-1.47,\n",
    "     -1.48,6.66,1.78,2.62,-5.16,-4.71,-0.35,-0.48,1.24,0.69,1.91]"
   ]
  },
  {
   "cell_type": "code",
   "execution_count": 8,
   "metadata": {},
   "outputs": [],
   "source": [
    "x1 = [-1.65,1.48,0.77,0.67,0.68,0.23,-0.40,-1.13,0.15,-0.63,0.34,0.35,0.79,0.77,-1.04,0.28,0.58,-0.41,-1.78,1.25,0.22,1.25,-0.12,0.66,1.06,-0.66,-1.18,-0.80,-1.32,0.16,1.06,-0.60,0.79,0.86,2.04,-0.51,0.02,0.33,-1.99,0.70,-0.17,0.33,0.48,1.90,-0.18,-0.18,-1.62,0.39,0.17,1.02]"
   ]
  },
  {
   "cell_type": "code",
   "execution_count": 9,
   "metadata": {},
   "outputs": [],
   "source": [
    "x2 = [-0.67,0.70,0.32,2.88,-0.19,-1.28,-2.72,-0.70,-1.55,-0.74,-1.87,1.56,0.37,-2.07,1.20,0.26,-1.34,-2.10,0.61,2.32,4.38,2.16,1.51,0.30,-0.17,7.82,-1.15,1.77,2.92,-1.94,2.09,1.50,-0.46,0.19,-0.39,1.54,1.87,-3.45,-0.88,-1.53,1.42,-2.70,1.77,-1.89,-1.85,2.01,1.26,-2.02,1.91,-2.23]"
   ]
  },
  {
   "cell_type": "code",
   "execution_count": 13,
   "metadata": {},
   "outputs": [],
   "source": []
  },
  {
   "cell_type": "code",
   "execution_count": 12,
   "metadata": {},
   "outputs": [],
   "source": [
    "pd.DataFrame({'y':y,'x1':x1,'x2':x2,}).to_excel('chp9data.xlsx',index=False)"
   ]
  },
  {
   "cell_type": "code",
   "execution_count": 51,
   "metadata": {},
   "outputs": [],
   "source": [
    "y = np.array([y]).reshape(-1,1)\n",
    "x1 = np.array([x1]).reshape(-1,1)\n",
    "x2 = np.array([x2]).reshape(-1,1)\n",
    "l = np.array([[1 for i in x1]]).reshape(-1,1)"
   ]
  },
  {
   "cell_type": "code",
   "execution_count": 78,
   "metadata": {
    "scrolled": true
   },
   "outputs": [],
   "source": [
    "X = np.array([l,x1,x2]).T[0]\n",
    "XX = X.T.dot(X)\n",
    "XX_1 = np.linalg.inv(XX)\n",
    "Xy = X.T.dot(y)"
   ]
  },
  {
   "cell_type": "code",
   "execution_count": 104,
   "metadata": {},
   "outputs": [],
   "source": [
    "b = XX_1.dot(Xy)"
   ]
  },
  {
   "cell_type": "code",
   "execution_count": 105,
   "metadata": {},
   "outputs": [
    {
     "data": {
      "text/plain": [
       "array([[0.19039401],\n",
       "       [1.13113339],\n",
       "       [0.37682493]])"
      ]
     },
     "execution_count": 105,
     "metadata": {},
     "output_type": "execute_result"
    }
   ],
   "source": [
    "b"
   ]
  },
  {
   "cell_type": "code",
   "execution_count": 81,
   "metadata": {},
   "outputs": [],
   "source": [
    "y_hat = X.dot(b)"
   ]
  },
  {
   "cell_type": "code",
   "execution_count": 97,
   "metadata": {},
   "outputs": [],
   "source": [
    "ee = (y - y_hat).T.dot((y - y_hat))\n",
    "ee_ = y.T.dot(y) - y.T.dot(X.dot(b))\n",
    "ss = ee/(50-3)"
   ]
  },
  {
   "cell_type": "code",
   "execution_count": 110,
   "metadata": {},
   "outputs": [
    {
     "data": {
      "text/plain": [
       "array([[ 0.83621222, -0.11545052, -0.04713622],\n",
       "       [-0.11545052,  0.96550967,  0.05108081],\n",
       "       [-0.04713622,  0.05108081,  0.19353153]])"
      ]
     },
     "execution_count": 110,
     "metadata": {},
     "output_type": "execute_result"
    }
   ],
   "source": [
    "# LS渐进方差\n",
    "ss*XX_1"
   ]
  },
  {
   "cell_type": "code",
   "execution_count": 112,
   "metadata": {},
   "outputs": [],
   "source": [
    "e = (y - y_hat)\n",
    "e2 = e**2"
   ]
  },
  {
   "cell_type": "code",
   "execution_count": 121,
   "metadata": {
    "scrolled": true
   },
   "outputs": [],
   "source": [
    "Sigma = np.diag(e2.T[0])"
   ]
  },
  {
   "cell_type": "code",
   "execution_count": 123,
   "metadata": {},
   "outputs": [
    {
     "data": {
      "text/plain": [
       "array([[ 0.524589  ,  0.07657756,  0.39921812],\n",
       "       [ 0.07657756,  0.28236567, -0.09160837],\n",
       "       [ 0.39921812, -0.09160837,  1.14447365]])"
      ]
     },
     "execution_count": 123,
     "metadata": {},
     "output_type": "execute_result"
    }
   ],
   "source": [
    "# 怀特\n",
    "XX_1.dot(X.T.dot(Sigma).dot(X)).dot(XX_1)"
   ]
  },
  {
   "cell_type": "code",
   "execution_count": 136,
   "metadata": {},
   "outputs": [],
   "source": [
    "Z = np.array([l,x1,x2,x1*x1,x2*x2,x1*x2]).T[0]"
   ]
  },
  {
   "cell_type": "code",
   "execution_count": 178,
   "metadata": {},
   "outputs": [
    {
     "data": {
      "text/plain": [
       "array([[-15.3892919 ],\n",
       "       [  6.01464244],\n",
       "       [  3.85210952],\n",
       "       [  0.63369965],\n",
       "       [ 12.36653952],\n",
       "       [  8.38187321]])"
      ]
     },
     "execution_count": 178,
     "metadata": {},
     "output_type": "execute_result"
    }
   ],
   "source": [
    "theta = np.linalg.inv(Z.T.dot(Z)).dot(Z.T).dot(e2)\n",
    "theta"
   ]
  },
  {
   "cell_type": "code",
   "execution_count": 147,
   "metadata": {},
   "outputs": [
    {
     "data": {
      "text/plain": [
       "array([[39.14823773]])"
      ]
     },
     "execution_count": 147,
     "metadata": {},
     "output_type": "execute_result"
    }
   ],
   "source": [
    "# nRsquare - 怀特\n",
    "(1-(e2-Z.dot(theta)).T.dot((e2-Z.dot(theta)))/(e2-e2.mean()).T.dot((e2-e2.mean())))*50"
   ]
  },
  {
   "cell_type": "code",
   "execution_count": 179,
   "metadata": {},
   "outputs": [
    {
     "data": {
      "text/plain": [
       "array([[0.78296475]])"
      ]
     },
     "execution_count": 179,
     "metadata": {},
     "output_type": "execute_result"
    }
   ],
   "source": [
    "(1-(e2-Z.dot(theta)).T.dot((e2-Z.dot(theta)))/(e2-e2.mean()).T.dot((e2-e2.mean())))"
   ]
  },
  {
   "cell_type": "code",
   "execution_count": 174,
   "metadata": {},
   "outputs": [
    {
     "data": {
      "text/plain": [
       "array([[14.20873389]])"
      ]
     },
     "execution_count": 174,
     "metadata": {},
     "output_type": "execute_result"
    }
   ],
   "source": [
    "# pagan nRsquare\n",
    "pgtheta = np.linalg.inv(X.T.dot(X)).dot(X.T.dot(e2))\n",
    "\n",
    "(1-(e2-X.dot(pgtheta)).T.dot((e2-X.dot(pgtheta)))/(e2-e2.mean()).T.dot((e2-e2.mean())))*50"
   ]
  },
  {
   "cell_type": "code",
   "execution_count": 180,
   "metadata": {},
   "outputs": [
    {
     "data": {
      "text/plain": [
       "array([[30.93532912],\n",
       "       [ 4.37168605],\n",
       "       [31.76839617]])"
      ]
     },
     "execution_count": 180,
     "metadata": {},
     "output_type": "execute_result"
    }
   ],
   "source": [
    "pgtheta"
   ]
  },
  {
   "cell_type": "code",
   "execution_count": 148,
   "metadata": {},
   "outputs": [],
   "source": [
    "# 2step FGLS\n",
    "lne2 = np.log(e2)"
   ]
  },
  {
   "cell_type": "code",
   "execution_count": 181,
   "metadata": {},
   "outputs": [
    {
     "data": {
      "text/plain": [
       "array([[0.88469897],\n",
       "       [0.72533694],\n",
       "       [0.20020115]])"
      ]
     },
     "execution_count": 181,
     "metadata": {},
     "output_type": "execute_result"
    }
   ],
   "source": [
    "gamma"
   ]
  },
  {
   "cell_type": "code",
   "execution_count": 161,
   "metadata": {},
   "outputs": [],
   "source": [
    "gamma = np.linalg.inv(X.T.dot(X)).dot(X.T).dot(lne2)\n",
    "e2_hat = np.exp(X.dot(gamma))"
   ]
  },
  {
   "cell_type": "code",
   "execution_count": 162,
   "metadata": {},
   "outputs": [
    {
     "data": {
      "text/plain": [
       "array([[0.16662621],\n",
       "       [0.77648745],\n",
       "       [0.847177  ]])"
      ]
     },
     "execution_count": 162,
     "metadata": {},
     "output_type": "execute_result"
    }
   ],
   "source": [
    "Sigma_hat = np.diag(e2_hat.T[0])\n",
    "Sigma_hat_1 = np.linalg.inv(Sigma_hat)\n",
    "np.linalg.inv(X.T.dot(Sigma_hat_1).dot(X)).dot(X.T.dot(Sigma_hat_1)).dot(y)"
   ]
  },
  {
   "cell_type": "code",
   "execution_count": null,
   "metadata": {},
   "outputs": [],
   "source": []
  }
 ],
 "metadata": {
  "kernelspec": {
   "display_name": "Python 3",
   "language": "python",
   "name": "python3"
  },
  "language_info": {
   "codemirror_mode": {
    "name": "ipython",
    "version": 3
   },
   "file_extension": ".py",
   "mimetype": "text/x-python",
   "name": "python",
   "nbconvert_exporter": "python",
   "pygments_lexer": "ipython3",
   "version": "3.7.3"
  },
  "toc": {
   "base_numbering": 1,
   "nav_menu": {},
   "number_sections": true,
   "sideBar": true,
   "skip_h1_title": false,
   "title_cell": "Table of Contents",
   "title_sidebar": "Contents",
   "toc_cell": false,
   "toc_position": {},
   "toc_section_display": true,
   "toc_window_display": false
  }
 },
 "nbformat": 4,
 "nbformat_minor": 2
}
