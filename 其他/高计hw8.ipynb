{
 "cells": [
  {
   "cell_type": "code",
   "execution_count": 1,
   "metadata": {},
   "outputs": [],
   "source": [
    "import numpy as np"
   ]
  },
  {
   "cell_type": "code",
   "execution_count": 2,
   "metadata": {},
   "outputs": [],
   "source": [
    "x1z = np.array([[-0.5,1.5,0.5,-1],\n",
    "                [0,2,0,0],\n",
    "                [0,0,1,0]])\n",
    "\n",
    "zx1 = x1z.T"
   ]
  },
  {
   "cell_type": "code",
   "execution_count": 7,
   "metadata": {},
   "outputs": [],
   "source": [
    "x2z = np.array([[2,1,-3,-5],\n",
    "                [3,0,0,0],\n",
    "                [0,0,0,0.5]])\n",
    "\n",
    "zx2 = x2z.T"
   ]
  },
  {
   "cell_type": "code",
   "execution_count": 8,
   "metadata": {},
   "outputs": [],
   "source": [
    "zz = np.diag([3,2,1,0.5])"
   ]
  },
  {
   "cell_type": "code",
   "execution_count": 9,
   "metadata": {},
   "outputs": [],
   "source": [
    "zy1 = np.array([[2],\n",
    "               [1],\n",
    "               [-3],\n",
    "               [-5]])\n",
    "zy2 = np.array([[-0.5],\n",
    "               [3/2],\n",
    "               [0.5],\n",
    "               [-1]])"
   ]
  },
  {
   "cell_type": "code",
   "execution_count": 13,
   "metadata": {},
   "outputs": [
    {
     "data": {
      "text/plain": [
       "array([[ 4.64],\n",
       "       [-2.98],\n",
       "       [-5.32]])"
      ]
     },
     "execution_count": 13,
     "metadata": {},
     "output_type": "execute_result"
    }
   ],
   "source": [
    "b1=np.linalg.inv(x1z.dot(np.linalg.inv(zz)).dot(zx1)).dot(x1z).dot(np.linalg.inv(zz)).dot(zy1)\n",
    "b1"
   ]
  },
  {
   "cell_type": "code",
   "execution_count": 14,
   "metadata": {},
   "outputs": [
    {
     "data": {
      "text/plain": [
       "array([[-0.07894737],\n",
       "       [-0.11403509],\n",
       "       [-2.78947368]])"
      ]
     },
     "execution_count": 14,
     "metadata": {},
     "output_type": "execute_result"
    }
   ],
   "source": [
    "b2=np.linalg.inv(x2z.dot(np.linalg.inv(zz)).dot(zx2)).dot(x2z).dot(np.linalg.inv(zz)).dot(zy2)\n",
    "b2"
   ]
  },
  {
   "cell_type": "code",
   "execution_count": 15,
   "metadata": {},
   "outputs": [],
   "source": [
    "x1y1 = np.array([[-4],\n",
    "               [1],\n",
    "               [-3]])\n",
    "x2y2 = np.array([[-4],\n",
    "                 [-1/2],\n",
    "                 [-1]])"
   ]
  },
  {
   "cell_type": "code",
   "execution_count": 17,
   "metadata": {},
   "outputs": [],
   "source": [
    "x1x1=np.array([[5,1.5,0.5],\n",
    "                [1.5,2,0],\n",
    "                [0.5,0,1]])\n",
    "x2x2=np.array([[80,2,-5],\n",
    "                [2,3,0],\n",
    "                [-5,0,0.5]])"
   ]
  },
  {
   "cell_type": "code",
   "execution_count": 25,
   "metadata": {},
   "outputs": [
    {
     "data": {
      "text/plain": [
       "array([[ 0.48, -0.36, -0.24],\n",
       "       [-0.36,  0.77,  0.18],\n",
       "       [-0.24,  0.18,  1.12]])"
      ]
     },
     "execution_count": 25,
     "metadata": {},
     "output_type": "execute_result"
    }
   ],
   "source": [
    "sigma1 = np.linalg.inv(x1z.dot(np.linalg.inv(zz)).dot(zx1))\n",
    "sigma1"
   ]
  },
  {
   "cell_type": "code",
   "execution_count": 26,
   "metadata": {},
   "outputs": [
    {
     "data": {
      "text/plain": [
       "array([[1.787048]])"
      ]
     },
     "execution_count": 26,
     "metadata": {},
     "output_type": "execute_result"
    }
   ],
   "source": [
    "s1 = (80+b1.T.dot(x1x1).dot(b1)-2*b1.T.dot(x1y1))/100\n",
    "s1"
   ]
  },
  {
   "cell_type": "code",
   "execution_count": 29,
   "metadata": {},
   "outputs": [
    {
     "data": {
      "text/plain": [
       "array([[ 0.85778304, -0.64333728, -0.42889152],\n",
       "       [-0.64333728,  1.37602696,  0.32166864],\n",
       "       [-0.42889152,  0.32166864,  2.00149376]])"
      ]
     },
     "execution_count": 29,
     "metadata": {},
     "output_type": "execute_result"
    }
   ],
   "source": [
    "sigma1*s1"
   ]
  },
  {
   "cell_type": "code",
   "execution_count": 34,
   "metadata": {},
   "outputs": [
    {
     "data": {
      "text/plain": [
       "array([0.92616577, 1.17304176, 1.41474159])"
      ]
     },
     "execution_count": 34,
     "metadata": {},
     "output_type": "execute_result"
    }
   ],
   "source": [
    "np.diag(sigma1*s1)**0.5"
   ]
  },
  {
   "cell_type": "code",
   "execution_count": 30,
   "metadata": {},
   "outputs": [
    {
     "data": {
      "text/plain": [
       "array([[ 0.10526316, -0.07017544,  1.05263158],\n",
       "       [-0.07017544,  0.38011696, -0.70175439],\n",
       "       [ 1.05263158, -0.70175439, 12.52631579]])"
      ]
     },
     "execution_count": 30,
     "metadata": {},
     "output_type": "execute_result"
    }
   ],
   "source": [
    "sigma2 = np.linalg.inv(x2z.dot(np.linalg.inv(zz)).dot(zx2))\n",
    "sigma2"
   ]
  },
  {
   "cell_type": "code",
   "execution_count": 31,
   "metadata": {},
   "outputs": [
    {
     "data": {
      "text/plain": [
       "array([[0.00937442]])"
      ]
     },
     "execution_count": 31,
     "metadata": {},
     "output_type": "execute_result"
    }
   ],
   "source": [
    "s2 = (5+b2.T.dot(x2x2).dot(b2)-2*b2.T.dot(x2y2))/100\n",
    "s2"
   ]
  },
  {
   "cell_type": "code",
   "execution_count": 32,
   "metadata": {},
   "outputs": [
    {
     "data": {
      "text/plain": [
       "array([[ 0.00098678, -0.00065785,  0.00986781],\n",
       "       [-0.00065785,  0.00356338, -0.00657854],\n",
       "       [ 0.00986781, -0.00657854,  0.11742698]])"
      ]
     },
     "execution_count": 32,
     "metadata": {},
     "output_type": "execute_result"
    }
   ],
   "source": [
    "sigma2*s2"
   ]
  },
  {
   "cell_type": "code",
   "execution_count": 35,
   "metadata": {},
   "outputs": [
    {
     "data": {
      "text/plain": [
       "array([0.03141308, 0.05969403, 0.34267621])"
      ]
     },
     "execution_count": 35,
     "metadata": {},
     "output_type": "execute_result"
    }
   ],
   "source": [
    "np.diag(sigma2*s2)**0.5"
   ]
  },
  {
   "cell_type": "code",
   "execution_count": null,
   "metadata": {},
   "outputs": [],
   "source": []
  }
 ],
 "metadata": {
  "kernelspec": {
   "display_name": "Python 3",
   "language": "python",
   "name": "python3"
  },
  "language_info": {
   "codemirror_mode": {
    "name": "ipython",
    "version": 3
   },
   "file_extension": ".py",
   "mimetype": "text/x-python",
   "name": "python",
   "nbconvert_exporter": "python",
   "pygments_lexer": "ipython3",
   "version": "3.7.3"
  },
  "toc": {
   "base_numbering": 1,
   "nav_menu": {},
   "number_sections": true,
   "sideBar": true,
   "skip_h1_title": false,
   "title_cell": "Table of Contents",
   "title_sidebar": "Contents",
   "toc_cell": false,
   "toc_position": {},
   "toc_section_display": true,
   "toc_window_display": false
  }
 },
 "nbformat": 4,
 "nbformat_minor": 2
}
