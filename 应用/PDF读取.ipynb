{
 "cells": [
  {
   "cell_type": "code",
   "execution_count": 17,
   "metadata": {},
   "outputs": [
    {
     "name": "stdout",
     "output_type": "stream",
     "text": [
      "｡\n",
      "\n",
      "筹资活动产生的现金流量净额同比减少 113.12%，主要是本期新增借款减少，而利息支出同比增加所致｡\n",
      "\n",
      "废水：无；废气：\n",
      "NOX：\n",
      "0.36mg/m³；\n",
      "SO2：\n",
      "0.084mg/m³\n",
      "\n",
      "肇庆市鼎湖区莲花镇大㘵村蛇岗\n",
      "\n"
     ]
    }
   ],
   "source": [
    "# -*- coding: utf-8 -*-\n",
    "from pdfminer.pdfparser import PDFParser\n",
    "from pdfminer.pdfdocument import PDFDocument\n",
    "from pdfminer.pdfpage import PDFPage\n",
    "from pdfminer.pdfpage import PDFTextExtractionNotAllowed\n",
    "from pdfminer.pdfinterp import PDFResourceManager\n",
    "from pdfminer.pdfinterp import PDFPageInterpreter\n",
    "from pdfminer.pdfdevice import PDFDevice\n",
    "from pdfminer.layout import *\n",
    "from pdfminer.converter import PDFPageAggregator\n",
    "\n",
    "def Pdf2Txt(Path,Save_name):\n",
    "    #来创建一个pdf文档分析器\n",
    "    parser = PDFParser(Path)\n",
    "    #创建一个PDF文档对象存储文档结构\n",
    "    document = PDFDocument(parser)\n",
    "    # 检查文件是否允许文本提取\n",
    "    if not document.is_extractable:\n",
    "        raise PDFTextExtractionNotAllowed\n",
    "    else:\n",
    "        # 创建一个PDF资源管理器对象来存储共赏资源\n",
    "        rsrcmgr=PDFResourceManager()\n",
    "        # 设定参数进行分析\n",
    "        laparams=LAParams()\n",
    "        # 创建一个PDF设备对象\n",
    "        # device=PDFDevice(rsrcmgr)\n",
    "        device=PDFPageAggregator(rsrcmgr,laparams=laparams)\n",
    "        # 创建一个PDF解释器对象\n",
    "        interpreter=PDFPageInterpreter(rsrcmgr,device)\n",
    "        # 处理每一页\n",
    "        for page in PDFPage.create_pages(document):\n",
    "            interpreter.process_page(page)\n",
    "            # 接受该页面的LTPage对象\n",
    "            layout=device.get_result()\n",
    "            for x in layout:\n",
    "                if(isinstance(x,LTTextBoxHorizontal)):\n",
    "                    with open('%s'%(Save_name),'a') as f:\n",
    "                        try:\n",
    "                            f.write(x.get_text())\n",
    "                        except:\n",
    "                            print(x.get_text())\n",
    "\n",
    "Path = open('温氏2018.pdf', 'rb')\n",
    "Pdf2Txt(Path,'b.txt')"
   ]
  },
  {
   "cell_type": "code",
   "execution_count": 26,
   "metadata": {},
   "outputs": [
    {
     "data": {
      "text/plain": [
       "'温氏食品集团股份有限公司 2018 年年度报告全文\\n\\n证券代码：300498\\n\\n'"
      ]
     },
     "execution_count": 26,
     "metadata": {},
     "output_type": "execute_result"
    }
   ],
   "source": [
    "str(b'\\xce\\xc2\\xca\\xcf\\xca\\xb3\\xc6\\xb7\\xbc\\xaf\\xcd\\xc5\\xb9\\xc9\\xb7\\xdd\\xd3\\xd0\\xcf\\xde\\xb9\\xab\\xcb\\xbe 2018 \\xc4\\xea\\xc4\\xea\\xb6\\xc8\\xb1\\xa8\\xb8\\xe6\\xc8\\xab\\xce\\xc4\\n\\n'b'\\xd6\\xa4\\xc8\\xaf\\xb4\\xfa\\xc2\\xeb\\xa3\\xba300498\\n\\n', encoding=\"gbk\")"
   ]
  },
  {
   "cell_type": "code",
   "execution_count": null,
   "metadata": {},
   "outputs": [],
   "source": []
  }
 ],
 "metadata": {
  "kernelspec": {
   "display_name": "Python 3",
   "language": "python",
   "name": "python3"
  },
  "language_info": {
   "codemirror_mode": {
    "name": "ipython",
    "version": 3
   },
   "file_extension": ".py",
   "mimetype": "text/x-python",
   "name": "python",
   "nbconvert_exporter": "python",
   "pygments_lexer": "ipython3",
   "version": "3.7.3"
  },
  "toc": {
   "base_numbering": 1,
   "nav_menu": {},
   "number_sections": true,
   "sideBar": true,
   "skip_h1_title": false,
   "title_cell": "Table of Contents",
   "title_sidebar": "Contents",
   "toc_cell": false,
   "toc_position": {},
   "toc_section_display": true,
   "toc_window_display": false
  }
 },
 "nbformat": 4,
 "nbformat_minor": 2
}
