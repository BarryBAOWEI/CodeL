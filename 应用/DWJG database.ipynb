{
 "cells": [
  {
   "cell_type": "code",
   "execution_count": 1,
   "metadata": {},
   "outputs": [],
   "source": [
    "# -*- coding: utf-8 -*-\n",
    "import re\n",
    "import urllib\n",
    "import cx_Oracle\n",
    "import urllib.request\n",
    "import os\n",
    "import pandas as pd\n",
    "\n",
    "os.environ['NLS_LANG']='SIMPLIFIED CHINESE_CHINA.UTF8'\n",
    "dwzx_oracle_ip = '222.92.214.61'\n",
    "dwzx_oracle_port = 20001\n",
    "dwzx_oracle_SID = 'sidwdzx1'\n",
    "dsn_tns = cx_Oracle.makedsn(dwzx_oracle_ip, dwzx_oracle_port, dwzx_oracle_SID)\n",
    "db1 = cx_Oracle.connect('sjcj','dwzqsjcj',dsn_tns )\n",
    "\n",
    "# cursor=db1.cursor()\n",
    "# cursor.execute(\"select * from wind.AShareMoneyFlow where trade_dt='20190307'\")\n",
    "# cursor.execute(\"select column_name  from all_tab_cols where Table_Name='wind.AShareMoneyFlow'\")\n",
    "# row=cursor.fetchall()\n",
    "# db1.close\n",
    "# result=pd.DataFrame(row)"
   ]
  },
  {
   "cell_type": "code",
   "execution_count": 2,
   "metadata": {},
   "outputs": [
    {
     "data": {
      "text/plain": [
       "'\\nwind.AShareMoneyFlow 资金流量数据\\n'"
      ]
     },
     "execution_count": 2,
     "metadata": {},
     "output_type": "execute_result"
    }
   ],
   "source": [
    "'''\n",
    "wind.AShareMoneyFlow 资金流量数据\n",
    "'''"
   ]
  },
  {
   "cell_type": "code",
   "execution_count": 2,
   "metadata": {
    "scrolled": true
   },
   "outputs": [
    {
     "ename": "KeyboardInterrupt",
     "evalue": "",
     "output_type": "error",
     "traceback": [
      "\u001b[1;31m---------------------------------------------------------------------------\u001b[0m",
      "\u001b[1;31mOperationalError\u001b[0m                          Traceback (most recent call last)",
      "\u001b[1;32mF:\\Anaconda\\lib\\site-packages\\IPython\\core\\interactiveshell.py\u001b[0m in \u001b[0;36mrun_code\u001b[1;34m(self, code_obj, result, async_)\u001b[0m\n\u001b[0;32m   3295\u001b[0m                 \u001b[1;32melse\u001b[0m\u001b[1;33m:\u001b[0m\u001b[1;33m\u001b[0m\u001b[1;33m\u001b[0m\u001b[0m\n\u001b[1;32m-> 3296\u001b[1;33m                     \u001b[0mexec\u001b[0m\u001b[1;33m(\u001b[0m\u001b[0mcode_obj\u001b[0m\u001b[1;33m,\u001b[0m \u001b[0mself\u001b[0m\u001b[1;33m.\u001b[0m\u001b[0muser_global_ns\u001b[0m\u001b[1;33m,\u001b[0m \u001b[0mself\u001b[0m\u001b[1;33m.\u001b[0m\u001b[0muser_ns\u001b[0m\u001b[1;33m)\u001b[0m\u001b[1;33m\u001b[0m\u001b[1;33m\u001b[0m\u001b[0m\n\u001b[0m\u001b[0;32m   3297\u001b[0m             \u001b[1;32mfinally\u001b[0m\u001b[1;33m:\u001b[0m\u001b[1;33m\u001b[0m\u001b[1;33m\u001b[0m\u001b[0m\n",
      "\u001b[1;32m<ipython-input-2-0da812569110>\u001b[0m in \u001b[0;36m<module>\u001b[1;34m\u001b[0m\n\u001b[0;32m     15\u001b[0m     \u001b[0mSQL\u001b[0m \u001b[1;33m=\u001b[0m \u001b[1;34m\"select * from wind.AShareMoneyFlow where trade_dt>=\"\u001b[0m\u001b[1;33m+\u001b[0m\u001b[0mstart\u001b[0m\u001b[1;33m+\u001b[0m\u001b[1;34m\" and trade_dt<=\"\u001b[0m\u001b[1;33m+\u001b[0m\u001b[0mend\u001b[0m\u001b[1;33m\u001b[0m\u001b[1;33m\u001b[0m\u001b[0m\n\u001b[1;32m---> 16\u001b[1;33m     \u001b[0mcursor\u001b[0m\u001b[1;33m.\u001b[0m\u001b[0mexecute\u001b[0m\u001b[1;33m(\u001b[0m\u001b[0mSQL\u001b[0m\u001b[1;33m)\u001b[0m\u001b[1;33m\u001b[0m\u001b[1;33m\u001b[0m\u001b[0m\n\u001b[0m\u001b[0;32m     17\u001b[0m     \u001b[0mcol_name_list\u001b[0m \u001b[1;33m=\u001b[0m \u001b[1;33m[\u001b[0m\u001b[0mi\u001b[0m\u001b[1;33m[\u001b[0m\u001b[1;36m0\u001b[0m\u001b[1;33m]\u001b[0m \u001b[1;32mfor\u001b[0m \u001b[0mi\u001b[0m \u001b[1;32min\u001b[0m \u001b[0mcursor\u001b[0m\u001b[1;33m.\u001b[0m\u001b[0mdescription\u001b[0m\u001b[1;33m]\u001b[0m\u001b[1;33m\u001b[0m\u001b[1;33m\u001b[0m\u001b[0m\n",
      "\u001b[1;31mOperationalError\u001b[0m: ORA-03113: 通信通道的文件结尾\n进程 ID: 186201\n会话 ID: 813 序列号: 13037",
      "\nDuring handling of the above exception, another exception occurred:\n",
      "\u001b[1;31mKeyboardInterrupt\u001b[0m                         Traceback (most recent call last)",
      "\u001b[1;31mKeyboardInterrupt\u001b[0m: "
     ]
    }
   ],
   "source": [
    "os.environ['NLS_LANG']='SIMPLIFIED CHINESE_CHINA.UTF8'\n",
    "dwzx_oracle_ip = '222.92.214.61'\n",
    "dwzx_oracle_port = 20001\n",
    "dwzx_oracle_SID = 'sidwdzx1'\n",
    "dsn_tns = cx_Oracle.makedsn(dwzx_oracle_ip, dwzx_oracle_port, dwzx_oracle_SID)\n",
    "db1 = cx_Oracle.connect('sjcj','dwzqsjcj',dsn_tns )\n",
    "cursor = db1.cursor()\n",
    "\n",
    "save_df = pd.DataFrame(columns=['S_INFO_WINDCODE','TRADE_DT'])\n",
    "year_list = range(2019,2020)\n",
    "for cnt in range(len(year_list)):\n",
    "    year = year_list[cnt]\n",
    "    start = str(year)+'0101'\n",
    "    end = str(year)+'1231'\n",
    "    SQL = \"select * from wind.AShareMoneyFlow where trade_dt>=\"+start+\" and trade_dt<=\"+end\n",
    "    cursor.execute(SQL)\n",
    "    col_name_list = [i[0] for i in cursor.description]\n",
    "    row = cursor.fetchall()\n",
    "    result = pd.DataFrame(row)\n",
    "    if len(result) == 0:\n",
    "        print(year,'NoData')\n",
    "        continue\n",
    "    result.columns = col_name_list\n",
    "    save_df = save_df.merge(result,on=['S_INFO_WINDCODE','TRADE_DT'],how='outer')\n",
    "    save_df.to_csv('D:/DWDB/AShareMoneyFlow.csv',index=False)\n",
    "    print(year,'Finish')\n",
    "\n",
    "db1.close"
   ]
  },
  {
   "cell_type": "markdown",
   "metadata": {},
   "source": [
    "# 新取用数据"
   ]
  },
  {
   "cell_type": "code",
   "execution_count": null,
   "metadata": {},
   "outputs": [],
   "source": [
    "'''\n",
    "wind.AShareEODPrices 每日行情数据 Downloading-OK\n",
    "wind.AShareIPO 中国A股首次公开发行数据 Downloading-OK\n",
    "wind.AShareTradingSuspension 中国A股停复牌信息 Downloading-OK\n",
    "wind.AShareEODDerivativeIndicator 每日估值指标数据 Downloading-OK\n",
    "wind.AShareIndustriesClassCITICS 中信行业分类 Downloading-OK\n",
    "wind.AIndexHS300FreeWeight 沪深300免费指数权重 Downloading-OK\n",
    "wind.AshareConsensusRollingData 一致预测个股滚动指标\n",
    "wind.AShareFinancialIndicator 中国A股财务指标 Downloading-OK\n",
    "wind.AShareTTMAndMRQ 中国A股TTM与MRQ\n",
    "wind.AShareST 中国A股特别处理 Downloading-OK\n",
    "wind.AIndexEODPrices 中国A股指数日行情 Downloading-OK\n",
    "wind.AIndexMembers 中国A股指数成份股 Downloading-OK\n",
    "wind.AShareDividend 中国A股分红\n",
    "wind.AShareEarningEst 中国A股盈利预测明细 Downloading-OK\n",
    "\n",
    "wind.AShareYield A股收益率\n",
    "\n",
    "wind.AShareBalanceSheet 中国A股资产负债表 Downloading-OK\n",
    "wind.AShareIncome 中国A股利润表 Downloading-OK\n",
    "wind.AShareCashFlow 中国A股现金流量表 Downloading-OK\n",
    "\n",
    "wind.AShareCalendar 中国A股交易日历 Downloading-OK\n",
    "wind.AShareMoneyflow 中国A股资金流向数据\n",
    "wind.AShareL2Indicators 中国A股Level2指标\n",
    "'''"
   ]
  },
  {
   "cell_type": "code",
   "execution_count": 2,
   "metadata": {},
   "outputs": [],
   "source": [
    "name = 'AShareMoneyflow'"
   ]
  },
  {
   "cell_type": "code",
   "execution_count": 3,
   "metadata": {},
   "outputs": [],
   "source": [
    "save_df = pd.DataFrame()"
   ]
  },
  {
   "cell_type": "code",
   "execution_count": 23,
   "metadata": {
    "scrolled": false
   },
   "outputs": [],
   "source": [
    "save_df = pd.read_csv('D:/DWDB/%s.csv'%name)"
   ]
  },
  {
   "cell_type": "code",
   "execution_count": 4,
   "metadata": {
    "scrolled": true
   },
   "outputs": [
    {
     "name": "stdout",
     "output_type": "stream",
     "text": [
      "2005 NoData\n",
      "2006 Finish\n",
      "2007 Finish\n",
      "2008 Finish\n",
      "2009 Finish\n",
      "2010 Finish\n",
      "2011 Finish\n",
      "2012 Finish\n",
      "2013 Finish\n",
      "2014 Finish\n",
      "2015 Finish\n",
      "2016 Finish\n",
      "2017 Finish\n",
      "2018 Finish\n",
      "2019 Finish\n"
     ]
    }
   ],
   "source": [
    "# 提取交易日相关数据\n",
    "year_list = range(2005,2020)\n",
    "for cnt in range(len(year_list)):\n",
    "    \n",
    "    ## 连接数据库 ##\n",
    "    os.environ['NLS_LANG']='SIMPLIFIED CHINESE_CHINA.UTF8'\n",
    "    dwzx_oracle_ip = '222.92.214.61'\n",
    "    dwzx_oracle_port = 20001\n",
    "    dwzx_oracle_SID = 'sidwdzx1'\n",
    "    dsn_tns = cx_Oracle.makedsn(dwzx_oracle_ip, dwzx_oracle_port, dwzx_oracle_SID)\n",
    "    db1 = cx_Oracle.connect('sjcj','dwzqsjcj',dsn_tns )\n",
    "    cursor=db1.cursor()\n",
    "    ################\n",
    "    \n",
    "    year = year_list[cnt]\n",
    "    start = str(year)+'0101'\n",
    "    end = str(year)+'1231'\n",
    "    SQL = \"select * from wind.%s where trade_dt>=\"%(name)+start+\" and trade_dt<=\"+end\n",
    "    cursor.execute(SQL)\n",
    "    col_name_list = [i[0] for i in cursor.description]\n",
    "    row = cursor.fetchall()\n",
    "    \n",
    "    ## 断开连接 ##\n",
    "    db1.close\n",
    "    ##############\n",
    "    \n",
    "    result = pd.DataFrame(row)\n",
    "    if len(result) == 0:\n",
    "        print(year,'NoData')\n",
    "        continue\n",
    "    result.columns = col_name_list\n",
    "    save_df = pd.concat([save_df,result],axis=0)\n",
    "    print(year,'Finish')"
   ]
  },
  {
   "cell_type": "code",
   "execution_count": 5,
   "metadata": {},
   "outputs": [],
   "source": [
    "save_df.to_csv('D:/DWDB/%s.csv'%(name),index=False)"
   ]
  },
  {
   "cell_type": "code",
   "execution_count": 16,
   "metadata": {
    "scrolled": true
   },
   "outputs": [
    {
     "name": "stdout",
     "output_type": "stream",
     "text": [
      "2005 Finish\n",
      "2006 Finish\n",
      "2007 Finish\n",
      "2008 Finish\n",
      "2009 Finish\n",
      "2010 Finish\n",
      "2011 Finish\n",
      "2012 Finish\n",
      "2013 Finish\n",
      "2014 Finish\n",
      "2015 Finish\n",
      "2016 Finish\n",
      "2017 Finish\n",
      "2018 Finish\n",
      "2019 Finish\n"
     ]
    }
   ],
   "source": [
    "# 提取非交易日相关与日历日相关数据\n",
    "year_list = range(2005,2020)\n",
    "for cnt in range(len(year_list)):\n",
    "    \n",
    "    ## 连接数据库 ##\n",
    "    os.environ['NLS_LANG']='SIMPLIFIED CHINESE_CHINA.UTF8'\n",
    "    dwzx_oracle_ip = '222.92.214.61'\n",
    "    dwzx_oracle_port = 20001\n",
    "    dwzx_oracle_SID = 'sidwdzx1'\n",
    "    dsn_tns = cx_Oracle.makedsn(dwzx_oracle_ip, dwzx_oracle_port, dwzx_oracle_SID)\n",
    "    db1 = cx_Oracle.connect('sjcj','dwzqsjcj',dsn_tns )\n",
    "    cursor=db1.cursor()\n",
    "    ################\n",
    "    \n",
    "    year = year_list[cnt]\n",
    "    start = str(year)+'0101'\n",
    "    end = str(year)+'1231'\n",
    "    SQL = \"select * from wind.%s where est_dt>=\"%(name)+start+\" and est_dt<=\"+end\n",
    "    cursor.execute(SQL)\n",
    "    col_name_list = [i[0] for i in cursor.description]\n",
    "    row = cursor.fetchall()\n",
    "    \n",
    "    ## 断开连接 ##\n",
    "    db1.close\n",
    "    ##############\n",
    "    \n",
    "    result = pd.DataFrame(row)\n",
    "    if len(result) == 0:\n",
    "        print(year,'NoData')\n",
    "        continue\n",
    "    result.columns = col_name_list\n",
    "    save_df = pd.concat([save_df,result],axis=0)\n",
    "    print(year,'Finish')"
   ]
  },
  {
   "cell_type": "code",
   "execution_count": 30,
   "metadata": {
    "scrolled": true
   },
   "outputs": [
    {
     "ename": "DatabaseError",
     "evalue": "DPI-1062: unexpected OCI return value 1041 in function dpiLob_readBytes",
     "output_type": "error",
     "traceback": [
      "\u001b[1;31m---------------------------------------------------------------------------\u001b[0m",
      "\u001b[1;31mDatabaseError\u001b[0m                             Traceback (most recent call last)",
      "\u001b[1;32m<ipython-input-30-883bf4aacebe>\u001b[0m in \u001b[0;36m<module>\u001b[1;34m\u001b[0m\n\u001b[1;32m----> 1\u001b[1;33m \u001b[0msave_df\u001b[0m\u001b[1;33m.\u001b[0m\u001b[0mto_csv\u001b[0m\u001b[1;33m(\u001b[0m\u001b[1;34m'D:/DWDB/%s.csv'\u001b[0m\u001b[1;33m%\u001b[0m\u001b[1;33m(\u001b[0m\u001b[0mname\u001b[0m\u001b[1;33m)\u001b[0m\u001b[1;33m,\u001b[0m\u001b[0mindex\u001b[0m\u001b[1;33m=\u001b[0m\u001b[1;32mFalse\u001b[0m\u001b[1;33m)\u001b[0m\u001b[1;33m\u001b[0m\u001b[1;33m\u001b[0m\u001b[0m\n\u001b[0m",
      "\u001b[1;32mF:\\Anaconda\\lib\\site-packages\\pandas\\core\\generic.py\u001b[0m in \u001b[0;36mto_csv\u001b[1;34m(self, path_or_buf, sep, na_rep, float_format, columns, header, index, index_label, mode, encoding, compression, quoting, quotechar, line_terminator, chunksize, tupleize_cols, date_format, doublequote, escapechar, decimal)\u001b[0m\n\u001b[0;32m   3018\u001b[0m                                  \u001b[0mdoublequote\u001b[0m\u001b[1;33m=\u001b[0m\u001b[0mdoublequote\u001b[0m\u001b[1;33m,\u001b[0m\u001b[1;33m\u001b[0m\u001b[1;33m\u001b[0m\u001b[0m\n\u001b[0;32m   3019\u001b[0m                                  escapechar=escapechar, decimal=decimal)\n\u001b[1;32m-> 3020\u001b[1;33m         \u001b[0mformatter\u001b[0m\u001b[1;33m.\u001b[0m\u001b[0msave\u001b[0m\u001b[1;33m(\u001b[0m\u001b[1;33m)\u001b[0m\u001b[1;33m\u001b[0m\u001b[1;33m\u001b[0m\u001b[0m\n\u001b[0m\u001b[0;32m   3021\u001b[0m \u001b[1;33m\u001b[0m\u001b[0m\n\u001b[0;32m   3022\u001b[0m         \u001b[1;32mif\u001b[0m \u001b[0mpath_or_buf\u001b[0m \u001b[1;32mis\u001b[0m \u001b[1;32mNone\u001b[0m\u001b[1;33m:\u001b[0m\u001b[1;33m\u001b[0m\u001b[1;33m\u001b[0m\u001b[0m\n",
      "\u001b[1;32mF:\\Anaconda\\lib\\site-packages\\pandas\\io\\formats\\csvs.py\u001b[0m in \u001b[0;36msave\u001b[1;34m(self)\u001b[0m\n\u001b[0;32m    170\u001b[0m                 \u001b[0mself\u001b[0m\u001b[1;33m.\u001b[0m\u001b[0mwriter\u001b[0m \u001b[1;33m=\u001b[0m \u001b[0mUnicodeWriter\u001b[0m\u001b[1;33m(\u001b[0m\u001b[0mf\u001b[0m\u001b[1;33m,\u001b[0m \u001b[1;33m**\u001b[0m\u001b[0mwriter_kwargs\u001b[0m\u001b[1;33m)\u001b[0m\u001b[1;33m\u001b[0m\u001b[1;33m\u001b[0m\u001b[0m\n\u001b[0;32m    171\u001b[0m \u001b[1;33m\u001b[0m\u001b[0m\n\u001b[1;32m--> 172\u001b[1;33m             \u001b[0mself\u001b[0m\u001b[1;33m.\u001b[0m\u001b[0m_save\u001b[0m\u001b[1;33m(\u001b[0m\u001b[1;33m)\u001b[0m\u001b[1;33m\u001b[0m\u001b[1;33m\u001b[0m\u001b[0m\n\u001b[0m\u001b[0;32m    173\u001b[0m \u001b[1;33m\u001b[0m\u001b[0m\n\u001b[0;32m    174\u001b[0m         \u001b[1;32mfinally\u001b[0m\u001b[1;33m:\u001b[0m\u001b[1;33m\u001b[0m\u001b[1;33m\u001b[0m\u001b[0m\n",
      "\u001b[1;32mF:\\Anaconda\\lib\\site-packages\\pandas\\io\\formats\\csvs.py\u001b[0m in \u001b[0;36m_save\u001b[1;34m(self)\u001b[0m\n\u001b[0;32m    286\u001b[0m                 \u001b[1;32mbreak\u001b[0m\u001b[1;33m\u001b[0m\u001b[1;33m\u001b[0m\u001b[0m\n\u001b[0;32m    287\u001b[0m \u001b[1;33m\u001b[0m\u001b[0m\n\u001b[1;32m--> 288\u001b[1;33m             \u001b[0mself\u001b[0m\u001b[1;33m.\u001b[0m\u001b[0m_save_chunk\u001b[0m\u001b[1;33m(\u001b[0m\u001b[0mstart_i\u001b[0m\u001b[1;33m,\u001b[0m \u001b[0mend_i\u001b[0m\u001b[1;33m)\u001b[0m\u001b[1;33m\u001b[0m\u001b[1;33m\u001b[0m\u001b[0m\n\u001b[0m\u001b[0;32m    289\u001b[0m \u001b[1;33m\u001b[0m\u001b[0m\n\u001b[0;32m    290\u001b[0m     \u001b[1;32mdef\u001b[0m \u001b[0m_save_chunk\u001b[0m\u001b[1;33m(\u001b[0m\u001b[0mself\u001b[0m\u001b[1;33m,\u001b[0m \u001b[0mstart_i\u001b[0m\u001b[1;33m,\u001b[0m \u001b[0mend_i\u001b[0m\u001b[1;33m)\u001b[0m\u001b[1;33m:\u001b[0m\u001b[1;33m\u001b[0m\u001b[1;33m\u001b[0m\u001b[0m\n",
      "\u001b[1;32mF:\\Anaconda\\lib\\site-packages\\pandas\\io\\formats\\csvs.py\u001b[0m in \u001b[0;36m_save_chunk\u001b[1;34m(self, start_i, end_i)\u001b[0m\n\u001b[0;32m    313\u001b[0m \u001b[1;33m\u001b[0m\u001b[0m\n\u001b[0;32m    314\u001b[0m         libwriters.write_csv_rows(self.data, ix, self.nlevels,\n\u001b[1;32m--> 315\u001b[1;33m                                   self.cols, self.writer)\n\u001b[0m",
      "\u001b[1;32mpandas/_libs/writers.pyx\u001b[0m in \u001b[0;36mpandas._libs.writers.write_csv_rows\u001b[1;34m()\u001b[0m\n",
      "\u001b[1;31mDatabaseError\u001b[0m: DPI-1062: unexpected OCI return value 1041 in function dpiLob_readBytes"
     ]
    }
   ],
   "source": [
    "save_df.to_csv('D:/DWDB/%s.csv'%(name),index=False)"
   ]
  },
  {
   "cell_type": "code",
   "execution_count": 98,
   "metadata": {},
   "outputs": [
    {
     "name": "stdout",
     "output_type": "stream",
     "text": [
      "Finish\n"
     ]
    },
    {
     "data": {
      "text/plain": [
       "<function Connection.close>"
      ]
     },
     "execution_count": 98,
     "metadata": {},
     "output_type": "execute_result"
    }
   ],
   "source": [
    "# 提取非交易日相关数据\n",
    "os.environ['NLS_LANG']='SIMPLIFIED CHINESE_CHINA.UTF8'\n",
    "dwzx_oracle_ip = '222.92.214.61'\n",
    "dwzx_oracle_port = 20001\n",
    "dwzx_oracle_SID = 'sidwdzx1'\n",
    "dsn_tns = cx_Oracle.makedsn(dwzx_oracle_ip, dwzx_oracle_port, dwzx_oracle_SID)\n",
    "db1 = cx_Oracle.connect('sjcj','dwzqsjcj',dsn_tns )\n",
    "cursor=db1.cursor()\n",
    "\n",
    "SQL = \"select * from wind.%s\"%(name)\n",
    "cursor.execute(SQL)\n",
    "col_name_list = [i[0] for i in cursor.description]\n",
    "row = cursor.fetchall()\n",
    "result = pd.DataFrame(row)\n",
    "result.columns = col_name_list\n",
    "save_df = pd.concat([save_df,result],axis=0)\n",
    "save_df.to_csv('D:/DWDB/%s.csv'%(name),index=False)\n",
    "print('Finish')\n",
    "\n",
    "db1.close"
   ]
  },
  {
   "cell_type": "code",
   "execution_count": 99,
   "metadata": {},
   "outputs": [],
   "source": [
    "save_df.to_csv('D:/DWDB/%s.csv'%(name),index=False)"
   ]
  },
  {
   "cell_type": "markdown",
   "metadata": {},
   "source": [
    "# 原始取用数据"
   ]
  },
  {
   "cell_type": "code",
   "execution_count": null,
   "metadata": {},
   "outputs": [],
   "source": [
    "'''\n",
    "wind.AShareL2Indicators level2行情指标\n",
    "'''"
   ]
  },
  {
   "cell_type": "code",
   "execution_count": 8,
   "metadata": {},
   "outputs": [
    {
     "name": "stdout",
     "output_type": "stream",
     "text": [
      "2019 Finish\n"
     ]
    },
    {
     "data": {
      "text/plain": [
       "<function Connection.close>"
      ]
     },
     "execution_count": 8,
     "metadata": {},
     "output_type": "execute_result"
    }
   ],
   "source": [
    "os.environ['NLS_LANG']='SIMPLIFIED CHINESE_CHINA.UTF8'\n",
    "dwzx_oracle_ip = '222.92.214.61'\n",
    "dwzx_oracle_port = 20001\n",
    "dwzx_oracle_SID = 'sidwdzx1'\n",
    "dsn_tns = cx_Oracle.makedsn(dwzx_oracle_ip, dwzx_oracle_port, dwzx_oracle_SID)\n",
    "db1 = cx_Oracle.connect('sjcj','dwzqsjcj',dsn_tns )\n",
    "cursor=db1.cursor()\n",
    "\n",
    "save_df = pd.DataFrame(columns=['S_INFO_WINDCODE','TRADE_DT'])\n",
    "year_list = range(2019,2020)\n",
    "for cnt in range(len(year_list)):\n",
    "    year = year_list[cnt]\n",
    "    start = str(year)+'0101'\n",
    "    end = str(year)+'1231'\n",
    "    SQL = \"select * from wind.AShareL2Indicators where trade_dt>=\"+start+\" and trade_dt<=\"+end\n",
    "    cursor.execute(SQL)\n",
    "    col_name_list = [i[0] for i in cursor.description]\n",
    "    row = cursor.fetchall()\n",
    "    result = pd.DataFrame(row)\n",
    "    if len(result) == 0:\n",
    "        print(year,'NoData')\n",
    "        continue\n",
    "    result.columns = col_name_list\n",
    "    save_df = save_df.merge(result,on=['S_INFO_WINDCODE','TRADE_DT'],how='outer')\n",
    "    save_df.to_csv('D:/DWDB/AShareL2Indicators.csv',index=False)\n",
    "    print(year,'Finish')\n",
    "\n",
    "db1.close"
   ]
  },
  {
   "cell_type": "code",
   "execution_count": null,
   "metadata": {},
   "outputs": [],
   "source": [
    "'''\n",
    "wind.AShareL2Indicators 停牌信息\n",
    "'''"
   ]
  },
  {
   "cell_type": "code",
   "execution_count": 9,
   "metadata": {},
   "outputs": [
    {
     "ename": "DatabaseError",
     "evalue": "ORA-00904: \"TRADE_DT\": 标识符无效",
     "output_type": "error",
     "traceback": [
      "\u001b[1;31m---------------------------------------------------------------------------\u001b[0m",
      "\u001b[1;31mDatabaseError\u001b[0m                             Traceback (most recent call last)",
      "\u001b[1;32m<ipython-input-9-55bb38882329>\u001b[0m in \u001b[0;36m<module>\u001b[1;34m()\u001b[0m\n\u001b[0;32m     14\u001b[0m     \u001b[0mend\u001b[0m \u001b[1;33m=\u001b[0m \u001b[0mstr\u001b[0m\u001b[1;33m(\u001b[0m\u001b[0myear\u001b[0m\u001b[1;33m)\u001b[0m\u001b[1;33m+\u001b[0m\u001b[1;34m'1231'\u001b[0m\u001b[1;33m\u001b[0m\u001b[0m\n\u001b[0;32m     15\u001b[0m     \u001b[0mSQL\u001b[0m \u001b[1;33m=\u001b[0m \u001b[1;34m\"select * from wind.AShareTradingSuspension where trade_dt>=\"\u001b[0m\u001b[1;33m+\u001b[0m\u001b[0mstart\u001b[0m\u001b[1;33m+\u001b[0m\u001b[1;34m\" and trade_dt<=\"\u001b[0m\u001b[1;33m+\u001b[0m\u001b[0mend\u001b[0m\u001b[1;33m\u001b[0m\u001b[0m\n\u001b[1;32m---> 16\u001b[1;33m     \u001b[0mcursor\u001b[0m\u001b[1;33m.\u001b[0m\u001b[0mexecute\u001b[0m\u001b[1;33m(\u001b[0m\u001b[0mSQL\u001b[0m\u001b[1;33m)\u001b[0m\u001b[1;33m\u001b[0m\u001b[0m\n\u001b[0m\u001b[0;32m     17\u001b[0m     \u001b[0mcol_name_list\u001b[0m \u001b[1;33m=\u001b[0m \u001b[1;33m[\u001b[0m\u001b[0mi\u001b[0m\u001b[1;33m[\u001b[0m\u001b[1;36m0\u001b[0m\u001b[1;33m]\u001b[0m \u001b[1;32mfor\u001b[0m \u001b[0mi\u001b[0m \u001b[1;32min\u001b[0m \u001b[0mcursor\u001b[0m\u001b[1;33m.\u001b[0m\u001b[0mdescription\u001b[0m\u001b[1;33m]\u001b[0m\u001b[1;33m\u001b[0m\u001b[0m\n\u001b[0;32m     18\u001b[0m     \u001b[0mrow\u001b[0m \u001b[1;33m=\u001b[0m \u001b[0mcursor\u001b[0m\u001b[1;33m.\u001b[0m\u001b[0mfetchall\u001b[0m\u001b[1;33m(\u001b[0m\u001b[1;33m)\u001b[0m\u001b[1;33m\u001b[0m\u001b[0m\n",
      "\u001b[1;31mDatabaseError\u001b[0m: ORA-00904: \"TRADE_DT\": 标识符无效"
     ]
    }
   ],
   "source": [
    "os.environ['NLS_LANG']='SIMPLIFIED CHINESE_CHINA.UTF8'\n",
    "dwzx_oracle_ip = '222.92.214.61'\n",
    "dwzx_oracle_port = 20001\n",
    "dwzx_oracle_SID = 'sidwdzx1'\n",
    "dsn_tns = cx_Oracle.makedsn(dwzx_oracle_ip, dwzx_oracle_port, dwzx_oracle_SID)\n",
    "db1 = cx_Oracle.connect('sjcj','dwzqsjcj',dsn_tns )\n",
    "cursor=db1.cursor()\n",
    "\n",
    "save_df = pd.DataFrame(columns=['S_INFO_WINDCODE','TRADE_DT'])\n",
    "year_list = range(2005,2020)\n",
    "for cnt in range(len(year_list)):\n",
    "    year = year_list[cnt]\n",
    "    start = str(year)+'0101'\n",
    "    end = str(year)+'1231'\n",
    "    SQL = \"select * from wind.AShareTradingSuspension where trade_dt>=\"+start+\" and trade_dt<=\"+end\n",
    "    cursor.execute(SQL)\n",
    "    col_name_list = [i[0] for i in cursor.description]\n",
    "    row = cursor.fetchall()\n",
    "    result = pd.DataFrame(row)\n",
    "    if len(result) == 0:\n",
    "        print(year,'NoData')\n",
    "        continue\n",
    "    result.columns = col_name_list\n",
    "    save_df = save_df.merge(result,on=['S_INFO_WINDCODE','TRADE_DT'],how='outer')\n",
    "    save_df.to_csv('D:/DWDB/AShareTradingSuspension.csv',index=False)\n",
    "    print(year,'Finish')\n",
    "\n",
    "db1.close"
   ]
  },
  {
   "cell_type": "code",
   "execution_count": null,
   "metadata": {},
   "outputs": [],
   "source": []
  },
  {
   "cell_type": "code",
   "execution_count": null,
   "metadata": {},
   "outputs": [],
   "source": []
  },
  {
   "cell_type": "code",
   "execution_count": 1,
   "metadata": {},
   "outputs": [],
   "source": [
    "# -*- coding: utf-8 -*-\n",
    "import numpy as np\n",
    "import pandas as pd\n",
    "from pandas import Series,DataFrame\n",
    "import re\n",
    "import urllib\n",
    "import cx_Oracle\n",
    "import urllib.request\n",
    "import os\n",
    "import pandas as pd\n",
    "os.environ['NLS_LANG']='SIMPLIFIED CHINESE_CHINA.UTF8'\n",
    "dwzx_oracle_ip = '222.92.214.61'\n",
    "dwzx_oracle_port = 20001\n",
    "dwzx_oracle_SID = 'sidwdzx1'\n",
    "dsn_tns = cx_Oracle.makedsn(dwzx_oracle_ip, dwzx_oracle_port, dwzx_oracle_SID)\n",
    "db1 = cx_Oracle.connect('sjcj','dwzqsjcj',dsn_tns )\n",
    "os.environ['NLS_LANG']='SIMPLIFIED CHINESE_CHINA.UTF8'\n",
    "dwzx_oracle_ip = '222.92.214.61'\n",
    "dwzx_oracle_port = 20001\n",
    "dwzx_oracle_SID = 'sidwdzx1'\n",
    "dsn_tns = cx_Oracle.makedsn(dwzx_oracle_ip, dwzx_oracle_port, dwzx_oracle_SID)"
   ]
  },
  {
   "cell_type": "code",
   "execution_count": 7,
   "metadata": {
    "scrolled": true
   },
   "outputs": [
    {
     "ename": "FileNotFoundError",
     "evalue": "[Errno 2] No such file or directory: 'C:/Users/Administrator/Desktop/AShareEODPrices.csv'",
     "output_type": "error",
     "traceback": [
      "\u001b[1;31m---------------------------------------------------------------------------\u001b[0m",
      "\u001b[1;31mFileNotFoundError\u001b[0m                         Traceback (most recent call last)",
      "\u001b[1;32m<ipython-input-7-e23be1d842af>\u001b[0m in \u001b[0;36m<module>\u001b[1;34m\u001b[0m\n\u001b[0;32m     17\u001b[0m     \u001b[0mresult\u001b[0m\u001b[1;33m.\u001b[0m\u001b[0mcolumns\u001b[0m \u001b[1;33m=\u001b[0m \u001b[0mcol_name_list\u001b[0m\u001b[1;33m\u001b[0m\u001b[1;33m\u001b[0m\u001b[0m\n\u001b[0;32m     18\u001b[0m     \u001b[0msave_df\u001b[0m \u001b[1;33m=\u001b[0m \u001b[0msave_df\u001b[0m\u001b[1;33m.\u001b[0m\u001b[0mmerge\u001b[0m\u001b[1;33m(\u001b[0m\u001b[0mresult\u001b[0m\u001b[1;33m,\u001b[0m\u001b[0mon\u001b[0m\u001b[1;33m=\u001b[0m\u001b[1;33m[\u001b[0m\u001b[1;34m'S_INFO_WINDCODE'\u001b[0m\u001b[1;33m,\u001b[0m\u001b[1;34m'TRADE_DT'\u001b[0m\u001b[1;33m]\u001b[0m\u001b[1;33m,\u001b[0m\u001b[0mhow\u001b[0m\u001b[1;33m=\u001b[0m\u001b[1;34m'outer'\u001b[0m\u001b[1;33m)\u001b[0m\u001b[1;33m\u001b[0m\u001b[1;33m\u001b[0m\u001b[0m\n\u001b[1;32m---> 19\u001b[1;33m     \u001b[0msave_df\u001b[0m\u001b[1;33m.\u001b[0m\u001b[0mto_csv\u001b[0m\u001b[1;33m(\u001b[0m\u001b[1;34m'C:/Users/Administrator/Desktop/AShareEODPrices.csv'\u001b[0m\u001b[1;33m,\u001b[0m\u001b[0mindex\u001b[0m\u001b[1;33m=\u001b[0m\u001b[1;32mFalse\u001b[0m\u001b[1;33m)\u001b[0m\u001b[1;33m\u001b[0m\u001b[1;33m\u001b[0m\u001b[0m\n\u001b[0m\u001b[0;32m     20\u001b[0m     \u001b[0mprint\u001b[0m\u001b[1;33m(\u001b[0m\u001b[0myear\u001b[0m\u001b[1;33m,\u001b[0m\u001b[1;34m'Finish'\u001b[0m\u001b[1;33m)\u001b[0m\u001b[1;33m\u001b[0m\u001b[1;33m\u001b[0m\u001b[0m\n\u001b[0;32m     21\u001b[0m \u001b[1;33m\u001b[0m\u001b[0m\n",
      "\u001b[1;32mF:\\Anaconda\\lib\\site-packages\\pandas\\core\\generic.py\u001b[0m in \u001b[0;36mto_csv\u001b[1;34m(self, path_or_buf, sep, na_rep, float_format, columns, header, index, index_label, mode, encoding, compression, quoting, quotechar, line_terminator, chunksize, tupleize_cols, date_format, doublequote, escapechar, decimal)\u001b[0m\n\u001b[0;32m   3018\u001b[0m                                  \u001b[0mdoublequote\u001b[0m\u001b[1;33m=\u001b[0m\u001b[0mdoublequote\u001b[0m\u001b[1;33m,\u001b[0m\u001b[1;33m\u001b[0m\u001b[1;33m\u001b[0m\u001b[0m\n\u001b[0;32m   3019\u001b[0m                                  escapechar=escapechar, decimal=decimal)\n\u001b[1;32m-> 3020\u001b[1;33m         \u001b[0mformatter\u001b[0m\u001b[1;33m.\u001b[0m\u001b[0msave\u001b[0m\u001b[1;33m(\u001b[0m\u001b[1;33m)\u001b[0m\u001b[1;33m\u001b[0m\u001b[1;33m\u001b[0m\u001b[0m\n\u001b[0m\u001b[0;32m   3021\u001b[0m \u001b[1;33m\u001b[0m\u001b[0m\n\u001b[0;32m   3022\u001b[0m         \u001b[1;32mif\u001b[0m \u001b[0mpath_or_buf\u001b[0m \u001b[1;32mis\u001b[0m \u001b[1;32mNone\u001b[0m\u001b[1;33m:\u001b[0m\u001b[1;33m\u001b[0m\u001b[1;33m\u001b[0m\u001b[0m\n",
      "\u001b[1;32mF:\\Anaconda\\lib\\site-packages\\pandas\\io\\formats\\csvs.py\u001b[0m in \u001b[0;36msave\u001b[1;34m(self)\u001b[0m\n\u001b[0;32m    155\u001b[0m             f, handles = _get_handle(self.path_or_buf, self.mode,\n\u001b[0;32m    156\u001b[0m                                      \u001b[0mencoding\u001b[0m\u001b[1;33m=\u001b[0m\u001b[0mself\u001b[0m\u001b[1;33m.\u001b[0m\u001b[0mencoding\u001b[0m\u001b[1;33m,\u001b[0m\u001b[1;33m\u001b[0m\u001b[1;33m\u001b[0m\u001b[0m\n\u001b[1;32m--> 157\u001b[1;33m                                      compression=self.compression)\n\u001b[0m\u001b[0;32m    158\u001b[0m             \u001b[0mclose\u001b[0m \u001b[1;33m=\u001b[0m \u001b[1;32mTrue\u001b[0m\u001b[1;33m\u001b[0m\u001b[1;33m\u001b[0m\u001b[0m\n\u001b[0;32m    159\u001b[0m \u001b[1;33m\u001b[0m\u001b[0m\n",
      "\u001b[1;32mF:\\Anaconda\\lib\\site-packages\\pandas\\io\\common.py\u001b[0m in \u001b[0;36m_get_handle\u001b[1;34m(path_or_buf, mode, encoding, compression, memory_map, is_text)\u001b[0m\n\u001b[0;32m    422\u001b[0m         \u001b[1;32melif\u001b[0m \u001b[0mencoding\u001b[0m\u001b[1;33m:\u001b[0m\u001b[1;33m\u001b[0m\u001b[1;33m\u001b[0m\u001b[0m\n\u001b[0;32m    423\u001b[0m             \u001b[1;31m# Python 3 and encoding\u001b[0m\u001b[1;33m\u001b[0m\u001b[1;33m\u001b[0m\u001b[1;33m\u001b[0m\u001b[0m\n\u001b[1;32m--> 424\u001b[1;33m             \u001b[0mf\u001b[0m \u001b[1;33m=\u001b[0m \u001b[0mopen\u001b[0m\u001b[1;33m(\u001b[0m\u001b[0mpath_or_buf\u001b[0m\u001b[1;33m,\u001b[0m \u001b[0mmode\u001b[0m\u001b[1;33m,\u001b[0m \u001b[0mencoding\u001b[0m\u001b[1;33m=\u001b[0m\u001b[0mencoding\u001b[0m\u001b[1;33m,\u001b[0m \u001b[0mnewline\u001b[0m\u001b[1;33m=\u001b[0m\u001b[1;34m\"\"\u001b[0m\u001b[1;33m)\u001b[0m\u001b[1;33m\u001b[0m\u001b[1;33m\u001b[0m\u001b[0m\n\u001b[0m\u001b[0;32m    425\u001b[0m         \u001b[1;32melif\u001b[0m \u001b[0mis_text\u001b[0m\u001b[1;33m:\u001b[0m\u001b[1;33m\u001b[0m\u001b[1;33m\u001b[0m\u001b[0m\n\u001b[0;32m    426\u001b[0m             \u001b[1;31m# Python 3 and no explicit encoding\u001b[0m\u001b[1;33m\u001b[0m\u001b[1;33m\u001b[0m\u001b[1;33m\u001b[0m\u001b[0m\n",
      "\u001b[1;31mFileNotFoundError\u001b[0m: [Errno 2] No such file or directory: 'C:/Users/Administrator/Desktop/AShareEODPrices.csv'"
     ]
    }
   ],
   "source": [
    "db1 = cx_Oracle.connect('sjcj','dwzqsjcj',dsn_tns )\n",
    "cursor = db1.cursor()\n",
    "save_df = pd.DataFrame(columns=['S_INFO_WINDCODE','TRADE_DT'])\n",
    "year_list = range(2016,2017)\n",
    "for cnt in range(len(year_list)):\n",
    "    year = year_list[cnt]\n",
    "    start = str(year)+'0101'\n",
    "    end = str(year)+'0228'\n",
    "    SQL = \"select s_info_windcode,trade_dt,s_dq_mv from wind.ASWSIndexEOD where trade_dt>=\"+start+\" and trade_dt<=\"+end\n",
    "    cursor.execute(SQL)\n",
    "    col_name_list = [i[0] for i in cursor.description]\n",
    "    row = cursor.fetchall()\n",
    "    result = pd.DataFrame(row)\n",
    "    if len(result) == 0:\n",
    "        print(year,'NoData')\n",
    "        continue\n",
    "    result.columns = col_name_list\n",
    "    save_df = save_df.merge(result,on=['S_INFO_WINDCODE','TRADE_DT'],how='outer')\n",
    "    save_df.to_csv('C:/Users/Administrator/Desktop/AShareEODPrices.csv',index=False)\n",
    "    print(year,'Finish')\n",
    "\n",
    "db1.close"
   ]
  },
  {
   "cell_type": "code",
   "execution_count": 12,
   "metadata": {},
   "outputs": [
    {
     "ename": "DatabaseError",
     "evalue": "ORA-00942: 表或视图不存在",
     "output_type": "error",
     "traceback": [
      "\u001b[1;31m---------------------------------------------------------------------------\u001b[0m",
      "\u001b[1;31mDatabaseError\u001b[0m                             Traceback (most recent call last)",
      "\u001b[1;32m<ipython-input-12-7bb68dea1a4d>\u001b[0m in \u001b[0;36m<module>\u001b[1;34m\u001b[0m\n\u001b[0;32m      8\u001b[0m     \u001b[0mend\u001b[0m \u001b[1;33m=\u001b[0m \u001b[0mstr\u001b[0m\u001b[1;33m(\u001b[0m\u001b[0myear\u001b[0m\u001b[1;33m)\u001b[0m\u001b[1;33m+\u001b[0m\u001b[1;34m'0228'\u001b[0m\u001b[1;33m\u001b[0m\u001b[1;33m\u001b[0m\u001b[0m\n\u001b[0;32m      9\u001b[0m     \u001b[0mSQL\u001b[0m \u001b[1;33m=\u001b[0m \u001b[1;34m\"select * from wind.AIndexSSE50Weight where trade_dt>=\"\u001b[0m\u001b[1;33m+\u001b[0m\u001b[0mstart\u001b[0m\u001b[1;33m+\u001b[0m\u001b[1;34m\" and trade_dt<=\"\u001b[0m\u001b[1;33m+\u001b[0m\u001b[0mend\u001b[0m\u001b[1;33m\u001b[0m\u001b[1;33m\u001b[0m\u001b[0m\n\u001b[1;32m---> 10\u001b[1;33m     \u001b[0mcursor\u001b[0m\u001b[1;33m.\u001b[0m\u001b[0mexecute\u001b[0m\u001b[1;33m(\u001b[0m\u001b[0mSQL\u001b[0m\u001b[1;33m)\u001b[0m\u001b[1;33m\u001b[0m\u001b[1;33m\u001b[0m\u001b[0m\n\u001b[0m\u001b[0;32m     11\u001b[0m     \u001b[0mcol_name_list\u001b[0m \u001b[1;33m=\u001b[0m \u001b[1;33m[\u001b[0m\u001b[0mi\u001b[0m\u001b[1;33m[\u001b[0m\u001b[1;36m0\u001b[0m\u001b[1;33m]\u001b[0m \u001b[1;32mfor\u001b[0m \u001b[0mi\u001b[0m \u001b[1;32min\u001b[0m \u001b[0mcursor\u001b[0m\u001b[1;33m.\u001b[0m\u001b[0mdescription\u001b[0m\u001b[1;33m]\u001b[0m\u001b[1;33m\u001b[0m\u001b[1;33m\u001b[0m\u001b[0m\n\u001b[0;32m     12\u001b[0m     \u001b[0mrow\u001b[0m \u001b[1;33m=\u001b[0m \u001b[0mcursor\u001b[0m\u001b[1;33m.\u001b[0m\u001b[0mfetchall\u001b[0m\u001b[1;33m(\u001b[0m\u001b[1;33m)\u001b[0m\u001b[1;33m\u001b[0m\u001b[1;33m\u001b[0m\u001b[0m\n",
      "\u001b[1;31mDatabaseError\u001b[0m: ORA-00942: 表或视图不存在"
     ]
    }
   ],
   "source": [
    "db1 = cx_Oracle.connect('sjcj','dwzqsjcj',dsn_tns )\n",
    "cursor = db1.cursor()\n",
    "save_df = pd.DataFrame(columns=['S_INFO_WINDCODE','TRADE_DT'])\n",
    "year_list = range(2016,2017)\n",
    "for cnt in range(len(year_list)):\n",
    "    year = year_list[cnt]\n",
    "    start = str(year)+'0101'\n",
    "    end = str(year)+'0228'\n",
    "    SQL = \"select * from wind.AIndexSSE50Weight where trade_dt>=\"+start+\" and trade_dt<=\"+end\n",
    "    cursor.execute(SQL)\n",
    "    col_name_list = [i[0] for i in cursor.description]\n",
    "    row = cursor.fetchall()\n",
    "    result = pd.DataFrame(row)\n",
    "    if len(result) == 0:\n",
    "        print(year,'NoData')\n",
    "        continue\n",
    "    result.columns = col_name_list\n",
    "    save_df = save_df.merge(result,on=['S_INFO_WINDCODE','TRADE_DT'],how='outer')\n",
    "    save_df.to_csv('C:/Users/Administrator/Desktop/AShareEODPrices.csv',index=False)\n",
    "    print(year,'Finish')\n",
    "\n",
    "db1.close"
   ]
  },
  {
   "cell_type": "code",
   "execution_count": null,
   "metadata": {},
   "outputs": [],
   "source": []
  }
 ],
 "metadata": {
  "kernelspec": {
   "display_name": "Python 3",
   "language": "python",
   "name": "python3"
  },
  "language_info": {
   "codemirror_mode": {
    "name": "ipython",
    "version": 3
   },
   "file_extension": ".py",
   "mimetype": "text/x-python",
   "name": "python",
   "nbconvert_exporter": "python",
   "pygments_lexer": "ipython3",
   "version": "3.7.3"
  },
  "toc": {
   "base_numbering": 1,
   "nav_menu": {},
   "number_sections": true,
   "sideBar": true,
   "skip_h1_title": false,
   "title_cell": "Table of Contents",
   "title_sidebar": "Contents",
   "toc_cell": false,
   "toc_position": {
    "height": "calc(100% - 180px)",
    "left": "10px",
    "top": "150px",
    "width": "298px"
   },
   "toc_section_display": true,
   "toc_window_display": true
  }
 },
 "nbformat": 4,
 "nbformat_minor": 2
}
