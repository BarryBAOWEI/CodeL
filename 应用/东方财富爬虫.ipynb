{
 "cells": [
  {
   "cell_type": "code",
   "execution_count": 2,
   "metadata": {},
   "outputs": [],
   "source": [
    "import requests\n",
    "import math\n",
    "import csv\n",
    "import os\n",
    "import re"
   ]
  },
  {
   "cell_type": "code",
   "execution_count": null,
   "metadata": {},
   "outputs": [],
   "source": [
    "query = {\n",
    "                'pageNum': ''\n",
    "                ,'pageSize': MAX_PAGESIZE\n",
    "                ,'tabName': 'fulltext'\n",
    "                ,'column': 'sse'\n",
    "                ,'stock': ''\n",
    "                ,'searchkey': ''\n",
    "                ,'secid': ''\n",
    "                ,'plate': 'shmb'\n",
    "                ,'category': 'category_ndbg_szsh;'\n",
    "                ,'trade': trade\n",
    "                ,'seDate': seDate\n",
    "            }\n",
    "r = requests.get(URL, query, HEADER, timeout=RESPONSE_TIMEOUT)\n",
    "my_query = r.json()\n",
    "total_page_num = math.ceil(my_query['totalAnnouncement']/MAX_PAGESIZE)"
   ]
  },
  {
   "cell_type": "code",
   "execution_count": 49,
   "metadata": {},
   "outputs": [],
   "source": [
    "query = {'cb': 'datatable3579504'\n",
    ",'industryCode': '*'\n",
    ",'pageSize': '10000'\n",
    ",'industry': '*'\n",
    ",'rating': '*'\n",
    ",'ratingChange': '*'\n",
    ",'beginTime': '2017-11-30'\n",
    ",'endTime': '2019-11-30'\n",
    ",'pageNo': '1200'\n",
    ",'fields': ''\n",
    ",'qType': '0'\n",
    ",'orgCode': ''\n",
    ",'code': '*'\n",
    ",'rcode': ''\n",
    ",'_': '1575045020228'}"
   ]
  },
  {
   "cell_type": "code",
   "execution_count": 50,
   "metadata": {
    "scrolled": false
   },
   "outputs": [
    {
     "data": {
      "text/plain": [
       "'datatable3579504({\"hits\":64418,\"size\":0,\"data\":[],\"TotalPage\":645,\"pageNo\":1200,\"currentYear\":2019})'"
      ]
     },
     "execution_count": 50,
     "metadata": {},
     "output_type": "execute_result"
    }
   ],
   "source": [
    "URL = 'http://reportapi.eastmoney.com/report/list?'\n",
    "r = requests.get(URL,query)\n",
    "r.text"
   ]
  },
  {
   "cell_type": "code",
   "execution_count": null,
   "metadata": {},
   "outputs": [],
   "source": []
  }
 ],
 "metadata": {
  "kernelspec": {
   "display_name": "Python 3",
   "language": "python",
   "name": "python3"
  },
  "language_info": {
   "codemirror_mode": {
    "name": "ipython",
    "version": 3
   },
   "file_extension": ".py",
   "mimetype": "text/x-python",
   "name": "python",
   "nbconvert_exporter": "python",
   "pygments_lexer": "ipython3",
   "version": "3.7.3"
  },
  "toc": {
   "base_numbering": 1,
   "nav_menu": {},
   "number_sections": true,
   "sideBar": true,
   "skip_h1_title": false,
   "title_cell": "Table of Contents",
   "title_sidebar": "Contents",
   "toc_cell": false,
   "toc_position": {},
   "toc_section_display": true,
   "toc_window_display": false
  }
 },
 "nbformat": 4,
 "nbformat_minor": 2
}
